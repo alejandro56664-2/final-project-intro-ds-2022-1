{
  "nbformat": 4,
  "nbformat_minor": 0,
  "metadata": {
    "colab": {
      "name": "intro-to-ds-4-da.ipynb",
      "provenance": []
    },
    "kernelspec": {
      "name": "python3",
      "display_name": "Python 3"
    },
    "language_info": {
      "name": "python"
    },
    "accelerator": "GPU",
    "gpuClass": "standard",
    "widgets": {
      "application/vnd.jupyter.widget-state+json": {
        "e3fd2c89ba9f4d61a4744028d476a51f": {
          "model_module": "@jupyter-widgets/controls",
          "model_name": "HBoxModel",
          "model_module_version": "1.5.0",
          "state": {
            "_dom_classes": [],
            "_model_module": "@jupyter-widgets/controls",
            "_model_module_version": "1.5.0",
            "_model_name": "HBoxModel",
            "_view_count": null,
            "_view_module": "@jupyter-widgets/controls",
            "_view_module_version": "1.5.0",
            "_view_name": "HBoxView",
            "box_style": "",
            "children": [
              "IPY_MODEL_a3ae91610b074a8ba799b351102d7158",
              "IPY_MODEL_5f595cbe63e54e70815d091e641a3a74",
              "IPY_MODEL_fc143c60c1f74ac4b374d49079141489"
            ],
            "layout": "IPY_MODEL_aa25eb346e894f1d93260cb501017042"
          }
        },
        "a3ae91610b074a8ba799b351102d7158": {
          "model_module": "@jupyter-widgets/controls",
          "model_name": "HTMLModel",
          "model_module_version": "1.5.0",
          "state": {
            "_dom_classes": [],
            "_model_module": "@jupyter-widgets/controls",
            "_model_module_version": "1.5.0",
            "_model_name": "HTMLModel",
            "_view_count": null,
            "_view_module": "@jupyter-widgets/controls",
            "_view_module_version": "1.5.0",
            "_view_name": "HTMLView",
            "description": "",
            "description_tooltip": null,
            "layout": "IPY_MODEL_b9877a3582e5459491efa9f34018b7ea",
            "placeholder": "​",
            "style": "IPY_MODEL_544674451a0e40fe91afbc8ba6bd820b",
            "value": "Downloading: 100%"
          }
        },
        "5f595cbe63e54e70815d091e641a3a74": {
          "model_module": "@jupyter-widgets/controls",
          "model_name": "FloatProgressModel",
          "model_module_version": "1.5.0",
          "state": {
            "_dom_classes": [],
            "_model_module": "@jupyter-widgets/controls",
            "_model_module_version": "1.5.0",
            "_model_name": "FloatProgressModel",
            "_view_count": null,
            "_view_module": "@jupyter-widgets/controls",
            "_view_module_version": "1.5.0",
            "_view_name": "ProgressView",
            "bar_style": "success",
            "description": "",
            "description_tooltip": null,
            "layout": "IPY_MODEL_372d71ebeaf7470f9f21a243823878ee",
            "max": 504,
            "min": 0,
            "orientation": "horizontal",
            "style": "IPY_MODEL_03500e8ad3e34d4a97efd1d580e5e329",
            "value": 504
          }
        },
        "fc143c60c1f74ac4b374d49079141489": {
          "model_module": "@jupyter-widgets/controls",
          "model_name": "HTMLModel",
          "model_module_version": "1.5.0",
          "state": {
            "_dom_classes": [],
            "_model_module": "@jupyter-widgets/controls",
            "_model_module_version": "1.5.0",
            "_model_name": "HTMLModel",
            "_view_count": null,
            "_view_module": "@jupyter-widgets/controls",
            "_view_module_version": "1.5.0",
            "_view_name": "HTMLView",
            "description": "",
            "description_tooltip": null,
            "layout": "IPY_MODEL_f6fbd01c0393495080e7052a8f6d0d6d",
            "placeholder": "​",
            "style": "IPY_MODEL_34ac6cdf2eb64935a2dbdb3477ab687a",
            "value": " 504/504 [00:00&lt;00:00, 5.79kB/s]"
          }
        },
        "aa25eb346e894f1d93260cb501017042": {
          "model_module": "@jupyter-widgets/base",
          "model_name": "LayoutModel",
          "model_module_version": "1.2.0",
          "state": {
            "_model_module": "@jupyter-widgets/base",
            "_model_module_version": "1.2.0",
            "_model_name": "LayoutModel",
            "_view_count": null,
            "_view_module": "@jupyter-widgets/base",
            "_view_module_version": "1.2.0",
            "_view_name": "LayoutView",
            "align_content": null,
            "align_items": null,
            "align_self": null,
            "border": null,
            "bottom": null,
            "display": null,
            "flex": null,
            "flex_flow": null,
            "grid_area": null,
            "grid_auto_columns": null,
            "grid_auto_flow": null,
            "grid_auto_rows": null,
            "grid_column": null,
            "grid_gap": null,
            "grid_row": null,
            "grid_template_areas": null,
            "grid_template_columns": null,
            "grid_template_rows": null,
            "height": null,
            "justify_content": null,
            "justify_items": null,
            "left": null,
            "margin": null,
            "max_height": null,
            "max_width": null,
            "min_height": null,
            "min_width": null,
            "object_fit": null,
            "object_position": null,
            "order": null,
            "overflow": null,
            "overflow_x": null,
            "overflow_y": null,
            "padding": null,
            "right": null,
            "top": null,
            "visibility": null,
            "width": null
          }
        },
        "b9877a3582e5459491efa9f34018b7ea": {
          "model_module": "@jupyter-widgets/base",
          "model_name": "LayoutModel",
          "model_module_version": "1.2.0",
          "state": {
            "_model_module": "@jupyter-widgets/base",
            "_model_module_version": "1.2.0",
            "_model_name": "LayoutModel",
            "_view_count": null,
            "_view_module": "@jupyter-widgets/base",
            "_view_module_version": "1.2.0",
            "_view_name": "LayoutView",
            "align_content": null,
            "align_items": null,
            "align_self": null,
            "border": null,
            "bottom": null,
            "display": null,
            "flex": null,
            "flex_flow": null,
            "grid_area": null,
            "grid_auto_columns": null,
            "grid_auto_flow": null,
            "grid_auto_rows": null,
            "grid_column": null,
            "grid_gap": null,
            "grid_row": null,
            "grid_template_areas": null,
            "grid_template_columns": null,
            "grid_template_rows": null,
            "height": null,
            "justify_content": null,
            "justify_items": null,
            "left": null,
            "margin": null,
            "max_height": null,
            "max_width": null,
            "min_height": null,
            "min_width": null,
            "object_fit": null,
            "object_position": null,
            "order": null,
            "overflow": null,
            "overflow_x": null,
            "overflow_y": null,
            "padding": null,
            "right": null,
            "top": null,
            "visibility": null,
            "width": null
          }
        },
        "544674451a0e40fe91afbc8ba6bd820b": {
          "model_module": "@jupyter-widgets/controls",
          "model_name": "DescriptionStyleModel",
          "model_module_version": "1.5.0",
          "state": {
            "_model_module": "@jupyter-widgets/controls",
            "_model_module_version": "1.5.0",
            "_model_name": "DescriptionStyleModel",
            "_view_count": null,
            "_view_module": "@jupyter-widgets/base",
            "_view_module_version": "1.2.0",
            "_view_name": "StyleView",
            "description_width": ""
          }
        },
        "372d71ebeaf7470f9f21a243823878ee": {
          "model_module": "@jupyter-widgets/base",
          "model_name": "LayoutModel",
          "model_module_version": "1.2.0",
          "state": {
            "_model_module": "@jupyter-widgets/base",
            "_model_module_version": "1.2.0",
            "_model_name": "LayoutModel",
            "_view_count": null,
            "_view_module": "@jupyter-widgets/base",
            "_view_module_version": "1.2.0",
            "_view_name": "LayoutView",
            "align_content": null,
            "align_items": null,
            "align_self": null,
            "border": null,
            "bottom": null,
            "display": null,
            "flex": null,
            "flex_flow": null,
            "grid_area": null,
            "grid_auto_columns": null,
            "grid_auto_flow": null,
            "grid_auto_rows": null,
            "grid_column": null,
            "grid_gap": null,
            "grid_row": null,
            "grid_template_areas": null,
            "grid_template_columns": null,
            "grid_template_rows": null,
            "height": null,
            "justify_content": null,
            "justify_items": null,
            "left": null,
            "margin": null,
            "max_height": null,
            "max_width": null,
            "min_height": null,
            "min_width": null,
            "object_fit": null,
            "object_position": null,
            "order": null,
            "overflow": null,
            "overflow_x": null,
            "overflow_y": null,
            "padding": null,
            "right": null,
            "top": null,
            "visibility": null,
            "width": null
          }
        },
        "03500e8ad3e34d4a97efd1d580e5e329": {
          "model_module": "@jupyter-widgets/controls",
          "model_name": "ProgressStyleModel",
          "model_module_version": "1.5.0",
          "state": {
            "_model_module": "@jupyter-widgets/controls",
            "_model_module_version": "1.5.0",
            "_model_name": "ProgressStyleModel",
            "_view_count": null,
            "_view_module": "@jupyter-widgets/base",
            "_view_module_version": "1.2.0",
            "_view_name": "StyleView",
            "bar_color": null,
            "description_width": ""
          }
        },
        "f6fbd01c0393495080e7052a8f6d0d6d": {
          "model_module": "@jupyter-widgets/base",
          "model_name": "LayoutModel",
          "model_module_version": "1.2.0",
          "state": {
            "_model_module": "@jupyter-widgets/base",
            "_model_module_version": "1.2.0",
            "_model_name": "LayoutModel",
            "_view_count": null,
            "_view_module": "@jupyter-widgets/base",
            "_view_module_version": "1.2.0",
            "_view_name": "LayoutView",
            "align_content": null,
            "align_items": null,
            "align_self": null,
            "border": null,
            "bottom": null,
            "display": null,
            "flex": null,
            "flex_flow": null,
            "grid_area": null,
            "grid_auto_columns": null,
            "grid_auto_flow": null,
            "grid_auto_rows": null,
            "grid_column": null,
            "grid_gap": null,
            "grid_row": null,
            "grid_template_areas": null,
            "grid_template_columns": null,
            "grid_template_rows": null,
            "height": null,
            "justify_content": null,
            "justify_items": null,
            "left": null,
            "margin": null,
            "max_height": null,
            "max_width": null,
            "min_height": null,
            "min_width": null,
            "object_fit": null,
            "object_position": null,
            "order": null,
            "overflow": null,
            "overflow_x": null,
            "overflow_y": null,
            "padding": null,
            "right": null,
            "top": null,
            "visibility": null,
            "width": null
          }
        },
        "34ac6cdf2eb64935a2dbdb3477ab687a": {
          "model_module": "@jupyter-widgets/controls",
          "model_name": "DescriptionStyleModel",
          "model_module_version": "1.5.0",
          "state": {
            "_model_module": "@jupyter-widgets/controls",
            "_model_module_version": "1.5.0",
            "_model_name": "DescriptionStyleModel",
            "_view_count": null,
            "_view_module": "@jupyter-widgets/base",
            "_view_module_version": "1.2.0",
            "_view_name": "StyleView",
            "description_width": ""
          }
        },
        "0bbbc70bed3944e5ab28d6b954cf05c5": {
          "model_module": "@jupyter-widgets/controls",
          "model_name": "HBoxModel",
          "model_module_version": "1.5.0",
          "state": {
            "_dom_classes": [],
            "_model_module": "@jupyter-widgets/controls",
            "_model_module_version": "1.5.0",
            "_model_name": "HBoxModel",
            "_view_count": null,
            "_view_module": "@jupyter-widgets/controls",
            "_view_module_version": "1.5.0",
            "_view_name": "HBoxView",
            "box_style": "",
            "children": [
              "IPY_MODEL_39d4518004da405db75b835fd9ecf2de",
              "IPY_MODEL_067da125dc454500af99c859036de9e4",
              "IPY_MODEL_d181050d6aaf45489d00e64da193ae06"
            ],
            "layout": "IPY_MODEL_47c06ad09b874f2991e3adc179c7dddd"
          }
        },
        "39d4518004da405db75b835fd9ecf2de": {
          "model_module": "@jupyter-widgets/controls",
          "model_name": "HTMLModel",
          "model_module_version": "1.5.0",
          "state": {
            "_dom_classes": [],
            "_model_module": "@jupyter-widgets/controls",
            "_model_module_version": "1.5.0",
            "_model_name": "HTMLModel",
            "_view_count": null,
            "_view_module": "@jupyter-widgets/controls",
            "_view_module_version": "1.5.0",
            "_view_name": "HTMLView",
            "description": "",
            "description_tooltip": null,
            "layout": "IPY_MODEL_0ec972d4ce7e40ba8539c1680a9dd736",
            "placeholder": "​",
            "style": "IPY_MODEL_c89c4b30dea044f884baeb2e0dfc0fd3",
            "value": "Downloading: 100%"
          }
        },
        "067da125dc454500af99c859036de9e4": {
          "model_module": "@jupyter-widgets/controls",
          "model_name": "FloatProgressModel",
          "model_module_version": "1.5.0",
          "state": {
            "_dom_classes": [],
            "_model_module": "@jupyter-widgets/controls",
            "_model_module_version": "1.5.0",
            "_model_name": "FloatProgressModel",
            "_view_count": null,
            "_view_module": "@jupyter-widgets/controls",
            "_view_module_version": "1.5.0",
            "_view_name": "ProgressView",
            "bar_style": "success",
            "description": "",
            "description_tooltip": null,
            "layout": "IPY_MODEL_6114b8a9a70f4f1d816f0d7fb6279cba",
            "max": 501201999,
            "min": 0,
            "orientation": "horizontal",
            "style": "IPY_MODEL_dc18a234f5d54f7cb1102b38f35f7af3",
            "value": 501201999
          }
        },
        "d181050d6aaf45489d00e64da193ae06": {
          "model_module": "@jupyter-widgets/controls",
          "model_name": "HTMLModel",
          "model_module_version": "1.5.0",
          "state": {
            "_dom_classes": [],
            "_model_module": "@jupyter-widgets/controls",
            "_model_module_version": "1.5.0",
            "_model_name": "HTMLModel",
            "_view_count": null,
            "_view_module": "@jupyter-widgets/controls",
            "_view_module_version": "1.5.0",
            "_view_name": "HTMLView",
            "description": "",
            "description_tooltip": null,
            "layout": "IPY_MODEL_ddd61e43691344a8b007e44f14b2a602",
            "placeholder": "​",
            "style": "IPY_MODEL_da6472f4f7574b5e818c293e16e7cf85",
            "value": " 478M/478M [00:16&lt;00:00, 37.6MB/s]"
          }
        },
        "47c06ad09b874f2991e3adc179c7dddd": {
          "model_module": "@jupyter-widgets/base",
          "model_name": "LayoutModel",
          "model_module_version": "1.2.0",
          "state": {
            "_model_module": "@jupyter-widgets/base",
            "_model_module_version": "1.2.0",
            "_model_name": "LayoutModel",
            "_view_count": null,
            "_view_module": "@jupyter-widgets/base",
            "_view_module_version": "1.2.0",
            "_view_name": "LayoutView",
            "align_content": null,
            "align_items": null,
            "align_self": null,
            "border": null,
            "bottom": null,
            "display": null,
            "flex": null,
            "flex_flow": null,
            "grid_area": null,
            "grid_auto_columns": null,
            "grid_auto_flow": null,
            "grid_auto_rows": null,
            "grid_column": null,
            "grid_gap": null,
            "grid_row": null,
            "grid_template_areas": null,
            "grid_template_columns": null,
            "grid_template_rows": null,
            "height": null,
            "justify_content": null,
            "justify_items": null,
            "left": null,
            "margin": null,
            "max_height": null,
            "max_width": null,
            "min_height": null,
            "min_width": null,
            "object_fit": null,
            "object_position": null,
            "order": null,
            "overflow": null,
            "overflow_x": null,
            "overflow_y": null,
            "padding": null,
            "right": null,
            "top": null,
            "visibility": null,
            "width": null
          }
        },
        "0ec972d4ce7e40ba8539c1680a9dd736": {
          "model_module": "@jupyter-widgets/base",
          "model_name": "LayoutModel",
          "model_module_version": "1.2.0",
          "state": {
            "_model_module": "@jupyter-widgets/base",
            "_model_module_version": "1.2.0",
            "_model_name": "LayoutModel",
            "_view_count": null,
            "_view_module": "@jupyter-widgets/base",
            "_view_module_version": "1.2.0",
            "_view_name": "LayoutView",
            "align_content": null,
            "align_items": null,
            "align_self": null,
            "border": null,
            "bottom": null,
            "display": null,
            "flex": null,
            "flex_flow": null,
            "grid_area": null,
            "grid_auto_columns": null,
            "grid_auto_flow": null,
            "grid_auto_rows": null,
            "grid_column": null,
            "grid_gap": null,
            "grid_row": null,
            "grid_template_areas": null,
            "grid_template_columns": null,
            "grid_template_rows": null,
            "height": null,
            "justify_content": null,
            "justify_items": null,
            "left": null,
            "margin": null,
            "max_height": null,
            "max_width": null,
            "min_height": null,
            "min_width": null,
            "object_fit": null,
            "object_position": null,
            "order": null,
            "overflow": null,
            "overflow_x": null,
            "overflow_y": null,
            "padding": null,
            "right": null,
            "top": null,
            "visibility": null,
            "width": null
          }
        },
        "c89c4b30dea044f884baeb2e0dfc0fd3": {
          "model_module": "@jupyter-widgets/controls",
          "model_name": "DescriptionStyleModel",
          "model_module_version": "1.5.0",
          "state": {
            "_model_module": "@jupyter-widgets/controls",
            "_model_module_version": "1.5.0",
            "_model_name": "DescriptionStyleModel",
            "_view_count": null,
            "_view_module": "@jupyter-widgets/base",
            "_view_module_version": "1.2.0",
            "_view_name": "StyleView",
            "description_width": ""
          }
        },
        "6114b8a9a70f4f1d816f0d7fb6279cba": {
          "model_module": "@jupyter-widgets/base",
          "model_name": "LayoutModel",
          "model_module_version": "1.2.0",
          "state": {
            "_model_module": "@jupyter-widgets/base",
            "_model_module_version": "1.2.0",
            "_model_name": "LayoutModel",
            "_view_count": null,
            "_view_module": "@jupyter-widgets/base",
            "_view_module_version": "1.2.0",
            "_view_name": "LayoutView",
            "align_content": null,
            "align_items": null,
            "align_self": null,
            "border": null,
            "bottom": null,
            "display": null,
            "flex": null,
            "flex_flow": null,
            "grid_area": null,
            "grid_auto_columns": null,
            "grid_auto_flow": null,
            "grid_auto_rows": null,
            "grid_column": null,
            "grid_gap": null,
            "grid_row": null,
            "grid_template_areas": null,
            "grid_template_columns": null,
            "grid_template_rows": null,
            "height": null,
            "justify_content": null,
            "justify_items": null,
            "left": null,
            "margin": null,
            "max_height": null,
            "max_width": null,
            "min_height": null,
            "min_width": null,
            "object_fit": null,
            "object_position": null,
            "order": null,
            "overflow": null,
            "overflow_x": null,
            "overflow_y": null,
            "padding": null,
            "right": null,
            "top": null,
            "visibility": null,
            "width": null
          }
        },
        "dc18a234f5d54f7cb1102b38f35f7af3": {
          "model_module": "@jupyter-widgets/controls",
          "model_name": "ProgressStyleModel",
          "model_module_version": "1.5.0",
          "state": {
            "_model_module": "@jupyter-widgets/controls",
            "_model_module_version": "1.5.0",
            "_model_name": "ProgressStyleModel",
            "_view_count": null,
            "_view_module": "@jupyter-widgets/base",
            "_view_module_version": "1.2.0",
            "_view_name": "StyleView",
            "bar_color": null,
            "description_width": ""
          }
        },
        "ddd61e43691344a8b007e44f14b2a602": {
          "model_module": "@jupyter-widgets/base",
          "model_name": "LayoutModel",
          "model_module_version": "1.2.0",
          "state": {
            "_model_module": "@jupyter-widgets/base",
            "_model_module_version": "1.2.0",
            "_model_name": "LayoutModel",
            "_view_count": null,
            "_view_module": "@jupyter-widgets/base",
            "_view_module_version": "1.2.0",
            "_view_name": "LayoutView",
            "align_content": null,
            "align_items": null,
            "align_self": null,
            "border": null,
            "bottom": null,
            "display": null,
            "flex": null,
            "flex_flow": null,
            "grid_area": null,
            "grid_auto_columns": null,
            "grid_auto_flow": null,
            "grid_auto_rows": null,
            "grid_column": null,
            "grid_gap": null,
            "grid_row": null,
            "grid_template_areas": null,
            "grid_template_columns": null,
            "grid_template_rows": null,
            "height": null,
            "justify_content": null,
            "justify_items": null,
            "left": null,
            "margin": null,
            "max_height": null,
            "max_width": null,
            "min_height": null,
            "min_width": null,
            "object_fit": null,
            "object_position": null,
            "order": null,
            "overflow": null,
            "overflow_x": null,
            "overflow_y": null,
            "padding": null,
            "right": null,
            "top": null,
            "visibility": null,
            "width": null
          }
        },
        "da6472f4f7574b5e818c293e16e7cf85": {
          "model_module": "@jupyter-widgets/controls",
          "model_name": "DescriptionStyleModel",
          "model_module_version": "1.5.0",
          "state": {
            "_model_module": "@jupyter-widgets/controls",
            "_model_module_version": "1.5.0",
            "_model_name": "DescriptionStyleModel",
            "_view_count": null,
            "_view_module": "@jupyter-widgets/base",
            "_view_module_version": "1.2.0",
            "_view_name": "StyleView",
            "description_width": ""
          }
        },
        "ff67b2437437415a9b7ca1bf0d46fd45": {
          "model_module": "@jupyter-widgets/controls",
          "model_name": "HBoxModel",
          "model_module_version": "1.5.0",
          "state": {
            "_dom_classes": [],
            "_model_module": "@jupyter-widgets/controls",
            "_model_module_version": "1.5.0",
            "_model_name": "HBoxModel",
            "_view_count": null,
            "_view_module": "@jupyter-widgets/controls",
            "_view_module_version": "1.5.0",
            "_view_name": "HBoxView",
            "box_style": "",
            "children": [
              "IPY_MODEL_b17b8482d6324c53a32e918a342a050a",
              "IPY_MODEL_5f631a7f3f57444098e982eebd09f2a7",
              "IPY_MODEL_ba6b4b4365824390bb27b59670c28afb"
            ],
            "layout": "IPY_MODEL_1f8e8adfea5f416f8e9db8d38e0abe82"
          }
        },
        "b17b8482d6324c53a32e918a342a050a": {
          "model_module": "@jupyter-widgets/controls",
          "model_name": "HTMLModel",
          "model_module_version": "1.5.0",
          "state": {
            "_dom_classes": [],
            "_model_module": "@jupyter-widgets/controls",
            "_model_module_version": "1.5.0",
            "_model_name": "HTMLModel",
            "_view_count": null,
            "_view_module": "@jupyter-widgets/controls",
            "_view_module_version": "1.5.0",
            "_view_name": "HTMLView",
            "description": "",
            "description_tooltip": null,
            "layout": "IPY_MODEL_22180e4d52fd419492ce081417153766",
            "placeholder": "​",
            "style": "IPY_MODEL_3c9a80d567fa48619296681083a1e679",
            "value": "Downloading: 100%"
          }
        },
        "5f631a7f3f57444098e982eebd09f2a7": {
          "model_module": "@jupyter-widgets/controls",
          "model_name": "FloatProgressModel",
          "model_module_version": "1.5.0",
          "state": {
            "_dom_classes": [],
            "_model_module": "@jupyter-widgets/controls",
            "_model_module_version": "1.5.0",
            "_model_name": "FloatProgressModel",
            "_view_count": null,
            "_view_module": "@jupyter-widgets/controls",
            "_view_module_version": "1.5.0",
            "_view_name": "ProgressView",
            "bar_style": "success",
            "description": "",
            "description_tooltip": null,
            "layout": "IPY_MODEL_39960a9c5eea4b1b8aea96df71488019",
            "max": 898822,
            "min": 0,
            "orientation": "horizontal",
            "style": "IPY_MODEL_7ba5eda7c88c48b7b48441d1c3454b46",
            "value": 898822
          }
        },
        "ba6b4b4365824390bb27b59670c28afb": {
          "model_module": "@jupyter-widgets/controls",
          "model_name": "HTMLModel",
          "model_module_version": "1.5.0",
          "state": {
            "_dom_classes": [],
            "_model_module": "@jupyter-widgets/controls",
            "_model_module_version": "1.5.0",
            "_model_name": "HTMLModel",
            "_view_count": null,
            "_view_module": "@jupyter-widgets/controls",
            "_view_module_version": "1.5.0",
            "_view_name": "HTMLView",
            "description": "",
            "description_tooltip": null,
            "layout": "IPY_MODEL_5572bac8c1eb45f9902937ba8b4a38a5",
            "placeholder": "​",
            "style": "IPY_MODEL_6af2c21c7471410ca55481b80b185a9a",
            "value": " 878k/878k [00:00&lt;00:00, 4.04MB/s]"
          }
        },
        "1f8e8adfea5f416f8e9db8d38e0abe82": {
          "model_module": "@jupyter-widgets/base",
          "model_name": "LayoutModel",
          "model_module_version": "1.2.0",
          "state": {
            "_model_module": "@jupyter-widgets/base",
            "_model_module_version": "1.2.0",
            "_model_name": "LayoutModel",
            "_view_count": null,
            "_view_module": "@jupyter-widgets/base",
            "_view_module_version": "1.2.0",
            "_view_name": "LayoutView",
            "align_content": null,
            "align_items": null,
            "align_self": null,
            "border": null,
            "bottom": null,
            "display": null,
            "flex": null,
            "flex_flow": null,
            "grid_area": null,
            "grid_auto_columns": null,
            "grid_auto_flow": null,
            "grid_auto_rows": null,
            "grid_column": null,
            "grid_gap": null,
            "grid_row": null,
            "grid_template_areas": null,
            "grid_template_columns": null,
            "grid_template_rows": null,
            "height": null,
            "justify_content": null,
            "justify_items": null,
            "left": null,
            "margin": null,
            "max_height": null,
            "max_width": null,
            "min_height": null,
            "min_width": null,
            "object_fit": null,
            "object_position": null,
            "order": null,
            "overflow": null,
            "overflow_x": null,
            "overflow_y": null,
            "padding": null,
            "right": null,
            "top": null,
            "visibility": null,
            "width": null
          }
        },
        "22180e4d52fd419492ce081417153766": {
          "model_module": "@jupyter-widgets/base",
          "model_name": "LayoutModel",
          "model_module_version": "1.2.0",
          "state": {
            "_model_module": "@jupyter-widgets/base",
            "_model_module_version": "1.2.0",
            "_model_name": "LayoutModel",
            "_view_count": null,
            "_view_module": "@jupyter-widgets/base",
            "_view_module_version": "1.2.0",
            "_view_name": "LayoutView",
            "align_content": null,
            "align_items": null,
            "align_self": null,
            "border": null,
            "bottom": null,
            "display": null,
            "flex": null,
            "flex_flow": null,
            "grid_area": null,
            "grid_auto_columns": null,
            "grid_auto_flow": null,
            "grid_auto_rows": null,
            "grid_column": null,
            "grid_gap": null,
            "grid_row": null,
            "grid_template_areas": null,
            "grid_template_columns": null,
            "grid_template_rows": null,
            "height": null,
            "justify_content": null,
            "justify_items": null,
            "left": null,
            "margin": null,
            "max_height": null,
            "max_width": null,
            "min_height": null,
            "min_width": null,
            "object_fit": null,
            "object_position": null,
            "order": null,
            "overflow": null,
            "overflow_x": null,
            "overflow_y": null,
            "padding": null,
            "right": null,
            "top": null,
            "visibility": null,
            "width": null
          }
        },
        "3c9a80d567fa48619296681083a1e679": {
          "model_module": "@jupyter-widgets/controls",
          "model_name": "DescriptionStyleModel",
          "model_module_version": "1.5.0",
          "state": {
            "_model_module": "@jupyter-widgets/controls",
            "_model_module_version": "1.5.0",
            "_model_name": "DescriptionStyleModel",
            "_view_count": null,
            "_view_module": "@jupyter-widgets/base",
            "_view_module_version": "1.2.0",
            "_view_name": "StyleView",
            "description_width": ""
          }
        },
        "39960a9c5eea4b1b8aea96df71488019": {
          "model_module": "@jupyter-widgets/base",
          "model_name": "LayoutModel",
          "model_module_version": "1.2.0",
          "state": {
            "_model_module": "@jupyter-widgets/base",
            "_model_module_version": "1.2.0",
            "_model_name": "LayoutModel",
            "_view_count": null,
            "_view_module": "@jupyter-widgets/base",
            "_view_module_version": "1.2.0",
            "_view_name": "LayoutView",
            "align_content": null,
            "align_items": null,
            "align_self": null,
            "border": null,
            "bottom": null,
            "display": null,
            "flex": null,
            "flex_flow": null,
            "grid_area": null,
            "grid_auto_columns": null,
            "grid_auto_flow": null,
            "grid_auto_rows": null,
            "grid_column": null,
            "grid_gap": null,
            "grid_row": null,
            "grid_template_areas": null,
            "grid_template_columns": null,
            "grid_template_rows": null,
            "height": null,
            "justify_content": null,
            "justify_items": null,
            "left": null,
            "margin": null,
            "max_height": null,
            "max_width": null,
            "min_height": null,
            "min_width": null,
            "object_fit": null,
            "object_position": null,
            "order": null,
            "overflow": null,
            "overflow_x": null,
            "overflow_y": null,
            "padding": null,
            "right": null,
            "top": null,
            "visibility": null,
            "width": null
          }
        },
        "7ba5eda7c88c48b7b48441d1c3454b46": {
          "model_module": "@jupyter-widgets/controls",
          "model_name": "ProgressStyleModel",
          "model_module_version": "1.5.0",
          "state": {
            "_model_module": "@jupyter-widgets/controls",
            "_model_module_version": "1.5.0",
            "_model_name": "ProgressStyleModel",
            "_view_count": null,
            "_view_module": "@jupyter-widgets/base",
            "_view_module_version": "1.2.0",
            "_view_name": "StyleView",
            "bar_color": null,
            "description_width": ""
          }
        },
        "5572bac8c1eb45f9902937ba8b4a38a5": {
          "model_module": "@jupyter-widgets/base",
          "model_name": "LayoutModel",
          "model_module_version": "1.2.0",
          "state": {
            "_model_module": "@jupyter-widgets/base",
            "_model_module_version": "1.2.0",
            "_model_name": "LayoutModel",
            "_view_count": null,
            "_view_module": "@jupyter-widgets/base",
            "_view_module_version": "1.2.0",
            "_view_name": "LayoutView",
            "align_content": null,
            "align_items": null,
            "align_self": null,
            "border": null,
            "bottom": null,
            "display": null,
            "flex": null,
            "flex_flow": null,
            "grid_area": null,
            "grid_auto_columns": null,
            "grid_auto_flow": null,
            "grid_auto_rows": null,
            "grid_column": null,
            "grid_gap": null,
            "grid_row": null,
            "grid_template_areas": null,
            "grid_template_columns": null,
            "grid_template_rows": null,
            "height": null,
            "justify_content": null,
            "justify_items": null,
            "left": null,
            "margin": null,
            "max_height": null,
            "max_width": null,
            "min_height": null,
            "min_width": null,
            "object_fit": null,
            "object_position": null,
            "order": null,
            "overflow": null,
            "overflow_x": null,
            "overflow_y": null,
            "padding": null,
            "right": null,
            "top": null,
            "visibility": null,
            "width": null
          }
        },
        "6af2c21c7471410ca55481b80b185a9a": {
          "model_module": "@jupyter-widgets/controls",
          "model_name": "DescriptionStyleModel",
          "model_module_version": "1.5.0",
          "state": {
            "_model_module": "@jupyter-widgets/controls",
            "_model_module_version": "1.5.0",
            "_model_name": "DescriptionStyleModel",
            "_view_count": null,
            "_view_module": "@jupyter-widgets/base",
            "_view_module_version": "1.2.0",
            "_view_name": "StyleView",
            "description_width": ""
          }
        },
        "07880407c3074e839c42c8ab12c5b7e5": {
          "model_module": "@jupyter-widgets/controls",
          "model_name": "HBoxModel",
          "model_module_version": "1.5.0",
          "state": {
            "_dom_classes": [],
            "_model_module": "@jupyter-widgets/controls",
            "_model_module_version": "1.5.0",
            "_model_name": "HBoxModel",
            "_view_count": null,
            "_view_module": "@jupyter-widgets/controls",
            "_view_module_version": "1.5.0",
            "_view_name": "HBoxView",
            "box_style": "",
            "children": [
              "IPY_MODEL_7acc80a2d99d4f53b893ccedcbee3c86",
              "IPY_MODEL_e8ea3e119628411bbb0475fe0adaffd8",
              "IPY_MODEL_8c9f93ef04b140f1ae5adf6b502e01bc"
            ],
            "layout": "IPY_MODEL_9e51da72a8b44b438c43884272849a97"
          }
        },
        "7acc80a2d99d4f53b893ccedcbee3c86": {
          "model_module": "@jupyter-widgets/controls",
          "model_name": "HTMLModel",
          "model_module_version": "1.5.0",
          "state": {
            "_dom_classes": [],
            "_model_module": "@jupyter-widgets/controls",
            "_model_module_version": "1.5.0",
            "_model_name": "HTMLModel",
            "_view_count": null,
            "_view_module": "@jupyter-widgets/controls",
            "_view_module_version": "1.5.0",
            "_view_name": "HTMLView",
            "description": "",
            "description_tooltip": null,
            "layout": "IPY_MODEL_3c980265bd814c95946b5888a8394f0f",
            "placeholder": "​",
            "style": "IPY_MODEL_f1edb3669b074f2a82413f5ec8a86bdc",
            "value": "Downloading: 100%"
          }
        },
        "e8ea3e119628411bbb0475fe0adaffd8": {
          "model_module": "@jupyter-widgets/controls",
          "model_name": "FloatProgressModel",
          "model_module_version": "1.5.0",
          "state": {
            "_dom_classes": [],
            "_model_module": "@jupyter-widgets/controls",
            "_model_module_version": "1.5.0",
            "_model_name": "FloatProgressModel",
            "_view_count": null,
            "_view_module": "@jupyter-widgets/controls",
            "_view_module_version": "1.5.0",
            "_view_name": "ProgressView",
            "bar_style": "success",
            "description": "",
            "description_tooltip": null,
            "layout": "IPY_MODEL_d2289d6a62ec4ebeb350c4c0c630b4f7",
            "max": 456318,
            "min": 0,
            "orientation": "horizontal",
            "style": "IPY_MODEL_7bb311316ee14acc9dfa6b9adaea4fc5",
            "value": 456318
          }
        },
        "8c9f93ef04b140f1ae5adf6b502e01bc": {
          "model_module": "@jupyter-widgets/controls",
          "model_name": "HTMLModel",
          "model_module_version": "1.5.0",
          "state": {
            "_dom_classes": [],
            "_model_module": "@jupyter-widgets/controls",
            "_model_module_version": "1.5.0",
            "_model_name": "HTMLModel",
            "_view_count": null,
            "_view_module": "@jupyter-widgets/controls",
            "_view_module_version": "1.5.0",
            "_view_name": "HTMLView",
            "description": "",
            "description_tooltip": null,
            "layout": "IPY_MODEL_383fd9e42ee6456b8d6a2b8c4add7c37",
            "placeholder": "​",
            "style": "IPY_MODEL_d3ac846f5ab64c04aa7442803ae1f438",
            "value": " 446k/446k [00:00&lt;00:00, 1.57MB/s]"
          }
        },
        "9e51da72a8b44b438c43884272849a97": {
          "model_module": "@jupyter-widgets/base",
          "model_name": "LayoutModel",
          "model_module_version": "1.2.0",
          "state": {
            "_model_module": "@jupyter-widgets/base",
            "_model_module_version": "1.2.0",
            "_model_name": "LayoutModel",
            "_view_count": null,
            "_view_module": "@jupyter-widgets/base",
            "_view_module_version": "1.2.0",
            "_view_name": "LayoutView",
            "align_content": null,
            "align_items": null,
            "align_self": null,
            "border": null,
            "bottom": null,
            "display": null,
            "flex": null,
            "flex_flow": null,
            "grid_area": null,
            "grid_auto_columns": null,
            "grid_auto_flow": null,
            "grid_auto_rows": null,
            "grid_column": null,
            "grid_gap": null,
            "grid_row": null,
            "grid_template_areas": null,
            "grid_template_columns": null,
            "grid_template_rows": null,
            "height": null,
            "justify_content": null,
            "justify_items": null,
            "left": null,
            "margin": null,
            "max_height": null,
            "max_width": null,
            "min_height": null,
            "min_width": null,
            "object_fit": null,
            "object_position": null,
            "order": null,
            "overflow": null,
            "overflow_x": null,
            "overflow_y": null,
            "padding": null,
            "right": null,
            "top": null,
            "visibility": null,
            "width": null
          }
        },
        "3c980265bd814c95946b5888a8394f0f": {
          "model_module": "@jupyter-widgets/base",
          "model_name": "LayoutModel",
          "model_module_version": "1.2.0",
          "state": {
            "_model_module": "@jupyter-widgets/base",
            "_model_module_version": "1.2.0",
            "_model_name": "LayoutModel",
            "_view_count": null,
            "_view_module": "@jupyter-widgets/base",
            "_view_module_version": "1.2.0",
            "_view_name": "LayoutView",
            "align_content": null,
            "align_items": null,
            "align_self": null,
            "border": null,
            "bottom": null,
            "display": null,
            "flex": null,
            "flex_flow": null,
            "grid_area": null,
            "grid_auto_columns": null,
            "grid_auto_flow": null,
            "grid_auto_rows": null,
            "grid_column": null,
            "grid_gap": null,
            "grid_row": null,
            "grid_template_areas": null,
            "grid_template_columns": null,
            "grid_template_rows": null,
            "height": null,
            "justify_content": null,
            "justify_items": null,
            "left": null,
            "margin": null,
            "max_height": null,
            "max_width": null,
            "min_height": null,
            "min_width": null,
            "object_fit": null,
            "object_position": null,
            "order": null,
            "overflow": null,
            "overflow_x": null,
            "overflow_y": null,
            "padding": null,
            "right": null,
            "top": null,
            "visibility": null,
            "width": null
          }
        },
        "f1edb3669b074f2a82413f5ec8a86bdc": {
          "model_module": "@jupyter-widgets/controls",
          "model_name": "DescriptionStyleModel",
          "model_module_version": "1.5.0",
          "state": {
            "_model_module": "@jupyter-widgets/controls",
            "_model_module_version": "1.5.0",
            "_model_name": "DescriptionStyleModel",
            "_view_count": null,
            "_view_module": "@jupyter-widgets/base",
            "_view_module_version": "1.2.0",
            "_view_name": "StyleView",
            "description_width": ""
          }
        },
        "d2289d6a62ec4ebeb350c4c0c630b4f7": {
          "model_module": "@jupyter-widgets/base",
          "model_name": "LayoutModel",
          "model_module_version": "1.2.0",
          "state": {
            "_model_module": "@jupyter-widgets/base",
            "_model_module_version": "1.2.0",
            "_model_name": "LayoutModel",
            "_view_count": null,
            "_view_module": "@jupyter-widgets/base",
            "_view_module_version": "1.2.0",
            "_view_name": "LayoutView",
            "align_content": null,
            "align_items": null,
            "align_self": null,
            "border": null,
            "bottom": null,
            "display": null,
            "flex": null,
            "flex_flow": null,
            "grid_area": null,
            "grid_auto_columns": null,
            "grid_auto_flow": null,
            "grid_auto_rows": null,
            "grid_column": null,
            "grid_gap": null,
            "grid_row": null,
            "grid_template_areas": null,
            "grid_template_columns": null,
            "grid_template_rows": null,
            "height": null,
            "justify_content": null,
            "justify_items": null,
            "left": null,
            "margin": null,
            "max_height": null,
            "max_width": null,
            "min_height": null,
            "min_width": null,
            "object_fit": null,
            "object_position": null,
            "order": null,
            "overflow": null,
            "overflow_x": null,
            "overflow_y": null,
            "padding": null,
            "right": null,
            "top": null,
            "visibility": null,
            "width": null
          }
        },
        "7bb311316ee14acc9dfa6b9adaea4fc5": {
          "model_module": "@jupyter-widgets/controls",
          "model_name": "ProgressStyleModel",
          "model_module_version": "1.5.0",
          "state": {
            "_model_module": "@jupyter-widgets/controls",
            "_model_module_version": "1.5.0",
            "_model_name": "ProgressStyleModel",
            "_view_count": null,
            "_view_module": "@jupyter-widgets/base",
            "_view_module_version": "1.2.0",
            "_view_name": "StyleView",
            "bar_color": null,
            "description_width": ""
          }
        },
        "383fd9e42ee6456b8d6a2b8c4add7c37": {
          "model_module": "@jupyter-widgets/base",
          "model_name": "LayoutModel",
          "model_module_version": "1.2.0",
          "state": {
            "_model_module": "@jupyter-widgets/base",
            "_model_module_version": "1.2.0",
            "_model_name": "LayoutModel",
            "_view_count": null,
            "_view_module": "@jupyter-widgets/base",
            "_view_module_version": "1.2.0",
            "_view_name": "LayoutView",
            "align_content": null,
            "align_items": null,
            "align_self": null,
            "border": null,
            "bottom": null,
            "display": null,
            "flex": null,
            "flex_flow": null,
            "grid_area": null,
            "grid_auto_columns": null,
            "grid_auto_flow": null,
            "grid_auto_rows": null,
            "grid_column": null,
            "grid_gap": null,
            "grid_row": null,
            "grid_template_areas": null,
            "grid_template_columns": null,
            "grid_template_rows": null,
            "height": null,
            "justify_content": null,
            "justify_items": null,
            "left": null,
            "margin": null,
            "max_height": null,
            "max_width": null,
            "min_height": null,
            "min_width": null,
            "object_fit": null,
            "object_position": null,
            "order": null,
            "overflow": null,
            "overflow_x": null,
            "overflow_y": null,
            "padding": null,
            "right": null,
            "top": null,
            "visibility": null,
            "width": null
          }
        },
        "d3ac846f5ab64c04aa7442803ae1f438": {
          "model_module": "@jupyter-widgets/controls",
          "model_name": "DescriptionStyleModel",
          "model_module_version": "1.5.0",
          "state": {
            "_model_module": "@jupyter-widgets/controls",
            "_model_module_version": "1.5.0",
            "_model_name": "DescriptionStyleModel",
            "_view_count": null,
            "_view_module": "@jupyter-widgets/base",
            "_view_module_version": "1.2.0",
            "_view_name": "StyleView",
            "description_width": ""
          }
        },
        "a95f2077d69243359b6e2c8783907ff6": {
          "model_module": "@jupyter-widgets/controls",
          "model_name": "HBoxModel",
          "model_module_version": "1.5.0",
          "state": {
            "_dom_classes": [],
            "_model_module": "@jupyter-widgets/controls",
            "_model_module_version": "1.5.0",
            "_model_name": "HBoxModel",
            "_view_count": null,
            "_view_module": "@jupyter-widgets/controls",
            "_view_module_version": "1.5.0",
            "_view_name": "HBoxView",
            "box_style": "",
            "children": [
              "IPY_MODEL_dda32d28e9ac46edb09e4618f7f059c7",
              "IPY_MODEL_107405bdd2ee40cea0bce5d71bc0ecf2",
              "IPY_MODEL_0596528656ce4a15a5981c63377f0404"
            ],
            "layout": "IPY_MODEL_020cee85d26e495b98aae98bf3574536"
          }
        },
        "dda32d28e9ac46edb09e4618f7f059c7": {
          "model_module": "@jupyter-widgets/controls",
          "model_name": "HTMLModel",
          "model_module_version": "1.5.0",
          "state": {
            "_dom_classes": [],
            "_model_module": "@jupyter-widgets/controls",
            "_model_module_version": "1.5.0",
            "_model_name": "HTMLModel",
            "_view_count": null,
            "_view_module": "@jupyter-widgets/controls",
            "_view_module_version": "1.5.0",
            "_view_name": "HTMLView",
            "description": "",
            "description_tooltip": null,
            "layout": "IPY_MODEL_8a08389deb274d47837df60221392265",
            "placeholder": "​",
            "style": "IPY_MODEL_340ae8631a214396aee83e873ee5de97",
            "value": "Downloading: 100%"
          }
        },
        "107405bdd2ee40cea0bce5d71bc0ecf2": {
          "model_module": "@jupyter-widgets/controls",
          "model_name": "FloatProgressModel",
          "model_module_version": "1.5.0",
          "state": {
            "_dom_classes": [],
            "_model_module": "@jupyter-widgets/controls",
            "_model_module_version": "1.5.0",
            "_model_name": "FloatProgressModel",
            "_view_count": null,
            "_view_module": "@jupyter-widgets/controls",
            "_view_module_version": "1.5.0",
            "_view_name": "ProgressView",
            "bar_style": "success",
            "description": "",
            "description_tooltip": null,
            "layout": "IPY_MODEL_bd648e8da241486e95142613648f6e2a",
            "max": 150,
            "min": 0,
            "orientation": "horizontal",
            "style": "IPY_MODEL_2e4d8694881a4e69a1e1400ef55d02ec",
            "value": 150
          }
        },
        "0596528656ce4a15a5981c63377f0404": {
          "model_module": "@jupyter-widgets/controls",
          "model_name": "HTMLModel",
          "model_module_version": "1.5.0",
          "state": {
            "_dom_classes": [],
            "_model_module": "@jupyter-widgets/controls",
            "_model_module_version": "1.5.0",
            "_model_name": "HTMLModel",
            "_view_count": null,
            "_view_module": "@jupyter-widgets/controls",
            "_view_module_version": "1.5.0",
            "_view_name": "HTMLView",
            "description": "",
            "description_tooltip": null,
            "layout": "IPY_MODEL_bc381806b7be44de862dfa317f44b299",
            "placeholder": "​",
            "style": "IPY_MODEL_1bca98b744874531ad64079a0920a3a4",
            "value": " 150/150 [00:00&lt;00:00, 4.25kB/s]"
          }
        },
        "020cee85d26e495b98aae98bf3574536": {
          "model_module": "@jupyter-widgets/base",
          "model_name": "LayoutModel",
          "model_module_version": "1.2.0",
          "state": {
            "_model_module": "@jupyter-widgets/base",
            "_model_module_version": "1.2.0",
            "_model_name": "LayoutModel",
            "_view_count": null,
            "_view_module": "@jupyter-widgets/base",
            "_view_module_version": "1.2.0",
            "_view_name": "LayoutView",
            "align_content": null,
            "align_items": null,
            "align_self": null,
            "border": null,
            "bottom": null,
            "display": null,
            "flex": null,
            "flex_flow": null,
            "grid_area": null,
            "grid_auto_columns": null,
            "grid_auto_flow": null,
            "grid_auto_rows": null,
            "grid_column": null,
            "grid_gap": null,
            "grid_row": null,
            "grid_template_areas": null,
            "grid_template_columns": null,
            "grid_template_rows": null,
            "height": null,
            "justify_content": null,
            "justify_items": null,
            "left": null,
            "margin": null,
            "max_height": null,
            "max_width": null,
            "min_height": null,
            "min_width": null,
            "object_fit": null,
            "object_position": null,
            "order": null,
            "overflow": null,
            "overflow_x": null,
            "overflow_y": null,
            "padding": null,
            "right": null,
            "top": null,
            "visibility": null,
            "width": null
          }
        },
        "8a08389deb274d47837df60221392265": {
          "model_module": "@jupyter-widgets/base",
          "model_name": "LayoutModel",
          "model_module_version": "1.2.0",
          "state": {
            "_model_module": "@jupyter-widgets/base",
            "_model_module_version": "1.2.0",
            "_model_name": "LayoutModel",
            "_view_count": null,
            "_view_module": "@jupyter-widgets/base",
            "_view_module_version": "1.2.0",
            "_view_name": "LayoutView",
            "align_content": null,
            "align_items": null,
            "align_self": null,
            "border": null,
            "bottom": null,
            "display": null,
            "flex": null,
            "flex_flow": null,
            "grid_area": null,
            "grid_auto_columns": null,
            "grid_auto_flow": null,
            "grid_auto_rows": null,
            "grid_column": null,
            "grid_gap": null,
            "grid_row": null,
            "grid_template_areas": null,
            "grid_template_columns": null,
            "grid_template_rows": null,
            "height": null,
            "justify_content": null,
            "justify_items": null,
            "left": null,
            "margin": null,
            "max_height": null,
            "max_width": null,
            "min_height": null,
            "min_width": null,
            "object_fit": null,
            "object_position": null,
            "order": null,
            "overflow": null,
            "overflow_x": null,
            "overflow_y": null,
            "padding": null,
            "right": null,
            "top": null,
            "visibility": null,
            "width": null
          }
        },
        "340ae8631a214396aee83e873ee5de97": {
          "model_module": "@jupyter-widgets/controls",
          "model_name": "DescriptionStyleModel",
          "model_module_version": "1.5.0",
          "state": {
            "_model_module": "@jupyter-widgets/controls",
            "_model_module_version": "1.5.0",
            "_model_name": "DescriptionStyleModel",
            "_view_count": null,
            "_view_module": "@jupyter-widgets/base",
            "_view_module_version": "1.2.0",
            "_view_name": "StyleView",
            "description_width": ""
          }
        },
        "bd648e8da241486e95142613648f6e2a": {
          "model_module": "@jupyter-widgets/base",
          "model_name": "LayoutModel",
          "model_module_version": "1.2.0",
          "state": {
            "_model_module": "@jupyter-widgets/base",
            "_model_module_version": "1.2.0",
            "_model_name": "LayoutModel",
            "_view_count": null,
            "_view_module": "@jupyter-widgets/base",
            "_view_module_version": "1.2.0",
            "_view_name": "LayoutView",
            "align_content": null,
            "align_items": null,
            "align_self": null,
            "border": null,
            "bottom": null,
            "display": null,
            "flex": null,
            "flex_flow": null,
            "grid_area": null,
            "grid_auto_columns": null,
            "grid_auto_flow": null,
            "grid_auto_rows": null,
            "grid_column": null,
            "grid_gap": null,
            "grid_row": null,
            "grid_template_areas": null,
            "grid_template_columns": null,
            "grid_template_rows": null,
            "height": null,
            "justify_content": null,
            "justify_items": null,
            "left": null,
            "margin": null,
            "max_height": null,
            "max_width": null,
            "min_height": null,
            "min_width": null,
            "object_fit": null,
            "object_position": null,
            "order": null,
            "overflow": null,
            "overflow_x": null,
            "overflow_y": null,
            "padding": null,
            "right": null,
            "top": null,
            "visibility": null,
            "width": null
          }
        },
        "2e4d8694881a4e69a1e1400ef55d02ec": {
          "model_module": "@jupyter-widgets/controls",
          "model_name": "ProgressStyleModel",
          "model_module_version": "1.5.0",
          "state": {
            "_model_module": "@jupyter-widgets/controls",
            "_model_module_version": "1.5.0",
            "_model_name": "ProgressStyleModel",
            "_view_count": null,
            "_view_module": "@jupyter-widgets/base",
            "_view_module_version": "1.2.0",
            "_view_name": "StyleView",
            "bar_color": null,
            "description_width": ""
          }
        },
        "bc381806b7be44de862dfa317f44b299": {
          "model_module": "@jupyter-widgets/base",
          "model_name": "LayoutModel",
          "model_module_version": "1.2.0",
          "state": {
            "_model_module": "@jupyter-widgets/base",
            "_model_module_version": "1.2.0",
            "_model_name": "LayoutModel",
            "_view_count": null,
            "_view_module": "@jupyter-widgets/base",
            "_view_module_version": "1.2.0",
            "_view_name": "LayoutView",
            "align_content": null,
            "align_items": null,
            "align_self": null,
            "border": null,
            "bottom": null,
            "display": null,
            "flex": null,
            "flex_flow": null,
            "grid_area": null,
            "grid_auto_columns": null,
            "grid_auto_flow": null,
            "grid_auto_rows": null,
            "grid_column": null,
            "grid_gap": null,
            "grid_row": null,
            "grid_template_areas": null,
            "grid_template_columns": null,
            "grid_template_rows": null,
            "height": null,
            "justify_content": null,
            "justify_items": null,
            "left": null,
            "margin": null,
            "max_height": null,
            "max_width": null,
            "min_height": null,
            "min_width": null,
            "object_fit": null,
            "object_position": null,
            "order": null,
            "overflow": null,
            "overflow_x": null,
            "overflow_y": null,
            "padding": null,
            "right": null,
            "top": null,
            "visibility": null,
            "width": null
          }
        },
        "1bca98b744874531ad64079a0920a3a4": {
          "model_module": "@jupyter-widgets/controls",
          "model_name": "DescriptionStyleModel",
          "model_module_version": "1.5.0",
          "state": {
            "_model_module": "@jupyter-widgets/controls",
            "_model_module_version": "1.5.0",
            "_model_name": "DescriptionStyleModel",
            "_view_count": null,
            "_view_module": "@jupyter-widgets/base",
            "_view_module_version": "1.2.0",
            "_view_name": "StyleView",
            "description_width": ""
          }
        },
        "e0359cdd16b5459dac52ab60db8345c8": {
          "model_module": "@jupyter-widgets/controls",
          "model_name": "HBoxModel",
          "model_module_version": "1.5.0",
          "state": {
            "_dom_classes": [],
            "_model_module": "@jupyter-widgets/controls",
            "_model_module_version": "1.5.0",
            "_model_name": "HBoxModel",
            "_view_count": null,
            "_view_module": "@jupyter-widgets/controls",
            "_view_module_version": "1.5.0",
            "_view_name": "HBoxView",
            "box_style": "",
            "children": [
              "IPY_MODEL_654d74dcf79241e3a22b62e90477670c",
              "IPY_MODEL_6776cec65d274b23be9c0340f796797d",
              "IPY_MODEL_e32b07c2bdf54382b55af2012bb5c11c"
            ],
            "layout": "IPY_MODEL_7e881a518c864c73a1f3502aac949510"
          }
        },
        "654d74dcf79241e3a22b62e90477670c": {
          "model_module": "@jupyter-widgets/controls",
          "model_name": "HTMLModel",
          "model_module_version": "1.5.0",
          "state": {
            "_dom_classes": [],
            "_model_module": "@jupyter-widgets/controls",
            "_model_module_version": "1.5.0",
            "_model_name": "HTMLModel",
            "_view_count": null,
            "_view_module": "@jupyter-widgets/controls",
            "_view_module_version": "1.5.0",
            "_view_name": "HTMLView",
            "description": "",
            "description_tooltip": null,
            "layout": "IPY_MODEL_88ed793c481c40aa85040ffca969be5a",
            "placeholder": "​",
            "style": "IPY_MODEL_9cb6baddf5774b93990b3af89019a9e9",
            "value": "Downloading: 100%"
          }
        },
        "6776cec65d274b23be9c0340f796797d": {
          "model_module": "@jupyter-widgets/controls",
          "model_name": "FloatProgressModel",
          "model_module_version": "1.5.0",
          "state": {
            "_dom_classes": [],
            "_model_module": "@jupyter-widgets/controls",
            "_model_module_version": "1.5.0",
            "_model_name": "FloatProgressModel",
            "_view_count": null,
            "_view_module": "@jupyter-widgets/controls",
            "_view_module_version": "1.5.0",
            "_view_name": "ProgressView",
            "bar_style": "success",
            "description": "",
            "description_tooltip": null,
            "layout": "IPY_MODEL_e8c52ca43d094c39af867f7af5d468ae",
            "max": 25,
            "min": 0,
            "orientation": "horizontal",
            "style": "IPY_MODEL_55ab865143c74a5c8de55bb16f2c01c3",
            "value": 25
          }
        },
        "e32b07c2bdf54382b55af2012bb5c11c": {
          "model_module": "@jupyter-widgets/controls",
          "model_name": "HTMLModel",
          "model_module_version": "1.5.0",
          "state": {
            "_dom_classes": [],
            "_model_module": "@jupyter-widgets/controls",
            "_model_module_version": "1.5.0",
            "_model_name": "HTMLModel",
            "_view_count": null,
            "_view_module": "@jupyter-widgets/controls",
            "_view_module_version": "1.5.0",
            "_view_name": "HTMLView",
            "description": "",
            "description_tooltip": null,
            "layout": "IPY_MODEL_765fc60a698d469288a4bb99f3e8a315",
            "placeholder": "​",
            "style": "IPY_MODEL_60e3ec83c94442efb2c0f04cef982fe5",
            "value": " 25.0/25.0 [00:00&lt;00:00, 745B/s]"
          }
        },
        "7e881a518c864c73a1f3502aac949510": {
          "model_module": "@jupyter-widgets/base",
          "model_name": "LayoutModel",
          "model_module_version": "1.2.0",
          "state": {
            "_model_module": "@jupyter-widgets/base",
            "_model_module_version": "1.2.0",
            "_model_name": "LayoutModel",
            "_view_count": null,
            "_view_module": "@jupyter-widgets/base",
            "_view_module_version": "1.2.0",
            "_view_name": "LayoutView",
            "align_content": null,
            "align_items": null,
            "align_self": null,
            "border": null,
            "bottom": null,
            "display": null,
            "flex": null,
            "flex_flow": null,
            "grid_area": null,
            "grid_auto_columns": null,
            "grid_auto_flow": null,
            "grid_auto_rows": null,
            "grid_column": null,
            "grid_gap": null,
            "grid_row": null,
            "grid_template_areas": null,
            "grid_template_columns": null,
            "grid_template_rows": null,
            "height": null,
            "justify_content": null,
            "justify_items": null,
            "left": null,
            "margin": null,
            "max_height": null,
            "max_width": null,
            "min_height": null,
            "min_width": null,
            "object_fit": null,
            "object_position": null,
            "order": null,
            "overflow": null,
            "overflow_x": null,
            "overflow_y": null,
            "padding": null,
            "right": null,
            "top": null,
            "visibility": null,
            "width": null
          }
        },
        "88ed793c481c40aa85040ffca969be5a": {
          "model_module": "@jupyter-widgets/base",
          "model_name": "LayoutModel",
          "model_module_version": "1.2.0",
          "state": {
            "_model_module": "@jupyter-widgets/base",
            "_model_module_version": "1.2.0",
            "_model_name": "LayoutModel",
            "_view_count": null,
            "_view_module": "@jupyter-widgets/base",
            "_view_module_version": "1.2.0",
            "_view_name": "LayoutView",
            "align_content": null,
            "align_items": null,
            "align_self": null,
            "border": null,
            "bottom": null,
            "display": null,
            "flex": null,
            "flex_flow": null,
            "grid_area": null,
            "grid_auto_columns": null,
            "grid_auto_flow": null,
            "grid_auto_rows": null,
            "grid_column": null,
            "grid_gap": null,
            "grid_row": null,
            "grid_template_areas": null,
            "grid_template_columns": null,
            "grid_template_rows": null,
            "height": null,
            "justify_content": null,
            "justify_items": null,
            "left": null,
            "margin": null,
            "max_height": null,
            "max_width": null,
            "min_height": null,
            "min_width": null,
            "object_fit": null,
            "object_position": null,
            "order": null,
            "overflow": null,
            "overflow_x": null,
            "overflow_y": null,
            "padding": null,
            "right": null,
            "top": null,
            "visibility": null,
            "width": null
          }
        },
        "9cb6baddf5774b93990b3af89019a9e9": {
          "model_module": "@jupyter-widgets/controls",
          "model_name": "DescriptionStyleModel",
          "model_module_version": "1.5.0",
          "state": {
            "_model_module": "@jupyter-widgets/controls",
            "_model_module_version": "1.5.0",
            "_model_name": "DescriptionStyleModel",
            "_view_count": null,
            "_view_module": "@jupyter-widgets/base",
            "_view_module_version": "1.2.0",
            "_view_name": "StyleView",
            "description_width": ""
          }
        },
        "e8c52ca43d094c39af867f7af5d468ae": {
          "model_module": "@jupyter-widgets/base",
          "model_name": "LayoutModel",
          "model_module_version": "1.2.0",
          "state": {
            "_model_module": "@jupyter-widgets/base",
            "_model_module_version": "1.2.0",
            "_model_name": "LayoutModel",
            "_view_count": null,
            "_view_module": "@jupyter-widgets/base",
            "_view_module_version": "1.2.0",
            "_view_name": "LayoutView",
            "align_content": null,
            "align_items": null,
            "align_self": null,
            "border": null,
            "bottom": null,
            "display": null,
            "flex": null,
            "flex_flow": null,
            "grid_area": null,
            "grid_auto_columns": null,
            "grid_auto_flow": null,
            "grid_auto_rows": null,
            "grid_column": null,
            "grid_gap": null,
            "grid_row": null,
            "grid_template_areas": null,
            "grid_template_columns": null,
            "grid_template_rows": null,
            "height": null,
            "justify_content": null,
            "justify_items": null,
            "left": null,
            "margin": null,
            "max_height": null,
            "max_width": null,
            "min_height": null,
            "min_width": null,
            "object_fit": null,
            "object_position": null,
            "order": null,
            "overflow": null,
            "overflow_x": null,
            "overflow_y": null,
            "padding": null,
            "right": null,
            "top": null,
            "visibility": null,
            "width": null
          }
        },
        "55ab865143c74a5c8de55bb16f2c01c3": {
          "model_module": "@jupyter-widgets/controls",
          "model_name": "ProgressStyleModel",
          "model_module_version": "1.5.0",
          "state": {
            "_model_module": "@jupyter-widgets/controls",
            "_model_module_version": "1.5.0",
            "_model_name": "ProgressStyleModel",
            "_view_count": null,
            "_view_module": "@jupyter-widgets/base",
            "_view_module_version": "1.2.0",
            "_view_name": "StyleView",
            "bar_color": null,
            "description_width": ""
          }
        },
        "765fc60a698d469288a4bb99f3e8a315": {
          "model_module": "@jupyter-widgets/base",
          "model_name": "LayoutModel",
          "model_module_version": "1.2.0",
          "state": {
            "_model_module": "@jupyter-widgets/base",
            "_model_module_version": "1.2.0",
            "_model_name": "LayoutModel",
            "_view_count": null,
            "_view_module": "@jupyter-widgets/base",
            "_view_module_version": "1.2.0",
            "_view_name": "LayoutView",
            "align_content": null,
            "align_items": null,
            "align_self": null,
            "border": null,
            "bottom": null,
            "display": null,
            "flex": null,
            "flex_flow": null,
            "grid_area": null,
            "grid_auto_columns": null,
            "grid_auto_flow": null,
            "grid_auto_rows": null,
            "grid_column": null,
            "grid_gap": null,
            "grid_row": null,
            "grid_template_areas": null,
            "grid_template_columns": null,
            "grid_template_rows": null,
            "height": null,
            "justify_content": null,
            "justify_items": null,
            "left": null,
            "margin": null,
            "max_height": null,
            "max_width": null,
            "min_height": null,
            "min_width": null,
            "object_fit": null,
            "object_position": null,
            "order": null,
            "overflow": null,
            "overflow_x": null,
            "overflow_y": null,
            "padding": null,
            "right": null,
            "top": null,
            "visibility": null,
            "width": null
          }
        },
        "60e3ec83c94442efb2c0f04cef982fe5": {
          "model_module": "@jupyter-widgets/controls",
          "model_name": "DescriptionStyleModel",
          "model_module_version": "1.5.0",
          "state": {
            "_model_module": "@jupyter-widgets/controls",
            "_model_module_version": "1.5.0",
            "_model_name": "DescriptionStyleModel",
            "_view_count": null,
            "_view_module": "@jupyter-widgets/base",
            "_view_module_version": "1.2.0",
            "_view_name": "StyleView",
            "description_width": ""
          }
        }
      }
    }
  },
  "cells": [
    {
      "cell_type": "markdown",
      "source": [
        "<img src=\"https://minas.medellin.unal.edu.co/eventos/latwaves2018/images/logo_unal.png\" alt=\"unal logo\" width=\"400\"/>\n",
        "\n",
        "# Data Analysis\n",
        "## Introduction to Data Science and Visualization 2022-1\n",
        "### By \n",
        "- Rafael Mauricio Ruiz Nino ramruizni@unal.edu.co\n",
        "- Jheison Alejandro Morales Vásquez jhmoralesva@unal.edu.co\n",
        "\n",
        "The goal of this assignment focuses on build a model to predict repair to simple python code."
      ],
      "metadata": {
        "id": "iv7Xfl2wBjIp"
      }
    },
    {
      "cell_type": "markdown",
      "source": [
        "## Configuring environment\n"
      ],
      "metadata": {
        "id": "p4V1DyMJIAt6"
      }
    },
    {
      "cell_type": "code",
      "execution_count": 1,
      "metadata": {
        "colab": {
          "base_uri": "https://localhost:8080/"
        },
        "id": "Wj5OxgUhaFiM",
        "outputId": "2a4b6bd3-d477-4dcd-b019-2c4bafa60c1a"
      },
      "outputs": [
        {
          "output_type": "stream",
          "name": "stdout",
          "text": [
            "Looking in indexes: https://pypi.org/simple, https://us-python.pkg.dev/colab-wheels/public/simple/\n",
            "Requirement already satisfied: tqdm in /usr/local/lib/python3.7/dist-packages (4.64.0)\n",
            "Looking in indexes: https://pypi.org/simple, https://us-python.pkg.dev/colab-wheels/public/simple/\n",
            "Requirement already satisfied: torch in /usr/local/lib/python3.7/dist-packages (1.11.0+cu113)\n",
            "Requirement already satisfied: typing-extensions in /usr/local/lib/python3.7/dist-packages (from torch) (4.1.1)\n",
            "Looking in indexes: https://pypi.org/simple, https://us-python.pkg.dev/colab-wheels/public/simple/\n",
            "Requirement already satisfied: torchvision in /usr/local/lib/python3.7/dist-packages (0.12.0+cu113)\n",
            "Requirement already satisfied: pillow!=8.3.*,>=5.3.0 in /usr/local/lib/python3.7/dist-packages (from torchvision) (7.1.2)\n",
            "Requirement already satisfied: torch==1.11.0 in /usr/local/lib/python3.7/dist-packages (from torchvision) (1.11.0+cu113)\n",
            "Requirement already satisfied: typing-extensions in /usr/local/lib/python3.7/dist-packages (from torchvision) (4.1.1)\n",
            "Requirement already satisfied: requests in /usr/local/lib/python3.7/dist-packages (from torchvision) (2.23.0)\n",
            "Requirement already satisfied: numpy in /usr/local/lib/python3.7/dist-packages (from torchvision) (1.21.6)\n",
            "Requirement already satisfied: chardet<4,>=3.0.2 in /usr/local/lib/python3.7/dist-packages (from requests->torchvision) (3.0.4)\n",
            "Requirement already satisfied: urllib3!=1.25.0,!=1.25.1,<1.26,>=1.21.1 in /usr/local/lib/python3.7/dist-packages (from requests->torchvision) (1.24.3)\n",
            "Requirement already satisfied: idna<3,>=2.5 in /usr/local/lib/python3.7/dist-packages (from requests->torchvision) (2.10)\n",
            "Requirement already satisfied: certifi>=2017.4.17 in /usr/local/lib/python3.7/dist-packages (from requests->torchvision) (2022.6.15)\n",
            "Looking in indexes: https://pypi.org/simple, https://us-python.pkg.dev/colab-wheels/public/simple/\n",
            "Collecting fairseq\n",
            "  Downloading fairseq-0.12.2-cp37-cp37m-manylinux_2_5_x86_64.manylinux1_x86_64.whl (11.0 MB)\n",
            "\u001b[K     |████████████████████████████████| 11.0 MB 7.8 MB/s \n",
            "\u001b[?25hRequirement already satisfied: tqdm in /usr/local/lib/python3.7/dist-packages (from fairseq) (4.64.0)\n",
            "Requirement already satisfied: cython in /usr/local/lib/python3.7/dist-packages (from fairseq) (0.29.30)\n",
            "Requirement already satisfied: regex in /usr/local/lib/python3.7/dist-packages (from fairseq) (2022.6.2)\n",
            "Requirement already satisfied: numpy in /usr/local/lib/python3.7/dist-packages (from fairseq) (1.21.6)\n",
            "Requirement already satisfied: cffi in /usr/local/lib/python3.7/dist-packages (from fairseq) (1.15.0)\n",
            "Collecting omegaconf<2.1\n",
            "  Downloading omegaconf-2.0.6-py3-none-any.whl (36 kB)\n",
            "Collecting sacrebleu>=1.4.12\n",
            "  Downloading sacrebleu-2.1.0-py3-none-any.whl (92 kB)\n",
            "\u001b[K     |████████████████████████████████| 92 kB 10.7 MB/s \n",
            "\u001b[?25hCollecting bitarray\n",
            "  Downloading bitarray-2.5.1-cp37-cp37m-manylinux_2_17_x86_64.manylinux2014_x86_64.whl (236 kB)\n",
            "\u001b[K     |████████████████████████████████| 236 kB 50.5 MB/s \n",
            "\u001b[?25hCollecting hydra-core<1.1,>=1.0.7\n",
            "  Downloading hydra_core-1.0.7-py3-none-any.whl (123 kB)\n",
            "\u001b[K     |████████████████████████████████| 123 kB 54.1 MB/s \n",
            "\u001b[?25hRequirement already satisfied: torchaudio>=0.8.0 in /usr/local/lib/python3.7/dist-packages (from fairseq) (0.11.0+cu113)\n",
            "Requirement already satisfied: torch in /usr/local/lib/python3.7/dist-packages (from fairseq) (1.11.0+cu113)\n",
            "Collecting antlr4-python3-runtime==4.8\n",
            "  Downloading antlr4-python3-runtime-4.8.tar.gz (112 kB)\n",
            "\u001b[K     |████████████████████████████████| 112 kB 70.8 MB/s \n",
            "\u001b[?25hRequirement already satisfied: importlib-resources in /usr/local/lib/python3.7/dist-packages (from hydra-core<1.1,>=1.0.7->fairseq) (5.7.1)\n",
            "Requirement already satisfied: typing-extensions in /usr/local/lib/python3.7/dist-packages (from omegaconf<2.1->fairseq) (4.1.1)\n",
            "Collecting PyYAML>=5.1.*\n",
            "  Downloading PyYAML-6.0-cp37-cp37m-manylinux_2_5_x86_64.manylinux1_x86_64.manylinux_2_12_x86_64.manylinux2010_x86_64.whl (596 kB)\n",
            "\u001b[K     |████████████████████████████████| 596 kB 36.0 MB/s \n",
            "\u001b[?25hCollecting portalocker\n",
            "  Downloading portalocker-2.4.0-py2.py3-none-any.whl (16 kB)\n",
            "Collecting colorama\n",
            "  Downloading colorama-0.4.5-py2.py3-none-any.whl (16 kB)\n",
            "Requirement already satisfied: tabulate>=0.8.9 in /usr/local/lib/python3.7/dist-packages (from sacrebleu>=1.4.12->fairseq) (0.8.9)\n",
            "Requirement already satisfied: pycparser in /usr/local/lib/python3.7/dist-packages (from cffi->fairseq) (2.21)\n",
            "Requirement already satisfied: zipp>=3.1.0 in /usr/local/lib/python3.7/dist-packages (from importlib-resources->hydra-core<1.1,>=1.0.7->fairseq) (3.8.0)\n",
            "Building wheels for collected packages: antlr4-python3-runtime\n",
            "  Building wheel for antlr4-python3-runtime (setup.py) ... \u001b[?25l\u001b[?25hdone\n",
            "  Created wheel for antlr4-python3-runtime: filename=antlr4_python3_runtime-4.8-py3-none-any.whl size=141230 sha256=df3faf884968a07fcd06323d18d880e693c5ed53b514604d33c8b9f99498a30e\n",
            "  Stored in directory: /root/.cache/pip/wheels/ca/33/b7/336836125fc9bb4ceaa4376d8abca10ca8bc84ddc824baea6c\n",
            "Successfully built antlr4-python3-runtime\n",
            "Installing collected packages: PyYAML, portalocker, omegaconf, colorama, antlr4-python3-runtime, sacrebleu, hydra-core, bitarray, fairseq\n",
            "  Attempting uninstall: PyYAML\n",
            "    Found existing installation: PyYAML 3.13\n",
            "    Uninstalling PyYAML-3.13:\n",
            "      Successfully uninstalled PyYAML-3.13\n",
            "Successfully installed PyYAML-6.0 antlr4-python3-runtime-4.8 bitarray-2.5.1 colorama-0.4.5 fairseq-0.12.2 hydra-core-1.0.7 omegaconf-2.0.6 portalocker-2.4.0 sacrebleu-2.1.0\n",
            "Looking in indexes: https://pypi.org/simple, https://us-python.pkg.dev/colab-wheels/public/simple/\n",
            "Collecting sacremoses\n",
            "  Downloading sacremoses-0.0.53.tar.gz (880 kB)\n",
            "\u001b[K     |████████████████████████████████| 880 kB 14.5 MB/s \n",
            "\u001b[?25hRequirement already satisfied: regex in /usr/local/lib/python3.7/dist-packages (from sacremoses) (2022.6.2)\n",
            "Requirement already satisfied: six in /usr/local/lib/python3.7/dist-packages (from sacremoses) (1.15.0)\n",
            "Requirement already satisfied: click in /usr/local/lib/python3.7/dist-packages (from sacremoses) (7.1.2)\n",
            "Requirement already satisfied: joblib in /usr/local/lib/python3.7/dist-packages (from sacremoses) (1.1.0)\n",
            "Requirement already satisfied: tqdm in /usr/local/lib/python3.7/dist-packages (from sacremoses) (4.64.0)\n",
            "Building wheels for collected packages: sacremoses\n",
            "  Building wheel for sacremoses (setup.py) ... \u001b[?25l\u001b[?25hdone\n",
            "  Created wheel for sacremoses: filename=sacremoses-0.0.53-py3-none-any.whl size=895260 sha256=e89b2270eb71fa9bf75845ba672ef33cec389fa691c3330328e7c18e14676e36\n",
            "  Stored in directory: /root/.cache/pip/wheels/87/39/dd/a83eeef36d0bf98e7a4d1933a4ad2d660295a40613079bafc9\n",
            "Successfully built sacremoses\n",
            "Installing collected packages: sacremoses\n",
            "Successfully installed sacremoses-0.0.53\n",
            "Looking in indexes: https://pypi.org/simple, https://us-python.pkg.dev/colab-wheels/public/simple/\n",
            "Collecting fastBPE\n",
            "  Downloading fastBPE-0.1.0.tar.gz (35 kB)\n",
            "Building wheels for collected packages: fastBPE\n",
            "  Building wheel for fastBPE (setup.py) ... \u001b[?25l\u001b[?25hdone\n",
            "  Created wheel for fastBPE: filename=fastBPE-0.1.0-cp37-cp37m-linux_x86_64.whl size=483890 sha256=5038b9e22b5d92a5c0bf3314816e92b00940a477f2fe3477f0e75e3fb469798d\n",
            "  Stored in directory: /root/.cache/pip/wheels/bd/d4/0e/0d317a65f77d3f8049fedd8a2ee0519164cf3e6bd77ef886f1\n",
            "Successfully built fastBPE\n",
            "Installing collected packages: fastBPE\n",
            "Successfully installed fastBPE-0.1.0\n"
          ]
        }
      ],
      "source": [
        "!pip install tqdm\n",
        "!pip install torch\n",
        "!pip install torchvision\n",
        "!pip install fairseq\n",
        "!pip install sacremoses\n",
        "!pip install fastBPE"
      ]
    },
    {
      "cell_type": "code",
      "source": [
        "import torch"
      ],
      "metadata": {
        "id": "LuJdRS97inQJ"
      },
      "execution_count": 2,
      "outputs": []
    },
    {
      "cell_type": "markdown",
      "source": [
        "### Test with torch y fairseq"
      ],
      "metadata": {
        "id": "QtWC5Ie6IEzZ"
      }
    },
    {
      "cell_type": "code",
      "source": [
        "en2de = torch.hub.load('pytorch/fairseq', 'transformer.wmt19.en-de.single_model')"
      ],
      "metadata": {
        "colab": {
          "base_uri": "https://localhost:8080/"
        },
        "id": "z65l7Vx-imAh",
        "outputId": "0346ea43-88d9-4d0f-d1f6-6cbf3eca477e"
      },
      "execution_count": null,
      "outputs": [
        {
          "output_type": "stream",
          "name": "stderr",
          "text": [
            "Downloading: \"https://github.com/pytorch/fairseq/archive/main.zip\" to /root/.cache/torch/hub/main.zip\n",
            "2022-06-27 15:41:31 | INFO | fairseq.tasks.text_to_speech | Please install tensorboardX: pip install tensorboardX\n"
          ]
        },
        {
          "output_type": "stream",
          "name": "stdout",
          "text": [
            "running build_ext\n",
            "cythoning fairseq/data/data_utils_fast.pyx to fairseq/data/data_utils_fast.cpp\n"
          ]
        },
        {
          "output_type": "stream",
          "name": "stderr",
          "text": [
            "/usr/local/lib/python3.7/dist-packages/torch/utils/cpp_extension.py:387: UserWarning: Attempted to use ninja as the BuildExtension backend but we could not find ninja.. Falling back to using the slow distutils backend.\n",
            "  warnings.warn(msg.format('we could not find ninja.'))\n"
          ]
        },
        {
          "output_type": "stream",
          "name": "stdout",
          "text": [
            "cythoning fairseq/data/token_block_utils_fast.pyx to fairseq/data/token_block_utils_fast.cpp\n",
            "building 'fairseq.libbleu' extension\n",
            "creating build\n",
            "creating build/temp.linux-x86_64-3.7\n",
            "creating build/temp.linux-x86_64-3.7/fairseq\n",
            "creating build/temp.linux-x86_64-3.7/fairseq/clib\n",
            "creating build/temp.linux-x86_64-3.7/fairseq/clib/libbleu\n",
            "x86_64-linux-gnu-gcc -pthread -Wno-unused-result -Wsign-compare -DNDEBUG -g -fwrapv -O2 -Wall -g -fstack-protector-strong -Wformat -Werror=format-security -g -fwrapv -O2 -g -fstack-protector-strong -Wformat -Werror=format-security -Wdate-time -D_FORTIFY_SOURCE=2 -fPIC -I/usr/include/python3.7m -c fairseq/clib/libbleu/libbleu.cpp -o build/temp.linux-x86_64-3.7/fairseq/clib/libbleu/libbleu.o -std=c++11 -O3 -DTORCH_API_INCLUDE_EXTENSION_H -DPYBIND11_COMPILER_TYPE=\"_gcc\" -DPYBIND11_STDLIB=\"_libstdcpp\" -DPYBIND11_BUILD_ABI=\"_cxxabi1011\" -DTORCH_EXTENSION_NAME=libbleu -D_GLIBCXX_USE_CXX11_ABI=0\n",
            "x86_64-linux-gnu-gcc -pthread -Wno-unused-result -Wsign-compare -DNDEBUG -g -fwrapv -O2 -Wall -g -fstack-protector-strong -Wformat -Werror=format-security -g -fwrapv -O2 -g -fstack-protector-strong -Wformat -Werror=format-security -Wdate-time -D_FORTIFY_SOURCE=2 -fPIC -I/usr/include/python3.7m -c fairseq/clib/libbleu/module.cpp -o build/temp.linux-x86_64-3.7/fairseq/clib/libbleu/module.o -std=c++11 -O3 -DTORCH_API_INCLUDE_EXTENSION_H -DPYBIND11_COMPILER_TYPE=\"_gcc\" -DPYBIND11_STDLIB=\"_libstdcpp\" -DPYBIND11_BUILD_ABI=\"_cxxabi1011\" -DTORCH_EXTENSION_NAME=libbleu -D_GLIBCXX_USE_CXX11_ABI=0\n",
            "creating build/lib.linux-x86_64-3.7\n",
            "creating build/lib.linux-x86_64-3.7/fairseq\n",
            "x86_64-linux-gnu-g++ -pthread -shared -Wl,-O1 -Wl,-Bsymbolic-functions -Wl,-Bsymbolic-functions -g -fwrapv -O2 -Wl,-Bsymbolic-functions -g -fwrapv -O2 -g -fstack-protector-strong -Wformat -Werror=format-security -Wdate-time -D_FORTIFY_SOURCE=2 build/temp.linux-x86_64-3.7/fairseq/clib/libbleu/libbleu.o build/temp.linux-x86_64-3.7/fairseq/clib/libbleu/module.o -o build/lib.linux-x86_64-3.7/fairseq/libbleu.cpython-37m-x86_64-linux-gnu.so\n",
            "building 'fairseq.data.data_utils_fast' extension\n",
            "creating build/temp.linux-x86_64-3.7/fairseq/data\n",
            "x86_64-linux-gnu-gcc -pthread -Wno-unused-result -Wsign-compare -DNDEBUG -g -fwrapv -O2 -Wall -g -fstack-protector-strong -Wformat -Werror=format-security -g -fwrapv -O2 -g -fstack-protector-strong -Wformat -Werror=format-security -Wdate-time -D_FORTIFY_SOURCE=2 -fPIC -I/usr/local/lib/python3.7/dist-packages/numpy/core/include -I/usr/local/lib/python3.7/dist-packages/numpy/core/include -I/usr/include/python3.7m -c fairseq/data/data_utils_fast.cpp -o build/temp.linux-x86_64-3.7/fairseq/data/data_utils_fast.o -std=c++11 -O3 -DTORCH_API_INCLUDE_EXTENSION_H -DPYBIND11_COMPILER_TYPE=\"_gcc\" -DPYBIND11_STDLIB=\"_libstdcpp\" -DPYBIND11_BUILD_ABI=\"_cxxabi1011\" -DTORCH_EXTENSION_NAME=data_utils_fast -D_GLIBCXX_USE_CXX11_ABI=0\n",
            "creating build/lib.linux-x86_64-3.7/fairseq/data\n",
            "x86_64-linux-gnu-g++ -pthread -shared -Wl,-O1 -Wl,-Bsymbolic-functions -Wl,-Bsymbolic-functions -g -fwrapv -O2 -Wl,-Bsymbolic-functions -g -fwrapv -O2 -g -fstack-protector-strong -Wformat -Werror=format-security -Wdate-time -D_FORTIFY_SOURCE=2 build/temp.linux-x86_64-3.7/fairseq/data/data_utils_fast.o -o build/lib.linux-x86_64-3.7/fairseq/data/data_utils_fast.cpython-37m-x86_64-linux-gnu.so\n",
            "building 'fairseq.data.token_block_utils_fast' extension\n",
            "x86_64-linux-gnu-gcc -pthread -Wno-unused-result -Wsign-compare -DNDEBUG -g -fwrapv -O2 -Wall -g -fstack-protector-strong -Wformat -Werror=format-security -g -fwrapv -O2 -g -fstack-protector-strong -Wformat -Werror=format-security -Wdate-time -D_FORTIFY_SOURCE=2 -fPIC -I/usr/local/lib/python3.7/dist-packages/numpy/core/include -I/usr/local/lib/python3.7/dist-packages/numpy/core/include -I/usr/include/python3.7m -c fairseq/data/token_block_utils_fast.cpp -o build/temp.linux-x86_64-3.7/fairseq/data/token_block_utils_fast.o -std=c++11 -O3 -DTORCH_API_INCLUDE_EXTENSION_H -DPYBIND11_COMPILER_TYPE=\"_gcc\" -DPYBIND11_STDLIB=\"_libstdcpp\" -DPYBIND11_BUILD_ABI=\"_cxxabi1011\" -DTORCH_EXTENSION_NAME=token_block_utils_fast -D_GLIBCXX_USE_CXX11_ABI=0\n",
            "x86_64-linux-gnu-g++ -pthread -shared -Wl,-O1 -Wl,-Bsymbolic-functions -Wl,-Bsymbolic-functions -g -fwrapv -O2 -Wl,-Bsymbolic-functions -g -fwrapv -O2 -g -fstack-protector-strong -Wformat -Werror=format-security -Wdate-time -D_FORTIFY_SOURCE=2 build/temp.linux-x86_64-3.7/fairseq/data/token_block_utils_fast.o -o build/lib.linux-x86_64-3.7/fairseq/data/token_block_utils_fast.cpython-37m-x86_64-linux-gnu.so\n",
            "building 'fairseq.libbase' extension\n",
            "creating build/temp.linux-x86_64-3.7/fairseq/clib/libbase\n",
            "x86_64-linux-gnu-gcc -pthread -Wno-unused-result -Wsign-compare -DNDEBUG -g -fwrapv -O2 -Wall -g -fstack-protector-strong -Wformat -Werror=format-security -g -fwrapv -O2 -g -fstack-protector-strong -Wformat -Werror=format-security -Wdate-time -D_FORTIFY_SOURCE=2 -fPIC -I/usr/local/lib/python3.7/dist-packages/torch/include -I/usr/local/lib/python3.7/dist-packages/torch/include/torch/csrc/api/include -I/usr/local/lib/python3.7/dist-packages/torch/include/TH -I/usr/local/lib/python3.7/dist-packages/torch/include/THC -I/usr/include/python3.7m -c fairseq/clib/libbase/balanced_assignment.cpp -o build/temp.linux-x86_64-3.7/fairseq/clib/libbase/balanced_assignment.o -DTORCH_API_INCLUDE_EXTENSION_H -DPYBIND11_COMPILER_TYPE=\"_gcc\" -DPYBIND11_STDLIB=\"_libstdcpp\" -DPYBIND11_BUILD_ABI=\"_cxxabi1011\" -DTORCH_EXTENSION_NAME=libbase -D_GLIBCXX_USE_CXX11_ABI=0 -std=c++14\n",
            "x86_64-linux-gnu-g++ -pthread -shared -Wl,-O1 -Wl,-Bsymbolic-functions -Wl,-Bsymbolic-functions -g -fwrapv -O2 -Wl,-Bsymbolic-functions -g -fwrapv -O2 -g -fstack-protector-strong -Wformat -Werror=format-security -Wdate-time -D_FORTIFY_SOURCE=2 build/temp.linux-x86_64-3.7/fairseq/clib/libbase/balanced_assignment.o -L/usr/local/lib/python3.7/dist-packages/torch/lib -lc10 -ltorch -ltorch_cpu -ltorch_python -o build/lib.linux-x86_64-3.7/fairseq/libbase.cpython-37m-x86_64-linux-gnu.so\n",
            "building 'fairseq.libnat' extension\n",
            "creating build/temp.linux-x86_64-3.7/fairseq/clib/libnat\n",
            "x86_64-linux-gnu-gcc -pthread -Wno-unused-result -Wsign-compare -DNDEBUG -g -fwrapv -O2 -Wall -g -fstack-protector-strong -Wformat -Werror=format-security -g -fwrapv -O2 -g -fstack-protector-strong -Wformat -Werror=format-security -Wdate-time -D_FORTIFY_SOURCE=2 -fPIC -I/usr/local/lib/python3.7/dist-packages/torch/include -I/usr/local/lib/python3.7/dist-packages/torch/include/torch/csrc/api/include -I/usr/local/lib/python3.7/dist-packages/torch/include/TH -I/usr/local/lib/python3.7/dist-packages/torch/include/THC -I/usr/include/python3.7m -c fairseq/clib/libnat/edit_dist.cpp -o build/temp.linux-x86_64-3.7/fairseq/clib/libnat/edit_dist.o -DTORCH_API_INCLUDE_EXTENSION_H -DPYBIND11_COMPILER_TYPE=\"_gcc\" -DPYBIND11_STDLIB=\"_libstdcpp\" -DPYBIND11_BUILD_ABI=\"_cxxabi1011\" -DTORCH_EXTENSION_NAME=libnat -D_GLIBCXX_USE_CXX11_ABI=0 -std=c++14\n",
            "x86_64-linux-gnu-g++ -pthread -shared -Wl,-O1 -Wl,-Bsymbolic-functions -Wl,-Bsymbolic-functions -g -fwrapv -O2 -Wl,-Bsymbolic-functions -g -fwrapv -O2 -g -fstack-protector-strong -Wformat -Werror=format-security -Wdate-time -D_FORTIFY_SOURCE=2 build/temp.linux-x86_64-3.7/fairseq/clib/libnat/edit_dist.o -L/usr/local/lib/python3.7/dist-packages/torch/lib -lc10 -ltorch -ltorch_cpu -ltorch_python -o build/lib.linux-x86_64-3.7/fairseq/libnat.cpython-37m-x86_64-linux-gnu.so\n",
            "building 'alignment_train_cpu_binding' extension\n",
            "creating build/temp.linux-x86_64-3.7/examples\n",
            "creating build/temp.linux-x86_64-3.7/examples/operators\n",
            "x86_64-linux-gnu-gcc -pthread -Wno-unused-result -Wsign-compare -DNDEBUG -g -fwrapv -O2 -Wall -g -fstack-protector-strong -Wformat -Werror=format-security -g -fwrapv -O2 -g -fstack-protector-strong -Wformat -Werror=format-security -Wdate-time -D_FORTIFY_SOURCE=2 -fPIC -I/usr/local/lib/python3.7/dist-packages/torch/include -I/usr/local/lib/python3.7/dist-packages/torch/include/torch/csrc/api/include -I/usr/local/lib/python3.7/dist-packages/torch/include/TH -I/usr/local/lib/python3.7/dist-packages/torch/include/THC -I/usr/include/python3.7m -c examples/operators/alignment_train_cpu.cpp -o build/temp.linux-x86_64-3.7/examples/operators/alignment_train_cpu.o -DTORCH_API_INCLUDE_EXTENSION_H -DPYBIND11_COMPILER_TYPE=\"_gcc\" -DPYBIND11_STDLIB=\"_libstdcpp\" -DPYBIND11_BUILD_ABI=\"_cxxabi1011\" -DTORCH_EXTENSION_NAME=alignment_train_cpu_binding -D_GLIBCXX_USE_CXX11_ABI=0 -std=c++14\n",
            "x86_64-linux-gnu-g++ -pthread -shared -Wl,-O1 -Wl,-Bsymbolic-functions -Wl,-Bsymbolic-functions -g -fwrapv -O2 -Wl,-Bsymbolic-functions -g -fwrapv -O2 -g -fstack-protector-strong -Wformat -Werror=format-security -Wdate-time -D_FORTIFY_SOURCE=2 build/temp.linux-x86_64-3.7/examples/operators/alignment_train_cpu.o -L/usr/local/lib/python3.7/dist-packages/torch/lib -lc10 -ltorch -ltorch_cpu -ltorch_python -o build/lib.linux-x86_64-3.7/alignment_train_cpu_binding.cpython-37m-x86_64-linux-gnu.so\n"
          ]
        },
        {
          "output_type": "stream",
          "name": "stderr",
          "text": [
            "2022-06-27 15:42:39 | INFO | root | Generating grammar tables from /usr/lib/python3.7/lib2to3/Grammar.txt\n",
            "2022-06-27 15:42:39 | INFO | root | Generating grammar tables from /usr/lib/python3.7/lib2to3/PatternGrammar.txt\n"
          ]
        },
        {
          "output_type": "stream",
          "name": "stdout",
          "text": [
            "copying build/lib.linux-x86_64-3.7/fairseq/libbleu.cpython-37m-x86_64-linux-gnu.so -> fairseq\n",
            "copying build/lib.linux-x86_64-3.7/fairseq/data/data_utils_fast.cpython-37m-x86_64-linux-gnu.so -> fairseq/data\n",
            "copying build/lib.linux-x86_64-3.7/fairseq/data/token_block_utils_fast.cpython-37m-x86_64-linux-gnu.so -> fairseq/data\n",
            "copying build/lib.linux-x86_64-3.7/fairseq/libbase.cpython-37m-x86_64-linux-gnu.so -> fairseq\n",
            "copying build/lib.linux-x86_64-3.7/fairseq/libnat.cpython-37m-x86_64-linux-gnu.so -> fairseq\n",
            "copying build/lib.linux-x86_64-3.7/alignment_train_cpu_binding.cpython-37m-x86_64-linux-gnu.so -> \n"
          ]
        },
        {
          "output_type": "stream",
          "name": "stderr",
          "text": [
            "2022-06-27 15:42:40 | INFO | fairseq.file_utils | https://dl.fbaipublicfiles.com/fairseq/models/wmt19.en-de.joined-dict.single_model.tar.gz not found in cache, downloading to /tmp/tmptqyndhrp\n",
            "100%|██████████| 2988854245/2988854245 [02:15<00:00, 22018462.38B/s]\n",
            "2022-06-27 15:44:56 | INFO | fairseq.file_utils | copying /tmp/tmptqyndhrp to cache at /root/.cache/torch/pytorch_fairseq/81a0be5cbbf1c106320ef94681844d4594031c94c16b0475be11faa5a5120c48.63b093d59e7e0814ff799bb965ed4cbde30200b8c93a44bf8c1e5e98f5c54db3\n",
            "2022-06-27 15:45:08 | INFO | fairseq.file_utils | creating metadata file for /root/.cache/torch/pytorch_fairseq/81a0be5cbbf1c106320ef94681844d4594031c94c16b0475be11faa5a5120c48.63b093d59e7e0814ff799bb965ed4cbde30200b8c93a44bf8c1e5e98f5c54db3\n",
            "2022-06-27 15:45:08 | INFO | fairseq.file_utils | removing temp file /tmp/tmptqyndhrp\n",
            "2022-06-27 15:45:08 | INFO | fairseq.file_utils | loading archive file https://dl.fbaipublicfiles.com/fairseq/models/wmt19.en-de.joined-dict.single_model.tar.gz from cache at /root/.cache/torch/pytorch_fairseq/81a0be5cbbf1c106320ef94681844d4594031c94c16b0475be11faa5a5120c48.63b093d59e7e0814ff799bb965ed4cbde30200b8c93a44bf8c1e5e98f5c54db3\n",
            "2022-06-27 15:45:08 | INFO | fairseq.file_utils | extracting archive file /root/.cache/torch/pytorch_fairseq/81a0be5cbbf1c106320ef94681844d4594031c94c16b0475be11faa5a5120c48.63b093d59e7e0814ff799bb965ed4cbde30200b8c93a44bf8c1e5e98f5c54db3 to temp dir /tmp/tmp42mlzbhv\n",
            "2022-06-27 15:46:16 | INFO | fairseq.tasks.translation | [en] dictionary: 42024 types\n",
            "2022-06-27 15:46:16 | INFO | fairseq.tasks.translation | [de] dictionary: 42024 types\n",
            "2022-06-27 15:46:20 | INFO | fairseq.models.fairseq_model | {'_name': None, 'common': {'_name': None, 'no_progress_bar': True, 'log_interval': 100, 'log_format': 'simple', 'log_file': None, 'aim_repo': None, 'aim_run_hash': None, 'tensorboard_logdir': '', 'wandb_project': None, 'azureml_logging': False, 'seed': 2, 'cpu': False, 'tpu': False, 'bf16': False, 'memory_efficient_bf16': False, 'fp16': True, 'memory_efficient_fp16': False, 'fp16_no_flatten_grads': False, 'fp16_init_scale': 128, 'fp16_scale_window': None, 'fp16_scale_tolerance': 0.0, 'on_cpu_convert_precision': False, 'min_loss_scale': 0.0001, 'threshold_loss_scale': None, 'amp': False, 'amp_batch_retries': 2, 'amp_init_scale': 128, 'amp_scale_window': None, 'user_dir': None, 'empty_cache_freq': 0, 'all_gather_list_size': 16384, 'model_parallel_size': 1, 'quantization_config_path': None, 'profile': False, 'reset_logging': False, 'suppress_crashes': False, 'use_plasma_view': False, 'plasma_path': '/tmp/plasma'}, 'common_eval': {'_name': None, 'path': None, 'post_process': None, 'quiet': False, 'model_overrides': '{}', 'results_path': None}, 'distributed_training': {'_name': None, 'distributed_world_size': 2, 'distributed_num_procs': 1, 'distributed_rank': 0, 'distributed_backend': 'nccl', 'distributed_init_method': 'tcp://localhost:17406', 'distributed_port': -1, 'device_id': 0, 'distributed_no_spawn': False, 'ddp_backend': 'c10d', 'ddp_comm_hook': 'none', 'bucket_cap_mb': 25, 'fix_batches_to_gpus': False, 'find_unused_parameters': False, 'gradient_as_bucket_view': False, 'fast_stat_sync': False, 'heartbeat_timeout': -1, 'broadcast_buffers': False, 'slowmo_momentum': None, 'slowmo_base_algorithm': 'localsgd', 'localsgd_frequency': 3, 'nprocs_per_node': 1, 'pipeline_model_parallel': False, 'pipeline_balance': None, 'pipeline_devices': None, 'pipeline_chunks': 0, 'pipeline_encoder_balance': None, 'pipeline_encoder_devices': None, 'pipeline_decoder_balance': None, 'pipeline_decoder_devices': None, 'pipeline_checkpoint': 'never', 'zero_sharding': 'none', 'fp16': True, 'memory_efficient_fp16': False, 'tpu': True, 'no_reshard_after_forward': False, 'fp32_reduce_scatter': False, 'cpu_offload': False, 'use_sharded_state': False, 'not_fsdp_flatten_parameters': False}, 'dataset': {'_name': None, 'num_workers': 0, 'skip_invalid_size_inputs_valid_test': False, 'max_tokens': 3584, 'batch_size': None, 'required_batch_size_multiple': 8, 'required_seq_len_multiple': 1, 'dataset_impl': None, 'data_buffer_size': 10, 'train_subset': 'train', 'valid_subset': 'valid', 'combine_valid_subsets': None, 'ignore_unused_valid_subsets': False, 'validate_interval': 1, 'validate_interval_updates': 0, 'validate_after_updates': 0, 'fixed_validation_seed': None, 'disable_validation': False, 'max_tokens_valid': 3584, 'batch_size_valid': None, 'max_valid_steps': None, 'curriculum': 0, 'gen_subset': 'test', 'num_shards': 1, 'shard_id': 0, 'grouped_shuffling': False, 'update_epoch_batch_itr': True, 'update_ordered_indices_seed': False}, 'optimization': {'_name': None, 'max_epoch': 0, 'max_update': 201800, 'stop_time_hours': 0.0, 'clip_norm': 0.0, 'sentence_avg': False, 'update_freq': [1], 'lr': [0.0007], 'stop_min_lr': 1e-09, 'use_bmuf': False, 'skip_remainder_batch': False}, 'checkpoint': {'_name': None, 'save_dir': '/checkpoint/edunov/20190403/wmt19en2de.btsample5.ffn8192.transformer_wmt_en_de_big_bsz3584_lr0.0007_dr0.2_size_updates200000_seed20_lbsm0.1_size_sa1_upsample2//finetune1', 'restore_file': 'checkpoint_last.pt', 'continue_once': None, 'finetune_from_model': None, 'reset_dataloader': False, 'reset_lr_scheduler': False, 'reset_meters': False, 'reset_optimizer': False, 'optimizer_overrides': '{}', 'save_interval': 1, 'save_interval_updates': 200, 'keep_interval_updates': -1, 'keep_interval_updates_pattern': -1, 'keep_last_epochs': -1, 'keep_best_checkpoints': -1, 'no_save': False, 'no_epoch_checkpoints': False, 'no_last_checkpoints': False, 'no_save_optimizer_state': False, 'best_checkpoint_metric': 'loss', 'maximize_best_checkpoint_metric': False, 'patience': -1, 'checkpoint_suffix': '', 'checkpoint_shard_count': 1, 'load_checkpoint_on_all_dp_ranks': False, 'write_checkpoints_asynchronously': False, 'model_parallel_size': 1}, 'bmuf': {'_name': None, 'block_lr': 1.0, 'block_momentum': 0.875, 'global_sync_iter': 50, 'warmup_iterations': 500, 'use_nbm': False, 'average_sync': False, 'distributed_world_size': 2}, 'generation': {'_name': None, 'beam': 5, 'nbest': 1, 'max_len_a': 0.0, 'max_len_b': 200, 'min_len': 1, 'match_source_len': False, 'unnormalized': False, 'no_early_stop': False, 'no_beamable_mm': False, 'lenpen': 1.0, 'unkpen': 0.0, 'replace_unk': None, 'sacrebleu': False, 'score_reference': False, 'prefix_size': 0, 'no_repeat_ngram_size': 0, 'sampling': False, 'sampling_topk': -1, 'sampling_topp': -1.0, 'constraints': None, 'temperature': 1.0, 'diverse_beam_groups': -1, 'diverse_beam_strength': 0.5, 'diversity_rate': -1.0, 'print_alignment': None, 'print_step': False, 'lm_path': None, 'lm_weight': 0.0, 'iter_decode_eos_penalty': 0.0, 'iter_decode_max_iter': 10, 'iter_decode_force_max_iter': False, 'iter_decode_with_beam': 1, 'iter_decode_with_external_reranker': False, 'retain_iter_history': False, 'retain_dropout': False, 'retain_dropout_modules': None, 'decoding_format': None, 'no_seed_provided': False, 'eos_token': None}, 'eval_lm': {'_name': None, 'output_word_probs': False, 'output_word_stats': False, 'context_window': 0, 'softmax_batch': 9223372036854775807}, 'interactive': {'_name': None, 'buffer_size': 0, 'input': '-'}, 'model': Namespace(_name='transformer_wmt_en_de_big', activation_dropout=0.0, activation_fn='relu', adam_betas='(0.9, 0.98)', adam_eps=1e-08, adaptive_input=False, adaptive_softmax_cutoff=None, adaptive_softmax_dropout=0, arch='transformer_wmt_en_de_big', attention_dropout=0.1, bpe='fastbpe', bpe_codes='/root/.cache/torch/pytorch_fairseq/81a0be5cbbf1c106320ef94681844d4594031c94c16b0475be11faa5a5120c48.63b093d59e7e0814ff799bb965ed4cbde30200b8c93a44bf8c1e5e98f5c54db3/bpecodes', bucket_cap_mb=25, checkpoint_activations=False, clip_norm=0.0, cpu=False, criterion='label_smoothed_cross_entropy', cross_self_attention=False, data='/root/.cache/torch/pytorch_fairseq/81a0be5cbbf1c106320ef94681844d4594031c94c16b0475be11faa5a5120c48.63b093d59e7e0814ff799bb965ed4cbde30200b8c93a44bf8c1e5e98f5c54db3', ddp_backend='c10d', decoder_attention_heads=16, decoder_embed_dim=1024, decoder_embed_path=None, decoder_ffn_embed_dim=4096, decoder_input_dim=1024, decoder_layerdrop=0, decoder_layers=6, decoder_layers_to_keep=None, decoder_learned_pos=False, decoder_normalize_before=False, decoder_output_dim=1024, device_id=0, distributed_backend='nccl', distributed_init_method='tcp://localhost:17406', distributed_port=-1, distributed_rank=0, distributed_world_size=2, dropout=0.2, encoder_attention_heads=16, encoder_embed_dim=1024, encoder_embed_path=None, encoder_ffn_embed_dim=8192, encoder_layerdrop=0, encoder_layers=6, encoder_layers_to_keep=None, encoder_learned_pos=False, encoder_normalize_before=False, extra_data='', fix_batches_to_gpus=False, fp16=True, fp16_init_scale=128, fp16_scale_tolerance=0.0, fp16_scale_window=None, keep_interval_updates=-1, keep_last_epochs=-1, label_smoothing=0.1, layernorm_embedding=False, lazy_load=False, left_pad_source=True, left_pad_target=False, log_format='simple', log_interval=100, lr=[0.0007], lr_scheduler='inverse_sqrt', lr_shrink=0.1, max_epoch=0, max_sentences=None, max_sentences_valid=None, max_source_positions=1024, max_target_positions=1024, max_tokens=3584, max_update=201800, memory_efficient_fp16=False, min_loss_scale=0.0001, momentum=0.99, no_cross_attention=False, no_epoch_checkpoints=False, no_progress_bar=True, no_save=False, no_scale_embedding=False, no_token_positional_embeddings=False, num_workers=0, offload_activations=False, optimizer='adam', optimizer_overrides='{}', quant_noise_pq=0, quant_noise_pq_block_size=8, quant_noise_scalar=0, raw_text=False, relu_dropout=0.0, reset_lr_scheduler=False, reset_optimizer=False, restore_file='checkpoint_last.pt', save_dir='/checkpoint/edunov/20190403/wmt19en2de.btsample5.ffn8192.transformer_wmt_en_de_big_bsz3584_lr0.0007_dr0.2_size_updates200000_seed20_lbsm0.1_size_sa1_upsample2//finetune1', save_interval=1, save_interval_updates=200, seed=2, sentence_avg=False, share_all_embeddings=True, share_decoder_input_output_embed=True, skip_invalid_size_inputs_valid_test=False, source_lang='en', stop_min_lr=1e-09, target_lang='de', task='translation', tensorboard_logdir='', threshold_loss_scale=None, tie_adaptive_weights=False, tokenizer='moses', train_subset='train', update_freq=[1], upsample_primary=1, user_dir=None, valid_subset='valid', validate_interval=1, warmup_init_lr=1e-07, warmup_updates=4000, weight_decay=0.0), 'task': {'_name': 'translation', 'data': '/root/.cache/torch/pytorch_fairseq/81a0be5cbbf1c106320ef94681844d4594031c94c16b0475be11faa5a5120c48.63b093d59e7e0814ff799bb965ed4cbde30200b8c93a44bf8c1e5e98f5c54db3', 'source_lang': 'en', 'target_lang': 'de', 'load_alignments': False, 'left_pad_source': True, 'left_pad_target': False, 'max_source_positions': 1024, 'max_target_positions': 1024, 'upsample_primary': 1, 'truncate_source': False, 'num_batch_buckets': 0, 'train_subset': 'train', 'dataset_impl': None, 'required_seq_len_multiple': 1, 'eval_bleu': False, 'eval_bleu_args': '{}', 'eval_bleu_detok': 'space', 'eval_bleu_detok_args': '{}', 'eval_tokenized_bleu': False, 'eval_bleu_remove_bpe': None, 'eval_bleu_print_samples': False}, 'criterion': {'_name': 'label_smoothed_cross_entropy', 'label_smoothing': 0.1, 'report_accuracy': False, 'ignore_prefix_size': 0, 'sentence_avg': False}, 'optimizer': {'_name': 'adam', 'adam_betas': '(0.9, 0.98)', 'adam_eps': 1e-08, 'weight_decay': 0.0, 'use_old_adam': False, 'fp16_adam_stats': False, 'tpu': True, 'lr': [0.0007]}, 'lr_scheduler': {'_name': 'inverse_sqrt', 'warmup_updates': 4000, 'warmup_init_lr': 1e-07, 'lr': [0.0007]}, 'scoring': None, 'bpe': {'_name': 'fastbpe', 'bpe_codes': '/root/.cache/torch/pytorch_fairseq/81a0be5cbbf1c106320ef94681844d4594031c94c16b0475be11faa5a5120c48.63b093d59e7e0814ff799bb965ed4cbde30200b8c93a44bf8c1e5e98f5c54db3/bpecodes'}, 'tokenizer': {'_name': 'moses', 'source_lang': 'en', 'target_lang': 'de', 'moses_no_dash_splits': False, 'moses_no_escape': False}, 'ema': {'_name': None, 'store_ema': False, 'ema_decay': 0.9999, 'ema_start_update': 0, 'ema_seed_model': None, 'ema_update_freq': 1, 'ema_fp32': False}, 'simul_type': None}\n"
          ]
        }
      ]
    },
    {
      "cell_type": "code",
      "source": [
        "en2de.translate('Hello world my love', beam=5)"
      ],
      "metadata": {
        "colab": {
          "base_uri": "https://localhost:8080/",
          "height": 35
        },
        "id": "N_YSlVcok3Hy",
        "outputId": "49268a82-765f-4a35-870c-4736716c97f2"
      },
      "execution_count": null,
      "outputs": [
        {
          "output_type": "execute_result",
          "data": {
            "text/plain": [
              "'Hallo Welt, meine Liebe'"
            ],
            "application/vnd.google.colaboratory.intrinsic+json": {
              "type": "string"
            }
          },
          "metadata": {},
          "execution_count": 4
        }
      ]
    },
    {
      "cell_type": "markdown",
      "source": [
        "## BIFI Model\n",
        "\n",
        "For this project we want to reuse the created models (Breaker & Fixer) from the BIFI project to use them with the MBPP dataset and then compare it with a model based on CodeBERT. \n",
        "\n",
        "\n",
        "For this project, the data was downloaded from the link https://nlp.stanford.edu/projects/myasu/BIFI/data.zip and the weights of the pre-trained models were isolated to be reused."
      ],
      "metadata": {
        "id": "0c47BkG2IMmE"
      }
    },
    {
      "cell_type": "code",
      "source": [
        "!pip install gdown"
      ],
      "metadata": {
        "colab": {
          "base_uri": "https://localhost:8080/"
        },
        "id": "kYZ1mSY8JVsD",
        "outputId": "72227008-16e5-4b3a-f482-ae1605ca017e"
      },
      "execution_count": 3,
      "outputs": [
        {
          "output_type": "stream",
          "name": "stdout",
          "text": [
            "Looking in indexes: https://pypi.org/simple, https://us-python.pkg.dev/colab-wheels/public/simple/\n",
            "Requirement already satisfied: gdown in /usr/local/lib/python3.7/dist-packages (4.4.0)\n",
            "Requirement already satisfied: tqdm in /usr/local/lib/python3.7/dist-packages (from gdown) (4.64.0)\n",
            "Requirement already satisfied: beautifulsoup4 in /usr/local/lib/python3.7/dist-packages (from gdown) (4.6.3)\n",
            "Requirement already satisfied: filelock in /usr/local/lib/python3.7/dist-packages (from gdown) (3.7.1)\n",
            "Requirement already satisfied: requests[socks] in /usr/local/lib/python3.7/dist-packages (from gdown) (2.23.0)\n",
            "Requirement already satisfied: six in /usr/local/lib/python3.7/dist-packages (from gdown) (1.15.0)\n",
            "Requirement already satisfied: chardet<4,>=3.0.2 in /usr/local/lib/python3.7/dist-packages (from requests[socks]->gdown) (3.0.4)\n",
            "Requirement already satisfied: idna<3,>=2.5 in /usr/local/lib/python3.7/dist-packages (from requests[socks]->gdown) (2.10)\n",
            "Requirement already satisfied: certifi>=2017.4.17 in /usr/local/lib/python3.7/dist-packages (from requests[socks]->gdown) (2022.6.15)\n",
            "Requirement already satisfied: urllib3!=1.25.0,!=1.25.1,<1.26,>=1.21.1 in /usr/local/lib/python3.7/dist-packages (from requests[socks]->gdown) (1.24.3)\n",
            "Requirement already satisfied: PySocks!=1.5.7,>=1.5.6 in /usr/local/lib/python3.7/dist-packages (from requests[socks]->gdown) (1.7.1)\n"
          ]
        }
      ]
    },
    {
      "cell_type": "code",
      "source": [
        "import gdown\n",
        "\n",
        "# a file\n",
        "url = \"https://drive.google.com/uc?id=1g_9_M_89cUAx9gNR78tvgUtzxmhO8MMo\"\n",
        "output = \"BIFI_weigths.zip\"\n",
        "gdown.download(url, output, quiet=False)"
      ],
      "metadata": {
        "colab": {
          "base_uri": "https://localhost:8080/",
          "height": 104
        },
        "id": "FXT_hJnCJtRy",
        "outputId": "a9c59bd9-6302-469e-d6de-08cf8310fa5f"
      },
      "execution_count": 4,
      "outputs": [
        {
          "output_type": "stream",
          "name": "stderr",
          "text": [
            "Downloading...\n",
            "From: https://drive.google.com/uc?id=1g_9_M_89cUAx9gNR78tvgUtzxmhO8MMo\n",
            "To: /content/BIFI_weigths.zip\n",
            "100%|██████████| 183M/183M [00:02<00:00, 71.0MB/s]\n"
          ]
        },
        {
          "output_type": "execute_result",
          "data": {
            "text/plain": [
              "'BIFI_weigths.zip'"
            ],
            "application/vnd.google.colaboratory.intrinsic+json": {
              "type": "string"
            }
          },
          "metadata": {},
          "execution_count": 4
        }
      ]
    },
    {
      "cell_type": "code",
      "source": [
        "!unzip BIFI_weigths.zip"
      ],
      "metadata": {
        "colab": {
          "base_uri": "https://localhost:8080/"
        },
        "id": "n8zFN7lUKYyn",
        "outputId": "cccf4ae9-6a07-449f-eb99-7be262928786"
      },
      "execution_count": 5,
      "outputs": [
        {
          "output_type": "stream",
          "name": "stdout",
          "text": [
            "Archive:  BIFI_weigths.zip\n",
            "   creating: BIFI_weights/round2-BIFI-part1/\n",
            "   creating: BIFI_weights/round2-BIFI-part1/model-breaker/\n",
            "  inflating: BIFI_weights/round2-BIFI-part1/model-breaker/checkpoint.pt  \n",
            "   creating: BIFI_weights/round2-BIFI-part2/\n",
            "   creating: BIFI_weights/round2-BIFI-part2/model-fixer/\n",
            "  inflating: BIFI_weights/round2-BIFI-part2/model-fixer/checkpoint.pt  \n"
          ]
        }
      ]
    },
    {
      "cell_type": "code",
      "source": [
        "!wget https://nlp.stanford.edu/projects/myasu/BIFI/data_minimal.zip\n",
        "!unzip data_minimal.zip"
      ],
      "metadata": {
        "colab": {
          "base_uri": "https://localhost:8080/"
        },
        "id": "WVsWhI1m3oju",
        "outputId": "2eeca866-47a1-47e4-a387-cd6fd8969438"
      },
      "execution_count": 6,
      "outputs": [
        {
          "output_type": "stream",
          "name": "stdout",
          "text": [
            "--2022-06-29 13:52:05--  https://nlp.stanford.edu/projects/myasu/BIFI/data_minimal.zip\n",
            "Resolving nlp.stanford.edu (nlp.stanford.edu)... 171.64.67.140\n",
            "Connecting to nlp.stanford.edu (nlp.stanford.edu)|171.64.67.140|:443... connected.\n",
            "HTTP request sent, awaiting response... 200 OK\n",
            "Length: 902351047 (861M) [application/zip]\n",
            "Saving to: ‘data_minimal.zip’\n",
            "\n",
            "data_minimal.zip    100%[===================>] 860.55M  19.2MB/s    in 47s     \n",
            "\n",
            "2022-06-29 13:52:53 (18.3 MB/s) - ‘data_minimal.zip’ saved [902351047/902351047]\n",
            "\n",
            "Archive:  data_minimal.zip\n",
            "   creating: data/\n",
            "   creating: data/orig_good_code/\n",
            "  inflating: data/orig_good_code/orig.0.id  \n",
            "  inflating: data/orig_good_code/orig.1.id  \n",
            "  inflating: data/orig_good_code/orig.2.good  \n",
            "  inflating: data/orig_good_code/orig.3.id  \n",
            "  inflating: data/orig_good_code/orig.6.good  \n",
            "  inflating: data/orig_good_code/orig.2.id  \n",
            "  inflating: data/orig_good_code/orig.6.id  \n",
            "  inflating: data/orig_good_code/orig.3.good  \n",
            "  inflating: data/orig_good_code/orig.good.json  \n",
            "  inflating: data/orig_good_code/orig.7.good  \n",
            "  inflating: data/orig_good_code/orig.7.id  \n",
            "  inflating: data/orig_good_code/orig.5.id  \n",
            "  inflating: data/orig_good_code/orig.4.id  \n",
            "  inflating: data/orig_good_code/orig.1.good  \n",
            "  inflating: data/orig_good_code/orig.5.good  \n",
            "  inflating: data/orig_good_code/orig.9.good  \n",
            "  inflating: data/orig_good_code/orig.8.good  \n",
            "  inflating: data/orig_good_code/orig.8.id  \n",
            "  inflating: data/orig_good_code/orig.0.good  \n",
            "  inflating: data/orig_good_code/orig.4.good  \n",
            "  inflating: data/orig_good_code/orig.9.id  \n",
            "   creating: data/orig_bad_code/\n",
            "  inflating: data/orig_bad_code/orig.2.bad  \n",
            "  inflating: data/orig_bad_code/orig.4.id  \n",
            "  inflating: data/orig_bad_code/orig.3.id  \n",
            "  inflating: data/orig_bad_code/orig.2.id  \n",
            "  inflating: data/orig_bad_code/orig.4.bad  \n",
            "  inflating: data/orig_bad_code/orig.3.bad  \n",
            "  inflating: data/orig_bad_code/orig.0.id  \n",
            "  inflating: data/orig_bad_code/orig.bad.json  \n",
            "  inflating: data/orig_bad_code/orig.1.id  \n",
            "  inflating: data/orig_bad_code/orig.0.bad  \n",
            "  inflating: data/orig_bad_code/orig.1.bad  \n",
            "  inflating: data/token_vocab.txt    \n"
          ]
        }
      ]
    },
    {
      "cell_type": "code",
      "source": [
        "!mv BIFI_weights/round2-BIFI-part1/ data/round2-BIFI-part1/\n",
        "!mv BIFI_weights/round2-BIFI-part2/ data/round2-BIFI-part2/"
      ],
      "metadata": {
        "id": "QkZW1YwrQ5gU"
      },
      "execution_count": 7,
      "outputs": []
    },
    {
      "cell_type": "code",
      "source": [
        "url = \"https://drive.google.com/uc?id=1_xMUt0Q0Lx3smQYeSkLkW5FDhVTq0GlH\"\n",
        "output = \"utils.zip\"\n",
        "gdown.download(url, output, quiet=False)"
      ],
      "metadata": {
        "colab": {
          "base_uri": "https://localhost:8080/",
          "height": 104
        },
        "id": "P-a1LC-7PJYx",
        "outputId": "cebb5eb6-3a5e-4c7c-cd59-2f0eac7832be"
      },
      "execution_count": 8,
      "outputs": [
        {
          "output_type": "stream",
          "name": "stderr",
          "text": [
            "Downloading...\n",
            "From: https://drive.google.com/uc?id=1_xMUt0Q0Lx3smQYeSkLkW5FDhVTq0GlH\n",
            "To: /content/utils.zip\n",
            "100%|██████████| 9.42k/9.42k [00:00<00:00, 12.0MB/s]\n"
          ]
        },
        {
          "output_type": "execute_result",
          "data": {
            "text/plain": [
              "'utils.zip'"
            ],
            "application/vnd.google.colaboratory.intrinsic+json": {
              "type": "string"
            }
          },
          "metadata": {},
          "execution_count": 8
        }
      ]
    },
    {
      "cell_type": "code",
      "source": [
        "!unzip utils.zip"
      ],
      "metadata": {
        "colab": {
          "base_uri": "https://localhost:8080/"
        },
        "id": "D4HwCLcwPUte",
        "outputId": "2ec68d6e-ae14-438b-fd61-aa154dddfda4"
      },
      "execution_count": 9,
      "outputs": [
        {
          "output_type": "stream",
          "name": "stdout",
          "text": [
            "Archive:  utils.zip\n",
            "  inflating: utils/code_error_checker.py  \n",
            "  inflating: utils/code_tokenizer.py  \n",
            "  inflating: utils/code_utils.py     \n",
            "  inflating: utils/fairseq_utils.py  \n"
          ]
        }
      ]
    },
    {
      "cell_type": "code",
      "source": [
        "import sys\n",
        "sys.path.append('utils')"
      ],
      "metadata": {
        "id": "hHA0OzToTd2R"
      },
      "execution_count": 10,
      "outputs": []
    },
    {
      "cell_type": "code",
      "source": [
        "from fairseq_utils import *\n",
        "import argparse\n",
        "import os"
      ],
      "metadata": {
        "id": "zwdp-SoNS59E"
      },
      "execution_count": 11,
      "outputs": []
    },
    {
      "cell_type": "code",
      "source": [
        "def preprocess(destdir_root, n_splits=1):\n",
        "    #Preprocess inputs\n",
        "    for split in range(n_splits):\n",
        "        destdir    = destdir_root/f'fairseq_preprocess__orig_good.{split}'\n",
        "        if os.path.exists(str(destdir)):\n",
        "            continue\n",
        "        fairseq_preprocess(src='good', tgt='bad', workers=10,\n",
        "                            destdir  = str(destdir),\n",
        "                            testpref = str(data_dir/f'orig_good_code/orig.{split}'),\n",
        "                            srcdict  = str(data_dir/'token_vocab.txt'),\n",
        "                            only_source=True )\n",
        "        os.system('cp {} {}'.format(data_dir/'token_vocab.txt', destdir/'dict.bad.txt'))"
      ],
      "metadata": {
        "id": "i8jvTPveP01Z"
      },
      "execution_count": 12,
      "outputs": []
    },
    {
      "cell_type": "code",
      "source": [
        "def generate(destdir_root, gpu_ids, n_splits=1):\n",
        "    gpus = (gpu_ids * (n_splits//len(gpu_ids) +1))[:n_splits]\n",
        "    use_Popen = (len(gpu_ids) > 1)\n",
        "    ps = []\n",
        "    for split, gpu in zip(range(n_splits), gpus):\n",
        "        destdir    = destdir_root/f'fairseq_preprocess__orig_good.{split}'\n",
        "        pred_path  = destdir/'model-breaker.pred.txt'\n",
        "        p = fairseq_generate(str(gpu), str(destdir), str(model_path), str(pred_path),\n",
        "                        src='good', tgt='bad', gen_subset='test', use_Popen=use_Popen,\n",
        "                        beam=10, nbest=10, max_len_a=1, max_len_b=50, max_tokens=5000)\n",
        "        ps.append(p)"
      ],
      "metadata": {
        "id": "KAbRti0Uom2_"
      },
      "execution_count": 13,
      "outputs": []
    },
    {
      "cell_type": "code",
      "source": [
        "import json, io, sys, os\n",
        "from utils.fairseq_utils import parse_fairseq_preds\n",
        "from tqdm import tqdm\n",
        "from multiprocessing import Pool\n",
        "\n",
        "from utils.code_error_checker import check_paren_error, check_ast_error\n",
        "from utils.code_utils import preprocess_unk, code_toks_to_code_string, get_diff_metric\n",
        "from utils.fairseq_utils import parse_fairseq_preds\n",
        "\n",
        "def eval_one_pred_obj(pred_obj):\n",
        "    #Deal with UNK\n",
        "    _, unk_dict = preprocess_unk(pred_obj['code_toks_raw'])\n",
        "    anonymize_dict = pred_obj['anonymize_dict']\n",
        "    if anonymize_dict is None:\n",
        "        anonymize_dict = {}\n",
        "    anonymize_dict['<unk>'] = unk_dict\n",
        "    anonymize_dict['<STRING>'] = []\n",
        "    anonymize_dict['<COMMENT>'] = []\n",
        "    #\n",
        "    src = pred_obj['src'] #this is tok_format i.e. ' '.join(code_toks)\n",
        "    src_code  = code_toks_to_code_string(src, anonymize_dict) #this is string_format\n",
        "    ret_obj = {'progid': pred_obj['progid'],\n",
        "                'anonymize_dict': pred_obj['anonymize_dict']\n",
        "              }\n",
        "    ret_obj['src']  = {'tok_format': src, 'string_format': src_code}\n",
        "    #Get string_format from predicted code toks\n",
        "    ret_obj['pred'] = []\n",
        "    for pred in pred_obj['pred']:\n",
        "        pred_code = code_toks_to_code_string(pred, anonymize_dict) #this is string_format\n",
        "        res = check_paren_error(pred.split())\n",
        "        if not isinstance(res, dict):\n",
        "            res = check_ast_error(pred_code)\n",
        "        diff_metric = get_diff_metric(src, pred)\n",
        "        ret_obj['pred'].append({'tok_format': pred,\n",
        "                                  'string_format': pred_code,\n",
        "                                  'err_obj': res,\n",
        "                                  'diff_metric': diff_metric})\n",
        "    return ret_obj\n"
      ],
      "metadata": {
        "id": "4xfjBpMWNf3x"
      },
      "execution_count": 14,
      "outputs": []
    },
    {
      "cell_type": "code",
      "source": [
        "def eval_one_split(pred_dir_prefix, split, pred_fname, goods, n_workers=80):\n",
        "    pred_dir   = f'{pred_dir_prefix}{split}'\n",
        "    pred_path = Path(f'{pred_dir}/{pred_fname}')\n",
        "    preds = parse_fairseq_preds(str(pred_path))\n",
        "    #load progids\n",
        "    data_dir = 'data'\n",
        "    progids = [l.strip() for l in open(f'{data_dir}/orig_good_code/orig.{split}.id')]\n",
        "    assert len(preds) == len(progids)\n",
        "    for j in range(len(preds)):\n",
        "        progid = progids[j]\n",
        "        code_toks_raw = goods[progid]['code_string'].split()\n",
        "        preds[j]['progid'] = progid\n",
        "        preds[j]['code_toks_raw'] = code_toks_raw\n",
        "        preds[j]['anonymize_dict'] = None\n",
        "    #\n",
        "    print ('len(preds)', len(preds))\n",
        "    with Pool(n_workers) as p:\n",
        "        res = list(tqdm(p.imap(eval_one_pred_obj, preds), total=len(preds)))\n",
        "    '''\n",
        "      res: list of {'progid': ,  'anonymize_dict': ,\n",
        "                    'src': {'tok_format': , 'string_format': },\n",
        "                    'pred': {'tok_format':, 'string_format':, 'err_obj': }\n",
        "                    }\n",
        "    '''\n",
        "    evaluate_json = f'{pred_path.parent}/{pred_path.stem}.evaluated.json'\n",
        "    print(evaluate_json)\n",
        "    with open(evaluate_json, 'w') as f:\n",
        "        json.dump(res, f, indent=2)"
      ],
      "metadata": {
        "id": "lFuAdeO2rMee"
      },
      "execution_count": 15,
      "outputs": []
    },
    {
      "cell_type": "code",
      "source": [
        "import numpy as np\n",
        "import hashlib\n",
        "\n",
        "#BIFI version - uses critic to verify\n",
        "def generate_paired_data_from_breaker_preds_for_BIFI(pred_dir_prefix, pred_fname, out_dir, load_dir, subset='test', n_splits=10):\n",
        "    #Get new paired data\n",
        "    train_data = {'good': [], 'bad': [], 'id': []}\n",
        "    idxs_newdata_p, idxs_newdata_i, idxs_newdata_s = [], [], []\n",
        "    cur_idx = 0\n",
        "    for split in range(n_splits):\n",
        "      print ('split', split)\n",
        "      pred_dir   = Path(f'{pred_dir_prefix}{split}')\n",
        "      pred_path  = pred_dir/pred_fname\n",
        "      pred_eval_path = f'{pred_path.parent}/{pred_path.stem}.evaluated.json'\n",
        "      eval_objs = json.load(open(pred_eval_path))\n",
        "      for eval_obj in tqdm(eval_objs):\n",
        "        progid = eval_obj['progid']\n",
        "        _data = {'good': [], 'bad': [], 'id': []}\n",
        "        # print ('src\\n', eval_obj['src']['string_format'])\n",
        "        for k, pred_obj in enumerate(eval_obj['pred']):\n",
        "          pred_err_obj = pred_obj['err_obj']\n",
        "          diff_metric  = pred_obj['diff_metric']\n",
        "          if (isinstance(pred_err_obj, dict)) and (0 < diff_metric <= 4): #keep broken examples\n",
        "            name = '{:02d}-{}-{:03d}'.format(split, progid, k)\n",
        "            src  = eval_obj['src']['tok_format'].strip()\n",
        "            pred = pred_obj['tok_format'].strip()\n",
        "            if 'unbalanced' in pred_err_obj['msg']:\n",
        "              idxs_newdata_p.append(cur_idx)\n",
        "            elif 'indent' in pred_err_obj['msg']:\n",
        "              idxs_newdata_i.append(cur_idx)\n",
        "            elif 'invalid syntax' == pred_err_obj['msg']:\n",
        "              idxs_newdata_s.append(cur_idx)\n",
        "            else:\n",
        "              continue\n",
        "            _data['id'  ].append(name)\n",
        "            _data['bad'].append(pred) #pred is bad-side\n",
        "            _data['good' ].append(src)\n",
        "            cur_idx += 1\n",
        "        train_data['id']   += _data['id']\n",
        "        train_data['good'] += _data['good']\n",
        "        train_data['bad']  += _data['bad']\n",
        "    assert len(train_data['good']) == len(train_data['bad']) == len(train_data['id'])\n",
        "    new_data_size = len(train_data['id'])\n",
        "    assert new_data_size == len(idxs_newdata_p) + len(idxs_newdata_i) + len(idxs_newdata_s)\n",
        "    print ('#new_data', new_data_size)\n",
        "    print ('#new_data_p', len(idxs_newdata_p), '#new_data_i', len(idxs_newdata_i), '#new_data_s', len(idxs_newdata_s))\n",
        "    # idxs_newdata = list(range(new_data_size))\n",
        "    seed = (111 + int(hashlib.md5(str(out_dir).encode()).hexdigest(), 16)) % (2**31)\n",
        "    print ('seed', seed)\n",
        "    np.random.seed(seed)\n",
        "    # np.random.shuffle(idxs_newdata); np.random.shuffle(idxs_newdata)\n",
        "    np.random.shuffle(idxs_newdata_p); np.random.shuffle(idxs_newdata_p)\n",
        "    np.random.shuffle(idxs_newdata_i); np.random.shuffle(idxs_newdata_i)\n",
        "    np.random.shuffle(idxs_newdata_s); np.random.shuffle(idxs_newdata_s)\n",
        "    #\n",
        "    #Merge with the paired data in round0 and BIFI part1\n",
        "    #print ('loading round0 data')\n",
        "    #train_data_0 = {'good': [], 'bad': [], 'id': []}\n",
        "    #train_data_0['bad']  = [line.strip() for line in tqdm(open('data/round0/data_paired/train.bad'))]\n",
        "    #train_data_0['good'] = [line.strip() for line in tqdm(open('data/round0/data_paired/train.good'))]\n",
        "    #train_data_0['id']   = [line.strip() for line in tqdm(open('data/round0/data_paired/train.id'))]\n",
        "    #idxs_0 = list(range(len(train_data_0['id'])))\n",
        "    #np.random.shuffle(idxs_0); np.random.shuffle(idxs_0)\n",
        "    #print ('loading BIFI part1 data')\n",
        "    #train_data_1 = {'good': [], 'bad': [], 'id': []}\n",
        "    #train_data_1['bad']  = [line.strip() for line in tqdm(open(f'{load_dir}/train.bad'))]\n",
        "    #train_data_1['good'] = [line.strip() for line in tqdm(open(f'{load_dir}/train.good'))]\n",
        "    #train_data_1['id']   = [line.strip() for line in tqdm(open(f'{load_dir}/train.id'))]\n",
        "    #idxs_1 = list(range(len(train_data_1['id'])))\n",
        "    #np.random.shuffle(idxs_1); np.random.shuffle(idxs_1)\n",
        "    #assert len(set(train_data_1['id']).intersection(set(train_data_0['id']))) == 0\n",
        "    #assert len(set(train_data_1['id']).intersection(set(train_data['id']))) == 0\n",
        "    #assert len(set(train_data_0['id']).intersection(set(train_data['id']))) == 0\n",
        "    #\n",
        "    #total_size = int(new_data_size * 2)\n",
        "    #_0_data_repeats  = (total_size//4)//len(idxs_0) +1\n",
        "    #_1_data_repeats  = (total_size*2//4)//len(idxs_1) +1\n",
        "    #new_data_p_repeats = (total_size*1//4//3)//len(idxs_newdata_p) +1\n",
        "    #new_data_i_repeats = (total_size*1//4//3)//len(idxs_newdata_i) +1\n",
        "    #new_data_s_repeats = (total_size*1//4//3)//len(idxs_newdata_s) +1\n",
        "    #idxs_0 = (idxs_0 * _0_data_repeats)[:total_size//4]\n",
        "    #idxs_1 = (idxs_1 * _1_data_repeats)[:total_size*2//4]\n",
        "    #idxs_newdata_p = (idxs_newdata_p * new_data_p_repeats)[:total_size*1//4//3]\n",
        "    #idxs_newdata_i = (idxs_newdata_i * new_data_i_repeats)[:total_size*1//4//3]\n",
        "    #idxs_newdata_s = (idxs_newdata_s * new_data_s_repeats)[:total_size*1//4//3]\n",
        "    #print ('combining all data..', total_size)\n",
        "    #idxs = [f'0_{i}' for i in idxs_0] + [f'1_{i}' for i in idxs_1] + [f'new_{i}' for i in idxs_newdata_p] + [f'new_{i}' for i in idxs_newdata_i] + [f'new_{i}' for i in idxs_newdata_s]\n",
        "    idxs = [f'new_{i}' for i in idxs_newdata_p] + [f'new_{i}' for i in idxs_newdata_i] + [f'new_{i}' for i in idxs_newdata_s]\n",
        "    np.random.shuffle(idxs); np.random.shuffle(idxs)\n",
        "    #\n",
        "    #Write out data\n",
        "    os.system(f'mkdir -p {out_dir}')\n",
        "    print ('writing out data')\n",
        "    with open(f'{out_dir}/{subset}.id', 'w') as fid, \\\n",
        "         open(f'{out_dir}/{subset}.good', 'w') as fgood, \\\n",
        "         open(f'{out_dir}/{subset}.bad', 'w') as fbad:\n",
        "      for idx in tqdm(idxs):\n",
        "        _prefix, _idx = idx.split('_')\n",
        "        _idx = int(_idx)\n",
        "        #if _prefix == '0':\n",
        "        #  fid.write(train_data_0['id'][_idx] +'\\n')\n",
        "        #  fgood.write(train_data_0['good'][_idx] +'\\n')\n",
        "        #  fbad.write(train_data_0['bad'][_idx] +'\\n')\n",
        "        #elif _prefix == '1':\n",
        "        #  fid.write(train_data_1['id'][_idx] +'\\n')\n",
        "        #  fgood.write(train_data_1['good'][_idx] +'\\n')\n",
        "        #  fbad.write(train_data_1['bad'][_idx] +'\\n')\n",
        "        #else:\n",
        "        #  fid.write(train_data['id'][_idx] +'\\n')\n",
        "        #  fgood.write(train_data['good'][_idx] +'\\n')\n",
        "        #  fbad.write(train_data['bad'][_idx] +'\\n')\n",
        "        fid.write(train_data['id'][_idx] +'\\n')\n",
        "        fgood.write(train_data['good'][_idx] +'\\n')\n",
        "        fbad.write(train_data['bad'][_idx] +'\\n')\n",
        "    # os.system('cp {} {}'.format('data/round0/data_paired/dev.bad', out_dir))\n",
        "    # os.system('cp {} {}'.format('data/round0/data_paired/dev.good', out_dir))\n",
        "    # os.system('cp {} {}'.format('data/round0/data_paired/dev.id', out_dir))\n",
        "    print ('done')"
      ],
      "metadata": {
        "id": "IbXsytRQOEPs"
      },
      "execution_count": 16,
      "outputs": []
    },
    {
      "cell_type": "markdown",
      "source": [
        "## Applying Breaker to MBPP"
      ],
      "metadata": {
        "id": "C7jG-RMQ0joi"
      }
    },
    {
      "cell_type": "code",
      "source": [
        "!mv data/orig_good_code/ data/orig_good_code_bifi"
      ],
      "metadata": {
        "id": "1PTiN7juH9IU"
      },
      "execution_count": 17,
      "outputs": []
    },
    {
      "cell_type": "code",
      "source": [
        "!wget https://raw.githubusercontent.com/google-research/google-research/master/mbpp/mbpp.jsonl"
      ],
      "metadata": {
        "colab": {
          "base_uri": "https://localhost:8080/"
        },
        "id": "EwqwzWD78aku",
        "outputId": "75cc90f9-c6d6-49dd-8c17-ca7a6b1d3887"
      },
      "execution_count": 18,
      "outputs": [
        {
          "output_type": "stream",
          "name": "stdout",
          "text": [
            "--2022-06-29 13:58:24--  https://raw.githubusercontent.com/google-research/google-research/master/mbpp/mbpp.jsonl\n",
            "Resolving raw.githubusercontent.com (raw.githubusercontent.com)... 185.199.108.133, 185.199.109.133, 185.199.110.133, ...\n",
            "Connecting to raw.githubusercontent.com (raw.githubusercontent.com)|185.199.108.133|:443... connected.\n",
            "HTTP request sent, awaiting response... 200 OK\n",
            "Length: 563743 (551K) [text/plain]\n",
            "Saving to: ‘mbpp.jsonl’\n",
            "\n",
            "mbpp.jsonl          100%[===================>] 550.53K  --.-KB/s    in 0.01s   \n",
            "\n",
            "2022-06-29 13:58:24 (38.1 MB/s) - ‘mbpp.jsonl’ saved [563743/563743]\n",
            "\n"
          ]
        }
      ]
    },
    {
      "cell_type": "code",
      "source": [
        "import pandas as pd\n",
        "\n",
        "mbpp_df = pd.read_json(\"mbpp.jsonl\", orient='records', lines=True)\n",
        "mbpp_df.head()"
      ],
      "metadata": {
        "colab": {
          "base_uri": "https://localhost:8080/",
          "height": 791
        },
        "id": "Y5wFe9y39iLv",
        "outputId": "92c66417-4ce8-4b55-ed75-65c78fe3f248"
      },
      "execution_count": 19,
      "outputs": [
        {
          "output_type": "execute_result",
          "data": {
            "text/plain": [
              "                                                text  \\\n",
              "0  Write a function to find the minimum cost path...   \n",
              "1  Write a function to find the similar elements ...   \n",
              "2  Write a python function to identify non-prime ...   \n",
              "3  Write a function to find the largest integers ...   \n",
              "4  Write a function to find the number of ways to...   \n",
              "\n",
              "                                                code  task_id test_setup_code  \\\n",
              "0  R = 3\\r\\nC = 3\\r\\ndef min_cost(cost, m, n): \\r...        1                   \n",
              "1  def similar_elements(test_tup1, test_tup2):\\r\\...        2                   \n",
              "2  import math\\r\\ndef is_not_prime(n):\\r\\n    res...        3                   \n",
              "3  import heapq as hq\\r\\ndef heap_queue_largest(n...        4                   \n",
              "4  def count_ways(n): \\r\\n\\tA = [0] * (n + 1) \\r\\...        5                   \n",
              "\n",
              "                                           test_list challenge_test_list  \n",
              "0  [assert min_cost([[1, 2, 3], [4, 8, 2], [1, 5,...                  []  \n",
              "1  [assert similar_elements((3, 4, 5, 6),(5, 7, 4...                  []  \n",
              "2  [assert is_not_prime(2) == False, assert is_no...                  []  \n",
              "3  [assert heap_queue_largest( [25, 35, 22, 85, 1...                  []  \n",
              "4  [assert count_ways(2) == 3, assert count_ways(...                  []  "
            ],
            "text/html": [
              "\n",
              "  <div id=\"df-bf5d2abc-58f5-4540-b8c3-6ef68d0e270d\">\n",
              "    <div class=\"colab-df-container\">\n",
              "      <div>\n",
              "<style scoped>\n",
              "    .dataframe tbody tr th:only-of-type {\n",
              "        vertical-align: middle;\n",
              "    }\n",
              "\n",
              "    .dataframe tbody tr th {\n",
              "        vertical-align: top;\n",
              "    }\n",
              "\n",
              "    .dataframe thead th {\n",
              "        text-align: right;\n",
              "    }\n",
              "</style>\n",
              "<table border=\"1\" class=\"dataframe\">\n",
              "  <thead>\n",
              "    <tr style=\"text-align: right;\">\n",
              "      <th></th>\n",
              "      <th>text</th>\n",
              "      <th>code</th>\n",
              "      <th>task_id</th>\n",
              "      <th>test_setup_code</th>\n",
              "      <th>test_list</th>\n",
              "      <th>challenge_test_list</th>\n",
              "    </tr>\n",
              "  </thead>\n",
              "  <tbody>\n",
              "    <tr>\n",
              "      <th>0</th>\n",
              "      <td>Write a function to find the minimum cost path...</td>\n",
              "      <td>R = 3\\r\\nC = 3\\r\\ndef min_cost(cost, m, n): \\r...</td>\n",
              "      <td>1</td>\n",
              "      <td></td>\n",
              "      <td>[assert min_cost([[1, 2, 3], [4, 8, 2], [1, 5,...</td>\n",
              "      <td>[]</td>\n",
              "    </tr>\n",
              "    <tr>\n",
              "      <th>1</th>\n",
              "      <td>Write a function to find the similar elements ...</td>\n",
              "      <td>def similar_elements(test_tup1, test_tup2):\\r\\...</td>\n",
              "      <td>2</td>\n",
              "      <td></td>\n",
              "      <td>[assert similar_elements((3, 4, 5, 6),(5, 7, 4...</td>\n",
              "      <td>[]</td>\n",
              "    </tr>\n",
              "    <tr>\n",
              "      <th>2</th>\n",
              "      <td>Write a python function to identify non-prime ...</td>\n",
              "      <td>import math\\r\\ndef is_not_prime(n):\\r\\n    res...</td>\n",
              "      <td>3</td>\n",
              "      <td></td>\n",
              "      <td>[assert is_not_prime(2) == False, assert is_no...</td>\n",
              "      <td>[]</td>\n",
              "    </tr>\n",
              "    <tr>\n",
              "      <th>3</th>\n",
              "      <td>Write a function to find the largest integers ...</td>\n",
              "      <td>import heapq as hq\\r\\ndef heap_queue_largest(n...</td>\n",
              "      <td>4</td>\n",
              "      <td></td>\n",
              "      <td>[assert heap_queue_largest( [25, 35, 22, 85, 1...</td>\n",
              "      <td>[]</td>\n",
              "    </tr>\n",
              "    <tr>\n",
              "      <th>4</th>\n",
              "      <td>Write a function to find the number of ways to...</td>\n",
              "      <td>def count_ways(n): \\r\\n\\tA = [0] * (n + 1) \\r\\...</td>\n",
              "      <td>5</td>\n",
              "      <td></td>\n",
              "      <td>[assert count_ways(2) == 3, assert count_ways(...</td>\n",
              "      <td>[]</td>\n",
              "    </tr>\n",
              "  </tbody>\n",
              "</table>\n",
              "</div>\n",
              "      <button class=\"colab-df-convert\" onclick=\"convertToInteractive('df-bf5d2abc-58f5-4540-b8c3-6ef68d0e270d')\"\n",
              "              title=\"Convert this dataframe to an interactive table.\"\n",
              "              style=\"display:none;\">\n",
              "        \n",
              "  <svg xmlns=\"http://www.w3.org/2000/svg\" height=\"24px\"viewBox=\"0 0 24 24\"\n",
              "       width=\"24px\">\n",
              "    <path d=\"M0 0h24v24H0V0z\" fill=\"none\"/>\n",
              "    <path d=\"M18.56 5.44l.94 2.06.94-2.06 2.06-.94-2.06-.94-.94-2.06-.94 2.06-2.06.94zm-11 1L8.5 8.5l.94-2.06 2.06-.94-2.06-.94L8.5 2.5l-.94 2.06-2.06.94zm10 10l.94 2.06.94-2.06 2.06-.94-2.06-.94-.94-2.06-.94 2.06-2.06.94z\"/><path d=\"M17.41 7.96l-1.37-1.37c-.4-.4-.92-.59-1.43-.59-.52 0-1.04.2-1.43.59L10.3 9.45l-7.72 7.72c-.78.78-.78 2.05 0 2.83L4 21.41c.39.39.9.59 1.41.59.51 0 1.02-.2 1.41-.59l7.78-7.78 2.81-2.81c.8-.78.8-2.07 0-2.86zM5.41 20L4 18.59l7.72-7.72 1.47 1.35L5.41 20z\"/>\n",
              "  </svg>\n",
              "      </button>\n",
              "      \n",
              "  <style>\n",
              "    .colab-df-container {\n",
              "      display:flex;\n",
              "      flex-wrap:wrap;\n",
              "      gap: 12px;\n",
              "    }\n",
              "\n",
              "    .colab-df-convert {\n",
              "      background-color: #E8F0FE;\n",
              "      border: none;\n",
              "      border-radius: 50%;\n",
              "      cursor: pointer;\n",
              "      display: none;\n",
              "      fill: #1967D2;\n",
              "      height: 32px;\n",
              "      padding: 0 0 0 0;\n",
              "      width: 32px;\n",
              "    }\n",
              "\n",
              "    .colab-df-convert:hover {\n",
              "      background-color: #E2EBFA;\n",
              "      box-shadow: 0px 1px 2px rgba(60, 64, 67, 0.3), 0px 1px 3px 1px rgba(60, 64, 67, 0.15);\n",
              "      fill: #174EA6;\n",
              "    }\n",
              "\n",
              "    [theme=dark] .colab-df-convert {\n",
              "      background-color: #3B4455;\n",
              "      fill: #D2E3FC;\n",
              "    }\n",
              "\n",
              "    [theme=dark] .colab-df-convert:hover {\n",
              "      background-color: #434B5C;\n",
              "      box-shadow: 0px 1px 3px 1px rgba(0, 0, 0, 0.15);\n",
              "      filter: drop-shadow(0px 1px 2px rgba(0, 0, 0, 0.3));\n",
              "      fill: #FFFFFF;\n",
              "    }\n",
              "  </style>\n",
              "\n",
              "      <script>\n",
              "        const buttonEl =\n",
              "          document.querySelector('#df-bf5d2abc-58f5-4540-b8c3-6ef68d0e270d button.colab-df-convert');\n",
              "        buttonEl.style.display =\n",
              "          google.colab.kernel.accessAllowed ? 'block' : 'none';\n",
              "\n",
              "        async function convertToInteractive(key) {\n",
              "          const element = document.querySelector('#df-bf5d2abc-58f5-4540-b8c3-6ef68d0e270d');\n",
              "          const dataTable =\n",
              "            await google.colab.kernel.invokeFunction('convertToInteractive',\n",
              "                                                     [key], {});\n",
              "          if (!dataTable) return;\n",
              "\n",
              "          const docLinkHtml = 'Like what you see? Visit the ' +\n",
              "            '<a target=\"_blank\" href=https://colab.research.google.com/notebooks/data_table.ipynb>data table notebook</a>'\n",
              "            + ' to learn more about interactive tables.';\n",
              "          element.innerHTML = '';\n",
              "          dataTable['output_type'] = 'display_data';\n",
              "          await google.colab.output.renderOutput(dataTable, element);\n",
              "          const docLink = document.createElement('div');\n",
              "          docLink.innerHTML = docLinkHtml;\n",
              "          element.appendChild(docLink);\n",
              "        }\n",
              "      </script>\n",
              "    </div>\n",
              "  </div>\n",
              "  "
            ]
          },
          "metadata": {},
          "execution_count": 19
        }
      ]
    },
    {
      "cell_type": "code",
      "source": [
        "from code_utils import tokenize_python_code\n",
        "\n",
        "mbpp_code_toks_joined = []\n",
        "mbpp_anonymize_dict = []\n",
        "\n",
        "i = 0\n",
        "for code in mbpp_df['code'].values:\n",
        "    try:\n",
        "        tokens, anonymize_dict = tokenize_python_code(code)\n",
        "    except:\n",
        "        print(f\"Problem tokenizing at item: {i}\")\n",
        "    finally:\n",
        "        mbpp_code_toks_joined.append(' '.join(tokens))\n",
        "        mbpp_anonymize_dict.append(anonymize_dict)\n",
        "    i = i + 1\n",
        "\n",
        "mbpp_toks_df = pd.DataFrame({'code_toks_joined' : mbpp_code_toks_joined, 'anonymize_dict': mbpp_anonymize_dict})\n",
        "mbpp_df = pd.concat([mbpp_df, mbpp_toks_df], axis=1)"
      ],
      "metadata": {
        "colab": {
          "base_uri": "https://localhost:8080/"
        },
        "id": "Kv_uvI0R-MAA",
        "outputId": "76ad8b92-d2b8-4b53-82fd-8c57cb93d195"
      },
      "execution_count": 20,
      "outputs": [
        {
          "output_type": "stream",
          "name": "stdout",
          "text": [
            "('ERRORTOKEN', (3, 17))\n",
            "Problem tokenizing at item: 103\n",
            "('ERRORTOKEN', (3, 51))\n",
            "Problem tokenizing at item: 254\n",
            "('ERRORTOKEN', (4, 14))\n",
            "Problem tokenizing at item: 592\n",
            "('ERRORTOKEN', (3, 36))\n",
            "Problem tokenizing at item: 731\n"
          ]
        }
      ]
    },
    {
      "cell_type": "code",
      "source": [
        "mbpp_df['code_string'] = mbpp_df['code']\n",
        "mbpp_df = mbpp_df.set_index(mbpp_df['task_id'])\n",
        "mbpp_df = mbpp_df[['task_id', 'code_string', 'code_toks_joined', 'anonymize_dict']]\n"
      ],
      "metadata": {
        "id": "YI7kQN2y_MKh"
      },
      "execution_count": 21,
      "outputs": []
    },
    {
      "cell_type": "code",
      "source": [
        "mbpp_df.head()"
      ],
      "metadata": {
        "colab": {
          "base_uri": "https://localhost:8080/",
          "height": 403
        },
        "id": "IeIKiW-DBSth",
        "outputId": "bcab932f-3ef6-44a2-9ee3-125170e297e8"
      },
      "execution_count": 22,
      "outputs": [
        {
          "output_type": "execute_result",
          "data": {
            "text/plain": [
              "         task_id                                        code_string  \\\n",
              "task_id                                                               \n",
              "1              1  R = 3\\r\\nC = 3\\r\\ndef min_cost(cost, m, n): \\r...   \n",
              "2              2  def similar_elements(test_tup1, test_tup2):\\r\\...   \n",
              "3              3  import math\\r\\ndef is_not_prime(n):\\r\\n    res...   \n",
              "4              4  import heapq as hq\\r\\ndef heap_queue_largest(n...   \n",
              "5              5  def count_ways(n): \\r\\n\\tA = [0] * (n + 1) \\r\\...   \n",
              "\n",
              "                                          code_toks_joined anonymize_dict  \n",
              "task_id                                                                    \n",
              "1        R = 3 <NEWLINE> C = 3 <NEWLINE> def min_cost (...             {}  \n",
              "2        def similar_elements ( test_tup1 , test_tup2 )...             {}  \n",
              "3        import math <NEWLINE> def is_not_prime ( n ) :...             {}  \n",
              "4        import heapq as hq <NEWLINE> def heap_queue_la...             {}  \n",
              "5        def count_ways ( n ) : <NEWLINE> <INDENT> A = ...             {}  "
            ],
            "text/html": [
              "\n",
              "  <div id=\"df-e6cafb02-3222-45e2-9e63-ec3697aa99dd\">\n",
              "    <div class=\"colab-df-container\">\n",
              "      <div>\n",
              "<style scoped>\n",
              "    .dataframe tbody tr th:only-of-type {\n",
              "        vertical-align: middle;\n",
              "    }\n",
              "\n",
              "    .dataframe tbody tr th {\n",
              "        vertical-align: top;\n",
              "    }\n",
              "\n",
              "    .dataframe thead th {\n",
              "        text-align: right;\n",
              "    }\n",
              "</style>\n",
              "<table border=\"1\" class=\"dataframe\">\n",
              "  <thead>\n",
              "    <tr style=\"text-align: right;\">\n",
              "      <th></th>\n",
              "      <th>task_id</th>\n",
              "      <th>code_string</th>\n",
              "      <th>code_toks_joined</th>\n",
              "      <th>anonymize_dict</th>\n",
              "    </tr>\n",
              "    <tr>\n",
              "      <th>task_id</th>\n",
              "      <th></th>\n",
              "      <th></th>\n",
              "      <th></th>\n",
              "      <th></th>\n",
              "    </tr>\n",
              "  </thead>\n",
              "  <tbody>\n",
              "    <tr>\n",
              "      <th>1</th>\n",
              "      <td>1</td>\n",
              "      <td>R = 3\\r\\nC = 3\\r\\ndef min_cost(cost, m, n): \\r...</td>\n",
              "      <td>R = 3 &lt;NEWLINE&gt; C = 3 &lt;NEWLINE&gt; def min_cost (...</td>\n",
              "      <td>{}</td>\n",
              "    </tr>\n",
              "    <tr>\n",
              "      <th>2</th>\n",
              "      <td>2</td>\n",
              "      <td>def similar_elements(test_tup1, test_tup2):\\r\\...</td>\n",
              "      <td>def similar_elements ( test_tup1 , test_tup2 )...</td>\n",
              "      <td>{}</td>\n",
              "    </tr>\n",
              "    <tr>\n",
              "      <th>3</th>\n",
              "      <td>3</td>\n",
              "      <td>import math\\r\\ndef is_not_prime(n):\\r\\n    res...</td>\n",
              "      <td>import math &lt;NEWLINE&gt; def is_not_prime ( n ) :...</td>\n",
              "      <td>{}</td>\n",
              "    </tr>\n",
              "    <tr>\n",
              "      <th>4</th>\n",
              "      <td>4</td>\n",
              "      <td>import heapq as hq\\r\\ndef heap_queue_largest(n...</td>\n",
              "      <td>import heapq as hq &lt;NEWLINE&gt; def heap_queue_la...</td>\n",
              "      <td>{}</td>\n",
              "    </tr>\n",
              "    <tr>\n",
              "      <th>5</th>\n",
              "      <td>5</td>\n",
              "      <td>def count_ways(n): \\r\\n\\tA = [0] * (n + 1) \\r\\...</td>\n",
              "      <td>def count_ways ( n ) : &lt;NEWLINE&gt; &lt;INDENT&gt; A = ...</td>\n",
              "      <td>{}</td>\n",
              "    </tr>\n",
              "  </tbody>\n",
              "</table>\n",
              "</div>\n",
              "      <button class=\"colab-df-convert\" onclick=\"convertToInteractive('df-e6cafb02-3222-45e2-9e63-ec3697aa99dd')\"\n",
              "              title=\"Convert this dataframe to an interactive table.\"\n",
              "              style=\"display:none;\">\n",
              "        \n",
              "  <svg xmlns=\"http://www.w3.org/2000/svg\" height=\"24px\"viewBox=\"0 0 24 24\"\n",
              "       width=\"24px\">\n",
              "    <path d=\"M0 0h24v24H0V0z\" fill=\"none\"/>\n",
              "    <path d=\"M18.56 5.44l.94 2.06.94-2.06 2.06-.94-2.06-.94-.94-2.06-.94 2.06-2.06.94zm-11 1L8.5 8.5l.94-2.06 2.06-.94-2.06-.94L8.5 2.5l-.94 2.06-2.06.94zm10 10l.94 2.06.94-2.06 2.06-.94-2.06-.94-.94-2.06-.94 2.06-2.06.94z\"/><path d=\"M17.41 7.96l-1.37-1.37c-.4-.4-.92-.59-1.43-.59-.52 0-1.04.2-1.43.59L10.3 9.45l-7.72 7.72c-.78.78-.78 2.05 0 2.83L4 21.41c.39.39.9.59 1.41.59.51 0 1.02-.2 1.41-.59l7.78-7.78 2.81-2.81c.8-.78.8-2.07 0-2.86zM5.41 20L4 18.59l7.72-7.72 1.47 1.35L5.41 20z\"/>\n",
              "  </svg>\n",
              "      </button>\n",
              "      \n",
              "  <style>\n",
              "    .colab-df-container {\n",
              "      display:flex;\n",
              "      flex-wrap:wrap;\n",
              "      gap: 12px;\n",
              "    }\n",
              "\n",
              "    .colab-df-convert {\n",
              "      background-color: #E8F0FE;\n",
              "      border: none;\n",
              "      border-radius: 50%;\n",
              "      cursor: pointer;\n",
              "      display: none;\n",
              "      fill: #1967D2;\n",
              "      height: 32px;\n",
              "      padding: 0 0 0 0;\n",
              "      width: 32px;\n",
              "    }\n",
              "\n",
              "    .colab-df-convert:hover {\n",
              "      background-color: #E2EBFA;\n",
              "      box-shadow: 0px 1px 2px rgba(60, 64, 67, 0.3), 0px 1px 3px 1px rgba(60, 64, 67, 0.15);\n",
              "      fill: #174EA6;\n",
              "    }\n",
              "\n",
              "    [theme=dark] .colab-df-convert {\n",
              "      background-color: #3B4455;\n",
              "      fill: #D2E3FC;\n",
              "    }\n",
              "\n",
              "    [theme=dark] .colab-df-convert:hover {\n",
              "      background-color: #434B5C;\n",
              "      box-shadow: 0px 1px 3px 1px rgba(0, 0, 0, 0.15);\n",
              "      filter: drop-shadow(0px 1px 2px rgba(0, 0, 0, 0.3));\n",
              "      fill: #FFFFFF;\n",
              "    }\n",
              "  </style>\n",
              "\n",
              "      <script>\n",
              "        const buttonEl =\n",
              "          document.querySelector('#df-e6cafb02-3222-45e2-9e63-ec3697aa99dd button.colab-df-convert');\n",
              "        buttonEl.style.display =\n",
              "          google.colab.kernel.accessAllowed ? 'block' : 'none';\n",
              "\n",
              "        async function convertToInteractive(key) {\n",
              "          const element = document.querySelector('#df-e6cafb02-3222-45e2-9e63-ec3697aa99dd');\n",
              "          const dataTable =\n",
              "            await google.colab.kernel.invokeFunction('convertToInteractive',\n",
              "                                                     [key], {});\n",
              "          if (!dataTable) return;\n",
              "\n",
              "          const docLinkHtml = 'Like what you see? Visit the ' +\n",
              "            '<a target=\"_blank\" href=https://colab.research.google.com/notebooks/data_table.ipynb>data table notebook</a>'\n",
              "            + ' to learn more about interactive tables.';\n",
              "          element.innerHTML = '';\n",
              "          dataTable['output_type'] = 'display_data';\n",
              "          await google.colab.output.renderOutput(dataTable, element);\n",
              "          const docLink = document.createElement('div');\n",
              "          docLink.innerHTML = docLinkHtml;\n",
              "          element.appendChild(docLink);\n",
              "        }\n",
              "      </script>\n",
              "    </div>\n",
              "  </div>\n",
              "  "
            ]
          },
          "metadata": {},
          "execution_count": 22
        }
      ]
    },
    {
      "cell_type": "markdown",
      "source": [
        "In this section we are going to divide the dataset into training, validation and tests with 60%, 20%, 20% respectively."
      ],
      "metadata": {
        "id": "HipGahn4ttv7"
      }
    },
    {
      "cell_type": "code",
      "source": [
        "from sklearn.model_selection import train_test_split\n",
        "\n",
        "mbpp_train, mbpp_val_test = train_test_split(mbpp_df, test_size=0.4, random_state=42)\n",
        "mbpp_val, mbpp_test = train_test_split(mbpp_val_test, test_size=0.5, random_state=42)"
      ],
      "metadata": {
        "id": "Xu6csN372RIK"
      },
      "execution_count": 23,
      "outputs": []
    },
    {
      "cell_type": "code",
      "source": [
        "mbpp_df.shape"
      ],
      "metadata": {
        "colab": {
          "base_uri": "https://localhost:8080/"
        },
        "id": "Om-fVKBP3NlT",
        "outputId": "934e3fc5-f63b-41c7-b244-7fa8170ce0e7"
      },
      "execution_count": 24,
      "outputs": [
        {
          "output_type": "execute_result",
          "data": {
            "text/plain": [
              "(974, 4)"
            ]
          },
          "metadata": {},
          "execution_count": 24
        }
      ]
    },
    {
      "cell_type": "code",
      "source": [
        "mbpp_train.shape"
      ],
      "metadata": {
        "colab": {
          "base_uri": "https://localhost:8080/"
        },
        "id": "4elp781R2_CL",
        "outputId": "153e1ef8-0142-4c9b-832d-6c5aba2d9542"
      },
      "execution_count": 25,
      "outputs": [
        {
          "output_type": "execute_result",
          "data": {
            "text/plain": [
              "(584, 4)"
            ]
          },
          "metadata": {},
          "execution_count": 25
        }
      ]
    },
    {
      "cell_type": "code",
      "source": [
        "mbpp_val.shape"
      ],
      "metadata": {
        "colab": {
          "base_uri": "https://localhost:8080/"
        },
        "id": "z96Nh1dy3BLf",
        "outputId": "f4436a20-f7e7-4648-e0cc-e064278d6d08"
      },
      "execution_count": 26,
      "outputs": [
        {
          "output_type": "execute_result",
          "data": {
            "text/plain": [
              "(195, 4)"
            ]
          },
          "metadata": {},
          "execution_count": 26
        }
      ]
    },
    {
      "cell_type": "code",
      "source": [
        "mbpp_test.shape"
      ],
      "metadata": {
        "colab": {
          "base_uri": "https://localhost:8080/"
        },
        "id": "Gk_OoEl93ERv",
        "outputId": "13753b76-461c-4c0c-833b-ada2a68873bb"
      },
      "execution_count": 27,
      "outputs": [
        {
          "output_type": "execute_result",
          "data": {
            "text/plain": [
              "(195, 4)"
            ]
          },
          "metadata": {},
          "execution_count": 27
        }
      ]
    },
    {
      "cell_type": "code",
      "source": [
        "import csv\n",
        "\n",
        "def save_to_files(base_path, mbpp_df):\n",
        "    mbpp_df[['code_string', 'code_toks_joined', 'anonymize_dict']].to_json(f\"{base_path}/orig.good.json\", orient='index')\n",
        "    mbpp_df[['code_toks_joined']].to_csv(f\"{base_path}/orig.0.good\", index=False, header=False, quoting=csv.QUOTE_NONE, escapechar=' ')\n",
        "    mbpp_df[['task_id']].to_csv(f\"{base_path}/orig.0.id\", index=False, header=False)"
      ],
      "metadata": {
        "id": "a2iyGe8M_ylt"
      },
      "execution_count": 28,
      "outputs": []
    },
    {
      "cell_type": "markdown",
      "source": [
        "### Create Preprocess Train/Validation dataset"
      ],
      "metadata": {
        "id": "ajd9N4y-7Swb"
      }
    },
    {
      "cell_type": "code",
      "source": [
        "data_dir = Path('data')\n",
        "round_name = 'round2-BIFI-part1'\n",
        "round_dir = data_dir/round_name\n",
        "destdir_root = round_dir/'orig_good'\n",
        "destdir_root = Path(destdir_root)\n",
        "\n",
        "gpu_ids = '0'\n",
        "\n",
        "#Run breaker\n",
        "model_dir  = round_dir/'model-breaker'\n",
        "model_path = model_dir/'checkpoint.pt'\n",
        "\n",
        "load_dir = data_dir/round_name/'data_paired_pure'\n",
        "out_dir  = data_dir/round_name/'data_paired'\n",
        "\n",
        "pred_dir_root = round_dir/'orig_good'\n",
        "pred_dir_prefix = str(pred_dir_root/'fairseq_preprocess__orig_good.')\n",
        "pred_fname  = 'model-breaker.pred.txt'\n",
        "\n",
        "base_path = data_dir/'orig_good_code'\n",
        "\n",
        "n_splits = 1"
      ],
      "metadata": {
        "id": "onTNI4sIMGfl"
      },
      "execution_count": 81,
      "outputs": []
    },
    {
      "cell_type": "markdown",
      "source": [
        "#### Train dataset"
      ],
      "metadata": {
        "id": "nME9ev1Q8PCe"
      }
    },
    {
      "cell_type": "code",
      "source": [
        "!rm -r /content/data/round2-BIFI-part1/orig_good\n",
        "!rm -r /content/data/orig_good_code"
      ],
      "metadata": {
        "colab": {
          "base_uri": "https://localhost:8080/"
        },
        "id": "sTnIvltIA8F3",
        "outputId": "c6bf4935-038d-40a5-ad0b-3b22eb1f753a"
      },
      "execution_count": 30,
      "outputs": [
        {
          "output_type": "stream",
          "name": "stdout",
          "text": [
            "rm: cannot remove '/content/data/round2-BIFI-part1/orig_good': No such file or directory\n",
            "rm: cannot remove '/content/data/orig_good_code': No such file or directory\n"
          ]
        }
      ]
    },
    {
      "cell_type": "code",
      "source": [
        "os.makedirs(base_path)"
      ],
      "metadata": {
        "id": "HZpGQNyj7lj1"
      },
      "execution_count": 31,
      "outputs": []
    },
    {
      "cell_type": "code",
      "source": [
        "save_to_files(base_path, mbpp_train)\n",
        "goods = json.load(open(data_dir/'orig_good_code/orig.good.json'))\n",
        "preprocess(destdir_root)\n",
        "generate(destdir_root, gpu_ids)"
      ],
      "metadata": {
        "id": "M7t6oQll4Xp2"
      },
      "execution_count": 32,
      "outputs": []
    },
    {
      "cell_type": "code",
      "source": [
        "for split in range(n_splits):\n",
        "    eval_one_split(pred_dir_prefix, split, pred_fname, goods, n_workers=1)"
      ],
      "metadata": {
        "colab": {
          "base_uri": "https://localhost:8080/"
        },
        "id": "zea6tpJoMeQU",
        "outputId": "d7785a9f-4665-4878-fc2c-a3a67c0179e1"
      },
      "execution_count": 33,
      "outputs": [
        {
          "output_type": "stream",
          "name": "stdout",
          "text": [
            "len(preds) 584\n"
          ]
        },
        {
          "output_type": "stream",
          "name": "stderr",
          "text": [
            "100%|██████████| 584/584 [00:01<00:00, 495.30it/s]\n"
          ]
        },
        {
          "output_type": "stream",
          "name": "stdout",
          "text": [
            "data/round2-BIFI-part1/orig_good/fairseq_preprocess__orig_good.0/model-breaker.pred.evaluated.json\n"
          ]
        }
      ]
    },
    {
      "cell_type": "code",
      "source": [
        "generate_paired_data_from_breaker_preds_for_BIFI(pred_dir_prefix, pred_fname, out_dir, load_dir, subset='train', n_splits=n_splits)"
      ],
      "metadata": {
        "colab": {
          "base_uri": "https://localhost:8080/"
        },
        "id": "6x3AeBMrMj8h",
        "outputId": "e4044b54-ab28-4327-ea97-49172b5792a5"
      },
      "execution_count": 34,
      "outputs": [
        {
          "output_type": "stream",
          "name": "stdout",
          "text": [
            "split 0\n"
          ]
        },
        {
          "output_type": "stream",
          "name": "stderr",
          "text": [
            "100%|██████████| 584/584 [00:00<00:00, 40817.08it/s]\n"
          ]
        },
        {
          "output_type": "stream",
          "name": "stdout",
          "text": [
            "#new_data 4907\n",
            "#new_data_p 1643 #new_data_i 259 #new_data_s 3005\n",
            "seed 2077634057\n",
            "writing out data\n"
          ]
        },
        {
          "output_type": "stream",
          "name": "stderr",
          "text": [
            "100%|██████████| 4907/4907 [00:00<00:00, 302766.33it/s]"
          ]
        },
        {
          "output_type": "stream",
          "name": "stdout",
          "text": [
            "done\n"
          ]
        },
        {
          "output_type": "stream",
          "name": "stderr",
          "text": [
            "\n"
          ]
        }
      ]
    },
    {
      "cell_type": "markdown",
      "source": [
        "#### Validation dataset"
      ],
      "metadata": {
        "id": "UJL_YlTr8S-P"
      }
    },
    {
      "cell_type": "code",
      "source": [
        "!rm -r /content/data/round2-BIFI-part1/orig_good\n",
        "!rm -r /content/data/orig_good_code"
      ],
      "metadata": {
        "id": "RIPm8uY9A9sM",
        "colab": {
          "base_uri": "https://localhost:8080/"
        },
        "outputId": "6d0e5536-2982-4069-c27a-229f8c8c042e"
      },
      "execution_count": 83,
      "outputs": [
        {
          "output_type": "stream",
          "name": "stdout",
          "text": [
            "rm: cannot remove '/content/data/round2-BIFI-part1/orig_good': No such file or directory\n"
          ]
        }
      ]
    },
    {
      "cell_type": "code",
      "source": [
        "os.makedirs(base_path)\n",
        "save_to_files(base_path, mbpp_val)\n",
        "goods = json.load(open(data_dir/'orig_good_code/orig.good.json'))\n",
        "preprocess(destdir_root)\n",
        "generate(destdir_root, gpu_ids)\n",
        "for split in range(n_splits):\n",
        "    eval_one_split(pred_dir_prefix, split, pred_fname, goods, n_workers=1)"
      ],
      "metadata": {
        "colab": {
          "base_uri": "https://localhost:8080/"
        },
        "id": "9fVbZD0xBb8l",
        "outputId": "09b3672f-f5ba-4f99-942d-01f01b166409"
      },
      "execution_count": 84,
      "outputs": [
        {
          "output_type": "stream",
          "name": "stdout",
          "text": [
            "len(preds) 195\n"
          ]
        },
        {
          "output_type": "stream",
          "name": "stderr",
          "text": [
            "100%|██████████| 195/195 [00:00<00:00, 539.87it/s]\n"
          ]
        },
        {
          "output_type": "stream",
          "name": "stdout",
          "text": [
            "data/round2-BIFI-part1/orig_good/fairseq_preprocess__orig_good.0/model-breaker.pred.evaluated.json\n"
          ]
        }
      ]
    },
    {
      "cell_type": "code",
      "source": [
        "generate_paired_data_from_breaker_preds_for_BIFI(pred_dir_prefix, pred_fname, out_dir, load_dir, subset='val', n_splits=n_splits)"
      ],
      "metadata": {
        "colab": {
          "base_uri": "https://localhost:8080/"
        },
        "id": "CQyfs12YAReR",
        "outputId": "75e87656-50e7-425b-f47b-0d342b6a4955"
      },
      "execution_count": 85,
      "outputs": [
        {
          "output_type": "stream",
          "name": "stdout",
          "text": [
            "split 0\n"
          ]
        },
        {
          "output_type": "stream",
          "name": "stderr",
          "text": [
            "100%|██████████| 195/195 [00:00<00:00, 59787.23it/s]\n"
          ]
        },
        {
          "output_type": "stream",
          "name": "stdout",
          "text": [
            "#new_data 1694\n",
            "#new_data_p 560 #new_data_i 85 #new_data_s 1049\n",
            "seed 2077634057\n",
            "writing out data\n"
          ]
        },
        {
          "output_type": "stream",
          "name": "stderr",
          "text": [
            "100%|██████████| 1694/1694 [00:00<00:00, 188190.99it/s]"
          ]
        },
        {
          "output_type": "stream",
          "name": "stdout",
          "text": [
            "done\n"
          ]
        },
        {
          "output_type": "stream",
          "name": "stderr",
          "text": [
            "\n"
          ]
        }
      ]
    },
    {
      "cell_type": "markdown",
      "source": [
        "#### Test Dataset"
      ],
      "metadata": {
        "id": "Ql9H--Trs98Z"
      }
    },
    {
      "cell_type": "code",
      "source": [
        "!rm -r /content/data/round2-BIFI-part1/orig_good\n",
        "!rm -r /content/data/orig_good_code"
      ],
      "metadata": {
        "id": "nf8kuMSCtCEJ"
      },
      "execution_count": 86,
      "outputs": []
    },
    {
      "cell_type": "code",
      "source": [
        "os.makedirs(base_path)\n",
        "save_to_files(base_path, mbpp_test)\n",
        "goods = json.load(open(data_dir/'orig_good_code/orig.good.json'))\n",
        "preprocess(destdir_root)\n",
        "generate(destdir_root, gpu_ids)\n",
        "for split in range(n_splits):\n",
        "    eval_one_split(pred_dir_prefix, split, pred_fname, goods, n_workers=1)"
      ],
      "metadata": {
        "colab": {
          "base_uri": "https://localhost:8080/"
        },
        "id": "vlz571HytEXf",
        "outputId": "b373f868-4ab4-415d-90ec-3bdaa2417d3c"
      },
      "execution_count": 87,
      "outputs": [
        {
          "output_type": "stream",
          "name": "stdout",
          "text": [
            "len(preds) 195\n"
          ]
        },
        {
          "output_type": "stream",
          "name": "stderr",
          "text": [
            "100%|██████████| 195/195 [00:00<00:00, 528.15it/s]\n"
          ]
        },
        {
          "output_type": "stream",
          "name": "stdout",
          "text": [
            "data/round2-BIFI-part1/orig_good/fairseq_preprocess__orig_good.0/model-breaker.pred.evaluated.json\n"
          ]
        }
      ]
    },
    {
      "cell_type": "code",
      "source": [
        "generate_paired_data_from_breaker_preds_for_BIFI(pred_dir_prefix, pred_fname, out_dir, load_dir, subset='test', n_splits=n_splits)"
      ],
      "metadata": {
        "colab": {
          "base_uri": "https://localhost:8080/"
        },
        "id": "j3cC6-jMtNWC",
        "outputId": "d591c188-5e36-43f2-db99-8ab6605fe928"
      },
      "execution_count": 88,
      "outputs": [
        {
          "output_type": "stream",
          "name": "stdout",
          "text": [
            "split 0\n"
          ]
        },
        {
          "output_type": "stream",
          "name": "stderr",
          "text": [
            "100%|██████████| 195/195 [00:00<00:00, 30570.73it/s]\n"
          ]
        },
        {
          "output_type": "stream",
          "name": "stdout",
          "text": [
            "#new_data 1641\n",
            "#new_data_p 523 #new_data_i 90 #new_data_s 1028\n",
            "seed 2077634057\n",
            "writing out data\n"
          ]
        },
        {
          "output_type": "stream",
          "name": "stderr",
          "text": [
            "100%|██████████| 1641/1641 [00:00<00:00, 216271.89it/s]"
          ]
        },
        {
          "output_type": "stream",
          "name": "stdout",
          "text": [
            "done\n"
          ]
        },
        {
          "output_type": "stream",
          "name": "stderr",
          "text": [
            "\n"
          ]
        }
      ]
    },
    {
      "cell_type": "markdown",
      "source": [
        "#### Explore synthetic dataset"
      ],
      "metadata": {
        "id": "Kwz-4vgyAbOV"
      }
    },
    {
      "cell_type": "code",
      "source": [
        "!pip install editdistance"
      ],
      "metadata": {
        "colab": {
          "base_uri": "https://localhost:8080/"
        },
        "id": "ubd1Ojj7NiZz",
        "outputId": "a1e5ac7c-5382-43f9-f637-e647962d2baf"
      },
      "execution_count": 40,
      "outputs": [
        {
          "output_type": "stream",
          "name": "stdout",
          "text": [
            "Looking in indexes: https://pypi.org/simple, https://us-python.pkg.dev/colab-wheels/public/simple/\n",
            "Requirement already satisfied: editdistance in /usr/local/lib/python3.7/dist-packages (0.5.3)\n"
          ]
        }
      ]
    },
    {
      "cell_type": "code",
      "source": [
        "# cargamos el dataset en un dataframe\n",
        "\n",
        "train_good_lines = []\n",
        "\n",
        "with open(f\"{out_dir}/train.good\", 'r') as f:\n",
        "    train_good_lines = f.readlines()\n",
        "\n",
        "train_bad_lines = []\n",
        "with open(f\"{out_dir}/train.bad\", 'r') as f:\n",
        "    train_bad_lines = f.readlines()\n",
        "\n",
        "train_idx = []\n",
        "with open(f\"{out_dir}/train.id\", 'r') as f:\n",
        "    train_idx = f.readlines()\n",
        "\n",
        "train_df = pd.DataFrame({'id': train_idx, 'good': train_good_lines, 'bad': train_bad_lines})\n",
        "\n",
        "# clean last char '\\n'\n",
        "train_df['id'] = train_df['id'].str.replace('\\n', '')\n",
        "train_df['good'] = train_df['good'].str.replace('\\n', '')\n",
        "train_df['bad'] = train_df['bad'].str.replace('\\n', '')"
      ],
      "metadata": {
        "id": "GWSw1W6yOOSw"
      },
      "execution_count": 41,
      "outputs": []
    },
    {
      "cell_type": "code",
      "source": [
        "train_df.head()"
      ],
      "metadata": {
        "colab": {
          "base_uri": "https://localhost:8080/",
          "height": 337
        },
        "id": "_S6trWjaOONv",
        "outputId": "98e17257-4b97-4926-be7a-2a1f5c21b60c"
      },
      "execution_count": 42,
      "outputs": [
        {
          "output_type": "execute_result",
          "data": {
            "text/plain": [
              "           id                                               good  \\\n",
              "0  00-120-006  def <unk> ( list1 ) : <NEWLINE> <INDENT> <unk>...   \n",
              "1  00-770-009  def <unk> ( n ) : <NEWLINE> <INDENT> j = 0 <NE...   \n",
              "2  00-427-008  import re <NEWLINE> def <unk> ( dt ) : <NEWLIN...   \n",
              "3   00-33-006  def <unk> ( N ) : <NEWLINE> <INDENT> <unk> = 0...   \n",
              "4  00-206-005  def <unk> ( <unk> ) : <NEWLINE> <INDENT> res =...   \n",
              "\n",
              "                                                 bad  \n",
              "0  def <unk> ( list1 ) : <NEWLINE> <INDENT> <unk>...  \n",
              "1  def <unk> ( n ) : <NEWLINE> j = 0 <NEWLINE> sm...  \n",
              "2  import re <NEWLINE> def <unk> ( dt ) : <NEWLIN...  \n",
              "3  def <unk> ( N ) : <NEWLINE> <INDENT> <unk> = 0...  \n",
              "4  def <unk> ( <unk> ) : <NEWLINE> <INDENT> res =...  "
            ],
            "text/html": [
              "\n",
              "  <div id=\"df-331e4b10-c318-4c79-87b9-3e5f7125c640\">\n",
              "    <div class=\"colab-df-container\">\n",
              "      <div>\n",
              "<style scoped>\n",
              "    .dataframe tbody tr th:only-of-type {\n",
              "        vertical-align: middle;\n",
              "    }\n",
              "\n",
              "    .dataframe tbody tr th {\n",
              "        vertical-align: top;\n",
              "    }\n",
              "\n",
              "    .dataframe thead th {\n",
              "        text-align: right;\n",
              "    }\n",
              "</style>\n",
              "<table border=\"1\" class=\"dataframe\">\n",
              "  <thead>\n",
              "    <tr style=\"text-align: right;\">\n",
              "      <th></th>\n",
              "      <th>id</th>\n",
              "      <th>good</th>\n",
              "      <th>bad</th>\n",
              "    </tr>\n",
              "  </thead>\n",
              "  <tbody>\n",
              "    <tr>\n",
              "      <th>0</th>\n",
              "      <td>00-120-006</td>\n",
              "      <td>def &lt;unk&gt; ( list1 ) : &lt;NEWLINE&gt; &lt;INDENT&gt; &lt;unk&gt;...</td>\n",
              "      <td>def &lt;unk&gt; ( list1 ) : &lt;NEWLINE&gt; &lt;INDENT&gt; &lt;unk&gt;...</td>\n",
              "    </tr>\n",
              "    <tr>\n",
              "      <th>1</th>\n",
              "      <td>00-770-009</td>\n",
              "      <td>def &lt;unk&gt; ( n ) : &lt;NEWLINE&gt; &lt;INDENT&gt; j = 0 &lt;NE...</td>\n",
              "      <td>def &lt;unk&gt; ( n ) : &lt;NEWLINE&gt; j = 0 &lt;NEWLINE&gt; sm...</td>\n",
              "    </tr>\n",
              "    <tr>\n",
              "      <th>2</th>\n",
              "      <td>00-427-008</td>\n",
              "      <td>import re &lt;NEWLINE&gt; def &lt;unk&gt; ( dt ) : &lt;NEWLIN...</td>\n",
              "      <td>import re &lt;NEWLINE&gt; def &lt;unk&gt; ( dt ) : &lt;NEWLIN...</td>\n",
              "    </tr>\n",
              "    <tr>\n",
              "      <th>3</th>\n",
              "      <td>00-33-006</td>\n",
              "      <td>def &lt;unk&gt; ( N ) : &lt;NEWLINE&gt; &lt;INDENT&gt; &lt;unk&gt; = 0...</td>\n",
              "      <td>def &lt;unk&gt; ( N ) : &lt;NEWLINE&gt; &lt;INDENT&gt; &lt;unk&gt; = 0...</td>\n",
              "    </tr>\n",
              "    <tr>\n",
              "      <th>4</th>\n",
              "      <td>00-206-005</td>\n",
              "      <td>def &lt;unk&gt; ( &lt;unk&gt; ) : &lt;NEWLINE&gt; &lt;INDENT&gt; res =...</td>\n",
              "      <td>def &lt;unk&gt; ( &lt;unk&gt; ) : &lt;NEWLINE&gt; &lt;INDENT&gt; res =...</td>\n",
              "    </tr>\n",
              "  </tbody>\n",
              "</table>\n",
              "</div>\n",
              "      <button class=\"colab-df-convert\" onclick=\"convertToInteractive('df-331e4b10-c318-4c79-87b9-3e5f7125c640')\"\n",
              "              title=\"Convert this dataframe to an interactive table.\"\n",
              "              style=\"display:none;\">\n",
              "        \n",
              "  <svg xmlns=\"http://www.w3.org/2000/svg\" height=\"24px\"viewBox=\"0 0 24 24\"\n",
              "       width=\"24px\">\n",
              "    <path d=\"M0 0h24v24H0V0z\" fill=\"none\"/>\n",
              "    <path d=\"M18.56 5.44l.94 2.06.94-2.06 2.06-.94-2.06-.94-.94-2.06-.94 2.06-2.06.94zm-11 1L8.5 8.5l.94-2.06 2.06-.94-2.06-.94L8.5 2.5l-.94 2.06-2.06.94zm10 10l.94 2.06.94-2.06 2.06-.94-2.06-.94-.94-2.06-.94 2.06-2.06.94z\"/><path d=\"M17.41 7.96l-1.37-1.37c-.4-.4-.92-.59-1.43-.59-.52 0-1.04.2-1.43.59L10.3 9.45l-7.72 7.72c-.78.78-.78 2.05 0 2.83L4 21.41c.39.39.9.59 1.41.59.51 0 1.02-.2 1.41-.59l7.78-7.78 2.81-2.81c.8-.78.8-2.07 0-2.86zM5.41 20L4 18.59l7.72-7.72 1.47 1.35L5.41 20z\"/>\n",
              "  </svg>\n",
              "      </button>\n",
              "      \n",
              "  <style>\n",
              "    .colab-df-container {\n",
              "      display:flex;\n",
              "      flex-wrap:wrap;\n",
              "      gap: 12px;\n",
              "    }\n",
              "\n",
              "    .colab-df-convert {\n",
              "      background-color: #E8F0FE;\n",
              "      border: none;\n",
              "      border-radius: 50%;\n",
              "      cursor: pointer;\n",
              "      display: none;\n",
              "      fill: #1967D2;\n",
              "      height: 32px;\n",
              "      padding: 0 0 0 0;\n",
              "      width: 32px;\n",
              "    }\n",
              "\n",
              "    .colab-df-convert:hover {\n",
              "      background-color: #E2EBFA;\n",
              "      box-shadow: 0px 1px 2px rgba(60, 64, 67, 0.3), 0px 1px 3px 1px rgba(60, 64, 67, 0.15);\n",
              "      fill: #174EA6;\n",
              "    }\n",
              "\n",
              "    [theme=dark] .colab-df-convert {\n",
              "      background-color: #3B4455;\n",
              "      fill: #D2E3FC;\n",
              "    }\n",
              "\n",
              "    [theme=dark] .colab-df-convert:hover {\n",
              "      background-color: #434B5C;\n",
              "      box-shadow: 0px 1px 3px 1px rgba(0, 0, 0, 0.15);\n",
              "      filter: drop-shadow(0px 1px 2px rgba(0, 0, 0, 0.3));\n",
              "      fill: #FFFFFF;\n",
              "    }\n",
              "  </style>\n",
              "\n",
              "      <script>\n",
              "        const buttonEl =\n",
              "          document.querySelector('#df-331e4b10-c318-4c79-87b9-3e5f7125c640 button.colab-df-convert');\n",
              "        buttonEl.style.display =\n",
              "          google.colab.kernel.accessAllowed ? 'block' : 'none';\n",
              "\n",
              "        async function convertToInteractive(key) {\n",
              "          const element = document.querySelector('#df-331e4b10-c318-4c79-87b9-3e5f7125c640');\n",
              "          const dataTable =\n",
              "            await google.colab.kernel.invokeFunction('convertToInteractive',\n",
              "                                                     [key], {});\n",
              "          if (!dataTable) return;\n",
              "\n",
              "          const docLinkHtml = 'Like what you see? Visit the ' +\n",
              "            '<a target=\"_blank\" href=https://colab.research.google.com/notebooks/data_table.ipynb>data table notebook</a>'\n",
              "            + ' to learn more about interactive tables.';\n",
              "          element.innerHTML = '';\n",
              "          dataTable['output_type'] = 'display_data';\n",
              "          await google.colab.output.renderOutput(dataTable, element);\n",
              "          const docLink = document.createElement('div');\n",
              "          docLink.innerHTML = docLinkHtml;\n",
              "          element.appendChild(docLink);\n",
              "        }\n",
              "      </script>\n",
              "    </div>\n",
              "  </div>\n",
              "  "
            ]
          },
          "metadata": {},
          "execution_count": 42
        }
      ]
    },
    {
      "cell_type": "code",
      "source": [
        "# select a random sample\n",
        "samples = np.random.choice(train_df.shape[0], 4)\n",
        "samples"
      ],
      "metadata": {
        "colab": {
          "base_uri": "https://localhost:8080/"
        },
        "id": "k6r8dl2xR0ey",
        "outputId": "32d11e41-50e5-4fad-e816-08f831e418f2"
      },
      "execution_count": 43,
      "outputs": [
        {
          "output_type": "execute_result",
          "data": {
            "text/plain": [
              "array([4432, 1551, 2486, 3332])"
            ]
          },
          "metadata": {},
          "execution_count": 43
        }
      ]
    },
    {
      "cell_type": "code",
      "source": [
        "from difflib import Differ\n",
        "import editdistance\n",
        "\n",
        "def print_diff(str1, str2):\n",
        "    str1_lines = str1.splitlines()\n",
        "    str2_lines = str2.splitlines()\n",
        "    d = Differ()\n",
        "    diff = d.compare(str1_lines, str2_lines)\n",
        "    print('editdistance: ', editdistance.eval(str1, str2))\n",
        "    print('\\n'.join(diff))\n",
        "    print('\\n')"
      ],
      "metadata": {
        "id": "K1ve2J8KPoJj"
      },
      "execution_count": 44,
      "outputs": []
    },
    {
      "cell_type": "code",
      "source": [
        "for s in samples:\n",
        "    str1 = train_df['good'][s]\n",
        "    str2 = train_df['bad'][s]\n",
        "    print('id: ', train_df['id'][s])\n",
        "    print_diff(str1, str2)"
      ],
      "metadata": {
        "colab": {
          "base_uri": "https://localhost:8080/"
        },
        "id": "PueksOHnSdHN",
        "outputId": "d7dec7ee-671b-4a8c-b07b-9f52a49dfd76"
      },
      "execution_count": 45,
      "outputs": [
        {
          "output_type": "stream",
          "name": "stdout",
          "text": [
            "id:  00-171-002\n",
            "editdistance:  2\n",
            "- import math <NEWLINE> def <unk> ( a ) : <NEWLINE> <INDENT> <unk> = ( 5 * a ) <NEWLINE> return <unk> <NEWLINE> <DEDENT>\n",
            "?                                --\n",
            "\n",
            "+ import math <NEWLINE> def <unk> a ) : <NEWLINE> <INDENT> <unk> = ( 5 * a ) <NEWLINE> return <unk> <NEWLINE> <DEDENT>\n",
            "\n",
            "\n",
            "id:  00-774-008\n",
            "editdistance:  8\n",
            "- import re <NEWLINE> regex = <STRING> <NEWLINE> def <unk> ( email ) : <NEWLINE> <INDENT> if ( re . search ( regex , email ) ) : <NEWLINE> <INDENT> return ( <STRING> ) <NEWLINE> <DEDENT> else : <NEWLINE> <INDENT> return ( <STRING> ) <NEWLINE> <DEDENT> <DEDENT>\n",
            "?                                                                                                                              --                                                                                    ^^ ---\n",
            "\n",
            "+ import re <NEWLINE> regex = <STRING> <NEWLINE> def <unk> ( email ) : <NEWLINE> <INDENT> if ( re . search ( regex , email ) ) <NEWLINE> <INDENT> return ( <STRING> ) <NEWLINE> <DEDENT> else : <NEWLINE> <INDENT> print ( <STRING> ) <NEWLINE> <DEDENT> <DEDENT>\n",
            "?                                                                                                                                                                                                                  ^^^^\n",
            "\n",
            "\n",
            "\n",
            "id:  00-842-001\n",
            "editdistance:  2\n",
            "- def <unk> ( arr , <unk> ) : <NEWLINE> <INDENT> for i in range ( 0 , <unk> ) : <NEWLINE> <INDENT> count = 0 <NEWLINE> for j in range ( 0 , <unk> ) : <NEWLINE> <INDENT> if arr [ i ] == arr [ j ] : <NEWLINE> <INDENT> count += 1 <NEWLINE> <DEDENT> <DEDENT> if ( count % 2 != 0 ) : <NEWLINE> <INDENT> return arr [ i ] <NEWLINE> <DEDENT> <DEDENT> return - 1 <NEWLINE> <DEDENT>\n",
            "+ def <unk> ( arr , <unk> ) : <NEWLINE> <INDENT> for i in range 0 , <unk> ) : <NEWLINE> <INDENT> count = 0 <NEWLINE> for j in range ( 0 , <unk> ) : <NEWLINE> <INDENT> if arr [ i ] == arr [ j ] : <NEWLINE> <INDENT> count += 1 <NEWLINE> <DEDENT> <DEDENT> if ( count % 2 != 0 ) : <NEWLINE> <INDENT> return arr [ i ] <NEWLINE> <DEDENT> <DEDENT> return - 1 <NEWLINE> <DEDENT>\n",
            "\n",
            "\n",
            "id:  00-898-001\n",
            "editdistance:  2\n",
            "- from itertools import groupby <NEWLINE> def <unk> ( numbers , n ) : <NEWLINE> <INDENT> result = [ i for i , j in groupby ( numbers ) if len ( list ( j ) ) == n ] <NEWLINE> return result <NEWLINE> <DEDENT>\n",
            "?                                                  --\n",
            "\n",
            "+ from itertools import groupby <NEWLINE> def <unk> numbers , n ) : <NEWLINE> <INDENT> result = [ i for i , j in groupby ( numbers ) if len ( list ( j ) ) == n ] <NEWLINE> return result <NEWLINE> <DEDENT>\n",
            "\n",
            "\n"
          ]
        }
      ]
    },
    {
      "cell_type": "markdown",
      "source": [
        "## Experiments using CodeBERT\n",
        "\n",
        "Based on: https://github.com/microsoft/CodeBERT"
      ],
      "metadata": {
        "id": "GX4YLN3xUaBM"
      }
    },
    {
      "cell_type": "code",
      "source": [
        "!pip install transformers"
      ],
      "metadata": {
        "colab": {
          "base_uri": "https://localhost:8080/"
        },
        "id": "PqM3tJDYUkB6",
        "outputId": "7286be5a-cd23-4cc7-e031-60a75ba237e0"
      },
      "execution_count": 46,
      "outputs": [
        {
          "output_type": "stream",
          "name": "stdout",
          "text": [
            "Looking in indexes: https://pypi.org/simple, https://us-python.pkg.dev/colab-wheels/public/simple/\n",
            "Collecting transformers\n",
            "  Downloading transformers-4.20.1-py3-none-any.whl (4.4 MB)\n",
            "\u001b[K     |████████████████████████████████| 4.4 MB 14.2 MB/s \n",
            "\u001b[?25hRequirement already satisfied: packaging>=20.0 in /usr/local/lib/python3.7/dist-packages (from transformers) (21.3)\n",
            "Requirement already satisfied: numpy>=1.17 in /usr/local/lib/python3.7/dist-packages (from transformers) (1.21.6)\n",
            "Requirement already satisfied: importlib-metadata in /usr/local/lib/python3.7/dist-packages (from transformers) (4.11.4)\n",
            "Requirement already satisfied: tqdm>=4.27 in /usr/local/lib/python3.7/dist-packages (from transformers) (4.64.0)\n",
            "Collecting huggingface-hub<1.0,>=0.1.0\n",
            "  Downloading huggingface_hub-0.8.1-py3-none-any.whl (101 kB)\n",
            "\u001b[K     |████████████████████████████████| 101 kB 13.7 MB/s \n",
            "\u001b[?25hRequirement already satisfied: filelock in /usr/local/lib/python3.7/dist-packages (from transformers) (3.7.1)\n",
            "Requirement already satisfied: requests in /usr/local/lib/python3.7/dist-packages (from transformers) (2.23.0)\n",
            "Requirement already satisfied: regex!=2019.12.17 in /usr/local/lib/python3.7/dist-packages (from transformers) (2022.6.2)\n",
            "Requirement already satisfied: pyyaml>=5.1 in /usr/local/lib/python3.7/dist-packages (from transformers) (6.0)\n",
            "Collecting tokenizers!=0.11.3,<0.13,>=0.11.1\n",
            "  Downloading tokenizers-0.12.1-cp37-cp37m-manylinux_2_12_x86_64.manylinux2010_x86_64.whl (6.6 MB)\n",
            "\u001b[K     |████████████████████████████████| 6.6 MB 58.7 MB/s \n",
            "\u001b[?25hRequirement already satisfied: typing-extensions>=3.7.4.3 in /usr/local/lib/python3.7/dist-packages (from huggingface-hub<1.0,>=0.1.0->transformers) (4.1.1)\n",
            "Requirement already satisfied: pyparsing!=3.0.5,>=2.0.2 in /usr/local/lib/python3.7/dist-packages (from packaging>=20.0->transformers) (3.0.9)\n",
            "Requirement already satisfied: zipp>=0.5 in /usr/local/lib/python3.7/dist-packages (from importlib-metadata->transformers) (3.8.0)\n",
            "Requirement already satisfied: chardet<4,>=3.0.2 in /usr/local/lib/python3.7/dist-packages (from requests->transformers) (3.0.4)\n",
            "Requirement already satisfied: urllib3!=1.25.0,!=1.25.1,<1.26,>=1.21.1 in /usr/local/lib/python3.7/dist-packages (from requests->transformers) (1.24.3)\n",
            "Requirement already satisfied: idna<3,>=2.5 in /usr/local/lib/python3.7/dist-packages (from requests->transformers) (2.10)\n",
            "Requirement already satisfied: certifi>=2017.4.17 in /usr/local/lib/python3.7/dist-packages (from requests->transformers) (2022.6.15)\n",
            "Installing collected packages: tokenizers, huggingface-hub, transformers\n",
            "Successfully installed huggingface-hub-0.8.1 tokenizers-0.12.1 transformers-4.20.1\n"
          ]
        }
      ]
    },
    {
      "cell_type": "code",
      "source": [
        "# Probing\n",
        "from transformers import RobertaConfig, RobertaTokenizer, RobertaForMaskedLM, pipeline\n",
        "\n",
        "model = RobertaForMaskedLM.from_pretrained(\"microsoft/codebert-base-mlm\")\n",
        "tokenizer = RobertaTokenizer.from_pretrained(\"microsoft/codebert-base-mlm\")"
      ],
      "metadata": {
        "colab": {
          "base_uri": "https://localhost:8080/",
          "height": 209,
          "referenced_widgets": [
            "e3fd2c89ba9f4d61a4744028d476a51f",
            "a3ae91610b074a8ba799b351102d7158",
            "5f595cbe63e54e70815d091e641a3a74",
            "fc143c60c1f74ac4b374d49079141489",
            "aa25eb346e894f1d93260cb501017042",
            "b9877a3582e5459491efa9f34018b7ea",
            "544674451a0e40fe91afbc8ba6bd820b",
            "372d71ebeaf7470f9f21a243823878ee",
            "03500e8ad3e34d4a97efd1d580e5e329",
            "f6fbd01c0393495080e7052a8f6d0d6d",
            "34ac6cdf2eb64935a2dbdb3477ab687a",
            "0bbbc70bed3944e5ab28d6b954cf05c5",
            "39d4518004da405db75b835fd9ecf2de",
            "067da125dc454500af99c859036de9e4",
            "d181050d6aaf45489d00e64da193ae06",
            "47c06ad09b874f2991e3adc179c7dddd",
            "0ec972d4ce7e40ba8539c1680a9dd736",
            "c89c4b30dea044f884baeb2e0dfc0fd3",
            "6114b8a9a70f4f1d816f0d7fb6279cba",
            "dc18a234f5d54f7cb1102b38f35f7af3",
            "ddd61e43691344a8b007e44f14b2a602",
            "da6472f4f7574b5e818c293e16e7cf85",
            "ff67b2437437415a9b7ca1bf0d46fd45",
            "b17b8482d6324c53a32e918a342a050a",
            "5f631a7f3f57444098e982eebd09f2a7",
            "ba6b4b4365824390bb27b59670c28afb",
            "1f8e8adfea5f416f8e9db8d38e0abe82",
            "22180e4d52fd419492ce081417153766",
            "3c9a80d567fa48619296681083a1e679",
            "39960a9c5eea4b1b8aea96df71488019",
            "7ba5eda7c88c48b7b48441d1c3454b46",
            "5572bac8c1eb45f9902937ba8b4a38a5",
            "6af2c21c7471410ca55481b80b185a9a",
            "07880407c3074e839c42c8ab12c5b7e5",
            "7acc80a2d99d4f53b893ccedcbee3c86",
            "e8ea3e119628411bbb0475fe0adaffd8",
            "8c9f93ef04b140f1ae5adf6b502e01bc",
            "9e51da72a8b44b438c43884272849a97",
            "3c980265bd814c95946b5888a8394f0f",
            "f1edb3669b074f2a82413f5ec8a86bdc",
            "d2289d6a62ec4ebeb350c4c0c630b4f7",
            "7bb311316ee14acc9dfa6b9adaea4fc5",
            "383fd9e42ee6456b8d6a2b8c4add7c37",
            "d3ac846f5ab64c04aa7442803ae1f438",
            "a95f2077d69243359b6e2c8783907ff6",
            "dda32d28e9ac46edb09e4618f7f059c7",
            "107405bdd2ee40cea0bce5d71bc0ecf2",
            "0596528656ce4a15a5981c63377f0404",
            "020cee85d26e495b98aae98bf3574536",
            "8a08389deb274d47837df60221392265",
            "340ae8631a214396aee83e873ee5de97",
            "bd648e8da241486e95142613648f6e2a",
            "2e4d8694881a4e69a1e1400ef55d02ec",
            "bc381806b7be44de862dfa317f44b299",
            "1bca98b744874531ad64079a0920a3a4",
            "e0359cdd16b5459dac52ab60db8345c8",
            "654d74dcf79241e3a22b62e90477670c",
            "6776cec65d274b23be9c0340f796797d",
            "e32b07c2bdf54382b55af2012bb5c11c",
            "7e881a518c864c73a1f3502aac949510",
            "88ed793c481c40aa85040ffca969be5a",
            "9cb6baddf5774b93990b3af89019a9e9",
            "e8c52ca43d094c39af867f7af5d468ae",
            "55ab865143c74a5c8de55bb16f2c01c3",
            "765fc60a698d469288a4bb99f3e8a315",
            "60e3ec83c94442efb2c0f04cef982fe5"
          ]
        },
        "id": "Ev8HoyP6Uv1b",
        "outputId": "4c5aeb9c-664d-4f75-b2e2-8435b27e300f"
      },
      "execution_count": null,
      "outputs": [
        {
          "output_type": "display_data",
          "data": {
            "text/plain": [
              "Downloading:   0%|          | 0.00/504 [00:00<?, ?B/s]"
            ],
            "application/vnd.jupyter.widget-view+json": {
              "version_major": 2,
              "version_minor": 0,
              "model_id": "e3fd2c89ba9f4d61a4744028d476a51f"
            }
          },
          "metadata": {}
        },
        {
          "output_type": "display_data",
          "data": {
            "text/plain": [
              "Downloading:   0%|          | 0.00/478M [00:00<?, ?B/s]"
            ],
            "application/vnd.jupyter.widget-view+json": {
              "version_major": 2,
              "version_minor": 0,
              "model_id": "0bbbc70bed3944e5ab28d6b954cf05c5"
            }
          },
          "metadata": {}
        },
        {
          "output_type": "display_data",
          "data": {
            "text/plain": [
              "Downloading:   0%|          | 0.00/878k [00:00<?, ?B/s]"
            ],
            "application/vnd.jupyter.widget-view+json": {
              "version_major": 2,
              "version_minor": 0,
              "model_id": "ff67b2437437415a9b7ca1bf0d46fd45"
            }
          },
          "metadata": {}
        },
        {
          "output_type": "display_data",
          "data": {
            "text/plain": [
              "Downloading:   0%|          | 0.00/446k [00:00<?, ?B/s]"
            ],
            "application/vnd.jupyter.widget-view+json": {
              "version_major": 2,
              "version_minor": 0,
              "model_id": "07880407c3074e839c42c8ab12c5b7e5"
            }
          },
          "metadata": {}
        },
        {
          "output_type": "display_data",
          "data": {
            "text/plain": [
              "Downloading:   0%|          | 0.00/150 [00:00<?, ?B/s]"
            ],
            "application/vnd.jupyter.widget-view+json": {
              "version_major": 2,
              "version_minor": 0,
              "model_id": "a95f2077d69243359b6e2c8783907ff6"
            }
          },
          "metadata": {}
        },
        {
          "output_type": "display_data",
          "data": {
            "text/plain": [
              "Downloading:   0%|          | 0.00/25.0 [00:00<?, ?B/s]"
            ],
            "application/vnd.jupyter.widget-view+json": {
              "version_major": 2,
              "version_minor": 0,
              "model_id": "e0359cdd16b5459dac52ab60db8345c8"
            }
          },
          "metadata": {}
        }
      ]
    },
    {
      "cell_type": "code",
      "source": [
        "CODE = \"if (x is not None) <mask> (x>1)\"\n",
        "fill_mask = pipeline('fill-mask', model=model, tokenizer=tokenizer)\n",
        "\n",
        "outputs = fill_mask(CODE)\n",
        "outputs"
      ],
      "metadata": {
        "colab": {
          "base_uri": "https://localhost:8080/"
        },
        "id": "d8zY8ezeU6Mx",
        "outputId": "4e9e3f9f-b703-46f0-f957-5af464ff1660"
      },
      "execution_count": null,
      "outputs": [
        {
          "output_type": "execute_result",
          "data": {
            "text/plain": [
              "[{'score': 0.7236999869346619,\n",
              "  'sequence': 'if (x is not None) and(x>1)',\n",
              "  'token': 8,\n",
              "  'token_str': ' and'},\n",
              " {'score': 0.10633790493011475,\n",
              "  'sequence': 'if (x is not None) &(x>1)',\n",
              "  'token': 359,\n",
              "  'token_str': ' &'},\n",
              " {'score': 0.0216040201485157,\n",
              "  'sequence': 'if (x is not None)and(x>1)',\n",
              "  'token': 463,\n",
              "  'token_str': 'and'},\n",
              " {'score': 0.021227478981018066,\n",
              "  'sequence': 'if (x is not None) AND(x>1)',\n",
              "  'token': 4248,\n",
              "  'token_str': ' AND'},\n",
              " {'score': 0.016991281881928444,\n",
              "  'sequence': 'if (x is not None) if(x>1)',\n",
              "  'token': 114,\n",
              "  'token_str': ' if'}]"
            ]
          },
          "metadata": {},
          "execution_count": 49
        }
      ]
    },
    {
      "cell_type": "markdown",
      "source": [
        "This part of the work is inspired on: https://github.com/EhsanMashhadi/MSR2021-ProgramRepair\n"
      ],
      "metadata": {
        "id": "gt43xMdEWZF6"
      }
    },
    {
      "cell_type": "code",
      "source": [
        "!mkdir codebert"
      ],
      "metadata": {
        "id": "UO2dR6Dl6Tyl"
      },
      "execution_count": 91,
      "outputs": []
    },
    {
      "cell_type": "code",
      "source": [
        "!wget https://raw.githubusercontent.com/EhsanMashhadi/MSR2021-ProgramRepair/main/codebert/run.py\n",
        "!wget https://raw.githubusercontent.com/EhsanMashhadi/MSR2021-ProgramRepair/main/codebert/model.py\n",
        "!wget https://raw.githubusercontent.com/EhsanMashhadi/MSR2021-ProgramRepair/main/codebert/bleu.py\n",
        "!mv bleu.py run.py model.py codebert/"
      ],
      "metadata": {
        "colab": {
          "base_uri": "https://localhost:8080/"
        },
        "id": "yiiCQPC06aEf",
        "outputId": "87e1b5be-e1cb-486b-90bb-2f8a398a0d4c"
      },
      "execution_count": 92,
      "outputs": [
        {
          "output_type": "stream",
          "name": "stdout",
          "text": [
            "--2022-06-29 15:22:04--  https://raw.githubusercontent.com/EhsanMashhadi/MSR2021-ProgramRepair/main/codebert/run.py\n",
            "Resolving raw.githubusercontent.com (raw.githubusercontent.com)... 185.199.108.133, 185.199.111.133, 185.199.110.133, ...\n",
            "Connecting to raw.githubusercontent.com (raw.githubusercontent.com)|185.199.108.133|:443... connected.\n",
            "HTTP request sent, awaiting response... 200 OK\n",
            "Length: 27411 (27K) [text/plain]\n",
            "Saving to: ‘run.py’\n",
            "\n",
            "\rrun.py                0%[                    ]       0  --.-KB/s               \rrun.py              100%[===================>]  26.77K  --.-KB/s    in 0s      \n",
            "\n",
            "2022-06-29 15:22:04 (136 MB/s) - ‘run.py’ saved [27411/27411]\n",
            "\n",
            "--2022-06-29 15:22:04--  https://raw.githubusercontent.com/EhsanMashhadi/MSR2021-ProgramRepair/main/codebert/model.py\n",
            "Resolving raw.githubusercontent.com (raw.githubusercontent.com)... 185.199.108.133, 185.199.111.133, 185.199.110.133, ...\n",
            "Connecting to raw.githubusercontent.com (raw.githubusercontent.com)|185.199.108.133|:443... connected.\n",
            "HTTP request sent, awaiting response... 200 OK\n",
            "Length: 9040 (8.8K) [text/plain]\n",
            "Saving to: ‘model.py’\n",
            "\n",
            "model.py            100%[===================>]   8.83K  --.-KB/s    in 0s      \n",
            "\n",
            "2022-06-29 15:22:04 (98.1 MB/s) - ‘model.py’ saved [9040/9040]\n",
            "\n",
            "--2022-06-29 15:22:04--  https://raw.githubusercontent.com/EhsanMashhadi/MSR2021-ProgramRepair/main/codebert/bleu.py\n",
            "Resolving raw.githubusercontent.com (raw.githubusercontent.com)... 185.199.111.133, 185.199.110.133, 185.199.108.133, ...\n",
            "Connecting to raw.githubusercontent.com (raw.githubusercontent.com)|185.199.111.133|:443... connected.\n",
            "HTTP request sent, awaiting response... 200 OK\n",
            "Length: 5121 (5.0K) [text/plain]\n",
            "Saving to: ‘bleu.py’\n",
            "\n",
            "bleu.py             100%[===================>]   5.00K  --.-KB/s    in 0s      \n",
            "\n",
            "2022-06-29 15:22:04 (61.5 MB/s) - ‘bleu.py’ saved [5121/5121]\n",
            "\n"
          ]
        }
      ]
    },
    {
      "cell_type": "code",
      "source": [
        "!git clone https://huggingface.co/microsoft/codebert-base"
      ],
      "metadata": {
        "colab": {
          "base_uri": "https://localhost:8080/"
        },
        "id": "WB_ehTF0Wcsk",
        "outputId": "28e0dbf1-bca3-4110-a266-4b33ffcec298"
      },
      "execution_count": 93,
      "outputs": [
        {
          "output_type": "stream",
          "name": "stdout",
          "text": [
            "Cloning into 'codebert-base'...\n",
            "remote: Enumerating objects: 40, done.\u001b[K\n",
            "remote: Total 40 (delta 0), reused 0 (delta 0), pack-reused 40\u001b[K\n",
            "Unpacking objects: 100% (40/40), done.\n"
          ]
        }
      ]
    },
    {
      "cell_type": "code",
      "source": [
        "%cd /content/codebert-base\n",
        "!git lfs pull"
      ],
      "metadata": {
        "colab": {
          "base_uri": "https://localhost:8080/"
        },
        "id": "aIhYe4rBHZE9",
        "outputId": "290ea466-0a07-4b25-b0d8-d81ea14793d6"
      },
      "execution_count": 94,
      "outputs": [
        {
          "output_type": "stream",
          "name": "stdout",
          "text": [
            "/content/codebert-base\n",
            "Git LFS: (4 of 4 files) 1.86 GB / 1.86 GB\n"
          ]
        }
      ]
    },
    {
      "cell_type": "code",
      "source": [
        "%cd /content/"
      ],
      "metadata": {
        "colab": {
          "base_uri": "https://localhost:8080/"
        },
        "id": "pmAYZIAyH-dM",
        "outputId": "b50b2521-f9ea-4b94-b793-9df8906013cf"
      },
      "execution_count": 95,
      "outputs": [
        {
          "output_type": "stream",
          "name": "stdout",
          "text": [
            "/content\n"
          ]
        }
      ]
    },
    {
      "cell_type": "markdown",
      "source": [
        "### Training using fine-tuning CodeBERT for Repair\n",
        "\n",
        "In this case we previosly execute the training task with the syntetic dataset created with MBPP."
      ],
      "metadata": {
        "id": "V_AsuJSwBwMF"
      }
    },
    {
      "cell_type": "code",
      "source": [
        "lr = 5e-5\n",
        "batch_size = 8\n",
        "beam_size = 5\n",
        "source_length = 510\n",
        "target_length = 510\n",
        "train_steps = 5 # Original value: 50000\n",
        "eval_steps = 1 # Orginal value: 1000\n",
        "data_dir = './data/round2-BIFI-part1/data_paired'\n",
        "output_dir = './saved_models/codebert'\n",
        "train_file = f\"{data_dir}/train.bad,{data_dir}/train.good\"\n",
        "validate_file = f\"{data_dir}/val.bad,{data_dir}/val.good\"\n",
        "pretrained_model = './codebert-base'  # CodeBert model path downloaded from Huggingface\n",
        "CodeBERT = './codebert'"
      ],
      "metadata": {
        "id": "-kNpxuOSDmA8"
      },
      "execution_count": 102,
      "outputs": []
    },
    {
      "cell_type": "code",
      "source": [
        "cmd = f\"\"\"\n",
        "python {CodeBERT}/run.py \\\n",
        "--do_train \\\n",
        "--do_eval \\\n",
        "--model_type roberta \\\n",
        "--model_name_or_path {pretrained_model} \\\n",
        "--tokenizer_name roberta-base \\\n",
        "--train_filename {train_file} \\\n",
        "--dev_filename {validate_file} \\\n",
        "--output_dir {output_dir} \\\n",
        "--max_source_length {source_length} \\\n",
        "--max_target_length {target_length} \\\n",
        "--beam_size {beam_size} \\\n",
        "--train_batch_size {batch_size} \\\n",
        "--eval_batch_size {batch_size} \\\n",
        "--learning_rate {lr} \\\n",
        "--train_steps {train_steps} \\\n",
        "--eval_steps {eval_steps}\n",
        "\"\"\""
      ],
      "metadata": {
        "id": "wvIhkGsOE2d5"
      },
      "execution_count": 53,
      "outputs": []
    },
    {
      "cell_type": "code",
      "source": [
        "print(cmd)"
      ],
      "metadata": {
        "colab": {
          "base_uri": "https://localhost:8080/"
        },
        "id": "RRFaYrrR-dRe",
        "outputId": "fea87825-bfa8-4fcb-bf79-9ec28a729eac"
      },
      "execution_count": 54,
      "outputs": [
        {
          "output_type": "stream",
          "name": "stdout",
          "text": [
            "\n",
            "python ./codebert/run.py --do_train --do_eval --model_type roberta --model_name_or_path ./codebert-base --tokenizer_name roberta-base --train_filename ./data/round2-BIFI-part1/data_paired/train.bad,./data/round2-BIFI-part1/data_paired/train.good --dev_filename ./data/round2-BIFI-part1/data_paired/val.bad,./data/round2-BIFI-part1/data_paired/val.good --output_dir ./saved_models/codebert/ --max_source_length 510 --max_target_length 510 --beam_size 5 --train_batch_size 8 --eval_batch_size 8 --learning_rate 5e-05 --train_steps 5 --eval_steps 1\n",
            "\n"
          ]
        }
      ]
    },
    {
      "cell_type": "code",
      "source": [
        "!python ./codebert/run.py --do_train --do_eval --model_type roberta --model_name_or_path ./codebert-base --tokenizer_name roberta-base --train_filename ./data/round2-BIFI-part1/data_paired/train.bad,./data/round2-BIFI-part1/data_paired/train.good --dev_filename ./data/round2-BIFI-part1/data_paired/val.bad,./data/round2-BIFI-part1/data_paired/val.good --output_dir ./saved_models/codebert/ --max_source_length 510 --max_target_length 510 --beam_size 5 --train_batch_size 8 --eval_batch_size 8 --learning_rate 5e-05 --train_steps 5 --eval_steps 1"
      ],
      "metadata": {
        "colab": {
          "base_uri": "https://localhost:8080/"
        },
        "id": "GGR5qMxr-_qp",
        "outputId": "f126e5b2-0f91-4ee6-b418-fd03bc524fac"
      },
      "execution_count": null,
      "outputs": [
        {
          "output_type": "stream",
          "name": "stdout",
          "text": [
            "06/27/2022 16:26:21 - INFO - __main__ -   Namespace(adam_epsilon=1e-08, beam_size=5, config_name='', dev_filename='./data/round2-BIFI-part1/data_paired/val.bad,./data/round2-BIFI-part1/data_paired/val.good', do_eval=True, do_lower_case=False, do_test=False, do_train=True, eval_batch_size=8, eval_steps=1, gradient_accumulation_steps=1, learning_rate=5e-05, load_model_path=None, local_rank=-1, max_grad_norm=1.0, max_source_length=510, max_steps=-1, max_target_length=510, model_name_or_path='./codebert-base', model_type='roberta', no_cuda=False, num_train_epochs=3.0, output_dir='./saved_models/codebert/', seed=42, test_filename=None, tokenizer_name='roberta-base', train_batch_size=8, train_filename='./data/round2-BIFI-part1/data_paired/train.bad,./data/round2-BIFI-part1/data_paired/train.good', train_steps=5, warmup_steps=0, weight_decay=0.0)\n",
            "06/27/2022 16:26:21 - WARNING - __main__ -   Process rank: -1, device: cuda, n_gpu: 1, distributed training: False\n",
            "06/27/2022 16:26:30 - INFO - __main__ -   *** Example ***\n",
            "06/27/2022 16:26:30 - INFO - __main__ -   idx: 0\n",
            "06/27/2022 16:26:30 - INFO - __main__ -   source_tokens: ['<s>', 'def', '_', '<unk>', '_(', '_list', '1', '_)', '_:', '_<', 'NEW', 'LINE', '>', '_<', 'IND', 'ENT', '>', '_', '<unk>', '_=', '_max', '_(', '_[', '_abs', '_(', '_x', '_*', '_y', '_)', '_for', '_x', '_,', '_y', '_in', '_list', '1', '_]', '_)', '_<', 'NEW', 'LINE', '>', '_return', '_', '<unk>', '_<', 'NEW', 'LINE', '>', '</s>']\n",
            "06/27/2022 16:26:30 - INFO - __main__ -   source_ids: 0 9232 1437 3 36 889 134 4839 4832 28696 5341 28302 15698 28696 13796 5382 15698 1437 3 5457 19220 36 646 15428 36 3023 1009 1423 4839 13 3023 2156 1423 11 889 134 27779 4839 28696 5341 28302 15698 671 1437 3 28696 5341 28302 15698 2 1 1 1 1 1 1 1 1 1 1 1 1 1 1 1 1 1 1 1 1 1 1 1 1 1 1 1 1 1 1 1 1 1 1 1 1 1 1 1 1 1 1 1 1 1 1 1 1 1 1 1 1 1 1 1 1 1 1 1 1 1 1 1 1 1 1 1 1 1 1 1 1 1 1 1 1 1 1 1 1 1 1 1 1 1 1 1 1 1 1 1 1 1 1 1 1 1 1 1 1 1 1 1 1 1 1 1 1 1 1 1 1 1 1 1 1 1 1 1 1 1 1 1 1 1 1 1 1 1 1 1 1 1 1 1 1 1 1 1 1 1 1 1 1 1 1 1 1 1 1 1 1 1 1 1 1 1 1 1 1 1 1 1 1 1 1 1 1 1 1 1 1 1 1 1 1 1 1 1 1 1 1 1 1 1 1 1 1 1 1 1 1 1 1 1 1 1 1 1 1 1 1 1 1 1 1 1 1 1 1 1 1 1 1 1 1 1 1 1 1 1 1 1 1 1 1 1 1 1 1 1 1 1 1 1 1 1 1 1 1 1 1 1 1 1 1 1 1 1 1 1 1 1 1 1 1 1 1 1 1 1 1 1 1 1 1 1 1 1 1 1 1 1 1 1 1 1 1 1 1 1 1 1 1 1 1 1 1 1 1 1 1 1 1 1 1 1 1 1 1 1 1 1 1 1 1 1 1 1 1 1 1 1 1 1 1 1 1 1 1 1 1 1 1 1 1 1 1 1 1 1 1 1 1 1 1 1 1 1 1 1 1 1 1 1 1 1 1 1 1 1 1 1 1 1 1 1 1 1 1 1 1 1 1 1 1 1 1 1 1 1 1 1 1 1 1 1 1 1 1 1 1 1 1 1 1 1 1 1 1 1 1 1 1 1 1 1 1 1 1 1 1 1 1 1 1 1 1 1 1 1 1 1 1 1 1 1 1 1 1 1 1 1 1 1 1 1 1 1 1 1 1 1 1 1 1 1 1 1 1 1 1 1 1 1 1 1 1 1 1 1 1 1 1 1 1 1 1 1 1\n",
            "06/27/2022 16:26:30 - INFO - __main__ -   source_mask: 1 1 1 1 1 1 1 1 1 1 1 1 1 1 1 1 1 1 1 1 1 1 1 1 1 1 1 1 1 1 1 1 1 1 1 1 1 1 1 1 1 1 1 1 1 1 1 1 1 1 0 0 0 0 0 0 0 0 0 0 0 0 0 0 0 0 0 0 0 0 0 0 0 0 0 0 0 0 0 0 0 0 0 0 0 0 0 0 0 0 0 0 0 0 0 0 0 0 0 0 0 0 0 0 0 0 0 0 0 0 0 0 0 0 0 0 0 0 0 0 0 0 0 0 0 0 0 0 0 0 0 0 0 0 0 0 0 0 0 0 0 0 0 0 0 0 0 0 0 0 0 0 0 0 0 0 0 0 0 0 0 0 0 0 0 0 0 0 0 0 0 0 0 0 0 0 0 0 0 0 0 0 0 0 0 0 0 0 0 0 0 0 0 0 0 0 0 0 0 0 0 0 0 0 0 0 0 0 0 0 0 0 0 0 0 0 0 0 0 0 0 0 0 0 0 0 0 0 0 0 0 0 0 0 0 0 0 0 0 0 0 0 0 0 0 0 0 0 0 0 0 0 0 0 0 0 0 0 0 0 0 0 0 0 0 0 0 0 0 0 0 0 0 0 0 0 0 0 0 0 0 0 0 0 0 0 0 0 0 0 0 0 0 0 0 0 0 0 0 0 0 0 0 0 0 0 0 0 0 0 0 0 0 0 0 0 0 0 0 0 0 0 0 0 0 0 0 0 0 0 0 0 0 0 0 0 0 0 0 0 0 0 0 0 0 0 0 0 0 0 0 0 0 0 0 0 0 0 0 0 0 0 0 0 0 0 0 0 0 0 0 0 0 0 0 0 0 0 0 0 0 0 0 0 0 0 0 0 0 0 0 0 0 0 0 0 0 0 0 0 0 0 0 0 0 0 0 0 0 0 0 0 0 0 0 0 0 0 0 0 0 0 0 0 0 0 0 0 0 0 0 0 0 0 0 0 0 0 0 0 0 0 0 0 0 0 0 0 0 0 0 0 0 0 0 0 0 0 0 0 0 0 0 0 0 0 0 0 0 0 0 0 0 0 0 0 0 0 0 0 0 0 0 0 0 0 0 0 0 0 0 0 0 0 0 0 0 0 0 0 0 0 0 0 0 0 0 0 0 0\n",
            "06/27/2022 16:26:30 - INFO - __main__ -   target_tokens: ['<s>', 'def', '_', '<unk>', '_(', '_list', '1', '_)', '_:', '_<', 'NEW', 'LINE', '>', '_<', 'IND', 'ENT', '>', '_', '<unk>', '_=', '_max', '_(', '_[', '_abs', '_(', '_x', '_*', '_y', '_)', '_for', '_x', '_,', '_y', '_in', '_list', '1', '_]', '_)', '_<', 'NEW', 'LINE', '>', '_return', '_', '<unk>', '_<', 'NEW', 'LINE', '>', '_<', 'D', 'ED', 'ENT', '>', '</s>']\n",
            "06/27/2022 16:26:30 - INFO - __main__ -   target_ids: 0 9232 1437 3 36 889 134 4839 4832 28696 5341 28302 15698 28696 13796 5382 15698 1437 3 5457 19220 36 646 15428 36 3023 1009 1423 4839 13 3023 2156 1423 11 889 134 27779 4839 28696 5341 28302 15698 671 1437 3 28696 5341 28302 15698 28696 495 1691 5382 15698 2 1 1 1 1 1 1 1 1 1 1 1 1 1 1 1 1 1 1 1 1 1 1 1 1 1 1 1 1 1 1 1 1 1 1 1 1 1 1 1 1 1 1 1 1 1 1 1 1 1 1 1 1 1 1 1 1 1 1 1 1 1 1 1 1 1 1 1 1 1 1 1 1 1 1 1 1 1 1 1 1 1 1 1 1 1 1 1 1 1 1 1 1 1 1 1 1 1 1 1 1 1 1 1 1 1 1 1 1 1 1 1 1 1 1 1 1 1 1 1 1 1 1 1 1 1 1 1 1 1 1 1 1 1 1 1 1 1 1 1 1 1 1 1 1 1 1 1 1 1 1 1 1 1 1 1 1 1 1 1 1 1 1 1 1 1 1 1 1 1 1 1 1 1 1 1 1 1 1 1 1 1 1 1 1 1 1 1 1 1 1 1 1 1 1 1 1 1 1 1 1 1 1 1 1 1 1 1 1 1 1 1 1 1 1 1 1 1 1 1 1 1 1 1 1 1 1 1 1 1 1 1 1 1 1 1 1 1 1 1 1 1 1 1 1 1 1 1 1 1 1 1 1 1 1 1 1 1 1 1 1 1 1 1 1 1 1 1 1 1 1 1 1 1 1 1 1 1 1 1 1 1 1 1 1 1 1 1 1 1 1 1 1 1 1 1 1 1 1 1 1 1 1 1 1 1 1 1 1 1 1 1 1 1 1 1 1 1 1 1 1 1 1 1 1 1 1 1 1 1 1 1 1 1 1 1 1 1 1 1 1 1 1 1 1 1 1 1 1 1 1 1 1 1 1 1 1 1 1 1 1 1 1 1 1 1 1 1 1 1 1 1 1 1 1 1 1 1 1 1 1 1 1 1 1 1 1 1 1 1 1 1 1 1 1 1 1 1 1 1 1 1 1 1 1 1 1 1 1 1 1 1 1 1 1 1 1 1 1 1 1 1 1 1 1 1 1 1 1 1 1 1 1 1 1 1 1 1 1 1 1 1 1 1 1 1 1 1 1 1 1 1 1 1 1 1\n",
            "06/27/2022 16:26:30 - INFO - __main__ -   target_mask: 1 1 1 1 1 1 1 1 1 1 1 1 1 1 1 1 1 1 1 1 1 1 1 1 1 1 1 1 1 1 1 1 1 1 1 1 1 1 1 1 1 1 1 1 1 1 1 1 1 1 1 1 1 1 1 0 0 0 0 0 0 0 0 0 0 0 0 0 0 0 0 0 0 0 0 0 0 0 0 0 0 0 0 0 0 0 0 0 0 0 0 0 0 0 0 0 0 0 0 0 0 0 0 0 0 0 0 0 0 0 0 0 0 0 0 0 0 0 0 0 0 0 0 0 0 0 0 0 0 0 0 0 0 0 0 0 0 0 0 0 0 0 0 0 0 0 0 0 0 0 0 0 0 0 0 0 0 0 0 0 0 0 0 0 0 0 0 0 0 0 0 0 0 0 0 0 0 0 0 0 0 0 0 0 0 0 0 0 0 0 0 0 0 0 0 0 0 0 0 0 0 0 0 0 0 0 0 0 0 0 0 0 0 0 0 0 0 0 0 0 0 0 0 0 0 0 0 0 0 0 0 0 0 0 0 0 0 0 0 0 0 0 0 0 0 0 0 0 0 0 0 0 0 0 0 0 0 0 0 0 0 0 0 0 0 0 0 0 0 0 0 0 0 0 0 0 0 0 0 0 0 0 0 0 0 0 0 0 0 0 0 0 0 0 0 0 0 0 0 0 0 0 0 0 0 0 0 0 0 0 0 0 0 0 0 0 0 0 0 0 0 0 0 0 0 0 0 0 0 0 0 0 0 0 0 0 0 0 0 0 0 0 0 0 0 0 0 0 0 0 0 0 0 0 0 0 0 0 0 0 0 0 0 0 0 0 0 0 0 0 0 0 0 0 0 0 0 0 0 0 0 0 0 0 0 0 0 0 0 0 0 0 0 0 0 0 0 0 0 0 0 0 0 0 0 0 0 0 0 0 0 0 0 0 0 0 0 0 0 0 0 0 0 0 0 0 0 0 0 0 0 0 0 0 0 0 0 0 0 0 0 0 0 0 0 0 0 0 0 0 0 0 0 0 0 0 0 0 0 0 0 0 0 0 0 0 0 0 0 0 0 0 0 0 0 0 0 0 0 0 0 0 0 0 0 0 0 0 0 0 0 0 0 0 0 0 0 0 0 0 0 0 0 0 0 0 0 0 0 0\n",
            "/usr/local/lib/python3.7/dist-packages/transformers/optimization.py:310: FutureWarning: This implementation of AdamW is deprecated and will be removed in a future version. Use the PyTorch implementation torch.optim.AdamW instead, or set `no_deprecation_warning=True` to disable this warning\n",
            "  FutureWarning,\n",
            "06/27/2022 16:26:36 - INFO - __main__ -   ***** Running training *****\n",
            "06/27/2022 16:26:36 - INFO - __main__ -     Num examples = 4907\n",
            "06/27/2022 16:26:36 - INFO - __main__ -     Batch size = 8\n",
            "06/27/2022 16:26:36 - INFO - __main__ -     Num epoch = 0\n",
            "06/27/2022 16:26:37 - INFO - __main__ -   Here1\n",
            "06/27/2022 16:26:37 - INFO - __main__ -   Here3\n",
            "06/27/2022 16:26:39 - INFO - __main__ -   \n",
            "***** Running evaluation *****\n",
            "06/27/2022 16:26:39 - INFO - __main__ -     Num examples = 1694\n",
            "06/27/2022 16:26:39 - INFO - __main__ -     Batch size = 8\n",
            "06/27/2022 16:27:36 - INFO - __main__ -     eval_ppl = 2032.75766\n",
            "06/27/2022 16:27:36 - INFO - __main__ -     global_step = 2\n",
            "06/27/2022 16:27:36 - INFO - __main__ -     train_loss = 12.0547\n",
            "06/27/2022 16:27:36 - INFO - __main__ -     ********************\n",
            "06/27/2022 16:27:39 - INFO - __main__ -     Best ppl:2032.75766\n",
            "06/27/2022 16:27:39 - INFO - __main__ -     ********************\n",
            "06/27/2022 16:27:42 - INFO - __main__ -   Here5\n",
            "06/27/2022 16:27:43 - INFO - __main__ -   Here5.5\n",
            "/content/codebert/model.py:167: UserWarning: __floordiv__ is deprecated, and its behavior will change in a future version of pytorch. It currently rounds toward 0 (like the 'trunc' function NOT 'floor'). This results in incorrect rounding for negative values. To keep the current behavior, use torch.div(a, b, rounding_mode='trunc'), or for actual floor division, use torch.div(a, b, rounding_mode='floor').\n",
            "  prevK = bestScoresId // numWords\n",
            "Traceback (most recent call last):\n",
            "  File \"./codebert/run.py\", line 556, in <module>\n",
            "    main()\n",
            "  File \"./codebert/run.py\", line 467, in main\n",
            "    preds = model(source_ids=source_ids, source_mask=source_mask)\n",
            "  File \"/usr/local/lib/python3.7/dist-packages/torch/nn/modules/module.py\", line 1110, in _call_impl\n",
            "    return forward_call(*input, **kwargs)\n",
            "  File \"/content/codebert/model.py\", line 96, in forward\n",
            "    beam.advance(out)\n",
            "  File \"/content/codebert/model.py\", line 156, in advance\n",
            "    if self.nextYs[-1][i] == self._eos:\n",
            "KeyboardInterrupt\n"
          ]
        }
      ]
    },
    {
      "cell_type": "code",
      "source": [
        "import subprocess\n",
        "import sys\n",
        "#subprocess.run(cmd, shell=True,  capture_output=True)"
      ],
      "metadata": {
        "id": "Uz1cHnpe9ktq"
      },
      "execution_count": 55,
      "outputs": []
    },
    {
      "cell_type": "code",
      "source": [
        "# we want to download the trained model using the MBPP + BIFI Breaker\n",
        "url = \"https://drive.google.com/uc?id=1xyR5FzwjEjNfnjwFUnRdhoMFy903N8Wa\"\n",
        "output = \"save_models_exp.zip\"\n",
        "gdown.download(url, output, quiet=False)"
      ],
      "metadata": {
        "colab": {
          "base_uri": "https://localhost:8080/",
          "height": 104
        },
        "id": "3GwN_IkOHFfQ",
        "outputId": "46dfc054-8c92-4597-d8c3-e955f7aa3f50"
      },
      "execution_count": 47,
      "outputs": [
        {
          "output_type": "stream",
          "name": "stderr",
          "text": [
            "Downloading...\n",
            "From: https://drive.google.com/uc?id=1xyR5FzwjEjNfnjwFUnRdhoMFy903N8Wa\n",
            "To: /content/save_models_exp.zip\n",
            "100%|██████████| 1.92G/1.92G [00:25<00:00, 74.1MB/s]\n"
          ]
        },
        {
          "output_type": "execute_result",
          "data": {
            "text/plain": [
              "'save_models_exp.zip'"
            ],
            "application/vnd.google.colaboratory.intrinsic+json": {
              "type": "string"
            }
          },
          "metadata": {},
          "execution_count": 47
        }
      ]
    },
    {
      "cell_type": "code",
      "source": [
        "!unzip save_models_exp.zip"
      ],
      "metadata": {
        "colab": {
          "base_uri": "https://localhost:8080/"
        },
        "id": "j3gKRFlBIJVG",
        "outputId": "9f4396b3-5b7c-41a9-f671-389c2ab53c98"
      },
      "execution_count": 48,
      "outputs": [
        {
          "output_type": "stream",
          "name": "stdout",
          "text": [
            "Archive:  save_models_exp.zip\n",
            "   creating: saved_models_exp/codebert/\n",
            "   creating: saved_models_exp/codebert/checkpoint-best-bleu/\n",
            "  inflating: saved_models_exp/codebert/checkpoint-best-bleu/pytorch_model.bin  \n",
            "   creating: saved_models_exp/codebert/checkpoint-best-ppl/\n",
            "  inflating: saved_models_exp/codebert/checkpoint-best-ppl/pytorch_model.bin  \n",
            "   creating: saved_models_exp/codebert/checkpoint-last/\n",
            "  inflating: saved_models_exp/codebert/checkpoint-last/pytorch_model.bin  \n",
            "  inflating: saved_models_exp/codebert/dev.gold  \n",
            "  inflating: saved_models_exp/codebert/dev.output  \n"
          ]
        }
      ]
    },
    {
      "cell_type": "markdown",
      "source": [
        "### Evaluate CodeBERT for Repair with the Syntethic MBPP Dataset"
      ],
      "metadata": {
        "id": "r6Ga0cvnC159"
      }
    },
    {
      "cell_type": "code",
      "source": [
        "output_dir = './saved_models_exp/codebert' #we use the downloaded values\n",
        "validate_file = f\"{data_dir}/val.bad,{data_dir}/val.good\"\n",
        "test_file = f\"{data_dir}/test.bad,{data_dir}/test.good\"\n",
        "test_model= f\"{output_dir}/checkpoint-best-ppl/pytorch_model.bin\"\n",
        "\n",
        "\n",
        "cmd = f\"\"\"\n",
        "python {CodeBERT}/run.py \\\n",
        "--do_test \\\n",
        "--model_type roberta \\\n",
        "--model_name_or_path {pretrained_model} \\\n",
        "--tokenizer_name roberta-base \\\n",
        "--load_model_path {test_model} \\\n",
        "--dev_filename {validate_file} \\\n",
        "--test_filename {test_file} \\\n",
        "--output_dir {output_dir} \\\n",
        "--max_source_length {source_length} \\\n",
        "--max_target_length {target_length} \\\n",
        "--beam_size {beam_size} \\\n",
        "--eval_batch_size {batch_size} \\\n",
        "\"\"\""
      ],
      "metadata": {
        "id": "McKnzoyTIq0n"
      },
      "execution_count": 105,
      "outputs": []
    },
    {
      "cell_type": "code",
      "source": [
        "print(cmd)"
      ],
      "metadata": {
        "colab": {
          "base_uri": "https://localhost:8080/"
        },
        "id": "TNpDtZuGMsFQ",
        "outputId": "50880d46-ccce-4564-aab1-54f1f0eaf7f2"
      },
      "execution_count": 106,
      "outputs": [
        {
          "output_type": "stream",
          "name": "stdout",
          "text": [
            "\n",
            "python ./codebert/run.py --do_test --model_type roberta --model_name_or_path ./codebert-base --tokenizer_name roberta-base --load_model_path ./saved_models_exp/codebert/checkpoint-best-ppl/pytorch_model.bin --dev_filename ./data/round2-BIFI-part1/data_paired/val.bad,./data/round2-BIFI-part1/data_paired/val.good --test_filename ./data/round2-BIFI-part1/data_paired/test.bad,./data/round2-BIFI-part1/data_paired/test.good --output_dir ./saved_models_exp/codebert --max_source_length 510 --max_target_length 510 --beam_size 5 --eval_batch_size 8 \n"
          ]
        }
      ]
    },
    {
      "cell_type": "code",
      "source": [
        "!python ./codebert/run.py --do_test --model_type roberta --model_name_or_path ./codebert-base --tokenizer_name roberta-base --load_model_path ./saved_models_exp/codebert/checkpoint-best-ppl/pytorch_model.bin --dev_filename ./data/round2-BIFI-part1/data_paired/val.bad,./data/round2-BIFI-part1/data_paired/val.good --test_filename ./data/round2-BIFI-part1/data_paired/test.bad,./data/round2-BIFI-part1/data_paired/test.good --output_dir ./saved_models_exp/codebert --max_source_length 510 --max_target_length 510 --beam_size 5 --eval_batch_size 8"
      ],
      "metadata": {
        "colab": {
          "base_uri": "https://localhost:8080/"
        },
        "id": "fFGRkezOMuaL",
        "outputId": "236106d2-1b27-40b9-bec2-5f5ee0033c3e"
      },
      "execution_count": 107,
      "outputs": [
        {
          "output_type": "stream",
          "name": "stdout",
          "text": [
            "06/29/2022 15:30:17 - INFO - __main__ -   Namespace(adam_epsilon=1e-08, beam_size=5, config_name='', dev_filename='./data/round2-BIFI-part1/data_paired/val.bad,./data/round2-BIFI-part1/data_paired/val.good', do_eval=False, do_lower_case=False, do_test=True, do_train=False, eval_batch_size=8, eval_steps=-1, gradient_accumulation_steps=1, learning_rate=5e-05, load_model_path='./saved_models_exp/codebert/checkpoint-best-ppl/pytorch_model.bin', local_rank=-1, max_grad_norm=1.0, max_source_length=510, max_steps=-1, max_target_length=510, model_name_or_path='./codebert-base', model_type='roberta', no_cuda=False, num_train_epochs=3.0, output_dir='./saved_models_exp/codebert', seed=42, test_filename='./data/round2-BIFI-part1/data_paired/test.bad,./data/round2-BIFI-part1/data_paired/test.good', tokenizer_name='roberta-base', train_batch_size=8, train_filename=None, train_steps=-1, warmup_steps=0, weight_decay=0.0)\n",
            "06/29/2022 15:30:17 - WARNING - __main__ -   Process rank: -1, device: cuda, n_gpu: 1, distributed training: False\n",
            "06/29/2022 15:30:21 - INFO - __main__ -   reload model from ./saved_models_exp/codebert/checkpoint-best-ppl/pytorch_model.bin\n",
            "06/29/2022 15:30:27 - INFO - __main__ -   Running Test\n",
            "06/29/2022 15:30:27 - INFO - __main__ -   Test file: ./data/round2-BIFI-part1/data_paired/val.bad,./data/round2-BIFI-part1/data_paired/val.good\n",
            "  0% 0/212 [00:00<?, ?it/s]/content/codebert/model.py:167: UserWarning: __floordiv__ is deprecated, and its behavior will change in a future version of pytorch. It currently rounds toward 0 (like the 'trunc' function NOT 'floor'). This results in incorrect rounding for negative values. To keep the current behavior, use torch.div(a, b, rounding_mode='trunc'), or for actual floor division, use torch.div(a, b, rounding_mode='floor').\n",
            "  prevK = bestScoresId // numWords\n",
            "100% 212/212 [1:06:28<00:00, 18.81s/it]\n",
            "06/29/2022 16:36:57 - INFO - __main__ -     bleu-4 = 73.9 \n",
            "06/29/2022 16:36:57 - INFO - __main__ -     xMatch = 23.6718 \n",
            "06/29/2022 16:36:57 - INFO - __main__ -     ********************\n",
            "06/29/2022 16:36:57 - INFO - __main__ -   Test file: ./data/round2-BIFI-part1/data_paired/test.bad,./data/round2-BIFI-part1/data_paired/test.good\n",
            "100% 206/206 [1:01:22<00:00, 17.88s/it]\n",
            "06/29/2022 17:38:22 - INFO - __main__ -     bleu-4 = 77.66 \n",
            "06/29/2022 17:38:22 - INFO - __main__ -     xMatch = 24.8629 \n",
            "06/29/2022 17:38:22 - INFO - __main__ -     ********************\n"
          ]
        }
      ]
    },
    {
      "cell_type": "markdown",
      "source": [
        "### Base Line using Seq2Seq LSTM Model"
      ],
      "metadata": {
        "id": "Bofor4OHCrJ0"
      }
    },
    {
      "cell_type": "code",
      "source": [
        "!pip install OpenNMT-py==2.2.0"
      ],
      "metadata": {
        "colab": {
          "base_uri": "https://localhost:8080/"
        },
        "id": "Z_dQ1muIEhZF",
        "outputId": "2d3e6f67-204b-48f6-a071-7a1a1b7c4817"
      },
      "execution_count": 58,
      "outputs": [
        {
          "output_type": "stream",
          "name": "stdout",
          "text": [
            "Looking in indexes: https://pypi.org/simple, https://us-python.pkg.dev/colab-wheels/public/simple/\n",
            "Collecting OpenNMT-py==2.2.0\n",
            "  Downloading OpenNMT_py-2.2.0-py3-none-any.whl (216 kB)\n",
            "\u001b[K     |████████████████████████████████| 216 kB 14.4 MB/s \n",
            "\u001b[?25hRequirement already satisfied: pyyaml in /usr/local/lib/python3.7/dist-packages (from OpenNMT-py==2.2.0) (6.0)\n",
            "Collecting torchtext==0.5.0\n",
            "  Downloading torchtext-0.5.0-py3-none-any.whl (73 kB)\n",
            "\u001b[K     |████████████████████████████████| 73 kB 2.3 MB/s \n",
            "\u001b[?25hCollecting waitress\n",
            "  Downloading waitress-2.1.2-py3-none-any.whl (57 kB)\n",
            "\u001b[K     |████████████████████████████████| 57 kB 7.2 MB/s \n",
            "\u001b[?25hRequirement already satisfied: tensorboard>=2.3 in /usr/local/lib/python3.7/dist-packages (from OpenNMT-py==2.2.0) (2.8.0)\n",
            "Requirement already satisfied: torch>=1.6.0 in /usr/local/lib/python3.7/dist-packages (from OpenNMT-py==2.2.0) (1.11.0+cu113)\n",
            "Requirement already satisfied: flask in /usr/local/lib/python3.7/dist-packages (from OpenNMT-py==2.2.0) (1.1.4)\n",
            "Collecting pyonmttok<2,>=1.23\n",
            "  Downloading pyonmttok-1.31.0-cp37-cp37m-manylinux_2_12_x86_64.manylinux2010_x86_64.whl (16.6 MB)\n",
            "\u001b[K     |████████████████████████████████| 16.6 MB 32.9 MB/s \n",
            "\u001b[?25hCollecting configargparse\n",
            "  Downloading ConfigArgParse-1.5.3-py3-none-any.whl (20 kB)\n",
            "Requirement already satisfied: six in /usr/local/lib/python3.7/dist-packages (from torchtext==0.5.0->OpenNMT-py==2.2.0) (1.15.0)\n",
            "Collecting sentencepiece\n",
            "  Downloading sentencepiece-0.1.96-cp37-cp37m-manylinux_2_17_x86_64.manylinux2014_x86_64.whl (1.2 MB)\n",
            "\u001b[K     |████████████████████████████████| 1.2 MB 64.2 MB/s \n",
            "\u001b[?25hRequirement already satisfied: tqdm in /usr/local/lib/python3.7/dist-packages (from torchtext==0.5.0->OpenNMT-py==2.2.0) (4.64.0)\n",
            "Requirement already satisfied: numpy in /usr/local/lib/python3.7/dist-packages (from torchtext==0.5.0->OpenNMT-py==2.2.0) (1.21.6)\n",
            "Requirement already satisfied: requests in /usr/local/lib/python3.7/dist-packages (from torchtext==0.5.0->OpenNMT-py==2.2.0) (2.23.0)\n",
            "Requirement already satisfied: protobuf>=3.6.0 in /usr/local/lib/python3.7/dist-packages (from tensorboard>=2.3->OpenNMT-py==2.2.0) (3.17.3)\n",
            "Requirement already satisfied: wheel>=0.26 in /usr/local/lib/python3.7/dist-packages (from tensorboard>=2.3->OpenNMT-py==2.2.0) (0.37.1)\n",
            "Requirement already satisfied: tensorboard-plugin-wit>=1.6.0 in /usr/local/lib/python3.7/dist-packages (from tensorboard>=2.3->OpenNMT-py==2.2.0) (1.8.1)\n",
            "Requirement already satisfied: tensorboard-data-server<0.7.0,>=0.6.0 in /usr/local/lib/python3.7/dist-packages (from tensorboard>=2.3->OpenNMT-py==2.2.0) (0.6.1)\n",
            "Requirement already satisfied: google-auth-oauthlib<0.5,>=0.4.1 in /usr/local/lib/python3.7/dist-packages (from tensorboard>=2.3->OpenNMT-py==2.2.0) (0.4.6)\n",
            "Requirement already satisfied: absl-py>=0.4 in /usr/local/lib/python3.7/dist-packages (from tensorboard>=2.3->OpenNMT-py==2.2.0) (1.1.0)\n",
            "Requirement already satisfied: grpcio>=1.24.3 in /usr/local/lib/python3.7/dist-packages (from tensorboard>=2.3->OpenNMT-py==2.2.0) (1.46.3)\n",
            "Requirement already satisfied: werkzeug>=0.11.15 in /usr/local/lib/python3.7/dist-packages (from tensorboard>=2.3->OpenNMT-py==2.2.0) (1.0.1)\n",
            "Requirement already satisfied: markdown>=2.6.8 in /usr/local/lib/python3.7/dist-packages (from tensorboard>=2.3->OpenNMT-py==2.2.0) (3.3.7)\n",
            "Requirement already satisfied: setuptools>=41.0.0 in /usr/local/lib/python3.7/dist-packages (from tensorboard>=2.3->OpenNMT-py==2.2.0) (57.4.0)\n",
            "Requirement already satisfied: google-auth<3,>=1.6.3 in /usr/local/lib/python3.7/dist-packages (from tensorboard>=2.3->OpenNMT-py==2.2.0) (1.35.0)\n",
            "Requirement already satisfied: cachetools<5.0,>=2.0.0 in /usr/local/lib/python3.7/dist-packages (from google-auth<3,>=1.6.3->tensorboard>=2.3->OpenNMT-py==2.2.0) (4.2.4)\n",
            "Requirement already satisfied: pyasn1-modules>=0.2.1 in /usr/local/lib/python3.7/dist-packages (from google-auth<3,>=1.6.3->tensorboard>=2.3->OpenNMT-py==2.2.0) (0.2.8)\n",
            "Requirement already satisfied: rsa<5,>=3.1.4 in /usr/local/lib/python3.7/dist-packages (from google-auth<3,>=1.6.3->tensorboard>=2.3->OpenNMT-py==2.2.0) (4.8)\n",
            "Requirement already satisfied: requests-oauthlib>=0.7.0 in /usr/local/lib/python3.7/dist-packages (from google-auth-oauthlib<0.5,>=0.4.1->tensorboard>=2.3->OpenNMT-py==2.2.0) (1.3.1)\n",
            "Requirement already satisfied: importlib-metadata>=4.4 in /usr/local/lib/python3.7/dist-packages (from markdown>=2.6.8->tensorboard>=2.3->OpenNMT-py==2.2.0) (4.11.4)\n",
            "Requirement already satisfied: typing-extensions>=3.6.4 in /usr/local/lib/python3.7/dist-packages (from importlib-metadata>=4.4->markdown>=2.6.8->tensorboard>=2.3->OpenNMT-py==2.2.0) (4.1.1)\n",
            "Requirement already satisfied: zipp>=0.5 in /usr/local/lib/python3.7/dist-packages (from importlib-metadata>=4.4->markdown>=2.6.8->tensorboard>=2.3->OpenNMT-py==2.2.0) (3.8.0)\n",
            "Requirement already satisfied: pyasn1<0.5.0,>=0.4.6 in /usr/local/lib/python3.7/dist-packages (from pyasn1-modules>=0.2.1->google-auth<3,>=1.6.3->tensorboard>=2.3->OpenNMT-py==2.2.0) (0.4.8)\n",
            "Requirement already satisfied: certifi>=2017.4.17 in /usr/local/lib/python3.7/dist-packages (from requests->torchtext==0.5.0->OpenNMT-py==2.2.0) (2022.6.15)\n",
            "Requirement already satisfied: chardet<4,>=3.0.2 in /usr/local/lib/python3.7/dist-packages (from requests->torchtext==0.5.0->OpenNMT-py==2.2.0) (3.0.4)\n",
            "Requirement already satisfied: urllib3!=1.25.0,!=1.25.1,<1.26,>=1.21.1 in /usr/local/lib/python3.7/dist-packages (from requests->torchtext==0.5.0->OpenNMT-py==2.2.0) (1.24.3)\n",
            "Requirement already satisfied: idna<3,>=2.5 in /usr/local/lib/python3.7/dist-packages (from requests->torchtext==0.5.0->OpenNMT-py==2.2.0) (2.10)\n",
            "Requirement already satisfied: oauthlib>=3.0.0 in /usr/local/lib/python3.7/dist-packages (from requests-oauthlib>=0.7.0->google-auth-oauthlib<0.5,>=0.4.1->tensorboard>=2.3->OpenNMT-py==2.2.0) (3.2.0)\n",
            "Requirement already satisfied: itsdangerous<2.0,>=0.24 in /usr/local/lib/python3.7/dist-packages (from flask->OpenNMT-py==2.2.0) (1.1.0)\n",
            "Requirement already satisfied: click<8.0,>=5.1 in /usr/local/lib/python3.7/dist-packages (from flask->OpenNMT-py==2.2.0) (7.1.2)\n",
            "Requirement already satisfied: Jinja2<3.0,>=2.10.1 in /usr/local/lib/python3.7/dist-packages (from flask->OpenNMT-py==2.2.0) (2.11.3)\n",
            "Requirement already satisfied: MarkupSafe>=0.23 in /usr/local/lib/python3.7/dist-packages (from Jinja2<3.0,>=2.10.1->flask->OpenNMT-py==2.2.0) (2.0.1)\n",
            "Installing collected packages: sentencepiece, waitress, torchtext, pyonmttok, configargparse, OpenNMT-py\n",
            "  Attempting uninstall: torchtext\n",
            "    Found existing installation: torchtext 0.12.0\n",
            "    Uninstalling torchtext-0.12.0:\n",
            "      Successfully uninstalled torchtext-0.12.0\n",
            "Successfully installed OpenNMT-py-2.2.0 configargparse-1.5.3 pyonmttok-1.31.0 sentencepiece-0.1.96 torchtext-0.5.0 waitress-2.1.2\n"
          ]
        }
      ]
    },
    {
      "cell_type": "code",
      "source": [
        "# Create the configuration\n",
        "data_config = 'data_paired.yaml'\n",
        "output_dir = './saved_models/simple-lstm'\n",
        "#os.makedirs(output_dir)\n",
        "\n",
        "config = \"\"\"\n",
        "data:\n",
        "    corpus:\n",
        "        path_src: data/round2-BIFI-part1/data_paired/train.bad\n",
        "        path_tgt: data/round2-BIFI-part1/data_paired/train.good\n",
        "    valid:\n",
        "        path_src: data/round2-BIFI-part1/data_paired/val.bad\n",
        "        path_tgt: data/round2-BIFI-part1/data_paired/val.good\n",
        "\"\"\"\n",
        "with open(data_config, 'w') as f:\n",
        "    f.write(config)"
      ],
      "metadata": {
        "id": "L_XYYOm2E-bW"
      },
      "execution_count": 59,
      "outputs": []
    },
    {
      "cell_type": "code",
      "source": [
        "!cat data_paired.yaml"
      ],
      "metadata": {
        "colab": {
          "base_uri": "https://localhost:8080/"
        },
        "id": "jVINONggHCTQ",
        "outputId": "fd424716-e3e4-4cd9-e6b7-3f1a66d990e1"
      },
      "execution_count": 60,
      "outputs": [
        {
          "output_type": "stream",
          "name": "stdout",
          "text": [
            "\n",
            "data:\n",
            "    corpus:\n",
            "        path_src: data/round2-BIFI-part1/data_paired/train.bad\n",
            "        path_tgt: data/round2-BIFI-part1/data_paired/train.good\n",
            "    valid:\n",
            "        path_src: data/round2-BIFI-part1/data_paired/val.bad\n",
            "        path_tgt: data/round2-BIFI-part1/data_paired/val.good\n"
          ]
        }
      ]
    },
    {
      "cell_type": "code",
      "source": [
        "# based on ./scripts/simple-lstm/build_vocab.sh\n",
        "cmd = f\"onmt_build_vocab -config {data_config}  -src_seq_length 510 -tgt_seq_length 510 -src_vocab_size 64000 -tgt_vocab_size 64000 -share_vocab -n_sample -1 -save_data {output_dir}/final -src_vocab {output_dir}/final.vocab\"\n"
      ],
      "metadata": {
        "id": "oIEEpafkHfzw"
      },
      "execution_count": 61,
      "outputs": []
    },
    {
      "cell_type": "code",
      "source": [
        "subprocess.run(shlex.split(cmd), capture_output=True)"
      ],
      "metadata": {
        "colab": {
          "base_uri": "https://localhost:8080/"
        },
        "id": "V4uCTLM-Ibfy",
        "outputId": "49c3fd03-c291-4f03-f9ed-8f59f120f43b"
      },
      "execution_count": 62,
      "outputs": [
        {
          "output_type": "execute_result",
          "data": {
            "text/plain": [
              "CompletedProcess(args=['onmt_build_vocab', '-config', 'data_paired.yaml', '-src_seq_length', '510', '-tgt_seq_length', '510', '-src_vocab_size', '64000', '-tgt_vocab_size', '64000', '-share_vocab', '-n_sample', '-1', '-save_data', './saved_models/simple-lstm/final', '-src_vocab', './saved_models/simple-lstm/final.vocab'], returncode=0, stdout=b'', stderr=b\"Corpus corpus's weight should be given. We default it to 1 for you.\\n[2022-06-29 14:08:20,740 INFO] Counter vocab from -1 samples.\\n[2022-06-29 14:08:20,740 INFO] n_sample=-1: Build vocab on full datasets.\\n[2022-06-29 14:08:20,784 INFO] corpus's transforms: TransformPipe()\\n[2022-06-29 14:08:21,165 INFO] Counters src:426\\n[2022-06-29 14:08:21,165 INFO] Counters tgt:424\\n[2022-06-29 14:08:21,166 INFO] Counters after share:429\\n\")"
            ]
          },
          "metadata": {},
          "execution_count": 62
        }
      ]
    },
    {
      "cell_type": "code",
      "source": [
        "\n",
        "num_of_gpus = torch.cuda.device_count()\n",
        "print(num_of_gpus)\n",
        "devices_torch = torch.cuda.get_device_name()\n",
        "print(devices_torch)\n",
        "[torch.cuda.device(i) for i in range(torch.cuda.device_count())]"
      ],
      "metadata": {
        "colab": {
          "base_uri": "https://localhost:8080/"
        },
        "id": "YQnT09nvIi15",
        "outputId": "92d51137-b0f3-486b-be3d-dad6ec2f167b"
      },
      "execution_count": 63,
      "outputs": [
        {
          "output_type": "stream",
          "name": "stdout",
          "text": [
            "1\n",
            "Tesla T4\n"
          ]
        },
        {
          "output_type": "execute_result",
          "data": {
            "text/plain": [
              "[<torch.cuda.device at 0x7fd0276b12d0>]"
            ]
          },
          "metadata": {},
          "execution_count": 63
        }
      ]
    },
    {
      "cell_type": "code",
      "source": [
        "# based on ./scripts/simple-lstm/train.sh\n",
        "\n",
        "# You may change it based on the GPU number, and also change `world_size` and `gpu_ranks` accordingly.\n",
        "# https://forum.opennmt.net/t/using-gpu-and-early-stopping-in-opennmt-py/2921\n",
        "os.environ[\"CUDA_VISIBLE_DEVICES\"] = \"0\" \n",
        "\n",
        "gpu_ranks = '0'\n",
        "world_size = '1'\n",
        "\n",
        "cmd = f\"\"\"\n",
        "onmt_train -config {data_config} \\\n",
        "-share_vocab \\\n",
        "-src_vocab {output_dir}/final.vocab \\\n",
        "-world_size {world_size} \\\n",
        "-gpu_ranks {gpu_ranks} \\\n",
        "-encoder_type brnn \\\n",
        "-enc_layers 2 \\\n",
        "-decoder_type rnn \\\n",
        "-dec_layers 2 \\\n",
        "-rnn_size 256 \\\n",
        "-global_attention general \\\n",
        "-batch_size 32 \\\n",
        "-word_vec_size 256 \\\n",
        "-bridge \\\n",
        "-copy_attn \\\n",
        "-reuse_copy_attn \\\n",
        "-train_steps 20000 \\\n",
        "-save_checkpoint_steps 5000 \\\n",
        "-valid_steps 1000 \\\n",
        "-save_model {output_dir}/final-model \\\n",
        "--verbose\n",
        "\"\"\""
      ],
      "metadata": {
        "id": "LGU9JmzkIl9k"
      },
      "execution_count": 64,
      "outputs": []
    },
    {
      "cell_type": "code",
      "source": [
        "print(cmd)"
      ],
      "metadata": {
        "colab": {
          "base_uri": "https://localhost:8080/"
        },
        "id": "OWLJJAz5JG6B",
        "outputId": "bb4025a8-ec29-4de0-c51a-abc0c45d1cf9"
      },
      "execution_count": 65,
      "outputs": [
        {
          "output_type": "stream",
          "name": "stdout",
          "text": [
            "\n",
            "onmt_train -config data_paired.yaml -share_vocab -src_vocab ./saved_models/simple-lstm/final.vocab -world_size 1 -gpu_ranks 0 -encoder_type brnn -enc_layers 2 -decoder_type rnn -dec_layers 2 -rnn_size 256 -global_attention general -batch_size 32 -word_vec_size 256 -bridge -copy_attn -reuse_copy_attn -train_steps 20000 -save_checkpoint_steps 5000 -valid_steps 1000 -save_model ./saved_models/simple-lstm/final-model --verbose\n",
            "\n"
          ]
        }
      ]
    },
    {
      "cell_type": "code",
      "source": [
        "!onmt_train -config data_paired.yaml -share_vocab -src_vocab ./saved_models/simple-lstm/final.vocab -world_size 1 -gpu_ranks 0 -encoder_type brnn -enc_layers 2 -decoder_type rnn -dec_layers 2 -rnn_size 256 -global_attention general -batch_size 32 -word_vec_size 256 -bridge -copy_attn -reuse_copy_attn -train_steps 20000 -save_checkpoint_steps 5000 -valid_steps 1000 -save_model ./saved_models/simple-lstm/final-model --verbose\n"
      ],
      "metadata": {
        "colab": {
          "base_uri": "https://localhost:8080/"
        },
        "id": "zrRNeCqfJJdr",
        "outputId": "28cfd6cf-7f33-490d-9cf4-4f719adcdec8"
      },
      "execution_count": 66,
      "outputs": [
        {
          "output_type": "stream",
          "name": "stdout",
          "text": [
            "[2022-06-29 14:09:11,233 INFO] Missing transforms field for corpus data, set to default: [].\n",
            "[2022-06-29 14:09:11,234 WARNING] Corpus corpus's weight should be given. We default it to 1 for you.\n",
            "[2022-06-29 14:09:11,234 INFO] Missing transforms field for valid data, set to default: [].\n",
            "[2022-06-29 14:09:11,234 INFO] Parsed 2 corpora from -data.\n",
            "[2022-06-29 14:09:11,234 INFO] Get special vocabs from Transforms: {'src': set(), 'tgt': set()}.\n",
            "[2022-06-29 14:09:11,234 INFO] Loading vocab from text file...\n",
            "[2022-06-29 14:09:11,234 INFO] Loading src vocabulary from ./saved_models/simple-lstm/final.vocab\n",
            "[2022-06-29 14:09:11,236 INFO] Loaded src vocab has 429 tokens.\n",
            "[2022-06-29 14:09:11,236 INFO] Sharing src vocab to tgt...\n",
            "[2022-06-29 14:09:11,236 INFO] Building fields with vocab in counters...\n",
            "[2022-06-29 14:09:11,237 INFO]  * tgt vocab size: 432.\n",
            "[2022-06-29 14:09:11,237 INFO]  * src vocab size: 430.\n",
            "[2022-06-29 14:09:11,237 INFO]  * merging src and tgt vocab...\n",
            "[2022-06-29 14:09:11,238 INFO]  * merged vocab size: 432.\n",
            "[2022-06-29 14:09:11,239 INFO]  * src vocab size = 432\n",
            "[2022-06-29 14:09:11,239 INFO]  * tgt vocab size = 432\n",
            "[2022-06-29 14:09:11,241 INFO] Building model...\n",
            "[2022-06-29 14:09:15,892 INFO] NMTModel(\n",
            "  (encoder): RNNEncoder(\n",
            "    (embeddings): Embeddings(\n",
            "      (make_embedding): Sequential(\n",
            "        (emb_luts): Elementwise(\n",
            "          (0): Embedding(432, 256, padding_idx=1)\n",
            "        )\n",
            "      )\n",
            "    )\n",
            "    (rnn): LSTM(256, 128, num_layers=2, dropout=0.3, bidirectional=True)\n",
            "    (bridge): ModuleList(\n",
            "      (0): Linear(in_features=256, out_features=256, bias=True)\n",
            "      (1): Linear(in_features=256, out_features=256, bias=True)\n",
            "    )\n",
            "  )\n",
            "  (decoder): InputFeedRNNDecoder(\n",
            "    (embeddings): Embeddings(\n",
            "      (make_embedding): Sequential(\n",
            "        (emb_luts): Elementwise(\n",
            "          (0): Embedding(432, 256, padding_idx=1)\n",
            "        )\n",
            "      )\n",
            "    )\n",
            "    (dropout): Dropout(p=0.3, inplace=False)\n",
            "    (rnn): StackedLSTM(\n",
            "      (dropout): Dropout(p=0.3, inplace=False)\n",
            "      (layers): ModuleList(\n",
            "        (0): LSTMCell(512, 256)\n",
            "        (1): LSTMCell(256, 256)\n",
            "      )\n",
            "    )\n",
            "    (attn): GlobalAttention(\n",
            "      (linear_in): Linear(in_features=256, out_features=256, bias=False)\n",
            "      (linear_out): Linear(in_features=512, out_features=256, bias=False)\n",
            "    )\n",
            "  )\n",
            "  (generator): CopyGenerator(\n",
            "    (linear): Linear(in_features=256, out_features=432, bias=True)\n",
            "    (linear_copy): Linear(in_features=256, out_features=1, bias=True)\n",
            "  )\n",
            ")\n",
            "[2022-06-29 14:09:15,893 INFO] encoder: 1032704\n",
            "[2022-06-29 14:09:15,893 INFO] decoder: 1733297\n",
            "[2022-06-29 14:09:15,893 INFO] * number of parameters: 2766001\n",
            "[2022-06-29 14:09:15,894 INFO] Starting training on GPU: [0]\n",
            "[2022-06-29 14:09:15,894 INFO] Start training loop and validate every 1000 steps...\n",
            "[2022-06-29 14:09:15,894 INFO] corpus's transforms: TransformPipe()\n",
            "[2022-06-29 14:09:15,894 INFO] Weighted corpora loaded so far:\n",
            "\t\t\t* corpus: 1\n",
            "/usr/local/lib/python3.7/dist-packages/torchtext/data/field.py:359: UserWarning: To copy construct from a tensor, it is recommended to use sourceTensor.clone().detach() or sourceTensor.clone().detach().requires_grad_(True), rather than torch.tensor(sourceTensor).\n",
            "  var = torch.tensor(arr, dtype=self.dtype, device=device)\n",
            "[2022-06-29 14:09:23,940 INFO] Step 50/20000; acc:   8.98; ppl: 103.25; xent: 4.64; lr: 1.00000; 9523/9936 tok/s;      8 sec\n",
            "[2022-06-29 14:09:32,814 INFO] Step 100/20000; acc:   9.42; ppl: 69.25; xent: 4.24; lr: 1.00000; 9159/9534 tok/s;     17 sec\n",
            "[2022-06-29 14:09:37,514 INFO] Weighted corpora loaded so far:\n",
            "\t\t\t* corpus: 2\n",
            "[2022-06-29 14:09:41,478 INFO] Step 150/20000; acc:  20.90; ppl: 15.98; xent: 2.77; lr: 1.00000; 9549/9936 tok/s;     26 sec\n",
            "[2022-06-29 14:09:49,888 INFO] Step 200/20000; acc:  40.86; ppl:  6.75; xent: 1.91; lr: 1.00000; 9506/9901 tok/s;     34 sec\n",
            "[2022-06-29 14:09:57,506 INFO] Step 250/20000; acc:  62.90; ppl:  3.28; xent: 1.19; lr: 1.00000; 9806/10241 tok/s;     42 sec\n",
            "[2022-06-29 14:09:58,606 INFO] Weighted corpora loaded so far:\n",
            "\t\t\t* corpus: 3\n",
            "[2022-06-29 14:10:05,780 INFO] Step 300/20000; acc:  73.34; ppl:  2.41; xent: 0.88; lr: 1.00000; 9532/9936 tok/s;     50 sec\n",
            "[2022-06-29 14:10:14,326 INFO] Step 350/20000; acc:  80.76; ppl:  1.87; xent: 0.63; lr: 1.00000; 9757/10148 tok/s;     58 sec\n",
            "[2022-06-29 14:10:22,584 INFO] Step 400/20000; acc:  86.38; ppl:  1.62; xent: 0.48; lr: 1.00000; 9721/10126 tok/s;     67 sec\n",
            "[2022-06-29 14:10:29,886 INFO] Weighted corpora loaded so far:\n",
            "\t\t\t* corpus: 4\n",
            "[2022-06-29 14:10:30,624 INFO] Step 450/20000; acc:  89.61; ppl:  1.47; xent: 0.39; lr: 1.00000; 9680/10096 tok/s;     75 sec\n",
            "[2022-06-29 14:10:38,292 INFO] Step 500/20000; acc:  92.51; ppl:  1.31; xent: 0.27; lr: 1.00000; 9969/10401 tok/s;     82 sec\n",
            "[2022-06-29 14:10:47,313 INFO] Step 550/20000; acc:  92.50; ppl:  1.32; xent: 0.28; lr: 1.00000; 8825/9194 tok/s;     91 sec\n",
            "[2022-06-29 14:10:51,529 INFO] Weighted corpora loaded so far:\n",
            "\t\t\t* corpus: 5\n",
            "[2022-06-29 14:10:55,888 INFO] Step 600/20000; acc:  93.64; ppl:  1.27; xent: 0.24; lr: 1.00000; 9746/10139 tok/s;    100 sec\n",
            "[2022-06-29 14:11:04,624 INFO] Step 650/20000; acc:  94.16; ppl:  1.23; xent: 0.21; lr: 1.00000; 9107/9487 tok/s;    109 sec\n",
            "[2022-06-29 14:11:12,177 INFO] Step 700/20000; acc:  96.02; ppl:  1.18; xent: 0.17; lr: 1.00000; 9822/10260 tok/s;    116 sec\n",
            "[2022-06-29 14:11:12,965 INFO] Weighted corpora loaded so far:\n",
            "\t\t\t* corpus: 6\n",
            "[2022-06-29 14:11:20,444 INFO] Step 750/20000; acc:  95.19; ppl:  1.19; xent: 0.18; lr: 1.00000; 9598/10001 tok/s;    125 sec\n",
            "[2022-06-29 14:11:28,980 INFO] Step 800/20000; acc:  96.01; ppl:  1.16; xent: 0.15; lr: 1.00000; 9727/10122 tok/s;    133 sec\n",
            "[2022-06-29 14:11:37,485 INFO] Step 850/20000; acc:  95.92; ppl:  1.17; xent: 0.16; lr: 1.00000; 9319/9708 tok/s;    142 sec\n",
            "[2022-06-29 14:11:45,794 INFO] Weighted corpora loaded so far:\n",
            "\t\t\t* corpus: 7\n",
            "[2022-06-29 14:11:46,988 INFO] Step 900/20000; acc:  96.91; ppl:  1.13; xent: 0.12; lr: 1.00000; 8498/8850 tok/s;    151 sec\n",
            "[2022-06-29 14:11:54,522 INFO] Step 950/20000; acc:  97.69; ppl:  1.10; xent: 0.09; lr: 1.00000; 9872/10312 tok/s;    159 sec\n",
            "[2022-06-29 14:12:02,808 INFO] Step 1000/20000; acc:  96.89; ppl:  1.13; xent: 0.13; lr: 1.00000; 9683/10081 tok/s;    167 sec\n",
            "[2022-06-29 14:12:02,809 INFO] valid's transforms: TransformPipe()\n",
            "[2022-06-29 14:12:09,132 INFO] Validation perplexity: 1.26422\n",
            "[2022-06-29 14:12:09,132 INFO] Validation accuracy: 95.6879\n",
            "[2022-06-29 14:12:13,151 INFO] Weighted corpora loaded so far:\n",
            "\t\t\t* corpus: 8\n",
            "[2022-06-29 14:12:17,812 INFO] Step 1050/20000; acc:  97.33; ppl:  1.11; xent: 0.11; lr: 1.00000; 5561/5785 tok/s;    182 sec\n",
            "[2022-06-29 14:12:26,147 INFO] Step 1100/20000; acc:  97.45; ppl:  1.11; xent: 0.10; lr: 1.00000; 9617/10021 tok/s;    190 sec\n",
            "[2022-06-29 14:12:33,721 INFO] Step 1150/20000; acc:  97.54; ppl:  1.11; xent: 0.10; lr: 1.00000; 9774/10213 tok/s;    198 sec\n",
            "[2022-06-29 14:12:42,138 INFO] Step 1200/20000; acc:  97.76; ppl:  1.10; xent: 0.09; lr: 1.00000; 9425/9818 tok/s;    206 sec\n",
            "[2022-06-29 14:12:44,933 INFO] Weighted corpora loaded so far:\n",
            "\t\t\t* corpus: 9\n",
            "[2022-06-29 14:12:50,748 INFO] Step 1250/20000; acc:  97.96; ppl:  1.08; xent: 0.08; lr: 1.00000; 9434/9828 tok/s;    215 sec\n",
            "[2022-06-29 14:12:59,217 INFO] Step 1300/20000; acc:  97.79; ppl:  1.10; xent: 0.09; lr: 1.00000; 9574/9963 tok/s;    223 sec\n",
            "[2022-06-29 14:13:06,024 INFO] Weighted corpora loaded so far:\n",
            "\t\t\t* corpus: 10\n",
            "[2022-06-29 14:13:07,960 INFO] Step 1350/20000; acc:  97.85; ppl:  1.09; xent: 0.08; lr: 1.00000; 9501/9885 tok/s;    232 sec\n",
            "[2022-06-29 14:13:15,158 INFO] Step 1400/20000; acc:  98.34; ppl:  1.07; xent: 0.07; lr: 1.00000; 9910/10367 tok/s;    239 sec\n",
            "[2022-06-29 14:13:23,449 INFO] Step 1450/20000; acc:  98.19; ppl:  1.08; xent: 0.07; lr: 1.00000; 9685/10087 tok/s;    248 sec\n",
            "[2022-06-29 14:13:27,089 INFO] Weighted corpora loaded so far:\n",
            "\t\t\t* corpus: 11\n",
            "[2022-06-29 14:13:32,023 INFO] Step 1500/20000; acc:  98.12; ppl:  1.08; xent: 0.07; lr: 1.00000; 9641/10030 tok/s;    256 sec\n",
            "[2022-06-29 14:13:40,604 INFO] Step 1550/20000; acc:  98.14; ppl:  1.08; xent: 0.08; lr: 1.00000; 9506/9898 tok/s;    265 sec\n",
            "[2022-06-29 14:13:48,149 INFO] Step 1600/20000; acc:  98.52; ppl:  1.07; xent: 0.07; lr: 1.00000; 9832/10272 tok/s;    272 sec\n",
            "[2022-06-29 14:13:56,205 INFO] Step 1650/20000; acc:  98.37; ppl:  1.07; xent: 0.07; lr: 1.00000; 9667/10076 tok/s;    280 sec\n",
            "[2022-06-29 14:13:58,622 INFO] Weighted corpora loaded so far:\n",
            "\t\t\t* corpus: 12\n",
            "[2022-06-29 14:14:04,445 INFO] Step 1700/20000; acc:  98.44; ppl:  1.06; xent: 0.06; lr: 1.00000; 9691/10097 tok/s;    289 sec\n",
            "[2022-06-29 14:14:13,061 INFO] Step 1750/20000; acc:  98.39; ppl:  1.07; xent: 0.06; lr: 1.00000; 9562/9948 tok/s;    297 sec\n",
            "[2022-06-29 14:14:19,607 INFO] Weighted corpora loaded so far:\n",
            "\t\t\t* corpus: 13\n",
            "[2022-06-29 14:14:21,575 INFO] Step 1800/20000; acc:  98.31; ppl:  1.08; xent: 0.07; lr: 1.00000; 9688/10080 tok/s;    306 sec\n",
            "[2022-06-29 14:14:28,859 INFO] Step 1850/20000; acc:  98.87; ppl:  1.05; xent: 0.05; lr: 1.00000; 10142/10600 tok/s;    313 sec\n",
            "[2022-06-29 14:14:36,872 INFO] Step 1900/20000; acc:  98.47; ppl:  1.06; xent: 0.06; lr: 1.00000; 9712/10124 tok/s;    321 sec\n",
            "[2022-06-29 14:14:45,477 INFO] Step 1950/20000; acc:  98.72; ppl:  1.06; xent: 0.06; lr: 1.00000; 9713/10103 tok/s;    330 sec\n",
            "[2022-06-29 14:14:50,733 INFO] Weighted corpora loaded so far:\n",
            "\t\t\t* corpus: 14\n",
            "[2022-06-29 14:14:53,768 INFO] Step 2000/20000; acc:  98.84; ppl:  1.05; xent: 0.05; lr: 1.00000; 9739/10147 tok/s;    338 sec\n",
            "[2022-06-29 14:14:59,935 INFO] Validation perplexity: 1.22399\n",
            "[2022-06-29 14:14:59,935 INFO] Validation accuracy: 96.8639\n",
            "[2022-06-29 14:15:07,845 INFO] Step 2050/20000; acc:  98.77; ppl:  1.05; xent: 0.05; lr: 1.00000; 5440/5676 tok/s;    352 sec\n",
            "[2022-06-29 14:15:15,591 INFO] Step 2100/20000; acc:  98.71; ppl:  1.07; xent: 0.06; lr: 1.00000; 10061/10486 tok/s;    360 sec\n",
            "[2022-06-29 14:15:17,611 INFO] Weighted corpora loaded so far:\n",
            "\t\t\t* corpus: 15\n",
            "[2022-06-29 14:15:23,749 INFO] Step 2150/20000; acc:  98.97; ppl:  1.04; xent: 0.04; lr: 1.00000; 9686/10093 tok/s;    368 sec\n",
            "[2022-06-29 14:15:32,281 INFO] Step 2200/20000; acc:  98.79; ppl:  1.05; xent: 0.05; lr: 1.00000; 9726/10117 tok/s;    376 sec\n",
            "[2022-06-29 14:15:38,386 INFO] Weighted corpora loaded so far:\n",
            "\t\t\t* corpus: 16\n",
            "[2022-06-29 14:15:40,513 INFO] Step 2250/20000; acc:  98.84; ppl:  1.05; xent: 0.05; lr: 1.00000; 9703/10110 tok/s;    385 sec\n",
            "[2022-06-29 14:15:48,124 INFO] Step 2300/20000; acc:  99.09; ppl:  1.04; xent: 0.04; lr: 1.00000; 9814/10249 tok/s;    392 sec\n",
            "[2022-06-29 14:15:56,928 INFO] Step 2350/20000; acc:  98.80; ppl:  1.06; xent: 0.05; lr: 1.00000; 8955/9333 tok/s;    401 sec\n",
            "[2022-06-29 14:16:05,437 INFO] Step 2400/20000; acc:  98.57; ppl:  1.07; xent: 0.06; lr: 1.00000; 9834/10223 tok/s;    410 sec\n",
            "[2022-06-29 14:16:10,365 INFO] Weighted corpora loaded so far:\n",
            "\t\t\t* corpus: 17\n",
            "[2022-06-29 14:16:13,641 INFO] Step 2450/20000; acc:  98.79; ppl:  1.05; xent: 0.05; lr: 1.00000; 9681/10093 tok/s;    418 sec\n",
            "[2022-06-29 14:16:21,746 INFO] Step 2500/20000; acc:  98.87; ppl:  1.04; xent: 0.04; lr: 1.00000; 9677/10087 tok/s;    426 sec\n",
            "[2022-06-29 14:16:29,312 INFO] Step 2550/20000; acc:  99.09; ppl:  1.04; xent: 0.04; lr: 1.00000; 10201/10636 tok/s;    433 sec\n",
            "[2022-06-29 14:16:30,977 INFO] Weighted corpora loaded so far:\n",
            "\t\t\t* corpus: 18\n",
            "[2022-06-29 14:16:37,761 INFO] Step 2600/20000; acc:  98.88; ppl:  1.05; xent: 0.05; lr: 1.00000; 9485/9883 tok/s;    442 sec\n",
            "[2022-06-29 14:16:46,289 INFO] Step 2650/20000; acc:  99.06; ppl:  1.04; xent: 0.04; lr: 1.00000; 9673/10063 tok/s;    450 sec\n",
            "[2022-06-29 14:16:54,474 INFO] Step 2700/20000; acc:  98.96; ppl:  1.04; xent: 0.04; lr: 1.00000; 9735/10142 tok/s;    459 sec\n",
            "[2022-06-29 14:17:01,968 INFO] Step 2750/20000; acc:  99.29; ppl:  1.03; xent: 0.03; lr: 1.00000; 10080/10525 tok/s;    466 sec\n",
            "[2022-06-29 14:17:02,357 INFO] Weighted corpora loaded so far:\n",
            "\t\t\t* corpus: 19\n",
            "[2022-06-29 14:17:10,059 INFO] Step 2800/20000; acc:  99.10; ppl:  1.04; xent: 0.04; lr: 1.00000; 9645/10057 tok/s;    474 sec\n",
            "[2022-06-29 14:17:18,426 INFO] Step 2850/20000; acc:  99.02; ppl:  1.04; xent: 0.04; lr: 1.00000; 9736/10133 tok/s;    483 sec\n",
            "[2022-06-29 14:17:23,080 INFO] Weighted corpora loaded so far:\n",
            "\t\t\t* corpus: 20\n",
            "[2022-06-29 14:17:26,780 INFO] Step 2900/20000; acc:  99.18; ppl:  1.04; xent: 0.04; lr: 1.00000; 9747/10147 tok/s;    491 sec\n",
            "[2022-06-29 14:17:35,107 INFO] Step 2950/20000; acc:  99.07; ppl:  1.04; xent: 0.04; lr: 1.00000; 9836/10238 tok/s;    499 sec\n",
            "[2022-06-29 14:17:42,148 INFO] Step 3000/20000; acc:  99.36; ppl:  1.03; xent: 0.03; lr: 1.00000; 10183/10653 tok/s;    506 sec\n",
            "[2022-06-29 14:17:48,438 INFO] Validation perplexity: 1.31985\n",
            "[2022-06-29 14:17:48,438 INFO] Validation accuracy: 96.7766\n",
            "[2022-06-29 14:17:49,902 INFO] Weighted corpora loaded so far:\n",
            "\t\t\t* corpus: 21\n",
            "[2022-06-29 14:17:56,719 INFO] Step 3050/20000; acc:  99.11; ppl:  1.04; xent: 0.04; lr: 1.00000; 5538/5765 tok/s;    521 sec\n",
            "[2022-06-29 14:18:05,196 INFO] Step 3100/20000; acc:  99.10; ppl:  1.04; xent: 0.04; lr: 1.00000; 9745/10142 tok/s;    529 sec\n",
            "[2022-06-29 14:18:13,634 INFO] Step 3150/20000; acc:  99.19; ppl:  1.03; xent: 0.03; lr: 1.00000; 9653/10048 tok/s;    538 sec\n",
            "[2022-06-29 14:18:21,067 INFO] Step 3200/20000; acc:  99.36; ppl:  1.03; xent: 0.03; lr: 1.00000; 10137/10582 tok/s;    545 sec\n",
            "[2022-06-29 14:18:21,073 INFO] Weighted corpora loaded so far:\n",
            "\t\t\t* corpus: 22\n",
            "[2022-06-29 14:18:28,733 INFO] Step 3250/20000; acc:  99.09; ppl:  1.05; xent: 0.05; lr: 1.00000; 9912/10346 tok/s;    553 sec\n",
            "[2022-06-29 14:18:37,011 INFO] Step 3300/20000; acc:  99.05; ppl:  1.04; xent: 0.04; lr: 1.00000; 9797/10196 tok/s;    561 sec\n",
            "[2022-06-29 14:18:41,546 INFO] Weighted corpora loaded so far:\n",
            "\t\t\t* corpus: 23\n",
            "[2022-06-29 14:18:45,591 INFO] Step 3350/20000; acc:  99.17; ppl:  1.04; xent: 0.03; lr: 1.00000; 9729/10125 tok/s;    570 sec\n",
            "[2022-06-29 14:18:53,963 INFO] Step 3400/20000; acc:  99.28; ppl:  1.04; xent: 0.04; lr: 1.00000; 9715/10113 tok/s;    578 sec\n",
            "[2022-06-29 14:19:01,249 INFO] Step 3450/20000; acc:  99.35; ppl:  1.03; xent: 0.03; lr: 1.00000; 9995/10447 tok/s;    585 sec\n",
            "[2022-06-29 14:19:09,514 INFO] Step 3500/20000; acc:  99.17; ppl:  1.04; xent: 0.04; lr: 1.00000; 9563/9967 tok/s;    594 sec\n",
            "[2022-06-29 14:19:12,919 INFO] Weighted corpora loaded so far:\n",
            "\t\t\t* corpus: 24\n",
            "[2022-06-29 14:19:18,070 INFO] Step 3550/20000; acc:  99.13; ppl:  1.04; xent: 0.04; lr: 1.00000; 9744/10142 tok/s;    602 sec\n",
            "[2022-06-29 14:19:26,298 INFO] Step 3600/20000; acc:  99.15; ppl:  1.04; xent: 0.04; lr: 1.00000; 9727/10126 tok/s;    610 sec\n",
            "[2022-06-29 14:19:33,664 INFO] Weighted corpora loaded so far:\n",
            "\t\t\t* corpus: 25\n",
            "[2022-06-29 14:19:34,341 INFO] Step 3650/20000; acc:  99.21; ppl:  1.04; xent: 0.04; lr: 1.00000; 9690/10104 tok/s;    618 sec\n",
            "[2022-06-29 14:19:41,969 INFO] Step 3700/20000; acc:  99.34; ppl:  1.03; xent: 0.03; lr: 1.00000; 10029/10464 tok/s;    626 sec\n",
            "[2022-06-29 14:19:50,140 INFO] Step 3750/20000; acc:  99.24; ppl:  1.03; xent: 0.03; lr: 1.00000; 9701/10107 tok/s;    634 sec\n",
            "[2022-06-29 14:19:54,349 INFO] Weighted corpora loaded so far:\n",
            "\t\t\t* corpus: 26\n",
            "[2022-06-29 14:19:58,690 INFO] Step 3800/20000; acc:  99.30; ppl:  1.03; xent: 0.03; lr: 1.00000; 9774/10167 tok/s;    643 sec\n",
            "[2022-06-29 14:20:06,964 INFO] Step 3850/20000; acc:  99.05; ppl:  1.05; xent: 0.05; lr: 1.00000; 9692/10097 tok/s;    651 sec\n",
            "[2022-06-29 14:20:14,240 INFO] Step 3900/20000; acc:  99.37; ppl:  1.03; xent: 0.03; lr: 1.00000; 10120/10574 tok/s;    658 sec\n",
            "[2022-06-29 14:20:22,497 INFO] Step 3950/20000; acc:  99.13; ppl:  1.04; xent: 0.04; lr: 1.00000; 9668/10069 tok/s;    667 sec\n",
            "[2022-06-29 14:20:25,527 INFO] Weighted corpora loaded so far:\n",
            "\t\t\t* corpus: 27\n",
            "[2022-06-29 14:20:31,078 INFO] Step 4000/20000; acc:  99.27; ppl:  1.03; xent: 0.03; lr: 1.00000; 9668/10065 tok/s;    675 sec\n",
            "[2022-06-29 14:20:37,180 INFO] Validation perplexity: 1.29746\n",
            "[2022-06-29 14:20:37,180 INFO] Validation accuracy: 97.0264\n",
            "[2022-06-29 14:20:45,325 INFO] Step 4050/20000; acc:  99.27; ppl:  1.03; xent: 0.03; lr: 1.00000; 5545/5775 tok/s;    689 sec\n",
            "[2022-06-29 14:20:52,527 INFO] Weighted corpora loaded so far:\n",
            "\t\t\t* corpus: 28\n",
            "[2022-06-29 14:20:53,725 INFO] Step 4100/20000; acc:  99.33; ppl:  1.03; xent: 0.03; lr: 1.00000; 9590/9989 tok/s;    698 sec\n",
            "[2022-06-29 14:21:02,141 INFO] Step 4150/20000; acc:  99.28; ppl:  1.03; xent: 0.03; lr: 1.00000; 9056/9453 tok/s;    706 sec\n",
            "[2022-06-29 14:21:10,551 INFO] Step 4200/20000; acc:  99.29; ppl:  1.03; xent: 0.03; lr: 1.00000; 9406/9798 tok/s;    715 sec\n",
            "[2022-06-29 14:21:19,266 INFO] Step 4250/20000; acc:  99.11; ppl:  1.04; xent: 0.04; lr: 1.00000; 9490/9874 tok/s;    723 sec\n",
            "[2022-06-29 14:21:25,202 INFO] Weighted corpora loaded so far:\n",
            "\t\t\t* corpus: 29\n",
            "[2022-06-29 14:21:27,680 INFO] Step 4300/20000; acc:  99.11; ppl:  1.05; xent: 0.05; lr: 1.00000; 9573/9976 tok/s;    732 sec\n",
            "[2022-06-29 14:21:35,160 INFO] Step 4350/20000; acc:  99.31; ppl:  1.04; xent: 0.03; lr: 1.00000; 9870/10310 tok/s;    739 sec\n",
            "[2022-06-29 14:21:43,428 INFO] Step 4400/20000; acc:  99.09; ppl:  1.04; xent: 0.04; lr: 1.00000; 9606/10006 tok/s;    748 sec\n",
            "[2022-06-29 14:21:46,156 INFO] Weighted corpora loaded so far:\n",
            "\t\t\t* corpus: 30\n",
            "[2022-06-29 14:21:51,880 INFO] Step 4450/20000; acc:  99.23; ppl:  1.03; xent: 0.03; lr: 1.00000; 9585/9983 tok/s;    756 sec\n",
            "[2022-06-29 14:22:00,282 INFO] Step 4500/20000; acc:  99.18; ppl:  1.04; xent: 0.04; lr: 1.00000; 9623/10018 tok/s;    764 sec\n",
            "[2022-06-29 14:22:07,127 INFO] Weighted corpora loaded so far:\n",
            "\t\t\t* corpus: 31\n",
            "[2022-06-29 14:22:08,920 INFO] Step 4550/20000; acc:  99.08; ppl:  1.04; xent: 0.04; lr: 1.00000; 9607/9994 tok/s;    773 sec\n",
            "[2022-06-29 14:22:16,223 INFO] Step 4600/20000; acc:  99.38; ppl:  1.04; xent: 0.04; lr: 1.00000; 9883/10338 tok/s;    780 sec\n",
            "[2022-06-29 14:22:24,614 INFO] Step 4650/20000; acc:  99.13; ppl:  1.05; xent: 0.05; lr: 1.00000; 9550/9947 tok/s;    789 sec\n",
            "[2022-06-29 14:22:33,119 INFO] Step 4700/20000; acc:  99.21; ppl:  1.04; xent: 0.04; lr: 1.00000; 9716/10107 tok/s;    797 sec\n",
            "[2022-06-29 14:22:38,636 INFO] Weighted corpora loaded so far:\n",
            "\t\t\t* corpus: 32\n",
            "[2022-06-29 14:22:41,498 INFO] Step 4750/20000; acc:  99.26; ppl:  1.04; xent: 0.04; lr: 1.00000; 9738/10141 tok/s;    806 sec\n",
            "[2022-06-29 14:22:49,011 INFO] Step 4800/20000; acc:  99.51; ppl:  1.02; xent: 0.02; lr: 1.00000; 9858/10299 tok/s;    813 sec\n",
            "[2022-06-29 14:22:57,135 INFO] Step 4850/20000; acc:  99.20; ppl:  1.04; xent: 0.04; lr: 1.00000; 9538/9945 tok/s;    821 sec\n",
            "[2022-06-29 14:22:59,609 INFO] Weighted corpora loaded so far:\n",
            "\t\t\t* corpus: 33\n",
            "[2022-06-29 14:23:05,475 INFO] Step 4900/20000; acc:  99.16; ppl:  1.04; xent: 0.04; lr: 1.00000; 9699/10101 tok/s;    830 sec\n",
            "[2022-06-29 14:23:13,993 INFO] Step 4950/20000; acc:  99.04; ppl:  1.05; xent: 0.05; lr: 1.00000; 9722/10112 tok/s;    838 sec\n",
            "[2022-06-29 14:23:22,262 INFO] Step 5000/20000; acc:  99.18; ppl:  1.04; xent: 0.03; lr: 1.00000; 9778/10186 tok/s;    846 sec\n",
            "[2022-06-29 14:23:28,389 INFO] Validation perplexity: 1.42555\n",
            "[2022-06-29 14:23:28,389 INFO] Validation accuracy: 96.6686\n",
            "[2022-06-29 14:23:28,391 INFO] Saving checkpoint ./saved_models/simple-lstm/final-model_step_5000.pt\n",
            "[2022-06-29 14:23:35,928 INFO] Step 5050/20000; acc:  99.57; ppl:  1.02; xent: 0.02; lr: 1.00000; 5430/5674 tok/s;    860 sec\n",
            "[2022-06-29 14:23:37,019 INFO] Weighted corpora loaded so far:\n",
            "\t\t\t* corpus: 34\n",
            "[2022-06-29 14:23:44,039 INFO] Step 5100/20000; acc:  99.34; ppl:  1.03; xent: 0.03; lr: 1.00000; 9601/10011 tok/s;    868 sec\n",
            "[2022-06-29 14:23:52,728 INFO] Step 5150/20000; acc:  99.30; ppl:  1.03; xent: 0.03; lr: 1.00000; 9613/9996 tok/s;    877 sec\n",
            "[2022-06-29 14:23:58,069 INFO] Weighted corpora loaded so far:\n",
            "\t\t\t* corpus: 35\n",
            "[2022-06-29 14:24:01,148 INFO] Step 5200/20000; acc:  99.20; ppl:  1.04; xent: 0.04; lr: 1.00000; 9584/9984 tok/s;    885 sec\n",
            "[2022-06-29 14:24:09,109 INFO] Step 5250/20000; acc:  99.38; ppl:  1.03; xent: 0.03; lr: 1.00000; 9579/9995 tok/s;    893 sec\n",
            "[2022-06-29 14:24:16,874 INFO] Step 5300/20000; acc:  99.31; ppl:  1.03; xent: 0.03; lr: 1.00000; 10056/10481 tok/s;    901 sec\n",
            "[2022-06-29 14:24:18,908 INFO] Weighted corpora loaded so far:\n",
            "\t\t\t* corpus: 36\n",
            "[2022-06-29 14:24:25,091 INFO] Step 5350/20000; acc:  99.32; ppl:  1.03; xent: 0.03; lr: 1.00000; 9681/10088 tok/s;    909 sec\n",
            "[2022-06-29 14:24:33,805 INFO] Step 5400/20000; acc:  99.12; ppl:  1.04; xent: 0.04; lr: 1.00000; 9544/9930 tok/s;    918 sec\n",
            "[2022-06-29 14:24:42,044 INFO] Step 5450/20000; acc:  99.14; ppl:  1.04; xent: 0.04; lr: 1.00000; 9671/10075 tok/s;    926 sec\n",
            "[2022-06-29 14:24:49,621 INFO] Step 5500/20000; acc:  99.47; ppl:  1.03; xent: 0.03; lr: 1.00000; 9875/10312 tok/s;    934 sec\n",
            "[2022-06-29 14:24:50,397 INFO] Weighted corpora loaded so far:\n",
            "\t\t\t* corpus: 37\n",
            "[2022-06-29 14:24:57,783 INFO] Step 5550/20000; acc:  99.33; ppl:  1.03; xent: 0.03; lr: 1.00000; 9626/10035 tok/s;    942 sec\n",
            "[2022-06-29 14:25:06,435 INFO] Step 5600/20000; acc:  99.26; ppl:  1.04; xent: 0.03; lr: 1.00000; 9638/10021 tok/s;    951 sec\n",
            "[2022-06-29 14:25:11,299 INFO] Weighted corpora loaded so far:\n",
            "\t\t\t* corpus: 38\n",
            "[2022-06-29 14:25:14,629 INFO] Step 5650/20000; acc:  99.28; ppl:  1.03; xent: 0.03; lr: 1.00000; 9725/10135 tok/s;    959 sec\n",
            "[2022-06-29 14:25:22,862 INFO] Step 5700/20000; acc:  99.44; ppl:  1.02; xent: 0.02; lr: 1.00000; 9716/10122 tok/s;    967 sec\n",
            "[2022-06-29 14:25:30,306 INFO] Step 5750/20000; acc:  99.57; ppl:  1.02; xent: 0.02; lr: 1.00000; 10106/10551 tok/s;    974 sec\n",
            "[2022-06-29 14:25:38,618 INFO] Step 5800/20000; acc:  99.33; ppl:  1.04; xent: 0.04; lr: 1.00000; 9619/10021 tok/s;    983 sec\n",
            "[2022-06-29 14:25:42,378 INFO] Weighted corpora loaded so far:\n",
            "\t\t\t* corpus: 39\n",
            "[2022-06-29 14:25:47,067 INFO] Step 5850/20000; acc:  99.39; ppl:  1.03; xent: 0.03; lr: 1.00000; 9800/10196 tok/s;    991 sec\n",
            "[2022-06-29 14:25:55,308 INFO] Step 5900/20000; acc:  99.32; ppl:  1.03; xent: 0.03; lr: 1.00000; 9679/10084 tok/s;    999 sec\n",
            "[2022-06-29 14:26:02,924 INFO] Step 5950/20000; acc:  99.36; ppl:  1.05; xent: 0.05; lr: 1.00000; 9911/10342 tok/s;   1007 sec\n",
            "[2022-06-29 14:26:03,326 INFO] Weighted corpora loaded so far:\n",
            "\t\t\t* corpus: 40\n",
            "[2022-06-29 14:26:11,669 INFO] Step 6000/20000; acc:  99.30; ppl:  1.04; xent: 0.03; lr: 1.00000; 8857/9237 tok/s;   1016 sec\n",
            "[2022-06-29 14:26:17,776 INFO] Validation perplexity: 1.4472\n",
            "[2022-06-29 14:26:17,776 INFO] Validation accuracy: 96.3043\n",
            "[2022-06-29 14:26:26,150 INFO] Step 6050/20000; acc:  99.29; ppl:  1.03; xent: 0.03; lr: 1.00000; 5642/5872 tok/s;   1030 sec\n",
            "[2022-06-29 14:26:30,914 INFO] Weighted corpora loaded so far:\n",
            "\t\t\t* corpus: 41\n",
            "[2022-06-29 14:26:34,804 INFO] Step 6100/20000; acc:  99.27; ppl:  1.04; xent: 0.03; lr: 1.00000; 9486/9873 tok/s;   1039 sec\n",
            "[2022-06-29 14:26:43,328 INFO] Step 6150/20000; acc:  99.36; ppl:  1.03; xent: 0.03; lr: 1.00000; 9696/10091 tok/s;   1047 sec\n",
            "[2022-06-29 14:26:50,319 INFO] Step 6200/20000; acc:  99.52; ppl:  1.02; xent: 0.02; lr: 1.00000; 10143/10614 tok/s;   1054 sec\n",
            "[2022-06-29 14:26:58,625 INFO] Step 6250/20000; acc:  99.29; ppl:  1.03; xent: 0.03; lr: 1.00000; 9744/10143 tok/s;   1063 sec\n",
            "[2022-06-29 14:27:02,210 INFO] Weighted corpora loaded so far:\n",
            "\t\t\t* corpus: 42\n",
            "[2022-06-29 14:27:07,164 INFO] Step 6300/20000; acc:  99.29; ppl:  1.04; xent: 0.04; lr: 1.00000; 9657/10055 tok/s;   1071 sec\n",
            "[2022-06-29 14:27:15,459 INFO] Step 6350/20000; acc:  99.28; ppl:  1.03; xent: 0.03; lr: 1.00000; 9777/10177 tok/s;   1080 sec\n",
            "[2022-06-29 14:27:23,016 INFO] Step 6400/20000; acc:  99.56; ppl:  1.02; xent: 0.02; lr: 1.00000; 9970/10407 tok/s;   1087 sec\n",
            "[2022-06-29 14:27:23,029 INFO] Weighted corpora loaded so far:\n",
            "\t\t\t* corpus: 43\n",
            "[2022-06-29 14:27:30,919 INFO] Step 6450/20000; acc:  99.27; ppl:  1.04; xent: 0.04; lr: 1.00000; 9727/10150 tok/s;   1095 sec\n",
            "[2022-06-29 14:27:39,170 INFO] Step 6500/20000; acc:  99.24; ppl:  1.04; xent: 0.03; lr: 1.00000; 9750/10153 tok/s;   1103 sec\n",
            "[2022-06-29 14:27:47,584 INFO] Step 6550/20000; acc:  99.40; ppl:  1.03; xent: 0.03; lr: 1.00000; 9821/10218 tok/s;   1112 sec\n",
            "[2022-06-29 14:27:53,958 INFO] Weighted corpora loaded so far:\n",
            "\t\t\t* corpus: 44\n",
            "[2022-06-29 14:27:55,964 INFO] Step 6600/20000; acc:  99.38; ppl:  1.03; xent: 0.03; lr: 1.00000; 9745/10147 tok/s;   1120 sec\n",
            "[2022-06-29 14:28:03,122 INFO] Step 6650/20000; acc:  99.63; ppl:  1.02; xent: 0.02; lr: 1.00000; 10199/10661 tok/s;   1127 sec\n",
            "[2022-06-29 14:28:11,292 INFO] Step 6700/20000; acc:  99.41; ppl:  1.03; xent: 0.03; lr: 1.00000; 9708/10114 tok/s;   1135 sec\n",
            "[2022-06-29 14:28:14,686 INFO] Weighted corpora loaded so far:\n",
            "\t\t\t* corpus: 45\n",
            "[2022-06-29 14:28:19,670 INFO] Step 6750/20000; acc:  99.29; ppl:  1.04; xent: 0.04; lr: 1.00000; 9902/10304 tok/s;   1144 sec\n",
            "[2022-06-29 14:28:27,776 INFO] Step 6800/20000; acc:  99.28; ppl:  1.03; xent: 0.03; lr: 1.00000; 9826/10233 tok/s;   1152 sec\n",
            "[2022-06-29 14:28:35,161 INFO] Weighted corpora loaded so far:\n",
            "\t\t\t* corpus: 46\n",
            "[2022-06-29 14:28:35,835 INFO] Step 6850/20000; acc:  99.28; ppl:  1.04; xent: 0.04; lr: 1.00000; 9737/10152 tok/s;   1160 sec\n",
            "[2022-06-29 14:28:43,545 INFO] Step 6900/20000; acc:  99.38; ppl:  1.03; xent: 0.03; lr: 1.00000; 10024/10457 tok/s;   1168 sec\n",
            "[2022-06-29 14:28:51,635 INFO] Step 6950/20000; acc:  99.23; ppl:  1.04; xent: 0.04; lr: 1.00000; 9753/10162 tok/s;   1176 sec\n",
            "[2022-06-29 14:29:00,247 INFO] Step 7000/20000; acc:  99.24; ppl:  1.03; xent: 0.03; lr: 1.00000; 9680/10069 tok/s;   1184 sec\n",
            "[2022-06-29 14:29:06,455 INFO] Validation perplexity: 1.42612\n",
            "[2022-06-29 14:29:06,455 INFO] Validation accuracy: 96.8562\n",
            "[2022-06-29 14:29:12,592 INFO] Weighted corpora loaded so far:\n",
            "\t\t\t* corpus: 47\n",
            "[2022-06-29 14:29:14,762 INFO] Step 7050/20000; acc:  99.39; ppl:  1.03; xent: 0.03; lr: 1.00000; 5535/5767 tok/s;   1199 sec\n",
            "[2022-06-29 14:29:22,140 INFO] Step 7100/20000; acc:  99.55; ppl:  1.03; xent: 0.03; lr: 1.00000; 9968/10415 tok/s;   1206 sec\n",
            "[2022-06-29 14:29:30,226 INFO] Step 7150/20000; acc:  99.38; ppl:  1.03; xent: 0.03; lr: 1.00000; 9877/10288 tok/s;   1214 sec\n",
            "[2022-06-29 14:29:33,188 INFO] Weighted corpora loaded so far:\n",
            "\t\t\t* corpus: 48\n",
            "[2022-06-29 14:29:38,739 INFO] Step 7200/20000; acc:  99.36; ppl:  1.04; xent: 0.04; lr: 1.00000; 9787/10182 tok/s;   1223 sec\n",
            "[2022-06-29 14:29:46,789 INFO] Step 7250/20000; acc:  99.34; ppl:  1.04; xent: 0.04; lr: 1.00000; 9802/10214 tok/s;   1231 sec\n",
            "[2022-06-29 14:29:54,968 INFO] Step 7300/20000; acc:  99.34; ppl:  1.03; xent: 0.03; lr: 1.00000; 9714/10125 tok/s;   1239 sec\n",
            "[2022-06-29 14:30:02,397 INFO] Step 7350/20000; acc:  99.45; ppl:  1.03; xent: 0.03; lr: 1.00000; 10265/10711 tok/s;   1247 sec\n",
            "[2022-06-29 14:30:04,016 INFO] Weighted corpora loaded so far:\n",
            "\t\t\t* corpus: 49\n",
            "[2022-06-29 14:30:10,659 INFO] Step 7400/20000; acc:  99.25; ppl:  1.04; xent: 0.04; lr: 1.00000; 9625/10028 tok/s;   1255 sec\n",
            "[2022-06-29 14:30:19,128 INFO] Step 7450/20000; acc:  99.27; ppl:  1.04; xent: 0.04; lr: 1.00000; 9823/10215 tok/s;   1263 sec\n",
            "[2022-06-29 14:30:24,837 INFO] Weighted corpora loaded so far:\n",
            "\t\t\t* corpus: 50\n",
            "[2022-06-29 14:30:27,250 INFO] Step 7500/20000; acc:  99.36; ppl:  1.03; xent: 0.03; lr: 1.00000; 9915/10329 tok/s;   1271 sec\n",
            "[2022-06-29 14:30:34,438 INFO] Step 7550/20000; acc:  99.49; ppl:  1.03; xent: 0.03; lr: 1.00000; 10167/10626 tok/s;   1279 sec\n",
            "[2022-06-29 14:30:42,516 INFO] Step 7600/20000; acc:  99.37; ppl:  1.03; xent: 0.03; lr: 1.00000; 9842/10252 tok/s;   1287 sec\n",
            "[2022-06-29 14:30:45,151 INFO] Weighted corpora loaded so far:\n",
            "\t\t\t* corpus: 51\n",
            "[2022-06-29 14:30:50,841 INFO] Step 7650/20000; acc:  99.38; ppl:  1.03; xent: 0.03; lr: 1.00000; 9835/10238 tok/s;   1295 sec\n",
            "[2022-06-29 14:30:59,009 INFO] Step 7700/20000; acc:  99.37; ppl:  1.03; xent: 0.03; lr: 1.00000; 9953/10361 tok/s;   1303 sec\n",
            "[2022-06-29 14:31:07,297 INFO] Step 7750/20000; acc:  99.33; ppl:  1.03; xent: 0.03; lr: 1.00000; 9901/10306 tok/s;   1311 sec\n",
            "[2022-06-29 14:31:14,421 INFO] Step 7800/20000; acc:  99.33; ppl:  1.04; xent: 0.04; lr: 1.00000; 10150/10614 tok/s;   1319 sec\n",
            "[2022-06-29 14:31:15,904 INFO] Weighted corpora loaded so far:\n",
            "\t\t\t* corpus: 52\n",
            "[2022-06-29 14:31:23,207 INFO] Step 7850/20000; acc:  99.40; ppl:  1.03; xent: 0.03; lr: 1.00000; 9108/9489 tok/s;   1327 sec\n",
            "[2022-06-29 14:31:31,577 INFO] Step 7900/20000; acc:  99.31; ppl:  1.03; xent: 0.03; lr: 1.00000; 9870/10266 tok/s;   1336 sec\n",
            "[2022-06-29 14:31:37,279 INFO] Weighted corpora loaded so far:\n",
            "\t\t\t* corpus: 53\n",
            "[2022-06-29 14:31:40,142 INFO] Step 7950/20000; acc:  99.33; ppl:  1.04; xent: 0.03; lr: 1.00000; 9547/9939 tok/s;   1344 sec\n",
            "[2022-06-29 14:31:47,542 INFO] Step 8000/20000; acc:  99.48; ppl:  1.03; xent: 0.03; lr: 1.00000; 10032/10482 tok/s;   1352 sec\n",
            "[2022-06-29 14:31:53,552 INFO] Validation perplexity: 1.4343\n",
            "[2022-06-29 14:31:53,553 INFO] Validation accuracy: 96.3708\n",
            "[2022-06-29 14:32:01,439 INFO] Step 8050/20000; acc:  99.35; ppl:  1.03; xent: 0.03; lr: 1.00000; 5534/5773 tok/s;   1366 sec\n",
            "[2022-06-29 14:32:03,864 INFO] Weighted corpora loaded so far:\n",
            "\t\t\t* corpus: 54\n",
            "[2022-06-29 14:32:09,618 INFO] Step 8100/20000; acc:  99.24; ppl:  1.04; xent: 0.04; lr: 1.00000; 9865/10273 tok/s;   1374 sec\n",
            "[2022-06-29 14:32:18,097 INFO] Step 8150/20000; acc:  99.31; ppl:  1.04; xent: 0.04; lr: 1.00000; 9770/10166 tok/s;   1382 sec\n",
            "[2022-06-29 14:32:26,367 INFO] Step 8200/20000; acc:  99.28; ppl:  1.03; xent: 0.03; lr: 1.00000; 9815/10218 tok/s;   1390 sec\n",
            "[2022-06-29 14:32:33,779 INFO] Step 8250/20000; acc:  99.50; ppl:  1.03; xent: 0.03; lr: 1.00000; 10061/10506 tok/s;   1398 sec\n",
            "[2022-06-29 14:32:34,889 INFO] Weighted corpora loaded so far:\n",
            "\t\t\t* corpus: 55\n",
            "[2022-06-29 14:32:41,800 INFO] Step 8300/20000; acc:  99.31; ppl:  1.04; xent: 0.04; lr: 1.00000; 9652/10067 tok/s;   1406 sec\n",
            "[2022-06-29 14:32:50,292 INFO] Step 8350/20000; acc:  99.09; ppl:  1.04; xent: 0.04; lr: 1.00000; 9818/10211 tok/s;   1414 sec\n",
            "[2022-06-29 14:32:55,513 INFO] Weighted corpora loaded so far:\n",
            "\t\t\t* corpus: 56\n",
            "[2022-06-29 14:32:58,595 INFO] Step 8400/20000; acc:  99.24; ppl:  1.04; xent: 0.04; lr: 1.00000; 9784/10186 tok/s;   1423 sec\n",
            "[2022-06-29 14:33:06,700 INFO] Step 8450/20000; acc:  99.31; ppl:  1.04; xent: 0.04; lr: 1.00000; 9569/9985 tok/s;   1431 sec\n",
            "[2022-06-29 14:33:14,277 INFO] Step 8500/20000; acc:  99.47; ppl:  1.03; xent: 0.03; lr: 1.00000; 10111/10546 tok/s;   1438 sec\n",
            "[2022-06-29 14:33:22,398 INFO] Step 8550/20000; acc:  99.12; ppl:  1.05; xent: 0.04; lr: 1.00000; 9813/10224 tok/s;   1447 sec\n",
            "[2022-06-29 14:33:26,591 INFO] Weighted corpora loaded so far:\n",
            "\t\t\t* corpus: 57\n",
            "[2022-06-29 14:33:30,819 INFO] Step 8600/20000; acc:  99.28; ppl:  1.03; xent: 0.03; lr: 1.00000; 9892/10295 tok/s;   1455 sec\n",
            "[2022-06-29 14:33:38,895 INFO] Step 8650/20000; acc:  99.21; ppl:  1.05; xent: 0.05; lr: 1.00000; 9822/10232 tok/s;   1463 sec\n",
            "[2022-06-29 14:33:46,352 INFO] Step 8700/20000; acc:  99.49; ppl:  1.03; xent: 0.03; lr: 1.00000; 10061/10504 tok/s;   1470 sec\n",
            "[2022-06-29 14:33:47,135 INFO] Weighted corpora loaded so far:\n",
            "\t\t\t* corpus: 58\n",
            "[2022-06-29 14:33:54,368 INFO] Step 8750/20000; acc:  99.09; ppl:  1.05; xent: 0.05; lr: 1.00000; 9838/10255 tok/s;   1478 sec\n",
            "[2022-06-29 14:34:02,805 INFO] Step 8800/20000; acc:  99.03; ppl:  1.05; xent: 0.05; lr: 1.00000; 9845/10240 tok/s;   1487 sec\n",
            "[2022-06-29 14:34:07,622 INFO] Weighted corpora loaded so far:\n",
            "\t\t\t* corpus: 59\n",
            "[2022-06-29 14:34:10,924 INFO] Step 8850/20000; acc:  98.98; ppl:  1.05; xent: 0.05; lr: 1.00000; 9760/10169 tok/s;   1495 sec\n",
            "[2022-06-29 14:34:19,345 INFO] Step 8900/20000; acc:  99.23; ppl:  1.04; xent: 0.04; lr: 1.00000; 9519/9919 tok/s;   1503 sec\n",
            "[2022-06-29 14:34:26,776 INFO] Step 8950/20000; acc:  99.34; ppl:  1.03; xent: 0.03; lr: 1.00000; 10164/10610 tok/s;   1511 sec\n",
            "[2022-06-29 14:34:34,961 INFO] Step 9000/20000; acc:  99.09; ppl:  1.05; xent: 0.05; lr: 1.00000; 9809/10213 tok/s;   1519 sec\n",
            "[2022-06-29 14:34:41,087 INFO] Validation perplexity: 1.4207\n",
            "[2022-06-29 14:34:41,087 INFO] Validation accuracy: 96.4395\n",
            "[2022-06-29 14:34:44,835 INFO] Weighted corpora loaded so far:\n",
            "\t\t\t* corpus: 60\n",
            "[2022-06-29 14:34:49,444 INFO] Step 9050/20000; acc:  99.15; ppl:  1.04; xent: 0.04; lr: 1.00000; 5686/5919 tok/s;   1534 sec\n",
            "[2022-06-29 14:34:57,512 INFO] Step 9100/20000; acc:  99.17; ppl:  1.04; xent: 0.04; lr: 1.00000; 9823/10234 tok/s;   1542 sec\n",
            "[2022-06-29 14:35:04,997 INFO] Step 9150/20000; acc:  99.52; ppl:  1.02; xent: 0.02; lr: 1.00000; 10164/10605 tok/s;   1549 sec\n",
            "[2022-06-29 14:35:05,448 INFO] Weighted corpora loaded so far:\n",
            "\t\t\t* corpus: 61\n",
            "[2022-06-29 14:35:13,141 INFO] Step 9200/20000; acc:  99.12; ppl:  1.04; xent: 0.04; lr: 1.00000; 9668/10079 tok/s;   1557 sec\n",
            "[2022-06-29 14:35:21,393 INFO] Step 9250/20000; acc:  98.92; ppl:  1.06; xent: 0.06; lr: 1.00000; 9819/10224 tok/s;   1565 sec\n",
            "[2022-06-29 14:35:29,568 INFO] Step 9300/20000; acc:  98.90; ppl:  1.06; xent: 0.06; lr: 1.00000; 9917/10324 tok/s;   1574 sec\n",
            "[2022-06-29 14:35:36,227 INFO] Weighted corpora loaded so far:\n",
            "\t\t\t* corpus: 62\n",
            "[2022-06-29 14:35:37,955 INFO] Step 9350/20000; acc:  98.99; ppl:  1.06; xent: 0.06; lr: 1.00000; 9916/10318 tok/s;   1582 sec\n",
            "[2022-06-29 14:35:45,047 INFO] Step 9400/20000; acc:  99.36; ppl:  1.03; xent: 0.03; lr: 1.00000; 10005/10470 tok/s;   1589 sec\n",
            "[2022-06-29 14:35:53,385 INFO] Step 9450/20000; acc:  99.03; ppl:  1.05; xent: 0.05; lr: 1.00000; 9696/10094 tok/s;   1597 sec\n",
            "[2022-06-29 14:35:56,881 INFO] Weighted corpora loaded so far:\n",
            "\t\t\t* corpus: 63\n",
            "[2022-06-29 14:36:01,764 INFO] Step 9500/20000; acc:  99.16; ppl:  1.05; xent: 0.05; lr: 1.00000; 9858/10259 tok/s;   1606 sec\n",
            "[2022-06-29 14:36:09,968 INFO] Step 9550/20000; acc:  99.00; ppl:  1.05; xent: 0.05; lr: 1.00000; 9872/10276 tok/s;   1614 sec\n",
            "[2022-06-29 14:36:17,316 INFO] Step 9600/20000; acc:  99.34; ppl:  1.03; xent: 0.03; lr: 1.00000; 10140/10594 tok/s;   1621 sec\n",
            "[2022-06-29 14:36:17,335 INFO] Weighted corpora loaded so far:\n",
            "\t\t\t* corpus: 64\n",
            "[2022-06-29 14:36:25,266 INFO] Step 9650/20000; acc:  98.79; ppl:  1.07; xent: 0.07; lr: 1.00000; 9723/10140 tok/s;   1629 sec\n",
            "[2022-06-29 14:36:34,239 INFO] Step 9700/20000; acc:  98.56; ppl:  1.08; xent: 0.08; lr: 1.00000; 8988/9362 tok/s;   1638 sec\n",
            "[2022-06-29 14:36:42,948 INFO] Step 9750/20000; acc:  98.58; ppl:  1.08; xent: 0.08; lr: 1.00000; 9532/9912 tok/s;   1647 sec\n",
            "[2022-06-29 14:36:49,515 INFO] Weighted corpora loaded so far:\n",
            "\t\t\t* corpus: 65\n",
            "[2022-06-29 14:36:51,460 INFO] Step 9800/20000; acc:  98.79; ppl:  1.07; xent: 0.07; lr: 1.00000; 9631/10027 tok/s;   1656 sec\n",
            "[2022-06-29 14:36:58,706 INFO] Step 9850/20000; acc:  99.29; ppl:  1.04; xent: 0.03; lr: 1.00000; 9927/10383 tok/s;   1663 sec\n",
            "[2022-06-29 14:37:06,838 INFO] Step 9900/20000; acc:  98.89; ppl:  1.06; xent: 0.05; lr: 1.00000; 9764/10170 tok/s;   1671 sec\n",
            "[2022-06-29 14:37:10,229 INFO] Weighted corpora loaded so far:\n",
            "\t\t\t* corpus: 66\n",
            "[2022-06-29 14:37:15,433 INFO] Step 9950/20000; acc:  98.99; ppl:  1.06; xent: 0.06; lr: 1.00000; 9798/10191 tok/s;   1680 sec\n",
            "[2022-06-29 14:37:23,660 INFO] Step 10000/20000; acc:  98.76; ppl:  1.07; xent: 0.07; lr: 1.00000; 9766/10174 tok/s;   1688 sec\n",
            "[2022-06-29 14:37:29,686 INFO] Validation perplexity: 1.50432\n",
            "[2022-06-29 14:37:29,686 INFO] Validation accuracy: 96.0141\n",
            "[2022-06-29 14:37:29,688 INFO] Saving checkpoint ./saved_models/simple-lstm/final-model_step_10000.pt\n",
            "[2022-06-29 14:37:37,535 INFO] Step 10050/20000; acc:  98.90; ppl:  1.07; xent: 0.06; lr: 1.00000; 5518/5758 tok/s;   1702 sec\n",
            "[2022-06-29 14:37:45,201 INFO] Step 10100/20000; acc:  98.90; ppl:  1.06; xent: 0.06; lr: 1.00000; 10169/10601 tok/s;   1709 sec\n",
            "[2022-06-29 14:37:47,157 INFO] Weighted corpora loaded so far:\n",
            "\t\t\t* corpus: 67\n",
            "[2022-06-29 14:37:53,276 INFO] Step 10150/20000; acc:  98.77; ppl:  1.07; xent: 0.06; lr: 1.00000; 9772/10187 tok/s;   1717 sec\n",
            "[2022-06-29 14:38:01,645 INFO] Step 10200/20000; acc:  98.61; ppl:  1.08; xent: 0.08; lr: 1.00000; 9938/10332 tok/s;   1726 sec\n",
            "[2022-06-29 14:38:07,705 INFO] Weighted corpora loaded so far:\n",
            "\t\t\t* corpus: 68\n",
            "[2022-06-29 14:38:09,912 INFO] Step 10250/20000; acc:  98.48; ppl:  1.09; xent: 0.09; lr: 1.00000; 9730/10137 tok/s;   1734 sec\n",
            "[2022-06-29 14:38:17,231 INFO] Step 10300/20000; acc:  99.16; ppl:  1.04; xent: 0.04; lr: 1.00000; 10054/10503 tok/s;   1741 sec\n",
            "[2022-06-29 14:38:25,438 INFO] Step 10350/20000; acc:  98.50; ppl:  1.08; xent: 0.08; lr: 1.00000; 9646/10055 tok/s;   1750 sec\n",
            "[2022-06-29 14:38:28,376 INFO] Weighted corpora loaded so far:\n",
            "\t\t\t* corpus: 69\n",
            "[2022-06-29 14:38:33,895 INFO] Step 10400/20000; acc:  98.68; ppl:  1.08; xent: 0.08; lr: 1.00000; 9848/10243 tok/s;   1758 sec\n",
            "[2022-06-29 14:38:42,086 INFO] Step 10450/20000; acc:  98.31; ppl:  1.11; xent: 0.10; lr: 1.00000; 9680/10088 tok/s;   1766 sec\n",
            "[2022-06-29 14:38:50,375 INFO] Step 10500/20000; acc:  98.54; ppl:  1.09; xent: 0.09; lr: 1.00000; 9591/9993 tok/s;   1774 sec\n",
            "[2022-06-29 14:38:58,128 INFO] Step 10550/20000; acc:  98.76; ppl:  1.08; xent: 0.07; lr: 1.00000; 9931/10357 tok/s;   1782 sec\n",
            "[2022-06-29 14:38:59,773 INFO] Weighted corpora loaded so far:\n",
            "\t\t\t* corpus: 70\n",
            "[2022-06-29 14:39:06,236 INFO] Step 10600/20000; acc:  98.59; ppl:  1.08; xent: 0.08; lr: 1.00000; 9743/10156 tok/s;   1790 sec\n",
            "[2022-06-29 14:39:14,709 INFO] Step 10650/20000; acc:  98.48; ppl:  1.09; xent: 0.08; lr: 1.00000; 9765/10154 tok/s;   1799 sec\n",
            "[2022-06-29 14:39:20,532 INFO] Weighted corpora loaded so far:\n",
            "\t\t\t* corpus: 71\n",
            "[2022-06-29 14:39:23,109 INFO] Step 10700/20000; acc:  98.42; ppl:  1.08; xent: 0.08; lr: 1.00000; 9620/10023 tok/s;   1807 sec\n",
            "[2022-06-29 14:39:30,743 INFO] Step 10750/20000; acc:  98.88; ppl:  1.06; xent: 0.06; lr: 1.00000; 9823/10260 tok/s;   1815 sec\n",
            "[2022-06-29 14:39:38,892 INFO] Step 10800/20000; acc:  98.42; ppl:  1.09; xent: 0.09; lr: 1.00000; 9560/9965 tok/s;   1823 sec\n",
            "[2022-06-29 14:39:47,339 INFO] Step 10850/20000; acc:  98.34; ppl:  1.10; xent: 0.09; lr: 1.00000; 9673/10069 tok/s;   1831 sec\n",
            "[2022-06-29 14:39:52,130 INFO] Weighted corpora loaded so far:\n",
            "\t\t\t* corpus: 72\n",
            "[2022-06-29 14:39:55,875 INFO] Step 10900/20000; acc:  98.30; ppl:  1.11; xent: 0.10; lr: 1.00000; 9555/9952 tok/s;   1840 sec\n",
            "[2022-06-29 14:40:04,339 INFO] Step 10950/20000; acc:  98.57; ppl:  1.08; xent: 0.08; lr: 1.00000; 9668/10059 tok/s;   1848 sec\n",
            "[2022-06-29 14:40:11,710 INFO] Step 11000/20000; acc:  99.12; ppl:  1.05; xent: 0.05; lr: 1.00000; 9801/10249 tok/s;   1856 sec\n",
            "[2022-06-29 14:40:17,954 INFO] Validation perplexity: 1.49972\n",
            "[2022-06-29 14:40:17,954 INFO] Validation accuracy: 95.8505\n",
            "[2022-06-29 14:40:19,445 INFO] Weighted corpora loaded so far:\n",
            "\t\t\t* corpus: 73\n",
            "[2022-06-29 14:40:26,367 INFO] Step 11050/20000; acc:  98.55; ppl:  1.08; xent: 0.08; lr: 1.00000; 5455/5683 tok/s;   1870 sec\n",
            "[2022-06-29 14:40:34,837 INFO] Step 11100/20000; acc:  98.50; ppl:  1.08; xent: 0.08; lr: 1.00000; 9735/10125 tok/s;   1879 sec\n",
            "[2022-06-29 14:40:40,458 INFO] Weighted corpora loaded so far:\n",
            "\t\t\t* corpus: 74\n",
            "[2022-06-29 14:40:43,293 INFO] Step 11150/20000; acc:  98.40; ppl:  1.09; xent: 0.09; lr: 1.00000; 9659/10057 tok/s;   1887 sec\n",
            "[2022-06-29 14:40:50,906 INFO] Step 11200/20000; acc:  98.81; ppl:  1.07; xent: 0.06; lr: 1.00000; 9831/10269 tok/s;   1895 sec\n",
            "[2022-06-29 14:40:59,027 INFO] Step 11250/20000; acc:  98.16; ppl:  1.12; xent: 0.11; lr: 1.00000; 9424/9830 tok/s;   1903 sec\n",
            "[2022-06-29 14:41:07,491 INFO] Step 11300/20000; acc:  98.28; ppl:  1.09; xent: 0.09; lr: 1.00000; 9571/9963 tok/s;   1912 sec\n",
            "[2022-06-29 14:41:12,044 INFO] Weighted corpora loaded so far:\n",
            "\t\t\t* corpus: 75\n",
            "[2022-06-29 14:41:16,041 INFO] Step 11350/20000; acc:  98.29; ppl:  1.10; xent: 0.09; lr: 1.00000; 9703/10100 tok/s;   1920 sec\n",
            "[2022-06-29 14:41:24,371 INFO] Step 11400/20000; acc:  98.16; ppl:  1.11; xent: 0.10; lr: 1.00000; 9687/10084 tok/s;   1928 sec\n",
            "[2022-06-29 14:41:31,912 INFO] Step 11450/20000; acc:  98.98; ppl:  1.05; xent: 0.05; lr: 1.00000; 9871/10308 tok/s;   1936 sec\n",
            "[2022-06-29 14:41:33,004 INFO] Weighted corpora loaded so far:\n",
            "\t\t\t* corpus: 76\n",
            "[2022-06-29 14:41:40,344 INFO] Step 11500/20000; acc:  98.25; ppl:  1.10; xent: 0.09; lr: 1.00000; 9343/9741 tok/s;   1944 sec\n",
            "[2022-06-29 14:41:48,957 INFO] Step 11550/20000; acc:  98.23; ppl:  1.11; xent: 0.10; lr: 1.00000; 9652/10040 tok/s;   1953 sec\n",
            "[2022-06-29 14:41:57,328 INFO] Step 11600/20000; acc:  98.21; ppl:  1.10; xent: 0.10; lr: 1.00000; 9566/9963 tok/s;   1961 sec\n",
            "[2022-06-29 14:42:04,835 INFO] Weighted corpora loaded so far:\n",
            "\t\t\t* corpus: 77\n",
            "[2022-06-29 14:42:05,522 INFO] Step 11650/20000; acc:  98.44; ppl:  1.09; xent: 0.09; lr: 1.00000; 9535/9946 tok/s;   1970 sec\n",
            "[2022-06-29 14:42:13,305 INFO] Step 11700/20000; acc:  98.77; ppl:  1.06; xent: 0.06; lr: 1.00000; 9809/10234 tok/s;   1977 sec\n",
            "[2022-06-29 14:42:21,603 INFO] Step 11750/20000; acc:  98.55; ppl:  1.08; xent: 0.08; lr: 1.00000; 9590/9990 tok/s;   1986 sec\n",
            "[2022-06-29 14:42:25,939 INFO] Weighted corpora loaded so far:\n",
            "\t\t\t* corpus: 78\n",
            "[2022-06-29 14:42:30,352 INFO] Step 11800/20000; acc:  98.32; ppl:  1.10; xent: 0.10; lr: 1.00000; 9526/9911 tok/s;   1994 sec\n",
            "[2022-06-29 14:42:38,592 INFO] Step 11850/20000; acc:  98.44; ppl:  1.09; xent: 0.09; lr: 1.00000; 9622/10025 tok/s;   2003 sec\n",
            "[2022-06-29 14:42:46,001 INFO] Step 11900/20000; acc:  98.90; ppl:  1.06; xent: 0.06; lr: 1.00000; 10060/10505 tok/s;   2010 sec\n",
            "[2022-06-29 14:42:46,800 INFO] Weighted corpora loaded so far:\n",
            "\t\t\t* corpus: 79\n",
            "[2022-06-29 14:42:54,203 INFO] Step 11950/20000; acc:  98.14; ppl:  1.11; xent: 0.10; lr: 1.00000; 9709/10113 tok/s;   2018 sec\n",
            "[2022-06-29 14:43:02,856 INFO] Step 12000/20000; acc:  97.91; ppl:  1.13; xent: 0.13; lr: 1.00000; 9600/9992 tok/s;   2027 sec\n",
            "[2022-06-29 14:43:09,055 INFO] Validation perplexity: 1.54538\n",
            "[2022-06-29 14:43:09,055 INFO] Validation accuracy: 95.5374\n",
            "[2022-06-29 14:43:17,287 INFO] Step 12050/20000; acc:  98.05; ppl:  1.12; xent: 0.12; lr: 1.00000; 5477/5706 tok/s;   2041 sec\n",
            "[2022-06-29 14:43:24,471 INFO] Weighted corpora loaded so far:\n",
            "\t\t\t* corpus: 80\n",
            "[2022-06-29 14:43:25,630 INFO] Step 12100/20000; acc:  98.33; ppl:  1.10; xent: 0.10; lr: 1.00000; 9641/10042 tok/s;   2050 sec\n",
            "[2022-06-29 14:43:33,278 INFO] Step 12150/20000; acc:  98.48; ppl:  1.09; xent: 0.08; lr: 1.00000; 9846/10281 tok/s;   2057 sec\n",
            "[2022-06-29 14:43:41,594 INFO] Step 12200/20000; acc:  97.89; ppl:  1.13; xent: 0.13; lr: 1.00000; 9637/10033 tok/s;   2066 sec\n",
            "[2022-06-29 14:43:45,497 INFO] Weighted corpora loaded so far:\n",
            "\t\t\t* corpus: 81\n",
            "[2022-06-29 14:43:50,215 INFO] Step 12250/20000; acc:  97.40; ppl:  1.16; xent: 0.15; lr: 1.00000; 9646/10038 tok/s;   2074 sec\n",
            "[2022-06-29 14:43:58,525 INFO] Step 12300/20000; acc:  97.08; ppl:  1.19; xent: 0.18; lr: 1.00000; 9638/10039 tok/s;   2083 sec\n",
            "[2022-06-29 14:44:06,027 INFO] Step 12350/20000; acc:  97.98; ppl:  1.11; xent: 0.11; lr: 1.00000; 9861/10304 tok/s;   2090 sec\n",
            "[2022-06-29 14:44:14,234 INFO] Step 12400/20000; acc:  96.40; ppl:  1.22; xent: 0.20; lr: 1.00000; 9648/10054 tok/s;   2098 sec\n",
            "[2022-06-29 14:44:17,005 INFO] Weighted corpora loaded so far:\n",
            "\t\t\t* corpus: 82\n",
            "[2022-06-29 14:44:22,685 INFO] Step 12450/20000; acc:  97.15; ppl:  1.18; xent: 0.16; lr: 1.00000; 9605/10005 tok/s;   2107 sec\n",
            "[2022-06-29 14:44:31,174 INFO] Step 12500/20000; acc:  97.13; ppl:  1.18; xent: 0.16; lr: 1.00000; 9546/9934 tok/s;   2115 sec\n",
            "[2022-06-29 14:44:38,222 INFO] Weighted corpora loaded so far:\n",
            "\t\t\t* corpus: 83\n",
            "[2022-06-29 14:44:39,993 INFO] Step 12550/20000; acc:  96.75; ppl:  1.20; xent: 0.19; lr: 1.00000; 9428/9808 tok/s;   2124 sec\n",
            "[2022-06-29 14:44:47,250 INFO] Step 12600/20000; acc:  98.17; ppl:  1.11; xent: 0.10; lr: 1.00000; 9747/10201 tok/s;   2131 sec\n",
            "[2022-06-29 14:44:55,667 INFO] Step 12650/20000; acc:  96.68; ppl:  1.21; xent: 0.19; lr: 1.00000; 9592/9986 tok/s;   2140 sec\n",
            "[2022-06-29 14:44:59,295 INFO] Weighted corpora loaded so far:\n",
            "\t\t\t* corpus: 84\n",
            "[2022-06-29 14:45:04,292 INFO] Step 12700/20000; acc:  97.01; ppl:  1.18; xent: 0.17; lr: 1.00000; 9624/10013 tok/s;   2148 sec\n",
            "[2022-06-29 14:45:12,787 INFO] Step 12750/20000; acc:  97.08; ppl:  1.18; xent: 0.16; lr: 1.00000; 9590/9988 tok/s;   2157 sec\n",
            "[2022-06-29 14:45:20,249 INFO] Step 12800/20000; acc:  97.90; ppl:  1.12; xent: 0.11; lr: 1.00000; 9950/10394 tok/s;   2164 sec\n",
            "[2022-06-29 14:45:28,201 INFO] Step 12850/20000; acc:  97.28; ppl:  1.16; xent: 0.15; lr: 1.00000; 9731/10148 tok/s;   2172 sec\n",
            "[2022-06-29 14:45:30,683 INFO] Weighted corpora loaded so far:\n",
            "\t\t\t* corpus: 85\n",
            "[2022-06-29 14:45:36,543 INFO] Step 12900/20000; acc:  97.16; ppl:  1.16; xent: 0.15; lr: 1.00000; 9623/10028 tok/s;   2181 sec\n",
            "[2022-06-29 14:45:45,062 INFO] Step 12950/20000; acc:  96.47; ppl:  1.21; xent: 0.19; lr: 1.00000; 9717/10103 tok/s;   2189 sec\n",
            "[2022-06-29 14:45:51,582 INFO] Weighted corpora loaded so far:\n",
            "\t\t\t* corpus: 86\n",
            "[2022-06-29 14:45:53,505 INFO] Step 13000/20000; acc:  97.05; ppl:  1.19; xent: 0.17; lr: 1.00000; 9696/10093 tok/s;   2198 sec\n",
            "[2022-06-29 14:45:59,732 INFO] Validation perplexity: 1.48739\n",
            "[2022-06-29 14:45:59,732 INFO] Validation accuracy: 95.2429\n",
            "[2022-06-29 14:46:07,287 INFO] Step 13050/20000; acc:  98.07; ppl:  1.10; xent: 0.10; lr: 1.00000; 5360/5601 tok/s;   2211 sec\n",
            "[2022-06-29 14:46:15,405 INFO] Step 13100/20000; acc:  96.77; ppl:  1.19; xent: 0.17; lr: 1.00000; 9617/10024 tok/s;   2220 sec\n",
            "[2022-06-29 14:46:23,986 INFO] Step 13150/20000; acc:  96.83; ppl:  1.18; xent: 0.17; lr: 1.00000; 9712/10105 tok/s;   2228 sec\n",
            "[2022-06-29 14:46:29,261 INFO] Weighted corpora loaded so far:\n",
            "\t\t\t* corpus: 87\n",
            "[2022-06-29 14:46:32,343 INFO] Step 13200/20000; acc:  96.43; ppl:  1.22; xent: 0.20; lr: 1.00000; 9646/10048 tok/s;   2236 sec\n",
            "[2022-06-29 14:46:40,490 INFO] Step 13250/20000; acc:  96.32; ppl:  1.25; xent: 0.23; lr: 1.00000; 9402/9812 tok/s;   2245 sec\n",
            "[2022-06-29 14:46:48,269 INFO] Step 13300/20000; acc:  96.17; ppl:  1.24; xent: 0.21; lr: 1.00000; 10041/10462 tok/s;   2252 sec\n",
            "[2022-06-29 14:46:50,271 INFO] Weighted corpora loaded so far:\n",
            "\t\t\t* corpus: 88\n",
            "[2022-06-29 14:46:56,425 INFO] Step 13350/20000; acc:  95.78; ppl:  1.28; xent: 0.25; lr: 1.00000; 9640/10048 tok/s;   2261 sec\n",
            "[2022-06-29 14:47:04,978 INFO] Step 13400/20000; acc:  95.64; ppl:  1.29; xent: 0.26; lr: 1.00000; 9715/10106 tok/s;   2269 sec\n",
            "[2022-06-29 14:47:11,178 INFO] Weighted corpora loaded so far:\n",
            "\t\t\t* corpus: 89\n",
            "[2022-06-29 14:47:13,439 INFO] Step 13450/20000; acc:  95.66; ppl:  1.29; xent: 0.26; lr: 1.00000; 9546/9941 tok/s;   2278 sec\n",
            "[2022-06-29 14:47:20,842 INFO] Step 13500/20000; acc:  97.08; ppl:  1.17; xent: 0.16; lr: 1.00000; 10070/10519 tok/s;   2285 sec\n",
            "[2022-06-29 14:47:28,917 INFO] Step 13550/20000; acc:  94.93; ppl:  1.37; xent: 0.31; lr: 1.00000; 9738/10150 tok/s;   2293 sec\n",
            "[2022-06-29 14:47:37,463 INFO] Step 13600/20000; acc:  95.11; ppl:  1.35; xent: 0.30; lr: 1.00000; 9756/10144 tok/s;   2302 sec\n",
            "[2022-06-29 14:47:42,385 INFO] Weighted corpora loaded so far:\n",
            "\t\t\t* corpus: 90\n",
            "[2022-06-29 14:47:45,644 INFO] Step 13650/20000; acc:  95.27; ppl:  1.33; xent: 0.28; lr: 1.00000; 9702/10116 tok/s;   2310 sec\n",
            "[2022-06-29 14:47:53,714 INFO] Step 13700/20000; acc:  94.54; ppl:  1.39; xent: 0.33; lr: 1.00000; 9816/10230 tok/s;   2318 sec\n",
            "[2022-06-29 14:48:01,429 INFO] Step 13750/20000; acc:  95.14; ppl:  1.32; xent: 0.28; lr: 1.00000; 9936/10362 tok/s;   2326 sec\n",
            "[2022-06-29 14:48:03,092 INFO] Weighted corpora loaded so far:\n",
            "\t\t\t* corpus: 91\n",
            "[2022-06-29 14:48:09,869 INFO] Step 13800/20000; acc:  93.36; ppl:  1.50; xent: 0.41; lr: 1.00000; 9462/9857 tok/s;   2334 sec\n",
            "[2022-06-29 14:48:18,428 INFO] Step 13850/20000; acc:  92.24; ppl:  1.61; xent: 0.48; lr: 1.00000; 9633/10024 tok/s;   2343 sec\n",
            "[2022-06-29 14:48:26,688 INFO] Step 13900/20000; acc:  92.95; ppl:  1.56; xent: 0.44; lr: 1.00000; 9638/10043 tok/s;   2351 sec\n",
            "[2022-06-29 14:48:34,389 INFO] Step 13950/20000; acc:  93.61; ppl:  1.47; xent: 0.38; lr: 1.00000; 9787/10218 tok/s;   2358 sec\n",
            "[2022-06-29 14:48:34,789 INFO] Weighted corpora loaded so far:\n",
            "\t\t\t* corpus: 92\n",
            "[2022-06-29 14:48:42,527 INFO] Step 14000/20000; acc:  92.70; ppl:  1.58; xent: 0.46; lr: 1.00000; 9617/10027 tok/s;   2367 sec\n",
            "[2022-06-29 14:48:48,823 INFO] Validation perplexity: 1.8758\n",
            "[2022-06-29 14:48:48,823 INFO] Validation accuracy: 91.7609\n",
            "[2022-06-29 14:48:57,270 INFO] Step 14050/20000; acc:  91.95; ppl:  1.63; xent: 0.49; lr: 1.00000; 5548/5773 tok/s;   2381 sec\n",
            "[2022-06-29 14:49:01,981 INFO] Weighted corpora loaded so far:\n",
            "\t\t\t* corpus: 93\n",
            "[2022-06-29 14:49:05,654 INFO] Step 14100/20000; acc:  91.28; ppl:  1.74; xent: 0.55; lr: 1.00000; 9690/10091 tok/s;   2390 sec\n",
            "[2022-06-29 14:49:14,055 INFO] Step 14150/20000; acc:  90.33; ppl:  1.81; xent: 0.59; lr: 1.00000; 9655/10051 tok/s;   2398 sec\n",
            "[2022-06-29 14:49:21,428 INFO] Step 14200/20000; acc:  90.56; ppl:  1.75; xent: 0.56; lr: 1.00000; 9860/10309 tok/s;   2406 sec\n",
            "[2022-06-29 14:49:22,905 INFO] Weighted corpora loaded so far:\n",
            "\t\t\t* corpus: 94\n",
            "[2022-06-29 14:49:29,772 INFO] Step 14250/20000; acc:  88.90; ppl:  2.00; xent: 0.69; lr: 1.00000; 9703/10102 tok/s;   2414 sec\n",
            "[2022-06-29 14:49:38,413 INFO] Step 14300/20000; acc:  88.25; ppl:  2.08; xent: 0.73; lr: 1.00000; 9535/9922 tok/s;   2423 sec\n",
            "[2022-06-29 14:49:46,906 INFO] Step 14350/20000; acc:  86.83; ppl:  2.31; xent: 0.84; lr: 1.00000; 9556/9950 tok/s;   2431 sec\n",
            "[2022-06-29 14:49:54,491 INFO] Step 14400/20000; acc:  88.62; ppl:  1.96; xent: 0.67; lr: 1.00000; 9927/10365 tok/s;   2439 sec\n",
            "[2022-06-29 14:49:54,498 INFO] Weighted corpora loaded so far:\n",
            "\t\t\t* corpus: 95\n",
            "[2022-06-29 14:50:02,437 INFO] Step 14450/20000; acc:  88.19; ppl:  2.04; xent: 0.71; lr: 1.00000; 9594/10013 tok/s;   2447 sec\n",
            "[2022-06-29 14:50:10,901 INFO] Step 14500/20000; acc:  87.57; ppl:  2.16; xent: 0.77; lr: 1.00000; 9566/9959 tok/s;   2455 sec\n",
            "[2022-06-29 14:50:15,494 INFO] Weighted corpora loaded so far:\n",
            "\t\t\t* corpus: 96\n",
            "[2022-06-29 14:50:19,489 INFO] Step 14550/20000; acc:  87.85; ppl:  2.21; xent: 0.79; lr: 1.00000; 9699/10091 tok/s;   2464 sec\n",
            "[2022-06-29 14:50:27,656 INFO] Step 14600/20000; acc:  86.54; ppl:  2.62; xent: 0.96; lr: 1.00000; 9936/10343 tok/s;   2472 sec\n",
            "[2022-06-29 14:50:34,798 INFO] Step 14650/20000; acc:  87.69; ppl:  2.34; xent: 0.85; lr: 1.00000; 10226/10690 tok/s;   2479 sec\n",
            "[2022-06-29 14:50:42,752 INFO] Step 14700/20000; acc:  83.71; ppl:  3.06; xent: 1.12; lr: 1.00000; 9893/10311 tok/s;   2487 sec\n",
            "[2022-06-29 14:50:46,054 INFO] Weighted corpora loaded so far:\n",
            "\t\t\t* corpus: 97\n",
            "[2022-06-29 14:50:51,231 INFO] Step 14750/20000; acc:  82.48; ppl:  3.24; xent: 1.18; lr: 1.00000; 9832/10229 tok/s;   2495 sec\n",
            "[2022-06-29 14:50:59,485 INFO] Step 14800/20000; acc:  82.43; ppl:  3.28; xent: 1.19; lr: 1.00000; 9745/10147 tok/s;   2504 sec\n",
            "[2022-06-29 14:51:06,825 INFO] Weighted corpora loaded so far:\n",
            "\t\t\t* corpus: 98\n",
            "[2022-06-29 14:51:07,478 INFO] Step 14850/20000; acc:  84.54; ppl:  2.74; xent: 1.01; lr: 1.00000; 9819/10236 tok/s;   2512 sec\n",
            "[2022-06-29 14:51:14,966 INFO] Step 14900/20000; acc:  84.34; ppl:  2.75; xent: 1.01; lr: 1.00000; 10087/10528 tok/s;   2519 sec\n",
            "[2022-06-29 14:51:22,961 INFO] Step 14950/20000; acc:  83.70; ppl:  3.00; xent: 1.10; lr: 1.00000; 9954/10370 tok/s;   2527 sec\n",
            "[2022-06-29 14:51:27,167 INFO] Weighted corpora loaded so far:\n",
            "\t\t\t* corpus: 99\n",
            "[2022-06-29 14:51:31,486 INFO] Step 15000/20000; acc:  81.73; ppl:  3.42; xent: 1.23; lr: 1.00000; 9858/10250 tok/s;   2536 sec\n",
            "[2022-06-29 14:51:37,751 INFO] Validation perplexity: 3.2756\n",
            "[2022-06-29 14:51:37,751 INFO] Validation accuracy: 82.9808\n",
            "[2022-06-29 14:51:37,753 INFO] Saving checkpoint ./saved_models/simple-lstm/final-model_step_15000.pt\n",
            "[2022-06-29 14:51:45,923 INFO] Step 15050/20000; acc:  84.89; ppl:  2.70; xent: 0.99; lr: 1.00000; 5542/5775 tok/s;   2550 sec\n",
            "[2022-06-29 14:51:53,193 INFO] Step 15100/20000; acc:  86.70; ppl:  2.42; xent: 0.89; lr: 1.00000; 10127/10582 tok/s;   2557 sec\n",
            "[2022-06-29 14:52:01,369 INFO] Step 15150/20000; acc:  83.85; ppl:  3.03; xent: 1.11; lr: 1.00000; 9760/10166 tok/s;   2565 sec\n",
            "[2022-06-29 14:52:04,354 INFO] Weighted corpora loaded so far:\n",
            "\t\t\t* corpus: 100\n",
            "[2022-06-29 14:52:09,850 INFO] Step 15200/20000; acc:  82.25; ppl:  3.23; xent: 1.17; lr: 1.00000; 9777/10179 tok/s;   2574 sec\n",
            "[2022-06-29 14:52:17,902 INFO] Step 15250/20000; acc:  81.72; ppl:  3.68; xent: 1.30; lr: 1.00000; 9812/10220 tok/s;   2582 sec\n",
            "[2022-06-29 14:52:24,819 INFO] Weighted corpora loaded so far:\n",
            "\t\t\t* corpus: 101\n",
            "[2022-06-29 14:52:25,976 INFO] Step 15300/20000; acc:  79.64; ppl:  4.09; xent: 1.41; lr: 1.00000; 9984/10398 tok/s;   2590 sec\n",
            "[2022-06-29 14:52:33,304 INFO] Step 15350/20000; acc:  81.86; ppl:  3.35; xent: 1.21; lr: 1.00000; 10311/10765 tok/s;   2597 sec\n",
            "[2022-06-29 14:52:41,229 INFO] Step 15400/20000; acc:  79.95; ppl:  3.79; xent: 1.33; lr: 1.00000; 10037/10454 tok/s;   2605 sec\n",
            "[2022-06-29 14:52:44,965 INFO] Weighted corpora loaded so far:\n",
            "\t\t\t* corpus: 102\n",
            "[2022-06-29 14:52:49,592 INFO] Step 15450/20000; acc:  79.57; ppl:  3.92; xent: 1.37; lr: 1.00000; 9883/10284 tok/s;   2614 sec\n",
            "[2022-06-29 14:52:57,760 INFO] Step 15500/20000; acc:  79.98; ppl:  3.82; xent: 1.34; lr: 1.00000; 9820/10232 tok/s;   2622 sec\n",
            "[2022-06-29 14:53:05,211 INFO] Step 15550/20000; acc:  79.92; ppl:  3.62; xent: 1.29; lr: 1.00000; 9987/10432 tok/s;   2629 sec\n",
            "[2022-06-29 14:53:13,306 INFO] Step 15600/20000; acc:  77.46; ppl:  4.33; xent: 1.46; lr: 1.00000; 9829/10238 tok/s;   2637 sec\n",
            "[2022-06-29 14:53:15,944 INFO] Weighted corpora loaded so far:\n",
            "\t\t\t* corpus: 103\n",
            "[2022-06-29 14:53:21,602 INFO] Step 15650/20000; acc:  76.37; ppl:  4.68; xent: 1.54; lr: 1.00000; 9724/10129 tok/s;   2646 sec\n",
            "[2022-06-29 14:53:29,895 INFO] Step 15700/20000; acc:  75.96; ppl:  4.66; xent: 1.54; lr: 1.00000; 9719/10116 tok/s;   2654 sec\n",
            "[2022-06-29 14:53:36,653 INFO] Weighted corpora loaded so far:\n",
            "\t\t\t* corpus: 104\n",
            "[2022-06-29 14:53:38,411 INFO] Step 15750/20000; acc:  74.18; ppl:  4.97; xent: 1.60; lr: 1.00000; 9799/10194 tok/s;   2663 sec\n",
            "[2022-06-29 14:53:45,554 INFO] Step 15800/20000; acc:  79.88; ppl:  3.25; xent: 1.18; lr: 1.00000; 10079/10544 tok/s;   2670 sec\n",
            "[2022-06-29 14:53:53,814 INFO] Step 15850/20000; acc:  75.19; ppl:  4.87; xent: 1.58; lr: 1.00000; 9707/10107 tok/s;   2678 sec\n",
            "[2022-06-29 14:54:02,176 INFO] Step 15900/20000; acc:  73.30; ppl:  6.34; xent: 1.85; lr: 1.00000; 9891/10293 tok/s;   2686 sec\n",
            "[2022-06-29 14:54:07,700 INFO] Weighted corpora loaded so far:\n",
            "\t\t\t* corpus: 105\n",
            "[2022-06-29 14:54:10,596 INFO] Step 15950/20000; acc:  73.84; ppl:  5.53; xent: 1.71; lr: 1.00000; 9688/10088 tok/s;   2695 sec\n",
            "[2022-06-29 14:54:18,030 INFO] Step 16000/20000; acc:  77.13; ppl:  4.08; xent: 1.41; lr: 1.00000; 9940/10384 tok/s;   2702 sec\n",
            "[2022-06-29 14:54:24,069 INFO] Validation perplexity: 4.17523\n",
            "[2022-06-29 14:54:24,069 INFO] Validation accuracy: 76.7816\n",
            "[2022-06-29 14:54:31,839 INFO] Step 16050/20000; acc:  76.53; ppl:  4.33; xent: 1.47; lr: 1.00000; 5622/5862 tok/s;   2716 sec\n",
            "[2022-06-29 14:54:34,230 INFO] Weighted corpora loaded so far:\n",
            "\t\t\t* corpus: 106\n",
            "[2022-06-29 14:54:39,919 INFO] Step 16100/20000; acc:  76.32; ppl:  4.54; xent: 1.51; lr: 1.00000; 9980/10397 tok/s;   2724 sec\n",
            "[2022-06-29 14:54:48,159 INFO] Step 16150/20000; acc:  74.28; ppl:  5.36; xent: 1.68; lr: 1.00000; 10031/10432 tok/s;   2732 sec\n",
            "[2022-06-29 14:54:54,507 INFO] Weighted corpora loaded so far:\n",
            "\t\t\t* corpus: 107\n",
            "[2022-06-29 14:54:56,365 INFO] Step 16200/20000; acc:  74.21; ppl:  5.47; xent: 1.70; lr: 1.00000; 9895/10304 tok/s;   2740 sec\n",
            "[2022-06-29 14:55:03,633 INFO] Step 16250/20000; acc:  78.19; ppl:  3.85; xent: 1.35; lr: 1.00000; 10172/10628 tok/s;   2748 sec\n",
            "[2022-06-29 14:55:11,544 INFO] Step 16300/20000; acc:  74.66; ppl:  4.65; xent: 1.54; lr: 1.00000; 9884/10303 tok/s;   2756 sec\n",
            "[2022-06-29 14:55:19,940 INFO] Step 16350/20000; acc:  73.76; ppl:  4.78; xent: 1.56; lr: 1.00000; 9990/10386 tok/s;   2764 sec\n",
            "[2022-06-29 14:55:25,075 INFO] Weighted corpora loaded so far:\n",
            "\t\t\t* corpus: 108\n",
            "[2022-06-29 14:55:28,077 INFO] Step 16400/20000; acc:  74.05; ppl:  5.24; xent: 1.66; lr: 1.00000; 9900/10314 tok/s;   2772 sec\n",
            "[2022-06-29 14:55:35,732 INFO] Step 16450/20000; acc:  75.01; ppl:  4.66; xent: 1.54; lr: 1.00000; 9904/10339 tok/s;   2780 sec\n",
            "[2022-06-29 14:55:43,346 INFO] Step 16500/20000; acc:  74.65; ppl:  4.61; xent: 1.53; lr: 1.00000; 10305/10736 tok/s;   2787 sec\n",
            "[2022-06-29 14:55:45,404 INFO] Weighted corpora loaded so far:\n",
            "\t\t\t* corpus: 109\n",
            "[2022-06-29 14:55:51,668 INFO] Step 16550/20000; acc:  72.55; ppl:  5.38; xent: 1.68; lr: 1.00000; 9575/9979 tok/s;   2796 sec\n",
            "[2022-06-29 14:56:00,191 INFO] Step 16600/20000; acc:  72.42; ppl:  4.53; xent: 1.51; lr: 1.00000; 9755/10147 tok/s;   2804 sec\n",
            "[2022-06-29 14:56:08,445 INFO] Step 16650/20000; acc:  76.08; ppl:  3.74; xent: 1.32; lr: 1.00000; 9627/10032 tok/s;   2813 sec\n",
            "[2022-06-29 14:56:16,007 INFO] Step 16700/20000; acc:  81.04; ppl:  2.83; xent: 1.04; lr: 1.00000; 9924/10362 tok/s;   2820 sec\n",
            "[2022-06-29 14:56:16,804 INFO] Weighted corpora loaded so far:\n",
            "\t\t\t* corpus: 110\n",
            "[2022-06-29 14:56:24,143 INFO] Step 16750/20000; acc:  80.11; ppl:  2.96; xent: 1.08; lr: 1.00000; 9666/10076 tok/s;   2828 sec\n",
            "[2022-06-29 14:56:32,568 INFO] Step 16800/20000; acc:  80.75; ppl:  2.39; xent: 0.87; lr: 1.00000; 9886/10282 tok/s;   2837 sec\n",
            "[2022-06-29 14:56:37,629 INFO] Weighted corpora loaded so far:\n",
            "\t\t\t* corpus: 111\n",
            "[2022-06-29 14:56:40,945 INFO] Step 16850/20000; acc:  81.14; ppl:  2.61; xent: 0.96; lr: 1.00000; 9490/9889 tok/s;   2845 sec\n",
            "[2022-06-29 14:56:49,022 INFO] Step 16900/20000; acc:  82.35; ppl:  2.15; xent: 0.76; lr: 1.00000; 9837/10250 tok/s;   2853 sec\n",
            "[2022-06-29 14:56:56,544 INFO] Step 16950/20000; acc:  84.92; ppl:  2.10; xent: 0.74; lr: 1.00000; 10077/10519 tok/s;   2861 sec\n",
            "[2022-06-29 14:56:58,192 INFO] Weighted corpora loaded so far:\n",
            "\t\t\t* corpus: 112\n",
            "[2022-06-29 14:57:04,769 INFO] Step 17000/20000; acc:  83.88; ppl:  2.25; xent: 0.81; lr: 1.00000; 9719/10122 tok/s;   2869 sec\n",
            "[2022-06-29 14:57:10,814 INFO] Validation perplexity: 2.71861\n",
            "[2022-06-29 14:57:10,815 INFO] Validation accuracy: 81.7722\n",
            "[2022-06-29 14:57:19,158 INFO] Step 17050/20000; acc:  83.19; ppl:  2.12; xent: 0.75; lr: 1.00000; 5749/5982 tok/s;   2883 sec\n",
            "[2022-06-29 14:57:27,263 INFO] Step 17100/20000; acc:  84.61; ppl:  2.05; xent: 0.72; lr: 1.00000; 9865/10276 tok/s;   2891 sec\n",
            "[2022-06-29 14:57:34,650 INFO] Step 17150/20000; acc:  86.87; ppl:  1.76; xent: 0.57; lr: 1.00000; 10258/10705 tok/s;   2899 sec\n",
            "[2022-06-29 14:57:35,046 INFO] Weighted corpora loaded so far:\n",
            "\t\t\t* corpus: 113\n",
            "[2022-06-29 14:57:43,851 INFO] Step 17200/20000; acc:  85.54; ppl:  1.85; xent: 0.62; lr: 1.00000; 8398/8760 tok/s;   2908 sec\n",
            "[2022-06-29 14:57:52,877 INFO] Step 17250/20000; acc:  84.77; ppl:  1.88; xent: 0.63; lr: 1.00000; 9052/9419 tok/s;   2917 sec\n",
            "[2022-06-29 14:57:57,590 INFO] Weighted corpora loaded so far:\n",
            "\t\t\t* corpus: 114\n",
            "[2022-06-29 14:58:01,214 INFO] Step 17300/20000; acc:  84.46; ppl:  2.03; xent: 0.71; lr: 1.00000; 9855/10258 tok/s;   2925 sec\n",
            "[2022-06-29 14:58:09,576 INFO] Step 17350/20000; acc:  84.88; ppl:  2.11; xent: 0.75; lr: 1.00000; 9872/10275 tok/s;   2934 sec\n",
            "[2022-06-29 14:58:16,362 INFO] Step 17400/20000; acc:  88.51; ppl:  1.62; xent: 0.49; lr: 1.00000; 10440/10925 tok/s;   2940 sec\n",
            "[2022-06-29 14:58:24,450 INFO] Step 17450/20000; acc:  85.80; ppl:  1.84; xent: 0.61; lr: 1.00000; 10013/10424 tok/s;   2949 sec\n",
            "[2022-06-29 14:58:27,988 INFO] Weighted corpora loaded so far:\n",
            "\t\t\t* corpus: 115\n",
            "[2022-06-29 14:58:32,736 INFO] Step 17500/20000; acc:  85.57; ppl:  2.00; xent: 0.69; lr: 1.00000; 9954/10364 tok/s;   2957 sec\n",
            "[2022-06-29 14:58:40,752 INFO] Step 17550/20000; acc:  85.87; ppl:  1.86; xent: 0.62; lr: 1.00000; 10101/10513 tok/s;   2965 sec\n",
            "[2022-06-29 14:58:48,039 INFO] Step 17600/20000; acc:  88.29; ppl:  1.64; xent: 0.49; lr: 1.00000; 10353/10807 tok/s;   2972 sec\n",
            "[2022-06-29 14:58:48,049 INFO] Weighted corpora loaded so far:\n",
            "\t\t\t* corpus: 116\n",
            "[2022-06-29 14:58:55,719 INFO] Step 17650/20000; acc:  87.65; ppl:  1.70; xent: 0.53; lr: 1.00000; 9941/10374 tok/s;   2980 sec\n",
            "[2022-06-29 14:59:03,757 INFO] Step 17700/20000; acc:  86.08; ppl:  1.81; xent: 0.59; lr: 1.00000; 10015/10430 tok/s;   2988 sec\n",
            "[2022-06-29 14:59:08,160 INFO] Weighted corpora loaded so far:\n",
            "\t\t\t* corpus: 117\n",
            "[2022-06-29 14:59:12,037 INFO] Step 17750/20000; acc:  83.80; ppl:  2.46; xent: 0.90; lr: 1.00000; 10015/10419 tok/s;   2996 sec\n",
            "[2022-06-29 14:59:20,182 INFO] Step 17800/20000; acc:  83.20; ppl:  2.52; xent: 0.92; lr: 1.00000; 10018/10431 tok/s;   3004 sec\n",
            "[2022-06-29 14:59:27,161 INFO] Step 17850/20000; acc:  86.77; ppl:  2.00; xent: 0.69; lr: 1.00000; 10478/10949 tok/s;   3011 sec\n",
            "[2022-06-29 14:59:35,130 INFO] Step 17900/20000; acc:  84.10; ppl:  2.30; xent: 0.83; lr: 1.00000; 9963/10380 tok/s;   3019 sec\n",
            "[2022-06-29 14:59:38,421 INFO] Weighted corpora loaded so far:\n",
            "\t\t\t* corpus: 118\n",
            "[2022-06-29 14:59:43,373 INFO] Step 17950/20000; acc:  83.78; ppl:  2.34; xent: 0.85; lr: 1.00000; 10085/10495 tok/s;   3027 sec\n",
            "[2022-06-29 14:59:51,314 INFO] Step 18000/20000; acc:  82.73; ppl:  2.40; xent: 0.88; lr: 1.00000; 10049/10464 tok/s;   3035 sec\n",
            "[2022-06-29 14:59:57,300 INFO] Validation perplexity: 2.85625\n",
            "[2022-06-29 14:59:57,300 INFO] Validation accuracy: 82.1376\n",
            "[2022-06-29 15:00:04,549 INFO] Weighted corpora loaded so far:\n",
            "\t\t\t* corpus: 119\n",
            "[2022-06-29 15:00:05,293 INFO] Step 18050/20000; acc:  82.67; ppl:  2.48; xent: 0.91; lr: 1.00000; 5605/5843 tok/s;   3049 sec\n",
            "[2022-06-29 15:00:12,808 INFO] Step 18100/20000; acc:  82.73; ppl:  2.41; xent: 0.88; lr: 1.00000; 10308/10753 tok/s;   3057 sec\n",
            "[2022-06-29 15:00:20,582 INFO] Step 18150/20000; acc:  81.67; ppl:  2.49; xent: 0.91; lr: 1.00000; 10143/10567 tok/s;   3065 sec\n",
            "[2022-06-29 15:00:28,802 INFO] Step 18200/20000; acc:  79.60; ppl:  2.86; xent: 1.05; lr: 1.00000; 10129/10537 tok/s;   3073 sec\n",
            "[2022-06-29 15:00:34,873 INFO] Weighted corpora loaded so far:\n",
            "\t\t\t* corpus: 120\n",
            "[2022-06-29 15:00:37,001 INFO] Step 18250/20000; acc:  79.45; ppl:  2.74; xent: 1.01; lr: 1.00000; 9814/10226 tok/s;   3081 sec\n",
            "[2022-06-29 15:00:44,208 INFO] Step 18300/20000; acc:  84.95; ppl:  2.02; xent: 0.70; lr: 1.00000; 10194/10651 tok/s;   3088 sec\n",
            "[2022-06-29 15:00:52,211 INFO] Step 18350/20000; acc:  82.69; ppl:  2.36; xent: 0.86; lr: 1.00000; 9950/10365 tok/s;   3096 sec\n",
            "[2022-06-29 15:00:55,113 INFO] Weighted corpora loaded so far:\n",
            "\t\t\t* corpus: 121\n",
            "[2022-06-29 15:01:00,603 INFO] Step 18400/20000; acc:  82.37; ppl:  2.62; xent: 0.96; lr: 1.00000; 9884/10285 tok/s;   3105 sec\n",
            "[2022-06-29 15:01:08,633 INFO] Step 18450/20000; acc:  82.51; ppl:  2.56; xent: 0.94; lr: 1.00000; 9808/10219 tok/s;   3113 sec\n",
            "[2022-06-29 15:01:15,555 INFO] Weighted corpora loaded so far:\n",
            "\t\t\t* corpus: 122\n",
            "[2022-06-29 15:01:16,714 INFO] Step 18500/20000; acc:  82.46; ppl:  2.49; xent: 0.91; lr: 1.00000; 9901/10317 tok/s;   3121 sec\n",
            "[2022-06-29 15:01:24,112 INFO] Step 18550/20000; acc:  84.37; ppl:  2.18; xent: 0.78; lr: 1.00000; 10290/10739 tok/s;   3128 sec\n",
            "[2022-06-29 15:01:32,222 INFO] Step 18600/20000; acc:  82.53; ppl:  2.41; xent: 0.88; lr: 1.00000; 9811/10220 tok/s;   3136 sec\n",
            "[2022-06-29 15:01:40,744 INFO] Step 18650/20000; acc:  82.24; ppl:  2.47; xent: 0.90; lr: 1.00000; 9742/10133 tok/s;   3145 sec\n",
            "[2022-06-29 15:01:46,368 INFO] Weighted corpora loaded so far:\n",
            "\t\t\t* corpus: 123\n",
            "[2022-06-29 15:01:48,768 INFO] Step 18700/20000; acc:  82.47; ppl:  2.40; xent: 0.88; lr: 1.00000; 10037/10457 tok/s;   3153 sec\n",
            "[2022-06-29 15:01:56,041 INFO] Step 18750/20000; acc:  84.47; ppl:  2.09; xent: 0.74; lr: 1.00000; 10134/10588 tok/s;   3160 sec\n",
            "[2022-06-29 15:02:04,123 INFO] Step 18800/20000; acc:  80.98; ppl:  2.71; xent: 1.00; lr: 1.00000; 9836/10246 tok/s;   3168 sec\n",
            "[2022-06-29 15:02:06,809 INFO] Weighted corpora loaded so far:\n",
            "\t\t\t* corpus: 124\n",
            "[2022-06-29 15:02:12,360 INFO] Step 18850/20000; acc:  80.10; ppl:  3.17; xent: 1.15; lr: 1.00000; 9925/10336 tok/s;   3176 sec\n",
            "[2022-06-29 15:02:20,425 INFO] Step 18900/20000; acc:  79.68; ppl:  3.31; xent: 1.20; lr: 1.00000; 10059/10469 tok/s;   3185 sec\n",
            "[2022-06-29 15:02:28,492 INFO] Step 18950/20000; acc:  79.60; ppl:  3.21; xent: 1.17; lr: 1.00000; 10152/10565 tok/s;   3193 sec\n",
            "[2022-06-29 15:02:35,540 INFO] Step 19000/20000; acc:  83.97; ppl:  2.37; xent: 0.86; lr: 1.00000; 10284/10758 tok/s;   3200 sec\n",
            "[2022-06-29 15:02:41,478 INFO] Validation perplexity: 3.56855\n",
            "[2022-06-29 15:02:41,478 INFO] Validation accuracy: 79.2643\n",
            "[2022-06-29 15:02:42,888 INFO] Weighted corpora loaded so far:\n",
            "\t\t\t* corpus: 125\n",
            "[2022-06-29 15:02:49,546 INFO] Step 19050/20000; acc:  79.08; ppl:  3.35; xent: 1.21; lr: 1.00000; 5719/5957 tok/s;   3214 sec\n",
            "[2022-06-29 15:02:57,782 INFO] Step 19100/20000; acc:  78.72; ppl:  3.25; xent: 1.18; lr: 1.00000; 10017/10419 tok/s;   3222 sec\n",
            "[2022-06-29 15:03:03,164 INFO] Weighted corpora loaded so far:\n",
            "\t\t\t* corpus: 126\n",
            "[2022-06-29 15:03:06,063 INFO] Step 19150/20000; acc:  77.63; ppl:  3.33; xent: 1.20; lr: 1.00000; 9856/10262 tok/s;   3230 sec\n",
            "[2022-06-29 15:03:13,338 INFO] Step 19200/20000; acc:  81.41; ppl:  2.70; xent: 0.99; lr: 1.00000; 10164/10618 tok/s;   3237 sec\n",
            "[2022-06-29 15:03:21,092 INFO] Step 19250/20000; acc:  79.85; ppl:  2.89; xent: 1.06; lr: 1.00000; 9941/10371 tok/s;   3245 sec\n",
            "[2022-06-29 15:03:23,474 INFO] Weighted corpora loaded so far:\n",
            "\t\t\t* corpus: 127\n",
            "[2022-06-29 15:03:29,192 INFO] Step 19300/20000; acc:  79.66; ppl:  2.92; xent: 1.07; lr: 1.00000; 10003/10413 tok/s;   3253 sec\n",
            "[2022-06-29 15:03:37,682 INFO] Step 19350/20000; acc:  77.56; ppl:  3.55; xent: 1.27; lr: 1.00000; 9773/10167 tok/s;   3262 sec\n",
            "[2022-06-29 15:03:45,889 INFO] Step 19400/20000; acc:  77.50; ppl:  3.05; xent: 1.11; lr: 1.00000; 9862/10270 tok/s;   3270 sec\n",
            "[2022-06-29 15:03:53,197 INFO] Step 19450/20000; acc:  82.84; ppl:  2.19; xent: 0.78; lr: 1.00000; 10181/10633 tok/s;   3277 sec\n",
            "[2022-06-29 15:03:54,278 INFO] Weighted corpora loaded so far:\n",
            "\t\t\t* corpus: 128\n",
            "[2022-06-29 15:04:01,051 INFO] Step 19500/20000; acc:  79.95; ppl:  2.58; xent: 0.95; lr: 1.00000; 9923/10350 tok/s;   3285 sec\n",
            "[2022-06-29 15:04:09,513 INFO] Step 19550/20000; acc:  80.44; ppl:  2.50; xent: 0.92; lr: 1.00000; 9873/10264 tok/s;   3294 sec\n",
            "[2022-06-29 15:04:14,567 INFO] Weighted corpora loaded so far:\n",
            "\t\t\t* corpus: 129\n",
            "[2022-06-29 15:04:17,610 INFO] Step 19600/20000; acc:  79.63; ppl:  2.86; xent: 1.05; lr: 1.00000; 9997/10413 tok/s;   3302 sec\n",
            "[2022-06-29 15:04:25,401 INFO] Step 19650/20000; acc:  81.38; ppl:  2.51; xent: 0.92; lr: 1.00000; 9968/10397 tok/s;   3310 sec\n",
            "[2022-06-29 15:04:32,821 INFO] Step 19700/20000; acc:  81.88; ppl:  2.35; xent: 0.86; lr: 1.00000; 10288/10731 tok/s;   3317 sec\n",
            "[2022-06-29 15:04:40,801 INFO] Step 19750/20000; acc:  81.35; ppl:  2.53; xent: 0.93; lr: 1.00000; 9973/10392 tok/s;   3325 sec\n",
            "[2022-06-29 15:04:44,867 INFO] Weighted corpora loaded so far:\n",
            "\t\t\t* corpus: 130\n",
            "[2022-06-29 15:04:49,014 INFO] Step 19800/20000; acc:  80.55; ppl:  2.67; xent: 0.98; lr: 1.00000; 10150/10562 tok/s;   3333 sec\n",
            "[2022-06-29 15:04:56,915 INFO] Step 19850/20000; acc:  80.65; ppl:  2.72; xent: 1.00; lr: 1.00000; 10036/10455 tok/s;   3341 sec\n",
            "[2022-06-29 15:05:04,194 INFO] Step 19900/20000; acc:  83.17; ppl:  2.26; xent: 0.82; lr: 1.00000; 10318/10772 tok/s;   3348 sec\n",
            "[2022-06-29 15:05:04,972 INFO] Weighted corpora loaded so far:\n",
            "\t\t\t* corpus: 131\n",
            "[2022-06-29 15:05:12,269 INFO] Step 19950/20000; acc:  80.78; ppl:  2.66; xent: 0.98; lr: 1.00000; 9698/10111 tok/s;   3356 sec\n",
            "[2022-06-29 15:05:20,688 INFO] Step 20000/20000; acc:  79.72; ppl:  2.59; xent: 0.95; lr: 1.00000; 9872/10270 tok/s;   3365 sec\n",
            "[2022-06-29 15:05:26,729 INFO] Validation perplexity: 2.58017\n",
            "[2022-06-29 15:05:26,729 INFO] Validation accuracy: 79.3963\n",
            "[2022-06-29 15:05:26,731 INFO] Saving checkpoint ./saved_models/simple-lstm/final-model_step_20000.pt\n"
          ]
        }
      ]
    },
    {
      "cell_type": "code",
      "source": [
        "%load_ext tensorboard"
      ],
      "metadata": {
        "id": "lBT2-uyTBByD"
      },
      "execution_count": 68,
      "outputs": []
    },
    {
      "cell_type": "code",
      "source": [
        "cmd = f\"\"\"\n",
        "onmt_translate -model {output_dir}/final-model_step_20000.pt \\\n",
        "-src data/round2-BIFI-part1/data_paired/test.bad \\\n",
        "-beam_size 5 \\\n",
        "-n_best 1 \\\n",
        "-output {output_dir}/pred-test_beam5.txt\n",
        "\"\"\"\n"
      ],
      "metadata": {
        "id": "YFRhdidiTcge"
      },
      "execution_count": 70,
      "outputs": []
    },
    {
      "cell_type": "code",
      "source": [
        "print(cmd)"
      ],
      "metadata": {
        "colab": {
          "base_uri": "https://localhost:8080/"
        },
        "id": "HLE-O7rLUoUo",
        "outputId": "5afa4deb-1a2d-471a-e857-f4ddc749181f"
      },
      "execution_count": 71,
      "outputs": [
        {
          "output_type": "stream",
          "name": "stdout",
          "text": [
            "\n",
            "onmt_translate -model ./saved_models/simple-lstm/final-model_step_20000.pt -src data/round2-BIFI-part1/data_paired/test.bad -beam_size 5 -n_best 1 -output ./saved_models/simple-lstm/pred-test_beam5.txt\n",
            "\n"
          ]
        }
      ]
    },
    {
      "cell_type": "code",
      "source": [
        "!onmt_translate -model ./saved_models/simple-lstm/final-model_step_20000.pt -src data/round2-BIFI-part1/data_paired/test.bad -beam_size 5 -n_best 1 -output ./saved_models/simple-lstm/pred-test_beam5.txt\n"
      ],
      "metadata": {
        "colab": {
          "base_uri": "https://localhost:8080/"
        },
        "id": "Ce9fVneQU7C_",
        "outputId": "3d778383-cc44-4ec4-fb06-f5af8a48af75"
      },
      "execution_count": 89,
      "outputs": [
        {
          "output_type": "stream",
          "name": "stdout",
          "text": [
            "[2022-06-29 15:20:21,867 INFO] Translating shard 0.\n",
            "/usr/local/lib/python3.7/dist-packages/torchtext/data/field.py:359: UserWarning: To copy construct from a tensor, it is recommended to use sourceTensor.clone().detach() or sourceTensor.clone().detach().requires_grad_(True), rather than torch.tensor(sourceTensor).\n",
            "  var = torch.tensor(arr, dtype=self.dtype, device=device)\n",
            "/usr/local/lib/python3.7/dist-packages/onmt/translate/beam_search.py:282: UserWarning: __floordiv__ is deprecated, and its behavior will change in a future version of pytorch. It currently rounds toward 0 (like the 'trunc' function NOT 'floor'). This results in incorrect rounding for negative values. To keep the current behavior, use torch.div(a, b, rounding_mode='trunc'), or for actual floor division, use torch.div(a, b, rounding_mode='floor').\n",
            "  self._batch_index = self.topk_ids // vocab_size\n",
            "[2022-06-29 15:21:14,853 INFO] PRED AVG SCORE: -0.0920, PRED PPL: 1.0964\n"
          ]
        }
      ]
    },
    {
      "cell_type": "markdown",
      "source": [
        "## Results\n",
        "\n",
        "We are going to load the predictions obtained for the test dataset generated by the Seq2Seq baseline model. The BLEU Score is calculated and we repeat the same procedure for the predictions generated by the CodeBERT-based model.\n",
        "We perform a comparison of the models using the metrics and randomly choose some samples to verify the behavior of both models.\n"
      ],
      "metadata": {
        "id": "QvBAyFwFf7uZ"
      }
    },
    {
      "cell_type": "code",
      "source": [
        "# cargamos el dataset de pruebas en un dataframe\n",
        "\n",
        "test_good_lines = []\n",
        "\n",
        "with open(\"/content/data/round2-BIFI-part1/data_paired/test.good\", 'r') as f:\n",
        "    test_good_lines = f.readlines()\n",
        "\n",
        "test_bad_lines = []\n",
        "with open(\"/content/data/round2-BIFI-part1/data_paired/test.bad\", 'r') as f:\n",
        "    test_bad_lines = f.readlines()\n",
        "\n",
        "test_idx = []\n",
        "with open(\"/content/data/round2-BIFI-part1/data_paired/test.id\", 'r') as f:\n",
        "    test_idx = f.readlines()\n",
        "\n",
        "seq2seq_predictions = []\n",
        "with open(\"/content/saved_models/simple-lstm/pred-test_beam5.txt\", 'r') as f:\n",
        "    seq2seq_predictions = f.readlines()\n",
        "\n",
        "codebert_predictions = []\n",
        "with open(\"/content/saved_models_exp/codebert/test_1.output\", 'r') as f: #gold\n",
        "    codebert_predictions = f.readlines()\n"
      ],
      "metadata": {
        "id": "sxImFyMpZ10Z"
      },
      "execution_count": 110,
      "outputs": []
    },
    {
      "cell_type": "code",
      "source": [
        "test_df = pd.DataFrame({\n",
        "    'id': test_idx, \n",
        "    'bad': test_bad_lines, \n",
        "    'good': test_good_lines, \n",
        "    'seq2seq': seq2seq_predictions, \n",
        "    'codebert': codebert_predictions,\n",
        "    })\n",
        "\n",
        "# clean last char '\\n'\n",
        "test_df['id'] = test_df['id'].str.replace('\\n', '')\n",
        "test_df['good'] = test_df['good'].str.replace('\\n', '')\n",
        "test_df['seq2seq'] = test_df['seq2seq'].str.replace('\\n', '')\n",
        "test_df['codebert'] = test_df['codebert'].str.replace('\\n', '')"
      ],
      "metadata": {
        "id": "_q7agDSWijtx"
      },
      "execution_count": 111,
      "outputs": []
    },
    {
      "cell_type": "code",
      "source": [
        "test_df.head()"
      ],
      "metadata": {
        "colab": {
          "base_uri": "https://localhost:8080/",
          "height": 476
        },
        "id": "RUZgQq1GjJxn",
        "outputId": "9f3fffa0-61de-4ff7-ccf7-b6a21ece1bf8"
      },
      "execution_count": 112,
      "outputs": [
        {
          "output_type": "execute_result",
          "data": {
            "text/plain": [
              "           id                                                bad  \\\n",
              "0  00-644-004  def <unk> input , k ) : <NEWLINE> <INDENT> ret...   \n",
              "1  00-924-007  def <unk> ( x , y ) : <NEWLINE> <INDENT> if x ...   \n",
              "2  00-794-004  import re <NEWLINE> def <unk> ( text ) : <NEWL...   \n",
              "3  00-896-000  def last ( n ) : <NEWLINE> <INDENT> return n [...   \n",
              "4  00-465-008  def <unk> <unk> ) : <NEWLINE> <INDENT> <unk> =...   \n",
              "\n",
              "                                                good  \\\n",
              "0  def <unk> ( input , k ) : <NEWLINE> <INDENT> r...   \n",
              "1  def <unk> ( x , y ) : <NEWLINE> <INDENT> if x ...   \n",
              "2  import re <NEWLINE> def <unk> ( text ) : <NEWL...   \n",
              "3  def last ( n ) : <NEWLINE> <INDENT> return n [...   \n",
              "4  def <unk> ( <unk> ) : <NEWLINE> <INDENT> <unk>...   \n",
              "\n",
              "                                             seq2seq  \\\n",
              "0  def <unk> ( input , k ) : <NEWLINE> <INDENT> r...   \n",
              "1  def <unk> ( x , y ) : <NEWLINE> <INDENT> if x ...   \n",
              "2  import re <NEWLINE> def <unk> ( text ) : <NEWL...   \n",
              "3  def <unk> ( n ) : <NEWLINE> <INDENT> return so...   \n",
              "4  def <unk> ( <unk> ) : <unk> <NEWLINE> <INDENT>...   \n",
              "\n",
              "                                            codebert  \n",
              "0  def <unk> ( input , k ) : <NEWLINE> <INDENT> r...  \n",
              "1  def <unk> ( x , y ) : <NEWLINE> <INDENT> if x ...  \n",
              "2  import re <NEWLINE> def <unk> ( text ) : <NEWL...  \n",
              "3  from collections import Counter <NEWLINE> def ...  \n",
              "4  def <unk> ( <unk> ) : <NEWLINE> <INDENT> <unk>...  "
            ],
            "text/html": [
              "\n",
              "  <div id=\"df-b285bb06-0f3d-4020-ade0-922d71ee7755\">\n",
              "    <div class=\"colab-df-container\">\n",
              "      <div>\n",
              "<style scoped>\n",
              "    .dataframe tbody tr th:only-of-type {\n",
              "        vertical-align: middle;\n",
              "    }\n",
              "\n",
              "    .dataframe tbody tr th {\n",
              "        vertical-align: top;\n",
              "    }\n",
              "\n",
              "    .dataframe thead th {\n",
              "        text-align: right;\n",
              "    }\n",
              "</style>\n",
              "<table border=\"1\" class=\"dataframe\">\n",
              "  <thead>\n",
              "    <tr style=\"text-align: right;\">\n",
              "      <th></th>\n",
              "      <th>id</th>\n",
              "      <th>bad</th>\n",
              "      <th>good</th>\n",
              "      <th>seq2seq</th>\n",
              "      <th>codebert</th>\n",
              "    </tr>\n",
              "  </thead>\n",
              "  <tbody>\n",
              "    <tr>\n",
              "      <th>0</th>\n",
              "      <td>00-644-004</td>\n",
              "      <td>def &lt;unk&gt; input , k ) : &lt;NEWLINE&gt; &lt;INDENT&gt; ret...</td>\n",
              "      <td>def &lt;unk&gt; ( input , k ) : &lt;NEWLINE&gt; &lt;INDENT&gt; r...</td>\n",
              "      <td>def &lt;unk&gt; ( input , k ) : &lt;NEWLINE&gt; &lt;INDENT&gt; r...</td>\n",
              "      <td>def &lt;unk&gt; ( input , k ) : &lt;NEWLINE&gt; &lt;INDENT&gt; r...</td>\n",
              "    </tr>\n",
              "    <tr>\n",
              "      <th>1</th>\n",
              "      <td>00-924-007</td>\n",
              "      <td>def &lt;unk&gt; ( x , y ) : &lt;NEWLINE&gt; &lt;INDENT&gt; if x ...</td>\n",
              "      <td>def &lt;unk&gt; ( x , y ) : &lt;NEWLINE&gt; &lt;INDENT&gt; if x ...</td>\n",
              "      <td>def &lt;unk&gt; ( x , y ) : &lt;NEWLINE&gt; &lt;INDENT&gt; if x ...</td>\n",
              "      <td>def &lt;unk&gt; ( x , y ) : &lt;NEWLINE&gt; &lt;INDENT&gt; if x ...</td>\n",
              "    </tr>\n",
              "    <tr>\n",
              "      <th>2</th>\n",
              "      <td>00-794-004</td>\n",
              "      <td>import re &lt;NEWLINE&gt; def &lt;unk&gt; ( text ) : &lt;NEWL...</td>\n",
              "      <td>import re &lt;NEWLINE&gt; def &lt;unk&gt; ( text ) : &lt;NEWL...</td>\n",
              "      <td>import re &lt;NEWLINE&gt; def &lt;unk&gt; ( text ) : &lt;NEWL...</td>\n",
              "      <td>import re &lt;NEWLINE&gt; def &lt;unk&gt; ( text ) : &lt;NEWL...</td>\n",
              "    </tr>\n",
              "    <tr>\n",
              "      <th>3</th>\n",
              "      <td>00-896-000</td>\n",
              "      <td>def last ( n ) : &lt;NEWLINE&gt; &lt;INDENT&gt; return n [...</td>\n",
              "      <td>def last ( n ) : &lt;NEWLINE&gt; &lt;INDENT&gt; return n [...</td>\n",
              "      <td>def &lt;unk&gt; ( n ) : &lt;NEWLINE&gt; &lt;INDENT&gt; return so...</td>\n",
              "      <td>from collections import Counter &lt;NEWLINE&gt; def ...</td>\n",
              "    </tr>\n",
              "    <tr>\n",
              "      <th>4</th>\n",
              "      <td>00-465-008</td>\n",
              "      <td>def &lt;unk&gt; &lt;unk&gt; ) : &lt;NEWLINE&gt; &lt;INDENT&gt; &lt;unk&gt; =...</td>\n",
              "      <td>def &lt;unk&gt; ( &lt;unk&gt; ) : &lt;NEWLINE&gt; &lt;INDENT&gt; &lt;unk&gt;...</td>\n",
              "      <td>def &lt;unk&gt; ( &lt;unk&gt; ) : &lt;unk&gt; &lt;NEWLINE&gt; &lt;INDENT&gt;...</td>\n",
              "      <td>def &lt;unk&gt; ( &lt;unk&gt; ) : &lt;NEWLINE&gt; &lt;INDENT&gt; &lt;unk&gt;...</td>\n",
              "    </tr>\n",
              "  </tbody>\n",
              "</table>\n",
              "</div>\n",
              "      <button class=\"colab-df-convert\" onclick=\"convertToInteractive('df-b285bb06-0f3d-4020-ade0-922d71ee7755')\"\n",
              "              title=\"Convert this dataframe to an interactive table.\"\n",
              "              style=\"display:none;\">\n",
              "        \n",
              "  <svg xmlns=\"http://www.w3.org/2000/svg\" height=\"24px\"viewBox=\"0 0 24 24\"\n",
              "       width=\"24px\">\n",
              "    <path d=\"M0 0h24v24H0V0z\" fill=\"none\"/>\n",
              "    <path d=\"M18.56 5.44l.94 2.06.94-2.06 2.06-.94-2.06-.94-.94-2.06-.94 2.06-2.06.94zm-11 1L8.5 8.5l.94-2.06 2.06-.94-2.06-.94L8.5 2.5l-.94 2.06-2.06.94zm10 10l.94 2.06.94-2.06 2.06-.94-2.06-.94-.94-2.06-.94 2.06-2.06.94z\"/><path d=\"M17.41 7.96l-1.37-1.37c-.4-.4-.92-.59-1.43-.59-.52 0-1.04.2-1.43.59L10.3 9.45l-7.72 7.72c-.78.78-.78 2.05 0 2.83L4 21.41c.39.39.9.59 1.41.59.51 0 1.02-.2 1.41-.59l7.78-7.78 2.81-2.81c.8-.78.8-2.07 0-2.86zM5.41 20L4 18.59l7.72-7.72 1.47 1.35L5.41 20z\"/>\n",
              "  </svg>\n",
              "      </button>\n",
              "      \n",
              "  <style>\n",
              "    .colab-df-container {\n",
              "      display:flex;\n",
              "      flex-wrap:wrap;\n",
              "      gap: 12px;\n",
              "    }\n",
              "\n",
              "    .colab-df-convert {\n",
              "      background-color: #E8F0FE;\n",
              "      border: none;\n",
              "      border-radius: 50%;\n",
              "      cursor: pointer;\n",
              "      display: none;\n",
              "      fill: #1967D2;\n",
              "      height: 32px;\n",
              "      padding: 0 0 0 0;\n",
              "      width: 32px;\n",
              "    }\n",
              "\n",
              "    .colab-df-convert:hover {\n",
              "      background-color: #E2EBFA;\n",
              "      box-shadow: 0px 1px 2px rgba(60, 64, 67, 0.3), 0px 1px 3px 1px rgba(60, 64, 67, 0.15);\n",
              "      fill: #174EA6;\n",
              "    }\n",
              "\n",
              "    [theme=dark] .colab-df-convert {\n",
              "      background-color: #3B4455;\n",
              "      fill: #D2E3FC;\n",
              "    }\n",
              "\n",
              "    [theme=dark] .colab-df-convert:hover {\n",
              "      background-color: #434B5C;\n",
              "      box-shadow: 0px 1px 3px 1px rgba(0, 0, 0, 0.15);\n",
              "      filter: drop-shadow(0px 1px 2px rgba(0, 0, 0, 0.3));\n",
              "      fill: #FFFFFF;\n",
              "    }\n",
              "  </style>\n",
              "\n",
              "      <script>\n",
              "        const buttonEl =\n",
              "          document.querySelector('#df-b285bb06-0f3d-4020-ade0-922d71ee7755 button.colab-df-convert');\n",
              "        buttonEl.style.display =\n",
              "          google.colab.kernel.accessAllowed ? 'block' : 'none';\n",
              "\n",
              "        async function convertToInteractive(key) {\n",
              "          const element = document.querySelector('#df-b285bb06-0f3d-4020-ade0-922d71ee7755');\n",
              "          const dataTable =\n",
              "            await google.colab.kernel.invokeFunction('convertToInteractive',\n",
              "                                                     [key], {});\n",
              "          if (!dataTable) return;\n",
              "\n",
              "          const docLinkHtml = 'Like what you see? Visit the ' +\n",
              "            '<a target=\"_blank\" href=https://colab.research.google.com/notebooks/data_table.ipynb>data table notebook</a>'\n",
              "            + ' to learn more about interactive tables.';\n",
              "          element.innerHTML = '';\n",
              "          dataTable['output_type'] = 'display_data';\n",
              "          await google.colab.output.renderOutput(dataTable, element);\n",
              "          const docLink = document.createElement('div');\n",
              "          docLink.innerHTML = docLinkHtml;\n",
              "          element.appendChild(docLink);\n",
              "        }\n",
              "      </script>\n",
              "    </div>\n",
              "  </div>\n",
              "  "
            ]
          },
          "metadata": {},
          "execution_count": 112
        }
      ]
    },
    {
      "cell_type": "code",
      "source": [
        "# compute editdistance & difference\n",
        "from difflib import SequenceMatcher, Differ\n",
        "import editdistance\n"
      ],
      "metadata": {
        "id": "0qCmv4VBll79"
      },
      "execution_count": 113,
      "outputs": []
    },
    {
      "cell_type": "code",
      "source": [
        "bad_good_d = []\n",
        "good_seq2seq_d = []\n",
        "good_codebert_d = []\n",
        "\n",
        "bad_good_sm = []\n",
        "good_seq2seq_sm = []\n",
        "good_codebert_sm = []\n",
        "\n",
        "for e in test_df.values:\n",
        "    bad, good, seq2seq, codebert = e[1], e[2], e[3], e[4]\n",
        "\n",
        "    bad_good_d.append(editdistance.eval(bad, good))\n",
        "    good_seq2seq_d.append(editdistance.eval(bad, seq2seq))\n",
        "    good_codebert_d.append(editdistance.eval(bad, codebert))\n",
        "\n",
        "    bad_good_sm.append(SequenceMatcher(a=bad, b=good).ratio())\n",
        "    good_seq2seq_sm.append(SequenceMatcher(a=bad, b=seq2seq).ratio())\n",
        "    good_codebert_sm.append(SequenceMatcher(a=bad, b=codebert).ratio())"
      ],
      "metadata": {
        "id": "gZJ3Jd24l73q"
      },
      "execution_count": 114,
      "outputs": []
    },
    {
      "cell_type": "code",
      "source": [
        "metrics_df = pd.DataFrame({\n",
        "    'bad_good_d': bad_good_d, \n",
        "    'good_seq2seq_d': good_seq2seq_d, \n",
        "    'good_codebert_d': good_codebert_d, \n",
        "    'bad_good_sm': bad_good_sm, \n",
        "    'good_seq2seq_sm': good_seq2seq_sm,\n",
        "    'good_codebert_sm': good_codebert_sm\n",
        "    })"
      ],
      "metadata": {
        "id": "qpNfyoczoRpY"
      },
      "execution_count": 116,
      "outputs": []
    },
    {
      "cell_type": "code",
      "source": [
        "metrics_df.head()"
      ],
      "metadata": {
        "colab": {
          "base_uri": "https://localhost:8080/",
          "height": 270
        },
        "id": "r3nW4Fi_oprn",
        "outputId": "9698c28a-c367-462f-d140-9148841d55a2"
      },
      "execution_count": 117,
      "outputs": [
        {
          "output_type": "execute_result",
          "data": {
            "text/plain": [
              "   bad_good_d  good_seq2seq_d  good_codebert_d  bad_good_sm  good_seq2seq_sm  \\\n",
              "0           5               7               20     0.977778         0.968037   \n",
              "1           8               8               42     0.967480         0.967480   \n",
              "2           3               3                3     0.994083         0.994083   \n",
              "3          10              75               79     0.969880         0.685039   \n",
              "4           3              34               13     0.991045         0.892405   \n",
              "\n",
              "   good_codebert_sm  \n",
              "0          0.898551  \n",
              "1          0.846975  \n",
              "2          0.994083  \n",
              "3          0.485507  \n",
              "4          0.948328  "
            ],
            "text/html": [
              "\n",
              "  <div id=\"df-62698f8d-1055-4600-b756-ee52fa6d962d\">\n",
              "    <div class=\"colab-df-container\">\n",
              "      <div>\n",
              "<style scoped>\n",
              "    .dataframe tbody tr th:only-of-type {\n",
              "        vertical-align: middle;\n",
              "    }\n",
              "\n",
              "    .dataframe tbody tr th {\n",
              "        vertical-align: top;\n",
              "    }\n",
              "\n",
              "    .dataframe thead th {\n",
              "        text-align: right;\n",
              "    }\n",
              "</style>\n",
              "<table border=\"1\" class=\"dataframe\">\n",
              "  <thead>\n",
              "    <tr style=\"text-align: right;\">\n",
              "      <th></th>\n",
              "      <th>bad_good_d</th>\n",
              "      <th>good_seq2seq_d</th>\n",
              "      <th>good_codebert_d</th>\n",
              "      <th>bad_good_sm</th>\n",
              "      <th>good_seq2seq_sm</th>\n",
              "      <th>good_codebert_sm</th>\n",
              "    </tr>\n",
              "  </thead>\n",
              "  <tbody>\n",
              "    <tr>\n",
              "      <th>0</th>\n",
              "      <td>5</td>\n",
              "      <td>7</td>\n",
              "      <td>20</td>\n",
              "      <td>0.977778</td>\n",
              "      <td>0.968037</td>\n",
              "      <td>0.898551</td>\n",
              "    </tr>\n",
              "    <tr>\n",
              "      <th>1</th>\n",
              "      <td>8</td>\n",
              "      <td>8</td>\n",
              "      <td>42</td>\n",
              "      <td>0.967480</td>\n",
              "      <td>0.967480</td>\n",
              "      <td>0.846975</td>\n",
              "    </tr>\n",
              "    <tr>\n",
              "      <th>2</th>\n",
              "      <td>3</td>\n",
              "      <td>3</td>\n",
              "      <td>3</td>\n",
              "      <td>0.994083</td>\n",
              "      <td>0.994083</td>\n",
              "      <td>0.994083</td>\n",
              "    </tr>\n",
              "    <tr>\n",
              "      <th>3</th>\n",
              "      <td>10</td>\n",
              "      <td>75</td>\n",
              "      <td>79</td>\n",
              "      <td>0.969880</td>\n",
              "      <td>0.685039</td>\n",
              "      <td>0.485507</td>\n",
              "    </tr>\n",
              "    <tr>\n",
              "      <th>4</th>\n",
              "      <td>3</td>\n",
              "      <td>34</td>\n",
              "      <td>13</td>\n",
              "      <td>0.991045</td>\n",
              "      <td>0.892405</td>\n",
              "      <td>0.948328</td>\n",
              "    </tr>\n",
              "  </tbody>\n",
              "</table>\n",
              "</div>\n",
              "      <button class=\"colab-df-convert\" onclick=\"convertToInteractive('df-62698f8d-1055-4600-b756-ee52fa6d962d')\"\n",
              "              title=\"Convert this dataframe to an interactive table.\"\n",
              "              style=\"display:none;\">\n",
              "        \n",
              "  <svg xmlns=\"http://www.w3.org/2000/svg\" height=\"24px\"viewBox=\"0 0 24 24\"\n",
              "       width=\"24px\">\n",
              "    <path d=\"M0 0h24v24H0V0z\" fill=\"none\"/>\n",
              "    <path d=\"M18.56 5.44l.94 2.06.94-2.06 2.06-.94-2.06-.94-.94-2.06-.94 2.06-2.06.94zm-11 1L8.5 8.5l.94-2.06 2.06-.94-2.06-.94L8.5 2.5l-.94 2.06-2.06.94zm10 10l.94 2.06.94-2.06 2.06-.94-2.06-.94-.94-2.06-.94 2.06-2.06.94z\"/><path d=\"M17.41 7.96l-1.37-1.37c-.4-.4-.92-.59-1.43-.59-.52 0-1.04.2-1.43.59L10.3 9.45l-7.72 7.72c-.78.78-.78 2.05 0 2.83L4 21.41c.39.39.9.59 1.41.59.51 0 1.02-.2 1.41-.59l7.78-7.78 2.81-2.81c.8-.78.8-2.07 0-2.86zM5.41 20L4 18.59l7.72-7.72 1.47 1.35L5.41 20z\"/>\n",
              "  </svg>\n",
              "      </button>\n",
              "      \n",
              "  <style>\n",
              "    .colab-df-container {\n",
              "      display:flex;\n",
              "      flex-wrap:wrap;\n",
              "      gap: 12px;\n",
              "    }\n",
              "\n",
              "    .colab-df-convert {\n",
              "      background-color: #E8F0FE;\n",
              "      border: none;\n",
              "      border-radius: 50%;\n",
              "      cursor: pointer;\n",
              "      display: none;\n",
              "      fill: #1967D2;\n",
              "      height: 32px;\n",
              "      padding: 0 0 0 0;\n",
              "      width: 32px;\n",
              "    }\n",
              "\n",
              "    .colab-df-convert:hover {\n",
              "      background-color: #E2EBFA;\n",
              "      box-shadow: 0px 1px 2px rgba(60, 64, 67, 0.3), 0px 1px 3px 1px rgba(60, 64, 67, 0.15);\n",
              "      fill: #174EA6;\n",
              "    }\n",
              "\n",
              "    [theme=dark] .colab-df-convert {\n",
              "      background-color: #3B4455;\n",
              "      fill: #D2E3FC;\n",
              "    }\n",
              "\n",
              "    [theme=dark] .colab-df-convert:hover {\n",
              "      background-color: #434B5C;\n",
              "      box-shadow: 0px 1px 3px 1px rgba(0, 0, 0, 0.15);\n",
              "      filter: drop-shadow(0px 1px 2px rgba(0, 0, 0, 0.3));\n",
              "      fill: #FFFFFF;\n",
              "    }\n",
              "  </style>\n",
              "\n",
              "      <script>\n",
              "        const buttonEl =\n",
              "          document.querySelector('#df-62698f8d-1055-4600-b756-ee52fa6d962d button.colab-df-convert');\n",
              "        buttonEl.style.display =\n",
              "          google.colab.kernel.accessAllowed ? 'block' : 'none';\n",
              "\n",
              "        async function convertToInteractive(key) {\n",
              "          const element = document.querySelector('#df-62698f8d-1055-4600-b756-ee52fa6d962d');\n",
              "          const dataTable =\n",
              "            await google.colab.kernel.invokeFunction('convertToInteractive',\n",
              "                                                     [key], {});\n",
              "          if (!dataTable) return;\n",
              "\n",
              "          const docLinkHtml = 'Like what you see? Visit the ' +\n",
              "            '<a target=\"_blank\" href=https://colab.research.google.com/notebooks/data_table.ipynb>data table notebook</a>'\n",
              "            + ' to learn more about interactive tables.';\n",
              "          element.innerHTML = '';\n",
              "          dataTable['output_type'] = 'display_data';\n",
              "          await google.colab.output.renderOutput(dataTable, element);\n",
              "          const docLink = document.createElement('div');\n",
              "          docLink.innerHTML = docLinkHtml;\n",
              "          element.appendChild(docLink);\n",
              "        }\n",
              "      </script>\n",
              "    </div>\n",
              "  </div>\n",
              "  "
            ]
          },
          "metadata": {},
          "execution_count": 117
        }
      ]
    },
    {
      "cell_type": "code",
      "source": [
        "metrics_df.describe()"
      ],
      "metadata": {
        "colab": {
          "base_uri": "https://localhost:8080/",
          "height": 364
        },
        "id": "y4yKm6N9pASq",
        "outputId": "a2c79f4e-5ac4-4a2e-ff5f-7bdbfca375ad"
      },
      "execution_count": 118,
      "outputs": [
        {
          "output_type": "execute_result",
          "data": {
            "text/plain": [
              "        bad_good_d  good_seq2seq_d  good_codebert_d  bad_good_sm  \\\n",
              "count  1641.000000     1641.000000      1641.000000  1641.000000   \n",
              "mean      8.108470       73.213894        37.124314     0.974062   \n",
              "std       6.300053       92.802794        47.087611     0.032313   \n",
              "min       2.000000        1.000000         1.000000     0.551867   \n",
              "25%       3.000000       12.000000        10.000000     0.965944   \n",
              "50%       6.000000       30.000000        19.000000     0.984227   \n",
              "75%      11.000000       98.000000        43.000000     0.991045   \n",
              "max      37.000000      465.000000       272.000000     0.997460   \n",
              "\n",
              "       good_seq2seq_sm  good_codebert_sm  \n",
              "count      1641.000000       1641.000000  \n",
              "mean          0.784368          0.847474  \n",
              "std           0.222154          0.182998  \n",
              "min           0.105660          0.085349  \n",
              "25%           0.679688          0.808889  \n",
              "50%           0.880000          0.922619  \n",
              "75%           0.950355          0.967742  \n",
              "max           0.996337          0.998020  "
            ],
            "text/html": [
              "\n",
              "  <div id=\"df-25ef90c1-174e-426f-bf46-a4186073328a\">\n",
              "    <div class=\"colab-df-container\">\n",
              "      <div>\n",
              "<style scoped>\n",
              "    .dataframe tbody tr th:only-of-type {\n",
              "        vertical-align: middle;\n",
              "    }\n",
              "\n",
              "    .dataframe tbody tr th {\n",
              "        vertical-align: top;\n",
              "    }\n",
              "\n",
              "    .dataframe thead th {\n",
              "        text-align: right;\n",
              "    }\n",
              "</style>\n",
              "<table border=\"1\" class=\"dataframe\">\n",
              "  <thead>\n",
              "    <tr style=\"text-align: right;\">\n",
              "      <th></th>\n",
              "      <th>bad_good_d</th>\n",
              "      <th>good_seq2seq_d</th>\n",
              "      <th>good_codebert_d</th>\n",
              "      <th>bad_good_sm</th>\n",
              "      <th>good_seq2seq_sm</th>\n",
              "      <th>good_codebert_sm</th>\n",
              "    </tr>\n",
              "  </thead>\n",
              "  <tbody>\n",
              "    <tr>\n",
              "      <th>count</th>\n",
              "      <td>1641.000000</td>\n",
              "      <td>1641.000000</td>\n",
              "      <td>1641.000000</td>\n",
              "      <td>1641.000000</td>\n",
              "      <td>1641.000000</td>\n",
              "      <td>1641.000000</td>\n",
              "    </tr>\n",
              "    <tr>\n",
              "      <th>mean</th>\n",
              "      <td>8.108470</td>\n",
              "      <td>73.213894</td>\n",
              "      <td>37.124314</td>\n",
              "      <td>0.974062</td>\n",
              "      <td>0.784368</td>\n",
              "      <td>0.847474</td>\n",
              "    </tr>\n",
              "    <tr>\n",
              "      <th>std</th>\n",
              "      <td>6.300053</td>\n",
              "      <td>92.802794</td>\n",
              "      <td>47.087611</td>\n",
              "      <td>0.032313</td>\n",
              "      <td>0.222154</td>\n",
              "      <td>0.182998</td>\n",
              "    </tr>\n",
              "    <tr>\n",
              "      <th>min</th>\n",
              "      <td>2.000000</td>\n",
              "      <td>1.000000</td>\n",
              "      <td>1.000000</td>\n",
              "      <td>0.551867</td>\n",
              "      <td>0.105660</td>\n",
              "      <td>0.085349</td>\n",
              "    </tr>\n",
              "    <tr>\n",
              "      <th>25%</th>\n",
              "      <td>3.000000</td>\n",
              "      <td>12.000000</td>\n",
              "      <td>10.000000</td>\n",
              "      <td>0.965944</td>\n",
              "      <td>0.679688</td>\n",
              "      <td>0.808889</td>\n",
              "    </tr>\n",
              "    <tr>\n",
              "      <th>50%</th>\n",
              "      <td>6.000000</td>\n",
              "      <td>30.000000</td>\n",
              "      <td>19.000000</td>\n",
              "      <td>0.984227</td>\n",
              "      <td>0.880000</td>\n",
              "      <td>0.922619</td>\n",
              "    </tr>\n",
              "    <tr>\n",
              "      <th>75%</th>\n",
              "      <td>11.000000</td>\n",
              "      <td>98.000000</td>\n",
              "      <td>43.000000</td>\n",
              "      <td>0.991045</td>\n",
              "      <td>0.950355</td>\n",
              "      <td>0.967742</td>\n",
              "    </tr>\n",
              "    <tr>\n",
              "      <th>max</th>\n",
              "      <td>37.000000</td>\n",
              "      <td>465.000000</td>\n",
              "      <td>272.000000</td>\n",
              "      <td>0.997460</td>\n",
              "      <td>0.996337</td>\n",
              "      <td>0.998020</td>\n",
              "    </tr>\n",
              "  </tbody>\n",
              "</table>\n",
              "</div>\n",
              "      <button class=\"colab-df-convert\" onclick=\"convertToInteractive('df-25ef90c1-174e-426f-bf46-a4186073328a')\"\n",
              "              title=\"Convert this dataframe to an interactive table.\"\n",
              "              style=\"display:none;\">\n",
              "        \n",
              "  <svg xmlns=\"http://www.w3.org/2000/svg\" height=\"24px\"viewBox=\"0 0 24 24\"\n",
              "       width=\"24px\">\n",
              "    <path d=\"M0 0h24v24H0V0z\" fill=\"none\"/>\n",
              "    <path d=\"M18.56 5.44l.94 2.06.94-2.06 2.06-.94-2.06-.94-.94-2.06-.94 2.06-2.06.94zm-11 1L8.5 8.5l.94-2.06 2.06-.94-2.06-.94L8.5 2.5l-.94 2.06-2.06.94zm10 10l.94 2.06.94-2.06 2.06-.94-2.06-.94-.94-2.06-.94 2.06-2.06.94z\"/><path d=\"M17.41 7.96l-1.37-1.37c-.4-.4-.92-.59-1.43-.59-.52 0-1.04.2-1.43.59L10.3 9.45l-7.72 7.72c-.78.78-.78 2.05 0 2.83L4 21.41c.39.39.9.59 1.41.59.51 0 1.02-.2 1.41-.59l7.78-7.78 2.81-2.81c.8-.78.8-2.07 0-2.86zM5.41 20L4 18.59l7.72-7.72 1.47 1.35L5.41 20z\"/>\n",
              "  </svg>\n",
              "      </button>\n",
              "      \n",
              "  <style>\n",
              "    .colab-df-container {\n",
              "      display:flex;\n",
              "      flex-wrap:wrap;\n",
              "      gap: 12px;\n",
              "    }\n",
              "\n",
              "    .colab-df-convert {\n",
              "      background-color: #E8F0FE;\n",
              "      border: none;\n",
              "      border-radius: 50%;\n",
              "      cursor: pointer;\n",
              "      display: none;\n",
              "      fill: #1967D2;\n",
              "      height: 32px;\n",
              "      padding: 0 0 0 0;\n",
              "      width: 32px;\n",
              "    }\n",
              "\n",
              "    .colab-df-convert:hover {\n",
              "      background-color: #E2EBFA;\n",
              "      box-shadow: 0px 1px 2px rgba(60, 64, 67, 0.3), 0px 1px 3px 1px rgba(60, 64, 67, 0.15);\n",
              "      fill: #174EA6;\n",
              "    }\n",
              "\n",
              "    [theme=dark] .colab-df-convert {\n",
              "      background-color: #3B4455;\n",
              "      fill: #D2E3FC;\n",
              "    }\n",
              "\n",
              "    [theme=dark] .colab-df-convert:hover {\n",
              "      background-color: #434B5C;\n",
              "      box-shadow: 0px 1px 3px 1px rgba(0, 0, 0, 0.15);\n",
              "      filter: drop-shadow(0px 1px 2px rgba(0, 0, 0, 0.3));\n",
              "      fill: #FFFFFF;\n",
              "    }\n",
              "  </style>\n",
              "\n",
              "      <script>\n",
              "        const buttonEl =\n",
              "          document.querySelector('#df-25ef90c1-174e-426f-bf46-a4186073328a button.colab-df-convert');\n",
              "        buttonEl.style.display =\n",
              "          google.colab.kernel.accessAllowed ? 'block' : 'none';\n",
              "\n",
              "        async function convertToInteractive(key) {\n",
              "          const element = document.querySelector('#df-25ef90c1-174e-426f-bf46-a4186073328a');\n",
              "          const dataTable =\n",
              "            await google.colab.kernel.invokeFunction('convertToInteractive',\n",
              "                                                     [key], {});\n",
              "          if (!dataTable) return;\n",
              "\n",
              "          const docLinkHtml = 'Like what you see? Visit the ' +\n",
              "            '<a target=\"_blank\" href=https://colab.research.google.com/notebooks/data_table.ipynb>data table notebook</a>'\n",
              "            + ' to learn more about interactive tables.';\n",
              "          element.innerHTML = '';\n",
              "          dataTable['output_type'] = 'display_data';\n",
              "          await google.colab.output.renderOutput(dataTable, element);\n",
              "          const docLink = document.createElement('div');\n",
              "          docLink.innerHTML = docLinkHtml;\n",
              "          element.appendChild(docLink);\n",
              "        }\n",
              "      </script>\n",
              "    </div>\n",
              "  </div>\n",
              "  "
            ]
          },
          "metadata": {},
          "execution_count": 118
        }
      ]
    },
    {
      "cell_type": "code",
      "source": [
        "import seaborn as sns\n",
        "ax = sns.histplot(data=metrics_df['bad_good_d'])\n",
        "ax.set_title('Histogram edit distance between Bad/Good Code')\n",
        "ax.set_xlabel('levenshtein distance')"
      ],
      "metadata": {
        "colab": {
          "base_uri": "https://localhost:8080/",
          "height": 312
        },
        "id": "FhJaENXlpr-8",
        "outputId": "7fabd173-687a-4e9d-f9cd-4039b45d6f53"
      },
      "execution_count": 119,
      "outputs": [
        {
          "output_type": "execute_result",
          "data": {
            "text/plain": [
              "Text(0.5, 0, 'levenshtein distance')"
            ]
          },
          "metadata": {},
          "execution_count": 119
        },
        {
          "output_type": "display_data",
          "data": {
            "text/plain": [
              "<Figure size 432x288 with 1 Axes>"
            ],
            "image/png": "[encoded data removed]"
          },
          "metadata": {
            "needs_background": "light"
          }
        }
      ]
    },
    {
      "cell_type": "code",
      "source": [
        "\n",
        "ax = sns.histplot(data=metrics_df['good_codebert_d'])\n",
        "ax.set_title('Histogram edit distance between Bad/CodeBERT Predictions') # sobre ajuste\n",
        "ax.set_xlabel('levenshtein distance')"
      ],
      "metadata": {
        "colab": {
          "base_uri": "https://localhost:8080/",
          "height": 312
        },
        "id": "UknPPFLGqUc-",
        "outputId": "ee4e9448-7c0c-439c-e083-7f70d237a6f3"
      },
      "execution_count": 120,
      "outputs": [
        {
          "output_type": "execute_result",
          "data": {
            "text/plain": [
              "Text(0.5, 0, 'levenshtein distance')"
            ]
          },
          "metadata": {},
          "execution_count": 120
        },
        {
          "output_type": "display_data",
          "data": {
            "text/plain": [
              "<Figure size 432x288 with 1 Axes>"
            ],
            "image/png": "[encoded data removed]"
          },
          "metadata": {
            "needs_background": "light"
          }
        }
      ]
    },
    {
      "cell_type": "code",
      "source": [
        "ax = sns.histplot(data=metrics_df['good_seq2seq_d'])\n",
        "ax.set_title('Histogram edit distance between Bad/Seq2Seq Predictions')\n",
        "ax.set_xlabel('levenshtein distance')"
      ],
      "metadata": {
        "colab": {
          "base_uri": "https://localhost:8080/",
          "height": 312
        },
        "id": "SPJYhdFMqcux",
        "outputId": "3473ace5-6068-4c40-af65-f44d4eb3ed07"
      },
      "execution_count": 121,
      "outputs": [
        {
          "output_type": "execute_result",
          "data": {
            "text/plain": [
              "Text(0.5, 0, 'levenshtein distance')"
            ]
          },
          "metadata": {},
          "execution_count": 121
        },
        {
          "output_type": "display_data",
          "data": {
            "text/plain": [
              "<Figure size 432x288 with 1 Axes>"
            ],
            "image/png": "[encoded data removed]"
          },
          "metadata": {
            "needs_background": "light"
          }
        }
      ]
    },
    {
      "cell_type": "code",
      "source": [
        "import sacrebleu\n",
        "\n",
        "bleu_seq2seq = sacrebleu.corpus_bleu(test_df['seq2seq'].tolist(), test_df['good'].tolist())\n",
        "bleu_codebert = sacrebleu.corpus_bleu(test_df['codebert'].tolist(), test_df['good'].tolist())"
      ],
      "metadata": {
        "id": "gRGvoMdtj4g6"
      },
      "execution_count": 122,
      "outputs": []
    },
    {
      "cell_type": "code",
      "source": [
        "print(bleu_seq2seq)"
      ],
      "metadata": {
        "colab": {
          "base_uri": "https://localhost:8080/"
        },
        "id": "D8LtIN7IkZMx",
        "outputId": "c595654f-b2b2-4c62-878d-98ad1bf04135"
      },
      "execution_count": 123,
      "outputs": [
        {
          "output_type": "stream",
          "name": "stdout",
          "text": [
            "BLEU = 0.04 9.8/0.0/0.0/0.0 (BP = 1.000 ratio = 57.615 hyp_len = 4494 ref_len = 78)\n"
          ]
        }
      ]
    },
    {
      "cell_type": "code",
      "source": [
        "print(bleu_codebert)"
      ],
      "metadata": {
        "colab": {
          "base_uri": "https://localhost:8080/"
        },
        "id": "6JRcLnSRkcL0",
        "outputId": "7e4b0f6b-7b84-4a09-de70-a546a4399628"
      },
      "execution_count": 124,
      "outputs": [
        {
          "output_type": "stream",
          "name": "stdout",
          "text": [
            "BLEU = 0.03 8.5/0.0/0.0/0.0 (BP = 1.000 ratio = 69.795 hyp_len = 5444 ref_len = 78)\n"
          ]
        }
      ]
    },
    {
      "cell_type": "code",
      "source": [
        "# select a random sample\n",
        "samples = np.random.choice(test_df.shape[0], 4)\n",
        "samples"
      ],
      "metadata": {
        "colab": {
          "base_uri": "https://localhost:8080/"
        },
        "id": "ehAsnqhgrrwP",
        "outputId": "968acf16-1aaa-4695-aa75-1bdb1311c9a0"
      },
      "execution_count": 125,
      "outputs": [
        {
          "output_type": "execute_result",
          "data": {
            "text/plain": [
              "array([ 265, 1164, 1115, 1031])"
            ]
          },
          "metadata": {},
          "execution_count": 125
        }
      ]
    },
    {
      "cell_type": "code",
      "source": [
        "for s in samples:\n",
        "\n",
        "    print('Original Dataset: ')\n",
        "    print_diff(test_df['bad'][s], test_df['good'][s])\n",
        "    print('\\n')\n",
        "    print('Seq2Seq Prediction: ')\n",
        "    print_diff(test_df['bad'][s], test_df['seq2seq'][s])\n",
        "    print('\\n')\n",
        "    print('CodeBERT Prediction: ')\n",
        "    print_diff(test_df['bad'][s], test_df['codebert'][s])"
      ],
      "metadata": {
        "colab": {
          "base_uri": "https://localhost:8080/"
        },
        "id": "eg84YCh7sE1F",
        "outputId": "3d0c091e-a096-42f7-e889-1c1f30076d52"
      },
      "execution_count": 126,
      "outputs": [
        {
          "output_type": "stream",
          "name": "stdout",
          "text": [
            "Original Dataset: \n",
            "editdistance:  5\n",
            "- <unk> ( r , h ) : <NEWLINE> <INDENT> volume = <unk> * r * r * h <NEWLINE> return volume <NEWLINE> <DEDENT>\n",
            "+ def <unk> ( r , h ) : <NEWLINE> <INDENT> volume = <unk> * r * r * h <NEWLINE> return volume <NEWLINE> <DEDENT>\n",
            "? ++++\n",
            "\n",
            "\n",
            "\n",
            "\n",
            "\n",
            "Seq2Seq Prediction: \n",
            "editdistance:  5\n",
            "- <unk> ( r , h ) : <NEWLINE> <INDENT> volume = <unk> * r * r * h <NEWLINE> return volume <NEWLINE> <DEDENT>\n",
            "+ def <unk> ( r , h ) : <NEWLINE> <INDENT> volume = <unk> * r * r * h <NEWLINE> return volume <NEWLINE> <DEDENT>\n",
            "? ++++\n",
            "\n",
            "\n",
            "\n",
            "\n",
            "\n",
            "CodeBERT Prediction: \n",
            "editdistance:  9\n",
            "- <unk> ( r , h ) : <NEWLINE> <INDENT> volume = <unk> * r * r * h <NEWLINE> return volume <NEWLINE> <DEDENT>\n",
            "?                                                           ----\n",
            "\n",
            "+ def <unk> ( r , h ) : <NEWLINE> <INDENT> volume = <unk> * r * h <NEWLINE> return volume <NEWLINE> <DEDENT>\n",
            "? ++++\n",
            "\n",
            "\n",
            "\n",
            "Original Dataset: \n",
            "editdistance:  3\n",
            "- def <unk> number ) : <NEWLINE> <INDENT> <unk> = [ 1 ] <NEWLINE> for i in range ( 2 , number ) : <NEWLINE> <INDENT> if ( number % i ) == 0 : <NEWLINE> <INDENT> <unk> . append ( i ) <NEWLINE> <DEDENT> <DEDENT> return sum ( <unk> ) <NEWLINE> <DEDENT>\n",
            "+ def <unk> ( number ) : <NEWLINE> <INDENT> <unk> = [ 1 ] <NEWLINE> for i in range ( 2 , number ) : <NEWLINE> <INDENT> if ( number % i ) == 0 : <NEWLINE> <INDENT> <unk> . append ( i ) <NEWLINE> <DEDENT> <DEDENT> return sum ( <unk> ) <NEWLINE> <DEDENT>\n",
            "?          ++\n",
            "\n",
            "\n",
            "\n",
            "\n",
            "\n",
            "Seq2Seq Prediction: \n",
            "editdistance:  12\n",
            "- def <unk> number ) : <NEWLINE> <INDENT> <unk> = [ 1 ] <NEWLINE> for i in range ( 2 , number ) : <NEWLINE> <INDENT> if ( number % i ) == 0 : <NEWLINE> <INDENT> <unk> . append ( i ) <NEWLINE> <DEDENT> <DEDENT> return sum ( <unk> ) <NEWLINE> <DEDENT>\n",
            "+ def <unk> ( number , number ) : <NEWLINE> <INDENT> <unk> = [ 1 ] <NEWLINE> for i in range ( 2 , number ) : <NEWLINE> <INDENT> if ( number % i ) == 0 : <NEWLINE> <INDENT> <unk> . append ( i ) <NEWLINE> <DEDENT> <DEDENT> return sum ( <unk> ) <NEWLINE> <DEDENT>\n",
            "?          +++++++++++\n",
            "\n",
            "\n",
            "\n",
            "\n",
            "\n",
            "CodeBERT Prediction: \n",
            "editdistance:  16\n",
            "- def <unk> number ) : <NEWLINE> <INDENT> <unk> = [ 1 ] <NEWLINE> for i in range ( 2 , number ) : <NEWLINE> <INDENT> if ( number % i ) == 0 : <NEWLINE> <INDENT> <unk> . append ( i ) <NEWLINE> <DEDENT> <DEDENT> return sum ( <unk> ) <NEWLINE> <DEDENT>\n",
            "?                                                                                                                            ---                                                                                             ^^^^^^^^^^^^^^^^^^^^^^^^^^^^\n",
            "\n",
            "+ def <unk> ( number ) : <NEWLINE> <INDENT> <unk> = [ 1 ] <NEWLINE> for i in range ( 2 , number ) : <NEWLINE> <INDENT> if ( num % i ) == 0 : <NEWLINE> <INDENT> <unk> . append ( i ) <NEWLINE> <DEDENT> <DEDENT> return sum <NEWLINE> <DEDENT>\n",
            "?          ++                                                                                                                                                                                                               ^^^^^^^^^^^^^^^^^^\n",
            "\n",
            "\n",
            "\n",
            "Original Dataset: \n",
            "editdistance:  3\n",
            "- def min_length ( list1 ) : <NEWLINE> <INDENT> min_length = min len ( x ) for x in list1 ) <NEWLINE> <unk> = min ( ( x ) for x in list1 ) <NEWLINE> return ( min_length , <unk> ) <NEWLINE> <DEDENT>\n",
            "+ def min_length ( list1 ) : <NEWLINE> <INDENT> min_length = min ( len ( x ) for x in list1 ) <NEWLINE> <unk> = min ( ( x ) for x in list1 ) <NEWLINE> return ( min_length , <unk> ) <NEWLINE> <DEDENT>\n",
            "?                                                               ++\n",
            "\n",
            "\n",
            "\n",
            "\n",
            "\n",
            "Seq2Seq Prediction: \n",
            "editdistance:  30\n",
            "- def min_length ( list1 ) : <NEWLINE> <INDENT> min_length = min len ( x ) for x in list1 ) <NEWLINE> <unk> = min ( ( x ) for x in list1 ) <NEWLINE> return ( min_length , <unk> ) <NEWLINE> <DEDENT>\n",
            "?     ^^ ^^^^^^^                                ^^ ^^^^^^^                                                                                                    ^^ ^^^^^^^\n",
            "\n",
            "+ def <unk> ( list1 ) : <NEWLINE> <INDENT> <unk> = min ( len ( x ) for x in list1 ) <NEWLINE> <unk> = min ( ( x ) for x in list1 ) <NEWLINE> return ( <unk> , <unk> ) <NEWLINE> <DEDENT>\n",
            "?     ^^ ^^                                ^^ ^^      ++                                                                                              ^^ ^^\n",
            "\n",
            "\n",
            "\n",
            "\n",
            "\n",
            "CodeBERT Prediction: \n",
            "editdistance:  7\n",
            "- def min_length ( list1 ) : <NEWLINE> <INDENT> min_length = min len ( x ) for x in list1 ) <NEWLINE> <unk> = min ( ( x ) for x in list1 ) <NEWLINE> return ( min_length , <unk> ) <NEWLINE> <DEDENT>\n",
            "?      ^^                                                                                                                                                      ^^\n",
            "\n",
            "+ def max_length ( list1 ) : <NEWLINE> <INDENT> min_length = min ( len ( x ) for x in list1 ) <NEWLINE> <unk> = min ( ( x ) for x in list1 ) <NEWLINE> return ( max_length , <unk> ) <NEWLINE> <DEDENT>\n",
            "?      ^^                                                       ++                                                                                               ^^\n",
            "\n",
            "\n",
            "\n",
            "Original Dataset: \n",
            "editdistance:  10\n",
            "- import math <NEWLINE> def <unk> ( degree ) <NEWLINE> <INDENT> <unk> = degree * ( math . pi / 180 ) <NEWLINE> <unk> <NEWLINE> <DEDENT>\n",
            "+ import math <NEWLINE> def <unk> ( degree ) : <NEWLINE> <INDENT> <unk> = degree * ( math . pi / 180 ) <NEWLINE> return <unk> <NEWLINE> <DEDENT>\n",
            "?                                           ++                                                                   +++++++\n",
            "\n",
            "\n",
            "\n",
            "\n",
            "\n",
            "Seq2Seq Prediction: \n",
            "editdistance:  22\n",
            "- import math <NEWLINE> def <unk> ( degree ) <NEWLINE> <INDENT> <unk> = degree * ( math . pi / 180 ) <NEWLINE> <unk> <NEWLINE> <DEDENT>\n",
            "?                                   ^^^^^^                              ^^^^^^\n",
            "\n",
            "+ import math <NEWLINE> def <unk> ( <unk> ) : <NEWLINE> <INDENT> <unk> = <unk> * ( math . pi / 180 ) <NEWLINE> return <unk> <NEWLINE> <DEDENT>\n",
            "?                                   ^^^^^  ++                            ^^^^^                                 +++++++\n",
            "\n",
            "\n",
            "\n",
            "\n",
            "\n",
            "CodeBERT Prediction: \n",
            "editdistance:  26\n",
            "- import math <NEWLINE> def <unk> ( degree ) <NEWLINE> <INDENT> <unk> = degree * ( math . pi / 180 ) <NEWLINE> <unk> <NEWLINE> <DEDENT>\n",
            "?                                     ^ --                              ^^^ ^             ^^ ^ ^^^\n",
            "\n",
            "+ import math <NEWLINE> def <unk> ( diameter ) : <NEWLINE> <INDENT> <unk> = True * ( math . sqrt ( ) ) <NEWLINE> return <unk> <NEWLINE> <DEDENT>\n",
            "?                                    +++ ^^   ++                            ^ ^             ^^^^ ^ ^            +++++++\n",
            "\n",
            "\n",
            "\n"
          ]
        }
      ]
    },
    {
      "cell_type": "code",
      "source": [
        "ref_file = \"/content/data/round2-BIFI-part1/data_paired/test.good\"\n",
        "seq2seq_trad = \"/content/saved_models/simple-lstm/pred-test_beam5.txt\"\n",
        "codebert_trad = \"/content/saved_models_exp/codebert/test_1.output\""
      ],
      "metadata": {
        "id": "66_XQArRsoge"
      },
      "execution_count": 131,
      "outputs": []
    },
    {
      "cell_type": "code",
      "source": [
        "from codebert.bleu import _bleu"
      ],
      "metadata": {
        "id": "ct4CoqHCjIFb"
      },
      "execution_count": 128,
      "outputs": []
    },
    {
      "cell_type": "code",
      "source": [
        "_bleu(ref_file, seq2seq_trad)"
      ],
      "metadata": {
        "colab": {
          "base_uri": "https://localhost:8080/"
        },
        "id": "Xfp5ZshCjM1y",
        "outputId": "a3b58dbf-67d4-4d2d-aad5-f73d11d87540"
      },
      "execution_count": 129,
      "outputs": [
        {
          "output_type": "execute_result",
          "data": {
            "text/plain": [
              "58.21"
            ]
          },
          "metadata": {},
          "execution_count": 129
        }
      ]
    },
    {
      "cell_type": "code",
      "source": [
        "_bleu(ref_file, codebert_trad)"
      ],
      "metadata": {
        "colab": {
          "base_uri": "https://localhost:8080/"
        },
        "id": "IiRPDdv7jRpd",
        "outputId": "be0c5c48-705c-43c4-97ea-7b0f5bf88e94"
      },
      "execution_count": 132,
      "outputs": [
        {
          "output_type": "execute_result",
          "data": {
            "text/plain": [
              "77.66"
            ]
          },
          "metadata": {},
          "execution_count": 132
        }
      ]
    }
  ]
}