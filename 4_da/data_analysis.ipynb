{
  "nbformat": 4,
  "nbformat_minor": 0,
  "metadata": {
    "colab": {
      "name": "intro-to-ds-4-da.ipynb",
      "provenance": []
    },
    "kernelspec": {
      "name": "python3",
      "display_name": "Python 3"
    },
    "language_info": {
      "name": "python"
    },
    "accelerator": "GPU",
    "gpuClass": "standard",
    "widgets": {
      "application/vnd.jupyter.widget-state+json": {
        "e3fd2c89ba9f4d61a4744028d476a51f": {
          "model_module": "@jupyter-widgets/controls",
          "model_name": "HBoxModel",
          "model_module_version": "1.5.0",
          "state": {
            "_dom_classes": [],
            "_model_module": "@jupyter-widgets/controls",
            "_model_module_version": "1.5.0",
            "_model_name": "HBoxModel",
            "_view_count": null,
            "_view_module": "@jupyter-widgets/controls",
            "_view_module_version": "1.5.0",
            "_view_name": "HBoxView",
            "box_style": "",
            "children": [
              "IPY_MODEL_a3ae91610b074a8ba799b351102d7158",
              "IPY_MODEL_5f595cbe63e54e70815d091e641a3a74",
              "IPY_MODEL_fc143c60c1f74ac4b374d49079141489"
            ],
            "layout": "IPY_MODEL_aa25eb346e894f1d93260cb501017042"
          }
        },
        "a3ae91610b074a8ba799b351102d7158": {
          "model_module": "@jupyter-widgets/controls",
          "model_name": "HTMLModel",
          "model_module_version": "1.5.0",
          "state": {
            "_dom_classes": [],
            "_model_module": "@jupyter-widgets/controls",
            "_model_module_version": "1.5.0",
            "_model_name": "HTMLModel",
            "_view_count": null,
            "_view_module": "@jupyter-widgets/controls",
            "_view_module_version": "1.5.0",
            "_view_name": "HTMLView",
            "description": "",
            "description_tooltip": null,
            "layout": "IPY_MODEL_b9877a3582e5459491efa9f34018b7ea",
            "placeholder": "​",
            "style": "IPY_MODEL_544674451a0e40fe91afbc8ba6bd820b",
            "value": "Downloading: 100%"
          }
        },
        "5f595cbe63e54e70815d091e641a3a74": {
          "model_module": "@jupyter-widgets/controls",
          "model_name": "FloatProgressModel",
          "model_module_version": "1.5.0",
          "state": {
            "_dom_classes": [],
            "_model_module": "@jupyter-widgets/controls",
            "_model_module_version": "1.5.0",
            "_model_name": "FloatProgressModel",
            "_view_count": null,
            "_view_module": "@jupyter-widgets/controls",
            "_view_module_version": "1.5.0",
            "_view_name": "ProgressView",
            "bar_style": "success",
            "description": "",
            "description_tooltip": null,
            "layout": "IPY_MODEL_372d71ebeaf7470f9f21a243823878ee",
            "max": 504,
            "min": 0,
            "orientation": "horizontal",
            "style": "IPY_MODEL_03500e8ad3e34d4a97efd1d580e5e329",
            "value": 504
          }
        },
        "fc143c60c1f74ac4b374d49079141489": {
          "model_module": "@jupyter-widgets/controls",
          "model_name": "HTMLModel",
          "model_module_version": "1.5.0",
          "state": {
            "_dom_classes": [],
            "_model_module": "@jupyter-widgets/controls",
            "_model_module_version": "1.5.0",
            "_model_name": "HTMLModel",
            "_view_count": null,
            "_view_module": "@jupyter-widgets/controls",
            "_view_module_version": "1.5.0",
            "_view_name": "HTMLView",
            "description": "",
            "description_tooltip": null,
            "layout": "IPY_MODEL_f6fbd01c0393495080e7052a8f6d0d6d",
            "placeholder": "​",
            "style": "IPY_MODEL_34ac6cdf2eb64935a2dbdb3477ab687a",
            "value": " 504/504 [00:00&lt;00:00, 5.79kB/s]"
          }
        },
        "aa25eb346e894f1d93260cb501017042": {
          "model_module": "@jupyter-widgets/base",
          "model_name": "LayoutModel",
          "model_module_version": "1.2.0",
          "state": {
            "_model_module": "@jupyter-widgets/base",
            "_model_module_version": "1.2.0",
            "_model_name": "LayoutModel",
            "_view_count": null,
            "_view_module": "@jupyter-widgets/base",
            "_view_module_version": "1.2.0",
            "_view_name": "LayoutView",
            "align_content": null,
            "align_items": null,
            "align_self": null,
            "border": null,
            "bottom": null,
            "display": null,
            "flex": null,
            "flex_flow": null,
            "grid_area": null,
            "grid_auto_columns": null,
            "grid_auto_flow": null,
            "grid_auto_rows": null,
            "grid_column": null,
            "grid_gap": null,
            "grid_row": null,
            "grid_template_areas": null,
            "grid_template_columns": null,
            "grid_template_rows": null,
            "height": null,
            "justify_content": null,
            "justify_items": null,
            "left": null,
            "margin": null,
            "max_height": null,
            "max_width": null,
            "min_height": null,
            "min_width": null,
            "object_fit": null,
            "object_position": null,
            "order": null,
            "overflow": null,
            "overflow_x": null,
            "overflow_y": null,
            "padding": null,
            "right": null,
            "top": null,
            "visibility": null,
            "width": null
          }
        },
        "b9877a3582e5459491efa9f34018b7ea": {
          "model_module": "@jupyter-widgets/base",
          "model_name": "LayoutModel",
          "model_module_version": "1.2.0",
          "state": {
            "_model_module": "@jupyter-widgets/base",
            "_model_module_version": "1.2.0",
            "_model_name": "LayoutModel",
            "_view_count": null,
            "_view_module": "@jupyter-widgets/base",
            "_view_module_version": "1.2.0",
            "_view_name": "LayoutView",
            "align_content": null,
            "align_items": null,
            "align_self": null,
            "border": null,
            "bottom": null,
            "display": null,
            "flex": null,
            "flex_flow": null,
            "grid_area": null,
            "grid_auto_columns": null,
            "grid_auto_flow": null,
            "grid_auto_rows": null,
            "grid_column": null,
            "grid_gap": null,
            "grid_row": null,
            "grid_template_areas": null,
            "grid_template_columns": null,
            "grid_template_rows": null,
            "height": null,
            "justify_content": null,
            "justify_items": null,
            "left": null,
            "margin": null,
            "max_height": null,
            "max_width": null,
            "min_height": null,
            "min_width": null,
            "object_fit": null,
            "object_position": null,
            "order": null,
            "overflow": null,
            "overflow_x": null,
            "overflow_y": null,
            "padding": null,
            "right": null,
            "top": null,
            "visibility": null,
            "width": null
          }
        },
        "544674451a0e40fe91afbc8ba6bd820b": {
          "model_module": "@jupyter-widgets/controls",
          "model_name": "DescriptionStyleModel",
          "model_module_version": "1.5.0",
          "state": {
            "_model_module": "@jupyter-widgets/controls",
            "_model_module_version": "1.5.0",
            "_model_name": "DescriptionStyleModel",
            "_view_count": null,
            "_view_module": "@jupyter-widgets/base",
            "_view_module_version": "1.2.0",
            "_view_name": "StyleView",
            "description_width": ""
          }
        },
        "372d71ebeaf7470f9f21a243823878ee": {
          "model_module": "@jupyter-widgets/base",
          "model_name": "LayoutModel",
          "model_module_version": "1.2.0",
          "state": {
            "_model_module": "@jupyter-widgets/base",
            "_model_module_version": "1.2.0",
            "_model_name": "LayoutModel",
            "_view_count": null,
            "_view_module": "@jupyter-widgets/base",
            "_view_module_version": "1.2.0",
            "_view_name": "LayoutView",
            "align_content": null,
            "align_items": null,
            "align_self": null,
            "border": null,
            "bottom": null,
            "display": null,
            "flex": null,
            "flex_flow": null,
            "grid_area": null,
            "grid_auto_columns": null,
            "grid_auto_flow": null,
            "grid_auto_rows": null,
            "grid_column": null,
            "grid_gap": null,
            "grid_row": null,
            "grid_template_areas": null,
            "grid_template_columns": null,
            "grid_template_rows": null,
            "height": null,
            "justify_content": null,
            "justify_items": null,
            "left": null,
            "margin": null,
            "max_height": null,
            "max_width": null,
            "min_height": null,
            "min_width": null,
            "object_fit": null,
            "object_position": null,
            "order": null,
            "overflow": null,
            "overflow_x": null,
            "overflow_y": null,
            "padding": null,
            "right": null,
            "top": null,
            "visibility": null,
            "width": null
          }
        },
        "03500e8ad3e34d4a97efd1d580e5e329": {
          "model_module": "@jupyter-widgets/controls",
          "model_name": "ProgressStyleModel",
          "model_module_version": "1.5.0",
          "state": {
            "_model_module": "@jupyter-widgets/controls",
            "_model_module_version": "1.5.0",
            "_model_name": "ProgressStyleModel",
            "_view_count": null,
            "_view_module": "@jupyter-widgets/base",
            "_view_module_version": "1.2.0",
            "_view_name": "StyleView",
            "bar_color": null,
            "description_width": ""
          }
        },
        "f6fbd01c0393495080e7052a8f6d0d6d": {
          "model_module": "@jupyter-widgets/base",
          "model_name": "LayoutModel",
          "model_module_version": "1.2.0",
          "state": {
            "_model_module": "@jupyter-widgets/base",
            "_model_module_version": "1.2.0",
            "_model_name": "LayoutModel",
            "_view_count": null,
            "_view_module": "@jupyter-widgets/base",
            "_view_module_version": "1.2.0",
            "_view_name": "LayoutView",
            "align_content": null,
            "align_items": null,
            "align_self": null,
            "border": null,
            "bottom": null,
            "display": null,
            "flex": null,
            "flex_flow": null,
            "grid_area": null,
            "grid_auto_columns": null,
            "grid_auto_flow": null,
            "grid_auto_rows": null,
            "grid_column": null,
            "grid_gap": null,
            "grid_row": null,
            "grid_template_areas": null,
            "grid_template_columns": null,
            "grid_template_rows": null,
            "height": null,
            "justify_content": null,
            "justify_items": null,
            "left": null,
            "margin": null,
            "max_height": null,
            "max_width": null,
            "min_height": null,
            "min_width": null,
            "object_fit": null,
            "object_position": null,
            "order": null,
            "overflow": null,
            "overflow_x": null,
            "overflow_y": null,
            "padding": null,
            "right": null,
            "top": null,
            "visibility": null,
            "width": null
          }
        },
        "34ac6cdf2eb64935a2dbdb3477ab687a": {
          "model_module": "@jupyter-widgets/controls",
          "model_name": "DescriptionStyleModel",
          "model_module_version": "1.5.0",
          "state": {
            "_model_module": "@jupyter-widgets/controls",
            "_model_module_version": "1.5.0",
            "_model_name": "DescriptionStyleModel",
            "_view_count": null,
            "_view_module": "@jupyter-widgets/base",
            "_view_module_version": "1.2.0",
            "_view_name": "StyleView",
            "description_width": ""
          }
        },
        "0bbbc70bed3944e5ab28d6b954cf05c5": {
          "model_module": "@jupyter-widgets/controls",
          "model_name": "HBoxModel",
          "model_module_version": "1.5.0",
          "state": {
            "_dom_classes": [],
            "_model_module": "@jupyter-widgets/controls",
            "_model_module_version": "1.5.0",
            "_model_name": "HBoxModel",
            "_view_count": null,
            "_view_module": "@jupyter-widgets/controls",
            "_view_module_version": "1.5.0",
            "_view_name": "HBoxView",
            "box_style": "",
            "children": [
              "IPY_MODEL_39d4518004da405db75b835fd9ecf2de",
              "IPY_MODEL_067da125dc454500af99c859036de9e4",
              "IPY_MODEL_d181050d6aaf45489d00e64da193ae06"
            ],
            "layout": "IPY_MODEL_47c06ad09b874f2991e3adc179c7dddd"
          }
        },
        "39d4518004da405db75b835fd9ecf2de": {
          "model_module": "@jupyter-widgets/controls",
          "model_name": "HTMLModel",
          "model_module_version": "1.5.0",
          "state": {
            "_dom_classes": [],
            "_model_module": "@jupyter-widgets/controls",
            "_model_module_version": "1.5.0",
            "_model_name": "HTMLModel",
            "_view_count": null,
            "_view_module": "@jupyter-widgets/controls",
            "_view_module_version": "1.5.0",
            "_view_name": "HTMLView",
            "description": "",
            "description_tooltip": null,
            "layout": "IPY_MODEL_0ec972d4ce7e40ba8539c1680a9dd736",
            "placeholder": "​",
            "style": "IPY_MODEL_c89c4b30dea044f884baeb2e0dfc0fd3",
            "value": "Downloading: 100%"
          }
        },
        "067da125dc454500af99c859036de9e4": {
          "model_module": "@jupyter-widgets/controls",
          "model_name": "FloatProgressModel",
          "model_module_version": "1.5.0",
          "state": {
            "_dom_classes": [],
            "_model_module": "@jupyter-widgets/controls",
            "_model_module_version": "1.5.0",
            "_model_name": "FloatProgressModel",
            "_view_count": null,
            "_view_module": "@jupyter-widgets/controls",
            "_view_module_version": "1.5.0",
            "_view_name": "ProgressView",
            "bar_style": "success",
            "description": "",
            "description_tooltip": null,
            "layout": "IPY_MODEL_6114b8a9a70f4f1d816f0d7fb6279cba",
            "max": 501201999,
            "min": 0,
            "orientation": "horizontal",
            "style": "IPY_MODEL_dc18a234f5d54f7cb1102b38f35f7af3",
            "value": 501201999
          }
        },
        "d181050d6aaf45489d00e64da193ae06": {
          "model_module": "@jupyter-widgets/controls",
          "model_name": "HTMLModel",
          "model_module_version": "1.5.0",
          "state": {
            "_dom_classes": [],
            "_model_module": "@jupyter-widgets/controls",
            "_model_module_version": "1.5.0",
            "_model_name": "HTMLModel",
            "_view_count": null,
            "_view_module": "@jupyter-widgets/controls",
            "_view_module_version": "1.5.0",
            "_view_name": "HTMLView",
            "description": "",
            "description_tooltip": null,
            "layout": "IPY_MODEL_ddd61e43691344a8b007e44f14b2a602",
            "placeholder": "​",
            "style": "IPY_MODEL_da6472f4f7574b5e818c293e16e7cf85",
            "value": " 478M/478M [00:16&lt;00:00, 37.6MB/s]"
          }
        },
        "47c06ad09b874f2991e3adc179c7dddd": {
          "model_module": "@jupyter-widgets/base",
          "model_name": "LayoutModel",
          "model_module_version": "1.2.0",
          "state": {
            "_model_module": "@jupyter-widgets/base",
            "_model_module_version": "1.2.0",
            "_model_name": "LayoutModel",
            "_view_count": null,
            "_view_module": "@jupyter-widgets/base",
            "_view_module_version": "1.2.0",
            "_view_name": "LayoutView",
            "align_content": null,
            "align_items": null,
            "align_self": null,
            "border": null,
            "bottom": null,
            "display": null,
            "flex": null,
            "flex_flow": null,
            "grid_area": null,
            "grid_auto_columns": null,
            "grid_auto_flow": null,
            "grid_auto_rows": null,
            "grid_column": null,
            "grid_gap": null,
            "grid_row": null,
            "grid_template_areas": null,
            "grid_template_columns": null,
            "grid_template_rows": null,
            "height": null,
            "justify_content": null,
            "justify_items": null,
            "left": null,
            "margin": null,
            "max_height": null,
            "max_width": null,
            "min_height": null,
            "min_width": null,
            "object_fit": null,
            "object_position": null,
            "order": null,
            "overflow": null,
            "overflow_x": null,
            "overflow_y": null,
            "padding": null,
            "right": null,
            "top": null,
            "visibility": null,
            "width": null
          }
        },
        "0ec972d4ce7e40ba8539c1680a9dd736": {
          "model_module": "@jupyter-widgets/base",
          "model_name": "LayoutModel",
          "model_module_version": "1.2.0",
          "state": {
            "_model_module": "@jupyter-widgets/base",
            "_model_module_version": "1.2.0",
            "_model_name": "LayoutModel",
            "_view_count": null,
            "_view_module": "@jupyter-widgets/base",
            "_view_module_version": "1.2.0",
            "_view_name": "LayoutView",
            "align_content": null,
            "align_items": null,
            "align_self": null,
            "border": null,
            "bottom": null,
            "display": null,
            "flex": null,
            "flex_flow": null,
            "grid_area": null,
            "grid_auto_columns": null,
            "grid_auto_flow": null,
            "grid_auto_rows": null,
            "grid_column": null,
            "grid_gap": null,
            "grid_row": null,
            "grid_template_areas": null,
            "grid_template_columns": null,
            "grid_template_rows": null,
            "height": null,
            "justify_content": null,
            "justify_items": null,
            "left": null,
            "margin": null,
            "max_height": null,
            "max_width": null,
            "min_height": null,
            "min_width": null,
            "object_fit": null,
            "object_position": null,
            "order": null,
            "overflow": null,
            "overflow_x": null,
            "overflow_y": null,
            "padding": null,
            "right": null,
            "top": null,
            "visibility": null,
            "width": null
          }
        },
        "c89c4b30dea044f884baeb2e0dfc0fd3": {
          "model_module": "@jupyter-widgets/controls",
          "model_name": "DescriptionStyleModel",
          "model_module_version": "1.5.0",
          "state": {
            "_model_module": "@jupyter-widgets/controls",
            "_model_module_version": "1.5.0",
            "_model_name": "DescriptionStyleModel",
            "_view_count": null,
            "_view_module": "@jupyter-widgets/base",
            "_view_module_version": "1.2.0",
            "_view_name": "StyleView",
            "description_width": ""
          }
        },
        "6114b8a9a70f4f1d816f0d7fb6279cba": {
          "model_module": "@jupyter-widgets/base",
          "model_name": "LayoutModel",
          "model_module_version": "1.2.0",
          "state": {
            "_model_module": "@jupyter-widgets/base",
            "_model_module_version": "1.2.0",
            "_model_name": "LayoutModel",
            "_view_count": null,
            "_view_module": "@jupyter-widgets/base",
            "_view_module_version": "1.2.0",
            "_view_name": "LayoutView",
            "align_content": null,
            "align_items": null,
            "align_self": null,
            "border": null,
            "bottom": null,
            "display": null,
            "flex": null,
            "flex_flow": null,
            "grid_area": null,
            "grid_auto_columns": null,
            "grid_auto_flow": null,
            "grid_auto_rows": null,
            "grid_column": null,
            "grid_gap": null,
            "grid_row": null,
            "grid_template_areas": null,
            "grid_template_columns": null,
            "grid_template_rows": null,
            "height": null,
            "justify_content": null,
            "justify_items": null,
            "left": null,
            "margin": null,
            "max_height": null,
            "max_width": null,
            "min_height": null,
            "min_width": null,
            "object_fit": null,
            "object_position": null,
            "order": null,
            "overflow": null,
            "overflow_x": null,
            "overflow_y": null,
            "padding": null,
            "right": null,
            "top": null,
            "visibility": null,
            "width": null
          }
        },
        "dc18a234f5d54f7cb1102b38f35f7af3": {
          "model_module": "@jupyter-widgets/controls",
          "model_name": "ProgressStyleModel",
          "model_module_version": "1.5.0",
          "state": {
            "_model_module": "@jupyter-widgets/controls",
            "_model_module_version": "1.5.0",
            "_model_name": "ProgressStyleModel",
            "_view_count": null,
            "_view_module": "@jupyter-widgets/base",
            "_view_module_version": "1.2.0",
            "_view_name": "StyleView",
            "bar_color": null,
            "description_width": ""
          }
        },
        "ddd61e43691344a8b007e44f14b2a602": {
          "model_module": "@jupyter-widgets/base",
          "model_name": "LayoutModel",
          "model_module_version": "1.2.0",
          "state": {
            "_model_module": "@jupyter-widgets/base",
            "_model_module_version": "1.2.0",
            "_model_name": "LayoutModel",
            "_view_count": null,
            "_view_module": "@jupyter-widgets/base",
            "_view_module_version": "1.2.0",
            "_view_name": "LayoutView",
            "align_content": null,
            "align_items": null,
            "align_self": null,
            "border": null,
            "bottom": null,
            "display": null,
            "flex": null,
            "flex_flow": null,
            "grid_area": null,
            "grid_auto_columns": null,
            "grid_auto_flow": null,
            "grid_auto_rows": null,
            "grid_column": null,
            "grid_gap": null,
            "grid_row": null,
            "grid_template_areas": null,
            "grid_template_columns": null,
            "grid_template_rows": null,
            "height": null,
            "justify_content": null,
            "justify_items": null,
            "left": null,
            "margin": null,
            "max_height": null,
            "max_width": null,
            "min_height": null,
            "min_width": null,
            "object_fit": null,
            "object_position": null,
            "order": null,
            "overflow": null,
            "overflow_x": null,
            "overflow_y": null,
            "padding": null,
            "right": null,
            "top": null,
            "visibility": null,
            "width": null
          }
        },
        "da6472f4f7574b5e818c293e16e7cf85": {
          "model_module": "@jupyter-widgets/controls",
          "model_name": "DescriptionStyleModel",
          "model_module_version": "1.5.0",
          "state": {
            "_model_module": "@jupyter-widgets/controls",
            "_model_module_version": "1.5.0",
            "_model_name": "DescriptionStyleModel",
            "_view_count": null,
            "_view_module": "@jupyter-widgets/base",
            "_view_module_version": "1.2.0",
            "_view_name": "StyleView",
            "description_width": ""
          }
        },
        "ff67b2437437415a9b7ca1bf0d46fd45": {
          "model_module": "@jupyter-widgets/controls",
          "model_name": "HBoxModel",
          "model_module_version": "1.5.0",
          "state": {
            "_dom_classes": [],
            "_model_module": "@jupyter-widgets/controls",
            "_model_module_version": "1.5.0",
            "_model_name": "HBoxModel",
            "_view_count": null,
            "_view_module": "@jupyter-widgets/controls",
            "_view_module_version": "1.5.0",
            "_view_name": "HBoxView",
            "box_style": "",
            "children": [
              "IPY_MODEL_b17b8482d6324c53a32e918a342a050a",
              "IPY_MODEL_5f631a7f3f57444098e982eebd09f2a7",
              "IPY_MODEL_ba6b4b4365824390bb27b59670c28afb"
            ],
            "layout": "IPY_MODEL_1f8e8adfea5f416f8e9db8d38e0abe82"
          }
        },
        "b17b8482d6324c53a32e918a342a050a": {
          "model_module": "@jupyter-widgets/controls",
          "model_name": "HTMLModel",
          "model_module_version": "1.5.0",
          "state": {
            "_dom_classes": [],
            "_model_module": "@jupyter-widgets/controls",
            "_model_module_version": "1.5.0",
            "_model_name": "HTMLModel",
            "_view_count": null,
            "_view_module": "@jupyter-widgets/controls",
            "_view_module_version": "1.5.0",
            "_view_name": "HTMLView",
            "description": "",
            "description_tooltip": null,
            "layout": "IPY_MODEL_22180e4d52fd419492ce081417153766",
            "placeholder": "​",
            "style": "IPY_MODEL_3c9a80d567fa48619296681083a1e679",
            "value": "Downloading: 100%"
          }
        },
        "5f631a7f3f57444098e982eebd09f2a7": {
          "model_module": "@jupyter-widgets/controls",
          "model_name": "FloatProgressModel",
          "model_module_version": "1.5.0",
          "state": {
            "_dom_classes": [],
            "_model_module": "@jupyter-widgets/controls",
            "_model_module_version": "1.5.0",
            "_model_name": "FloatProgressModel",
            "_view_count": null,
            "_view_module": "@jupyter-widgets/controls",
            "_view_module_version": "1.5.0",
            "_view_name": "ProgressView",
            "bar_style": "success",
            "description": "",
            "description_tooltip": null,
            "layout": "IPY_MODEL_39960a9c5eea4b1b8aea96df71488019",
            "max": 898822,
            "min": 0,
            "orientation": "horizontal",
            "style": "IPY_MODEL_7ba5eda7c88c48b7b48441d1c3454b46",
            "value": 898822
          }
        },
        "ba6b4b4365824390bb27b59670c28afb": {
          "model_module": "@jupyter-widgets/controls",
          "model_name": "HTMLModel",
          "model_module_version": "1.5.0",
          "state": {
            "_dom_classes": [],
            "_model_module": "@jupyter-widgets/controls",
            "_model_module_version": "1.5.0",
            "_model_name": "HTMLModel",
            "_view_count": null,
            "_view_module": "@jupyter-widgets/controls",
            "_view_module_version": "1.5.0",
            "_view_name": "HTMLView",
            "description": "",
            "description_tooltip": null,
            "layout": "IPY_MODEL_5572bac8c1eb45f9902937ba8b4a38a5",
            "placeholder": "​",
            "style": "IPY_MODEL_6af2c21c7471410ca55481b80b185a9a",
            "value": " 878k/878k [00:00&lt;00:00, 4.04MB/s]"
          }
        },
        "1f8e8adfea5f416f8e9db8d38e0abe82": {
          "model_module": "@jupyter-widgets/base",
          "model_name": "LayoutModel",
          "model_module_version": "1.2.0",
          "state": {
            "_model_module": "@jupyter-widgets/base",
            "_model_module_version": "1.2.0",
            "_model_name": "LayoutModel",
            "_view_count": null,
            "_view_module": "@jupyter-widgets/base",
            "_view_module_version": "1.2.0",
            "_view_name": "LayoutView",
            "align_content": null,
            "align_items": null,
            "align_self": null,
            "border": null,
            "bottom": null,
            "display": null,
            "flex": null,
            "flex_flow": null,
            "grid_area": null,
            "grid_auto_columns": null,
            "grid_auto_flow": null,
            "grid_auto_rows": null,
            "grid_column": null,
            "grid_gap": null,
            "grid_row": null,
            "grid_template_areas": null,
            "grid_template_columns": null,
            "grid_template_rows": null,
            "height": null,
            "justify_content": null,
            "justify_items": null,
            "left": null,
            "margin": null,
            "max_height": null,
            "max_width": null,
            "min_height": null,
            "min_width": null,
            "object_fit": null,
            "object_position": null,
            "order": null,
            "overflow": null,
            "overflow_x": null,
            "overflow_y": null,
            "padding": null,
            "right": null,
            "top": null,
            "visibility": null,
            "width": null
          }
        },
        "22180e4d52fd419492ce081417153766": {
          "model_module": "@jupyter-widgets/base",
          "model_name": "LayoutModel",
          "model_module_version": "1.2.0",
          "state": {
            "_model_module": "@jupyter-widgets/base",
            "_model_module_version": "1.2.0",
            "_model_name": "LayoutModel",
            "_view_count": null,
            "_view_module": "@jupyter-widgets/base",
            "_view_module_version": "1.2.0",
            "_view_name": "LayoutView",
            "align_content": null,
            "align_items": null,
            "align_self": null,
            "border": null,
            "bottom": null,
            "display": null,
            "flex": null,
            "flex_flow": null,
            "grid_area": null,
            "grid_auto_columns": null,
            "grid_auto_flow": null,
            "grid_auto_rows": null,
            "grid_column": null,
            "grid_gap": null,
            "grid_row": null,
            "grid_template_areas": null,
            "grid_template_columns": null,
            "grid_template_rows": null,
            "height": null,
            "justify_content": null,
            "justify_items": null,
            "left": null,
            "margin": null,
            "max_height": null,
            "max_width": null,
            "min_height": null,
            "min_width": null,
            "object_fit": null,
            "object_position": null,
            "order": null,
            "overflow": null,
            "overflow_x": null,
            "overflow_y": null,
            "padding": null,
            "right": null,
            "top": null,
            "visibility": null,
            "width": null
          }
        },
        "3c9a80d567fa48619296681083a1e679": {
          "model_module": "@jupyter-widgets/controls",
          "model_name": "DescriptionStyleModel",
          "model_module_version": "1.5.0",
          "state": {
            "_model_module": "@jupyter-widgets/controls",
            "_model_module_version": "1.5.0",
            "_model_name": "DescriptionStyleModel",
            "_view_count": null,
            "_view_module": "@jupyter-widgets/base",
            "_view_module_version": "1.2.0",
            "_view_name": "StyleView",
            "description_width": ""
          }
        },
        "39960a9c5eea4b1b8aea96df71488019": {
          "model_module": "@jupyter-widgets/base",
          "model_name": "LayoutModel",
          "model_module_version": "1.2.0",
          "state": {
            "_model_module": "@jupyter-widgets/base",
            "_model_module_version": "1.2.0",
            "_model_name": "LayoutModel",
            "_view_count": null,
            "_view_module": "@jupyter-widgets/base",
            "_view_module_version": "1.2.0",
            "_view_name": "LayoutView",
            "align_content": null,
            "align_items": null,
            "align_self": null,
            "border": null,
            "bottom": null,
            "display": null,
            "flex": null,
            "flex_flow": null,
            "grid_area": null,
            "grid_auto_columns": null,
            "grid_auto_flow": null,
            "grid_auto_rows": null,
            "grid_column": null,
            "grid_gap": null,
            "grid_row": null,
            "grid_template_areas": null,
            "grid_template_columns": null,
            "grid_template_rows": null,
            "height": null,
            "justify_content": null,
            "justify_items": null,
            "left": null,
            "margin": null,
            "max_height": null,
            "max_width": null,
            "min_height": null,
            "min_width": null,
            "object_fit": null,
            "object_position": null,
            "order": null,
            "overflow": null,
            "overflow_x": null,
            "overflow_y": null,
            "padding": null,
            "right": null,
            "top": null,
            "visibility": null,
            "width": null
          }
        },
        "7ba5eda7c88c48b7b48441d1c3454b46": {
          "model_module": "@jupyter-widgets/controls",
          "model_name": "ProgressStyleModel",
          "model_module_version": "1.5.0",
          "state": {
            "_model_module": "@jupyter-widgets/controls",
            "_model_module_version": "1.5.0",
            "_model_name": "ProgressStyleModel",
            "_view_count": null,
            "_view_module": "@jupyter-widgets/base",
            "_view_module_version": "1.2.0",
            "_view_name": "StyleView",
            "bar_color": null,
            "description_width": ""
          }
        },
        "5572bac8c1eb45f9902937ba8b4a38a5": {
          "model_module": "@jupyter-widgets/base",
          "model_name": "LayoutModel",
          "model_module_version": "1.2.0",
          "state": {
            "_model_module": "@jupyter-widgets/base",
            "_model_module_version": "1.2.0",
            "_model_name": "LayoutModel",
            "_view_count": null,
            "_view_module": "@jupyter-widgets/base",
            "_view_module_version": "1.2.0",
            "_view_name": "LayoutView",
            "align_content": null,
            "align_items": null,
            "align_self": null,
            "border": null,
            "bottom": null,
            "display": null,
            "flex": null,
            "flex_flow": null,
            "grid_area": null,
            "grid_auto_columns": null,
            "grid_auto_flow": null,
            "grid_auto_rows": null,
            "grid_column": null,
            "grid_gap": null,
            "grid_row": null,
            "grid_template_areas": null,
            "grid_template_columns": null,
            "grid_template_rows": null,
            "height": null,
            "justify_content": null,
            "justify_items": null,
            "left": null,
            "margin": null,
            "max_height": null,
            "max_width": null,
            "min_height": null,
            "min_width": null,
            "object_fit": null,
            "object_position": null,
            "order": null,
            "overflow": null,
            "overflow_x": null,
            "overflow_y": null,
            "padding": null,
            "right": null,
            "top": null,
            "visibility": null,
            "width": null
          }
        },
        "6af2c21c7471410ca55481b80b185a9a": {
          "model_module": "@jupyter-widgets/controls",
          "model_name": "DescriptionStyleModel",
          "model_module_version": "1.5.0",
          "state": {
            "_model_module": "@jupyter-widgets/controls",
            "_model_module_version": "1.5.0",
            "_model_name": "DescriptionStyleModel",
            "_view_count": null,
            "_view_module": "@jupyter-widgets/base",
            "_view_module_version": "1.2.0",
            "_view_name": "StyleView",
            "description_width": ""
          }
        },
        "07880407c3074e839c42c8ab12c5b7e5": {
          "model_module": "@jupyter-widgets/controls",
          "model_name": "HBoxModel",
          "model_module_version": "1.5.0",
          "state": {
            "_dom_classes": [],
            "_model_module": "@jupyter-widgets/controls",
            "_model_module_version": "1.5.0",
            "_model_name": "HBoxModel",
            "_view_count": null,
            "_view_module": "@jupyter-widgets/controls",
            "_view_module_version": "1.5.0",
            "_view_name": "HBoxView",
            "box_style": "",
            "children": [
              "IPY_MODEL_7acc80a2d99d4f53b893ccedcbee3c86",
              "IPY_MODEL_e8ea3e119628411bbb0475fe0adaffd8",
              "IPY_MODEL_8c9f93ef04b140f1ae5adf6b502e01bc"
            ],
            "layout": "IPY_MODEL_9e51da72a8b44b438c43884272849a97"
          }
        },
        "7acc80a2d99d4f53b893ccedcbee3c86": {
          "model_module": "@jupyter-widgets/controls",
          "model_name": "HTMLModel",
          "model_module_version": "1.5.0",
          "state": {
            "_dom_classes": [],
            "_model_module": "@jupyter-widgets/controls",
            "_model_module_version": "1.5.0",
            "_model_name": "HTMLModel",
            "_view_count": null,
            "_view_module": "@jupyter-widgets/controls",
            "_view_module_version": "1.5.0",
            "_view_name": "HTMLView",
            "description": "",
            "description_tooltip": null,
            "layout": "IPY_MODEL_3c980265bd814c95946b5888a8394f0f",
            "placeholder": "​",
            "style": "IPY_MODEL_f1edb3669b074f2a82413f5ec8a86bdc",
            "value": "Downloading: 100%"
          }
        },
        "e8ea3e119628411bbb0475fe0adaffd8": {
          "model_module": "@jupyter-widgets/controls",
          "model_name": "FloatProgressModel",
          "model_module_version": "1.5.0",
          "state": {
            "_dom_classes": [],
            "_model_module": "@jupyter-widgets/controls",
            "_model_module_version": "1.5.0",
            "_model_name": "FloatProgressModel",
            "_view_count": null,
            "_view_module": "@jupyter-widgets/controls",
            "_view_module_version": "1.5.0",
            "_view_name": "ProgressView",
            "bar_style": "success",
            "description": "",
            "description_tooltip": null,
            "layout": "IPY_MODEL_d2289d6a62ec4ebeb350c4c0c630b4f7",
            "max": 456318,
            "min": 0,
            "orientation": "horizontal",
            "style": "IPY_MODEL_7bb311316ee14acc9dfa6b9adaea4fc5",
            "value": 456318
          }
        },
        "8c9f93ef04b140f1ae5adf6b502e01bc": {
          "model_module": "@jupyter-widgets/controls",
          "model_name": "HTMLModel",
          "model_module_version": "1.5.0",
          "state": {
            "_dom_classes": [],
            "_model_module": "@jupyter-widgets/controls",
            "_model_module_version": "1.5.0",
            "_model_name": "HTMLModel",
            "_view_count": null,
            "_view_module": "@jupyter-widgets/controls",
            "_view_module_version": "1.5.0",
            "_view_name": "HTMLView",
            "description": "",
            "description_tooltip": null,
            "layout": "IPY_MODEL_383fd9e42ee6456b8d6a2b8c4add7c37",
            "placeholder": "​",
            "style": "IPY_MODEL_d3ac846f5ab64c04aa7442803ae1f438",
            "value": " 446k/446k [00:00&lt;00:00, 1.57MB/s]"
          }
        },
        "9e51da72a8b44b438c43884272849a97": {
          "model_module": "@jupyter-widgets/base",
          "model_name": "LayoutModel",
          "model_module_version": "1.2.0",
          "state": {
            "_model_module": "@jupyter-widgets/base",
            "_model_module_version": "1.2.0",
            "_model_name": "LayoutModel",
            "_view_count": null,
            "_view_module": "@jupyter-widgets/base",
            "_view_module_version": "1.2.0",
            "_view_name": "LayoutView",
            "align_content": null,
            "align_items": null,
            "align_self": null,
            "border": null,
            "bottom": null,
            "display": null,
            "flex": null,
            "flex_flow": null,
            "grid_area": null,
            "grid_auto_columns": null,
            "grid_auto_flow": null,
            "grid_auto_rows": null,
            "grid_column": null,
            "grid_gap": null,
            "grid_row": null,
            "grid_template_areas": null,
            "grid_template_columns": null,
            "grid_template_rows": null,
            "height": null,
            "justify_content": null,
            "justify_items": null,
            "left": null,
            "margin": null,
            "max_height": null,
            "max_width": null,
            "min_height": null,
            "min_width": null,
            "object_fit": null,
            "object_position": null,
            "order": null,
            "overflow": null,
            "overflow_x": null,
            "overflow_y": null,
            "padding": null,
            "right": null,
            "top": null,
            "visibility": null,
            "width": null
          }
        },
        "3c980265bd814c95946b5888a8394f0f": {
          "model_module": "@jupyter-widgets/base",
          "model_name": "LayoutModel",
          "model_module_version": "1.2.0",
          "state": {
            "_model_module": "@jupyter-widgets/base",
            "_model_module_version": "1.2.0",
            "_model_name": "LayoutModel",
            "_view_count": null,
            "_view_module": "@jupyter-widgets/base",
            "_view_module_version": "1.2.0",
            "_view_name": "LayoutView",
            "align_content": null,
            "align_items": null,
            "align_self": null,
            "border": null,
            "bottom": null,
            "display": null,
            "flex": null,
            "flex_flow": null,
            "grid_area": null,
            "grid_auto_columns": null,
            "grid_auto_flow": null,
            "grid_auto_rows": null,
            "grid_column": null,
            "grid_gap": null,
            "grid_row": null,
            "grid_template_areas": null,
            "grid_template_columns": null,
            "grid_template_rows": null,
            "height": null,
            "justify_content": null,
            "justify_items": null,
            "left": null,
            "margin": null,
            "max_height": null,
            "max_width": null,
            "min_height": null,
            "min_width": null,
            "object_fit": null,
            "object_position": null,
            "order": null,
            "overflow": null,
            "overflow_x": null,
            "overflow_y": null,
            "padding": null,
            "right": null,
            "top": null,
            "visibility": null,
            "width": null
          }
        },
        "f1edb3669b074f2a82413f5ec8a86bdc": {
          "model_module": "@jupyter-widgets/controls",
          "model_name": "DescriptionStyleModel",
          "model_module_version": "1.5.0",
          "state": {
            "_model_module": "@jupyter-widgets/controls",
            "_model_module_version": "1.5.0",
            "_model_name": "DescriptionStyleModel",
            "_view_count": null,
            "_view_module": "@jupyter-widgets/base",
            "_view_module_version": "1.2.0",
            "_view_name": "StyleView",
            "description_width": ""
          }
        },
        "d2289d6a62ec4ebeb350c4c0c630b4f7": {
          "model_module": "@jupyter-widgets/base",
          "model_name": "LayoutModel",
          "model_module_version": "1.2.0",
          "state": {
            "_model_module": "@jupyter-widgets/base",
            "_model_module_version": "1.2.0",
            "_model_name": "LayoutModel",
            "_view_count": null,
            "_view_module": "@jupyter-widgets/base",
            "_view_module_version": "1.2.0",
            "_view_name": "LayoutView",
            "align_content": null,
            "align_items": null,
            "align_self": null,
            "border": null,
            "bottom": null,
            "display": null,
            "flex": null,
            "flex_flow": null,
            "grid_area": null,
            "grid_auto_columns": null,
            "grid_auto_flow": null,
            "grid_auto_rows": null,
            "grid_column": null,
            "grid_gap": null,
            "grid_row": null,
            "grid_template_areas": null,
            "grid_template_columns": null,
            "grid_template_rows": null,
            "height": null,
            "justify_content": null,
            "justify_items": null,
            "left": null,
            "margin": null,
            "max_height": null,
            "max_width": null,
            "min_height": null,
            "min_width": null,
            "object_fit": null,
            "object_position": null,
            "order": null,
            "overflow": null,
            "overflow_x": null,
            "overflow_y": null,
            "padding": null,
            "right": null,
            "top": null,
            "visibility": null,
            "width": null
          }
        },
        "7bb311316ee14acc9dfa6b9adaea4fc5": {
          "model_module": "@jupyter-widgets/controls",
          "model_name": "ProgressStyleModel",
          "model_module_version": "1.5.0",
          "state": {
            "_model_module": "@jupyter-widgets/controls",
            "_model_module_version": "1.5.0",
            "_model_name": "ProgressStyleModel",
            "_view_count": null,
            "_view_module": "@jupyter-widgets/base",
            "_view_module_version": "1.2.0",
            "_view_name": "StyleView",
            "bar_color": null,
            "description_width": ""
          }
        },
        "383fd9e42ee6456b8d6a2b8c4add7c37": {
          "model_module": "@jupyter-widgets/base",
          "model_name": "LayoutModel",
          "model_module_version": "1.2.0",
          "state": {
            "_model_module": "@jupyter-widgets/base",
            "_model_module_version": "1.2.0",
            "_model_name": "LayoutModel",
            "_view_count": null,
            "_view_module": "@jupyter-widgets/base",
            "_view_module_version": "1.2.0",
            "_view_name": "LayoutView",
            "align_content": null,
            "align_items": null,
            "align_self": null,
            "border": null,
            "bottom": null,
            "display": null,
            "flex": null,
            "flex_flow": null,
            "grid_area": null,
            "grid_auto_columns": null,
            "grid_auto_flow": null,
            "grid_auto_rows": null,
            "grid_column": null,
            "grid_gap": null,
            "grid_row": null,
            "grid_template_areas": null,
            "grid_template_columns": null,
            "grid_template_rows": null,
            "height": null,
            "justify_content": null,
            "justify_items": null,
            "left": null,
            "margin": null,
            "max_height": null,
            "max_width": null,
            "min_height": null,
            "min_width": null,
            "object_fit": null,
            "object_position": null,
            "order": null,
            "overflow": null,
            "overflow_x": null,
            "overflow_y": null,
            "padding": null,
            "right": null,
            "top": null,
            "visibility": null,
            "width": null
          }
        },
        "d3ac846f5ab64c04aa7442803ae1f438": {
          "model_module": "@jupyter-widgets/controls",
          "model_name": "DescriptionStyleModel",
          "model_module_version": "1.5.0",
          "state": {
            "_model_module": "@jupyter-widgets/controls",
            "_model_module_version": "1.5.0",
            "_model_name": "DescriptionStyleModel",
            "_view_count": null,
            "_view_module": "@jupyter-widgets/base",
            "_view_module_version": "1.2.0",
            "_view_name": "StyleView",
            "description_width": ""
          }
        },
        "a95f2077d69243359b6e2c8783907ff6": {
          "model_module": "@jupyter-widgets/controls",
          "model_name": "HBoxModel",
          "model_module_version": "1.5.0",
          "state": {
            "_dom_classes": [],
            "_model_module": "@jupyter-widgets/controls",
            "_model_module_version": "1.5.0",
            "_model_name": "HBoxModel",
            "_view_count": null,
            "_view_module": "@jupyter-widgets/controls",
            "_view_module_version": "1.5.0",
            "_view_name": "HBoxView",
            "box_style": "",
            "children": [
              "IPY_MODEL_dda32d28e9ac46edb09e4618f7f059c7",
              "IPY_MODEL_107405bdd2ee40cea0bce5d71bc0ecf2",
              "IPY_MODEL_0596528656ce4a15a5981c63377f0404"
            ],
            "layout": "IPY_MODEL_020cee85d26e495b98aae98bf3574536"
          }
        },
        "dda32d28e9ac46edb09e4618f7f059c7": {
          "model_module": "@jupyter-widgets/controls",
          "model_name": "HTMLModel",
          "model_module_version": "1.5.0",
          "state": {
            "_dom_classes": [],
            "_model_module": "@jupyter-widgets/controls",
            "_model_module_version": "1.5.0",
            "_model_name": "HTMLModel",
            "_view_count": null,
            "_view_module": "@jupyter-widgets/controls",
            "_view_module_version": "1.5.0",
            "_view_name": "HTMLView",
            "description": "",
            "description_tooltip": null,
            "layout": "IPY_MODEL_8a08389deb274d47837df60221392265",
            "placeholder": "​",
            "style": "IPY_MODEL_340ae8631a214396aee83e873ee5de97",
            "value": "Downloading: 100%"
          }
        },
        "107405bdd2ee40cea0bce5d71bc0ecf2": {
          "model_module": "@jupyter-widgets/controls",
          "model_name": "FloatProgressModel",
          "model_module_version": "1.5.0",
          "state": {
            "_dom_classes": [],
            "_model_module": "@jupyter-widgets/controls",
            "_model_module_version": "1.5.0",
            "_model_name": "FloatProgressModel",
            "_view_count": null,
            "_view_module": "@jupyter-widgets/controls",
            "_view_module_version": "1.5.0",
            "_view_name": "ProgressView",
            "bar_style": "success",
            "description": "",
            "description_tooltip": null,
            "layout": "IPY_MODEL_bd648e8da241486e95142613648f6e2a",
            "max": 150,
            "min": 0,
            "orientation": "horizontal",
            "style": "IPY_MODEL_2e4d8694881a4e69a1e1400ef55d02ec",
            "value": 150
          }
        },
        "0596528656ce4a15a5981c63377f0404": {
          "model_module": "@jupyter-widgets/controls",
          "model_name": "HTMLModel",
          "model_module_version": "1.5.0",
          "state": {
            "_dom_classes": [],
            "_model_module": "@jupyter-widgets/controls",
            "_model_module_version": "1.5.0",
            "_model_name": "HTMLModel",
            "_view_count": null,
            "_view_module": "@jupyter-widgets/controls",
            "_view_module_version": "1.5.0",
            "_view_name": "HTMLView",
            "description": "",
            "description_tooltip": null,
            "layout": "IPY_MODEL_bc381806b7be44de862dfa317f44b299",
            "placeholder": "​",
            "style": "IPY_MODEL_1bca98b744874531ad64079a0920a3a4",
            "value": " 150/150 [00:00&lt;00:00, 4.25kB/s]"
          }
        },
        "020cee85d26e495b98aae98bf3574536": {
          "model_module": "@jupyter-widgets/base",
          "model_name": "LayoutModel",
          "model_module_version": "1.2.0",
          "state": {
            "_model_module": "@jupyter-widgets/base",
            "_model_module_version": "1.2.0",
            "_model_name": "LayoutModel",
            "_view_count": null,
            "_view_module": "@jupyter-widgets/base",
            "_view_module_version": "1.2.0",
            "_view_name": "LayoutView",
            "align_content": null,
            "align_items": null,
            "align_self": null,
            "border": null,
            "bottom": null,
            "display": null,
            "flex": null,
            "flex_flow": null,
            "grid_area": null,
            "grid_auto_columns": null,
            "grid_auto_flow": null,
            "grid_auto_rows": null,
            "grid_column": null,
            "grid_gap": null,
            "grid_row": null,
            "grid_template_areas": null,
            "grid_template_columns": null,
            "grid_template_rows": null,
            "height": null,
            "justify_content": null,
            "justify_items": null,
            "left": null,
            "margin": null,
            "max_height": null,
            "max_width": null,
            "min_height": null,
            "min_width": null,
            "object_fit": null,
            "object_position": null,
            "order": null,
            "overflow": null,
            "overflow_x": null,
            "overflow_y": null,
            "padding": null,
            "right": null,
            "top": null,
            "visibility": null,
            "width": null
          }
        },
        "8a08389deb274d47837df60221392265": {
          "model_module": "@jupyter-widgets/base",
          "model_name": "LayoutModel",
          "model_module_version": "1.2.0",
          "state": {
            "_model_module": "@jupyter-widgets/base",
            "_model_module_version": "1.2.0",
            "_model_name": "LayoutModel",
            "_view_count": null,
            "_view_module": "@jupyter-widgets/base",
            "_view_module_version": "1.2.0",
            "_view_name": "LayoutView",
            "align_content": null,
            "align_items": null,
            "align_self": null,
            "border": null,
            "bottom": null,
            "display": null,
            "flex": null,
            "flex_flow": null,
            "grid_area": null,
            "grid_auto_columns": null,
            "grid_auto_flow": null,
            "grid_auto_rows": null,
            "grid_column": null,
            "grid_gap": null,
            "grid_row": null,
            "grid_template_areas": null,
            "grid_template_columns": null,
            "grid_template_rows": null,
            "height": null,
            "justify_content": null,
            "justify_items": null,
            "left": null,
            "margin": null,
            "max_height": null,
            "max_width": null,
            "min_height": null,
            "min_width": null,
            "object_fit": null,
            "object_position": null,
            "order": null,
            "overflow": null,
            "overflow_x": null,
            "overflow_y": null,
            "padding": null,
            "right": null,
            "top": null,
            "visibility": null,
            "width": null
          }
        },
        "340ae8631a214396aee83e873ee5de97": {
          "model_module": "@jupyter-widgets/controls",
          "model_name": "DescriptionStyleModel",
          "model_module_version": "1.5.0",
          "state": {
            "_model_module": "@jupyter-widgets/controls",
            "_model_module_version": "1.5.0",
            "_model_name": "DescriptionStyleModel",
            "_view_count": null,
            "_view_module": "@jupyter-widgets/base",
            "_view_module_version": "1.2.0",
            "_view_name": "StyleView",
            "description_width": ""
          }
        },
        "bd648e8da241486e95142613648f6e2a": {
          "model_module": "@jupyter-widgets/base",
          "model_name": "LayoutModel",
          "model_module_version": "1.2.0",
          "state": {
            "_model_module": "@jupyter-widgets/base",
            "_model_module_version": "1.2.0",
            "_model_name": "LayoutModel",
            "_view_count": null,
            "_view_module": "@jupyter-widgets/base",
            "_view_module_version": "1.2.0",
            "_view_name": "LayoutView",
            "align_content": null,
            "align_items": null,
            "align_self": null,
            "border": null,
            "bottom": null,
            "display": null,
            "flex": null,
            "flex_flow": null,
            "grid_area": null,
            "grid_auto_columns": null,
            "grid_auto_flow": null,
            "grid_auto_rows": null,
            "grid_column": null,
            "grid_gap": null,
            "grid_row": null,
            "grid_template_areas": null,
            "grid_template_columns": null,
            "grid_template_rows": null,
            "height": null,
            "justify_content": null,
            "justify_items": null,
            "left": null,
            "margin": null,
            "max_height": null,
            "max_width": null,
            "min_height": null,
            "min_width": null,
            "object_fit": null,
            "object_position": null,
            "order": null,
            "overflow": null,
            "overflow_x": null,
            "overflow_y": null,
            "padding": null,
            "right": null,
            "top": null,
            "visibility": null,
            "width": null
          }
        },
        "2e4d8694881a4e69a1e1400ef55d02ec": {
          "model_module": "@jupyter-widgets/controls",
          "model_name": "ProgressStyleModel",
          "model_module_version": "1.5.0",
          "state": {
            "_model_module": "@jupyter-widgets/controls",
            "_model_module_version": "1.5.0",
            "_model_name": "ProgressStyleModel",
            "_view_count": null,
            "_view_module": "@jupyter-widgets/base",
            "_view_module_version": "1.2.0",
            "_view_name": "StyleView",
            "bar_color": null,
            "description_width": ""
          }
        },
        "bc381806b7be44de862dfa317f44b299": {
          "model_module": "@jupyter-widgets/base",
          "model_name": "LayoutModel",
          "model_module_version": "1.2.0",
          "state": {
            "_model_module": "@jupyter-widgets/base",
            "_model_module_version": "1.2.0",
            "_model_name": "LayoutModel",
            "_view_count": null,
            "_view_module": "@jupyter-widgets/base",
            "_view_module_version": "1.2.0",
            "_view_name": "LayoutView",
            "align_content": null,
            "align_items": null,
            "align_self": null,
            "border": null,
            "bottom": null,
            "display": null,
            "flex": null,
            "flex_flow": null,
            "grid_area": null,
            "grid_auto_columns": null,
            "grid_auto_flow": null,
            "grid_auto_rows": null,
            "grid_column": null,
            "grid_gap": null,
            "grid_row": null,
            "grid_template_areas": null,
            "grid_template_columns": null,
            "grid_template_rows": null,
            "height": null,
            "justify_content": null,
            "justify_items": null,
            "left": null,
            "margin": null,
            "max_height": null,
            "max_width": null,
            "min_height": null,
            "min_width": null,
            "object_fit": null,
            "object_position": null,
            "order": null,
            "overflow": null,
            "overflow_x": null,
            "overflow_y": null,
            "padding": null,
            "right": null,
            "top": null,
            "visibility": null,
            "width": null
          }
        },
        "1bca98b744874531ad64079a0920a3a4": {
          "model_module": "@jupyter-widgets/controls",
          "model_name": "DescriptionStyleModel",
          "model_module_version": "1.5.0",
          "state": {
            "_model_module": "@jupyter-widgets/controls",
            "_model_module_version": "1.5.0",
            "_model_name": "DescriptionStyleModel",
            "_view_count": null,
            "_view_module": "@jupyter-widgets/base",
            "_view_module_version": "1.2.0",
            "_view_name": "StyleView",
            "description_width": ""
          }
        },
        "e0359cdd16b5459dac52ab60db8345c8": {
          "model_module": "@jupyter-widgets/controls",
          "model_name": "HBoxModel",
          "model_module_version": "1.5.0",
          "state": {
            "_dom_classes": [],
            "_model_module": "@jupyter-widgets/controls",
            "_model_module_version": "1.5.0",
            "_model_name": "HBoxModel",
            "_view_count": null,
            "_view_module": "@jupyter-widgets/controls",
            "_view_module_version": "1.5.0",
            "_view_name": "HBoxView",
            "box_style": "",
            "children": [
              "IPY_MODEL_654d74dcf79241e3a22b62e90477670c",
              "IPY_MODEL_6776cec65d274b23be9c0340f796797d",
              "IPY_MODEL_e32b07c2bdf54382b55af2012bb5c11c"
            ],
            "layout": "IPY_MODEL_7e881a518c864c73a1f3502aac949510"
          }
        },
        "654d74dcf79241e3a22b62e90477670c": {
          "model_module": "@jupyter-widgets/controls",
          "model_name": "HTMLModel",
          "model_module_version": "1.5.0",
          "state": {
            "_dom_classes": [],
            "_model_module": "@jupyter-widgets/controls",
            "_model_module_version": "1.5.0",
            "_model_name": "HTMLModel",
            "_view_count": null,
            "_view_module": "@jupyter-widgets/controls",
            "_view_module_version": "1.5.0",
            "_view_name": "HTMLView",
            "description": "",
            "description_tooltip": null,
            "layout": "IPY_MODEL_88ed793c481c40aa85040ffca969be5a",
            "placeholder": "​",
            "style": "IPY_MODEL_9cb6baddf5774b93990b3af89019a9e9",
            "value": "Downloading: 100%"
          }
        },
        "6776cec65d274b23be9c0340f796797d": {
          "model_module": "@jupyter-widgets/controls",
          "model_name": "FloatProgressModel",
          "model_module_version": "1.5.0",
          "state": {
            "_dom_classes": [],
            "_model_module": "@jupyter-widgets/controls",
            "_model_module_version": "1.5.0",
            "_model_name": "FloatProgressModel",
            "_view_count": null,
            "_view_module": "@jupyter-widgets/controls",
            "_view_module_version": "1.5.0",
            "_view_name": "ProgressView",
            "bar_style": "success",
            "description": "",
            "description_tooltip": null,
            "layout": "IPY_MODEL_e8c52ca43d094c39af867f7af5d468ae",
            "max": 25,
            "min": 0,
            "orientation": "horizontal",
            "style": "IPY_MODEL_55ab865143c74a5c8de55bb16f2c01c3",
            "value": 25
          }
        },
        "e32b07c2bdf54382b55af2012bb5c11c": {
          "model_module": "@jupyter-widgets/controls",
          "model_name": "HTMLModel",
          "model_module_version": "1.5.0",
          "state": {
            "_dom_classes": [],
            "_model_module": "@jupyter-widgets/controls",
            "_model_module_version": "1.5.0",
            "_model_name": "HTMLModel",
            "_view_count": null,
            "_view_module": "@jupyter-widgets/controls",
            "_view_module_version": "1.5.0",
            "_view_name": "HTMLView",
            "description": "",
            "description_tooltip": null,
            "layout": "IPY_MODEL_765fc60a698d469288a4bb99f3e8a315",
            "placeholder": "​",
            "style": "IPY_MODEL_60e3ec83c94442efb2c0f04cef982fe5",
            "value": " 25.0/25.0 [00:00&lt;00:00, 745B/s]"
          }
        },
        "7e881a518c864c73a1f3502aac949510": {
          "model_module": "@jupyter-widgets/base",
          "model_name": "LayoutModel",
          "model_module_version": "1.2.0",
          "state": {
            "_model_module": "@jupyter-widgets/base",
            "_model_module_version": "1.2.0",
            "_model_name": "LayoutModel",
            "_view_count": null,
            "_view_module": "@jupyter-widgets/base",
            "_view_module_version": "1.2.0",
            "_view_name": "LayoutView",
            "align_content": null,
            "align_items": null,
            "align_self": null,
            "border": null,
            "bottom": null,
            "display": null,
            "flex": null,
            "flex_flow": null,
            "grid_area": null,
            "grid_auto_columns": null,
            "grid_auto_flow": null,
            "grid_auto_rows": null,
            "grid_column": null,
            "grid_gap": null,
            "grid_row": null,
            "grid_template_areas": null,
            "grid_template_columns": null,
            "grid_template_rows": null,
            "height": null,
            "justify_content": null,
            "justify_items": null,
            "left": null,
            "margin": null,
            "max_height": null,
            "max_width": null,
            "min_height": null,
            "min_width": null,
            "object_fit": null,
            "object_position": null,
            "order": null,
            "overflow": null,
            "overflow_x": null,
            "overflow_y": null,
            "padding": null,
            "right": null,
            "top": null,
            "visibility": null,
            "width": null
          }
        },
        "88ed793c481c40aa85040ffca969be5a": {
          "model_module": "@jupyter-widgets/base",
          "model_name": "LayoutModel",
          "model_module_version": "1.2.0",
          "state": {
            "_model_module": "@jupyter-widgets/base",
            "_model_module_version": "1.2.0",
            "_model_name": "LayoutModel",
            "_view_count": null,
            "_view_module": "@jupyter-widgets/base",
            "_view_module_version": "1.2.0",
            "_view_name": "LayoutView",
            "align_content": null,
            "align_items": null,
            "align_self": null,
            "border": null,
            "bottom": null,
            "display": null,
            "flex": null,
            "flex_flow": null,
            "grid_area": null,
            "grid_auto_columns": null,
            "grid_auto_flow": null,
            "grid_auto_rows": null,
            "grid_column": null,
            "grid_gap": null,
            "grid_row": null,
            "grid_template_areas": null,
            "grid_template_columns": null,
            "grid_template_rows": null,
            "height": null,
            "justify_content": null,
            "justify_items": null,
            "left": null,
            "margin": null,
            "max_height": null,
            "max_width": null,
            "min_height": null,
            "min_width": null,
            "object_fit": null,
            "object_position": null,
            "order": null,
            "overflow": null,
            "overflow_x": null,
            "overflow_y": null,
            "padding": null,
            "right": null,
            "top": null,
            "visibility": null,
            "width": null
          }
        },
        "9cb6baddf5774b93990b3af89019a9e9": {
          "model_module": "@jupyter-widgets/controls",
          "model_name": "DescriptionStyleModel",
          "model_module_version": "1.5.0",
          "state": {
            "_model_module": "@jupyter-widgets/controls",
            "_model_module_version": "1.5.0",
            "_model_name": "DescriptionStyleModel",
            "_view_count": null,
            "_view_module": "@jupyter-widgets/base",
            "_view_module_version": "1.2.0",
            "_view_name": "StyleView",
            "description_width": ""
          }
        },
        "e8c52ca43d094c39af867f7af5d468ae": {
          "model_module": "@jupyter-widgets/base",
          "model_name": "LayoutModel",
          "model_module_version": "1.2.0",
          "state": {
            "_model_module": "@jupyter-widgets/base",
            "_model_module_version": "1.2.0",
            "_model_name": "LayoutModel",
            "_view_count": null,
            "_view_module": "@jupyter-widgets/base",
            "_view_module_version": "1.2.0",
            "_view_name": "LayoutView",
            "align_content": null,
            "align_items": null,
            "align_self": null,
            "border": null,
            "bottom": null,
            "display": null,
            "flex": null,
            "flex_flow": null,
            "grid_area": null,
            "grid_auto_columns": null,
            "grid_auto_flow": null,
            "grid_auto_rows": null,
            "grid_column": null,
            "grid_gap": null,
            "grid_row": null,
            "grid_template_areas": null,
            "grid_template_columns": null,
            "grid_template_rows": null,
            "height": null,
            "justify_content": null,
            "justify_items": null,
            "left": null,
            "margin": null,
            "max_height": null,
            "max_width": null,
            "min_height": null,
            "min_width": null,
            "object_fit": null,
            "object_position": null,
            "order": null,
            "overflow": null,
            "overflow_x": null,
            "overflow_y": null,
            "padding": null,
            "right": null,
            "top": null,
            "visibility": null,
            "width": null
          }
        },
        "55ab865143c74a5c8de55bb16f2c01c3": {
          "model_module": "@jupyter-widgets/controls",
          "model_name": "ProgressStyleModel",
          "model_module_version": "1.5.0",
          "state": {
            "_model_module": "@jupyter-widgets/controls",
            "_model_module_version": "1.5.0",
            "_model_name": "ProgressStyleModel",
            "_view_count": null,
            "_view_module": "@jupyter-widgets/base",
            "_view_module_version": "1.2.0",
            "_view_name": "StyleView",
            "bar_color": null,
            "description_width": ""
          }
        },
        "765fc60a698d469288a4bb99f3e8a315": {
          "model_module": "@jupyter-widgets/base",
          "model_name": "LayoutModel",
          "model_module_version": "1.2.0",
          "state": {
            "_model_module": "@jupyter-widgets/base",
            "_model_module_version": "1.2.0",
            "_model_name": "LayoutModel",
            "_view_count": null,
            "_view_module": "@jupyter-widgets/base",
            "_view_module_version": "1.2.0",
            "_view_name": "LayoutView",
            "align_content": null,
            "align_items": null,
            "align_self": null,
            "border": null,
            "bottom": null,
            "display": null,
            "flex": null,
            "flex_flow": null,
            "grid_area": null,
            "grid_auto_columns": null,
            "grid_auto_flow": null,
            "grid_auto_rows": null,
            "grid_column": null,
            "grid_gap": null,
            "grid_row": null,
            "grid_template_areas": null,
            "grid_template_columns": null,
            "grid_template_rows": null,
            "height": null,
            "justify_content": null,
            "justify_items": null,
            "left": null,
            "margin": null,
            "max_height": null,
            "max_width": null,
            "min_height": null,
            "min_width": null,
            "object_fit": null,
            "object_position": null,
            "order": null,
            "overflow": null,
            "overflow_x": null,
            "overflow_y": null,
            "padding": null,
            "right": null,
            "top": null,
            "visibility": null,
            "width": null
          }
        },
        "60e3ec83c94442efb2c0f04cef982fe5": {
          "model_module": "@jupyter-widgets/controls",
          "model_name": "DescriptionStyleModel",
          "model_module_version": "1.5.0",
          "state": {
            "_model_module": "@jupyter-widgets/controls",
            "_model_module_version": "1.5.0",
            "_model_name": "DescriptionStyleModel",
            "_view_count": null,
            "_view_module": "@jupyter-widgets/base",
            "_view_module_version": "1.2.0",
            "_view_name": "StyleView",
            "description_width": ""
          }
        }
      }
    }
  },
  "cells": [
    {
      "cell_type": "markdown",
      "source": [
        "<img src=\"https://minas.medellin.unal.edu.co/eventos/latwaves2018/images/logo_unal.png\" alt=\"unal logo\" width=\"400\"/>\n",
        "\n",
        "# Data Analysis\n",
        "## Introduction to Data Science and Visualization 2022-1\n",
        "### By \n",
        "- Rafael Mauricio Ruiz Nino ramruizni@unal.edu.co\n",
        "- Jheison Alejandro Morales Vásquez jhmoralesva@unal.edu.co\n",
        "\n",
        "The goal of this assignment focuses on build a model to predict repair to simple python code."
      ],
      "metadata": {
        "id": "iv7Xfl2wBjIp"
      }
    },
    {
      "cell_type": "markdown",
      "source": [
        "## Configuring environment\n"
      ],
      "metadata": {
        "id": "p4V1DyMJIAt6"
      }
    },
    {
      "cell_type": "code",
      "execution_count": 1,
      "metadata": {
        "colab": {
          "base_uri": "https://localhost:8080/"
        },
        "id": "Wj5OxgUhaFiM",
        "outputId": "00502d46-1430-4070-84a8-4bf0de4fc84e"
      },
      "outputs": [
        {
          "output_type": "stream",
          "name": "stdout",
          "text": [
            "Looking in indexes: https://pypi.org/simple, https://us-python.pkg.dev/colab-wheels/public/simple/\n",
            "Requirement already satisfied: tqdm in /usr/local/lib/python3.7/dist-packages (4.64.0)\n",
            "Looking in indexes: https://pypi.org/simple, https://us-python.pkg.dev/colab-wheels/public/simple/\n",
            "Requirement already satisfied: torch in /usr/local/lib/python3.7/dist-packages (1.11.0+cu113)\n",
            "Requirement already satisfied: typing-extensions in /usr/local/lib/python3.7/dist-packages (from torch) (4.1.1)\n",
            "Looking in indexes: https://pypi.org/simple, https://us-python.pkg.dev/colab-wheels/public/simple/\n",
            "Requirement already satisfied: torchvision in /usr/local/lib/python3.7/dist-packages (0.12.0+cu113)\n",
            "Requirement already satisfied: requests in /usr/local/lib/python3.7/dist-packages (from torchvision) (2.23.0)\n",
            "Requirement already satisfied: numpy in /usr/local/lib/python3.7/dist-packages (from torchvision) (1.21.6)\n",
            "Requirement already satisfied: typing-extensions in /usr/local/lib/python3.7/dist-packages (from torchvision) (4.1.1)\n",
            "Requirement already satisfied: pillow!=8.3.*,>=5.3.0 in /usr/local/lib/python3.7/dist-packages (from torchvision) (7.1.2)\n",
            "Requirement already satisfied: torch==1.11.0 in /usr/local/lib/python3.7/dist-packages (from torchvision) (1.11.0+cu113)\n",
            "Requirement already satisfied: urllib3!=1.25.0,!=1.25.1,<1.26,>=1.21.1 in /usr/local/lib/python3.7/dist-packages (from requests->torchvision) (1.24.3)\n",
            "Requirement already satisfied: idna<3,>=2.5 in /usr/local/lib/python3.7/dist-packages (from requests->torchvision) (2.10)\n",
            "Requirement already satisfied: chardet<4,>=3.0.2 in /usr/local/lib/python3.7/dist-packages (from requests->torchvision) (3.0.4)\n",
            "Requirement already satisfied: certifi>=2017.4.17 in /usr/local/lib/python3.7/dist-packages (from requests->torchvision) (2022.6.15)\n",
            "Looking in indexes: https://pypi.org/simple, https://us-python.pkg.dev/colab-wheels/public/simple/\n",
            "Collecting fairseq\n",
            "  Downloading fairseq-0.12.2-cp37-cp37m-manylinux_2_5_x86_64.manylinux1_x86_64.whl (11.0 MB)\n",
            "\u001b[K     |████████████████████████████████| 11.0 MB 5.2 MB/s \n",
            "\u001b[?25hRequirement already satisfied: tqdm in /usr/local/lib/python3.7/dist-packages (from fairseq) (4.64.0)\n",
            "Collecting bitarray\n",
            "  Downloading bitarray-2.5.1-cp37-cp37m-manylinux_2_17_x86_64.manylinux2014_x86_64.whl (236 kB)\n",
            "\u001b[K     |████████████████████████████████| 236 kB 67.4 MB/s \n",
            "\u001b[?25hCollecting sacrebleu>=1.4.12\n",
            "  Downloading sacrebleu-2.1.0-py3-none-any.whl (92 kB)\n",
            "\u001b[K     |████████████████████████████████| 92 kB 12.1 MB/s \n",
            "\u001b[?25hRequirement already satisfied: cffi in /usr/local/lib/python3.7/dist-packages (from fairseq) (1.15.0)\n",
            "Collecting hydra-core<1.1,>=1.0.7\n",
            "  Downloading hydra_core-1.0.7-py3-none-any.whl (123 kB)\n",
            "\u001b[K     |████████████████████████████████| 123 kB 64.5 MB/s \n",
            "\u001b[?25hRequirement already satisfied: regex in /usr/local/lib/python3.7/dist-packages (from fairseq) (2022.6.2)\n",
            "Requirement already satisfied: cython in /usr/local/lib/python3.7/dist-packages (from fairseq) (0.29.30)\n",
            "Requirement already satisfied: torch in /usr/local/lib/python3.7/dist-packages (from fairseq) (1.11.0+cu113)\n",
            "Requirement already satisfied: torchaudio>=0.8.0 in /usr/local/lib/python3.7/dist-packages (from fairseq) (0.11.0+cu113)\n",
            "Requirement already satisfied: numpy in /usr/local/lib/python3.7/dist-packages (from fairseq) (1.21.6)\n",
            "Collecting omegaconf<2.1\n",
            "  Downloading omegaconf-2.0.6-py3-none-any.whl (36 kB)\n",
            "Requirement already satisfied: importlib-resources in /usr/local/lib/python3.7/dist-packages (from hydra-core<1.1,>=1.0.7->fairseq) (5.7.1)\n",
            "Collecting antlr4-python3-runtime==4.8\n",
            "  Downloading antlr4-python3-runtime-4.8.tar.gz (112 kB)\n",
            "\u001b[K     |████████████████████████████████| 112 kB 67.9 MB/s \n",
            "\u001b[?25hRequirement already satisfied: typing-extensions in /usr/local/lib/python3.7/dist-packages (from omegaconf<2.1->fairseq) (4.1.1)\n",
            "Collecting PyYAML>=5.1.*\n",
            "  Downloading PyYAML-6.0-cp37-cp37m-manylinux_2_5_x86_64.manylinux1_x86_64.manylinux_2_12_x86_64.manylinux2010_x86_64.whl (596 kB)\n",
            "\u001b[K     |████████████████████████████████| 596 kB 69.2 MB/s \n",
            "\u001b[?25hCollecting colorama\n",
            "  Downloading colorama-0.4.5-py2.py3-none-any.whl (16 kB)\n",
            "Requirement already satisfied: tabulate>=0.8.9 in /usr/local/lib/python3.7/dist-packages (from sacrebleu>=1.4.12->fairseq) (0.8.9)\n",
            "Collecting portalocker\n",
            "  Downloading portalocker-2.4.0-py2.py3-none-any.whl (16 kB)\n",
            "Requirement already satisfied: pycparser in /usr/local/lib/python3.7/dist-packages (from cffi->fairseq) (2.21)\n",
            "Requirement already satisfied: zipp>=3.1.0 in /usr/local/lib/python3.7/dist-packages (from importlib-resources->hydra-core<1.1,>=1.0.7->fairseq) (3.8.0)\n",
            "Building wheels for collected packages: antlr4-python3-runtime\n",
            "  Building wheel for antlr4-python3-runtime (setup.py) ... \u001b[?25l\u001b[?25hdone\n",
            "  Created wheel for antlr4-python3-runtime: filename=antlr4_python3_runtime-4.8-py3-none-any.whl size=141230 sha256=83d58c7237ef20651ce4bff937d55a77d2c54307585eb8703f231ab859b24a96\n",
            "  Stored in directory: /root/.cache/pip/wheels/ca/33/b7/336836125fc9bb4ceaa4376d8abca10ca8bc84ddc824baea6c\n",
            "Successfully built antlr4-python3-runtime\n",
            "Installing collected packages: PyYAML, portalocker, omegaconf, colorama, antlr4-python3-runtime, sacrebleu, hydra-core, bitarray, fairseq\n",
            "  Attempting uninstall: PyYAML\n",
            "    Found existing installation: PyYAML 3.13\n",
            "    Uninstalling PyYAML-3.13:\n",
            "      Successfully uninstalled PyYAML-3.13\n",
            "Successfully installed PyYAML-6.0 antlr4-python3-runtime-4.8 bitarray-2.5.1 colorama-0.4.5 fairseq-0.12.2 hydra-core-1.0.7 omegaconf-2.0.6 portalocker-2.4.0 sacrebleu-2.1.0\n",
            "Looking in indexes: https://pypi.org/simple, https://us-python.pkg.dev/colab-wheels/public/simple/\n",
            "Collecting sacremoses\n",
            "  Downloading sacremoses-0.0.53.tar.gz (880 kB)\n",
            "\u001b[K     |████████████████████████████████| 880 kB 5.1 MB/s \n",
            "\u001b[?25hRequirement already satisfied: regex in /usr/local/lib/python3.7/dist-packages (from sacremoses) (2022.6.2)\n",
            "Requirement already satisfied: six in /usr/local/lib/python3.7/dist-packages (from sacremoses) (1.15.0)\n",
            "Requirement already satisfied: click in /usr/local/lib/python3.7/dist-packages (from sacremoses) (7.1.2)\n",
            "Requirement already satisfied: joblib in /usr/local/lib/python3.7/dist-packages (from sacremoses) (1.1.0)\n",
            "Requirement already satisfied: tqdm in /usr/local/lib/python3.7/dist-packages (from sacremoses) (4.64.0)\n",
            "Building wheels for collected packages: sacremoses\n",
            "  Building wheel for sacremoses (setup.py) ... \u001b[?25l\u001b[?25hdone\n",
            "  Created wheel for sacremoses: filename=sacremoses-0.0.53-py3-none-any.whl size=895260 sha256=12f7272e92f53a88d93b4dd2bd545bf634d40372edcca6e90fc30a14d7fdde34\n",
            "  Stored in directory: /root/.cache/pip/wheels/87/39/dd/a83eeef36d0bf98e7a4d1933a4ad2d660295a40613079bafc9\n",
            "Successfully built sacremoses\n",
            "Installing collected packages: sacremoses\n",
            "Successfully installed sacremoses-0.0.53\n",
            "Looking in indexes: https://pypi.org/simple, https://us-python.pkg.dev/colab-wheels/public/simple/\n",
            "Collecting fastBPE\n",
            "  Downloading fastBPE-0.1.0.tar.gz (35 kB)\n",
            "Building wheels for collected packages: fastBPE\n",
            "  Building wheel for fastBPE (setup.py) ... \u001b[?25l\u001b[?25hdone\n",
            "  Created wheel for fastBPE: filename=fastBPE-0.1.0-cp37-cp37m-linux_x86_64.whl size=483888 sha256=2ababfc16ed3fe76dcee871daeb763e823f285094dbe7b5e8adfbaf28d212bad\n",
            "  Stored in directory: /root/.cache/pip/wheels/bd/d4/0e/0d317a65f77d3f8049fedd8a2ee0519164cf3e6bd77ef886f1\n",
            "Successfully built fastBPE\n",
            "Installing collected packages: fastBPE\n",
            "Successfully installed fastBPE-0.1.0\n"
          ]
        }
      ],
      "source": [
        "!pip install tqdm\n",
        "!pip install torch\n",
        "!pip install torchvision\n",
        "!pip install fairseq\n",
        "!pip install sacremoses\n",
        "!pip install fastBPE"
      ]
    },
    {
      "cell_type": "code",
      "source": [
        "import torch"
      ],
      "metadata": {
        "id": "LuJdRS97inQJ"
      },
      "execution_count": 2,
      "outputs": []
    },
    {
      "cell_type": "markdown",
      "source": [
        "### Test with torch y fairseq"
      ],
      "metadata": {
        "id": "QtWC5Ie6IEzZ"
      }
    },
    {
      "cell_type": "code",
      "source": [
        "en2de = torch.hub.load('pytorch/fairseq', 'transformer.wmt19.en-de.single_model')"
      ],
      "metadata": {
        "colab": {
          "base_uri": "https://localhost:8080/"
        },
        "id": "z65l7Vx-imAh",
        "outputId": "0346ea43-88d9-4d0f-d1f6-6cbf3eca477e"
      },
      "execution_count": 3,
      "outputs": [
        {
          "output_type": "stream",
          "name": "stderr",
          "text": [
            "Downloading: \"https://github.com/pytorch/fairseq/archive/main.zip\" to /root/.cache/torch/hub/main.zip\n",
            "2022-06-27 15:41:31 | INFO | fairseq.tasks.text_to_speech | Please install tensorboardX: pip install tensorboardX\n"
          ]
        },
        {
          "output_type": "stream",
          "name": "stdout",
          "text": [
            "running build_ext\n",
            "cythoning fairseq/data/data_utils_fast.pyx to fairseq/data/data_utils_fast.cpp\n"
          ]
        },
        {
          "output_type": "stream",
          "name": "stderr",
          "text": [
            "/usr/local/lib/python3.7/dist-packages/torch/utils/cpp_extension.py:387: UserWarning: Attempted to use ninja as the BuildExtension backend but we could not find ninja.. Falling back to using the slow distutils backend.\n",
            "  warnings.warn(msg.format('we could not find ninja.'))\n"
          ]
        },
        {
          "output_type": "stream",
          "name": "stdout",
          "text": [
            "cythoning fairseq/data/token_block_utils_fast.pyx to fairseq/data/token_block_utils_fast.cpp\n",
            "building 'fairseq.libbleu' extension\n",
            "creating build\n",
            "creating build/temp.linux-x86_64-3.7\n",
            "creating build/temp.linux-x86_64-3.7/fairseq\n",
            "creating build/temp.linux-x86_64-3.7/fairseq/clib\n",
            "creating build/temp.linux-x86_64-3.7/fairseq/clib/libbleu\n",
            "x86_64-linux-gnu-gcc -pthread -Wno-unused-result -Wsign-compare -DNDEBUG -g -fwrapv -O2 -Wall -g -fstack-protector-strong -Wformat -Werror=format-security -g -fwrapv -O2 -g -fstack-protector-strong -Wformat -Werror=format-security -Wdate-time -D_FORTIFY_SOURCE=2 -fPIC -I/usr/include/python3.7m -c fairseq/clib/libbleu/libbleu.cpp -o build/temp.linux-x86_64-3.7/fairseq/clib/libbleu/libbleu.o -std=c++11 -O3 -DTORCH_API_INCLUDE_EXTENSION_H -DPYBIND11_COMPILER_TYPE=\"_gcc\" -DPYBIND11_STDLIB=\"_libstdcpp\" -DPYBIND11_BUILD_ABI=\"_cxxabi1011\" -DTORCH_EXTENSION_NAME=libbleu -D_GLIBCXX_USE_CXX11_ABI=0\n",
            "x86_64-linux-gnu-gcc -pthread -Wno-unused-result -Wsign-compare -DNDEBUG -g -fwrapv -O2 -Wall -g -fstack-protector-strong -Wformat -Werror=format-security -g -fwrapv -O2 -g -fstack-protector-strong -Wformat -Werror=format-security -Wdate-time -D_FORTIFY_SOURCE=2 -fPIC -I/usr/include/python3.7m -c fairseq/clib/libbleu/module.cpp -o build/temp.linux-x86_64-3.7/fairseq/clib/libbleu/module.o -std=c++11 -O3 -DTORCH_API_INCLUDE_EXTENSION_H -DPYBIND11_COMPILER_TYPE=\"_gcc\" -DPYBIND11_STDLIB=\"_libstdcpp\" -DPYBIND11_BUILD_ABI=\"_cxxabi1011\" -DTORCH_EXTENSION_NAME=libbleu -D_GLIBCXX_USE_CXX11_ABI=0\n",
            "creating build/lib.linux-x86_64-3.7\n",
            "creating build/lib.linux-x86_64-3.7/fairseq\n",
            "x86_64-linux-gnu-g++ -pthread -shared -Wl,-O1 -Wl,-Bsymbolic-functions -Wl,-Bsymbolic-functions -g -fwrapv -O2 -Wl,-Bsymbolic-functions -g -fwrapv -O2 -g -fstack-protector-strong -Wformat -Werror=format-security -Wdate-time -D_FORTIFY_SOURCE=2 build/temp.linux-x86_64-3.7/fairseq/clib/libbleu/libbleu.o build/temp.linux-x86_64-3.7/fairseq/clib/libbleu/module.o -o build/lib.linux-x86_64-3.7/fairseq/libbleu.cpython-37m-x86_64-linux-gnu.so\n",
            "building 'fairseq.data.data_utils_fast' extension\n",
            "creating build/temp.linux-x86_64-3.7/fairseq/data\n",
            "x86_64-linux-gnu-gcc -pthread -Wno-unused-result -Wsign-compare -DNDEBUG -g -fwrapv -O2 -Wall -g -fstack-protector-strong -Wformat -Werror=format-security -g -fwrapv -O2 -g -fstack-protector-strong -Wformat -Werror=format-security -Wdate-time -D_FORTIFY_SOURCE=2 -fPIC -I/usr/local/lib/python3.7/dist-packages/numpy/core/include -I/usr/local/lib/python3.7/dist-packages/numpy/core/include -I/usr/include/python3.7m -c fairseq/data/data_utils_fast.cpp -o build/temp.linux-x86_64-3.7/fairseq/data/data_utils_fast.o -std=c++11 -O3 -DTORCH_API_INCLUDE_EXTENSION_H -DPYBIND11_COMPILER_TYPE=\"_gcc\" -DPYBIND11_STDLIB=\"_libstdcpp\" -DPYBIND11_BUILD_ABI=\"_cxxabi1011\" -DTORCH_EXTENSION_NAME=data_utils_fast -D_GLIBCXX_USE_CXX11_ABI=0\n",
            "creating build/lib.linux-x86_64-3.7/fairseq/data\n",
            "x86_64-linux-gnu-g++ -pthread -shared -Wl,-O1 -Wl,-Bsymbolic-functions -Wl,-Bsymbolic-functions -g -fwrapv -O2 -Wl,-Bsymbolic-functions -g -fwrapv -O2 -g -fstack-protector-strong -Wformat -Werror=format-security -Wdate-time -D_FORTIFY_SOURCE=2 build/temp.linux-x86_64-3.7/fairseq/data/data_utils_fast.o -o build/lib.linux-x86_64-3.7/fairseq/data/data_utils_fast.cpython-37m-x86_64-linux-gnu.so\n",
            "building 'fairseq.data.token_block_utils_fast' extension\n",
            "x86_64-linux-gnu-gcc -pthread -Wno-unused-result -Wsign-compare -DNDEBUG -g -fwrapv -O2 -Wall -g -fstack-protector-strong -Wformat -Werror=format-security -g -fwrapv -O2 -g -fstack-protector-strong -Wformat -Werror=format-security -Wdate-time -D_FORTIFY_SOURCE=2 -fPIC -I/usr/local/lib/python3.7/dist-packages/numpy/core/include -I/usr/local/lib/python3.7/dist-packages/numpy/core/include -I/usr/include/python3.7m -c fairseq/data/token_block_utils_fast.cpp -o build/temp.linux-x86_64-3.7/fairseq/data/token_block_utils_fast.o -std=c++11 -O3 -DTORCH_API_INCLUDE_EXTENSION_H -DPYBIND11_COMPILER_TYPE=\"_gcc\" -DPYBIND11_STDLIB=\"_libstdcpp\" -DPYBIND11_BUILD_ABI=\"_cxxabi1011\" -DTORCH_EXTENSION_NAME=token_block_utils_fast -D_GLIBCXX_USE_CXX11_ABI=0\n",
            "x86_64-linux-gnu-g++ -pthread -shared -Wl,-O1 -Wl,-Bsymbolic-functions -Wl,-Bsymbolic-functions -g -fwrapv -O2 -Wl,-Bsymbolic-functions -g -fwrapv -O2 -g -fstack-protector-strong -Wformat -Werror=format-security -Wdate-time -D_FORTIFY_SOURCE=2 build/temp.linux-x86_64-3.7/fairseq/data/token_block_utils_fast.o -o build/lib.linux-x86_64-3.7/fairseq/data/token_block_utils_fast.cpython-37m-x86_64-linux-gnu.so\n",
            "building 'fairseq.libbase' extension\n",
            "creating build/temp.linux-x86_64-3.7/fairseq/clib/libbase\n",
            "x86_64-linux-gnu-gcc -pthread -Wno-unused-result -Wsign-compare -DNDEBUG -g -fwrapv -O2 -Wall -g -fstack-protector-strong -Wformat -Werror=format-security -g -fwrapv -O2 -g -fstack-protector-strong -Wformat -Werror=format-security -Wdate-time -D_FORTIFY_SOURCE=2 -fPIC -I/usr/local/lib/python3.7/dist-packages/torch/include -I/usr/local/lib/python3.7/dist-packages/torch/include/torch/csrc/api/include -I/usr/local/lib/python3.7/dist-packages/torch/include/TH -I/usr/local/lib/python3.7/dist-packages/torch/include/THC -I/usr/include/python3.7m -c fairseq/clib/libbase/balanced_assignment.cpp -o build/temp.linux-x86_64-3.7/fairseq/clib/libbase/balanced_assignment.o -DTORCH_API_INCLUDE_EXTENSION_H -DPYBIND11_COMPILER_TYPE=\"_gcc\" -DPYBIND11_STDLIB=\"_libstdcpp\" -DPYBIND11_BUILD_ABI=\"_cxxabi1011\" -DTORCH_EXTENSION_NAME=libbase -D_GLIBCXX_USE_CXX11_ABI=0 -std=c++14\n",
            "x86_64-linux-gnu-g++ -pthread -shared -Wl,-O1 -Wl,-Bsymbolic-functions -Wl,-Bsymbolic-functions -g -fwrapv -O2 -Wl,-Bsymbolic-functions -g -fwrapv -O2 -g -fstack-protector-strong -Wformat -Werror=format-security -Wdate-time -D_FORTIFY_SOURCE=2 build/temp.linux-x86_64-3.7/fairseq/clib/libbase/balanced_assignment.o -L/usr/local/lib/python3.7/dist-packages/torch/lib -lc10 -ltorch -ltorch_cpu -ltorch_python -o build/lib.linux-x86_64-3.7/fairseq/libbase.cpython-37m-x86_64-linux-gnu.so\n",
            "building 'fairseq.libnat' extension\n",
            "creating build/temp.linux-x86_64-3.7/fairseq/clib/libnat\n",
            "x86_64-linux-gnu-gcc -pthread -Wno-unused-result -Wsign-compare -DNDEBUG -g -fwrapv -O2 -Wall -g -fstack-protector-strong -Wformat -Werror=format-security -g -fwrapv -O2 -g -fstack-protector-strong -Wformat -Werror=format-security -Wdate-time -D_FORTIFY_SOURCE=2 -fPIC -I/usr/local/lib/python3.7/dist-packages/torch/include -I/usr/local/lib/python3.7/dist-packages/torch/include/torch/csrc/api/include -I/usr/local/lib/python3.7/dist-packages/torch/include/TH -I/usr/local/lib/python3.7/dist-packages/torch/include/THC -I/usr/include/python3.7m -c fairseq/clib/libnat/edit_dist.cpp -o build/temp.linux-x86_64-3.7/fairseq/clib/libnat/edit_dist.o -DTORCH_API_INCLUDE_EXTENSION_H -DPYBIND11_COMPILER_TYPE=\"_gcc\" -DPYBIND11_STDLIB=\"_libstdcpp\" -DPYBIND11_BUILD_ABI=\"_cxxabi1011\" -DTORCH_EXTENSION_NAME=libnat -D_GLIBCXX_USE_CXX11_ABI=0 -std=c++14\n",
            "x86_64-linux-gnu-g++ -pthread -shared -Wl,-O1 -Wl,-Bsymbolic-functions -Wl,-Bsymbolic-functions -g -fwrapv -O2 -Wl,-Bsymbolic-functions -g -fwrapv -O2 -g -fstack-protector-strong -Wformat -Werror=format-security -Wdate-time -D_FORTIFY_SOURCE=2 build/temp.linux-x86_64-3.7/fairseq/clib/libnat/edit_dist.o -L/usr/local/lib/python3.7/dist-packages/torch/lib -lc10 -ltorch -ltorch_cpu -ltorch_python -o build/lib.linux-x86_64-3.7/fairseq/libnat.cpython-37m-x86_64-linux-gnu.so\n",
            "building 'alignment_train_cpu_binding' extension\n",
            "creating build/temp.linux-x86_64-3.7/examples\n",
            "creating build/temp.linux-x86_64-3.7/examples/operators\n",
            "x86_64-linux-gnu-gcc -pthread -Wno-unused-result -Wsign-compare -DNDEBUG -g -fwrapv -O2 -Wall -g -fstack-protector-strong -Wformat -Werror=format-security -g -fwrapv -O2 -g -fstack-protector-strong -Wformat -Werror=format-security -Wdate-time -D_FORTIFY_SOURCE=2 -fPIC -I/usr/local/lib/python3.7/dist-packages/torch/include -I/usr/local/lib/python3.7/dist-packages/torch/include/torch/csrc/api/include -I/usr/local/lib/python3.7/dist-packages/torch/include/TH -I/usr/local/lib/python3.7/dist-packages/torch/include/THC -I/usr/include/python3.7m -c examples/operators/alignment_train_cpu.cpp -o build/temp.linux-x86_64-3.7/examples/operators/alignment_train_cpu.o -DTORCH_API_INCLUDE_EXTENSION_H -DPYBIND11_COMPILER_TYPE=\"_gcc\" -DPYBIND11_STDLIB=\"_libstdcpp\" -DPYBIND11_BUILD_ABI=\"_cxxabi1011\" -DTORCH_EXTENSION_NAME=alignment_train_cpu_binding -D_GLIBCXX_USE_CXX11_ABI=0 -std=c++14\n",
            "x86_64-linux-gnu-g++ -pthread -shared -Wl,-O1 -Wl,-Bsymbolic-functions -Wl,-Bsymbolic-functions -g -fwrapv -O2 -Wl,-Bsymbolic-functions -g -fwrapv -O2 -g -fstack-protector-strong -Wformat -Werror=format-security -Wdate-time -D_FORTIFY_SOURCE=2 build/temp.linux-x86_64-3.7/examples/operators/alignment_train_cpu.o -L/usr/local/lib/python3.7/dist-packages/torch/lib -lc10 -ltorch -ltorch_cpu -ltorch_python -o build/lib.linux-x86_64-3.7/alignment_train_cpu_binding.cpython-37m-x86_64-linux-gnu.so\n"
          ]
        },
        {
          "output_type": "stream",
          "name": "stderr",
          "text": [
            "2022-06-27 15:42:39 | INFO | root | Generating grammar tables from /usr/lib/python3.7/lib2to3/Grammar.txt\n",
            "2022-06-27 15:42:39 | INFO | root | Generating grammar tables from /usr/lib/python3.7/lib2to3/PatternGrammar.txt\n"
          ]
        },
        {
          "output_type": "stream",
          "name": "stdout",
          "text": [
            "copying build/lib.linux-x86_64-3.7/fairseq/libbleu.cpython-37m-x86_64-linux-gnu.so -> fairseq\n",
            "copying build/lib.linux-x86_64-3.7/fairseq/data/data_utils_fast.cpython-37m-x86_64-linux-gnu.so -> fairseq/data\n",
            "copying build/lib.linux-x86_64-3.7/fairseq/data/token_block_utils_fast.cpython-37m-x86_64-linux-gnu.so -> fairseq/data\n",
            "copying build/lib.linux-x86_64-3.7/fairseq/libbase.cpython-37m-x86_64-linux-gnu.so -> fairseq\n",
            "copying build/lib.linux-x86_64-3.7/fairseq/libnat.cpython-37m-x86_64-linux-gnu.so -> fairseq\n",
            "copying build/lib.linux-x86_64-3.7/alignment_train_cpu_binding.cpython-37m-x86_64-linux-gnu.so -> \n"
          ]
        },
        {
          "output_type": "stream",
          "name": "stderr",
          "text": [
            "2022-06-27 15:42:40 | INFO | fairseq.file_utils | https://dl.fbaipublicfiles.com/fairseq/models/wmt19.en-de.joined-dict.single_model.tar.gz not found in cache, downloading to /tmp/tmptqyndhrp\n",
            "100%|██████████| 2988854245/2988854245 [02:15<00:00, 22018462.38B/s]\n",
            "2022-06-27 15:44:56 | INFO | fairseq.file_utils | copying /tmp/tmptqyndhrp to cache at /root/.cache/torch/pytorch_fairseq/81a0be5cbbf1c106320ef94681844d4594031c94c16b0475be11faa5a5120c48.63b093d59e7e0814ff799bb965ed4cbde30200b8c93a44bf8c1e5e98f5c54db3\n",
            "2022-06-27 15:45:08 | INFO | fairseq.file_utils | creating metadata file for /root/.cache/torch/pytorch_fairseq/81a0be5cbbf1c106320ef94681844d4594031c94c16b0475be11faa5a5120c48.63b093d59e7e0814ff799bb965ed4cbde30200b8c93a44bf8c1e5e98f5c54db3\n",
            "2022-06-27 15:45:08 | INFO | fairseq.file_utils | removing temp file /tmp/tmptqyndhrp\n",
            "2022-06-27 15:45:08 | INFO | fairseq.file_utils | loading archive file https://dl.fbaipublicfiles.com/fairseq/models/wmt19.en-de.joined-dict.single_model.tar.gz from cache at /root/.cache/torch/pytorch_fairseq/81a0be5cbbf1c106320ef94681844d4594031c94c16b0475be11faa5a5120c48.63b093d59e7e0814ff799bb965ed4cbde30200b8c93a44bf8c1e5e98f5c54db3\n",
            "2022-06-27 15:45:08 | INFO | fairseq.file_utils | extracting archive file /root/.cache/torch/pytorch_fairseq/81a0be5cbbf1c106320ef94681844d4594031c94c16b0475be11faa5a5120c48.63b093d59e7e0814ff799bb965ed4cbde30200b8c93a44bf8c1e5e98f5c54db3 to temp dir /tmp/tmp42mlzbhv\n",
            "2022-06-27 15:46:16 | INFO | fairseq.tasks.translation | [en] dictionary: 42024 types\n",
            "2022-06-27 15:46:16 | INFO | fairseq.tasks.translation | [de] dictionary: 42024 types\n",
            "2022-06-27 15:46:20 | INFO | fairseq.models.fairseq_model | {'_name': None, 'common': {'_name': None, 'no_progress_bar': True, 'log_interval': 100, 'log_format': 'simple', 'log_file': None, 'aim_repo': None, 'aim_run_hash': None, 'tensorboard_logdir': '', 'wandb_project': None, 'azureml_logging': False, 'seed': 2, 'cpu': False, 'tpu': False, 'bf16': False, 'memory_efficient_bf16': False, 'fp16': True, 'memory_efficient_fp16': False, 'fp16_no_flatten_grads': False, 'fp16_init_scale': 128, 'fp16_scale_window': None, 'fp16_scale_tolerance': 0.0, 'on_cpu_convert_precision': False, 'min_loss_scale': 0.0001, 'threshold_loss_scale': None, 'amp': False, 'amp_batch_retries': 2, 'amp_init_scale': 128, 'amp_scale_window': None, 'user_dir': None, 'empty_cache_freq': 0, 'all_gather_list_size': 16384, 'model_parallel_size': 1, 'quantization_config_path': None, 'profile': False, 'reset_logging': False, 'suppress_crashes': False, 'use_plasma_view': False, 'plasma_path': '/tmp/plasma'}, 'common_eval': {'_name': None, 'path': None, 'post_process': None, 'quiet': False, 'model_overrides': '{}', 'results_path': None}, 'distributed_training': {'_name': None, 'distributed_world_size': 2, 'distributed_num_procs': 1, 'distributed_rank': 0, 'distributed_backend': 'nccl', 'distributed_init_method': 'tcp://localhost:17406', 'distributed_port': -1, 'device_id': 0, 'distributed_no_spawn': False, 'ddp_backend': 'c10d', 'ddp_comm_hook': 'none', 'bucket_cap_mb': 25, 'fix_batches_to_gpus': False, 'find_unused_parameters': False, 'gradient_as_bucket_view': False, 'fast_stat_sync': False, 'heartbeat_timeout': -1, 'broadcast_buffers': False, 'slowmo_momentum': None, 'slowmo_base_algorithm': 'localsgd', 'localsgd_frequency': 3, 'nprocs_per_node': 1, 'pipeline_model_parallel': False, 'pipeline_balance': None, 'pipeline_devices': None, 'pipeline_chunks': 0, 'pipeline_encoder_balance': None, 'pipeline_encoder_devices': None, 'pipeline_decoder_balance': None, 'pipeline_decoder_devices': None, 'pipeline_checkpoint': 'never', 'zero_sharding': 'none', 'fp16': True, 'memory_efficient_fp16': False, 'tpu': True, 'no_reshard_after_forward': False, 'fp32_reduce_scatter': False, 'cpu_offload': False, 'use_sharded_state': False, 'not_fsdp_flatten_parameters': False}, 'dataset': {'_name': None, 'num_workers': 0, 'skip_invalid_size_inputs_valid_test': False, 'max_tokens': 3584, 'batch_size': None, 'required_batch_size_multiple': 8, 'required_seq_len_multiple': 1, 'dataset_impl': None, 'data_buffer_size': 10, 'train_subset': 'train', 'valid_subset': 'valid', 'combine_valid_subsets': None, 'ignore_unused_valid_subsets': False, 'validate_interval': 1, 'validate_interval_updates': 0, 'validate_after_updates': 0, 'fixed_validation_seed': None, 'disable_validation': False, 'max_tokens_valid': 3584, 'batch_size_valid': None, 'max_valid_steps': None, 'curriculum': 0, 'gen_subset': 'test', 'num_shards': 1, 'shard_id': 0, 'grouped_shuffling': False, 'update_epoch_batch_itr': True, 'update_ordered_indices_seed': False}, 'optimization': {'_name': None, 'max_epoch': 0, 'max_update': 201800, 'stop_time_hours': 0.0, 'clip_norm': 0.0, 'sentence_avg': False, 'update_freq': [1], 'lr': [0.0007], 'stop_min_lr': 1e-09, 'use_bmuf': False, 'skip_remainder_batch': False}, 'checkpoint': {'_name': None, 'save_dir': '/checkpoint/edunov/20190403/wmt19en2de.btsample5.ffn8192.transformer_wmt_en_de_big_bsz3584_lr0.0007_dr0.2_size_updates200000_seed20_lbsm0.1_size_sa1_upsample2//finetune1', 'restore_file': 'checkpoint_last.pt', 'continue_once': None, 'finetune_from_model': None, 'reset_dataloader': False, 'reset_lr_scheduler': False, 'reset_meters': False, 'reset_optimizer': False, 'optimizer_overrides': '{}', 'save_interval': 1, 'save_interval_updates': 200, 'keep_interval_updates': -1, 'keep_interval_updates_pattern': -1, 'keep_last_epochs': -1, 'keep_best_checkpoints': -1, 'no_save': False, 'no_epoch_checkpoints': False, 'no_last_checkpoints': False, 'no_save_optimizer_state': False, 'best_checkpoint_metric': 'loss', 'maximize_best_checkpoint_metric': False, 'patience': -1, 'checkpoint_suffix': '', 'checkpoint_shard_count': 1, 'load_checkpoint_on_all_dp_ranks': False, 'write_checkpoints_asynchronously': False, 'model_parallel_size': 1}, 'bmuf': {'_name': None, 'block_lr': 1.0, 'block_momentum': 0.875, 'global_sync_iter': 50, 'warmup_iterations': 500, 'use_nbm': False, 'average_sync': False, 'distributed_world_size': 2}, 'generation': {'_name': None, 'beam': 5, 'nbest': 1, 'max_len_a': 0.0, 'max_len_b': 200, 'min_len': 1, 'match_source_len': False, 'unnormalized': False, 'no_early_stop': False, 'no_beamable_mm': False, 'lenpen': 1.0, 'unkpen': 0.0, 'replace_unk': None, 'sacrebleu': False, 'score_reference': False, 'prefix_size': 0, 'no_repeat_ngram_size': 0, 'sampling': False, 'sampling_topk': -1, 'sampling_topp': -1.0, 'constraints': None, 'temperature': 1.0, 'diverse_beam_groups': -1, 'diverse_beam_strength': 0.5, 'diversity_rate': -1.0, 'print_alignment': None, 'print_step': False, 'lm_path': None, 'lm_weight': 0.0, 'iter_decode_eos_penalty': 0.0, 'iter_decode_max_iter': 10, 'iter_decode_force_max_iter': False, 'iter_decode_with_beam': 1, 'iter_decode_with_external_reranker': False, 'retain_iter_history': False, 'retain_dropout': False, 'retain_dropout_modules': None, 'decoding_format': None, 'no_seed_provided': False, 'eos_token': None}, 'eval_lm': {'_name': None, 'output_word_probs': False, 'output_word_stats': False, 'context_window': 0, 'softmax_batch': 9223372036854775807}, 'interactive': {'_name': None, 'buffer_size': 0, 'input': '-'}, 'model': Namespace(_name='transformer_wmt_en_de_big', activation_dropout=0.0, activation_fn='relu', adam_betas='(0.9, 0.98)', adam_eps=1e-08, adaptive_input=False, adaptive_softmax_cutoff=None, adaptive_softmax_dropout=0, arch='transformer_wmt_en_de_big', attention_dropout=0.1, bpe='fastbpe', bpe_codes='/root/.cache/torch/pytorch_fairseq/81a0be5cbbf1c106320ef94681844d4594031c94c16b0475be11faa5a5120c48.63b093d59e7e0814ff799bb965ed4cbde30200b8c93a44bf8c1e5e98f5c54db3/bpecodes', bucket_cap_mb=25, checkpoint_activations=False, clip_norm=0.0, cpu=False, criterion='label_smoothed_cross_entropy', cross_self_attention=False, data='/root/.cache/torch/pytorch_fairseq/81a0be5cbbf1c106320ef94681844d4594031c94c16b0475be11faa5a5120c48.63b093d59e7e0814ff799bb965ed4cbde30200b8c93a44bf8c1e5e98f5c54db3', ddp_backend='c10d', decoder_attention_heads=16, decoder_embed_dim=1024, decoder_embed_path=None, decoder_ffn_embed_dim=4096, decoder_input_dim=1024, decoder_layerdrop=0, decoder_layers=6, decoder_layers_to_keep=None, decoder_learned_pos=False, decoder_normalize_before=False, decoder_output_dim=1024, device_id=0, distributed_backend='nccl', distributed_init_method='tcp://localhost:17406', distributed_port=-1, distributed_rank=0, distributed_world_size=2, dropout=0.2, encoder_attention_heads=16, encoder_embed_dim=1024, encoder_embed_path=None, encoder_ffn_embed_dim=8192, encoder_layerdrop=0, encoder_layers=6, encoder_layers_to_keep=None, encoder_learned_pos=False, encoder_normalize_before=False, extra_data='', fix_batches_to_gpus=False, fp16=True, fp16_init_scale=128, fp16_scale_tolerance=0.0, fp16_scale_window=None, keep_interval_updates=-1, keep_last_epochs=-1, label_smoothing=0.1, layernorm_embedding=False, lazy_load=False, left_pad_source=True, left_pad_target=False, log_format='simple', log_interval=100, lr=[0.0007], lr_scheduler='inverse_sqrt', lr_shrink=0.1, max_epoch=0, max_sentences=None, max_sentences_valid=None, max_source_positions=1024, max_target_positions=1024, max_tokens=3584, max_update=201800, memory_efficient_fp16=False, min_loss_scale=0.0001, momentum=0.99, no_cross_attention=False, no_epoch_checkpoints=False, no_progress_bar=True, no_save=False, no_scale_embedding=False, no_token_positional_embeddings=False, num_workers=0, offload_activations=False, optimizer='adam', optimizer_overrides='{}', quant_noise_pq=0, quant_noise_pq_block_size=8, quant_noise_scalar=0, raw_text=False, relu_dropout=0.0, reset_lr_scheduler=False, reset_optimizer=False, restore_file='checkpoint_last.pt', save_dir='/checkpoint/edunov/20190403/wmt19en2de.btsample5.ffn8192.transformer_wmt_en_de_big_bsz3584_lr0.0007_dr0.2_size_updates200000_seed20_lbsm0.1_size_sa1_upsample2//finetune1', save_interval=1, save_interval_updates=200, seed=2, sentence_avg=False, share_all_embeddings=True, share_decoder_input_output_embed=True, skip_invalid_size_inputs_valid_test=False, source_lang='en', stop_min_lr=1e-09, target_lang='de', task='translation', tensorboard_logdir='', threshold_loss_scale=None, tie_adaptive_weights=False, tokenizer='moses', train_subset='train', update_freq=[1], upsample_primary=1, user_dir=None, valid_subset='valid', validate_interval=1, warmup_init_lr=1e-07, warmup_updates=4000, weight_decay=0.0), 'task': {'_name': 'translation', 'data': '/root/.cache/torch/pytorch_fairseq/81a0be5cbbf1c106320ef94681844d4594031c94c16b0475be11faa5a5120c48.63b093d59e7e0814ff799bb965ed4cbde30200b8c93a44bf8c1e5e98f5c54db3', 'source_lang': 'en', 'target_lang': 'de', 'load_alignments': False, 'left_pad_source': True, 'left_pad_target': False, 'max_source_positions': 1024, 'max_target_positions': 1024, 'upsample_primary': 1, 'truncate_source': False, 'num_batch_buckets': 0, 'train_subset': 'train', 'dataset_impl': None, 'required_seq_len_multiple': 1, 'eval_bleu': False, 'eval_bleu_args': '{}', 'eval_bleu_detok': 'space', 'eval_bleu_detok_args': '{}', 'eval_tokenized_bleu': False, 'eval_bleu_remove_bpe': None, 'eval_bleu_print_samples': False}, 'criterion': {'_name': 'label_smoothed_cross_entropy', 'label_smoothing': 0.1, 'report_accuracy': False, 'ignore_prefix_size': 0, 'sentence_avg': False}, 'optimizer': {'_name': 'adam', 'adam_betas': '(0.9, 0.98)', 'adam_eps': 1e-08, 'weight_decay': 0.0, 'use_old_adam': False, 'fp16_adam_stats': False, 'tpu': True, 'lr': [0.0007]}, 'lr_scheduler': {'_name': 'inverse_sqrt', 'warmup_updates': 4000, 'warmup_init_lr': 1e-07, 'lr': [0.0007]}, 'scoring': None, 'bpe': {'_name': 'fastbpe', 'bpe_codes': '/root/.cache/torch/pytorch_fairseq/81a0be5cbbf1c106320ef94681844d4594031c94c16b0475be11faa5a5120c48.63b093d59e7e0814ff799bb965ed4cbde30200b8c93a44bf8c1e5e98f5c54db3/bpecodes'}, 'tokenizer': {'_name': 'moses', 'source_lang': 'en', 'target_lang': 'de', 'moses_no_dash_splits': False, 'moses_no_escape': False}, 'ema': {'_name': None, 'store_ema': False, 'ema_decay': 0.9999, 'ema_start_update': 0, 'ema_seed_model': None, 'ema_update_freq': 1, 'ema_fp32': False}, 'simul_type': None}\n"
          ]
        }
      ]
    },
    {
      "cell_type": "code",
      "source": [
        "en2de.translate('Hello world my love', beam=5)"
      ],
      "metadata": {
        "colab": {
          "base_uri": "https://localhost:8080/",
          "height": 35
        },
        "id": "N_YSlVcok3Hy",
        "outputId": "49268a82-765f-4a35-870c-4736716c97f2"
      },
      "execution_count": 4,
      "outputs": [
        {
          "output_type": "execute_result",
          "data": {
            "text/plain": [
              "'Hallo Welt, meine Liebe'"
            ],
            "application/vnd.google.colaboratory.intrinsic+json": {
              "type": "string"
            }
          },
          "metadata": {},
          "execution_count": 4
        }
      ]
    },
    {
      "cell_type": "markdown",
      "source": [
        "## BIFI Model\n",
        "\n",
        "For this project we want to reuse the created models (Breaker & Fixer) from the BIFI project to use them with the MBPP dataset and then compare it with a model based on CodeBERT. \n",
        "\n",
        "\n",
        "For this project, the data was downloaded from the link https://nlp.stanford.edu/projects/myasu/BIFI/data.zip and the weights of the pre-trained models were isolated to be reused."
      ],
      "metadata": {
        "id": "0c47BkG2IMmE"
      }
    },
    {
      "cell_type": "code",
      "source": [
        "!pip install gdown"
      ],
      "metadata": {
        "colab": {
          "base_uri": "https://localhost:8080/"
        },
        "id": "kYZ1mSY8JVsD",
        "outputId": "1d3eda0c-2ea2-43a0-dde3-4eddf26489f0"
      },
      "execution_count": 3,
      "outputs": [
        {
          "output_type": "stream",
          "name": "stdout",
          "text": [
            "Looking in indexes: https://pypi.org/simple, https://us-python.pkg.dev/colab-wheels/public/simple/\n",
            "Requirement already satisfied: gdown in /usr/local/lib/python3.7/dist-packages (4.4.0)\n",
            "Requirement already satisfied: six in /usr/local/lib/python3.7/dist-packages (from gdown) (1.15.0)\n",
            "Requirement already satisfied: filelock in /usr/local/lib/python3.7/dist-packages (from gdown) (3.7.1)\n",
            "Requirement already satisfied: beautifulsoup4 in /usr/local/lib/python3.7/dist-packages (from gdown) (4.6.3)\n",
            "Requirement already satisfied: requests[socks] in /usr/local/lib/python3.7/dist-packages (from gdown) (2.23.0)\n",
            "Requirement already satisfied: tqdm in /usr/local/lib/python3.7/dist-packages (from gdown) (4.64.0)\n",
            "Requirement already satisfied: certifi>=2017.4.17 in /usr/local/lib/python3.7/dist-packages (from requests[socks]->gdown) (2022.6.15)\n",
            "Requirement already satisfied: chardet<4,>=3.0.2 in /usr/local/lib/python3.7/dist-packages (from requests[socks]->gdown) (3.0.4)\n",
            "Requirement already satisfied: idna<3,>=2.5 in /usr/local/lib/python3.7/dist-packages (from requests[socks]->gdown) (2.10)\n",
            "Requirement already satisfied: urllib3!=1.25.0,!=1.25.1,<1.26,>=1.21.1 in /usr/local/lib/python3.7/dist-packages (from requests[socks]->gdown) (1.24.3)\n",
            "Requirement already satisfied: PySocks!=1.5.7,>=1.5.6 in /usr/local/lib/python3.7/dist-packages (from requests[socks]->gdown) (1.7.1)\n"
          ]
        }
      ]
    },
    {
      "cell_type": "code",
      "source": [
        "import gdown\n",
        "\n",
        "# a file\n",
        "url = \"https://drive.google.com/uc?id=1g_9_M_89cUAx9gNR78tvgUtzxmhO8MMo\"\n",
        "output = \"BIFI_weigths.zip\"\n",
        "gdown.download(url, output, quiet=False)"
      ],
      "metadata": {
        "colab": {
          "base_uri": "https://localhost:8080/",
          "height": 104
        },
        "id": "FXT_hJnCJtRy",
        "outputId": "d4df37d1-e953-4e3c-fd17-99afe5afb16e"
      },
      "execution_count": 4,
      "outputs": [
        {
          "output_type": "stream",
          "name": "stderr",
          "text": [
            "Downloading...\n",
            "From: https://drive.google.com/uc?id=1g_9_M_89cUAx9gNR78tvgUtzxmhO8MMo\n",
            "To: /content/BIFI_weigths.zip\n",
            "100%|██████████| 183M/183M [00:01<00:00, 119MB/s]\n"
          ]
        },
        {
          "output_type": "execute_result",
          "data": {
            "text/plain": [
              "'BIFI_weigths.zip'"
            ],
            "application/vnd.google.colaboratory.intrinsic+json": {
              "type": "string"
            }
          },
          "metadata": {},
          "execution_count": 4
        }
      ]
    },
    {
      "cell_type": "code",
      "source": [
        "!unzip BIFI_weigths.zip"
      ],
      "metadata": {
        "colab": {
          "base_uri": "https://localhost:8080/"
        },
        "id": "n8zFN7lUKYyn",
        "outputId": "cc765853-cee2-4017-e075-fc3febecf3f6"
      },
      "execution_count": 5,
      "outputs": [
        {
          "output_type": "stream",
          "name": "stdout",
          "text": [
            "Archive:  BIFI_weigths.zip\n",
            "   creating: BIFI_weights/round2-BIFI-part1/\n",
            "   creating: BIFI_weights/round2-BIFI-part1/model-breaker/\n",
            "  inflating: BIFI_weights/round2-BIFI-part1/model-breaker/checkpoint.pt  \n",
            "   creating: BIFI_weights/round2-BIFI-part2/\n",
            "   creating: BIFI_weights/round2-BIFI-part2/model-fixer/\n",
            "  inflating: BIFI_weights/round2-BIFI-part2/model-fixer/checkpoint.pt  \n"
          ]
        }
      ]
    },
    {
      "cell_type": "code",
      "source": [
        "!wget https://nlp.stanford.edu/projects/myasu/BIFI/data_minimal.zip\n",
        "!unzip data_minimal.zip"
      ],
      "metadata": {
        "colab": {
          "base_uri": "https://localhost:8080/"
        },
        "id": "WVsWhI1m3oju",
        "outputId": "3bc1a229-dd04-4f6c-caa6-bd822aef46a5"
      },
      "execution_count": 6,
      "outputs": [
        {
          "output_type": "stream",
          "name": "stdout",
          "text": [
            "--2022-06-27 19:41:24--  https://nlp.stanford.edu/projects/myasu/BIFI/data_minimal.zip\n",
            "Resolving nlp.stanford.edu (nlp.stanford.edu)... 171.64.67.140\n",
            "Connecting to nlp.stanford.edu (nlp.stanford.edu)|171.64.67.140|:443... connected.\n",
            "HTTP request sent, awaiting response... 200 OK\n",
            "Length: 902351047 (861M) [application/zip]\n",
            "Saving to: ‘data_minimal.zip’\n",
            "\n",
            "data_minimal.zip    100%[===================>] 860.55M  41.1MB/s    in 23s     \n",
            "\n",
            "2022-06-27 19:41:48 (37.1 MB/s) - ‘data_minimal.zip’ saved [902351047/902351047]\n",
            "\n",
            "Archive:  data_minimal.zip\n",
            "   creating: data/\n",
            "   creating: data/orig_good_code/\n",
            "  inflating: data/orig_good_code/orig.0.id  \n",
            "  inflating: data/orig_good_code/orig.1.id  \n",
            "  inflating: data/orig_good_code/orig.2.good  \n",
            "  inflating: data/orig_good_code/orig.3.id  \n",
            "  inflating: data/orig_good_code/orig.6.good  \n",
            "  inflating: data/orig_good_code/orig.2.id  \n",
            "  inflating: data/orig_good_code/orig.6.id  \n",
            "  inflating: data/orig_good_code/orig.3.good  \n",
            "  inflating: data/orig_good_code/orig.good.json  \n",
            "  inflating: data/orig_good_code/orig.7.good  \n",
            "  inflating: data/orig_good_code/orig.7.id  \n",
            "  inflating: data/orig_good_code/orig.5.id  \n",
            "  inflating: data/orig_good_code/orig.4.id  \n",
            "  inflating: data/orig_good_code/orig.1.good  \n",
            "  inflating: data/orig_good_code/orig.5.good  \n",
            "  inflating: data/orig_good_code/orig.9.good  \n",
            "  inflating: data/orig_good_code/orig.8.good  \n",
            "  inflating: data/orig_good_code/orig.8.id  \n",
            "  inflating: data/orig_good_code/orig.0.good  \n",
            "  inflating: data/orig_good_code/orig.4.good  \n",
            "  inflating: data/orig_good_code/orig.9.id  \n",
            "   creating: data/orig_bad_code/\n",
            "  inflating: data/orig_bad_code/orig.2.bad  \n",
            "  inflating: data/orig_bad_code/orig.4.id  \n",
            "  inflating: data/orig_bad_code/orig.3.id  \n",
            "  inflating: data/orig_bad_code/orig.2.id  \n",
            "  inflating: data/orig_bad_code/orig.4.bad  \n",
            "  inflating: data/orig_bad_code/orig.3.bad  \n",
            "  inflating: data/orig_bad_code/orig.0.id  \n",
            "  inflating: data/orig_bad_code/orig.bad.json  \n",
            "  inflating: data/orig_bad_code/orig.1.id  \n",
            "  inflating: data/orig_bad_code/orig.0.bad  \n",
            "  inflating: data/orig_bad_code/orig.1.bad  \n",
            "  inflating: data/token_vocab.txt    \n"
          ]
        }
      ]
    },
    {
      "cell_type": "code",
      "source": [
        "!mv BIFI_weights/round2-BIFI-part1/ data/round2-BIFI-part1/\n",
        "!mv BIFI_weights/round2-BIFI-part2/ data/round2-BIFI-part2/"
      ],
      "metadata": {
        "id": "QkZW1YwrQ5gU"
      },
      "execution_count": 7,
      "outputs": []
    },
    {
      "cell_type": "code",
      "source": [
        "url = \"https://drive.google.com/uc?id=1_xMUt0Q0Lx3smQYeSkLkW5FDhVTq0GlH\"\n",
        "output = \"utils.zip\"\n",
        "gdown.download(url, output, quiet=False)"
      ],
      "metadata": {
        "colab": {
          "base_uri": "https://localhost:8080/",
          "height": 104
        },
        "id": "P-a1LC-7PJYx",
        "outputId": "dca51701-854f-4eb5-ef61-7cabe8fda51f"
      },
      "execution_count": 8,
      "outputs": [
        {
          "output_type": "stream",
          "name": "stderr",
          "text": [
            "Downloading...\n",
            "From: https://drive.google.com/uc?id=1_xMUt0Q0Lx3smQYeSkLkW5FDhVTq0GlH\n",
            "To: /content/utils.zip\n",
            "100%|██████████| 9.42k/9.42k [00:00<00:00, 2.86MB/s]\n"
          ]
        },
        {
          "output_type": "execute_result",
          "data": {
            "text/plain": [
              "'utils.zip'"
            ],
            "application/vnd.google.colaboratory.intrinsic+json": {
              "type": "string"
            }
          },
          "metadata": {},
          "execution_count": 8
        }
      ]
    },
    {
      "cell_type": "code",
      "source": [
        "!unzip utils.zip"
      ],
      "metadata": {
        "colab": {
          "base_uri": "https://localhost:8080/"
        },
        "id": "D4HwCLcwPUte",
        "outputId": "61371391-5ae4-4bb6-a917-146e956ecaa0"
      },
      "execution_count": 9,
      "outputs": [
        {
          "output_type": "stream",
          "name": "stdout",
          "text": [
            "Archive:  utils.zip\n",
            "  inflating: utils/code_error_checker.py  \n",
            "  inflating: utils/code_tokenizer.py  \n",
            "  inflating: utils/code_utils.py     \n",
            "  inflating: utils/fairseq_utils.py  \n"
          ]
        }
      ]
    },
    {
      "cell_type": "code",
      "source": [
        "import sys\n",
        "sys.path.append('utils')"
      ],
      "metadata": {
        "id": "hHA0OzToTd2R"
      },
      "execution_count": 10,
      "outputs": []
    },
    {
      "cell_type": "code",
      "source": [
        "from fairseq_utils import *\n",
        "import argparse\n",
        "import os"
      ],
      "metadata": {
        "id": "zwdp-SoNS59E"
      },
      "execution_count": 11,
      "outputs": []
    },
    {
      "cell_type": "code",
      "source": [
        "def preprocess(destdir_root, n_splits=1):\n",
        "    #Preprocess inputs\n",
        "    for split in range(n_splits):\n",
        "        destdir    = destdir_root/f'fairseq_preprocess__orig_good.{split}'\n",
        "        if os.path.exists(str(destdir)):\n",
        "            continue\n",
        "        fairseq_preprocess(src='good', tgt='bad', workers=10,\n",
        "                            destdir  = str(destdir),\n",
        "                            testpref = str(data_dir/f'orig_good_code/orig.{split}'),\n",
        "                            srcdict  = str(data_dir/'token_vocab.txt'),\n",
        "                            only_source=True )\n",
        "        os.system('cp {} {}'.format(data_dir/'token_vocab.txt', destdir/'dict.bad.txt'))"
      ],
      "metadata": {
        "id": "i8jvTPveP01Z"
      },
      "execution_count": 12,
      "outputs": []
    },
    {
      "cell_type": "code",
      "source": [
        "def generate(destdir_root, gpu_ids, n_splits=1):\n",
        "    gpus = (gpu_ids * (n_splits//len(gpu_ids) +1))[:n_splits]\n",
        "    use_Popen = (len(gpu_ids) > 1)\n",
        "    ps = []\n",
        "    for split, gpu in zip(range(n_splits), gpus):\n",
        "        destdir    = destdir_root/f'fairseq_preprocess__orig_good.{split}'\n",
        "        pred_path  = destdir/'model-breaker.pred.txt'\n",
        "        p = fairseq_generate(str(gpu), str(destdir), str(model_path), str(pred_path),\n",
        "                        src='good', tgt='bad', gen_subset='test', use_Popen=use_Popen,\n",
        "                        beam=10, nbest=10, max_len_a=1, max_len_b=50, max_tokens=5000)\n",
        "        ps.append(p)"
      ],
      "metadata": {
        "id": "KAbRti0Uom2_"
      },
      "execution_count": 13,
      "outputs": []
    },
    {
      "cell_type": "code",
      "source": [
        "import json, io, sys, os\n",
        "from utils.fairseq_utils import parse_fairseq_preds\n",
        "from tqdm import tqdm\n",
        "from multiprocessing import Pool\n",
        "\n",
        "from utils.code_error_checker import check_paren_error, check_ast_error\n",
        "from utils.code_utils import preprocess_unk, code_toks_to_code_string, get_diff_metric\n",
        "from utils.fairseq_utils import parse_fairseq_preds\n",
        "\n",
        "def eval_one_pred_obj(pred_obj):\n",
        "    #Deal with UNK\n",
        "    _, unk_dict = preprocess_unk(pred_obj['code_toks_raw'])\n",
        "    anonymize_dict = pred_obj['anonymize_dict']\n",
        "    if anonymize_dict is None:\n",
        "        anonymize_dict = {}\n",
        "    anonymize_dict['<unk>'] = unk_dict\n",
        "    anonymize_dict['<STRING>'] = []\n",
        "    anonymize_dict['<COMMENT>'] = []\n",
        "    #\n",
        "    src = pred_obj['src'] #this is tok_format i.e. ' '.join(code_toks)\n",
        "    src_code  = code_toks_to_code_string(src, anonymize_dict) #this is string_format\n",
        "    ret_obj = {'progid': pred_obj['progid'],\n",
        "                'anonymize_dict': pred_obj['anonymize_dict']\n",
        "              }\n",
        "    ret_obj['src']  = {'tok_format': src, 'string_format': src_code}\n",
        "    #Get string_format from predicted code toks\n",
        "    ret_obj['pred'] = []\n",
        "    for pred in pred_obj['pred']:\n",
        "        pred_code = code_toks_to_code_string(pred, anonymize_dict) #this is string_format\n",
        "        res = check_paren_error(pred.split())\n",
        "        if not isinstance(res, dict):\n",
        "            res = check_ast_error(pred_code)\n",
        "        diff_metric = get_diff_metric(src, pred)\n",
        "        ret_obj['pred'].append({'tok_format': pred,\n",
        "                                  'string_format': pred_code,\n",
        "                                  'err_obj': res,\n",
        "                                  'diff_metric': diff_metric})\n",
        "    return ret_obj\n"
      ],
      "metadata": {
        "id": "4xfjBpMWNf3x"
      },
      "execution_count": 14,
      "outputs": []
    },
    {
      "cell_type": "code",
      "source": [
        "def eval_one_split(pred_dir_prefix, split, pred_fname, goods, n_workers=80):\n",
        "    pred_dir   = f'{pred_dir_prefix}{split}'\n",
        "    pred_path = Path(f'{pred_dir}/{pred_fname}')\n",
        "    preds = parse_fairseq_preds(str(pred_path))\n",
        "    #load progids\n",
        "    data_dir = 'data'\n",
        "    progids = [l.strip() for l in open(f'{data_dir}/orig_good_code/orig.{split}.id')]\n",
        "    assert len(preds) == len(progids)\n",
        "    for j in range(len(preds)):\n",
        "        progid = progids[j]\n",
        "        code_toks_raw = goods[progid]['code_string'].split()\n",
        "        preds[j]['progid'] = progid\n",
        "        preds[j]['code_toks_raw'] = code_toks_raw\n",
        "        preds[j]['anonymize_dict'] = None\n",
        "    #\n",
        "    print ('len(preds)', len(preds))\n",
        "    with Pool(n_workers) as p:\n",
        "        res = list(tqdm(p.imap(eval_one_pred_obj, preds), total=len(preds)))\n",
        "    '''\n",
        "      res: list of {'progid': ,  'anonymize_dict': ,\n",
        "                    'src': {'tok_format': , 'string_format': },\n",
        "                    'pred': {'tok_format':, 'string_format':, 'err_obj': }\n",
        "                    }\n",
        "    '''\n",
        "    evaluate_json = f'{pred_path.parent}/{pred_path.stem}.evaluated.json'\n",
        "    print(evaluate_json)\n",
        "    with open(evaluate_json, 'w') as f:\n",
        "        json.dump(res, f, indent=2)"
      ],
      "metadata": {
        "id": "lFuAdeO2rMee"
      },
      "execution_count": 15,
      "outputs": []
    },
    {
      "cell_type": "code",
      "source": [
        "import numpy as np\n",
        "import hashlib\n",
        "\n",
        "#BIFI version - uses critic to verify\n",
        "def generate_paired_data_from_breaker_preds_for_BIFI(pred_dir_prefix, pred_fname, out_dir, load_dir, subset='test', n_splits=10):\n",
        "    #Get new paired data\n",
        "    train_data = {'good': [], 'bad': [], 'id': []}\n",
        "    idxs_newdata_p, idxs_newdata_i, idxs_newdata_s = [], [], []\n",
        "    cur_idx = 0\n",
        "    for split in range(n_splits):\n",
        "      print ('split', split)\n",
        "      pred_dir   = Path(f'{pred_dir_prefix}{split}')\n",
        "      pred_path  = pred_dir/pred_fname\n",
        "      pred_eval_path = f'{pred_path.parent}/{pred_path.stem}.evaluated.json'\n",
        "      eval_objs = json.load(open(pred_eval_path))\n",
        "      for eval_obj in tqdm(eval_objs):\n",
        "        progid = eval_obj['progid']\n",
        "        _data = {'good': [], 'bad': [], 'id': []}\n",
        "        # print ('src\\n', eval_obj['src']['string_format'])\n",
        "        for k, pred_obj in enumerate(eval_obj['pred']):\n",
        "          pred_err_obj = pred_obj['err_obj']\n",
        "          diff_metric  = pred_obj['diff_metric']\n",
        "          if (isinstance(pred_err_obj, dict)) and (0 < diff_metric <= 4): #keep broken examples\n",
        "            name = '{:02d}-{}-{:03d}'.format(split, progid, k)\n",
        "            src  = eval_obj['src']['tok_format'].strip()\n",
        "            pred = pred_obj['tok_format'].strip()\n",
        "            if 'unbalanced' in pred_err_obj['msg']:\n",
        "              idxs_newdata_p.append(cur_idx)\n",
        "            elif 'indent' in pred_err_obj['msg']:\n",
        "              idxs_newdata_i.append(cur_idx)\n",
        "            elif 'invalid syntax' == pred_err_obj['msg']:\n",
        "              idxs_newdata_s.append(cur_idx)\n",
        "            else:\n",
        "              continue\n",
        "            _data['id'  ].append(name)\n",
        "            _data['bad'].append(pred) #pred is bad-side\n",
        "            _data['good' ].append(src)\n",
        "            cur_idx += 1\n",
        "        train_data['id']   += _data['id']\n",
        "        train_data['good'] += _data['good']\n",
        "        train_data['bad']  += _data['bad']\n",
        "    assert len(train_data['good']) == len(train_data['bad']) == len(train_data['id'])\n",
        "    new_data_size = len(train_data['id'])\n",
        "    assert new_data_size == len(idxs_newdata_p) + len(idxs_newdata_i) + len(idxs_newdata_s)\n",
        "    print ('#new_data', new_data_size)\n",
        "    print ('#new_data_p', len(idxs_newdata_p), '#new_data_i', len(idxs_newdata_i), '#new_data_s', len(idxs_newdata_s))\n",
        "    # idxs_newdata = list(range(new_data_size))\n",
        "    seed = (111 + int(hashlib.md5(str(out_dir).encode()).hexdigest(), 16)) % (2**31)\n",
        "    print ('seed', seed)\n",
        "    np.random.seed(seed)\n",
        "    # np.random.shuffle(idxs_newdata); np.random.shuffle(idxs_newdata)\n",
        "    np.random.shuffle(idxs_newdata_p); np.random.shuffle(idxs_newdata_p)\n",
        "    np.random.shuffle(idxs_newdata_i); np.random.shuffle(idxs_newdata_i)\n",
        "    np.random.shuffle(idxs_newdata_s); np.random.shuffle(idxs_newdata_s)\n",
        "    #\n",
        "    #Merge with the paired data in round0 and BIFI part1\n",
        "    #print ('loading round0 data')\n",
        "    #train_data_0 = {'good': [], 'bad': [], 'id': []}\n",
        "    #train_data_0['bad']  = [line.strip() for line in tqdm(open('data/round0/data_paired/train.bad'))]\n",
        "    #train_data_0['good'] = [line.strip() for line in tqdm(open('data/round0/data_paired/train.good'))]\n",
        "    #train_data_0['id']   = [line.strip() for line in tqdm(open('data/round0/data_paired/train.id'))]\n",
        "    #idxs_0 = list(range(len(train_data_0['id'])))\n",
        "    #np.random.shuffle(idxs_0); np.random.shuffle(idxs_0)\n",
        "    #print ('loading BIFI part1 data')\n",
        "    #train_data_1 = {'good': [], 'bad': [], 'id': []}\n",
        "    #train_data_1['bad']  = [line.strip() for line in tqdm(open(f'{load_dir}/train.bad'))]\n",
        "    #train_data_1['good'] = [line.strip() for line in tqdm(open(f'{load_dir}/train.good'))]\n",
        "    #train_data_1['id']   = [line.strip() for line in tqdm(open(f'{load_dir}/train.id'))]\n",
        "    #idxs_1 = list(range(len(train_data_1['id'])))\n",
        "    #np.random.shuffle(idxs_1); np.random.shuffle(idxs_1)\n",
        "    #assert len(set(train_data_1['id']).intersection(set(train_data_0['id']))) == 0\n",
        "    #assert len(set(train_data_1['id']).intersection(set(train_data['id']))) == 0\n",
        "    #assert len(set(train_data_0['id']).intersection(set(train_data['id']))) == 0\n",
        "    #\n",
        "    #total_size = int(new_data_size * 2)\n",
        "    #_0_data_repeats  = (total_size//4)//len(idxs_0) +1\n",
        "    #_1_data_repeats  = (total_size*2//4)//len(idxs_1) +1\n",
        "    #new_data_p_repeats = (total_size*1//4//3)//len(idxs_newdata_p) +1\n",
        "    #new_data_i_repeats = (total_size*1//4//3)//len(idxs_newdata_i) +1\n",
        "    #new_data_s_repeats = (total_size*1//4//3)//len(idxs_newdata_s) +1\n",
        "    #idxs_0 = (idxs_0 * _0_data_repeats)[:total_size//4]\n",
        "    #idxs_1 = (idxs_1 * _1_data_repeats)[:total_size*2//4]\n",
        "    #idxs_newdata_p = (idxs_newdata_p * new_data_p_repeats)[:total_size*1//4//3]\n",
        "    #idxs_newdata_i = (idxs_newdata_i * new_data_i_repeats)[:total_size*1//4//3]\n",
        "    #idxs_newdata_s = (idxs_newdata_s * new_data_s_repeats)[:total_size*1//4//3]\n",
        "    #print ('combining all data..', total_size)\n",
        "    #idxs = [f'0_{i}' for i in idxs_0] + [f'1_{i}' for i in idxs_1] + [f'new_{i}' for i in idxs_newdata_p] + [f'new_{i}' for i in idxs_newdata_i] + [f'new_{i}' for i in idxs_newdata_s]\n",
        "    idxs = [f'new_{i}' for i in idxs_newdata_p] + [f'new_{i}' for i in idxs_newdata_i] + [f'new_{i}' for i in idxs_newdata_s]\n",
        "    np.random.shuffle(idxs); np.random.shuffle(idxs)\n",
        "    #\n",
        "    #Write out data\n",
        "    os.system(f'mkdir -p {out_dir}')\n",
        "    print ('writing out data')\n",
        "    with open(f'{out_dir}/{subset}.id', 'w') as fid, \\\n",
        "         open(f'{out_dir}/{subset}.good', 'w') as fgood, \\\n",
        "         open(f'{out_dir}/{subset}.bad', 'w') as fbad:\n",
        "      for idx in tqdm(idxs):\n",
        "        _prefix, _idx = idx.split('_')\n",
        "        _idx = int(_idx)\n",
        "        #if _prefix == '0':\n",
        "        #  fid.write(train_data_0['id'][_idx] +'\\n')\n",
        "        #  fgood.write(train_data_0['good'][_idx] +'\\n')\n",
        "        #  fbad.write(train_data_0['bad'][_idx] +'\\n')\n",
        "        #elif _prefix == '1':\n",
        "        #  fid.write(train_data_1['id'][_idx] +'\\n')\n",
        "        #  fgood.write(train_data_1['good'][_idx] +'\\n')\n",
        "        #  fbad.write(train_data_1['bad'][_idx] +'\\n')\n",
        "        #else:\n",
        "        #  fid.write(train_data['id'][_idx] +'\\n')\n",
        "        #  fgood.write(train_data['good'][_idx] +'\\n')\n",
        "        #  fbad.write(train_data['bad'][_idx] +'\\n')\n",
        "        fid.write(train_data['id'][_idx] +'\\n')\n",
        "        fgood.write(train_data['good'][_idx] +'\\n')\n",
        "        fbad.write(train_data['bad'][_idx] +'\\n')\n",
        "    # os.system('cp {} {}'.format('data/round0/data_paired/dev.bad', out_dir))\n",
        "    # os.system('cp {} {}'.format('data/round0/data_paired/dev.good', out_dir))\n",
        "    # os.system('cp {} {}'.format('data/round0/data_paired/dev.id', out_dir))\n",
        "    print ('done')"
      ],
      "metadata": {
        "id": "IbXsytRQOEPs"
      },
      "execution_count": 16,
      "outputs": []
    },
    {
      "cell_type": "markdown",
      "source": [
        "## Applying Breaker to MBPP"
      ],
      "metadata": {
        "id": "C7jG-RMQ0joi"
      }
    },
    {
      "cell_type": "code",
      "source": [
        "!mv data/orig_good_code/ data/orig_good_code_bifi"
      ],
      "metadata": {
        "id": "1PTiN7juH9IU"
      },
      "execution_count": 17,
      "outputs": []
    },
    {
      "cell_type": "code",
      "source": [
        "!wget https://raw.githubusercontent.com/google-research/google-research/master/mbpp/mbpp.jsonl"
      ],
      "metadata": {
        "colab": {
          "base_uri": "https://localhost:8080/"
        },
        "id": "EwqwzWD78aku",
        "outputId": "f0b2a94b-3e14-495c-bb9c-b641a1b4e7ee"
      },
      "execution_count": 18,
      "outputs": [
        {
          "output_type": "stream",
          "name": "stdout",
          "text": [
            "--2022-06-27 19:42:56--  https://raw.githubusercontent.com/google-research/google-research/master/mbpp/mbpp.jsonl\n",
            "Resolving raw.githubusercontent.com (raw.githubusercontent.com)... 185.199.108.133, 185.199.109.133, 185.199.110.133, ...\n",
            "Connecting to raw.githubusercontent.com (raw.githubusercontent.com)|185.199.108.133|:443... connected.\n",
            "HTTP request sent, awaiting response... 200 OK\n",
            "Length: 563743 (551K) [text/plain]\n",
            "Saving to: ‘mbpp.jsonl’\n",
            "\n",
            "\rmbpp.jsonl            0%[                    ]       0  --.-KB/s               \rmbpp.jsonl          100%[===================>] 550.53K  --.-KB/s    in 0.04s   \n",
            "\n",
            "2022-06-27 19:42:56 (13.1 MB/s) - ‘mbpp.jsonl’ saved [563743/563743]\n",
            "\n"
          ]
        }
      ]
    },
    {
      "cell_type": "code",
      "source": [
        "import pandas as pd\n",
        "\n",
        "mbpp_df = pd.read_json(\"mbpp.jsonl\", orient='records', lines=True)\n",
        "mbpp_df.head()"
      ],
      "metadata": {
        "colab": {
          "base_uri": "https://localhost:8080/",
          "height": 337
        },
        "id": "Y5wFe9y39iLv",
        "outputId": "78174cfa-c85c-4777-dfea-49848a15d999"
      },
      "execution_count": 19,
      "outputs": [
        {
          "output_type": "execute_result",
          "data": {
            "text/plain": [
              "                                                text  \\\n",
              "0  Write a function to find the minimum cost path...   \n",
              "1  Write a function to find the similar elements ...   \n",
              "2  Write a python function to identify non-prime ...   \n",
              "3  Write a function to find the largest integers ...   \n",
              "4  Write a function to find the number of ways to...   \n",
              "\n",
              "                                                code  task_id test_setup_code  \\\n",
              "0  R = 3\\r\\nC = 3\\r\\ndef min_cost(cost, m, n): \\r...        1                   \n",
              "1  def similar_elements(test_tup1, test_tup2):\\r\\...        2                   \n",
              "2  import math\\r\\ndef is_not_prime(n):\\r\\n    res...        3                   \n",
              "3  import heapq as hq\\r\\ndef heap_queue_largest(n...        4                   \n",
              "4  def count_ways(n): \\r\\n\\tA = [0] * (n + 1) \\r\\...        5                   \n",
              "\n",
              "                                           test_list challenge_test_list  \n",
              "0  [assert min_cost([[1, 2, 3], [4, 8, 2], [1, 5,...                  []  \n",
              "1  [assert similar_elements((3, 4, 5, 6),(5, 7, 4...                  []  \n",
              "2  [assert is_not_prime(2) == False, assert is_no...                  []  \n",
              "3  [assert heap_queue_largest( [25, 35, 22, 85, 1...                  []  \n",
              "4  [assert count_ways(2) == 3, assert count_ways(...                  []  "
            ],
            "text/html": [
              "\n",
              "  <div id=\"df-687d25da-17f2-4169-9d62-bed33b3e3feb\">\n",
              "    <div class=\"colab-df-container\">\n",
              "      <div>\n",
              "<style scoped>\n",
              "    .dataframe tbody tr th:only-of-type {\n",
              "        vertical-align: middle;\n",
              "    }\n",
              "\n",
              "    .dataframe tbody tr th {\n",
              "        vertical-align: top;\n",
              "    }\n",
              "\n",
              "    .dataframe thead th {\n",
              "        text-align: right;\n",
              "    }\n",
              "</style>\n",
              "<table border=\"1\" class=\"dataframe\">\n",
              "  <thead>\n",
              "    <tr style=\"text-align: right;\">\n",
              "      <th></th>\n",
              "      <th>text</th>\n",
              "      <th>code</th>\n",
              "      <th>task_id</th>\n",
              "      <th>test_setup_code</th>\n",
              "      <th>test_list</th>\n",
              "      <th>challenge_test_list</th>\n",
              "    </tr>\n",
              "  </thead>\n",
              "  <tbody>\n",
              "    <tr>\n",
              "      <th>0</th>\n",
              "      <td>Write a function to find the minimum cost path...</td>\n",
              "      <td>R = 3\\r\\nC = 3\\r\\ndef min_cost(cost, m, n): \\r...</td>\n",
              "      <td>1</td>\n",
              "      <td></td>\n",
              "      <td>[assert min_cost([[1, 2, 3], [4, 8, 2], [1, 5,...</td>\n",
              "      <td>[]</td>\n",
              "    </tr>\n",
              "    <tr>\n",
              "      <th>1</th>\n",
              "      <td>Write a function to find the similar elements ...</td>\n",
              "      <td>def similar_elements(test_tup1, test_tup2):\\r\\...</td>\n",
              "      <td>2</td>\n",
              "      <td></td>\n",
              "      <td>[assert similar_elements((3, 4, 5, 6),(5, 7, 4...</td>\n",
              "      <td>[]</td>\n",
              "    </tr>\n",
              "    <tr>\n",
              "      <th>2</th>\n",
              "      <td>Write a python function to identify non-prime ...</td>\n",
              "      <td>import math\\r\\ndef is_not_prime(n):\\r\\n    res...</td>\n",
              "      <td>3</td>\n",
              "      <td></td>\n",
              "      <td>[assert is_not_prime(2) == False, assert is_no...</td>\n",
              "      <td>[]</td>\n",
              "    </tr>\n",
              "    <tr>\n",
              "      <th>3</th>\n",
              "      <td>Write a function to find the largest integers ...</td>\n",
              "      <td>import heapq as hq\\r\\ndef heap_queue_largest(n...</td>\n",
              "      <td>4</td>\n",
              "      <td></td>\n",
              "      <td>[assert heap_queue_largest( [25, 35, 22, 85, 1...</td>\n",
              "      <td>[]</td>\n",
              "    </tr>\n",
              "    <tr>\n",
              "      <th>4</th>\n",
              "      <td>Write a function to find the number of ways to...</td>\n",
              "      <td>def count_ways(n): \\r\\n\\tA = [0] * (n + 1) \\r\\...</td>\n",
              "      <td>5</td>\n",
              "      <td></td>\n",
              "      <td>[assert count_ways(2) == 3, assert count_ways(...</td>\n",
              "      <td>[]</td>\n",
              "    </tr>\n",
              "  </tbody>\n",
              "</table>\n",
              "</div>\n",
              "      <button class=\"colab-df-convert\" onclick=\"convertToInteractive('df-687d25da-17f2-4169-9d62-bed33b3e3feb')\"\n",
              "              title=\"Convert this dataframe to an interactive table.\"\n",
              "              style=\"display:none;\">\n",
              "        \n",
              "  <svg xmlns=\"http://www.w3.org/2000/svg\" height=\"24px\"viewBox=\"0 0 24 24\"\n",
              "       width=\"24px\">\n",
              "    <path d=\"M0 0h24v24H0V0z\" fill=\"none\"/>\n",
              "    <path d=\"M18.56 5.44l.94 2.06.94-2.06 2.06-.94-2.06-.94-.94-2.06-.94 2.06-2.06.94zm-11 1L8.5 8.5l.94-2.06 2.06-.94-2.06-.94L8.5 2.5l-.94 2.06-2.06.94zm10 10l.94 2.06.94-2.06 2.06-.94-2.06-.94-.94-2.06-.94 2.06-2.06.94z\"/><path d=\"M17.41 7.96l-1.37-1.37c-.4-.4-.92-.59-1.43-.59-.52 0-1.04.2-1.43.59L10.3 9.45l-7.72 7.72c-.78.78-.78 2.05 0 2.83L4 21.41c.39.39.9.59 1.41.59.51 0 1.02-.2 1.41-.59l7.78-7.78 2.81-2.81c.8-.78.8-2.07 0-2.86zM5.41 20L4 18.59l7.72-7.72 1.47 1.35L5.41 20z\"/>\n",
              "  </svg>\n",
              "      </button>\n",
              "      \n",
              "  <style>\n",
              "    .colab-df-container {\n",
              "      display:flex;\n",
              "      flex-wrap:wrap;\n",
              "      gap: 12px;\n",
              "    }\n",
              "\n",
              "    .colab-df-convert {\n",
              "      background-color: #E8F0FE;\n",
              "      border: none;\n",
              "      border-radius: 50%;\n",
              "      cursor: pointer;\n",
              "      display: none;\n",
              "      fill: #1967D2;\n",
              "      height: 32px;\n",
              "      padding: 0 0 0 0;\n",
              "      width: 32px;\n",
              "    }\n",
              "\n",
              "    .colab-df-convert:hover {\n",
              "      background-color: #E2EBFA;\n",
              "      box-shadow: 0px 1px 2px rgba(60, 64, 67, 0.3), 0px 1px 3px 1px rgba(60, 64, 67, 0.15);\n",
              "      fill: #174EA6;\n",
              "    }\n",
              "\n",
              "    [theme=dark] .colab-df-convert {\n",
              "      background-color: #3B4455;\n",
              "      fill: #D2E3FC;\n",
              "    }\n",
              "\n",
              "    [theme=dark] .colab-df-convert:hover {\n",
              "      background-color: #434B5C;\n",
              "      box-shadow: 0px 1px 3px 1px rgba(0, 0, 0, 0.15);\n",
              "      filter: drop-shadow(0px 1px 2px rgba(0, 0, 0, 0.3));\n",
              "      fill: #FFFFFF;\n",
              "    }\n",
              "  </style>\n",
              "\n",
              "      <script>\n",
              "        const buttonEl =\n",
              "          document.querySelector('#df-687d25da-17f2-4169-9d62-bed33b3e3feb button.colab-df-convert');\n",
              "        buttonEl.style.display =\n",
              "          google.colab.kernel.accessAllowed ? 'block' : 'none';\n",
              "\n",
              "        async function convertToInteractive(key) {\n",
              "          const element = document.querySelector('#df-687d25da-17f2-4169-9d62-bed33b3e3feb');\n",
              "          const dataTable =\n",
              "            await google.colab.kernel.invokeFunction('convertToInteractive',\n",
              "                                                     [key], {});\n",
              "          if (!dataTable) return;\n",
              "\n",
              "          const docLinkHtml = 'Like what you see? Visit the ' +\n",
              "            '<a target=\"_blank\" href=https://colab.research.google.com/notebooks/data_table.ipynb>data table notebook</a>'\n",
              "            + ' to learn more about interactive tables.';\n",
              "          element.innerHTML = '';\n",
              "          dataTable['output_type'] = 'display_data';\n",
              "          await google.colab.output.renderOutput(dataTable, element);\n",
              "          const docLink = document.createElement('div');\n",
              "          docLink.innerHTML = docLinkHtml;\n",
              "          element.appendChild(docLink);\n",
              "        }\n",
              "      </script>\n",
              "    </div>\n",
              "  </div>\n",
              "  "
            ]
          },
          "metadata": {},
          "execution_count": 19
        }
      ]
    },
    {
      "cell_type": "code",
      "source": [
        "from code_utils import tokenize_python_code\n",
        "\n",
        "mbpp_code_toks_joined = []\n",
        "mbpp_anonymize_dict = []\n",
        "\n",
        "i = 0\n",
        "for code in mbpp_df['code'].values:\n",
        "    try:\n",
        "        tokens, anonymize_dict = tokenize_python_code(code)\n",
        "    except:\n",
        "        print(f\"Problem tokenizing at item: {i}\")\n",
        "    finally:\n",
        "        mbpp_code_toks_joined.append(' '.join(tokens))\n",
        "        mbpp_anonymize_dict.append(anonymize_dict)\n",
        "    i = i + 1\n",
        "\n",
        "mbpp_toks_df = pd.DataFrame({'code_toks_joined' : mbpp_code_toks_joined, 'anonymize_dict': mbpp_anonymize_dict})\n",
        "mbpp_df = pd.concat([mbpp_df, mbpp_toks_df], axis=1)"
      ],
      "metadata": {
        "colab": {
          "base_uri": "https://localhost:8080/"
        },
        "id": "Kv_uvI0R-MAA",
        "outputId": "3dc3a35a-b41d-4096-9b99-e9e9c2f4e670"
      },
      "execution_count": 20,
      "outputs": [
        {
          "output_type": "stream",
          "name": "stdout",
          "text": [
            "('ERRORTOKEN', (3, 17))\n",
            "Problem tokenizing at item: 103\n",
            "('ERRORTOKEN', (3, 51))\n",
            "Problem tokenizing at item: 254\n",
            "('ERRORTOKEN', (4, 14))\n",
            "Problem tokenizing at item: 592\n",
            "('ERRORTOKEN', (3, 36))\n",
            "Problem tokenizing at item: 731\n"
          ]
        }
      ]
    },
    {
      "cell_type": "code",
      "source": [
        "mbpp_df['code_string'] = mbpp_df['code']\n",
        "mbpp_df = mbpp_df.set_index(mbpp_df['task_id'])\n",
        "mbpp_df = mbpp_df[['task_id', 'code_string', 'code_toks_joined', 'anonymize_dict']]\n"
      ],
      "metadata": {
        "id": "YI7kQN2y_MKh"
      },
      "execution_count": 21,
      "outputs": []
    },
    {
      "cell_type": "code",
      "source": [
        "mbpp_df.head()"
      ],
      "metadata": {
        "colab": {
          "base_uri": "https://localhost:8080/",
          "height": 237
        },
        "id": "IeIKiW-DBSth",
        "outputId": "7e67b75d-5725-418c-b265-0ed83c46c5d2"
      },
      "execution_count": 22,
      "outputs": [
        {
          "output_type": "execute_result",
          "data": {
            "text/plain": [
              "         task_id                                        code_string  \\\n",
              "task_id                                                               \n",
              "1              1  R = 3\\r\\nC = 3\\r\\ndef min_cost(cost, m, n): \\r...   \n",
              "2              2  def similar_elements(test_tup1, test_tup2):\\r\\...   \n",
              "3              3  import math\\r\\ndef is_not_prime(n):\\r\\n    res...   \n",
              "4              4  import heapq as hq\\r\\ndef heap_queue_largest(n...   \n",
              "5              5  def count_ways(n): \\r\\n\\tA = [0] * (n + 1) \\r\\...   \n",
              "\n",
              "                                          code_toks_joined anonymize_dict  \n",
              "task_id                                                                    \n",
              "1        R = 3 <NEWLINE> C = 3 <NEWLINE> def min_cost (...             {}  \n",
              "2        def similar_elements ( test_tup1 , test_tup2 )...             {}  \n",
              "3        import math <NEWLINE> def is_not_prime ( n ) :...             {}  \n",
              "4        import heapq as hq <NEWLINE> def heap_queue_la...             {}  \n",
              "5        def count_ways ( n ) : <NEWLINE> <INDENT> A = ...             {}  "
            ],
            "text/html": [
              "\n",
              "  <div id=\"df-4fa03c1d-ba58-408f-861b-5a3a86ece842\">\n",
              "    <div class=\"colab-df-container\">\n",
              "      <div>\n",
              "<style scoped>\n",
              "    .dataframe tbody tr th:only-of-type {\n",
              "        vertical-align: middle;\n",
              "    }\n",
              "\n",
              "    .dataframe tbody tr th {\n",
              "        vertical-align: top;\n",
              "    }\n",
              "\n",
              "    .dataframe thead th {\n",
              "        text-align: right;\n",
              "    }\n",
              "</style>\n",
              "<table border=\"1\" class=\"dataframe\">\n",
              "  <thead>\n",
              "    <tr style=\"text-align: right;\">\n",
              "      <th></th>\n",
              "      <th>task_id</th>\n",
              "      <th>code_string</th>\n",
              "      <th>code_toks_joined</th>\n",
              "      <th>anonymize_dict</th>\n",
              "    </tr>\n",
              "    <tr>\n",
              "      <th>task_id</th>\n",
              "      <th></th>\n",
              "      <th></th>\n",
              "      <th></th>\n",
              "      <th></th>\n",
              "    </tr>\n",
              "  </thead>\n",
              "  <tbody>\n",
              "    <tr>\n",
              "      <th>1</th>\n",
              "      <td>1</td>\n",
              "      <td>R = 3\\r\\nC = 3\\r\\ndef min_cost(cost, m, n): \\r...</td>\n",
              "      <td>R = 3 &lt;NEWLINE&gt; C = 3 &lt;NEWLINE&gt; def min_cost (...</td>\n",
              "      <td>{}</td>\n",
              "    </tr>\n",
              "    <tr>\n",
              "      <th>2</th>\n",
              "      <td>2</td>\n",
              "      <td>def similar_elements(test_tup1, test_tup2):\\r\\...</td>\n",
              "      <td>def similar_elements ( test_tup1 , test_tup2 )...</td>\n",
              "      <td>{}</td>\n",
              "    </tr>\n",
              "    <tr>\n",
              "      <th>3</th>\n",
              "      <td>3</td>\n",
              "      <td>import math\\r\\ndef is_not_prime(n):\\r\\n    res...</td>\n",
              "      <td>import math &lt;NEWLINE&gt; def is_not_prime ( n ) :...</td>\n",
              "      <td>{}</td>\n",
              "    </tr>\n",
              "    <tr>\n",
              "      <th>4</th>\n",
              "      <td>4</td>\n",
              "      <td>import heapq as hq\\r\\ndef heap_queue_largest(n...</td>\n",
              "      <td>import heapq as hq &lt;NEWLINE&gt; def heap_queue_la...</td>\n",
              "      <td>{}</td>\n",
              "    </tr>\n",
              "    <tr>\n",
              "      <th>5</th>\n",
              "      <td>5</td>\n",
              "      <td>def count_ways(n): \\r\\n\\tA = [0] * (n + 1) \\r\\...</td>\n",
              "      <td>def count_ways ( n ) : &lt;NEWLINE&gt; &lt;INDENT&gt; A = ...</td>\n",
              "      <td>{}</td>\n",
              "    </tr>\n",
              "  </tbody>\n",
              "</table>\n",
              "</div>\n",
              "      <button class=\"colab-df-convert\" onclick=\"convertToInteractive('df-4fa03c1d-ba58-408f-861b-5a3a86ece842')\"\n",
              "              title=\"Convert this dataframe to an interactive table.\"\n",
              "              style=\"display:none;\">\n",
              "        \n",
              "  <svg xmlns=\"http://www.w3.org/2000/svg\" height=\"24px\"viewBox=\"0 0 24 24\"\n",
              "       width=\"24px\">\n",
              "    <path d=\"M0 0h24v24H0V0z\" fill=\"none\"/>\n",
              "    <path d=\"M18.56 5.44l.94 2.06.94-2.06 2.06-.94-2.06-.94-.94-2.06-.94 2.06-2.06.94zm-11 1L8.5 8.5l.94-2.06 2.06-.94-2.06-.94L8.5 2.5l-.94 2.06-2.06.94zm10 10l.94 2.06.94-2.06 2.06-.94-2.06-.94-.94-2.06-.94 2.06-2.06.94z\"/><path d=\"M17.41 7.96l-1.37-1.37c-.4-.4-.92-.59-1.43-.59-.52 0-1.04.2-1.43.59L10.3 9.45l-7.72 7.72c-.78.78-.78 2.05 0 2.83L4 21.41c.39.39.9.59 1.41.59.51 0 1.02-.2 1.41-.59l7.78-7.78 2.81-2.81c.8-.78.8-2.07 0-2.86zM5.41 20L4 18.59l7.72-7.72 1.47 1.35L5.41 20z\"/>\n",
              "  </svg>\n",
              "      </button>\n",
              "      \n",
              "  <style>\n",
              "    .colab-df-container {\n",
              "      display:flex;\n",
              "      flex-wrap:wrap;\n",
              "      gap: 12px;\n",
              "    }\n",
              "\n",
              "    .colab-df-convert {\n",
              "      background-color: #E8F0FE;\n",
              "      border: none;\n",
              "      border-radius: 50%;\n",
              "      cursor: pointer;\n",
              "      display: none;\n",
              "      fill: #1967D2;\n",
              "      height: 32px;\n",
              "      padding: 0 0 0 0;\n",
              "      width: 32px;\n",
              "    }\n",
              "\n",
              "    .colab-df-convert:hover {\n",
              "      background-color: #E2EBFA;\n",
              "      box-shadow: 0px 1px 2px rgba(60, 64, 67, 0.3), 0px 1px 3px 1px rgba(60, 64, 67, 0.15);\n",
              "      fill: #174EA6;\n",
              "    }\n",
              "\n",
              "    [theme=dark] .colab-df-convert {\n",
              "      background-color: #3B4455;\n",
              "      fill: #D2E3FC;\n",
              "    }\n",
              "\n",
              "    [theme=dark] .colab-df-convert:hover {\n",
              "      background-color: #434B5C;\n",
              "      box-shadow: 0px 1px 3px 1px rgba(0, 0, 0, 0.15);\n",
              "      filter: drop-shadow(0px 1px 2px rgba(0, 0, 0, 0.3));\n",
              "      fill: #FFFFFF;\n",
              "    }\n",
              "  </style>\n",
              "\n",
              "      <script>\n",
              "        const buttonEl =\n",
              "          document.querySelector('#df-4fa03c1d-ba58-408f-861b-5a3a86ece842 button.colab-df-convert');\n",
              "        buttonEl.style.display =\n",
              "          google.colab.kernel.accessAllowed ? 'block' : 'none';\n",
              "\n",
              "        async function convertToInteractive(key) {\n",
              "          const element = document.querySelector('#df-4fa03c1d-ba58-408f-861b-5a3a86ece842');\n",
              "          const dataTable =\n",
              "            await google.colab.kernel.invokeFunction('convertToInteractive',\n",
              "                                                     [key], {});\n",
              "          if (!dataTable) return;\n",
              "\n",
              "          const docLinkHtml = 'Like what you see? Visit the ' +\n",
              "            '<a target=\"_blank\" href=https://colab.research.google.com/notebooks/data_table.ipynb>data table notebook</a>'\n",
              "            + ' to learn more about interactive tables.';\n",
              "          element.innerHTML = '';\n",
              "          dataTable['output_type'] = 'display_data';\n",
              "          await google.colab.output.renderOutput(dataTable, element);\n",
              "          const docLink = document.createElement('div');\n",
              "          docLink.innerHTML = docLinkHtml;\n",
              "          element.appendChild(docLink);\n",
              "        }\n",
              "      </script>\n",
              "    </div>\n",
              "  </div>\n",
              "  "
            ]
          },
          "metadata": {},
          "execution_count": 22
        }
      ]
    },
    {
      "cell_type": "markdown",
      "source": [
        "In this section we are going to divide the dataset into training, validation and tests with 60%, 20%, 20% respectively."
      ],
      "metadata": {
        "id": "HipGahn4ttv7"
      }
    },
    {
      "cell_type": "code",
      "source": [
        "from sklearn.model_selection import train_test_split\n",
        "\n",
        "mbpp_train, mbpp_val_test = train_test_split(mbpp_df, test_size=0.4, random_state=42)\n",
        "mbpp_val, mbpp_test = train_test_split(mbpp_val_test, test_size=0.5, random_state=42)"
      ],
      "metadata": {
        "id": "Xu6csN372RIK"
      },
      "execution_count": 23,
      "outputs": []
    },
    {
      "cell_type": "code",
      "source": [
        "mbpp_df.shape"
      ],
      "metadata": {
        "colab": {
          "base_uri": "https://localhost:8080/"
        },
        "id": "Om-fVKBP3NlT",
        "outputId": "ac9a9881-ce49-4271-93b1-c2b58480a44f"
      },
      "execution_count": 24,
      "outputs": [
        {
          "output_type": "execute_result",
          "data": {
            "text/plain": [
              "(974, 4)"
            ]
          },
          "metadata": {},
          "execution_count": 24
        }
      ]
    },
    {
      "cell_type": "code",
      "source": [
        "mbpp_train.shape"
      ],
      "metadata": {
        "colab": {
          "base_uri": "https://localhost:8080/"
        },
        "id": "4elp781R2_CL",
        "outputId": "1563e4c7-f1d8-47f0-8582-87fd643a542f"
      },
      "execution_count": 25,
      "outputs": [
        {
          "output_type": "execute_result",
          "data": {
            "text/plain": [
              "(584, 4)"
            ]
          },
          "metadata": {},
          "execution_count": 25
        }
      ]
    },
    {
      "cell_type": "code",
      "source": [
        "mbpp_val.shape"
      ],
      "metadata": {
        "colab": {
          "base_uri": "https://localhost:8080/"
        },
        "id": "z96Nh1dy3BLf",
        "outputId": "a1d4a201-f71d-4420-ef4a-3d8bb3325d52"
      },
      "execution_count": 26,
      "outputs": [
        {
          "output_type": "execute_result",
          "data": {
            "text/plain": [
              "(195, 4)"
            ]
          },
          "metadata": {},
          "execution_count": 26
        }
      ]
    },
    {
      "cell_type": "code",
      "source": [
        "mbpp_test.shape"
      ],
      "metadata": {
        "colab": {
          "base_uri": "https://localhost:8080/"
        },
        "id": "Gk_OoEl93ERv",
        "outputId": "3b6d6a74-9396-49dd-d7c9-32987efd7752"
      },
      "execution_count": 27,
      "outputs": [
        {
          "output_type": "execute_result",
          "data": {
            "text/plain": [
              "(195, 4)"
            ]
          },
          "metadata": {},
          "execution_count": 27
        }
      ]
    },
    {
      "cell_type": "code",
      "source": [
        "import csv\n",
        "\n",
        "def save_to_files(base_path, mbpp_df):\n",
        "    mbpp_df[['code_string', 'code_toks_joined', 'anonymize_dict']].to_json(f\"{base_path}/orig.good.json\", orient='index')\n",
        "    mbpp_df[['code_toks_joined']].to_csv(f\"{base_path}/orig.0.good\", index=False, header=False, quoting=csv.QUOTE_NONE, escapechar=' ')\n",
        "    mbpp_df[['task_id']].to_csv(f\"{base_path}/orig.0.id\", index=False, header=False)"
      ],
      "metadata": {
        "id": "a2iyGe8M_ylt"
      },
      "execution_count": 28,
      "outputs": []
    },
    {
      "cell_type": "markdown",
      "source": [
        "### Create Preprocess Train/Validation dataset"
      ],
      "metadata": {
        "id": "ajd9N4y-7Swb"
      }
    },
    {
      "cell_type": "code",
      "source": [
        "data_dir = Path('data')\n",
        "round_name = 'round2-BIFI-part1'\n",
        "round_dir = data_dir/round_name\n",
        "destdir_root = round_dir/'orig_good'\n",
        "destdir_root = Path(destdir_root)\n",
        "\n",
        "gpu_ids = '0'\n",
        "\n",
        "#Run breaker\n",
        "model_dir  = round_dir/'model-breaker'\n",
        "model_path = model_dir/'checkpoint.pt'\n",
        "\n",
        "load_dir = data_dir/round_name/'data_paired_pure'\n",
        "out_dir  = data_dir/round_name/'data_paired'\n",
        "\n",
        "pred_dir_root = round_dir/'orig_good'\n",
        "pred_dir_prefix = str(pred_dir_root/'fairseq_preprocess__orig_good.')\n",
        "pred_fname  = 'model-breaker.pred.txt'\n",
        "\n",
        "base_path = data_dir/'orig_good_code'\n",
        "\n",
        "n_splits = 1"
      ],
      "metadata": {
        "id": "onTNI4sIMGfl"
      },
      "execution_count": 29,
      "outputs": []
    },
    {
      "cell_type": "markdown",
      "source": [
        "#### Train dataset"
      ],
      "metadata": {
        "id": "nME9ev1Q8PCe"
      }
    },
    {
      "cell_type": "code",
      "source": [
        "!rm -r /content/data/round2-BIFI-part1/orig_good\n",
        "!rm -r /content/data/orig_good_code"
      ],
      "metadata": {
        "colab": {
          "base_uri": "https://localhost:8080/"
        },
        "id": "sTnIvltIA8F3",
        "outputId": "508d509b-e145-4c6b-c2cd-b50acf5bbf30"
      },
      "execution_count": 30,
      "outputs": [
        {
          "output_type": "stream",
          "name": "stdout",
          "text": [
            "rm: cannot remove '/content/data/round2-BIFI-part1/orig_good': No such file or directory\n",
            "rm: cannot remove '/content/data/orig_good_code': No such file or directory\n"
          ]
        }
      ]
    },
    {
      "cell_type": "code",
      "source": [
        "os.makedirs(base_path)"
      ],
      "metadata": {
        "id": "HZpGQNyj7lj1"
      },
      "execution_count": 31,
      "outputs": []
    },
    {
      "cell_type": "code",
      "source": [
        "save_to_files(base_path, mbpp_train)\n",
        "goods = json.load(open(data_dir/'orig_good_code/orig.good.json'))\n",
        "preprocess(destdir_root)\n",
        "generate(destdir_root, gpu_ids)"
      ],
      "metadata": {
        "id": "M7t6oQll4Xp2"
      },
      "execution_count": 32,
      "outputs": []
    },
    {
      "cell_type": "code",
      "source": [
        "for split in range(n_splits):\n",
        "    eval_one_split(pred_dir_prefix, split, pred_fname, goods, n_workers=1)"
      ],
      "metadata": {
        "colab": {
          "base_uri": "https://localhost:8080/"
        },
        "id": "zea6tpJoMeQU",
        "outputId": "b57623c3-1bb0-46fb-d919-5410c4eb7c96"
      },
      "execution_count": 33,
      "outputs": [
        {
          "output_type": "stream",
          "name": "stdout",
          "text": [
            "len(preds) 584\n"
          ]
        },
        {
          "output_type": "stream",
          "name": "stderr",
          "text": [
            "100%|██████████| 584/584 [00:01<00:00, 514.87it/s]\n"
          ]
        },
        {
          "output_type": "stream",
          "name": "stdout",
          "text": [
            "data/round2-BIFI-part1/orig_good/fairseq_preprocess__orig_good.0/model-breaker.pred.evaluated.json\n"
          ]
        }
      ]
    },
    {
      "cell_type": "code",
      "source": [
        "generate_paired_data_from_breaker_preds_for_BIFI(pred_dir_prefix, pred_fname, out_dir, load_dir, subset='train', n_splits=n_splits)"
      ],
      "metadata": {
        "colab": {
          "base_uri": "https://localhost:8080/"
        },
        "id": "6x3AeBMrMj8h",
        "outputId": "782b6d97-94b7-4540-ed26-a972522217a4"
      },
      "execution_count": 34,
      "outputs": [
        {
          "output_type": "stream",
          "name": "stdout",
          "text": [
            "split 0\n"
          ]
        },
        {
          "output_type": "stream",
          "name": "stderr",
          "text": [
            "100%|██████████| 584/584 [00:00<00:00, 42647.75it/s]\n"
          ]
        },
        {
          "output_type": "stream",
          "name": "stdout",
          "text": [
            "#new_data 4907\n",
            "#new_data_p 1643 #new_data_i 259 #new_data_s 3005\n",
            "seed 2077634057\n",
            "writing out data\n"
          ]
        },
        {
          "output_type": "stream",
          "name": "stderr",
          "text": [
            "100%|██████████| 4907/4907 [00:00<00:00, 344367.19it/s]"
          ]
        },
        {
          "output_type": "stream",
          "name": "stdout",
          "text": [
            "done\n"
          ]
        },
        {
          "output_type": "stream",
          "name": "stderr",
          "text": [
            "\n"
          ]
        }
      ]
    },
    {
      "cell_type": "markdown",
      "source": [
        "#### Validation dataset"
      ],
      "metadata": {
        "id": "UJL_YlTr8S-P"
      }
    },
    {
      "cell_type": "code",
      "source": [
        "!rm -r /content/data/round2-BIFI-part1/orig_good\n",
        "!rm -r /content/data/orig_good_code"
      ],
      "metadata": {
        "id": "RIPm8uY9A9sM"
      },
      "execution_count": 35,
      "outputs": []
    },
    {
      "cell_type": "code",
      "source": [
        "os.makedirs(base_path)\n",
        "save_to_files(base_path, mbpp_val)\n",
        "goods = json.load(open(data_dir/'orig_good_code/orig.good.json'))\n",
        "preprocess(destdir_root)\n",
        "generate(destdir_root, gpu_ids)\n",
        "for split in range(n_splits):\n",
        "    eval_one_split(pred_dir_prefix, split, pred_fname, goods, n_workers=1)"
      ],
      "metadata": {
        "colab": {
          "base_uri": "https://localhost:8080/"
        },
        "id": "9fVbZD0xBb8l",
        "outputId": "2fd8df8a-0089-4752-a575-4fab78397669"
      },
      "execution_count": 36,
      "outputs": [
        {
          "output_type": "stream",
          "name": "stdout",
          "text": [
            "len(preds) 195\n"
          ]
        },
        {
          "output_type": "stream",
          "name": "stderr",
          "text": [
            "100%|██████████| 195/195 [00:00<00:00, 564.88it/s]\n"
          ]
        },
        {
          "output_type": "stream",
          "name": "stdout",
          "text": [
            "data/round2-BIFI-part1/orig_good/fairseq_preprocess__orig_good.0/model-breaker.pred.evaluated.json\n"
          ]
        }
      ]
    },
    {
      "cell_type": "code",
      "source": [
        "generate_paired_data_from_breaker_preds_for_BIFI(pred_dir_prefix, pred_fname, out_dir, load_dir, subset='val', n_splits=n_splits)"
      ],
      "metadata": {
        "colab": {
          "base_uri": "https://localhost:8080/"
        },
        "id": "CQyfs12YAReR",
        "outputId": "acd3e446-aa83-4e4b-ab5e-ed9535cf4266"
      },
      "execution_count": 37,
      "outputs": [
        {
          "output_type": "stream",
          "name": "stdout",
          "text": [
            "split 0\n"
          ]
        },
        {
          "output_type": "stream",
          "name": "stderr",
          "text": [
            "100%|██████████| 195/195 [00:00<00:00, 27268.43it/s]\n"
          ]
        },
        {
          "output_type": "stream",
          "name": "stdout",
          "text": [
            "#new_data 1694\n",
            "#new_data_p 560 #new_data_i 85 #new_data_s 1049\n",
            "seed 2077634057\n",
            "writing out data\n"
          ]
        },
        {
          "output_type": "stream",
          "name": "stderr",
          "text": [
            "100%|██████████| 1694/1694 [00:00<00:00, 248866.93it/s]"
          ]
        },
        {
          "output_type": "stream",
          "name": "stdout",
          "text": [
            "done\n"
          ]
        },
        {
          "output_type": "stream",
          "name": "stderr",
          "text": [
            "\n"
          ]
        }
      ]
    },
    {
      "cell_type": "markdown",
      "source": [
        "#### Test Dataset"
      ],
      "metadata": {
        "id": "Ql9H--Trs98Z"
      }
    },
    {
      "cell_type": "code",
      "source": [
        "!rm -r /content/data/round2-BIFI-part1/orig_good\n",
        "!rm -r /content/data/orig_good_code"
      ],
      "metadata": {
        "id": "nf8kuMSCtCEJ"
      },
      "execution_count": 38,
      "outputs": []
    },
    {
      "cell_type": "code",
      "source": [
        "os.makedirs(base_path)\n",
        "save_to_files(base_path, mbpp_test)\n",
        "goods = json.load(open(data_dir/'orig_good_code/orig.good.json'))\n",
        "preprocess(destdir_root)\n",
        "generate(destdir_root, gpu_ids)\n",
        "for split in range(n_splits):\n",
        "    eval_one_split(pred_dir_prefix, split, pred_fname, goods, n_workers=1)"
      ],
      "metadata": {
        "colab": {
          "base_uri": "https://localhost:8080/"
        },
        "id": "vlz571HytEXf",
        "outputId": "70da3918-c9ed-4e17-b11b-e2ead04e8429"
      },
      "execution_count": 39,
      "outputs": [
        {
          "output_type": "stream",
          "name": "stdout",
          "text": [
            "len(preds) 195\n"
          ]
        },
        {
          "output_type": "stream",
          "name": "stderr",
          "text": [
            "100%|██████████| 195/195 [00:00<00:00, 555.33it/s]\n"
          ]
        },
        {
          "output_type": "stream",
          "name": "stdout",
          "text": [
            "data/round2-BIFI-part1/orig_good/fairseq_preprocess__orig_good.0/model-breaker.pred.evaluated.json\n"
          ]
        }
      ]
    },
    {
      "cell_type": "code",
      "source": [
        "generate_paired_data_from_breaker_preds_for_BIFI(pred_dir_prefix, pred_fname, out_dir, load_dir, subset='test', n_splits=n_splits)"
      ],
      "metadata": {
        "colab": {
          "base_uri": "https://localhost:8080/"
        },
        "id": "j3cC6-jMtNWC",
        "outputId": "6d535eab-1a23-4235-aa69-44af4b4d0d7d"
      },
      "execution_count": 40,
      "outputs": [
        {
          "output_type": "stream",
          "name": "stdout",
          "text": [
            "split 0\n"
          ]
        },
        {
          "output_type": "stream",
          "name": "stderr",
          "text": [
            "100%|██████████| 195/195 [00:00<00:00, 44205.45it/s]\n"
          ]
        },
        {
          "output_type": "stream",
          "name": "stdout",
          "text": [
            "#new_data 1641\n",
            "#new_data_p 523 #new_data_i 90 #new_data_s 1028\n",
            "seed 2077634057\n",
            "writing out data\n"
          ]
        },
        {
          "output_type": "stream",
          "name": "stderr",
          "text": [
            "100%|██████████| 1641/1641 [00:00<00:00, 184166.45it/s]"
          ]
        },
        {
          "output_type": "stream",
          "name": "stdout",
          "text": [
            "done\n"
          ]
        },
        {
          "output_type": "stream",
          "name": "stderr",
          "text": [
            "\n"
          ]
        }
      ]
    },
    {
      "cell_type": "markdown",
      "source": [
        "#### Explore synthetic dataset"
      ],
      "metadata": {
        "id": "Kwz-4vgyAbOV"
      }
    },
    {
      "cell_type": "code",
      "source": [
        "!pip install editdistance"
      ],
      "metadata": {
        "colab": {
          "base_uri": "https://localhost:8080/"
        },
        "id": "ubd1Ojj7NiZz",
        "outputId": "eaf783b7-ef17-4a69-e7b4-c742fae1af0a"
      },
      "execution_count": 41,
      "outputs": [
        {
          "output_type": "stream",
          "name": "stdout",
          "text": [
            "Looking in indexes: https://pypi.org/simple, https://us-python.pkg.dev/colab-wheels/public/simple/\n",
            "Requirement already satisfied: editdistance in /usr/local/lib/python3.7/dist-packages (0.5.3)\n"
          ]
        }
      ]
    },
    {
      "cell_type": "code",
      "source": [
        "# cargamos el dataset en un dataframe\n",
        "\n",
        "train_good_lines = []\n",
        "\n",
        "with open(f\"{out_dir}/train.good\", 'r') as f:\n",
        "    train_good_lines = f.readlines()\n",
        "\n",
        "train_bad_lines = []\n",
        "with open(f\"{out_dir}/train.bad\", 'r') as f:\n",
        "    train_bad_lines = f.readlines()\n",
        "\n",
        "train_idx = []\n",
        "with open(f\"{out_dir}/train.id\", 'r') as f:\n",
        "    train_idx = f.readlines()\n",
        "\n",
        "train_df = pd.DataFrame({'id': train_idx, 'good': train_good_lines, 'bad': train_bad_lines})\n",
        "\n",
        "# clean last char '\\n'\n",
        "train_df['id'] = train_df['id'].str.replace('\\n', '')\n",
        "train_df['good'] = train_df['good'].str.replace('\\n', '')\n",
        "train_df['bad'] = train_df['bad'].str.replace('\\n', '')"
      ],
      "metadata": {
        "id": "GWSw1W6yOOSw"
      },
      "execution_count": 42,
      "outputs": []
    },
    {
      "cell_type": "code",
      "source": [
        "train_df.head()"
      ],
      "metadata": {
        "colab": {
          "base_uri": "https://localhost:8080/",
          "height": 206
        },
        "id": "_S6trWjaOONv",
        "outputId": "c8af1184-2fca-4e30-955c-da80549d00ce"
      },
      "execution_count": 43,
      "outputs": [
        {
          "output_type": "execute_result",
          "data": {
            "text/plain": [
              "           id                                               good  \\\n",
              "0  00-120-006  def <unk> ( list1 ) : <NEWLINE> <INDENT> <unk>...   \n",
              "1  00-770-009  def <unk> ( n ) : <NEWLINE> <INDENT> j = 0 <NE...   \n",
              "2  00-427-008  import re <NEWLINE> def <unk> ( dt ) : <NEWLIN...   \n",
              "3   00-33-006  def <unk> ( N ) : <NEWLINE> <INDENT> <unk> = 0...   \n",
              "4  00-206-005  def <unk> ( <unk> ) : <NEWLINE> <INDENT> res =...   \n",
              "\n",
              "                                                 bad  \n",
              "0  def <unk> ( list1 ) : <NEWLINE> <INDENT> <unk>...  \n",
              "1  def <unk> ( n ) : <NEWLINE> j = 0 <NEWLINE> sm...  \n",
              "2  import re <NEWLINE> def <unk> ( dt ) : <NEWLIN...  \n",
              "3  def <unk> ( N ) : <NEWLINE> <INDENT> <unk> = 0...  \n",
              "4  def <unk> ( <unk> ) : <NEWLINE> <INDENT> res =...  "
            ],
            "text/html": [
              "\n",
              "  <div id=\"df-206a8082-04f5-40f0-b4e1-810f85c15dce\">\n",
              "    <div class=\"colab-df-container\">\n",
              "      <div>\n",
              "<style scoped>\n",
              "    .dataframe tbody tr th:only-of-type {\n",
              "        vertical-align: middle;\n",
              "    }\n",
              "\n",
              "    .dataframe tbody tr th {\n",
              "        vertical-align: top;\n",
              "    }\n",
              "\n",
              "    .dataframe thead th {\n",
              "        text-align: right;\n",
              "    }\n",
              "</style>\n",
              "<table border=\"1\" class=\"dataframe\">\n",
              "  <thead>\n",
              "    <tr style=\"text-align: right;\">\n",
              "      <th></th>\n",
              "      <th>id</th>\n",
              "      <th>good</th>\n",
              "      <th>bad</th>\n",
              "    </tr>\n",
              "  </thead>\n",
              "  <tbody>\n",
              "    <tr>\n",
              "      <th>0</th>\n",
              "      <td>00-120-006</td>\n",
              "      <td>def &lt;unk&gt; ( list1 ) : &lt;NEWLINE&gt; &lt;INDENT&gt; &lt;unk&gt;...</td>\n",
              "      <td>def &lt;unk&gt; ( list1 ) : &lt;NEWLINE&gt; &lt;INDENT&gt; &lt;unk&gt;...</td>\n",
              "    </tr>\n",
              "    <tr>\n",
              "      <th>1</th>\n",
              "      <td>00-770-009</td>\n",
              "      <td>def &lt;unk&gt; ( n ) : &lt;NEWLINE&gt; &lt;INDENT&gt; j = 0 &lt;NE...</td>\n",
              "      <td>def &lt;unk&gt; ( n ) : &lt;NEWLINE&gt; j = 0 &lt;NEWLINE&gt; sm...</td>\n",
              "    </tr>\n",
              "    <tr>\n",
              "      <th>2</th>\n",
              "      <td>00-427-008</td>\n",
              "      <td>import re &lt;NEWLINE&gt; def &lt;unk&gt; ( dt ) : &lt;NEWLIN...</td>\n",
              "      <td>import re &lt;NEWLINE&gt; def &lt;unk&gt; ( dt ) : &lt;NEWLIN...</td>\n",
              "    </tr>\n",
              "    <tr>\n",
              "      <th>3</th>\n",
              "      <td>00-33-006</td>\n",
              "      <td>def &lt;unk&gt; ( N ) : &lt;NEWLINE&gt; &lt;INDENT&gt; &lt;unk&gt; = 0...</td>\n",
              "      <td>def &lt;unk&gt; ( N ) : &lt;NEWLINE&gt; &lt;INDENT&gt; &lt;unk&gt; = 0...</td>\n",
              "    </tr>\n",
              "    <tr>\n",
              "      <th>4</th>\n",
              "      <td>00-206-005</td>\n",
              "      <td>def &lt;unk&gt; ( &lt;unk&gt; ) : &lt;NEWLINE&gt; &lt;INDENT&gt; res =...</td>\n",
              "      <td>def &lt;unk&gt; ( &lt;unk&gt; ) : &lt;NEWLINE&gt; &lt;INDENT&gt; res =...</td>\n",
              "    </tr>\n",
              "  </tbody>\n",
              "</table>\n",
              "</div>\n",
              "      <button class=\"colab-df-convert\" onclick=\"convertToInteractive('df-206a8082-04f5-40f0-b4e1-810f85c15dce')\"\n",
              "              title=\"Convert this dataframe to an interactive table.\"\n",
              "              style=\"display:none;\">\n",
              "        \n",
              "  <svg xmlns=\"http://www.w3.org/2000/svg\" height=\"24px\"viewBox=\"0 0 24 24\"\n",
              "       width=\"24px\">\n",
              "    <path d=\"M0 0h24v24H0V0z\" fill=\"none\"/>\n",
              "    <path d=\"M18.56 5.44l.94 2.06.94-2.06 2.06-.94-2.06-.94-.94-2.06-.94 2.06-2.06.94zm-11 1L8.5 8.5l.94-2.06 2.06-.94-2.06-.94L8.5 2.5l-.94 2.06-2.06.94zm10 10l.94 2.06.94-2.06 2.06-.94-2.06-.94-.94-2.06-.94 2.06-2.06.94z\"/><path d=\"M17.41 7.96l-1.37-1.37c-.4-.4-.92-.59-1.43-.59-.52 0-1.04.2-1.43.59L10.3 9.45l-7.72 7.72c-.78.78-.78 2.05 0 2.83L4 21.41c.39.39.9.59 1.41.59.51 0 1.02-.2 1.41-.59l7.78-7.78 2.81-2.81c.8-.78.8-2.07 0-2.86zM5.41 20L4 18.59l7.72-7.72 1.47 1.35L5.41 20z\"/>\n",
              "  </svg>\n",
              "      </button>\n",
              "      \n",
              "  <style>\n",
              "    .colab-df-container {\n",
              "      display:flex;\n",
              "      flex-wrap:wrap;\n",
              "      gap: 12px;\n",
              "    }\n",
              "\n",
              "    .colab-df-convert {\n",
              "      background-color: #E8F0FE;\n",
              "      border: none;\n",
              "      border-radius: 50%;\n",
              "      cursor: pointer;\n",
              "      display: none;\n",
              "      fill: #1967D2;\n",
              "      height: 32px;\n",
              "      padding: 0 0 0 0;\n",
              "      width: 32px;\n",
              "    }\n",
              "\n",
              "    .colab-df-convert:hover {\n",
              "      background-color: #E2EBFA;\n",
              "      box-shadow: 0px 1px 2px rgba(60, 64, 67, 0.3), 0px 1px 3px 1px rgba(60, 64, 67, 0.15);\n",
              "      fill: #174EA6;\n",
              "    }\n",
              "\n",
              "    [theme=dark] .colab-df-convert {\n",
              "      background-color: #3B4455;\n",
              "      fill: #D2E3FC;\n",
              "    }\n",
              "\n",
              "    [theme=dark] .colab-df-convert:hover {\n",
              "      background-color: #434B5C;\n",
              "      box-shadow: 0px 1px 3px 1px rgba(0, 0, 0, 0.15);\n",
              "      filter: drop-shadow(0px 1px 2px rgba(0, 0, 0, 0.3));\n",
              "      fill: #FFFFFF;\n",
              "    }\n",
              "  </style>\n",
              "\n",
              "      <script>\n",
              "        const buttonEl =\n",
              "          document.querySelector('#df-206a8082-04f5-40f0-b4e1-810f85c15dce button.colab-df-convert');\n",
              "        buttonEl.style.display =\n",
              "          google.colab.kernel.accessAllowed ? 'block' : 'none';\n",
              "\n",
              "        async function convertToInteractive(key) {\n",
              "          const element = document.querySelector('#df-206a8082-04f5-40f0-b4e1-810f85c15dce');\n",
              "          const dataTable =\n",
              "            await google.colab.kernel.invokeFunction('convertToInteractive',\n",
              "                                                     [key], {});\n",
              "          if (!dataTable) return;\n",
              "\n",
              "          const docLinkHtml = 'Like what you see? Visit the ' +\n",
              "            '<a target=\"_blank\" href=https://colab.research.google.com/notebooks/data_table.ipynb>data table notebook</a>'\n",
              "            + ' to learn more about interactive tables.';\n",
              "          element.innerHTML = '';\n",
              "          dataTable['output_type'] = 'display_data';\n",
              "          await google.colab.output.renderOutput(dataTable, element);\n",
              "          const docLink = document.createElement('div');\n",
              "          docLink.innerHTML = docLinkHtml;\n",
              "          element.appendChild(docLink);\n",
              "        }\n",
              "      </script>\n",
              "    </div>\n",
              "  </div>\n",
              "  "
            ]
          },
          "metadata": {},
          "execution_count": 43
        }
      ]
    },
    {
      "cell_type": "code",
      "source": [
        "# select a random sample\n",
        "samples = np.random.choice(train_df.shape[0], 4)\n",
        "samples"
      ],
      "metadata": {
        "colab": {
          "base_uri": "https://localhost:8080/"
        },
        "id": "k6r8dl2xR0ey",
        "outputId": "8d4aa96b-614f-47f0-e6c4-e92548889aa6"
      },
      "execution_count": 44,
      "outputs": [
        {
          "output_type": "execute_result",
          "data": {
            "text/plain": [
              "array([1115, 1132, 4134, 3347])"
            ]
          },
          "metadata": {},
          "execution_count": 44
        }
      ]
    },
    {
      "cell_type": "code",
      "source": [
        "from difflib import Differ\n",
        "import editdistance\n",
        "\n",
        "def print_diff(str1, str2):\n",
        "    str1_lines = str1.splitlines()\n",
        "    str2_lines = str2.splitlines()\n",
        "    d = Differ()\n",
        "    diff = d.compare(str1_lines, str2_lines)\n",
        "    print('editdistance: ', editdistance.eval(str1, str2))\n",
        "    print('\\n'.join(diff))\n",
        "    print('\\n')"
      ],
      "metadata": {
        "id": "K1ve2J8KPoJj"
      },
      "execution_count": 45,
      "outputs": []
    },
    {
      "cell_type": "code",
      "source": [
        "for s in samples:\n",
        "    str1 = train_df['good'][s]\n",
        "    str2 = train_df['bad'][s]\n",
        "    print('id: ', train_df['id'][s])\n",
        "    print_diff(str1, str2)"
      ],
      "metadata": {
        "colab": {
          "base_uri": "https://localhost:8080/"
        },
        "id": "PueksOHnSdHN",
        "outputId": "1a1cb206-a0cf-4f50-9acf-2969d268051d"
      },
      "execution_count": 46,
      "outputs": [
        {
          "output_type": "stream",
          "name": "stdout",
          "text": [
            "id:  00-743-006\n",
            "editdistance:  9\n",
            "- def <unk> ( list1 , m , n ) : <NEWLINE> <INDENT> result = list1 [ - ( m ) : ] + list1 [ : - ( n ) ] <NEWLINE> return result <NEWLINE> <DEDENT>\n",
            "?                                       ---------\n",
            "\n",
            "+ def <unk> ( list1 , m , n ) : <NEWLINE> result = list1 [ - ( m ) : ] + list1 [ : - ( n ) ] <NEWLINE> return result <NEWLINE> <DEDENT>\n",
            "\n",
            "\n",
            "id:  00-909-009\n",
            "editdistance:  2\n",
            "- def <unk> ( num ) : <NEWLINE> <INDENT> for x in range ( num - 1 , 0 , - 1 ) : <NEWLINE> <INDENT> if str ( x ) == str ( x ) [ : : - 1 ] : <NEWLINE> <INDENT> return x <NEWLINE> <DEDENT> <DEDENT> <DEDENT>\n",
            "?                                                                                                                      --\n",
            "\n",
            "+ def <unk> ( num ) : <NEWLINE> <INDENT> for x in range ( num - 1 , 0 , - 1 ) : <NEWLINE> <INDENT> if str ( x ) == str x ) [ : : - 1 ] : <NEWLINE> <INDENT> return x <NEWLINE> <DEDENT> <DEDENT> <DEDENT>\n",
            "\n",
            "\n",
            "id:  00-128-005\n",
            "editdistance:  2\n",
            "- def <unk> ( n , str ) : <NEWLINE> <INDENT> <unk> = [ ] <NEWLINE> txt = str . split ( <STRING> ) <NEWLINE> for x in txt : <NEWLINE> <INDENT> if len ( x ) > n : <NEWLINE> <INDENT> <unk> . append ( x ) <NEWLINE> <DEDENT> <DEDENT> return <unk> <NEWLINE> <DEDENT>\n",
            "?                                                                                                                                                    --\n",
            "\n",
            "+ def <unk> ( n , str ) : <NEWLINE> <INDENT> <unk> = [ ] <NEWLINE> txt = str . split ( <STRING> ) <NEWLINE> for x in txt : <NEWLINE> <INDENT> if len x ) > n : <NEWLINE> <INDENT> <unk> . append ( x ) <NEWLINE> <DEDENT> <DEDENT> return <unk> <NEWLINE> <DEDENT>\n",
            "\n",
            "\n",
            "id:  00-192-008\n",
            "editdistance:  2\n",
            "- def <unk> ( str ) : <NEWLINE> <INDENT> <unk> = False <NEWLINE> <unk> = False <NEWLINE> for i in str : <NEWLINE> <INDENT> if i . isalpha ( ) : <NEWLINE> <INDENT> <unk> = True <NEWLINE> <DEDENT> if i . isdigit ( ) : <NEWLINE> <INDENT> <unk> = True <NEWLINE> <DEDENT> <DEDENT> return <unk> and <unk> <NEWLINE> <DEDENT>\n",
            "?                                                                                                                                                                                                                 --\n",
            "\n",
            "+ def <unk> ( str ) : <NEWLINE> <INDENT> <unk> = False <NEWLINE> <unk> = False <NEWLINE> for i in str : <NEWLINE> <INDENT> if i . isalpha ( ) : <NEWLINE> <INDENT> <unk> = True <NEWLINE> <DEDENT> if i . isdigit ) : <NEWLINE> <INDENT> <unk> = True <NEWLINE> <DEDENT> <DEDENT> return <unk> and <unk> <NEWLINE> <DEDENT>\n",
            "\n",
            "\n"
          ]
        }
      ]
    },
    {
      "cell_type": "markdown",
      "source": [
        "## Experiments using CodeBERT\n",
        "\n",
        "Based on: https://github.com/microsoft/CodeBERT"
      ],
      "metadata": {
        "id": "GX4YLN3xUaBM"
      }
    },
    {
      "cell_type": "code",
      "source": [
        "!pip install transformers"
      ],
      "metadata": {
        "colab": {
          "base_uri": "https://localhost:8080/"
        },
        "id": "PqM3tJDYUkB6",
        "outputId": "129f646a-c861-4851-ff9e-06f1455f94e8"
      },
      "execution_count": 47,
      "outputs": [
        {
          "output_type": "stream",
          "name": "stdout",
          "text": [
            "Looking in indexes: https://pypi.org/simple, https://us-python.pkg.dev/colab-wheels/public/simple/\n",
            "Collecting transformers\n",
            "  Downloading transformers-4.20.1-py3-none-any.whl (4.4 MB)\n",
            "\u001b[K     |████████████████████████████████| 4.4 MB 5.1 MB/s \n",
            "\u001b[?25hCollecting huggingface-hub<1.0,>=0.1.0\n",
            "  Downloading huggingface_hub-0.8.1-py3-none-any.whl (101 kB)\n",
            "\u001b[K     |████████████████████████████████| 101 kB 13.2 MB/s \n",
            "\u001b[?25hRequirement already satisfied: importlib-metadata in /usr/local/lib/python3.7/dist-packages (from transformers) (4.11.4)\n",
            "Requirement already satisfied: filelock in /usr/local/lib/python3.7/dist-packages (from transformers) (3.7.1)\n",
            "Requirement already satisfied: regex!=2019.12.17 in /usr/local/lib/python3.7/dist-packages (from transformers) (2022.6.2)\n",
            "Requirement already satisfied: pyyaml>=5.1 in /usr/local/lib/python3.7/dist-packages (from transformers) (6.0)\n",
            "Requirement already satisfied: tqdm>=4.27 in /usr/local/lib/python3.7/dist-packages (from transformers) (4.64.0)\n",
            "Requirement already satisfied: requests in /usr/local/lib/python3.7/dist-packages (from transformers) (2.23.0)\n",
            "Requirement already satisfied: packaging>=20.0 in /usr/local/lib/python3.7/dist-packages (from transformers) (21.3)\n",
            "Collecting tokenizers!=0.11.3,<0.13,>=0.11.1\n",
            "  Downloading tokenizers-0.12.1-cp37-cp37m-manylinux_2_12_x86_64.manylinux2010_x86_64.whl (6.6 MB)\n",
            "\u001b[K     |████████████████████████████████| 6.6 MB 51.9 MB/s \n",
            "\u001b[?25hRequirement already satisfied: numpy>=1.17 in /usr/local/lib/python3.7/dist-packages (from transformers) (1.21.6)\n",
            "Requirement already satisfied: typing-extensions>=3.7.4.3 in /usr/local/lib/python3.7/dist-packages (from huggingface-hub<1.0,>=0.1.0->transformers) (4.1.1)\n",
            "Requirement already satisfied: pyparsing!=3.0.5,>=2.0.2 in /usr/local/lib/python3.7/dist-packages (from packaging>=20.0->transformers) (3.0.9)\n",
            "Requirement already satisfied: zipp>=0.5 in /usr/local/lib/python3.7/dist-packages (from importlib-metadata->transformers) (3.8.0)\n",
            "Requirement already satisfied: certifi>=2017.4.17 in /usr/local/lib/python3.7/dist-packages (from requests->transformers) (2022.6.15)\n",
            "Requirement already satisfied: idna<3,>=2.5 in /usr/local/lib/python3.7/dist-packages (from requests->transformers) (2.10)\n",
            "Requirement already satisfied: urllib3!=1.25.0,!=1.25.1,<1.26,>=1.21.1 in /usr/local/lib/python3.7/dist-packages (from requests->transformers) (1.24.3)\n",
            "Requirement already satisfied: chardet<4,>=3.0.2 in /usr/local/lib/python3.7/dist-packages (from requests->transformers) (3.0.4)\n",
            "Installing collected packages: tokenizers, huggingface-hub, transformers\n",
            "Successfully installed huggingface-hub-0.8.1 tokenizers-0.12.1 transformers-4.20.1\n"
          ]
        }
      ]
    },
    {
      "cell_type": "code",
      "source": [
        "# Probing\n",
        "from transformers import RobertaConfig, RobertaTokenizer, RobertaForMaskedLM, pipeline\n",
        "\n",
        "model = RobertaForMaskedLM.from_pretrained(\"microsoft/codebert-base-mlm\")\n",
        "tokenizer = RobertaTokenizer.from_pretrained(\"microsoft/codebert-base-mlm\")"
      ],
      "metadata": {
        "colab": {
          "base_uri": "https://localhost:8080/",
          "height": 209,
          "referenced_widgets": [
            "e3fd2c89ba9f4d61a4744028d476a51f",
            "a3ae91610b074a8ba799b351102d7158",
            "5f595cbe63e54e70815d091e641a3a74",
            "fc143c60c1f74ac4b374d49079141489",
            "aa25eb346e894f1d93260cb501017042",
            "b9877a3582e5459491efa9f34018b7ea",
            "544674451a0e40fe91afbc8ba6bd820b",
            "372d71ebeaf7470f9f21a243823878ee",
            "03500e8ad3e34d4a97efd1d580e5e329",
            "f6fbd01c0393495080e7052a8f6d0d6d",
            "34ac6cdf2eb64935a2dbdb3477ab687a",
            "0bbbc70bed3944e5ab28d6b954cf05c5",
            "39d4518004da405db75b835fd9ecf2de",
            "067da125dc454500af99c859036de9e4",
            "d181050d6aaf45489d00e64da193ae06",
            "47c06ad09b874f2991e3adc179c7dddd",
            "0ec972d4ce7e40ba8539c1680a9dd736",
            "c89c4b30dea044f884baeb2e0dfc0fd3",
            "6114b8a9a70f4f1d816f0d7fb6279cba",
            "dc18a234f5d54f7cb1102b38f35f7af3",
            "ddd61e43691344a8b007e44f14b2a602",
            "da6472f4f7574b5e818c293e16e7cf85",
            "ff67b2437437415a9b7ca1bf0d46fd45",
            "b17b8482d6324c53a32e918a342a050a",
            "5f631a7f3f57444098e982eebd09f2a7",
            "ba6b4b4365824390bb27b59670c28afb",
            "1f8e8adfea5f416f8e9db8d38e0abe82",
            "22180e4d52fd419492ce081417153766",
            "3c9a80d567fa48619296681083a1e679",
            "39960a9c5eea4b1b8aea96df71488019",
            "7ba5eda7c88c48b7b48441d1c3454b46",
            "5572bac8c1eb45f9902937ba8b4a38a5",
            "6af2c21c7471410ca55481b80b185a9a",
            "07880407c3074e839c42c8ab12c5b7e5",
            "7acc80a2d99d4f53b893ccedcbee3c86",
            "e8ea3e119628411bbb0475fe0adaffd8",
            "8c9f93ef04b140f1ae5adf6b502e01bc",
            "9e51da72a8b44b438c43884272849a97",
            "3c980265bd814c95946b5888a8394f0f",
            "f1edb3669b074f2a82413f5ec8a86bdc",
            "d2289d6a62ec4ebeb350c4c0c630b4f7",
            "7bb311316ee14acc9dfa6b9adaea4fc5",
            "383fd9e42ee6456b8d6a2b8c4add7c37",
            "d3ac846f5ab64c04aa7442803ae1f438",
            "a95f2077d69243359b6e2c8783907ff6",
            "dda32d28e9ac46edb09e4618f7f059c7",
            "107405bdd2ee40cea0bce5d71bc0ecf2",
            "0596528656ce4a15a5981c63377f0404",
            "020cee85d26e495b98aae98bf3574536",
            "8a08389deb274d47837df60221392265",
            "340ae8631a214396aee83e873ee5de97",
            "bd648e8da241486e95142613648f6e2a",
            "2e4d8694881a4e69a1e1400ef55d02ec",
            "bc381806b7be44de862dfa317f44b299",
            "1bca98b744874531ad64079a0920a3a4",
            "e0359cdd16b5459dac52ab60db8345c8",
            "654d74dcf79241e3a22b62e90477670c",
            "6776cec65d274b23be9c0340f796797d",
            "e32b07c2bdf54382b55af2012bb5c11c",
            "7e881a518c864c73a1f3502aac949510",
            "88ed793c481c40aa85040ffca969be5a",
            "9cb6baddf5774b93990b3af89019a9e9",
            "e8c52ca43d094c39af867f7af5d468ae",
            "55ab865143c74a5c8de55bb16f2c01c3",
            "765fc60a698d469288a4bb99f3e8a315",
            "60e3ec83c94442efb2c0f04cef982fe5"
          ]
        },
        "id": "Ev8HoyP6Uv1b",
        "outputId": "4c5aeb9c-664d-4f75-b2e2-8435b27e300f"
      },
      "execution_count": 48,
      "outputs": [
        {
          "output_type": "display_data",
          "data": {
            "text/plain": [
              "Downloading:   0%|          | 0.00/504 [00:00<?, ?B/s]"
            ],
            "application/vnd.jupyter.widget-view+json": {
              "version_major": 2,
              "version_minor": 0,
              "model_id": "e3fd2c89ba9f4d61a4744028d476a51f"
            }
          },
          "metadata": {}
        },
        {
          "output_type": "display_data",
          "data": {
            "text/plain": [
              "Downloading:   0%|          | 0.00/478M [00:00<?, ?B/s]"
            ],
            "application/vnd.jupyter.widget-view+json": {
              "version_major": 2,
              "version_minor": 0,
              "model_id": "0bbbc70bed3944e5ab28d6b954cf05c5"
            }
          },
          "metadata": {}
        },
        {
          "output_type": "display_data",
          "data": {
            "text/plain": [
              "Downloading:   0%|          | 0.00/878k [00:00<?, ?B/s]"
            ],
            "application/vnd.jupyter.widget-view+json": {
              "version_major": 2,
              "version_minor": 0,
              "model_id": "ff67b2437437415a9b7ca1bf0d46fd45"
            }
          },
          "metadata": {}
        },
        {
          "output_type": "display_data",
          "data": {
            "text/plain": [
              "Downloading:   0%|          | 0.00/446k [00:00<?, ?B/s]"
            ],
            "application/vnd.jupyter.widget-view+json": {
              "version_major": 2,
              "version_minor": 0,
              "model_id": "07880407c3074e839c42c8ab12c5b7e5"
            }
          },
          "metadata": {}
        },
        {
          "output_type": "display_data",
          "data": {
            "text/plain": [
              "Downloading:   0%|          | 0.00/150 [00:00<?, ?B/s]"
            ],
            "application/vnd.jupyter.widget-view+json": {
              "version_major": 2,
              "version_minor": 0,
              "model_id": "a95f2077d69243359b6e2c8783907ff6"
            }
          },
          "metadata": {}
        },
        {
          "output_type": "display_data",
          "data": {
            "text/plain": [
              "Downloading:   0%|          | 0.00/25.0 [00:00<?, ?B/s]"
            ],
            "application/vnd.jupyter.widget-view+json": {
              "version_major": 2,
              "version_minor": 0,
              "model_id": "e0359cdd16b5459dac52ab60db8345c8"
            }
          },
          "metadata": {}
        }
      ]
    },
    {
      "cell_type": "code",
      "source": [
        "CODE = \"if (x is not None) <mask> (x>1)\"\n",
        "fill_mask = pipeline('fill-mask', model=model, tokenizer=tokenizer)\n",
        "\n",
        "outputs = fill_mask(CODE)\n",
        "outputs"
      ],
      "metadata": {
        "colab": {
          "base_uri": "https://localhost:8080/"
        },
        "id": "d8zY8ezeU6Mx",
        "outputId": "4e9e3f9f-b703-46f0-f957-5af464ff1660"
      },
      "execution_count": 49,
      "outputs": [
        {
          "output_type": "execute_result",
          "data": {
            "text/plain": [
              "[{'score': 0.7236999869346619,\n",
              "  'sequence': 'if (x is not None) and(x>1)',\n",
              "  'token': 8,\n",
              "  'token_str': ' and'},\n",
              " {'score': 0.10633790493011475,\n",
              "  'sequence': 'if (x is not None) &(x>1)',\n",
              "  'token': 359,\n",
              "  'token_str': ' &'},\n",
              " {'score': 0.0216040201485157,\n",
              "  'sequence': 'if (x is not None)and(x>1)',\n",
              "  'token': 463,\n",
              "  'token_str': 'and'},\n",
              " {'score': 0.021227478981018066,\n",
              "  'sequence': 'if (x is not None) AND(x>1)',\n",
              "  'token': 4248,\n",
              "  'token_str': ' AND'},\n",
              " {'score': 0.016991281881928444,\n",
              "  'sequence': 'if (x is not None) if(x>1)',\n",
              "  'token': 114,\n",
              "  'token_str': ' if'}]"
            ]
          },
          "metadata": {},
          "execution_count": 49
        }
      ]
    },
    {
      "cell_type": "markdown",
      "source": [
        "This part of the work is inspired on: https://github.com/EhsanMashhadi/MSR2021-ProgramRepair\n"
      ],
      "metadata": {
        "id": "gt43xMdEWZF6"
      }
    },
    {
      "cell_type": "code",
      "source": [
        "!mkdir codebert"
      ],
      "metadata": {
        "id": "UO2dR6Dl6Tyl"
      },
      "execution_count": 50,
      "outputs": []
    },
    {
      "cell_type": "code",
      "source": [
        "!wget https://raw.githubusercontent.com/EhsanMashhadi/MSR2021-ProgramRepair/main/codebert/run.py\n",
        "!wget https://raw.githubusercontent.com/EhsanMashhadi/MSR2021-ProgramRepair/main/codebert/model.py\n",
        "!wget https://raw.githubusercontent.com/EhsanMashhadi/MSR2021-ProgramRepair/main/codebert/bleu.py\n",
        "!mv bleu.py run.py model.py codebert/"
      ],
      "metadata": {
        "colab": {
          "base_uri": "https://localhost:8080/"
        },
        "id": "yiiCQPC06aEf",
        "outputId": "82e2d46d-2880-4f37-91c4-c2b2e12c6c3d"
      },
      "execution_count": 51,
      "outputs": [
        {
          "output_type": "stream",
          "name": "stdout",
          "text": [
            "--2022-06-27 19:51:18--  https://raw.githubusercontent.com/EhsanMashhadi/MSR2021-ProgramRepair/main/codebert/run.py\n",
            "Resolving raw.githubusercontent.com (raw.githubusercontent.com)... 185.199.108.133, 185.199.109.133, 185.199.110.133, ...\n",
            "Connecting to raw.githubusercontent.com (raw.githubusercontent.com)|185.199.108.133|:443... connected.\n",
            "HTTP request sent, awaiting response... 200 OK\n",
            "Length: 27411 (27K) [text/plain]\n",
            "Saving to: ‘run.py’\n",
            "\n",
            "\rrun.py                0%[                    ]       0  --.-KB/s               \rrun.py              100%[===================>]  26.77K  --.-KB/s    in 0.002s  \n",
            "\n",
            "2022-06-27 19:51:18 (15.6 MB/s) - ‘run.py’ saved [27411/27411]\n",
            "\n",
            "--2022-06-27 19:51:18--  https://raw.githubusercontent.com/EhsanMashhadi/MSR2021-ProgramRepair/main/codebert/model.py\n",
            "Resolving raw.githubusercontent.com (raw.githubusercontent.com)... 185.199.108.133, 185.199.109.133, 185.199.110.133, ...\n",
            "Connecting to raw.githubusercontent.com (raw.githubusercontent.com)|185.199.108.133|:443... connected.\n",
            "HTTP request sent, awaiting response... 200 OK\n",
            "Length: 9040 (8.8K) [text/plain]\n",
            "Saving to: ‘model.py’\n",
            "\n",
            "model.py            100%[===================>]   8.83K  --.-KB/s    in 0s      \n",
            "\n",
            "2022-06-27 19:51:18 (90.7 MB/s) - ‘model.py’ saved [9040/9040]\n",
            "\n",
            "--2022-06-27 19:51:18--  https://raw.githubusercontent.com/EhsanMashhadi/MSR2021-ProgramRepair/main/codebert/bleu.py\n",
            "Resolving raw.githubusercontent.com (raw.githubusercontent.com)... 185.199.111.133, 185.199.110.133, 185.199.109.133, ...\n",
            "Connecting to raw.githubusercontent.com (raw.githubusercontent.com)|185.199.111.133|:443... connected.\n",
            "HTTP request sent, awaiting response... 200 OK\n",
            "Length: 5121 (5.0K) [text/plain]\n",
            "Saving to: ‘bleu.py’\n",
            "\n",
            "bleu.py             100%[===================>]   5.00K  --.-KB/s    in 0s      \n",
            "\n",
            "2022-06-27 19:51:19 (70.5 MB/s) - ‘bleu.py’ saved [5121/5121]\n",
            "\n"
          ]
        }
      ]
    },
    {
      "cell_type": "code",
      "source": [
        "!git clone https://huggingface.co/microsoft/codebert-base"
      ],
      "metadata": {
        "colab": {
          "base_uri": "https://localhost:8080/"
        },
        "id": "WB_ehTF0Wcsk",
        "outputId": "65d0d3b2-4511-4b2b-c82c-66a58db97ec0"
      },
      "execution_count": 52,
      "outputs": [
        {
          "output_type": "stream",
          "name": "stdout",
          "text": [
            "Cloning into 'codebert-base'...\n",
            "remote: Enumerating objects: 40, done.\u001b[K\n",
            "remote: Counting objects: 100% (40/40), done.\u001b[K\n",
            "remote: Compressing objects: 100% (38/38), done.\u001b[K\n",
            "remote: Total 40 (delta 15), reused 0 (delta 0), pack-reused 0\n",
            "Unpacking objects: 100% (40/40), done.\n"
          ]
        }
      ]
    },
    {
      "cell_type": "code",
      "source": [
        "%cd /content/codebert-base\n",
        "!git lfs pull"
      ],
      "metadata": {
        "colab": {
          "base_uri": "https://localhost:8080/"
        },
        "id": "aIhYe4rBHZE9",
        "outputId": "72e6ec07-675e-44ba-9732-288fe9963fb0"
      },
      "execution_count": 53,
      "outputs": [
        {
          "output_type": "stream",
          "name": "stdout",
          "text": [
            "/content/codebert-base\n",
            "Git LFS: (4 of 4 files) 1.86 GB / 1.86 GB\n"
          ]
        }
      ]
    },
    {
      "cell_type": "code",
      "source": [
        "%cd /content/"
      ],
      "metadata": {
        "colab": {
          "base_uri": "https://localhost:8080/"
        },
        "id": "pmAYZIAyH-dM",
        "outputId": "e3338277-2f16-49a1-b491-adad14ddf5fc"
      },
      "execution_count": 54,
      "outputs": [
        {
          "output_type": "stream",
          "name": "stdout",
          "text": [
            "/content\n"
          ]
        }
      ]
    },
    {
      "cell_type": "markdown",
      "source": [
        "### Training using fine-tuning CodeBERT for Repair\n",
        "\n",
        "In this case we previosly execute the training task with the syntetic dataset created with MBPP."
      ],
      "metadata": {
        "id": "V_AsuJSwBwMF"
      }
    },
    {
      "cell_type": "code",
      "source": [
        "lr = 5e-5\n",
        "batch_size = 8\n",
        "beam_size = 5\n",
        "source_length = 510\n",
        "target_length = 510\n",
        "train_steps = 5 # Original value: 50000\n",
        "eval_steps = 1 # Orginal value: 1000\n",
        "data_dir = './data/round2-BIFI-part1/data_paired'\n",
        "output_dir = './saved_models/codebert/'\n",
        "train_file = f\"{data_dir}/train.bad,{data_dir}/train.good\"\n",
        "validate_file = f\"{data_dir}/val.bad,{data_dir}/val.good\"\n",
        "pretrained_model = './codebert-base'  # CodeBert model path downloaded from Huggingface\n",
        "CodeBERT = './codebert'"
      ],
      "metadata": {
        "id": "-kNpxuOSDmA8"
      },
      "execution_count": 55,
      "outputs": []
    },
    {
      "cell_type": "code",
      "source": [
        "cmd = f\"\"\"\n",
        "python {CodeBERT}/run.py \\\n",
        "--do_train \\\n",
        "--do_eval \\\n",
        "--model_type roberta \\\n",
        "--model_name_or_path {pretrained_model} \\\n",
        "--tokenizer_name roberta-base \\\n",
        "--train_filename {train_file} \\\n",
        "--dev_filename {validate_file} \\\n",
        "--output_dir {output_dir} \\\n",
        "--max_source_length {source_length} \\\n",
        "--max_target_length {target_length} \\\n",
        "--beam_size {beam_size} \\\n",
        "--train_batch_size {batch_size} \\\n",
        "--eval_batch_size {batch_size} \\\n",
        "--learning_rate {lr} \\\n",
        "--train_steps {train_steps} \\\n",
        "--eval_steps {eval_steps}\n",
        "\"\"\""
      ],
      "metadata": {
        "id": "wvIhkGsOE2d5"
      },
      "execution_count": 56,
      "outputs": []
    },
    {
      "cell_type": "code",
      "source": [
        "print(cmd)"
      ],
      "metadata": {
        "colab": {
          "base_uri": "https://localhost:8080/"
        },
        "id": "RRFaYrrR-dRe",
        "outputId": "6c124433-987e-40ba-86fe-852a60ff809b"
      },
      "execution_count": 57,
      "outputs": [
        {
          "output_type": "stream",
          "name": "stdout",
          "text": [
            "\n",
            "python ./codebert/run.py --do_train --do_eval --model_type roberta --model_name_or_path ./codebert-base --tokenizer_name roberta-base --train_filename ./data/round2-BIFI-part1/data_paired/train.bad,./data/round2-BIFI-part1/data_paired/train.good --dev_filename ./data/round2-BIFI-part1/data_paired/val.bad,./data/round2-BIFI-part1/data_paired/val.good --output_dir ./saved_models/codebert/ --max_source_length 510 --max_target_length 510 --beam_size 5 --train_batch_size 8 --eval_batch_size 8 --learning_rate 5e-05 --train_steps 5 --eval_steps 1\n",
            "\n"
          ]
        }
      ]
    },
    {
      "cell_type": "code",
      "source": [
        "!python ./codebert/run.py --do_train --do_eval --model_type roberta --model_name_or_path ./codebert-base --tokenizer_name roberta-base --train_filename ./data/round2-BIFI-part1/data_paired/train.bad,./data/round2-BIFI-part1/data_paired/train.good --dev_filename ./data/round2-BIFI-part1/data_paired/val.bad,./data/round2-BIFI-part1/data_paired/val.good --output_dir ./saved_models/codebert/ --max_source_length 510 --max_target_length 510 --beam_size 5 --train_batch_size 8 --eval_batch_size 8 --learning_rate 5e-05 --train_steps 5 --eval_steps 1"
      ],
      "metadata": {
        "colab": {
          "base_uri": "https://localhost:8080/"
        },
        "id": "GGR5qMxr-_qp",
        "outputId": "f126e5b2-0f91-4ee6-b418-fd03bc524fac"
      },
      "execution_count": 87,
      "outputs": [
        {
          "output_type": "stream",
          "name": "stdout",
          "text": [
            "06/27/2022 16:26:21 - INFO - __main__ -   Namespace(adam_epsilon=1e-08, beam_size=5, config_name='', dev_filename='./data/round2-BIFI-part1/data_paired/val.bad,./data/round2-BIFI-part1/data_paired/val.good', do_eval=True, do_lower_case=False, do_test=False, do_train=True, eval_batch_size=8, eval_steps=1, gradient_accumulation_steps=1, learning_rate=5e-05, load_model_path=None, local_rank=-1, max_grad_norm=1.0, max_source_length=510, max_steps=-1, max_target_length=510, model_name_or_path='./codebert-base', model_type='roberta', no_cuda=False, num_train_epochs=3.0, output_dir='./saved_models/codebert/', seed=42, test_filename=None, tokenizer_name='roberta-base', train_batch_size=8, train_filename='./data/round2-BIFI-part1/data_paired/train.bad,./data/round2-BIFI-part1/data_paired/train.good', train_steps=5, warmup_steps=0, weight_decay=0.0)\n",
            "06/27/2022 16:26:21 - WARNING - __main__ -   Process rank: -1, device: cuda, n_gpu: 1, distributed training: False\n",
            "06/27/2022 16:26:30 - INFO - __main__ -   *** Example ***\n",
            "06/27/2022 16:26:30 - INFO - __main__ -   idx: 0\n",
            "06/27/2022 16:26:30 - INFO - __main__ -   source_tokens: ['<s>', 'def', '_', '<unk>', '_(', '_list', '1', '_)', '_:', '_<', 'NEW', 'LINE', '>', '_<', 'IND', 'ENT', '>', '_', '<unk>', '_=', '_max', '_(', '_[', '_abs', '_(', '_x', '_*', '_y', '_)', '_for', '_x', '_,', '_y', '_in', '_list', '1', '_]', '_)', '_<', 'NEW', 'LINE', '>', '_return', '_', '<unk>', '_<', 'NEW', 'LINE', '>', '</s>']\n",
            "06/27/2022 16:26:30 - INFO - __main__ -   source_ids: 0 9232 1437 3 36 889 134 4839 4832 28696 5341 28302 15698 28696 13796 5382 15698 1437 3 5457 19220 36 646 15428 36 3023 1009 1423 4839 13 3023 2156 1423 11 889 134 27779 4839 28696 5341 28302 15698 671 1437 3 28696 5341 28302 15698 2 1 1 1 1 1 1 1 1 1 1 1 1 1 1 1 1 1 1 1 1 1 1 1 1 1 1 1 1 1 1 1 1 1 1 1 1 1 1 1 1 1 1 1 1 1 1 1 1 1 1 1 1 1 1 1 1 1 1 1 1 1 1 1 1 1 1 1 1 1 1 1 1 1 1 1 1 1 1 1 1 1 1 1 1 1 1 1 1 1 1 1 1 1 1 1 1 1 1 1 1 1 1 1 1 1 1 1 1 1 1 1 1 1 1 1 1 1 1 1 1 1 1 1 1 1 1 1 1 1 1 1 1 1 1 1 1 1 1 1 1 1 1 1 1 1 1 1 1 1 1 1 1 1 1 1 1 1 1 1 1 1 1 1 1 1 1 1 1 1 1 1 1 1 1 1 1 1 1 1 1 1 1 1 1 1 1 1 1 1 1 1 1 1 1 1 1 1 1 1 1 1 1 1 1 1 1 1 1 1 1 1 1 1 1 1 1 1 1 1 1 1 1 1 1 1 1 1 1 1 1 1 1 1 1 1 1 1 1 1 1 1 1 1 1 1 1 1 1 1 1 1 1 1 1 1 1 1 1 1 1 1 1 1 1 1 1 1 1 1 1 1 1 1 1 1 1 1 1 1 1 1 1 1 1 1 1 1 1 1 1 1 1 1 1 1 1 1 1 1 1 1 1 1 1 1 1 1 1 1 1 1 1 1 1 1 1 1 1 1 1 1 1 1 1 1 1 1 1 1 1 1 1 1 1 1 1 1 1 1 1 1 1 1 1 1 1 1 1 1 1 1 1 1 1 1 1 1 1 1 1 1 1 1 1 1 1 1 1 1 1 1 1 1 1 1 1 1 1 1 1 1 1 1 1 1 1 1 1 1 1 1 1 1 1 1 1 1 1 1 1 1 1 1 1 1 1 1 1 1 1 1 1 1 1 1 1 1 1 1 1 1 1 1 1 1 1 1 1 1 1 1 1 1 1 1 1 1 1 1 1 1 1 1 1 1 1 1 1 1 1 1 1 1 1 1 1 1 1 1 1\n",
            "06/27/2022 16:26:30 - INFO - __main__ -   source_mask: 1 1 1 1 1 1 1 1 1 1 1 1 1 1 1 1 1 1 1 1 1 1 1 1 1 1 1 1 1 1 1 1 1 1 1 1 1 1 1 1 1 1 1 1 1 1 1 1 1 1 0 0 0 0 0 0 0 0 0 0 0 0 0 0 0 0 0 0 0 0 0 0 0 0 0 0 0 0 0 0 0 0 0 0 0 0 0 0 0 0 0 0 0 0 0 0 0 0 0 0 0 0 0 0 0 0 0 0 0 0 0 0 0 0 0 0 0 0 0 0 0 0 0 0 0 0 0 0 0 0 0 0 0 0 0 0 0 0 0 0 0 0 0 0 0 0 0 0 0 0 0 0 0 0 0 0 0 0 0 0 0 0 0 0 0 0 0 0 0 0 0 0 0 0 0 0 0 0 0 0 0 0 0 0 0 0 0 0 0 0 0 0 0 0 0 0 0 0 0 0 0 0 0 0 0 0 0 0 0 0 0 0 0 0 0 0 0 0 0 0 0 0 0 0 0 0 0 0 0 0 0 0 0 0 0 0 0 0 0 0 0 0 0 0 0 0 0 0 0 0 0 0 0 0 0 0 0 0 0 0 0 0 0 0 0 0 0 0 0 0 0 0 0 0 0 0 0 0 0 0 0 0 0 0 0 0 0 0 0 0 0 0 0 0 0 0 0 0 0 0 0 0 0 0 0 0 0 0 0 0 0 0 0 0 0 0 0 0 0 0 0 0 0 0 0 0 0 0 0 0 0 0 0 0 0 0 0 0 0 0 0 0 0 0 0 0 0 0 0 0 0 0 0 0 0 0 0 0 0 0 0 0 0 0 0 0 0 0 0 0 0 0 0 0 0 0 0 0 0 0 0 0 0 0 0 0 0 0 0 0 0 0 0 0 0 0 0 0 0 0 0 0 0 0 0 0 0 0 0 0 0 0 0 0 0 0 0 0 0 0 0 0 0 0 0 0 0 0 0 0 0 0 0 0 0 0 0 0 0 0 0 0 0 0 0 0 0 0 0 0 0 0 0 0 0 0 0 0 0 0 0 0 0 0 0 0 0 0 0 0 0 0 0 0 0 0 0 0 0 0 0 0 0 0 0 0 0 0 0 0 0 0 0 0 0 0 0 0 0 0 0 0 0 0 0 0 0 0 0 0\n",
            "06/27/2022 16:26:30 - INFO - __main__ -   target_tokens: ['<s>', 'def', '_', '<unk>', '_(', '_list', '1', '_)', '_:', '_<', 'NEW', 'LINE', '>', '_<', 'IND', 'ENT', '>', '_', '<unk>', '_=', '_max', '_(', '_[', '_abs', '_(', '_x', '_*', '_y', '_)', '_for', '_x', '_,', '_y', '_in', '_list', '1', '_]', '_)', '_<', 'NEW', 'LINE', '>', '_return', '_', '<unk>', '_<', 'NEW', 'LINE', '>', '_<', 'D', 'ED', 'ENT', '>', '</s>']\n",
            "06/27/2022 16:26:30 - INFO - __main__ -   target_ids: 0 9232 1437 3 36 889 134 4839 4832 28696 5341 28302 15698 28696 13796 5382 15698 1437 3 5457 19220 36 646 15428 36 3023 1009 1423 4839 13 3023 2156 1423 11 889 134 27779 4839 28696 5341 28302 15698 671 1437 3 28696 5341 28302 15698 28696 495 1691 5382 15698 2 1 1 1 1 1 1 1 1 1 1 1 1 1 1 1 1 1 1 1 1 1 1 1 1 1 1 1 1 1 1 1 1 1 1 1 1 1 1 1 1 1 1 1 1 1 1 1 1 1 1 1 1 1 1 1 1 1 1 1 1 1 1 1 1 1 1 1 1 1 1 1 1 1 1 1 1 1 1 1 1 1 1 1 1 1 1 1 1 1 1 1 1 1 1 1 1 1 1 1 1 1 1 1 1 1 1 1 1 1 1 1 1 1 1 1 1 1 1 1 1 1 1 1 1 1 1 1 1 1 1 1 1 1 1 1 1 1 1 1 1 1 1 1 1 1 1 1 1 1 1 1 1 1 1 1 1 1 1 1 1 1 1 1 1 1 1 1 1 1 1 1 1 1 1 1 1 1 1 1 1 1 1 1 1 1 1 1 1 1 1 1 1 1 1 1 1 1 1 1 1 1 1 1 1 1 1 1 1 1 1 1 1 1 1 1 1 1 1 1 1 1 1 1 1 1 1 1 1 1 1 1 1 1 1 1 1 1 1 1 1 1 1 1 1 1 1 1 1 1 1 1 1 1 1 1 1 1 1 1 1 1 1 1 1 1 1 1 1 1 1 1 1 1 1 1 1 1 1 1 1 1 1 1 1 1 1 1 1 1 1 1 1 1 1 1 1 1 1 1 1 1 1 1 1 1 1 1 1 1 1 1 1 1 1 1 1 1 1 1 1 1 1 1 1 1 1 1 1 1 1 1 1 1 1 1 1 1 1 1 1 1 1 1 1 1 1 1 1 1 1 1 1 1 1 1 1 1 1 1 1 1 1 1 1 1 1 1 1 1 1 1 1 1 1 1 1 1 1 1 1 1 1 1 1 1 1 1 1 1 1 1 1 1 1 1 1 1 1 1 1 1 1 1 1 1 1 1 1 1 1 1 1 1 1 1 1 1 1 1 1 1 1 1 1 1 1 1 1 1 1 1 1 1 1 1 1 1 1 1 1 1 1 1 1 1 1 1 1 1 1 1 1 1 1 1\n",
            "06/27/2022 16:26:30 - INFO - __main__ -   target_mask: 1 1 1 1 1 1 1 1 1 1 1 1 1 1 1 1 1 1 1 1 1 1 1 1 1 1 1 1 1 1 1 1 1 1 1 1 1 1 1 1 1 1 1 1 1 1 1 1 1 1 1 1 1 1 1 0 0 0 0 0 0 0 0 0 0 0 0 0 0 0 0 0 0 0 0 0 0 0 0 0 0 0 0 0 0 0 0 0 0 0 0 0 0 0 0 0 0 0 0 0 0 0 0 0 0 0 0 0 0 0 0 0 0 0 0 0 0 0 0 0 0 0 0 0 0 0 0 0 0 0 0 0 0 0 0 0 0 0 0 0 0 0 0 0 0 0 0 0 0 0 0 0 0 0 0 0 0 0 0 0 0 0 0 0 0 0 0 0 0 0 0 0 0 0 0 0 0 0 0 0 0 0 0 0 0 0 0 0 0 0 0 0 0 0 0 0 0 0 0 0 0 0 0 0 0 0 0 0 0 0 0 0 0 0 0 0 0 0 0 0 0 0 0 0 0 0 0 0 0 0 0 0 0 0 0 0 0 0 0 0 0 0 0 0 0 0 0 0 0 0 0 0 0 0 0 0 0 0 0 0 0 0 0 0 0 0 0 0 0 0 0 0 0 0 0 0 0 0 0 0 0 0 0 0 0 0 0 0 0 0 0 0 0 0 0 0 0 0 0 0 0 0 0 0 0 0 0 0 0 0 0 0 0 0 0 0 0 0 0 0 0 0 0 0 0 0 0 0 0 0 0 0 0 0 0 0 0 0 0 0 0 0 0 0 0 0 0 0 0 0 0 0 0 0 0 0 0 0 0 0 0 0 0 0 0 0 0 0 0 0 0 0 0 0 0 0 0 0 0 0 0 0 0 0 0 0 0 0 0 0 0 0 0 0 0 0 0 0 0 0 0 0 0 0 0 0 0 0 0 0 0 0 0 0 0 0 0 0 0 0 0 0 0 0 0 0 0 0 0 0 0 0 0 0 0 0 0 0 0 0 0 0 0 0 0 0 0 0 0 0 0 0 0 0 0 0 0 0 0 0 0 0 0 0 0 0 0 0 0 0 0 0 0 0 0 0 0 0 0 0 0 0 0 0 0 0 0 0 0 0 0 0 0 0 0 0 0 0 0 0 0 0 0 0 0 0 0 0 0 0\n",
            "/usr/local/lib/python3.7/dist-packages/transformers/optimization.py:310: FutureWarning: This implementation of AdamW is deprecated and will be removed in a future version. Use the PyTorch implementation torch.optim.AdamW instead, or set `no_deprecation_warning=True` to disable this warning\n",
            "  FutureWarning,\n",
            "06/27/2022 16:26:36 - INFO - __main__ -   ***** Running training *****\n",
            "06/27/2022 16:26:36 - INFO - __main__ -     Num examples = 4907\n",
            "06/27/2022 16:26:36 - INFO - __main__ -     Batch size = 8\n",
            "06/27/2022 16:26:36 - INFO - __main__ -     Num epoch = 0\n",
            "06/27/2022 16:26:37 - INFO - __main__ -   Here1\n",
            "06/27/2022 16:26:37 - INFO - __main__ -   Here3\n",
            "06/27/2022 16:26:39 - INFO - __main__ -   \n",
            "***** Running evaluation *****\n",
            "06/27/2022 16:26:39 - INFO - __main__ -     Num examples = 1694\n",
            "06/27/2022 16:26:39 - INFO - __main__ -     Batch size = 8\n",
            "06/27/2022 16:27:36 - INFO - __main__ -     eval_ppl = 2032.75766\n",
            "06/27/2022 16:27:36 - INFO - __main__ -     global_step = 2\n",
            "06/27/2022 16:27:36 - INFO - __main__ -     train_loss = 12.0547\n",
            "06/27/2022 16:27:36 - INFO - __main__ -     ********************\n",
            "06/27/2022 16:27:39 - INFO - __main__ -     Best ppl:2032.75766\n",
            "06/27/2022 16:27:39 - INFO - __main__ -     ********************\n",
            "06/27/2022 16:27:42 - INFO - __main__ -   Here5\n",
            "06/27/2022 16:27:43 - INFO - __main__ -   Here5.5\n",
            "/content/codebert/model.py:167: UserWarning: __floordiv__ is deprecated, and its behavior will change in a future version of pytorch. It currently rounds toward 0 (like the 'trunc' function NOT 'floor'). This results in incorrect rounding for negative values. To keep the current behavior, use torch.div(a, b, rounding_mode='trunc'), or for actual floor division, use torch.div(a, b, rounding_mode='floor').\n",
            "  prevK = bestScoresId // numWords\n",
            "Traceback (most recent call last):\n",
            "  File \"./codebert/run.py\", line 556, in <module>\n",
            "    main()\n",
            "  File \"./codebert/run.py\", line 467, in main\n",
            "    preds = model(source_ids=source_ids, source_mask=source_mask)\n",
            "  File \"/usr/local/lib/python3.7/dist-packages/torch/nn/modules/module.py\", line 1110, in _call_impl\n",
            "    return forward_call(*input, **kwargs)\n",
            "  File \"/content/codebert/model.py\", line 96, in forward\n",
            "    beam.advance(out)\n",
            "  File \"/content/codebert/model.py\", line 156, in advance\n",
            "    if self.nextYs[-1][i] == self._eos:\n",
            "KeyboardInterrupt\n"
          ]
        }
      ]
    },
    {
      "cell_type": "code",
      "source": [
        "import subprocess\n",
        "import sys\n",
        "#subprocess.run(cmd, shell=True,  capture_output=True)"
      ],
      "metadata": {
        "id": "Uz1cHnpe9ktq"
      },
      "execution_count": 58,
      "outputs": []
    },
    {
      "cell_type": "code",
      "source": [
        "# we want to download the trained model using the MBPP + BIFI Breaker\n",
        "url = \"https://drive.google.com/uc?id=1xyR5FzwjEjNfnjwFUnRdhoMFy903N8Wa\"\n",
        "output = \"save_models_exp.zip\"\n",
        "gdown.download(url, output, quiet=False)"
      ],
      "metadata": {
        "colab": {
          "base_uri": "https://localhost:8080/",
          "height": 104
        },
        "id": "3GwN_IkOHFfQ",
        "outputId": "a40635e7-92dc-4643-9d70-0854cf03d52a"
      },
      "execution_count": 59,
      "outputs": [
        {
          "output_type": "stream",
          "name": "stderr",
          "text": [
            "Downloading...\n",
            "From: https://drive.google.com/uc?id=1xyR5FzwjEjNfnjwFUnRdhoMFy903N8Wa\n",
            "To: /content/save_models_exp.zip\n",
            "100%|██████████| 1.92G/1.92G [00:09<00:00, 207MB/s]\n"
          ]
        },
        {
          "output_type": "execute_result",
          "data": {
            "text/plain": [
              "'save_models_exp.zip'"
            ],
            "application/vnd.google.colaboratory.intrinsic+json": {
              "type": "string"
            }
          },
          "metadata": {},
          "execution_count": 59
        }
      ]
    },
    {
      "cell_type": "code",
      "source": [
        "!unzip save_models_exp.zip"
      ],
      "metadata": {
        "colab": {
          "base_uri": "https://localhost:8080/"
        },
        "id": "j3gKRFlBIJVG",
        "outputId": "9bfe55e4-19e4-4ffd-f1ad-a2bed9eebd36"
      },
      "execution_count": 60,
      "outputs": [
        {
          "output_type": "stream",
          "name": "stdout",
          "text": [
            "Archive:  save_models_exp.zip\n",
            "   creating: saved_models_exp/codebert/\n",
            "   creating: saved_models_exp/codebert/checkpoint-best-bleu/\n",
            "  inflating: saved_models_exp/codebert/checkpoint-best-bleu/pytorch_model.bin  \n",
            "   creating: saved_models_exp/codebert/checkpoint-best-ppl/\n",
            "  inflating: saved_models_exp/codebert/checkpoint-best-ppl/pytorch_model.bin  \n",
            "   creating: saved_models_exp/codebert/checkpoint-last/\n",
            "  inflating: saved_models_exp/codebert/checkpoint-last/pytorch_model.bin  \n",
            "  inflating: saved_models_exp/codebert/dev.gold  \n",
            "  inflating: saved_models_exp/codebert/dev.output  \n"
          ]
        }
      ]
    },
    {
      "cell_type": "markdown",
      "source": [
        "### Evaluate CodeBERT for Repair with the Syntethic MBPP Dataset"
      ],
      "metadata": {
        "id": "r6Ga0cvnC159"
      }
    },
    {
      "cell_type": "code",
      "source": [
        "output_dir = './saved_models_exp/codebert/' #we use the downloaded values\n",
        "validate_file = f\"{data_dir}/val.bad,{data_dir}/val.good\"\n",
        "test_file = f\"{data_dir}/test.bad,{data_dir}/test.good\"\n",
        "test_model= f\"{output_dir}/checkpoint-best-ppl/pytorch_model.bin\"\n",
        "\n",
        "\n",
        "cmd = f\"\"\"\n",
        "python {CodeBERT}/run.py \\\n",
        "--do_test \\\n",
        "--model_type roberta \\\n",
        "--model_name_or_path {pretrained_model} \\\n",
        "--tokenizer_name roberta-base \\\n",
        "--load_model_path {test_model} \\\n",
        "--dev_filename {validate_file} \\\n",
        "--test_filename {test_file} \\\n",
        "--output_dir {output_dir} \\\n",
        "--max_source_length {source_length} \\\n",
        "--max_target_length {target_length} \\\n",
        "--beam_size {beam_size} \\\n",
        "--eval_batch_size {batch_size} \n",
        "\"\"\""
      ],
      "metadata": {
        "id": "McKnzoyTIq0n"
      },
      "execution_count": 62,
      "outputs": []
    },
    {
      "cell_type": "code",
      "source": [
        "print(cmd)"
      ],
      "metadata": {
        "colab": {
          "base_uri": "https://localhost:8080/"
        },
        "id": "TNpDtZuGMsFQ",
        "outputId": "5006164a-a6bf-415d-d338-acf67105ecc6"
      },
      "execution_count": 63,
      "outputs": [
        {
          "output_type": "stream",
          "name": "stdout",
          "text": [
            "\n",
            "python ./codebert/run.py --do_test --model_type roberta --model_name_or_path ./codebert-base --tokenizer_name roberta-base --load_model_path ./saved_models_exp/codebert//checkpoint-best-ppl/pytorch_model.bin --dev_filename ./data/round2-BIFI-part1/data_paired/val.bad,./data/round2-BIFI-part1/data_paired/val.good --test_filename ./data/round2-BIFI-part1/data_paired/test.bad,./data/round2-BIFI-part1/data_paired/test.good --output_dir ./saved_models_exp/codebert/ --max_source_length 510 --max_target_length 510 --beam_size 5 --eval_batch_size 8 \n",
            "\n"
          ]
        }
      ]
    },
    {
      "cell_type": "code",
      "source": [
        "!python ./codebert/run.py --do_test --model_type roberta --model_name_or_path ./codebert-base --tokenizer_name roberta-base --load_model_path ./saved_models_exp/codebert//checkpoint-best-ppl/pytorch_model.bin --dev_filename ./data/round2-BIFI-part1/data_paired/val.bad,./data/round2-BIFI-part1/data_paired/val.good --test_filename ./data/round2-BIFI-part1/data_paired/test.bad,./data/round2-BIFI-part1/data_paired/test.good --output_dir ./saved_models_exp/codebert/ --max_source_length 510 --max_target_length 510 --beam_size 5 --eval_batch_size 8 \n"
      ],
      "metadata": {
        "colab": {
          "base_uri": "https://localhost:8080/"
        },
        "id": "fFGRkezOMuaL",
        "outputId": "7ecc95e8-a7a5-4a9e-faab-4f6f53a00e5f"
      },
      "execution_count": 64,
      "outputs": [
        {
          "output_type": "stream",
          "name": "stdout",
          "text": [
            "06/27/2022 19:55:20 - INFO - __main__ -   Namespace(adam_epsilon=1e-08, beam_size=5, config_name='', dev_filename='./data/round2-BIFI-part1/data_paired/val.bad,./data/round2-BIFI-part1/data_paired/val.good', do_eval=False, do_lower_case=False, do_test=True, do_train=False, eval_batch_size=8, eval_steps=-1, gradient_accumulation_steps=1, learning_rate=5e-05, load_model_path='./saved_models_exp/codebert//checkpoint-best-ppl/pytorch_model.bin', local_rank=-1, max_grad_norm=1.0, max_source_length=510, max_steps=-1, max_target_length=510, model_name_or_path='./codebert-base', model_type='roberta', no_cuda=False, num_train_epochs=3.0, output_dir='./saved_models_exp/codebert/', seed=42, test_filename='./data/round2-BIFI-part1/data_paired/test.bad,./data/round2-BIFI-part1/data_paired/test.good', tokenizer_name='roberta-base', train_batch_size=8, train_filename=None, train_steps=-1, warmup_steps=0, weight_decay=0.0)\n",
            "06/27/2022 19:55:20 - WARNING - __main__ -   Process rank: -1, device: cuda, n_gpu: 1, distributed training: False\n",
            "Downloading: 100% 878k/878k [00:00<00:00, 7.52MB/s]\n",
            "Downloading: 100% 446k/446k [00:00<00:00, 4.02MB/s]\n",
            "Downloading: 100% 481/481 [00:00<00:00, 390kB/s]\n",
            "06/27/2022 19:55:25 - INFO - __main__ -   reload model from ./saved_models_exp/codebert//checkpoint-best-ppl/pytorch_model.bin\n",
            "06/27/2022 19:55:33 - INFO - __main__ -   Running Test\n",
            "06/27/2022 19:55:33 - INFO - __main__ -   Test file: ./data/round2-BIFI-part1/data_paired/val.bad,./data/round2-BIFI-part1/data_paired/val.good\n",
            "  0% 0/212 [00:00<?, ?it/s]/content/codebert/model.py:167: UserWarning: __floordiv__ is deprecated, and its behavior will change in a future version of pytorch. It currently rounds toward 0 (like the 'trunc' function NOT 'floor'). This results in incorrect rounding for negative values. To keep the current behavior, use torch.div(a, b, rounding_mode='trunc'), or for actual floor division, use torch.div(a, b, rounding_mode='floor').\n",
            "  prevK = bestScoresId // numWords\n",
            "100% 212/212 [41:16<00:00, 11.68s/it]\n",
            "06/27/2022 20:36:51 - INFO - __main__ -     bleu-4 = 73.9 \n",
            "06/27/2022 20:36:51 - INFO - __main__ -     xMatch = 23.6718 \n",
            "06/27/2022 20:36:51 - INFO - __main__ -     ********************\n",
            "06/27/2022 20:36:51 - INFO - __main__ -   Test file: ./data/round2-BIFI-part1/data_paired/test.bad,./data/round2-BIFI-part1/data_paired/test.good\n",
            "100% 206/206 [38:02<00:00, 11.08s/it]\n",
            "06/27/2022 21:14:55 - INFO - __main__ -     bleu-4 = 77.66 \n",
            "06/27/2022 21:14:55 - INFO - __main__ -     xMatch = 24.8629 \n",
            "06/27/2022 21:14:55 - INFO - __main__ -     ********************\n"
          ]
        }
      ]
    },
    {
      "cell_type": "markdown",
      "source": [
        "### Base Line using Seq2Seq LSTM Model"
      ],
      "metadata": {
        "id": "Bofor4OHCrJ0"
      }
    },
    {
      "cell_type": "code",
      "source": [
        "!pip install OpenNMT-py==2.2.0"
      ],
      "metadata": {
        "colab": {
          "base_uri": "https://localhost:8080/"
        },
        "id": "Z_dQ1muIEhZF",
        "outputId": "3de397b4-6eea-4e67-fb2b-627900fd777f"
      },
      "execution_count": 65,
      "outputs": [
        {
          "output_type": "stream",
          "name": "stdout",
          "text": [
            "Looking in indexes: https://pypi.org/simple, https://us-python.pkg.dev/colab-wheels/public/simple/\n",
            "Collecting OpenNMT-py==2.2.0\n",
            "  Downloading OpenNMT_py-2.2.0-py3-none-any.whl (216 kB)\n",
            "\u001b[K     |████████████████████████████████| 216 kB 5.2 MB/s \n",
            "\u001b[?25hRequirement already satisfied: torch>=1.6.0 in /usr/local/lib/python3.7/dist-packages (from OpenNMT-py==2.2.0) (1.11.0+cu113)\n",
            "Collecting waitress\n",
            "  Downloading waitress-2.1.2-py3-none-any.whl (57 kB)\n",
            "\u001b[K     |████████████████████████████████| 57 kB 6.4 MB/s \n",
            "\u001b[?25hRequirement already satisfied: tensorboard>=2.3 in /usr/local/lib/python3.7/dist-packages (from OpenNMT-py==2.2.0) (2.8.0)\n",
            "Collecting pyonmttok<2,>=1.23\n",
            "  Downloading pyonmttok-1.31.0-cp37-cp37m-manylinux_2_12_x86_64.manylinux2010_x86_64.whl (16.6 MB)\n",
            "\u001b[K     |████████████████████████████████| 16.6 MB 6.9 MB/s \n",
            "\u001b[?25hCollecting torchtext==0.5.0\n",
            "  Downloading torchtext-0.5.0-py3-none-any.whl (73 kB)\n",
            "\u001b[K     |████████████████████████████████| 73 kB 1.9 MB/s \n",
            "\u001b[?25hRequirement already satisfied: pyyaml in /usr/local/lib/python3.7/dist-packages (from OpenNMT-py==2.2.0) (6.0)\n",
            "Requirement already satisfied: flask in /usr/local/lib/python3.7/dist-packages (from OpenNMT-py==2.2.0) (1.1.4)\n",
            "Collecting configargparse\n",
            "  Downloading ConfigArgParse-1.5.3-py3-none-any.whl (20 kB)\n",
            "Requirement already satisfied: six in /usr/local/lib/python3.7/dist-packages (from torchtext==0.5.0->OpenNMT-py==2.2.0) (1.15.0)\n",
            "Collecting sentencepiece\n",
            "  Downloading sentencepiece-0.1.96-cp37-cp37m-manylinux_2_17_x86_64.manylinux2014_x86_64.whl (1.2 MB)\n",
            "\u001b[K     |████████████████████████████████| 1.2 MB 63.4 MB/s \n",
            "\u001b[?25hRequirement already satisfied: tqdm in /usr/local/lib/python3.7/dist-packages (from torchtext==0.5.0->OpenNMT-py==2.2.0) (4.64.0)\n",
            "Requirement already satisfied: numpy in /usr/local/lib/python3.7/dist-packages (from torchtext==0.5.0->OpenNMT-py==2.2.0) (1.21.6)\n",
            "Requirement already satisfied: requests in /usr/local/lib/python3.7/dist-packages (from torchtext==0.5.0->OpenNMT-py==2.2.0) (2.23.0)\n",
            "Requirement already satisfied: werkzeug>=0.11.15 in /usr/local/lib/python3.7/dist-packages (from tensorboard>=2.3->OpenNMT-py==2.2.0) (1.0.1)\n",
            "Requirement already satisfied: wheel>=0.26 in /usr/local/lib/python3.7/dist-packages (from tensorboard>=2.3->OpenNMT-py==2.2.0) (0.37.1)\n",
            "Requirement already satisfied: absl-py>=0.4 in /usr/local/lib/python3.7/dist-packages (from tensorboard>=2.3->OpenNMT-py==2.2.0) (1.1.0)\n",
            "Requirement already satisfied: setuptools>=41.0.0 in /usr/local/lib/python3.7/dist-packages (from tensorboard>=2.3->OpenNMT-py==2.2.0) (57.4.0)\n",
            "Requirement already satisfied: markdown>=2.6.8 in /usr/local/lib/python3.7/dist-packages (from tensorboard>=2.3->OpenNMT-py==2.2.0) (3.3.7)\n",
            "Requirement already satisfied: protobuf>=3.6.0 in /usr/local/lib/python3.7/dist-packages (from tensorboard>=2.3->OpenNMT-py==2.2.0) (3.17.3)\n",
            "Requirement already satisfied: tensorboard-data-server<0.7.0,>=0.6.0 in /usr/local/lib/python3.7/dist-packages (from tensorboard>=2.3->OpenNMT-py==2.2.0) (0.6.1)\n",
            "Requirement already satisfied: tensorboard-plugin-wit>=1.6.0 in /usr/local/lib/python3.7/dist-packages (from tensorboard>=2.3->OpenNMT-py==2.2.0) (1.8.1)\n",
            "Requirement already satisfied: grpcio>=1.24.3 in /usr/local/lib/python3.7/dist-packages (from tensorboard>=2.3->OpenNMT-py==2.2.0) (1.46.3)\n",
            "Requirement already satisfied: google-auth<3,>=1.6.3 in /usr/local/lib/python3.7/dist-packages (from tensorboard>=2.3->OpenNMT-py==2.2.0) (1.35.0)\n",
            "Requirement already satisfied: google-auth-oauthlib<0.5,>=0.4.1 in /usr/local/lib/python3.7/dist-packages (from tensorboard>=2.3->OpenNMT-py==2.2.0) (0.4.6)\n",
            "Requirement already satisfied: rsa<5,>=3.1.4 in /usr/local/lib/python3.7/dist-packages (from google-auth<3,>=1.6.3->tensorboard>=2.3->OpenNMT-py==2.2.0) (4.8)\n",
            "Requirement already satisfied: cachetools<5.0,>=2.0.0 in /usr/local/lib/python3.7/dist-packages (from google-auth<3,>=1.6.3->tensorboard>=2.3->OpenNMT-py==2.2.0) (4.2.4)\n",
            "Requirement already satisfied: pyasn1-modules>=0.2.1 in /usr/local/lib/python3.7/dist-packages (from google-auth<3,>=1.6.3->tensorboard>=2.3->OpenNMT-py==2.2.0) (0.2.8)\n",
            "Requirement already satisfied: requests-oauthlib>=0.7.0 in /usr/local/lib/python3.7/dist-packages (from google-auth-oauthlib<0.5,>=0.4.1->tensorboard>=2.3->OpenNMT-py==2.2.0) (1.3.1)\n",
            "Requirement already satisfied: importlib-metadata>=4.4 in /usr/local/lib/python3.7/dist-packages (from markdown>=2.6.8->tensorboard>=2.3->OpenNMT-py==2.2.0) (4.11.4)\n",
            "Requirement already satisfied: typing-extensions>=3.6.4 in /usr/local/lib/python3.7/dist-packages (from importlib-metadata>=4.4->markdown>=2.6.8->tensorboard>=2.3->OpenNMT-py==2.2.0) (4.1.1)\n",
            "Requirement already satisfied: zipp>=0.5 in /usr/local/lib/python3.7/dist-packages (from importlib-metadata>=4.4->markdown>=2.6.8->tensorboard>=2.3->OpenNMT-py==2.2.0) (3.8.0)\n",
            "Requirement already satisfied: pyasn1<0.5.0,>=0.4.6 in /usr/local/lib/python3.7/dist-packages (from pyasn1-modules>=0.2.1->google-auth<3,>=1.6.3->tensorboard>=2.3->OpenNMT-py==2.2.0) (0.4.8)\n",
            "Requirement already satisfied: urllib3!=1.25.0,!=1.25.1,<1.26,>=1.21.1 in /usr/local/lib/python3.7/dist-packages (from requests->torchtext==0.5.0->OpenNMT-py==2.2.0) (1.24.3)\n",
            "Requirement already satisfied: certifi>=2017.4.17 in /usr/local/lib/python3.7/dist-packages (from requests->torchtext==0.5.0->OpenNMT-py==2.2.0) (2022.6.15)\n",
            "Requirement already satisfied: idna<3,>=2.5 in /usr/local/lib/python3.7/dist-packages (from requests->torchtext==0.5.0->OpenNMT-py==2.2.0) (2.10)\n",
            "Requirement already satisfied: chardet<4,>=3.0.2 in /usr/local/lib/python3.7/dist-packages (from requests->torchtext==0.5.0->OpenNMT-py==2.2.0) (3.0.4)\n",
            "Requirement already satisfied: oauthlib>=3.0.0 in /usr/local/lib/python3.7/dist-packages (from requests-oauthlib>=0.7.0->google-auth-oauthlib<0.5,>=0.4.1->tensorboard>=2.3->OpenNMT-py==2.2.0) (3.2.0)\n",
            "Requirement already satisfied: click<8.0,>=5.1 in /usr/local/lib/python3.7/dist-packages (from flask->OpenNMT-py==2.2.0) (7.1.2)\n",
            "Requirement already satisfied: itsdangerous<2.0,>=0.24 in /usr/local/lib/python3.7/dist-packages (from flask->OpenNMT-py==2.2.0) (1.1.0)\n",
            "Requirement already satisfied: Jinja2<3.0,>=2.10.1 in /usr/local/lib/python3.7/dist-packages (from flask->OpenNMT-py==2.2.0) (2.11.3)\n",
            "Requirement already satisfied: MarkupSafe>=0.23 in /usr/local/lib/python3.7/dist-packages (from Jinja2<3.0,>=2.10.1->flask->OpenNMT-py==2.2.0) (2.0.1)\n",
            "Installing collected packages: sentencepiece, waitress, torchtext, pyonmttok, configargparse, OpenNMT-py\n",
            "  Attempting uninstall: torchtext\n",
            "    Found existing installation: torchtext 0.12.0\n",
            "    Uninstalling torchtext-0.12.0:\n",
            "      Successfully uninstalled torchtext-0.12.0\n",
            "Successfully installed OpenNMT-py-2.2.0 configargparse-1.5.3 pyonmttok-1.31.0 sentencepiece-0.1.96 torchtext-0.5.0 waitress-2.1.2\n"
          ]
        }
      ]
    },
    {
      "cell_type": "code",
      "source": [
        "# Create the configuration\n",
        "data_config = 'data_paired.yaml'\n",
        "output_dir = './saved_models/simple-lstm'\n",
        "#os.makedirs(output_dir)\n",
        "\n",
        "config = \"\"\"\n",
        "data:\n",
        "    corpus:\n",
        "        path_src: data/round2-BIFI-part1/data_paired/train.bad\n",
        "        path_tgt: data/round2-BIFI-part1/data_paired/train.good\n",
        "    valid:\n",
        "        path_src: data/round2-BIFI-part1/data_paired/val.bad\n",
        "        path_tgt: data/round2-BIFI-part1/data_paired/val.good\n",
        "\"\"\"\n",
        "with open(data_config, 'w') as f:\n",
        "    f.write(config)"
      ],
      "metadata": {
        "id": "L_XYYOm2E-bW"
      },
      "execution_count": 86,
      "outputs": []
    },
    {
      "cell_type": "code",
      "source": [
        "!cat data_paired.yaml"
      ],
      "metadata": {
        "colab": {
          "base_uri": "https://localhost:8080/"
        },
        "id": "jVINONggHCTQ",
        "outputId": "ecd3ad20-3b45-4abf-e217-8e9a7e87d15e"
      },
      "execution_count": 87,
      "outputs": [
        {
          "output_type": "stream",
          "name": "stdout",
          "text": [
            "\n",
            "data:\n",
            "    corpus:\n",
            "        path_src: data/round2-BIFI-part1/data_paired/train.bad\n",
            "        path_tgt: data/round2-BIFI-part1/data_paired/train.good\n",
            "    valid:\n",
            "        path_src: data/round2-BIFI-part1/data_paired/val.bad\n",
            "        path_tgt: data/round2-BIFI-part1/data_paired/val.good\n"
          ]
        }
      ]
    },
    {
      "cell_type": "code",
      "source": [
        "# based on ./scripts/simple-lstm/build_vocab.sh\n",
        "cmd = f\"onmt_build_vocab -config {data_config}  -src_seq_length 510 -tgt_seq_length 510 -src_vocab_size 64000 -tgt_vocab_size 64000 -share_vocab -n_sample -1 -save_data {output_dir}/final -src_vocab {output_dir}/final.vocab\"\n"
      ],
      "metadata": {
        "id": "oIEEpafkHfzw"
      },
      "execution_count": 72,
      "outputs": []
    },
    {
      "cell_type": "code",
      "source": [
        "subprocess.run(shlex.split(cmd), capture_output=True)"
      ],
      "metadata": {
        "colab": {
          "base_uri": "https://localhost:8080/"
        },
        "id": "V4uCTLM-Ibfy",
        "outputId": "e96867af-b5fc-464a-94f1-b7b8c07423cf"
      },
      "execution_count": 73,
      "outputs": [
        {
          "output_type": "execute_result",
          "data": {
            "text/plain": [
              "CompletedProcess(args=['onmt_build_vocab', '-config', 'data_paired.yaml', '-src_seq_length', '510', '-tgt_seq_length', '510', '-src_vocab_size', '64000', '-tgt_vocab_size', '64000', '-share_vocab', '-n_sample', '-1', '-save_data', './saved_models/simple-lstm//final', '-src_vocab', './saved_models/simple-lstm//final.vocab'], returncode=0, stdout=b'', stderr=b\"Corpus corpus's weight should be given. We default it to 1 for you.\\n[2022-06-27 21:46:55,954 INFO] Counter vocab from -1 samples.\\n[2022-06-27 21:46:55,954 INFO] n_sample=-1: Build vocab on full datasets.\\n[2022-06-27 21:46:55,986 INFO] corpus's transforms: TransformPipe()\\n[2022-06-27 21:46:56,278 INFO] Counters src:426\\n[2022-06-27 21:46:56,279 INFO] Counters tgt:424\\n[2022-06-27 21:46:56,279 INFO] Counters after share:429\\n\")"
            ]
          },
          "metadata": {},
          "execution_count": 73
        }
      ]
    },
    {
      "cell_type": "code",
      "source": [
        "\n",
        "num_of_gpus = torch.cuda.device_count()\n",
        "print(num_of_gpus)\n",
        "devices_torch = torch.cuda.get_device_name()\n",
        "print(devices_torch)\n",
        "[torch.cuda.device(i) for i in range(torch.cuda.device_count())]"
      ],
      "metadata": {
        "colab": {
          "base_uri": "https://localhost:8080/"
        },
        "id": "YQnT09nvIi15",
        "outputId": "5e5f5656-0db7-4ef9-83f6-c17f66861e28"
      },
      "execution_count": 74,
      "outputs": [
        {
          "output_type": "stream",
          "name": "stdout",
          "text": [
            "1\n",
            "Tesla P100-PCIE-16GB\n"
          ]
        },
        {
          "output_type": "execute_result",
          "data": {
            "text/plain": [
              "[<torch.cuda.device at 0x7f57c37173d0>]"
            ]
          },
          "metadata": {},
          "execution_count": 74
        }
      ]
    },
    {
      "cell_type": "code",
      "source": [
        "# based on ./scripts/simple-lstm/train.sh\n",
        "\n",
        "# You may change it based on the GPU number, and also change `world_size` and `gpu_ranks` accordingly.\n",
        "# https://forum.opennmt.net/t/using-gpu-and-early-stopping-in-opennmt-py/2921\n",
        "os.environ[\"CUDA_VISIBLE_DEVICES\"] = \"0\" \n",
        "\n",
        "gpu_ranks = '0'\n",
        "world_size = '1'\n",
        "\n",
        "cmd = f\"\"\"\n",
        "onmt_train -config {data_config} \\\n",
        "-share_vocab \\\n",
        "-src_vocab {output_dir}/final.vocab \\\n",
        "-world_size {world_size} \\\n",
        "-gpu_ranks {gpu_ranks} \\\n",
        "-encoder_type brnn \\\n",
        "-enc_layers 2 \\\n",
        "-decoder_type rnn \\\n",
        "-dec_layers 2 \\\n",
        "-rnn_size 256 \\\n",
        "-global_attention general \\\n",
        "-batch_size 32 \\\n",
        "-word_vec_size 256 \\\n",
        "-bridge \\\n",
        "-copy_attn \\\n",
        "-reuse_copy_attn \\\n",
        "-train_steps 20000 \\\n",
        "-save_checkpoint_steps 5000 \\\n",
        "-valid_steps 1000 \\\n",
        "-save_model {output_dir}/final-model \\\n",
        "--verbose\n",
        "\"\"\""
      ],
      "metadata": {
        "id": "LGU9JmzkIl9k"
      },
      "execution_count": 94,
      "outputs": []
    },
    {
      "cell_type": "code",
      "source": [
        "print(cmd)"
      ],
      "metadata": {
        "colab": {
          "base_uri": "https://localhost:8080/"
        },
        "id": "OWLJJAz5JG6B",
        "outputId": "a55a099a-b06b-459e-c52c-e436d8ad057c"
      },
      "execution_count": 95,
      "outputs": [
        {
          "output_type": "stream",
          "name": "stdout",
          "text": [
            "\n",
            "onmt_train -config data_paired.yaml -share_vocab -src_vocab ./saved_models/simple-lstm/final.vocab -world_size 1 -gpu_ranks 0 -encoder_type brnn -enc_layers 2 -decoder_type rnn -dec_layers 2 -rnn_size 256 -global_attention general -batch_size 32 -word_vec_size 256 -bridge -copy_attn -reuse_copy_attn -train_steps 20000 -save_checkpoint_steps 5000 -valid_steps 1000 -save_model ./saved_models/simple-lstm/final-model --verbose\n",
            "\n"
          ]
        }
      ]
    },
    {
      "cell_type": "code",
      "source": [
        "!onmt_train -config data_paired.yaml -share_vocab -src_vocab ./saved_models/simple-lstm/final.vocab -world_size 1 -gpu_ranks 0 -encoder_type brnn -enc_layers 2 -decoder_type rnn -dec_layers 2 -rnn_size 256 -global_attention general -batch_size 32 -word_vec_size 256 -bridge -copy_attn -reuse_copy_attn -train_steps 20000 -save_checkpoint_steps 5000 -valid_steps 1000 -save_model ./saved_models/simple-lstm/final-model --verbose\n"
      ],
      "metadata": {
        "colab": {
          "base_uri": "https://localhost:8080/"
        },
        "id": "zrRNeCqfJJdr",
        "outputId": "5a17234a-10a4-445e-ef56-0c680d0203a1"
      },
      "execution_count": 77,
      "outputs": [
        {
          "output_type": "stream",
          "name": "stdout",
          "text": [
            "[2022-06-27 21:50:32,523 INFO] Missing transforms field for corpus data, set to default: [].\n",
            "[2022-06-27 21:50:32,523 WARNING] Corpus corpus's weight should be given. We default it to 1 for you.\n",
            "[2022-06-27 21:50:32,523 INFO] Missing transforms field for valid data, set to default: [].\n",
            "[2022-06-27 21:50:32,523 INFO] Parsed 2 corpora from -data.\n",
            "[2022-06-27 21:50:32,523 INFO] Get special vocabs from Transforms: {'src': set(), 'tgt': set()}.\n",
            "[2022-06-27 21:50:32,523 INFO] Loading vocab from text file...\n",
            "[2022-06-27 21:50:32,523 INFO] Loading src vocabulary from ./saved_models/simple-lstm//final.vocab\n",
            "[2022-06-27 21:50:32,524 INFO] Loaded src vocab has 429 tokens.\n",
            "[2022-06-27 21:50:32,525 INFO] Sharing src vocab to tgt...\n",
            "[2022-06-27 21:50:32,525 INFO] Building fields with vocab in counters...\n",
            "[2022-06-27 21:50:32,525 INFO]  * tgt vocab size: 432.\n",
            "[2022-06-27 21:50:32,526 INFO]  * src vocab size: 430.\n",
            "[2022-06-27 21:50:32,526 INFO]  * merging src and tgt vocab...\n",
            "[2022-06-27 21:50:32,526 INFO]  * merged vocab size: 432.\n",
            "[2022-06-27 21:50:32,526 INFO]  * src vocab size = 432\n",
            "[2022-06-27 21:50:32,526 INFO]  * tgt vocab size = 432\n",
            "[2022-06-27 21:50:32,528 INFO] Building model...\n",
            "[2022-06-27 21:50:35,469 INFO] NMTModel(\n",
            "  (encoder): RNNEncoder(\n",
            "    (embeddings): Embeddings(\n",
            "      (make_embedding): Sequential(\n",
            "        (emb_luts): Elementwise(\n",
            "          (0): Embedding(432, 256, padding_idx=1)\n",
            "        )\n",
            "      )\n",
            "    )\n",
            "    (rnn): LSTM(256, 128, num_layers=2, dropout=0.3, bidirectional=True)\n",
            "    (bridge): ModuleList(\n",
            "      (0): Linear(in_features=256, out_features=256, bias=True)\n",
            "      (1): Linear(in_features=256, out_features=256, bias=True)\n",
            "    )\n",
            "  )\n",
            "  (decoder): InputFeedRNNDecoder(\n",
            "    (embeddings): Embeddings(\n",
            "      (make_embedding): Sequential(\n",
            "        (emb_luts): Elementwise(\n",
            "          (0): Embedding(432, 256, padding_idx=1)\n",
            "        )\n",
            "      )\n",
            "    )\n",
            "    (dropout): Dropout(p=0.3, inplace=False)\n",
            "    (rnn): StackedLSTM(\n",
            "      (dropout): Dropout(p=0.3, inplace=False)\n",
            "      (layers): ModuleList(\n",
            "        (0): LSTMCell(512, 256)\n",
            "        (1): LSTMCell(256, 256)\n",
            "      )\n",
            "    )\n",
            "    (attn): GlobalAttention(\n",
            "      (linear_in): Linear(in_features=256, out_features=256, bias=False)\n",
            "      (linear_out): Linear(in_features=512, out_features=256, bias=False)\n",
            "    )\n",
            "  )\n",
            "  (generator): CopyGenerator(\n",
            "    (linear): Linear(in_features=256, out_features=432, bias=True)\n",
            "    (linear_copy): Linear(in_features=256, out_features=1, bias=True)\n",
            "  )\n",
            ")\n",
            "[2022-06-27 21:50:35,470 INFO] encoder: 1032704\n",
            "[2022-06-27 21:50:35,470 INFO] decoder: 1733297\n",
            "[2022-06-27 21:50:35,470 INFO] * number of parameters: 2766001\n",
            "[2022-06-27 21:50:35,471 INFO] Starting training on GPU: [0]\n",
            "[2022-06-27 21:50:35,471 INFO] Start training loop and validate every 1000 steps...\n",
            "[2022-06-27 21:50:35,471 INFO] corpus's transforms: TransformPipe()\n",
            "[2022-06-27 21:50:35,471 INFO] Weighted corpora loaded so far:\n",
            "\t\t\t* corpus: 1\n",
            "/usr/local/lib/python3.7/dist-packages/torchtext/data/field.py:359: UserWarning: To copy construct from a tensor, it is recommended to use sourceTensor.clone().detach() or sourceTensor.clone().detach().requires_grad_(True), rather than torch.tensor(sourceTensor).\n",
            "  var = torch.tensor(arr, dtype=self.dtype, device=device)\n",
            "[2022-06-27 21:50:41,960 INFO] Step 50/20000; acc:  10.30; ppl: 63.94; xent: 4.16; lr: 1.00000; 12350/12864 tok/s;      6 sec\n",
            "[2022-06-27 21:50:48,212 INFO] Step 100/20000; acc:  15.20; ppl: 26.36; xent: 3.27; lr: 1.00000; 12531/13059 tok/s;     13 sec\n",
            "[2022-06-27 21:50:51,543 INFO] Weighted corpora loaded so far:\n",
            "\t\t\t* corpus: 2\n",
            "[2022-06-27 21:50:53,995 INFO] Step 150/20000; acc:  31.95; ppl:  9.70; xent: 2.27; lr: 1.00000; 12849/13424 tok/s;     19 sec\n",
            "[2022-06-27 21:51:00,537 INFO] Step 200/20000; acc:  52.40; ppl:  4.96; xent: 1.60; lr: 1.00000; 12621/13135 tok/s;     25 sec\n",
            "[2022-06-27 21:51:06,942 INFO] Step 250/20000; acc:  68.23; ppl:  2.83; xent: 1.04; lr: 1.00000; 12951/13467 tok/s;     31 sec\n",
            "[2022-06-27 21:51:07,549 INFO] Weighted corpora loaded so far:\n",
            "\t\t\t* corpus: 3\n",
            "[2022-06-27 21:51:13,173 INFO] Step 300/20000; acc:  79.03; ppl:  1.96; xent: 0.67; lr: 1.00000; 12504/13038 tok/s;     38 sec\n",
            "[2022-06-27 21:51:19,361 INFO] Step 350/20000; acc:  85.11; ppl:  1.64; xent: 0.49; lr: 1.00000; 12477/13018 tok/s;     44 sec\n",
            "[2022-06-27 21:51:25,555 INFO] Step 400/20000; acc:  89.15; ppl:  1.49; xent: 0.40; lr: 1.00000; 12629/13166 tok/s;     50 sec\n",
            "[2022-06-27 21:51:31,562 INFO] Weighted corpora loaded so far:\n",
            "\t\t\t* corpus: 4\n",
            "[2022-06-27 21:51:32,046 INFO] Step 450/20000; acc:  91.41; ppl:  1.38; xent: 0.32; lr: 1.00000; 12707/13222 tok/s;     57 sec\n",
            "[2022-06-27 21:51:38,126 INFO] Step 500/20000; acc:  92.69; ppl:  1.31; xent: 0.27; lr: 1.00000; 13033/13585 tok/s;     63 sec\n",
            "[2022-06-27 21:51:44,313 INFO] Step 550/20000; acc:  93.59; ppl:  1.26; xent: 0.23; lr: 1.00000; 12801/13337 tok/s;     69 sec\n",
            "[2022-06-27 21:51:47,441 INFO] Weighted corpora loaded so far:\n",
            "\t\t\t* corpus: 5\n",
            "[2022-06-27 21:51:50,268 INFO] Step 600/20000; acc:  95.22; ppl:  1.21; xent: 0.19; lr: 1.00000; 12467/13024 tok/s;     75 sec\n",
            "[2022-06-27 21:51:56,842 INFO] Step 650/20000; acc:  94.79; ppl:  1.25; xent: 0.22; lr: 1.00000; 12490/12996 tok/s;     81 sec\n",
            "[2022-06-27 21:52:03,149 INFO] Step 700/20000; acc:  95.36; ppl:  1.21; xent: 0.19; lr: 1.00000; 13013/13544 tok/s;     88 sec\n",
            "[2022-06-27 21:52:03,681 INFO] Weighted corpora loaded so far:\n",
            "\t\t\t* corpus: 6\n",
            "[2022-06-27 21:52:09,527 INFO] Step 750/20000; acc:  95.98; ppl:  1.17; xent: 0.16; lr: 1.00000; 12437/12962 tok/s;     94 sec\n",
            "[2022-06-27 21:52:15,550 INFO] Step 800/20000; acc:  95.91; ppl:  1.17; xent: 0.16; lr: 1.00000; 12489/13039 tok/s;    100 sec\n",
            "[2022-06-27 21:52:21,764 INFO] Step 850/20000; acc:  97.02; ppl:  1.14; xent: 0.13; lr: 1.00000; 12623/13158 tok/s;    106 sec\n",
            "[2022-06-27 21:52:27,752 INFO] Weighted corpora loaded so far:\n",
            "\t\t\t* corpus: 7\n",
            "[2022-06-27 21:52:28,455 INFO] Step 900/20000; acc:  96.83; ppl:  1.14; xent: 0.13; lr: 1.00000; 12637/13135 tok/s;    113 sec\n",
            "[2022-06-27 21:52:34,592 INFO] Step 950/20000; acc:  96.93; ppl:  1.14; xent: 0.13; lr: 1.00000; 12785/13327 tok/s;    119 sec\n",
            "[2022-06-27 21:52:40,856 INFO] Step 1000/20000; acc:  97.42; ppl:  1.11; xent: 0.10; lr: 1.00000; 12525/13055 tok/s;    125 sec\n",
            "[2022-06-27 21:52:40,856 INFO] valid's transforms: TransformPipe()\n",
            "[2022-06-27 21:52:45,327 INFO] Validation perplexity: 1.51894\n",
            "[2022-06-27 21:52:45,327 INFO] Validation accuracy: 93.4676\n",
            "[2022-06-27 21:52:48,453 INFO] Weighted corpora loaded so far:\n",
            "\t\t\t* corpus: 8\n",
            "[2022-06-27 21:52:51,677 INFO] Step 1050/20000; acc:  97.69; ppl:  1.11; xent: 0.10; lr: 1.00000; 7185/7492 tok/s;    136 sec\n",
            "[2022-06-27 21:52:58,469 INFO] Step 1100/20000; acc:  97.63; ppl:  1.11; xent: 0.10; lr: 1.00000; 12185/12679 tok/s;    143 sec\n",
            "[2022-06-27 21:53:04,688 INFO] Step 1150/20000; acc:  97.46; ppl:  1.12; xent: 0.12; lr: 1.00000; 12537/13076 tok/s;    149 sec\n",
            "[2022-06-27 21:53:11,308 INFO] Step 1200/20000; acc:  97.92; ppl:  1.09; xent: 0.08; lr: 1.00000; 12456/12958 tok/s;    156 sec\n",
            "[2022-06-27 21:53:13,201 INFO] Weighted corpora loaded so far:\n",
            "\t\t\t* corpus: 9\n",
            "[2022-06-27 21:53:17,526 INFO] Step 1250/20000; acc:  98.12; ppl:  1.09; xent: 0.08; lr: 1.00000; 12078/12614 tok/s;    162 sec\n",
            "[2022-06-27 21:53:23,807 INFO] Step 1300/20000; acc:  98.11; ppl:  1.08; xent: 0.08; lr: 1.00000; 12216/12742 tok/s;    168 sec\n",
            "[2022-06-27 21:53:29,480 INFO] Weighted corpora loaded so far:\n",
            "\t\t\t* corpus: 10\n",
            "[2022-06-27 21:53:30,519 INFO] Step 1350/20000; acc:  98.20; ppl:  1.08; xent: 0.07; lr: 1.00000; 12584/13085 tok/s;    175 sec\n",
            "[2022-06-27 21:53:36,763 INFO] Step 1400/20000; acc:  98.08; ppl:  1.09; xent: 0.09; lr: 1.00000; 12719/13252 tok/s;    181 sec\n",
            "[2022-06-27 21:53:42,896 INFO] Step 1450/20000; acc:  98.21; ppl:  1.08; xent: 0.07; lr: 1.00000; 12417/12958 tok/s;    187 sec\n",
            "[2022-06-27 21:53:45,818 INFO] Weighted corpora loaded so far:\n",
            "\t\t\t* corpus: 11\n",
            "[2022-06-27 21:53:49,485 INFO] Step 1500/20000; acc:  98.24; ppl:  1.08; xent: 0.07; lr: 1.00000; 12294/12804 tok/s;    194 sec\n",
            "[2022-06-27 21:53:56,367 INFO] Step 1550/20000; acc:  98.72; ppl:  1.06; xent: 0.05; lr: 1.00000; 11433/11914 tok/s;    201 sec\n",
            "[2022-06-27 21:54:02,509 INFO] Step 1600/20000; acc:  98.25; ppl:  1.08; xent: 0.08; lr: 1.00000; 13107/13654 tok/s;    207 sec\n",
            "[2022-06-27 21:54:09,245 INFO] Step 1650/20000; acc:  98.29; ppl:  1.07; xent: 0.07; lr: 1.00000; 12089/12580 tok/s;    214 sec\n",
            "[2022-06-27 21:54:10,878 INFO] Weighted corpora loaded so far:\n",
            "\t\t\t* corpus: 12\n",
            "[2022-06-27 21:54:15,616 INFO] Step 1700/20000; acc:  98.47; ppl:  1.07; xent: 0.07; lr: 1.00000; 12067/12587 tok/s;    220 sec\n",
            "[2022-06-27 21:54:21,715 INFO] Step 1750/20000; acc:  98.65; ppl:  1.06; xent: 0.06; lr: 1.00000; 12107/12653 tok/s;    226 sec\n",
            "[2022-06-27 21:54:27,286 INFO] Weighted corpora loaded so far:\n",
            "\t\t\t* corpus: 13\n",
            "[2022-06-27 21:54:28,481 INFO] Step 1800/20000; acc:  98.65; ppl:  1.06; xent: 0.06; lr: 1.00000; 12610/13105 tok/s;    233 sec\n",
            "[2022-06-27 21:54:34,705 INFO] Step 1850/20000; acc:  98.43; ppl:  1.07; xent: 0.07; lr: 1.00000; 13182/13723 tok/s;    239 sec\n",
            "[2022-06-27 21:54:40,859 INFO] Step 1900/20000; acc:  98.58; ppl:  1.06; xent: 0.06; lr: 1.00000; 12456/12990 tok/s;    245 sec\n",
            "[2022-06-27 21:54:47,215 INFO] Step 1950/20000; acc:  98.58; ppl:  1.06; xent: 0.06; lr: 1.00000; 12240/12766 tok/s;    252 sec\n",
            "[2022-06-27 21:54:51,746 INFO] Weighted corpora loaded so far:\n",
            "\t\t\t* corpus: 14\n",
            "[2022-06-27 21:54:53,708 INFO] Step 2000/20000; acc:  98.99; ppl:  1.04; xent: 0.04; lr: 1.00000; 12077/12590 tok/s;    258 sec\n",
            "[2022-06-27 21:54:58,335 INFO] Validation perplexity: 1.70193\n",
            "[2022-06-27 21:54:58,336 INFO] Validation accuracy: 94.5251\n",
            "[2022-06-27 21:55:04,732 INFO] Step 2050/20000; acc:  98.84; ppl:  1.05; xent: 0.05; lr: 1.00000; 7387/7692 tok/s;    269 sec\n",
            "[2022-06-27 21:55:10,737 INFO] Step 2100/20000; acc:  98.96; ppl:  1.05; xent: 0.05; lr: 1.00000; 13409/13961 tok/s;    275 sec\n",
            "[2022-06-27 21:55:12,177 INFO] Weighted corpora loaded so far:\n",
            "\t\t\t* corpus: 15\n",
            "[2022-06-27 21:55:17,181 INFO] Step 2150/20000; acc:  98.91; ppl:  1.05; xent: 0.05; lr: 1.00000; 12234/12744 tok/s;    282 sec\n",
            "[2022-06-27 21:55:23,010 INFO] Step 2200/20000; acc:  99.09; ppl:  1.04; xent: 0.04; lr: 1.00000; 12600/13172 tok/s;    288 sec\n",
            "[2022-06-27 21:55:28,237 INFO] Weighted corpora loaded so far:\n",
            "\t\t\t* corpus: 16\n",
            "[2022-06-27 21:55:29,529 INFO] Step 2250/20000; acc:  98.87; ppl:  1.05; xent: 0.05; lr: 1.00000; 12679/13199 tok/s;    294 sec\n",
            "[2022-06-27 21:55:35,982 INFO] Step 2300/20000; acc:  98.83; ppl:  1.05; xent: 0.05; lr: 1.00000; 12778/13294 tok/s;    301 sec\n",
            "[2022-06-27 21:55:42,303 INFO] Step 2350/20000; acc:  98.88; ppl:  1.05; xent: 0.05; lr: 1.00000; 12433/12961 tok/s;    307 sec\n",
            "[2022-06-27 21:55:48,512 INFO] Step 2400/20000; acc:  98.88; ppl:  1.05; xent: 0.05; lr: 1.00000; 12245/12776 tok/s;    313 sec\n",
            "[2022-06-27 21:55:52,680 INFO] Weighted corpora loaded so far:\n",
            "\t\t\t* corpus: 17\n",
            "[2022-06-27 21:55:54,754 INFO] Step 2450/20000; acc:  99.11; ppl:  1.04; xent: 0.04; lr: 1.00000; 12584/13119 tok/s;    319 sec\n",
            "[2022-06-27 21:56:01,429 INFO] Step 2500/20000; acc:  99.14; ppl:  1.04; xent: 0.04; lr: 1.00000; 12356/12859 tok/s;    326 sec\n",
            "[2022-06-27 21:56:07,664 INFO] Step 2550/20000; acc:  98.96; ppl:  1.05; xent: 0.04; lr: 1.00000; 12991/13522 tok/s;    332 sec\n",
            "[2022-06-27 21:56:08,903 INFO] Weighted corpora loaded so far:\n",
            "\t\t\t* corpus: 18\n",
            "[2022-06-27 21:56:14,062 INFO] Step 2600/20000; acc:  99.05; ppl:  1.05; xent: 0.05; lr: 1.00000; 12278/12797 tok/s;    339 sec\n",
            "[2022-06-27 21:56:20,218 INFO] Step 2650/20000; acc:  99.11; ppl:  1.04; xent: 0.04; lr: 1.00000; 12431/12975 tok/s;    345 sec\n",
            "[2022-06-27 21:56:26,786 INFO] Step 2700/20000; acc:  98.99; ppl:  1.05; xent: 0.04; lr: 1.00000; 12583/13092 tok/s;    351 sec\n",
            "[2022-06-27 21:56:32,888 INFO] Step 2750/20000; acc:  99.02; ppl:  1.04; xent: 0.04; lr: 1.00000; 12983/13534 tok/s;    357 sec\n",
            "[2022-06-27 21:56:33,166 INFO] Weighted corpora loaded so far:\n",
            "\t\t\t* corpus: 19\n",
            "[2022-06-27 21:56:39,453 INFO] Step 2800/20000; acc:  99.03; ppl:  1.05; xent: 0.05; lr: 1.00000; 12346/12855 tok/s;    364 sec\n",
            "[2022-06-27 21:56:45,499 INFO] Step 2850/20000; acc:  99.08; ppl:  1.04; xent: 0.04; lr: 1.00000; 12487/13030 tok/s;    370 sec\n",
            "[2022-06-27 21:56:49,352 INFO] Weighted corpora loaded so far:\n",
            "\t\t\t* corpus: 20\n",
            "[2022-06-27 21:56:51,794 INFO] Step 2900/20000; acc:  99.17; ppl:  1.04; xent: 0.04; lr: 1.00000; 12239/12769 tok/s;    376 sec\n",
            "[2022-06-27 21:56:58,608 INFO] Step 2950/20000; acc:  99.09; ppl:  1.04; xent: 0.04; lr: 1.00000; 12212/12701 tok/s;    383 sec\n",
            "[2022-06-27 21:57:04,660 INFO] Step 3000/20000; acc:  99.00; ppl:  1.05; xent: 0.05; lr: 1.00000; 13172/13725 tok/s;    389 sec\n",
            "[2022-06-27 21:57:09,139 INFO] Validation perplexity: 2.02861\n",
            "[2022-06-27 21:57:09,140 INFO] Validation accuracy: 94.1418\n",
            "[2022-06-27 21:57:10,087 INFO] Weighted corpora loaded so far:\n",
            "\t\t\t* corpus: 21\n",
            "[2022-06-27 21:57:15,220 INFO] Step 3050/20000; acc:  98.98; ppl:  1.04; xent: 0.04; lr: 1.00000; 7281/7596 tok/s;    400 sec\n",
            "[2022-06-27 21:57:21,587 INFO] Step 3100/20000; acc:  99.03; ppl:  1.05; xent: 0.05; lr: 1.00000; 12654/13181 tok/s;    406 sec\n",
            "[2022-06-27 21:57:28,565 INFO] Step 3150/20000; acc:  99.23; ppl:  1.04; xent: 0.03; lr: 1.00000; 11297/11770 tok/s;    413 sec\n",
            "[2022-06-27 21:57:34,909 INFO] Step 3200/20000; acc:  99.02; ppl:  1.05; xent: 0.05; lr: 1.00000; 12860/13386 tok/s;    419 sec\n",
            "[2022-06-27 21:57:34,915 INFO] Weighted corpora loaded so far:\n",
            "\t\t\t* corpus: 22\n",
            "[2022-06-27 21:57:41,314 INFO] Step 3250/20000; acc:  99.07; ppl:  1.05; xent: 0.05; lr: 1.00000; 12411/12931 tok/s;    426 sec\n",
            "[2022-06-27 21:57:47,734 INFO] Step 3300/20000; acc:  99.07; ppl:  1.04; xent: 0.04; lr: 1.00000; 12157/12675 tok/s;    432 sec\n",
            "[2022-06-27 21:57:51,274 INFO] Weighted corpora loaded so far:\n",
            "\t\t\t* corpus: 23\n",
            "[2022-06-27 21:57:53,829 INFO] Step 3350/20000; acc:  99.33; ppl:  1.03; xent: 0.03; lr: 1.00000; 12333/12878 tok/s;    438 sec\n",
            "[2022-06-27 21:58:00,569 INFO] Step 3400/20000; acc:  99.12; ppl:  1.04; xent: 0.04; lr: 1.00000; 12440/12940 tok/s;    445 sec\n",
            "[2022-06-27 21:58:06,861 INFO] Step 3450/20000; acc:  99.09; ppl:  1.04; xent: 0.04; lr: 1.00000; 12902/13430 tok/s;    451 sec\n",
            "[2022-06-27 21:58:13,360 INFO] Step 3500/20000; acc:  99.17; ppl:  1.04; xent: 0.04; lr: 1.00000; 12007/12522 tok/s;    458 sec\n",
            "[2022-06-27 21:58:15,792 INFO] Weighted corpora loaded so far:\n",
            "\t\t\t* corpus: 24\n",
            "[2022-06-27 21:58:19,585 INFO] Step 3550/20000; acc:  99.04; ppl:  1.05; xent: 0.05; lr: 1.00000; 12436/12974 tok/s;    464 sec\n",
            "[2022-06-27 21:58:25,866 INFO] Step 3600/20000; acc:  99.31; ppl:  1.03; xent: 0.03; lr: 1.00000; 12387/12914 tok/s;    470 sec\n",
            "[2022-06-27 21:58:31,912 INFO] Weighted corpora loaded so far:\n",
            "\t\t\t* corpus: 25\n",
            "[2022-06-27 21:58:32,421 INFO] Step 3650/20000; acc:  99.14; ppl:  1.04; xent: 0.03; lr: 1.00000; 12602/13108 tok/s;    477 sec\n",
            "[2022-06-27 21:58:38,569 INFO] Step 3700/20000; acc:  99.07; ppl:  1.04; xent: 0.04; lr: 1.00000; 12916/13458 tok/s;    483 sec\n",
            "[2022-06-27 21:58:44,941 INFO] Step 3750/20000; acc:  99.29; ppl:  1.03; xent: 0.03; lr: 1.00000; 12348/12871 tok/s;    489 sec\n",
            "[2022-06-27 21:58:48,253 INFO] Weighted corpora loaded so far:\n",
            "\t\t\t* corpus: 26\n",
            "[2022-06-27 21:58:51,045 INFO] Step 3800/20000; acc:  99.42; ppl:  1.03; xent: 0.03; lr: 1.00000; 12174/12721 tok/s;    496 sec\n",
            "[2022-06-27 21:58:57,704 INFO] Step 3850/20000; acc:  99.25; ppl:  1.03; xent: 0.03; lr: 1.00000; 12419/12922 tok/s;    502 sec\n",
            "[2022-06-27 21:59:04,206 INFO] Step 3900/20000; acc:  99.16; ppl:  1.04; xent: 0.04; lr: 1.00000; 12552/13066 tok/s;    509 sec\n",
            "[2022-06-27 21:59:10,581 INFO] Step 3950/20000; acc:  99.13; ppl:  1.04; xent: 0.04; lr: 1.00000; 12505/13024 tok/s;    515 sec\n",
            "[2022-06-27 21:59:12,798 INFO] Weighted corpora loaded so far:\n",
            "\t\t\t* corpus: 27\n",
            "[2022-06-27 21:59:16,722 INFO] Step 4000/20000; acc:  99.01; ppl:  1.05; xent: 0.05; lr: 1.00000; 12255/12800 tok/s;    521 sec\n",
            "[2022-06-27 21:59:21,224 INFO] Validation perplexity: 1.91745\n",
            "[2022-06-27 21:59:21,224 INFO] Validation accuracy: 93.9144\n",
            "[2022-06-27 21:59:27,486 INFO] Step 4050/20000; acc:  99.28; ppl:  1.03; xent: 0.03; lr: 1.00000; 7258/7564 tok/s;    532 sec\n",
            "[2022-06-27 21:59:33,460 INFO] Weighted corpora loaded so far:\n",
            "\t\t\t* corpus: 28\n",
            "[2022-06-27 21:59:34,169 INFO] Step 4100/20000; acc:  99.21; ppl:  1.03; xent: 0.03; lr: 1.00000; 12647/13150 tok/s;    539 sec\n",
            "[2022-06-27 21:59:40,364 INFO] Step 4150/20000; acc:  99.15; ppl:  1.04; xent: 0.04; lr: 1.00000; 12940/13482 tok/s;    545 sec\n",
            "[2022-06-27 21:59:46,550 INFO] Step 4200/20000; acc:  99.15; ppl:  1.04; xent: 0.04; lr: 1.00000; 12485/13018 tok/s;    551 sec\n",
            "[2022-06-27 21:59:52,725 INFO] Step 4250/20000; acc:  99.28; ppl:  1.03; xent: 0.03; lr: 1.00000; 12458/12995 tok/s;    557 sec\n",
            "[2022-06-27 21:59:57,680 INFO] Weighted corpora loaded so far:\n",
            "\t\t\t* corpus: 29\n",
            "[2022-06-27 21:59:59,461 INFO] Step 4300/20000; acc:  99.21; ppl:  1.04; xent: 0.04; lr: 1.00000; 12361/12862 tok/s;    564 sec\n",
            "[2022-06-27 22:00:05,558 INFO] Step 4350/20000; acc:  99.29; ppl:  1.03; xent: 0.03; lr: 1.00000; 12757/13307 tok/s;    570 sec\n",
            "[2022-06-27 22:00:12,340 INFO] Step 4400/20000; acc:  99.34; ppl:  1.03; xent: 0.03; lr: 1.00000; 12145/12633 tok/s;    577 sec\n",
            "[2022-06-27 22:00:14,210 INFO] Weighted corpora loaded so far:\n",
            "\t\t\t* corpus: 30\n",
            "[2022-06-27 22:00:18,491 INFO] Step 4450/20000; acc:  99.21; ppl:  1.04; xent: 0.04; lr: 1.00000; 12218/12755 tok/s;    583 sec\n",
            "[2022-06-27 22:00:24,709 INFO] Step 4500/20000; acc:  99.35; ppl:  1.04; xent: 0.04; lr: 1.00000; 12274/12807 tok/s;    589 sec\n",
            "[2022-06-27 22:00:30,596 INFO] Weighted corpora loaded so far:\n",
            "\t\t\t* corpus: 31\n",
            "[2022-06-27 22:00:31,578 INFO] Step 4550/20000; acc:  99.30; ppl:  1.03; xent: 0.03; lr: 1.00000; 12321/12816 tok/s;    596 sec\n",
            "[2022-06-27 22:00:37,959 INFO] Step 4600/20000; acc:  99.16; ppl:  1.04; xent: 0.04; lr: 1.00000; 12548/13071 tok/s;    602 sec\n",
            "[2022-06-27 22:00:44,134 INFO] Step 4650/20000; acc:  99.18; ppl:  1.04; xent: 0.04; lr: 1.00000; 12315/12852 tok/s;    609 sec\n",
            "[2022-06-27 22:00:50,557 INFO] Step 4700/20000; acc:  99.21; ppl:  1.04; xent: 0.04; lr: 1.00000; 12585/13105 tok/s;    615 sec\n",
            "[2022-06-27 22:00:55,176 INFO] Weighted corpora loaded so far:\n",
            "\t\t\t* corpus: 32\n",
            "[2022-06-27 22:00:57,168 INFO] Step 4750/20000; acc:  99.37; ppl:  1.03; xent: 0.03; lr: 1.00000; 11924/12425 tok/s;    622 sec\n",
            "[2022-06-27 22:01:04,015 INFO] Step 4800/20000; acc:  99.24; ppl:  1.04; xent: 0.03; lr: 1.00000; 11737/12229 tok/s;    629 sec\n",
            "[2022-06-27 22:01:10,569 INFO] Step 4850/20000; acc:  99.10; ppl:  1.04; xent: 0.04; lr: 1.00000; 12351/12857 tok/s;    635 sec\n",
            "[2022-06-27 22:01:12,203 INFO] Weighted corpora loaded so far:\n",
            "\t\t\t* corpus: 33\n",
            "[2022-06-27 22:01:16,858 INFO] Step 4900/20000; acc:  99.32; ppl:  1.03; xent: 0.03; lr: 1.00000; 12429/12957 tok/s;    641 sec\n",
            "[2022-06-27 22:01:22,912 INFO] Step 4950/20000; acc:  99.39; ppl:  1.03; xent: 0.03; lr: 1.00000; 12257/12805 tok/s;    647 sec\n",
            "[2022-06-27 22:01:29,702 INFO] Step 5000/20000; acc:  99.28; ppl:  1.04; xent: 0.04; lr: 1.00000; 12311/12807 tok/s;    654 sec\n",
            "[2022-06-27 22:01:34,210 INFO] Validation perplexity: 1.90131\n",
            "[2022-06-27 22:01:34,210 INFO] Validation accuracy: 94.4282\n",
            "[2022-06-27 22:01:34,212 INFO] Saving checkpoint ./saved_models/simple-lstm/final-model_step_5000.pt\n",
            "[2022-06-27 22:01:40,571 INFO] Step 5050/20000; acc:  99.22; ppl:  1.04; xent: 0.04; lr: 1.00000; 7581/7888 tok/s;    665 sec\n",
            "[2022-06-27 22:01:41,189 INFO] Weighted corpora loaded so far:\n",
            "\t\t\t* corpus: 34\n",
            "[2022-06-27 22:01:46,820 INFO] Step 5100/20000; acc:  99.31; ppl:  1.04; xent: 0.03; lr: 1.00000; 12281/12815 tok/s;    671 sec\n",
            "[2022-06-27 22:01:53,178 INFO] Step 5150/20000; acc:  99.37; ppl:  1.03; xent: 0.03; lr: 1.00000; 12207/12725 tok/s;    678 sec\n",
            "[2022-06-27 22:01:57,590 INFO] Weighted corpora loaded so far:\n",
            "\t\t\t* corpus: 35\n",
            "[2022-06-27 22:01:59,636 INFO] Step 5200/20000; acc:  99.43; ppl:  1.03; xent: 0.02; lr: 1.00000; 12153/12665 tok/s;    684 sec\n",
            "[2022-06-27 22:02:06,178 INFO] Step 5250/20000; acc:  99.28; ppl:  1.04; xent: 0.04; lr: 1.00000; 12393/12905 tok/s;    691 sec\n",
            "[2022-06-27 22:02:12,332 INFO] Step 5300/20000; acc:  99.26; ppl:  1.04; xent: 0.04; lr: 1.00000; 13100/13644 tok/s;    697 sec\n",
            "[2022-06-27 22:02:13,862 INFO] Weighted corpora loaded so far:\n",
            "\t\t\t* corpus: 36\n",
            "[2022-06-27 22:02:18,791 INFO] Step 5350/20000; acc:  99.17; ppl:  1.04; xent: 0.04; lr: 1.00000; 12292/12806 tok/s;    703 sec\n",
            "[2022-06-27 22:02:24,859 INFO] Step 5400/20000; acc:  99.41; ppl:  1.03; xent: 0.03; lr: 1.00000; 12140/12691 tok/s;    709 sec\n",
            "[2022-06-27 22:02:31,492 INFO] Step 5450/20000; acc:  99.25; ppl:  1.04; xent: 0.04; lr: 1.00000; 12428/12934 tok/s;    716 sec\n",
            "[2022-06-27 22:02:37,798 INFO] Step 5500/20000; acc:  99.25; ppl:  1.04; xent: 0.04; lr: 1.00000; 13091/13618 tok/s;    722 sec\n",
            "[2022-06-27 22:02:38,322 INFO] Weighted corpora loaded so far:\n",
            "\t\t\t* corpus: 37\n",
            "[2022-06-27 22:02:44,152 INFO] Step 5550/20000; acc:  99.28; ppl:  1.04; xent: 0.04; lr: 1.00000; 12364/12892 tok/s;    729 sec\n",
            "[2022-06-27 22:02:50,220 INFO] Step 5600/20000; acc:  99.35; ppl:  1.04; xent: 0.04; lr: 1.00000; 12452/12994 tok/s;    735 sec\n",
            "[2022-06-27 22:02:54,511 INFO] Weighted corpora loaded so far:\n",
            "\t\t\t* corpus: 38\n",
            "[2022-06-27 22:02:56,719 INFO] Step 5650/20000; acc:  99.43; ppl:  1.03; xent: 0.03; lr: 1.00000; 12147/12659 tok/s;    741 sec\n",
            "[2022-06-27 22:03:03,471 INFO] Step 5700/20000; acc:  99.31; ppl:  1.04; xent: 0.04; lr: 1.00000; 12411/12911 tok/s;    748 sec\n",
            "[2022-06-27 22:03:09,571 INFO] Step 5750/20000; acc:  99.32; ppl:  1.03; xent: 0.03; lr: 1.00000; 12977/13521 tok/s;    754 sec\n",
            "[2022-06-27 22:03:15,965 INFO] Step 5800/20000; acc:  99.29; ppl:  1.04; xent: 0.04; lr: 1.00000; 12263/12787 tok/s;    760 sec\n",
            "[2022-06-27 22:03:18,994 INFO] Weighted corpora loaded so far:\n",
            "\t\t\t* corpus: 39\n",
            "[2022-06-27 22:03:22,156 INFO] Step 5850/20000; acc:  99.44; ppl:  1.03; xent: 0.03; lr: 1.00000; 12402/12940 tok/s;    767 sec\n",
            "[2022-06-27 22:03:28,810 INFO] Step 5900/20000; acc:  99.24; ppl:  1.05; xent: 0.05; lr: 1.00000; 12435/12935 tok/s;    773 sec\n",
            "[2022-06-27 22:03:34,797 INFO] Step 5950/20000; acc:  99.30; ppl:  1.04; xent: 0.04; lr: 1.00000; 13228/13782 tok/s;    779 sec\n",
            "[2022-06-27 22:03:35,074 INFO] Weighted corpora loaded so far:\n",
            "\t\t\t* corpus: 40\n",
            "[2022-06-27 22:03:41,077 INFO] Step 6000/20000; acc:  99.31; ppl:  1.04; xent: 0.04; lr: 1.00000; 12830/13358 tok/s;    786 sec\n",
            "[2022-06-27 22:03:45,486 INFO] Validation perplexity: 2.06198\n",
            "[2022-06-27 22:03:45,486 INFO] Validation accuracy: 94.2465\n",
            "[2022-06-27 22:03:51,476 INFO] Step 6050/20000; acc:  99.25; ppl:  1.05; xent: 0.05; lr: 1.00000; 7264/7584 tok/s;    796 sec\n",
            "[2022-06-27 22:03:55,318 INFO] Weighted corpora loaded so far:\n",
            "\t\t\t* corpus: 41\n",
            "[2022-06-27 22:03:57,721 INFO] Step 6100/20000; acc:  99.32; ppl:  1.03; xent: 0.03; lr: 1.00000; 12469/13002 tok/s;    802 sec\n",
            "[2022-06-27 22:04:04,281 INFO] Step 6150/20000; acc:  99.24; ppl:  1.04; xent: 0.04; lr: 1.00000; 12765/13282 tok/s;    809 sec\n",
            "[2022-06-27 22:04:10,820 INFO] Step 6200/20000; acc:  99.18; ppl:  1.05; xent: 0.05; lr: 1.00000; 12103/12610 tok/s;    815 sec\n",
            "[2022-06-27 22:04:17,108 INFO] Step 6250/20000; acc:  99.27; ppl:  1.04; xent: 0.04; lr: 1.00000; 12254/12782 tok/s;    822 sec\n",
            "[2022-06-27 22:04:20,005 INFO] Weighted corpora loaded so far:\n",
            "\t\t\t* corpus: 42\n",
            "[2022-06-27 22:04:23,529 INFO] Step 6300/20000; acc:  99.35; ppl:  1.03; xent: 0.03; lr: 1.00000; 12540/13065 tok/s;    828 sec\n",
            "[2022-06-27 22:04:29,897 INFO] Step 6350/20000; acc:  99.55; ppl:  1.02; xent: 0.02; lr: 1.00000; 12317/12833 tok/s;    834 sec\n",
            "[2022-06-27 22:04:35,971 INFO] Step 6400/20000; acc:  99.33; ppl:  1.03; xent: 0.03; lr: 1.00000; 13429/13979 tok/s;    840 sec\n",
            "[2022-06-27 22:04:35,985 INFO] Weighted corpora loaded so far:\n",
            "\t\t\t* corpus: 43\n",
            "[2022-06-27 22:04:42,355 INFO] Step 6450/20000; acc:  99.36; ppl:  1.03; xent: 0.03; lr: 1.00000; 12631/13154 tok/s;    847 sec\n",
            "[2022-06-27 22:04:48,568 INFO] Step 6500/20000; acc:  99.43; ppl:  1.03; xent: 0.03; lr: 1.00000; 12407/12942 tok/s;    853 sec\n",
            "[2022-06-27 22:04:54,506 INFO] Step 6550/20000; acc:  99.53; ppl:  1.02; xent: 0.02; lr: 1.00000; 12516/13077 tok/s;    859 sec\n",
            "[2022-06-27 22:05:00,029 INFO] Weighted corpora loaded so far:\n",
            "\t\t\t* corpus: 44\n",
            "[2022-06-27 22:05:01,195 INFO] Step 6600/20000; acc:  99.31; ppl:  1.03; xent: 0.03; lr: 1.00000; 12582/13082 tok/s;    866 sec\n",
            "[2022-06-27 22:05:07,482 INFO] Step 6650/20000; acc:  99.31; ppl:  1.04; xent: 0.04; lr: 1.00000; 12956/13492 tok/s;    872 sec\n",
            "[2022-06-27 22:05:13,692 INFO] Step 6700/20000; acc:  99.36; ppl:  1.03; xent: 0.03; lr: 1.00000; 12600/13133 tok/s;    878 sec\n",
            "[2022-06-27 22:05:16,107 INFO] Weighted corpora loaded so far:\n",
            "\t\t\t* corpus: 45\n",
            "[2022-06-27 22:05:19,908 INFO] Step 6750/20000; acc:  99.44; ppl:  1.03; xent: 0.03; lr: 1.00000; 12425/12958 tok/s;    884 sec\n",
            "[2022-06-27 22:05:26,086 INFO] Step 6800/20000; acc:  99.57; ppl:  1.02; xent: 0.02; lr: 1.00000; 12483/13020 tok/s;    891 sec\n",
            "[2022-06-27 22:05:32,082 INFO] Weighted corpora loaded so far:\n",
            "\t\t\t* corpus: 46\n",
            "[2022-06-27 22:05:32,574 INFO] Step 6850/20000; acc:  99.49; ppl:  1.02; xent: 0.02; lr: 1.00000; 12844/13360 tok/s;    897 sec\n",
            "[2022-06-27 22:05:38,758 INFO] Step 6900/20000; acc:  99.38; ppl:  1.03; xent: 0.03; lr: 1.00000; 12957/13500 tok/s;    903 sec\n",
            "[2022-06-27 22:05:44,989 INFO] Step 6950/20000; acc:  99.39; ppl:  1.04; xent: 0.04; lr: 1.00000; 12564/13095 tok/s;    910 sec\n",
            "[2022-06-27 22:05:50,818 INFO] Step 7000/20000; acc:  99.25; ppl:  1.05; xent: 0.05; lr: 1.00000; 12711/13281 tok/s;    915 sec\n",
            "[2022-06-27 22:05:55,407 INFO] Validation perplexity: 2.15503\n",
            "[2022-06-27 22:05:55,407 INFO] Validation accuracy: 93.5222\n",
            "[2022-06-27 22:06:00,832 INFO] Weighted corpora loaded so far:\n",
            "\t\t\t* corpus: 47\n",
            "[2022-06-27 22:06:02,159 INFO] Step 7050/20000; acc:  99.17; ppl:  1.04; xent: 0.04; lr: 1.00000; 7309/7603 tok/s;    927 sec\n",
            "[2022-06-27 22:06:08,187 INFO] Step 7100/20000; acc:  99.19; ppl:  1.05; xent: 0.04; lr: 1.00000; 13527/14088 tok/s;    933 sec\n",
            "[2022-06-27 22:06:14,434 INFO] Step 7150/20000; acc:  99.20; ppl:  1.04; xent: 0.04; lr: 1.00000; 12744/13274 tok/s;    939 sec\n",
            "[2022-06-27 22:06:16,661 INFO] Weighted corpora loaded so far:\n",
            "\t\t\t* corpus: 48\n",
            "[2022-06-27 22:06:20,436 INFO] Step 7200/20000; acc:  99.23; ppl:  1.04; xent: 0.04; lr: 1.00000; 12633/13186 tok/s;    945 sec\n",
            "[2022-06-27 22:06:26,594 INFO] Step 7250/20000; acc:  99.42; ppl:  1.03; xent: 0.03; lr: 1.00000; 12652/13189 tok/s;    951 sec\n",
            "[2022-06-27 22:06:33,163 INFO] Step 7300/20000; acc:  99.38; ppl:  1.03; xent: 0.03; lr: 1.00000; 12697/13213 tok/s;    958 sec\n",
            "[2022-06-27 22:06:39,344 INFO] Step 7350/20000; acc:  99.42; ppl:  1.03; xent: 0.03; lr: 1.00000; 12970/13509 tok/s;    964 sec\n",
            "[2022-06-27 22:06:40,533 INFO] Weighted corpora loaded so far:\n",
            "\t\t\t* corpus: 49\n",
            "[2022-06-27 22:06:45,465 INFO] Step 7400/20000; acc:  99.31; ppl:  1.03; xent: 0.03; lr: 1.00000; 12702/13243 tok/s;    970 sec\n",
            "[2022-06-27 22:06:51,543 INFO] Step 7450/20000; acc:  99.38; ppl:  1.03; xent: 0.03; lr: 1.00000; 12717/13263 tok/s;    976 sec\n",
            "[2022-06-27 22:06:56,559 INFO] Weighted corpora loaded so far:\n",
            "\t\t\t* corpus: 50\n",
            "[2022-06-27 22:06:58,304 INFO] Step 7500/20000; acc:  99.23; ppl:  1.04; xent: 0.04; lr: 1.00000; 12332/12826 tok/s;    983 sec\n",
            "[2022-06-27 22:07:04,162 INFO] Step 7550/20000; acc:  99.32; ppl:  1.04; xent: 0.04; lr: 1.00000; 13135/13707 tok/s;    989 sec\n",
            "[2022-06-27 22:07:10,754 INFO] Step 7600/20000; acc:  99.16; ppl:  1.05; xent: 0.04; lr: 1.00000; 12509/13013 tok/s;    995 sec\n",
            "[2022-06-27 22:07:12,646 INFO] Weighted corpora loaded so far:\n",
            "\t\t\t* corpus: 51\n",
            "[2022-06-27 22:07:16,776 INFO] Step 7650/20000; acc:  99.35; ppl:  1.04; xent: 0.04; lr: 1.00000; 12629/13178 tok/s;   1001 sec\n",
            "[2022-06-27 22:07:22,866 INFO] Step 7700/20000; acc:  99.35; ppl:  1.04; xent: 0.04; lr: 1.00000; 12582/13133 tok/s;   1007 sec\n",
            "[2022-06-27 22:07:29,468 INFO] Step 7750/20000; acc:  99.21; ppl:  1.05; xent: 0.05; lr: 1.00000; 12684/13196 tok/s;   1014 sec\n",
            "[2022-06-27 22:07:35,708 INFO] Step 7800/20000; acc:  99.15; ppl:  1.04; xent: 0.04; lr: 1.00000; 12855/13384 tok/s;   1020 sec\n",
            "[2022-06-27 22:07:36,598 INFO] Weighted corpora loaded so far:\n",
            "\t\t\t* corpus: 52\n",
            "[2022-06-27 22:07:41,676 INFO] Step 7850/20000; acc:  99.26; ppl:  1.04; xent: 0.04; lr: 1.00000; 12747/13306 tok/s;   1026 sec\n",
            "[2022-06-27 22:07:48,064 INFO] Step 7900/20000; acc:  99.30; ppl:  1.04; xent: 0.04; lr: 1.00000; 12620/13141 tok/s;   1033 sec\n",
            "[2022-06-27 22:07:52,465 INFO] Weighted corpora loaded so far:\n",
            "\t\t\t* corpus: 53\n",
            "[2022-06-27 22:07:54,331 INFO] Step 7950/20000; acc:  99.40; ppl:  1.03; xent: 0.03; lr: 1.00000; 12641/13171 tok/s;   1039 sec\n",
            "[2022-06-27 22:08:00,917 INFO] Step 8000/20000; acc:  99.22; ppl:  1.04; xent: 0.04; lr: 1.00000; 12215/12725 tok/s;   1045 sec\n",
            "[2022-06-27 22:08:05,576 INFO] Validation perplexity: 2.32732\n",
            "[2022-06-27 22:08:05,576 INFO] Validation accuracy: 93.7061\n",
            "[2022-06-27 22:08:12,007 INFO] Step 8050/20000; acc:  99.32; ppl:  1.03; xent: 0.03; lr: 1.00000; 7234/7533 tok/s;   1057 sec\n",
            "[2022-06-27 22:08:13,557 INFO] Weighted corpora loaded so far:\n",
            "\t\t\t* corpus: 54\n",
            "[2022-06-27 22:08:18,134 INFO] Step 8100/20000; acc:  99.27; ppl:  1.04; xent: 0.04; lr: 1.00000; 12735/13282 tok/s;   1063 sec\n",
            "[2022-06-27 22:08:24,047 INFO] Step 8150/20000; acc:  99.55; ppl:  1.02; xent: 0.02; lr: 1.00000; 12556/13118 tok/s;   1069 sec\n",
            "[2022-06-27 22:08:30,590 INFO] Step 8200/20000; acc:  99.25; ppl:  1.04; xent: 0.04; lr: 1.00000; 12811/13325 tok/s;   1075 sec\n",
            "[2022-06-27 22:08:36,843 INFO] Step 8250/20000; acc:  99.28; ppl:  1.04; xent: 0.04; lr: 1.00000; 13256/13783 tok/s;   1081 sec\n",
            "[2022-06-27 22:08:37,476 INFO] Weighted corpora loaded so far:\n",
            "\t\t\t* corpus: 55\n",
            "[2022-06-27 22:08:43,006 INFO] Step 8300/20000; acc:  99.23; ppl:  1.05; xent: 0.05; lr: 1.00000; 12383/12923 tok/s;   1088 sec\n",
            "[2022-06-27 22:08:49,226 INFO] Step 8350/20000; acc:  99.09; ppl:  1.05; xent: 0.05; lr: 1.00000; 12433/12968 tok/s;   1094 sec\n",
            "[2022-06-27 22:08:53,506 INFO] Weighted corpora loaded so far:\n",
            "\t\t\t* corpus: 56\n",
            "[2022-06-27 22:08:55,404 INFO] Step 8400/20000; acc:  99.41; ppl:  1.03; xent: 0.03; lr: 1.00000; 12823/13356 tok/s;   1100 sec\n",
            "[2022-06-27 22:09:02,032 INFO] Step 8450/20000; acc:  99.13; ppl:  1.05; xent: 0.05; lr: 1.00000; 12400/12910 tok/s;   1107 sec\n",
            "[2022-06-27 22:09:08,229 INFO] Step 8500/20000; acc:  99.21; ppl:  1.04; xent: 0.04; lr: 1.00000; 12798/13338 tok/s;   1113 sec\n",
            "[2022-06-27 22:09:14,519 INFO] Step 8550/20000; acc:  99.23; ppl:  1.04; xent: 0.04; lr: 1.00000; 12627/13155 tok/s;   1119 sec\n",
            "[2022-06-27 22:09:17,646 INFO] Weighted corpora loaded so far:\n",
            "\t\t\t* corpus: 57\n",
            "[2022-06-27 22:09:20,471 INFO] Step 8600/20000; acc:  99.52; ppl:  1.03; xent: 0.03; lr: 1.00000; 12411/12974 tok/s;   1125 sec\n",
            "[2022-06-27 22:09:26,957 INFO] Step 8650/20000; acc:  99.32; ppl:  1.04; xent: 0.04; lr: 1.00000; 12649/13164 tok/s;   1131 sec\n",
            "[2022-06-27 22:09:33,432 INFO] Step 8700/20000; acc:  99.31; ppl:  1.04; xent: 0.04; lr: 1.00000; 12790/13302 tok/s;   1138 sec\n",
            "[2022-06-27 22:09:33,895 INFO] Weighted corpora loaded so far:\n",
            "\t\t\t* corpus: 58\n",
            "[2022-06-27 22:09:39,879 INFO] Step 8750/20000; acc:  99.27; ppl:  1.04; xent: 0.04; lr: 1.00000; 12241/12758 tok/s;   1144 sec\n",
            "[2022-06-27 22:09:45,795 INFO] Step 8800/20000; acc:  99.36; ppl:  1.04; xent: 0.03; lr: 1.00000; 12683/13241 tok/s;   1150 sec\n",
            "[2022-06-27 22:09:49,965 INFO] Weighted corpora loaded so far:\n",
            "\t\t\t* corpus: 59\n",
            "[2022-06-27 22:09:52,008 INFO] Step 8850/20000; acc:  99.48; ppl:  1.02; xent: 0.02; lr: 1.00000; 12657/13195 tok/s;   1157 sec\n",
            "[2022-06-27 22:09:58,688 INFO] Step 8900/20000; acc:  99.34; ppl:  1.04; xent: 0.04; lr: 1.00000; 12559/13062 tok/s;   1163 sec\n",
            "[2022-06-27 22:10:04,759 INFO] Step 8950/20000; acc:  99.18; ppl:  1.05; xent: 0.05; lr: 1.00000; 13104/13657 tok/s;   1169 sec\n",
            "[2022-06-27 22:10:10,961 INFO] Step 9000/20000; acc:  99.23; ppl:  1.04; xent: 0.04; lr: 1.00000; 12667/13199 tok/s;   1175 sec\n",
            "[2022-06-27 22:10:15,438 INFO] Validation perplexity: 2.46745\n",
            "[2022-06-27 22:10:15,438 INFO] Validation accuracy: 93.3183\n",
            "[2022-06-27 22:10:18,430 INFO] Weighted corpora loaded so far:\n",
            "\t\t\t* corpus: 60\n",
            "[2022-06-27 22:10:21,547 INFO] Step 9050/20000; acc:  99.48; ppl:  1.03; xent: 0.03; lr: 1.00000; 7241/7554 tok/s;   1186 sec\n",
            "[2022-06-27 22:10:28,103 INFO] Step 9100/20000; acc:  99.35; ppl:  1.04; xent: 0.04; lr: 1.00000; 12504/13018 tok/s;   1193 sec\n",
            "[2022-06-27 22:10:34,191 INFO] Step 9150/20000; acc:  99.36; ppl:  1.04; xent: 0.04; lr: 1.00000; 13114/13658 tok/s;   1199 sec\n",
            "[2022-06-27 22:10:34,482 INFO] Weighted corpora loaded so far:\n",
            "\t\t\t* corpus: 61\n",
            "[2022-06-27 22:10:40,482 INFO] Step 9200/20000; acc:  99.21; ppl:  1.05; xent: 0.05; lr: 1.00000; 13027/13557 tok/s;   1205 sec\n",
            "[2022-06-27 22:10:46,453 INFO] Step 9250/20000; acc:  99.19; ppl:  1.04; xent: 0.04; lr: 1.00000; 12521/13080 tok/s;   1211 sec\n",
            "[2022-06-27 22:10:52,480 INFO] Step 9300/20000; acc:  99.28; ppl:  1.04; xent: 0.04; lr: 1.00000; 12742/13294 tok/s;   1217 sec\n",
            "[2022-06-27 22:10:58,071 INFO] Weighted corpora loaded so far:\n",
            "\t\t\t* corpus: 62\n",
            "[2022-06-27 22:10:59,133 INFO] Step 9350/20000; acc:  99.20; ppl:  1.05; xent: 0.05; lr: 1.00000; 12688/13194 tok/s;   1224 sec\n",
            "[2022-06-27 22:11:05,248 INFO] Step 9400/20000; acc:  99.22; ppl:  1.05; xent: 0.05; lr: 1.00000; 12936/13483 tok/s;   1230 sec\n",
            "[2022-06-27 22:11:12,169 INFO] Step 9450/20000; acc:  99.15; ppl:  1.05; xent: 0.05; lr: 1.00000; 11103/11581 tok/s;   1237 sec\n",
            "[2022-06-27 22:11:14,954 INFO] Weighted corpora loaded so far:\n",
            "\t\t\t* corpus: 63\n",
            "[2022-06-27 22:11:18,558 INFO] Step 9500/20000; acc:  99.29; ppl:  1.05; xent: 0.05; lr: 1.00000; 12662/13182 tok/s;   1243 sec\n",
            "[2022-06-27 22:11:24,737 INFO] Step 9550/20000; acc:  99.36; ppl:  1.03; xent: 0.03; lr: 1.00000; 12642/13178 tok/s;   1249 sec\n",
            "[2022-06-27 22:11:30,888 INFO] Step 9600/20000; acc:  99.36; ppl:  1.03; xent: 0.03; lr: 1.00000; 13133/13681 tok/s;   1255 sec\n",
            "[2022-06-27 22:11:30,909 INFO] Weighted corpora loaded so far:\n",
            "\t\t\t* corpus: 64\n",
            "[2022-06-27 22:11:37,341 INFO] Step 9650/20000; acc:  99.14; ppl:  1.05; xent: 0.05; lr: 1.00000; 12554/13071 tok/s;   1262 sec\n",
            "[2022-06-27 22:11:43,487 INFO] Step 9700/20000; acc:  99.13; ppl:  1.05; xent: 0.05; lr: 1.00000; 12594/13135 tok/s;   1268 sec\n",
            "[2022-06-27 22:11:49,368 INFO] Step 9750/20000; acc:  99.43; ppl:  1.03; xent: 0.03; lr: 1.00000; 12685/13248 tok/s;   1274 sec\n",
            "[2022-06-27 22:11:54,854 INFO] Weighted corpora loaded so far:\n",
            "\t\t\t* corpus: 65\n",
            "[2022-06-27 22:11:56,028 INFO] Step 9800/20000; acc:  99.13; ppl:  1.05; xent: 0.05; lr: 1.00000; 12686/13186 tok/s;   1281 sec\n",
            "[2022-06-27 22:12:02,068 INFO] Step 9850/20000; acc:  99.16; ppl:  1.05; xent: 0.05; lr: 1.00000; 13306/13864 tok/s;   1287 sec\n",
            "[2022-06-27 22:12:08,176 INFO] Step 9900/20000; acc:  99.21; ppl:  1.04; xent: 0.04; lr: 1.00000; 12827/13369 tok/s;   1293 sec\n",
            "[2022-06-27 22:12:10,617 INFO] Weighted corpora loaded so far:\n",
            "\t\t\t* corpus: 66\n",
            "[2022-06-27 22:12:14,397 INFO] Step 9950/20000; acc:  99.18; ppl:  1.04; xent: 0.04; lr: 1.00000; 12611/13141 tok/s;   1299 sec\n",
            "[2022-06-27 22:12:20,520 INFO] Step 10000/20000; acc:  99.40; ppl:  1.03; xent: 0.03; lr: 1.00000; 12724/13273 tok/s;   1305 sec\n",
            "[2022-06-27 22:12:24,984 INFO] Validation perplexity: 2.27835\n",
            "[2022-06-27 22:12:24,985 INFO] Validation accuracy: 93.5445\n",
            "[2022-06-27 22:12:24,986 INFO] Saving checkpoint ./saved_models/simple-lstm/final-model_step_10000.pt\n",
            "[2022-06-27 22:12:31,346 INFO] Step 10050/20000; acc:  99.20; ppl:  1.04; xent: 0.04; lr: 1.00000; 7519/7829 tok/s;   1316 sec\n",
            "[2022-06-27 22:12:37,548 INFO] Step 10100/20000; acc:  99.19; ppl:  1.05; xent: 0.04; lr: 1.00000; 13012/13551 tok/s;   1322 sec\n",
            "[2022-06-27 22:12:38,933 INFO] Weighted corpora loaded so far:\n",
            "\t\t\t* corpus: 67\n",
            "[2022-06-27 22:12:43,769 INFO] Step 10150/20000; acc:  99.11; ppl:  1.05; xent: 0.05; lr: 1.00000; 12614/13150 tok/s;   1328 sec\n",
            "[2022-06-27 22:12:49,598 INFO] Step 10200/20000; acc:  99.34; ppl:  1.03; xent: 0.03; lr: 1.00000; 12661/13226 tok/s;   1334 sec\n",
            "[2022-06-27 22:12:54,781 INFO] Weighted corpora loaded so far:\n",
            "\t\t\t* corpus: 68\n",
            "[2022-06-27 22:12:56,062 INFO] Step 10250/20000; acc:  99.24; ppl:  1.05; xent: 0.04; lr: 1.00000; 12839/13355 tok/s;   1341 sec\n",
            "[2022-06-27 22:13:02,237 INFO] Step 10300/20000; acc:  99.16; ppl:  1.05; xent: 0.05; lr: 1.00000; 13207/13752 tok/s;   1347 sec\n",
            "[2022-06-27 22:13:08,444 INFO] Step 10350/20000; acc:  99.00; ppl:  1.06; xent: 0.06; lr: 1.00000; 12703/13239 tok/s;   1353 sec\n",
            "[2022-06-27 22:13:10,565 INFO] Weighted corpora loaded so far:\n",
            "\t\t\t* corpus: 69\n",
            "[2022-06-27 22:13:14,351 INFO] Step 10400/20000; acc:  99.10; ppl:  1.05; xent: 0.05; lr: 1.00000; 12834/13400 tok/s;   1359 sec\n",
            "[2022-06-27 22:13:20,269 INFO] Step 10450/20000; acc:  99.20; ppl:  1.04; xent: 0.04; lr: 1.00000; 13240/13801 tok/s;   1365 sec\n",
            "[2022-06-27 22:13:26,755 INFO] Step 10500/20000; acc:  99.08; ppl:  1.05; xent: 0.05; lr: 1.00000; 12871/13390 tok/s;   1371 sec\n",
            "[2022-06-27 22:13:32,847 INFO] Step 10550/20000; acc:  98.85; ppl:  1.06; xent: 0.06; lr: 1.00000; 13275/13816 tok/s;   1377 sec\n",
            "[2022-06-27 22:13:34,027 INFO] Weighted corpora loaded so far:\n",
            "\t\t\t* corpus: 70\n",
            "[2022-06-27 22:13:38,886 INFO] Step 10600/20000; acc:  98.95; ppl:  1.07; xent: 0.07; lr: 1.00000; 12788/13341 tok/s;   1383 sec\n",
            "[2022-06-27 22:13:44,935 INFO] Step 10650/20000; acc:  98.90; ppl:  1.08; xent: 0.08; lr: 1.00000; 12692/13238 tok/s;   1389 sec\n",
            "[2022-06-27 22:13:49,756 INFO] Weighted corpora loaded so far:\n",
            "\t\t\t* corpus: 71\n",
            "[2022-06-27 22:13:51,551 INFO] Step 10700/20000; acc:  98.83; ppl:  1.07; xent: 0.07; lr: 1.00000; 12683/13188 tok/s;   1396 sec\n",
            "[2022-06-27 22:13:57,474 INFO] Step 10750/20000; acc:  98.80; ppl:  1.07; xent: 0.07; lr: 1.00000; 13287/13858 tok/s;   1402 sec\n",
            "[2022-06-27 22:14:03,785 INFO] Step 10800/20000; acc:  98.83; ppl:  1.07; xent: 0.07; lr: 1.00000; 12806/13328 tok/s;   1408 sec\n",
            "[2022-06-27 22:14:09,726 INFO] Step 10850/20000; acc:  98.81; ppl:  1.07; xent: 0.07; lr: 1.00000; 12771/13336 tok/s;   1414 sec\n",
            "[2022-06-27 22:14:13,512 INFO] Weighted corpora loaded so far:\n",
            "\t\t\t* corpus: 72\n",
            "[2022-06-27 22:14:15,823 INFO] Step 10900/20000; acc:  99.09; ppl:  1.05; xent: 0.05; lr: 1.00000; 12637/13184 tok/s;   1420 sec\n",
            "[2022-06-27 22:14:22,311 INFO] Step 10950/20000; acc:  98.96; ppl:  1.06; xent: 0.06; lr: 1.00000; 12852/13372 tok/s;   1427 sec\n",
            "[2022-06-27 22:14:28,327 INFO] Step 11000/20000; acc:  98.82; ppl:  1.07; xent: 0.06; lr: 1.00000; 13318/13865 tok/s;   1433 sec\n",
            "[2022-06-27 22:14:32,692 INFO] Validation perplexity: 2.27337\n",
            "[2022-06-27 22:14:32,692 INFO] Validation accuracy: 93.3907\n",
            "[2022-06-27 22:14:33,620 INFO] Weighted corpora loaded so far:\n",
            "\t\t\t* corpus: 73\n",
            "[2022-06-27 22:14:38,623 INFO] Step 11050/20000; acc:  98.77; ppl:  1.07; xent: 0.07; lr: 1.00000; 7398/7718 tok/s;   1443 sec\n",
            "[2022-06-27 22:14:45,483 INFO] Step 11100/20000; acc:  98.96; ppl:  1.07; xent: 0.06; lr: 1.00000; 11701/12190 tok/s;   1450 sec\n",
            "[2022-06-27 22:14:49,868 INFO] Weighted corpora loaded so far:\n",
            "\t\t\t* corpus: 74\n",
            "[2022-06-27 22:14:51,616 INFO] Step 11150/20000; acc:  99.25; ppl:  1.04; xent: 0.04; lr: 1.00000; 12915/13459 tok/s;   1456 sec\n",
            "[2022-06-27 22:14:57,672 INFO] Step 11200/20000; acc:  98.91; ppl:  1.06; xent: 0.06; lr: 1.00000; 13381/13937 tok/s;   1462 sec\n",
            "[2022-06-27 22:15:04,029 INFO] Step 11250/20000; acc:  98.85; ppl:  1.07; xent: 0.07; lr: 1.00000; 12571/13094 tok/s;   1469 sec\n",
            "[2022-06-27 22:15:10,031 INFO] Step 11300/20000; acc:  98.97; ppl:  1.06; xent: 0.06; lr: 1.00000; 13041/13592 tok/s;   1475 sec\n",
            "[2022-06-27 22:15:13,361 INFO] Weighted corpora loaded so far:\n",
            "\t\t\t* corpus: 75\n",
            "[2022-06-27 22:15:15,890 INFO] Step 11350/20000; acc:  99.30; ppl:  1.04; xent: 0.04; lr: 1.00000; 12693/13260 tok/s;   1480 sec\n",
            "[2022-06-27 22:15:22,330 INFO] Step 11400/20000; acc:  99.03; ppl:  1.06; xent: 0.06; lr: 1.00000; 12953/13477 tok/s;   1487 sec\n",
            "[2022-06-27 22:15:28,364 INFO] Step 11450/20000; acc:  98.81; ppl:  1.07; xent: 0.07; lr: 1.00000; 13699/14247 tok/s;   1493 sec\n",
            "[2022-06-27 22:15:29,026 INFO] Weighted corpora loaded so far:\n",
            "\t\t\t* corpus: 76\n",
            "[2022-06-27 22:15:34,539 INFO] Step 11500/20000; acc:  98.84; ppl:  1.07; xent: 0.07; lr: 1.00000; 12611/13153 tok/s;   1499 sec\n",
            "[2022-06-27 22:15:40,578 INFO] Step 11550/20000; acc:  98.82; ppl:  1.07; xent: 0.07; lr: 1.00000; 12764/13311 tok/s;   1505 sec\n",
            "[2022-06-27 22:15:46,598 INFO] Step 11600/20000; acc:  99.17; ppl:  1.04; xent: 0.04; lr: 1.00000; 12928/13482 tok/s;   1511 sec\n",
            "[2022-06-27 22:15:52,455 INFO] Weighted corpora loaded so far:\n",
            "\t\t\t* corpus: 77\n",
            "[2022-06-27 22:15:52,891 INFO] Step 11650/20000; acc:  98.68; ppl:  1.09; xent: 0.08; lr: 1.00000; 13161/13697 tok/s;   1517 sec\n",
            "[2022-06-27 22:15:58,879 INFO] Step 11700/20000; acc:  98.78; ppl:  1.08; xent: 0.07; lr: 1.00000; 13217/13775 tok/s;   1523 sec\n",
            "[2022-06-27 22:16:04,993 INFO] Step 11750/20000; acc:  98.54; ppl:  1.09; xent: 0.08; lr: 1.00000; 12947/13488 tok/s;   1530 sec\n",
            "[2022-06-27 22:16:08,044 INFO] Weighted corpora loaded so far:\n",
            "\t\t\t* corpus: 78\n",
            "[2022-06-27 22:16:10,706 INFO] Step 11800/20000; acc:  99.00; ppl:  1.05; xent: 0.05; lr: 1.00000; 12963/13540 tok/s;   1535 sec\n",
            "[2022-06-27 22:16:17,099 INFO] Step 11850/20000; acc:  98.04; ppl:  1.14; xent: 0.13; lr: 1.00000; 12803/13326 tok/s;   1542 sec\n",
            "[2022-06-27 22:16:23,216 INFO] Step 11900/20000; acc:  98.31; ppl:  1.10; xent: 0.10; lr: 1.00000; 13473/14022 tok/s;   1548 sec\n",
            "[2022-06-27 22:16:23,676 INFO] Weighted corpora loaded so far:\n",
            "\t\t\t* corpus: 79\n",
            "[2022-06-27 22:16:29,383 INFO] Step 11950/20000; acc:  98.31; ppl:  1.11; xent: 0.10; lr: 1.00000; 12910/13454 tok/s;   1554 sec\n",
            "[2022-06-27 22:16:35,139 INFO] Step 12000/20000; acc:  98.13; ppl:  1.13; xent: 0.12; lr: 1.00000; 13066/13643 tok/s;   1560 sec\n",
            "[2022-06-27 22:16:39,586 INFO] Validation perplexity: 2.67066\n",
            "[2022-06-27 22:16:39,586 INFO] Validation accuracy: 92.6641\n",
            "[2022-06-27 22:16:45,749 INFO] Step 12050/20000; acc:  98.80; ppl:  1.07; xent: 0.07; lr: 1.00000; 7377/7689 tok/s;   1570 sec\n",
            "[2022-06-27 22:16:51,459 INFO] Weighted corpora loaded so far:\n",
            "\t\t\t* corpus: 80\n",
            "[2022-06-27 22:16:52,167 INFO] Step 12100/20000; acc:  98.68; ppl:  1.09; xent: 0.08; lr: 1.00000; 13116/13637 tok/s;   1577 sec\n",
            "[2022-06-27 22:16:58,135 INFO] Step 12150/20000; acc:  98.45; ppl:  1.10; xent: 0.09; lr: 1.00000; 13307/13869 tok/s;   1583 sec\n",
            "[2022-06-27 22:17:04,299 INFO] Step 12200/20000; acc:  98.51; ppl:  1.09; xent: 0.08; lr: 1.00000; 12706/13244 tok/s;   1589 sec\n",
            "[2022-06-27 22:17:07,173 INFO] Weighted corpora loaded so far:\n",
            "\t\t\t* corpus: 81\n",
            "[2022-06-27 22:17:10,236 INFO] Step 12250/20000; acc:  98.96; ppl:  1.06; xent: 0.06; lr: 1.00000; 13039/13598 tok/s;   1595 sec\n",
            "[2022-06-27 22:17:16,563 INFO] Step 12300/20000; acc:  98.64; ppl:  1.08; xent: 0.08; lr: 1.00000; 13092/13621 tok/s;   1601 sec\n",
            "[2022-06-27 22:17:22,417 INFO] Step 12350/20000; acc:  98.77; ppl:  1.07; xent: 0.07; lr: 1.00000; 13294/13866 tok/s;   1607 sec\n",
            "[2022-06-27 22:17:28,623 INFO] Step 12400/20000; acc:  98.51; ppl:  1.09; xent: 0.09; lr: 1.00000; 13267/13806 tok/s;   1613 sec\n",
            "[2022-06-27 22:17:30,369 INFO] Weighted corpora loaded so far:\n",
            "\t\t\t* corpus: 82\n",
            "[2022-06-27 22:17:34,444 INFO] Step 12450/20000; acc:  98.63; ppl:  1.08; xent: 0.08; lr: 1.00000; 12882/13456 tok/s;   1619 sec\n",
            "[2022-06-27 22:17:40,473 INFO] Step 12500/20000; acc:  99.04; ppl:  1.06; xent: 0.06; lr: 1.00000; 12721/13268 tok/s;   1625 sec\n",
            "[2022-06-27 22:17:45,960 INFO] Weighted corpora loaded so far:\n",
            "\t\t\t* corpus: 83\n",
            "[2022-06-27 22:17:46,922 INFO] Step 12550/20000; acc:  98.58; ppl:  1.09; xent: 0.09; lr: 1.00000; 13109/13626 tok/s;   1631 sec\n",
            "[2022-06-27 22:17:52,639 INFO] Step 12600/20000; acc:  98.56; ppl:  1.10; xent: 0.10; lr: 1.00000; 13782/14365 tok/s;   1637 sec\n",
            "[2022-06-27 22:17:58,563 INFO] Step 12650/20000; acc:  98.16; ppl:  1.12; xent: 0.11; lr: 1.00000; 12936/13495 tok/s;   1643 sec\n",
            "[2022-06-27 22:18:01,438 INFO] Weighted corpora loaded so far:\n",
            "\t\t\t* corpus: 84\n",
            "[2022-06-27 22:18:05,077 INFO] Step 12700/20000; acc:  98.45; ppl:  1.10; xent: 0.10; lr: 1.00000; 12496/13010 tok/s;   1650 sec\n",
            "[2022-06-27 22:18:11,263 INFO] Step 12750/20000; acc:  98.72; ppl:  1.07; xent: 0.07; lr: 1.00000; 12698/13238 tok/s;   1656 sec\n",
            "[2022-06-27 22:18:17,392 INFO] Step 12800/20000; acc:  98.20; ppl:  1.12; xent: 0.11; lr: 1.00000; 13146/13693 tok/s;   1662 sec\n",
            "[2022-06-27 22:18:23,665 INFO] Step 12850/20000; acc:  98.22; ppl:  1.11; xent: 0.10; lr: 1.00000; 12896/13425 tok/s;   1668 sec\n",
            "[2022-06-27 22:18:25,371 INFO] Weighted corpora loaded so far:\n",
            "\t\t\t* corpus: 85\n",
            "[2022-06-27 22:18:30,000 INFO] Step 12900/20000; acc:  98.35; ppl:  1.10; xent: 0.10; lr: 1.00000; 12208/12735 tok/s;   1675 sec\n",
            "[2022-06-27 22:18:35,855 INFO] Step 12950/20000; acc:  98.91; ppl:  1.07; xent: 0.06; lr: 1.00000; 12688/13253 tok/s;   1680 sec\n",
            "[2022-06-27 22:18:41,830 INFO] Weighted corpora loaded so far:\n",
            "\t\t\t* corpus: 86\n",
            "[2022-06-27 22:18:43,002 INFO] Step 13000/20000; acc:  98.53; ppl:  1.09; xent: 0.09; lr: 1.00000; 11836/12306 tok/s;   1688 sec\n",
            "[2022-06-27 22:18:47,417 INFO] Validation perplexity: 2.44184\n",
            "[2022-06-27 22:18:47,417 INFO] Validation accuracy: 93.2804\n",
            "[2022-06-27 22:18:53,580 INFO] Step 13050/20000; acc:  98.16; ppl:  1.13; xent: 0.12; lr: 1.00000; 7765/8081 tok/s;   1698 sec\n",
            "[2022-06-27 22:18:59,728 INFO] Step 13100/20000; acc:  98.41; ppl:  1.10; xent: 0.10; lr: 1.00000; 12495/13034 tok/s;   1704 sec\n",
            "[2022-06-27 22:19:05,956 INFO] Step 13150/20000; acc:  98.29; ppl:  1.11; xent: 0.11; lr: 1.00000; 12476/13014 tok/s;   1710 sec\n",
            "[2022-06-27 22:19:10,132 INFO] Weighted corpora loaded so far:\n",
            "\t\t\t* corpus: 87\n",
            "[2022-06-27 22:19:12,083 INFO] Step 13200/20000; acc:  98.58; ppl:  1.09; xent: 0.09; lr: 1.00000; 12748/13292 tok/s;   1717 sec\n",
            "[2022-06-27 22:19:18,339 INFO] Step 13250/20000; acc:  98.20; ppl:  1.13; xent: 0.12; lr: 1.00000; 13031/13567 tok/s;   1723 sec\n",
            "[2022-06-27 22:19:24,265 INFO] Step 13300/20000; acc:  98.10; ppl:  1.14; xent: 0.13; lr: 1.00000; 13628/14185 tok/s;   1729 sec\n",
            "[2022-06-27 22:19:25,684 INFO] Weighted corpora loaded so far:\n",
            "\t\t\t* corpus: 88\n",
            "[2022-06-27 22:19:30,429 INFO] Step 13350/20000; acc:  98.17; ppl:  1.13; xent: 0.13; lr: 1.00000; 12706/13239 tok/s;   1735 sec\n",
            "[2022-06-27 22:19:36,185 INFO] Step 13400/20000; acc:  98.78; ppl:  1.07; xent: 0.07; lr: 1.00000; 12782/13364 tok/s;   1741 sec\n",
            "[2022-06-27 22:19:41,290 INFO] Weighted corpora loaded so far:\n",
            "\t\t\t* corpus: 89\n",
            "[2022-06-27 22:19:42,602 INFO] Step 13450/20000; acc:  98.17; ppl:  1.13; xent: 0.12; lr: 1.00000; 13034/13555 tok/s;   1747 sec\n",
            "[2022-06-27 22:19:48,712 INFO] Step 13500/20000; acc:  98.01; ppl:  1.13; xent: 0.12; lr: 1.00000; 13463/14016 tok/s;   1753 sec\n",
            "[2022-06-27 22:19:54,734 INFO] Step 13550/20000; acc:  98.10; ppl:  1.13; xent: 0.12; lr: 1.00000; 13016/13566 tok/s;   1759 sec\n",
            "[2022-06-27 22:20:00,641 INFO] Step 13600/20000; acc:  98.09; ppl:  1.12; xent: 0.11; lr: 1.00000; 12832/13393 tok/s;   1765 sec\n",
            "[2022-06-27 22:20:04,723 INFO] Weighted corpora loaded so far:\n",
            "\t\t\t* corpus: 90\n",
            "[2022-06-27 22:20:06,672 INFO] Step 13650/20000; acc:  98.55; ppl:  1.10; xent: 0.09; lr: 1.00000; 13018/13568 tok/s;   1771 sec\n",
            "[2022-06-27 22:20:13,165 INFO] Step 13700/20000; acc:  97.97; ppl:  1.14; xent: 0.13; lr: 1.00000; 12815/13335 tok/s;   1778 sec\n",
            "[2022-06-27 22:20:19,192 INFO] Step 13750/20000; acc:  97.71; ppl:  1.16; xent: 0.15; lr: 1.00000; 13354/13905 tok/s;   1784 sec\n",
            "[2022-06-27 22:20:20,342 INFO] Weighted corpora loaded so far:\n",
            "\t\t\t* corpus: 91\n",
            "[2022-06-27 22:20:25,256 INFO] Step 13800/20000; acc:  97.69; ppl:  1.15; xent: 0.14; lr: 1.00000; 12911/13458 tok/s;   1790 sec\n",
            "[2022-06-27 22:20:31,222 INFO] Step 13850/20000; acc:  98.09; ppl:  1.13; xent: 0.13; lr: 1.00000; 12807/13364 tok/s;   1796 sec\n",
            "[2022-06-27 22:20:37,453 INFO] Step 13900/20000; acc:  97.84; ppl:  1.16; xent: 0.14; lr: 1.00000; 13260/13798 tok/s;   1802 sec\n",
            "[2022-06-27 22:20:43,169 INFO] Step 13950/20000; acc:  97.64; ppl:  1.16; xent: 0.15; lr: 1.00000; 13838/14425 tok/s;   1808 sec\n",
            "[2022-06-27 22:20:43,479 INFO] Weighted corpora loaded so far:\n",
            "\t\t\t* corpus: 92\n",
            "[2022-06-27 22:20:49,426 INFO] Step 14000/20000; acc:  97.49; ppl:  1.17; xent: 0.16; lr: 1.00000; 12984/13519 tok/s;   1814 sec\n",
            "[2022-06-27 22:20:53,770 INFO] Validation perplexity: 2.39885\n",
            "[2022-06-27 22:20:53,770 INFO] Validation accuracy: 92.5271\n",
            "[2022-06-27 22:20:59,510 INFO] Step 14050/20000; acc:  97.72; ppl:  1.16; xent: 0.15; lr: 1.00000; 7519/7846 tok/s;   1824 sec\n",
            "[2022-06-27 22:21:03,162 INFO] Weighted corpora loaded so far:\n",
            "\t\t\t* corpus: 93\n",
            "[2022-06-27 22:21:05,435 INFO] Step 14100/20000; acc:  98.25; ppl:  1.10; xent: 0.10; lr: 1.00000; 12973/13534 tok/s;   1830 sec\n",
            "[2022-06-27 22:21:11,685 INFO] Step 14150/20000; acc:  97.77; ppl:  1.15; xent: 0.14; lr: 1.00000; 13192/13726 tok/s;   1836 sec\n",
            "[2022-06-27 22:21:17,816 INFO] Step 14200/20000; acc:  97.49; ppl:  1.16; xent: 0.15; lr: 1.00000; 13165/13707 tok/s;   1842 sec\n",
            "[2022-06-27 22:21:18,728 INFO] Weighted corpora loaded so far:\n",
            "\t\t\t* corpus: 94\n",
            "[2022-06-27 22:21:23,722 INFO] Step 14250/20000; acc:  97.54; ppl:  1.16; xent: 0.15; lr: 1.00000; 13058/13624 tok/s;   1848 sec\n",
            "[2022-06-27 22:21:29,846 INFO] Step 14300/20000; acc:  97.58; ppl:  1.15; xent: 0.14; lr: 1.00000; 13111/13660 tok/s;   1854 sec\n",
            "[2022-06-27 22:21:35,970 INFO] Step 14350/20000; acc:  98.03; ppl:  1.11; xent: 0.10; lr: 1.00000; 12840/13381 tok/s;   1860 sec\n",
            "[2022-06-27 22:21:42,029 INFO] Step 14400/20000; acc:  97.82; ppl:  1.13; xent: 0.13; lr: 1.00000; 13453/14004 tok/s;   1867 sec\n",
            "[2022-06-27 22:21:42,033 INFO] Weighted corpora loaded so far:\n",
            "\t\t\t* corpus: 95\n",
            "[2022-06-27 22:21:48,183 INFO] Step 14450/20000; acc:  97.82; ppl:  1.14; xent: 0.13; lr: 1.00000; 12961/13504 tok/s;   1873 sec\n",
            "[2022-06-27 22:21:54,121 INFO] Step 14500/20000; acc:  97.23; ppl:  1.18; xent: 0.17; lr: 1.00000; 13131/13688 tok/s;   1879 sec\n",
            "[2022-06-27 22:21:57,361 INFO] Weighted corpora loaded so far:\n",
            "\t\t\t* corpus: 96\n",
            "[2022-06-27 22:21:59,890 INFO] Step 14550/20000; acc:  97.81; ppl:  1.14; xent: 0.13; lr: 1.00000; 12975/13552 tok/s;   1884 sec\n",
            "[2022-06-27 22:22:06,553 INFO] Step 14600/20000; acc:  97.66; ppl:  1.15; xent: 0.14; lr: 1.00000; 12565/13066 tok/s;   1891 sec\n",
            "[2022-06-27 22:22:12,974 INFO] Step 14650/20000; acc:  97.23; ppl:  1.18; xent: 0.17; lr: 1.00000; 12664/13185 tok/s;   1898 sec\n",
            "[2022-06-27 22:22:18,999 INFO] Step 14700/20000; acc:  97.07; ppl:  1.19; xent: 0.17; lr: 1.00000; 12908/13462 tok/s;   1904 sec\n",
            "[2022-06-27 22:22:21,330 INFO] Weighted corpora loaded so far:\n",
            "\t\t\t* corpus: 97\n",
            "[2022-06-27 22:22:25,012 INFO] Step 14750/20000; acc:  97.18; ppl:  1.18; xent: 0.17; lr: 1.00000; 12864/13416 tok/s;   1910 sec\n",
            "[2022-06-27 22:22:31,145 INFO] Step 14800/20000; acc:  97.15; ppl:  1.19; xent: 0.17; lr: 1.00000; 12744/13288 tok/s;   1916 sec\n",
            "[2022-06-27 22:22:37,098 INFO] Weighted corpora loaded so far:\n",
            "\t\t\t* corpus: 98\n",
            "[2022-06-27 22:22:37,580 INFO] Step 14850/20000; acc:  96.70; ppl:  1.23; xent: 0.21; lr: 1.00000; 12936/13453 tok/s;   1922 sec\n",
            "[2022-06-27 22:22:43,334 INFO] Step 14900/20000; acc:  96.94; ppl:  1.25; xent: 0.22; lr: 1.00000; 13615/14191 tok/s;   1928 sec\n",
            "[2022-06-27 22:22:49,289 INFO] Step 14950/20000; acc:  96.77; ppl:  1.23; xent: 0.21; lr: 1.00000; 13286/13846 tok/s;   1934 sec\n",
            "[2022-06-27 22:22:52,389 INFO] Weighted corpora loaded so far:\n",
            "\t\t\t* corpus: 99\n",
            "[2022-06-27 22:22:55,148 INFO] Step 15000/20000; acc:  97.28; ppl:  1.20; xent: 0.18; lr: 1.00000; 12764/13330 tok/s;   1940 sec\n",
            "[2022-06-27 22:22:59,685 INFO] Validation perplexity: 2.99178\n",
            "[2022-06-27 22:22:59,686 INFO] Validation accuracy: 90.724\n",
            "[2022-06-27 22:22:59,687 INFO] Saving checkpoint ./saved_models/simple-lstm/final-model_step_15000.pt\n",
            "[2022-06-27 22:23:06,340 INFO] Step 15050/20000; acc:  96.46; ppl:  1.26; xent: 0.23; lr: 1.00000; 7367/7668 tok/s;   1951 sec\n",
            "[2022-06-27 22:23:12,508 INFO] Step 15100/20000; acc:  94.85; ppl:  1.44; xent: 0.37; lr: 1.00000; 13241/13783 tok/s;   1957 sec\n",
            "[2022-06-27 22:23:18,732 INFO] Step 15150/20000; acc:  95.33; ppl:  1.37; xent: 0.31; lr: 1.00000; 12791/13326 tok/s;   1963 sec\n",
            "[2022-06-27 22:23:20,813 INFO] Weighted corpora loaded so far:\n",
            "\t\t\t* corpus: 100\n",
            "[2022-06-27 22:23:24,494 INFO] Step 15200/20000; acc:  95.38; ppl:  1.43; xent: 0.36; lr: 1.00000; 13063/13645 tok/s;   1969 sec\n",
            "[2022-06-27 22:23:30,517 INFO] Step 15250/20000; acc:  95.30; ppl:  1.41; xent: 0.34; lr: 1.00000; 12973/13520 tok/s;   1975 sec\n",
            "[2022-06-27 22:23:36,284 INFO] Weighted corpora loaded so far:\n",
            "\t\t\t* corpus: 101\n",
            "[2022-06-27 22:23:37,025 INFO] Step 15300/20000; acc:  94.75; ppl:  1.45; xent: 0.37; lr: 1.00000; 12979/13494 tok/s;   1982 sec\n",
            "[2022-06-27 22:23:42,776 INFO] Step 15350/20000; acc:  94.76; ppl:  1.49; xent: 0.40; lr: 1.00000; 13840/14422 tok/s;   1987 sec\n",
            "[2022-06-27 22:23:48,738 INFO] Step 15400/20000; acc:  94.93; ppl:  1.45; xent: 0.37; lr: 1.00000; 13018/13572 tok/s;   1993 sec\n",
            "[2022-06-27 22:23:51,671 INFO] Weighted corpora loaded so far:\n",
            "\t\t\t* corpus: 102\n",
            "[2022-06-27 22:23:54,637 INFO] Step 15450/20000; acc:  95.11; ppl:  1.39; xent: 0.33; lr: 1.00000; 13061/13629 tok/s;   1999 sec\n",
            "[2022-06-27 22:24:01,008 INFO] Step 15500/20000; acc:  93.90; ppl:  1.49; xent: 0.40; lr: 1.00000; 13012/13537 tok/s;   2006 sec\n",
            "[2022-06-27 22:24:06,933 INFO] Step 15550/20000; acc:  93.42; ppl:  1.53; xent: 0.43; lr: 1.00000; 13213/13779 tok/s;   2011 sec\n",
            "[2022-06-27 22:24:13,284 INFO] Step 15600/20000; acc:  93.45; ppl:  1.55; xent: 0.44; lr: 1.00000; 13003/13522 tok/s;   2018 sec\n",
            "[2022-06-27 22:24:15,103 INFO] Weighted corpora loaded so far:\n",
            "\t\t\t* corpus: 103\n",
            "[2022-06-27 22:24:19,158 INFO] Step 15650/20000; acc:  94.84; ppl:  1.46; xent: 0.38; lr: 1.00000; 12714/13282 tok/s;   2024 sec\n",
            "[2022-06-27 22:24:25,095 INFO] Step 15700/20000; acc:  93.97; ppl:  1.64; xent: 0.49; lr: 1.00000; 12828/13388 tok/s;   2030 sec\n",
            "[2022-06-27 22:24:30,552 INFO] Weighted corpora loaded so far:\n",
            "\t\t\t* corpus: 104\n",
            "[2022-06-27 22:24:31,532 INFO] Step 15750/20000; acc:  92.95; ppl:  1.76; xent: 0.57; lr: 1.00000; 13201/13719 tok/s;   2036 sec\n",
            "[2022-06-27 22:24:37,450 INFO] Step 15800/20000; acc:  92.51; ppl:  1.78; xent: 0.58; lr: 1.00000; 13512/14078 tok/s;   2042 sec\n",
            "[2022-06-27 22:24:43,322 INFO] Step 15850/20000; acc:  91.99; ppl:  1.75; xent: 0.56; lr: 1.00000; 12959/13522 tok/s;   2048 sec\n",
            "[2022-06-27 22:24:49,493 INFO] Step 15900/20000; acc:  90.16; ppl:  1.94; xent: 0.66; lr: 1.00000; 13124/13669 tok/s;   2054 sec\n",
            "[2022-06-27 22:24:53,747 INFO] Weighted corpora loaded so far:\n",
            "\t\t\t* corpus: 105\n",
            "[2022-06-27 22:24:55,529 INFO] Step 15950/20000; acc:  91.40; ppl:  1.74; xent: 0.55; lr: 1.00000; 13042/13591 tok/s;   2060 sec\n",
            "[2022-06-27 22:25:01,537 INFO] Step 16000/20000; acc:  89.44; ppl:  2.05; xent: 0.72; lr: 1.00000; 13346/13906 tok/s;   2066 sec\n",
            "[2022-06-27 22:25:05,934 INFO] Validation perplexity: 3.56007\n",
            "[2022-06-27 22:25:05,934 INFO] Validation accuracy: 86.0203\n",
            "[2022-06-27 22:25:12,174 INFO] Step 16050/20000; acc:  88.05; ppl:  2.24; xent: 0.81; lr: 1.00000; 7628/7941 tok/s;   2077 sec\n",
            "[2022-06-27 22:25:13,712 INFO] Weighted corpora loaded so far:\n",
            "\t\t\t* corpus: 106\n",
            "[2022-06-27 22:25:18,133 INFO] Step 16100/20000; acc:  88.93; ppl:  1.98; xent: 0.68; lr: 1.00000; 13069/13626 tok/s;   2083 sec\n",
            "[2022-06-27 22:25:24,467 INFO] Step 16150/20000; acc:  88.75; ppl:  2.12; xent: 0.75; lr: 1.00000; 11678/12200 tok/s;   2089 sec\n",
            "[2022-06-27 22:25:29,801 INFO] Weighted corpora loaded so far:\n",
            "\t\t\t* corpus: 107\n",
            "[2022-06-27 22:25:31,001 INFO] Step 16200/20000; acc:  86.26; ppl:  2.60; xent: 0.95; lr: 1.00000; 12857/13374 tok/s;   2096 sec\n",
            "[2022-06-27 22:25:37,036 INFO] Step 16250/20000; acc:  86.45; ppl:  2.46; xent: 0.90; lr: 1.00000; 13600/14154 tok/s;   2102 sec\n",
            "[2022-06-27 22:25:43,062 INFO] Step 16300/20000; acc:  87.58; ppl:  2.23; xent: 0.80; lr: 1.00000; 12802/13355 tok/s;   2108 sec\n",
            "[2022-06-27 22:25:49,185 INFO] Step 16350/20000; acc:  86.85; ppl:  2.33; xent: 0.84; lr: 1.00000; 12720/13262 tok/s;   2114 sec\n",
            "[2022-06-27 22:25:53,365 INFO] Weighted corpora loaded so far:\n",
            "\t\t\t* corpus: 108\n",
            "[2022-06-27 22:25:55,242 INFO] Step 16400/20000; acc:  88.05; ppl:  2.19; xent: 0.79; lr: 1.00000; 12931/13479 tok/s;   2120 sec\n",
            "[2022-06-27 22:26:01,434 INFO] Step 16450/20000; acc:  87.78; ppl:  2.21; xent: 0.79; lr: 1.00000; 13029/13572 tok/s;   2126 sec\n",
            "[2022-06-27 22:26:07,489 INFO] Step 16500/20000; acc:  87.54; ppl:  2.28; xent: 0.82; lr: 1.00000; 13385/13933 tok/s;   2132 sec\n",
            "[2022-06-27 22:26:08,908 INFO] Weighted corpora loaded so far:\n",
            "\t\t\t* corpus: 109\n",
            "[2022-06-27 22:26:13,711 INFO] Step 16550/20000; acc:  88.72; ppl:  2.04; xent: 0.71; lr: 1.00000; 12771/13304 tok/s;   2138 sec\n",
            "[2022-06-27 22:26:19,470 INFO] Step 16600/20000; acc:  89.83; ppl:  1.88; xent: 0.63; lr: 1.00000; 12774/13354 tok/s;   2144 sec\n",
            "[2022-06-27 22:26:25,742 INFO] Step 16650/20000; acc:  87.25; ppl:  2.28; xent: 0.82; lr: 1.00000; 13120/13655 tok/s;   2150 sec\n",
            "[2022-06-27 22:26:31,781 INFO] Step 16700/20000; acc:  87.73; ppl:  2.28; xent: 0.82; lr: 1.00000; 13710/14262 tok/s;   2156 sec\n",
            "[2022-06-27 22:26:32,214 INFO] Weighted corpora loaded so far:\n",
            "\t\t\t* corpus: 110\n",
            "[2022-06-27 22:26:37,819 INFO] Step 16750/20000; acc:  88.54; ppl:  2.18; xent: 0.78; lr: 1.00000; 13015/13568 tok/s;   2162 sec\n",
            "[2022-06-27 22:26:43,630 INFO] Step 16800/20000; acc:  89.42; ppl:  2.00; xent: 0.69; lr: 1.00000; 12996/13563 tok/s;   2168 sec\n",
            "[2022-06-27 22:26:47,585 INFO] Weighted corpora loaded so far:\n",
            "\t\t\t* corpus: 111\n",
            "[2022-06-27 22:26:49,588 INFO] Step 16850/20000; acc:  89.47; ppl:  1.99; xent: 0.69; lr: 1.00000; 13215/13775 tok/s;   2174 sec\n",
            "[2022-06-27 22:26:56,020 INFO] Step 16900/20000; acc:  88.35; ppl:  2.15; xent: 0.76; lr: 1.00000; 12946/13467 tok/s;   2181 sec\n",
            "[2022-06-27 22:27:01,907 INFO] Step 16950/20000; acc:  86.48; ppl:  2.76; xent: 1.01; lr: 1.00000; 13540/14109 tok/s;   2186 sec\n",
            "[2022-06-27 22:27:03,037 INFO] Weighted corpora loaded so far:\n",
            "\t\t\t* corpus: 112\n",
            "[2022-06-27 22:27:07,990 INFO] Step 17000/20000; acc:  86.60; ppl:  2.62; xent: 0.96; lr: 1.00000; 12881/13428 tok/s;   2193 sec\n",
            "[2022-06-27 22:27:12,339 INFO] Validation perplexity: 5.28907\n",
            "[2022-06-27 22:27:12,339 INFO] Validation accuracy: 83.1262\n",
            "[2022-06-27 22:27:18,251 INFO] Step 17050/20000; acc:  88.24; ppl:  2.30; xent: 0.83; lr: 1.00000; 7478/7803 tok/s;   2203 sec\n",
            "[2022-06-27 22:27:24,658 INFO] Step 17100/20000; acc:  85.71; ppl:  2.93; xent: 1.08; lr: 1.00000; 12944/13464 tok/s;   2209 sec\n",
            "[2022-06-27 22:27:30,567 INFO] Step 17150/20000; acc:  85.95; ppl:  2.75; xent: 1.01; lr: 1.00000; 13456/14018 tok/s;   2215 sec\n",
            "[2022-06-27 22:27:30,863 INFO] Weighted corpora loaded so far:\n",
            "\t\t\t* corpus: 113\n",
            "[2022-06-27 22:27:36,778 INFO] Step 17200/20000; acc:  84.63; ppl:  3.09; xent: 1.13; lr: 1.00000; 12916/13452 tok/s;   2221 sec\n",
            "[2022-06-27 22:27:42,635 INFO] Step 17250/20000; acc:  84.40; ppl:  3.03; xent: 1.11; lr: 1.00000; 12931/13498 tok/s;   2227 sec\n",
            "[2022-06-27 22:27:46,392 INFO] Weighted corpora loaded so far:\n",
            "\t\t\t* corpus: 114\n",
            "[2022-06-27 22:27:48,724 INFO] Step 17300/20000; acc:  83.03; ppl:  3.21; xent: 1.17; lr: 1.00000; 12794/13339 tok/s;   2233 sec\n",
            "[2022-06-27 22:27:55,244 INFO] Step 17350/20000; acc:  81.50; ppl:  3.58; xent: 1.28; lr: 1.00000; 12836/13355 tok/s;   2240 sec\n",
            "[2022-06-27 22:28:01,220 INFO] Step 17400/20000; acc:  81.41; ppl:  3.70; xent: 1.31; lr: 1.00000; 13220/13775 tok/s;   2246 sec\n",
            "[2022-06-27 22:28:07,286 INFO] Step 17450/20000; acc:  83.00; ppl:  3.16; xent: 1.15; lr: 1.00000; 12710/13261 tok/s;   2252 sec\n",
            "[2022-06-27 22:28:10,156 INFO] Weighted corpora loaded so far:\n",
            "\t\t\t* corpus: 115\n",
            "[2022-06-27 22:28:13,732 INFO] Step 17500/20000; acc:  82.89; ppl:  3.17; xent: 1.15; lr: 1.00000; 12497/13020 tok/s;   2258 sec\n",
            "[2022-06-27 22:28:19,852 INFO] Step 17550/20000; acc:  83.62; ppl:  3.17; xent: 1.15; lr: 1.00000; 12789/13328 tok/s;   2264 sec\n",
            "[2022-06-27 22:28:25,986 INFO] Step 17600/20000; acc:  83.19; ppl:  3.36; xent: 1.21; lr: 1.00000; 13315/13858 tok/s;   2271 sec\n",
            "[2022-06-27 22:28:25,998 INFO] Weighted corpora loaded so far:\n",
            "\t\t\t* corpus: 116\n",
            "[2022-06-27 22:28:32,245 INFO] Step 17650/20000; acc:  83.40; ppl:  3.25; xent: 1.18; lr: 1.00000; 12789/13319 tok/s;   2277 sec\n",
            "[2022-06-27 22:28:38,351 INFO] Step 17700/20000; acc:  83.73; ppl:  3.33; xent: 1.20; lr: 1.00000; 12652/13198 tok/s;   2283 sec\n",
            "[2022-06-27 22:28:41,691 INFO] Weighted corpora loaded so far:\n",
            "\t\t\t* corpus: 117\n",
            "[2022-06-27 22:28:44,273 INFO] Step 17750/20000; acc:  86.28; ppl:  2.55; xent: 0.94; lr: 1.00000; 12592/13157 tok/s;   2289 sec\n",
            "[2022-06-27 22:28:50,729 INFO] Step 17800/20000; acc:  84.09; ppl:  2.89; xent: 1.06; lr: 1.00000; 13022/13539 tok/s;   2295 sec\n",
            "[2022-06-27 22:28:56,902 INFO] Step 17850/20000; acc:  82.16; ppl:  3.78; xent: 1.33; lr: 1.00000; 13217/13759 tok/s;   2301 sec\n",
            "[2022-06-27 22:29:03,070 INFO] Step 17900/20000; acc:  82.47; ppl:  3.48; xent: 1.25; lr: 1.00000; 12705/13243 tok/s;   2308 sec\n",
            "[2022-06-27 22:29:05,877 INFO] Weighted corpora loaded so far:\n",
            "\t\t\t* corpus: 118\n",
            "[2022-06-27 22:29:09,836 INFO] Step 17950/20000; acc:  82.81; ppl:  3.33; xent: 1.20; lr: 1.00000; 11414/11907 tok/s;   2314 sec\n",
            "[2022-06-27 22:29:15,934 INFO] Step 18000/20000; acc:  81.58; ppl:  3.82; xent: 1.34; lr: 1.00000; 12698/13242 tok/s;   2320 sec\n",
            "[2022-06-27 22:29:20,552 INFO] Validation perplexity: 7.11066\n",
            "[2022-06-27 22:29:20,552 INFO] Validation accuracy: 78.7613\n",
            "[2022-06-27 22:29:26,471 INFO] Weighted corpora loaded so far:\n",
            "\t\t\t* corpus: 119\n",
            "[2022-06-27 22:29:26,951 INFO] Step 18050/20000; acc:  81.41; ppl:  3.89; xent: 1.36; lr: 1.00000; 7551/7854 tok/s;   2331 sec\n",
            "[2022-06-27 22:29:32,962 INFO] Step 18100/20000; acc:  79.92; ppl:  4.36; xent: 1.47; lr: 1.00000; 13368/13925 tok/s;   2337 sec\n",
            "[2022-06-27 22:29:39,089 INFO] Step 18150/20000; acc:  79.65; ppl:  4.33; xent: 1.46; lr: 1.00000; 12765/13305 tok/s;   2344 sec\n",
            "[2022-06-27 22:29:44,819 INFO] Step 18200/20000; acc:  80.57; ppl:  4.00; xent: 1.39; lr: 1.00000; 12906/13485 tok/s;   2349 sec\n",
            "[2022-06-27 22:29:50,041 INFO] Weighted corpora loaded so far:\n",
            "\t\t\t* corpus: 120\n",
            "[2022-06-27 22:29:51,275 INFO] Step 18250/20000; acc:  77.07; ppl:  5.25; xent: 1.66; lr: 1.00000; 12851/13373 tok/s;   2356 sec\n",
            "[2022-06-27 22:29:57,572 INFO] Step 18300/20000; acc:  74.56; ppl:  6.64; xent: 1.89; lr: 1.00000; 12949/13482 tok/s;   2362 sec\n",
            "[2022-06-27 22:30:03,807 INFO] Step 18350/20000; acc:  73.97; ppl:  6.91; xent: 1.93; lr: 1.00000; 12726/13255 tok/s;   2368 sec\n",
            "[2022-06-27 22:30:05,885 INFO] Weighted corpora loaded so far:\n",
            "\t\t\t* corpus: 121\n",
            "[2022-06-27 22:30:09,653 INFO] Step 18400/20000; acc:  77.33; ppl:  4.97; xent: 1.60; lr: 1.00000; 12917/13484 tok/s;   2374 sec\n",
            "[2022-06-27 22:30:15,710 INFO] Step 18450/20000; acc:  77.28; ppl:  5.03; xent: 1.62; lr: 1.00000; 12838/13382 tok/s;   2380 sec\n",
            "[2022-06-27 22:30:21,523 INFO] Weighted corpora loaded so far:\n",
            "\t\t\t* corpus: 122\n",
            "[2022-06-27 22:30:22,251 INFO] Step 18500/20000; acc:  75.73; ppl:  6.71; xent: 1.90; lr: 1.00000; 12834/13355 tok/s;   2387 sec\n",
            "[2022-06-27 22:30:28,071 INFO] Step 18550/20000; acc:  76.89; ppl:  5.21; xent: 1.65; lr: 1.00000; 13752/14325 tok/s;   2393 sec\n",
            "[2022-06-27 22:30:34,126 INFO] Step 18600/20000; acc:  77.06; ppl:  4.84; xent: 1.58; lr: 1.00000; 12839/13386 tok/s;   2399 sec\n",
            "[2022-06-27 22:30:40,266 INFO] Step 18650/20000; acc:  77.66; ppl:  4.33; xent: 1.46; lr: 1.00000; 12585/13122 tok/s;   2405 sec\n",
            "[2022-06-27 22:30:45,065 INFO] Weighted corpora loaded so far:\n",
            "\t\t\t* corpus: 123\n",
            "[2022-06-27 22:30:46,722 INFO] Step 18700/20000; acc:  77.17; ppl:  4.48; xent: 1.50; lr: 1.00000; 12886/13404 tok/s;   2411 sec\n",
            "[2022-06-27 22:30:52,648 INFO] Step 18750/20000; acc:  76.38; ppl:  4.42; xent: 1.49; lr: 1.00000; 13115/13683 tok/s;   2417 sec\n",
            "[2022-06-27 22:30:59,229 INFO] Step 18800/20000; acc:  74.26; ppl:  5.16; xent: 1.64; lr: 1.00000; 12523/13028 tok/s;   2424 sec\n",
            "[2022-06-27 22:31:01,129 INFO] Weighted corpora loaded so far:\n",
            "\t\t\t* corpus: 124\n",
            "[2022-06-27 22:31:05,436 INFO] Step 18850/20000; acc:  77.62; ppl:  3.89; xent: 1.36; lr: 1.00000; 12235/12771 tok/s;   2430 sec\n",
            "[2022-06-27 22:31:11,557 INFO] Step 18900/20000; acc:  77.89; ppl:  4.87; xent: 1.58; lr: 1.00000; 12508/13053 tok/s;   2436 sec\n",
            "[2022-06-27 22:31:18,105 INFO] Step 18950/20000; acc:  76.67; ppl:  4.28; xent: 1.45; lr: 1.00000; 12739/13253 tok/s;   2443 sec\n",
            "[2022-06-27 22:31:24,255 INFO] Step 19000/20000; acc:  77.47; ppl:  3.92; xent: 1.37; lr: 1.00000; 13079/13622 tok/s;   2449 sec\n",
            "[2022-06-27 22:31:28,819 INFO] Validation perplexity: 6.44823\n",
            "[2022-06-27 22:31:28,819 INFO] Validation accuracy: 75.5218\n",
            "[2022-06-27 22:31:29,738 INFO] Weighted corpora loaded so far:\n",
            "\t\t\t* corpus: 125\n",
            "[2022-06-27 22:31:34,870 INFO] Step 19050/20000; acc:  78.68; ppl:  3.63; xent: 1.29; lr: 1.00000; 7171/7484 tok/s;   2459 sec\n",
            "[2022-06-27 22:31:41,280 INFO] Step 19100/20000; acc:  76.17; ppl:  4.25; xent: 1.45; lr: 1.00000; 12569/13086 tok/s;   2466 sec\n",
            "[2022-06-27 22:31:45,764 INFO] Weighted corpora loaded so far:\n",
            "\t\t\t* corpus: 126\n",
            "[2022-06-27 22:31:47,646 INFO] Step 19150/20000; acc:  76.90; ppl:  3.95; xent: 1.37; lr: 1.00000; 12402/12922 tok/s;   2472 sec\n",
            "[2022-06-27 22:31:53,792 INFO] Step 19200/20000; acc:  76.32; ppl:  4.06; xent: 1.40; lr: 1.00000; 13051/13597 tok/s;   2478 sec\n",
            "[2022-06-27 22:32:00,210 INFO] Step 19250/20000; acc:  77.49; ppl:  4.14; xent: 1.42; lr: 1.00000; 12531/13050 tok/s;   2485 sec\n",
            "[2022-06-27 22:32:01,841 INFO] Weighted corpora loaded so far:\n",
            "\t\t\t* corpus: 127\n",
            "[2022-06-27 22:32:06,473 INFO] Step 19300/20000; acc:  79.39; ppl:  3.47; xent: 1.25; lr: 1.00000; 12513/13046 tok/s;   2491 sec\n",
            "[2022-06-27 22:32:12,450 INFO] Step 19350/20000; acc:  81.55; ppl:  3.08; xent: 1.13; lr: 1.00000; 12438/12997 tok/s;   2497 sec\n",
            "[2022-06-27 22:32:19,103 INFO] Step 19400/20000; acc:  79.47; ppl:  3.48; xent: 1.25; lr: 1.00000; 12581/13084 tok/s;   2504 sec\n",
            "[2022-06-27 22:32:25,564 INFO] Step 19450/20000; acc:  79.14; ppl:  3.83; xent: 1.34; lr: 1.00000; 12784/13295 tok/s;   2510 sec\n",
            "[2022-06-27 22:32:26,167 INFO] Weighted corpora loaded so far:\n",
            "\t\t\t* corpus: 128\n",
            "[2022-06-27 22:32:32,290 INFO] Step 19500/20000; acc:  79.58; ppl:  4.00; xent: 1.39; lr: 1.00000; 11431/11929 tok/s;   2517 sec\n",
            "[2022-06-27 22:32:38,403 INFO] Step 19550/20000; acc:  80.15; ppl:  3.80; xent: 1.34; lr: 1.00000; 12673/13215 tok/s;   2523 sec\n",
            "[2022-06-27 22:32:42,713 INFO] Weighted corpora loaded so far:\n",
            "\t\t\t* corpus: 129\n",
            "[2022-06-27 22:32:44,759 INFO] Step 19600/20000; acc:  79.68; ppl:  3.94; xent: 1.37; lr: 1.00000; 12412/12934 tok/s;   2529 sec\n",
            "[2022-06-27 22:32:51,170 INFO] Step 19650/20000; acc:  79.12; ppl:  4.19; xent: 1.43; lr: 1.00000; 12842/13369 tok/s;   2536 sec\n",
            "[2022-06-27 22:32:57,218 INFO] Step 19700/20000; acc:  78.70; ppl:  4.34; xent: 1.47; lr: 1.00000; 13063/13610 tok/s;   2542 sec\n",
            "[2022-06-27 22:33:03,670 INFO] Step 19750/20000; acc:  78.97; ppl:  4.11; xent: 1.41; lr: 1.00000; 12297/12816 tok/s;   2548 sec\n",
            "[2022-06-27 22:33:06,725 INFO] Weighted corpora loaded so far:\n",
            "\t\t\t* corpus: 130\n",
            "[2022-06-27 22:33:09,444 INFO] Step 19800/20000; acc:  80.97; ppl:  3.44; xent: 1.24; lr: 1.00000; 12793/13371 tok/s;   2554 sec\n",
            "[2022-06-27 22:33:15,833 INFO] Step 19850/20000; acc:  77.28; ppl:  4.90; xent: 1.59; lr: 1.00000; 12848/13374 tok/s;   2560 sec\n",
            "[2022-06-27 22:33:21,936 INFO] Step 19900/20000; acc:  76.63; ppl:  4.92; xent: 1.59; lr: 1.00000; 13573/14112 tok/s;   2566 sec\n",
            "[2022-06-27 22:33:22,394 INFO] Weighted corpora loaded so far:\n",
            "\t\t\t* corpus: 131\n",
            "[2022-06-27 22:33:28,181 INFO] Step 19950/20000; acc:  77.23; ppl:  4.62; xent: 1.53; lr: 1.00000; 12538/13069 tok/s;   2573 sec\n",
            "[2022-06-27 22:33:34,179 INFO] Step 20000/20000; acc:  78.32; ppl:  3.93; xent: 1.37; lr: 1.00000; 12530/13083 tok/s;   2579 sec\n",
            "[2022-06-27 22:33:38,587 INFO] Validation perplexity: 11.8751\n",
            "[2022-06-27 22:33:38,587 INFO] Validation accuracy: 72.7838\n",
            "[2022-06-27 22:33:38,588 INFO] Saving checkpoint ./saved_models/simple-lstm/final-model_step_20000.pt\n"
          ]
        }
      ]
    },
    {
      "cell_type": "code",
      "source": [
        "cmd = f\"\"\"\n",
        "onmt_translate -model {output_dir}/final-model_step_20000.pt \\\n",
        "-src data/round2-BIFI-part1/data_paired/test.bad \\\n",
        "-beam_size 5 \\\n",
        "-n_best 1 \\\n",
        "-output {output_dir}/pred-test_beam5.txt\n",
        "\"\"\"\n"
      ],
      "metadata": {
        "id": "YFRhdidiTcge"
      },
      "execution_count": 88,
      "outputs": []
    },
    {
      "cell_type": "code",
      "source": [
        "print(cmd)"
      ],
      "metadata": {
        "colab": {
          "base_uri": "https://localhost:8080/"
        },
        "id": "HLE-O7rLUoUo",
        "outputId": "bf840455-eaf3-418f-9ae4-19bed11c80ea"
      },
      "execution_count": 89,
      "outputs": [
        {
          "output_type": "stream",
          "name": "stdout",
          "text": [
            "\n",
            "onmt_translate -model ./saved_models/simple-lstm/final-model_step_20000.pt -src data/round2-BIFI-part1/data_paired/test.bad -beam_size 5 -n_best 1 -output ./saved_models/simple-lstm/pred-test_beam5.txt\n",
            "\n"
          ]
        }
      ]
    },
    {
      "cell_type": "code",
      "source": [
        "!onmt_translate -model ./saved_models/simple-lstm/final-model_step_20000.pt -src data/round2-BIFI-part1/data_paired/test.bad -beam_size 5 -n_best 1 -output ./saved_models/simple-lstm/pred-test_beam5.txt\n"
      ],
      "metadata": {
        "colab": {
          "base_uri": "https://localhost:8080/"
        },
        "id": "Ce9fVneQU7C_",
        "outputId": "0de36cc9-2e77-43c7-9bfa-6df3d007edd8"
      },
      "execution_count": 90,
      "outputs": [
        {
          "output_type": "stream",
          "name": "stdout",
          "text": [
            "[2022-06-27 22:43:57,458 INFO] Translating shard 0.\n",
            "/usr/local/lib/python3.7/dist-packages/torchtext/data/field.py:359: UserWarning: To copy construct from a tensor, it is recommended to use sourceTensor.clone().detach() or sourceTensor.clone().detach().requires_grad_(True), rather than torch.tensor(sourceTensor).\n",
            "  var = torch.tensor(arr, dtype=self.dtype, device=device)\n",
            "/usr/local/lib/python3.7/dist-packages/onmt/translate/beam_search.py:282: UserWarning: __floordiv__ is deprecated, and its behavior will change in a future version of pytorch. It currently rounds toward 0 (like the 'trunc' function NOT 'floor'). This results in incorrect rounding for negative values. To keep the current behavior, use torch.div(a, b, rounding_mode='trunc'), or for actual floor division, use torch.div(a, b, rounding_mode='floor').\n",
            "  self._batch_index = self.topk_ids // vocab_size\n",
            "[2022-06-27 22:44:52,912 INFO] PRED AVG SCORE: -0.0534, PRED PPL: 1.0549\n"
          ]
        }
      ]
    },
    {
      "cell_type": "markdown",
      "source": [
        "## Results\n",
        "\n",
        "We are going to load the predictions obtained for the test dataset generated by the Seq2Seq baseline model. The BLEU Score is calculated and we repeat the same procedure for the predictions generated by the CodeBERT-based model.\n",
        "We perform a comparison of the models using the metrics and randomly choose some samples to verify the behavior of both models.\n"
      ],
      "metadata": {
        "id": "QvBAyFwFf7uZ"
      }
    },
    {
      "cell_type": "code",
      "source": [
        "# cargamos el dataset de pruebas en un dataframe\n",
        "\n",
        "test_good_lines = []\n",
        "\n",
        "with open(\"/content/data/round2-BIFI-part1/data_paired/test.good\", 'r') as f:\n",
        "    test_good_lines = f.readlines()\n",
        "\n",
        "test_bad_lines = []\n",
        "with open(\"/content/data/round2-BIFI-part1/data_paired/test.bad\", 'r') as f:\n",
        "    test_bad_lines = f.readlines()\n",
        "\n",
        "test_idx = []\n",
        "with open(\"/content/data/round2-BIFI-part1/data_paired/test.id\", 'r') as f:\n",
        "    test_idx = f.readlines()\n",
        "\n",
        "seq2seq_predictions = []\n",
        "with open(\"/content/saved_models/simple-lstm/pred-test_beam5.txt\", 'r') as f:\n",
        "    seq2seq_predictions = f.readlines()\n",
        "\n",
        "codebert_predictions = []\n",
        "with open(\"/content/saved_models_exp/codebert/test_1.output\", 'r') as f: #gold\n",
        "    codebert_predictions = f.readlines()\n"
      ],
      "metadata": {
        "id": "sxImFyMpZ10Z"
      },
      "execution_count": 144,
      "outputs": []
    },
    {
      "cell_type": "code",
      "source": [
        "test_df = pd.DataFrame({\n",
        "    'id': test_idx, \n",
        "    'bad': test_bad_lines, \n",
        "    'good': test_good_lines, \n",
        "    'seq2seq': seq2seq_predictions, \n",
        "    'codebert': codebert_predictions,\n",
        "    })\n",
        "\n",
        "# clean last char '\\n'\n",
        "test_df['id'] = test_df['id'].str.replace('\\n', '')\n",
        "test_df['good'] = test_df['good'].str.replace('\\n', '')\n",
        "test_df['seq2seq'] = test_df['seq2seq'].str.replace('\\n', '')\n",
        "test_df['codebert'] = test_df['codebert'].str.replace('\\n', '')"
      ],
      "metadata": {
        "id": "_q7agDSWijtx"
      },
      "execution_count": 146,
      "outputs": []
    },
    {
      "cell_type": "code",
      "source": [
        "test_df.head()"
      ],
      "metadata": {
        "colab": {
          "base_uri": "https://localhost:8080/",
          "height": 337
        },
        "id": "RUZgQq1GjJxn",
        "outputId": "a672ce30-155d-44d6-d401-145f1a512a3f"
      },
      "execution_count": 108,
      "outputs": [
        {
          "output_type": "execute_result",
          "data": {
            "text/plain": [
              "           id                                                bad  \\\n",
              "0  00-644-004  def <unk> input , k ) : <NEWLINE> <INDENT> ret...   \n",
              "1  00-924-007  def <unk> ( x , y ) : <NEWLINE> <INDENT> if x ...   \n",
              "2  00-794-004  import re <NEWLINE> def <unk> ( text ) : <NEWL...   \n",
              "3  00-896-000  def last ( n ) : <NEWLINE> <INDENT> return n [...   \n",
              "4  00-465-008  def <unk> <unk> ) : <NEWLINE> <INDENT> <unk> =...   \n",
              "\n",
              "                                                good  \\\n",
              "0  def <unk> ( input , k ) : <NEWLINE> <INDENT> r...   \n",
              "1  def <unk> ( x , y ) : <NEWLINE> <INDENT> if x ...   \n",
              "2  import re <NEWLINE> def <unk> ( text ) : <NEWL...   \n",
              "3  def last ( n ) : <NEWLINE> <INDENT> return n [...   \n",
              "4  def <unk> ( <unk> ) : <NEWLINE> <INDENT> <unk>...   \n",
              "\n",
              "                                             seq2seq  \\\n",
              "0  def <unk> ( input , k ) : <NEWLINE> <INDENT> r...   \n",
              "1  def <unk> ( x , y ) : <NEWLINE> <INDENT> if x ...   \n",
              "2  import re <NEWLINE> def <unk> ( text ) : <NEWL...   \n",
              "3  def last ( n ) : <NEWLINE> <INDENT> return sor...   \n",
              "4  def <unk> not <unk> ) : <NEWLINE> <INDENT> <un...   \n",
              "\n",
              "                                            codebert  \n",
              "0  def <unk> ( input , k ) : <NEWLINE> <INDENT> r...  \n",
              "1  def <unk> ( x , y ) : <NEWLINE> <INDENT> if x ...  \n",
              "2  import re <NEWLINE> def <unk> ( text ) : <NEWL...  \n",
              "3  def last ( n ) : <NEWLINE> <INDENT> return n [...  \n",
              "4  def <unk> ( <unk> ) : <NEWLINE> <INDENT> <unk>...  "
            ],
            "text/html": [
              "\n",
              "  <div id=\"df-22942fc8-d3af-4846-8cd4-26728af65e0e\">\n",
              "    <div class=\"colab-df-container\">\n",
              "      <div>\n",
              "<style scoped>\n",
              "    .dataframe tbody tr th:only-of-type {\n",
              "        vertical-align: middle;\n",
              "    }\n",
              "\n",
              "    .dataframe tbody tr th {\n",
              "        vertical-align: top;\n",
              "    }\n",
              "\n",
              "    .dataframe thead th {\n",
              "        text-align: right;\n",
              "    }\n",
              "</style>\n",
              "<table border=\"1\" class=\"dataframe\">\n",
              "  <thead>\n",
              "    <tr style=\"text-align: right;\">\n",
              "      <th></th>\n",
              "      <th>id</th>\n",
              "      <th>bad</th>\n",
              "      <th>good</th>\n",
              "      <th>seq2seq</th>\n",
              "      <th>codebert</th>\n",
              "    </tr>\n",
              "  </thead>\n",
              "  <tbody>\n",
              "    <tr>\n",
              "      <th>0</th>\n",
              "      <td>00-644-004</td>\n",
              "      <td>def &lt;unk&gt; input , k ) : &lt;NEWLINE&gt; &lt;INDENT&gt; ret...</td>\n",
              "      <td>def &lt;unk&gt; ( input , k ) : &lt;NEWLINE&gt; &lt;INDENT&gt; r...</td>\n",
              "      <td>def &lt;unk&gt; ( input , k ) : &lt;NEWLINE&gt; &lt;INDENT&gt; r...</td>\n",
              "      <td>def &lt;unk&gt; ( input , k ) : &lt;NEWLINE&gt; &lt;INDENT&gt; r...</td>\n",
              "    </tr>\n",
              "    <tr>\n",
              "      <th>1</th>\n",
              "      <td>00-924-007</td>\n",
              "      <td>def &lt;unk&gt; ( x , y ) : &lt;NEWLINE&gt; &lt;INDENT&gt; if x ...</td>\n",
              "      <td>def &lt;unk&gt; ( x , y ) : &lt;NEWLINE&gt; &lt;INDENT&gt; if x ...</td>\n",
              "      <td>def &lt;unk&gt; ( x , y ) : &lt;NEWLINE&gt; &lt;INDENT&gt; if x ...</td>\n",
              "      <td>def &lt;unk&gt; ( x , y ) : &lt;NEWLINE&gt; &lt;INDENT&gt; if x ...</td>\n",
              "    </tr>\n",
              "    <tr>\n",
              "      <th>2</th>\n",
              "      <td>00-794-004</td>\n",
              "      <td>import re &lt;NEWLINE&gt; def &lt;unk&gt; ( text ) : &lt;NEWL...</td>\n",
              "      <td>import re &lt;NEWLINE&gt; def &lt;unk&gt; ( text ) : &lt;NEWL...</td>\n",
              "      <td>import re &lt;NEWLINE&gt; def &lt;unk&gt; ( text ) : &lt;NEWL...</td>\n",
              "      <td>import re &lt;NEWLINE&gt; def &lt;unk&gt; ( text ) : &lt;NEWL...</td>\n",
              "    </tr>\n",
              "    <tr>\n",
              "      <th>3</th>\n",
              "      <td>00-896-000</td>\n",
              "      <td>def last ( n ) : &lt;NEWLINE&gt; &lt;INDENT&gt; return n [...</td>\n",
              "      <td>def last ( n ) : &lt;NEWLINE&gt; &lt;INDENT&gt; return n [...</td>\n",
              "      <td>def last ( n ) : &lt;NEWLINE&gt; &lt;INDENT&gt; return sor...</td>\n",
              "      <td>def last ( n ) : &lt;NEWLINE&gt; &lt;INDENT&gt; return n [...</td>\n",
              "    </tr>\n",
              "    <tr>\n",
              "      <th>4</th>\n",
              "      <td>00-465-008</td>\n",
              "      <td>def &lt;unk&gt; &lt;unk&gt; ) : &lt;NEWLINE&gt; &lt;INDENT&gt; &lt;unk&gt; =...</td>\n",
              "      <td>def &lt;unk&gt; ( &lt;unk&gt; ) : &lt;NEWLINE&gt; &lt;INDENT&gt; &lt;unk&gt;...</td>\n",
              "      <td>def &lt;unk&gt; not &lt;unk&gt; ) : &lt;NEWLINE&gt; &lt;INDENT&gt; &lt;un...</td>\n",
              "      <td>def &lt;unk&gt; ( &lt;unk&gt; ) : &lt;NEWLINE&gt; &lt;INDENT&gt; &lt;unk&gt;...</td>\n",
              "    </tr>\n",
              "  </tbody>\n",
              "</table>\n",
              "</div>\n",
              "      <button class=\"colab-df-convert\" onclick=\"convertToInteractive('df-22942fc8-d3af-4846-8cd4-26728af65e0e')\"\n",
              "              title=\"Convert this dataframe to an interactive table.\"\n",
              "              style=\"display:none;\">\n",
              "        \n",
              "  <svg xmlns=\"http://www.w3.org/2000/svg\" height=\"24px\"viewBox=\"0 0 24 24\"\n",
              "       width=\"24px\">\n",
              "    <path d=\"M0 0h24v24H0V0z\" fill=\"none\"/>\n",
              "    <path d=\"M18.56 5.44l.94 2.06.94-2.06 2.06-.94-2.06-.94-.94-2.06-.94 2.06-2.06.94zm-11 1L8.5 8.5l.94-2.06 2.06-.94-2.06-.94L8.5 2.5l-.94 2.06-2.06.94zm10 10l.94 2.06.94-2.06 2.06-.94-2.06-.94-.94-2.06-.94 2.06-2.06.94z\"/><path d=\"M17.41 7.96l-1.37-1.37c-.4-.4-.92-.59-1.43-.59-.52 0-1.04.2-1.43.59L10.3 9.45l-7.72 7.72c-.78.78-.78 2.05 0 2.83L4 21.41c.39.39.9.59 1.41.59.51 0 1.02-.2 1.41-.59l7.78-7.78 2.81-2.81c.8-.78.8-2.07 0-2.86zM5.41 20L4 18.59l7.72-7.72 1.47 1.35L5.41 20z\"/>\n",
              "  </svg>\n",
              "      </button>\n",
              "      \n",
              "  <style>\n",
              "    .colab-df-container {\n",
              "      display:flex;\n",
              "      flex-wrap:wrap;\n",
              "      gap: 12px;\n",
              "    }\n",
              "\n",
              "    .colab-df-convert {\n",
              "      background-color: #E8F0FE;\n",
              "      border: none;\n",
              "      border-radius: 50%;\n",
              "      cursor: pointer;\n",
              "      display: none;\n",
              "      fill: #1967D2;\n",
              "      height: 32px;\n",
              "      padding: 0 0 0 0;\n",
              "      width: 32px;\n",
              "    }\n",
              "\n",
              "    .colab-df-convert:hover {\n",
              "      background-color: #E2EBFA;\n",
              "      box-shadow: 0px 1px 2px rgba(60, 64, 67, 0.3), 0px 1px 3px 1px rgba(60, 64, 67, 0.15);\n",
              "      fill: #174EA6;\n",
              "    }\n",
              "\n",
              "    [theme=dark] .colab-df-convert {\n",
              "      background-color: #3B4455;\n",
              "      fill: #D2E3FC;\n",
              "    }\n",
              "\n",
              "    [theme=dark] .colab-df-convert:hover {\n",
              "      background-color: #434B5C;\n",
              "      box-shadow: 0px 1px 3px 1px rgba(0, 0, 0, 0.15);\n",
              "      filter: drop-shadow(0px 1px 2px rgba(0, 0, 0, 0.3));\n",
              "      fill: #FFFFFF;\n",
              "    }\n",
              "  </style>\n",
              "\n",
              "      <script>\n",
              "        const buttonEl =\n",
              "          document.querySelector('#df-22942fc8-d3af-4846-8cd4-26728af65e0e button.colab-df-convert');\n",
              "        buttonEl.style.display =\n",
              "          google.colab.kernel.accessAllowed ? 'block' : 'none';\n",
              "\n",
              "        async function convertToInteractive(key) {\n",
              "          const element = document.querySelector('#df-22942fc8-d3af-4846-8cd4-26728af65e0e');\n",
              "          const dataTable =\n",
              "            await google.colab.kernel.invokeFunction('convertToInteractive',\n",
              "                                                     [key], {});\n",
              "          if (!dataTable) return;\n",
              "\n",
              "          const docLinkHtml = 'Like what you see? Visit the ' +\n",
              "            '<a target=\"_blank\" href=https://colab.research.google.com/notebooks/data_table.ipynb>data table notebook</a>'\n",
              "            + ' to learn more about interactive tables.';\n",
              "          element.innerHTML = '';\n",
              "          dataTable['output_type'] = 'display_data';\n",
              "          await google.colab.output.renderOutput(dataTable, element);\n",
              "          const docLink = document.createElement('div');\n",
              "          docLink.innerHTML = docLinkHtml;\n",
              "          element.appendChild(docLink);\n",
              "        }\n",
              "      </script>\n",
              "    </div>\n",
              "  </div>\n",
              "  "
            ]
          },
          "metadata": {},
          "execution_count": 108
        }
      ]
    },
    {
      "cell_type": "code",
      "source": [
        "# compute editdistance & difference\n",
        "from difflib import SequenceMatcher, Differ\n",
        "import editdistance\n"
      ],
      "metadata": {
        "id": "0qCmv4VBll79"
      },
      "execution_count": 117,
      "outputs": []
    },
    {
      "cell_type": "code",
      "source": [
        "bad_good_d = []\n",
        "good_seq2seq_d = []\n",
        "good_codebert_d = []\n",
        "\n",
        "bad_good_sm = []\n",
        "good_seq2seq_sm = []\n",
        "good_codebert_sm = []\n",
        "\n",
        "for e in test_df.values:\n",
        "    bad, good, seq2seq, codebert = e[1], e[2], e[3], e[4]\n",
        "\n",
        "    bad_good_d.append(editdistance.eval(bad, good))\n",
        "    good_seq2seq_d.append(editdistance.eval(bad, seq2seq))\n",
        "    good_codebert_d.append(editdistance.eval(bad, codebert))\n",
        "\n",
        "    bad_good_sm.append(SequenceMatcher(a=bad, b=good).ratio())\n",
        "    good_seq2seq_sm.append(SequenceMatcher(a=bad, b=seq2seq).ratio())\n",
        "    good_codebert_sm.append(SequenceMatcher(a=bad, b=codebert).ratio())"
      ],
      "metadata": {
        "id": "gZJ3Jd24l73q"
      },
      "execution_count": 147,
      "outputs": []
    },
    {
      "cell_type": "code",
      "source": [
        "metrics_df = pd.DataFrame({\n",
        "    'bad_good_d': bad_good_d, \n",
        "    'good_seq2seq_d': good_seq2seq_d, \n",
        "    'good_codebert_d': good_codebert_d, \n",
        "    'bad_good_sm': bad_good_sm, \n",
        "    'good_seq2seq_sm': good_seq2seq_sm,\n",
        "    'good_codebert_sm': good_codebert_sm\n",
        "    })"
      ],
      "metadata": {
        "id": "qpNfyoczoRpY"
      },
      "execution_count": 148,
      "outputs": []
    },
    {
      "cell_type": "code",
      "source": [
        "metrics_df.head()"
      ],
      "metadata": {
        "colab": {
          "base_uri": "https://localhost:8080/",
          "height": 206
        },
        "id": "r3nW4Fi_oprn",
        "outputId": "eae0d9f6-9173-44cf-8b58-059eb847a334"
      },
      "execution_count": 149,
      "outputs": [
        {
          "output_type": "execute_result",
          "data": {
            "text/plain": [
              "   bad_good_d  good_seq2seq_d  good_codebert_d  bad_good_sm  good_seq2seq_sm  \\\n",
              "0           5               9               20     0.977778         0.958525   \n",
              "1           8              13               42     0.967480         0.942731   \n",
              "2           3              12                3     0.994083         0.967611   \n",
              "3          10              70               79     0.969880         0.724409   \n",
              "4           3              52               13     0.991045         0.762195   \n",
              "\n",
              "   good_codebert_sm  \n",
              "0          0.898551  \n",
              "1          0.846975  \n",
              "2          0.994083  \n",
              "3          0.485507  \n",
              "4          0.948328  "
            ],
            "text/html": [
              "\n",
              "  <div id=\"df-a1cf6670-a6c2-432e-bb82-de7b5d3d928a\">\n",
              "    <div class=\"colab-df-container\">\n",
              "      <div>\n",
              "<style scoped>\n",
              "    .dataframe tbody tr th:only-of-type {\n",
              "        vertical-align: middle;\n",
              "    }\n",
              "\n",
              "    .dataframe tbody tr th {\n",
              "        vertical-align: top;\n",
              "    }\n",
              "\n",
              "    .dataframe thead th {\n",
              "        text-align: right;\n",
              "    }\n",
              "</style>\n",
              "<table border=\"1\" class=\"dataframe\">\n",
              "  <thead>\n",
              "    <tr style=\"text-align: right;\">\n",
              "      <th></th>\n",
              "      <th>bad_good_d</th>\n",
              "      <th>good_seq2seq_d</th>\n",
              "      <th>good_codebert_d</th>\n",
              "      <th>bad_good_sm</th>\n",
              "      <th>good_seq2seq_sm</th>\n",
              "      <th>good_codebert_sm</th>\n",
              "    </tr>\n",
              "  </thead>\n",
              "  <tbody>\n",
              "    <tr>\n",
              "      <th>0</th>\n",
              "      <td>5</td>\n",
              "      <td>9</td>\n",
              "      <td>20</td>\n",
              "      <td>0.977778</td>\n",
              "      <td>0.958525</td>\n",
              "      <td>0.898551</td>\n",
              "    </tr>\n",
              "    <tr>\n",
              "      <th>1</th>\n",
              "      <td>8</td>\n",
              "      <td>13</td>\n",
              "      <td>42</td>\n",
              "      <td>0.967480</td>\n",
              "      <td>0.942731</td>\n",
              "      <td>0.846975</td>\n",
              "    </tr>\n",
              "    <tr>\n",
              "      <th>2</th>\n",
              "      <td>3</td>\n",
              "      <td>12</td>\n",
              "      <td>3</td>\n",
              "      <td>0.994083</td>\n",
              "      <td>0.967611</td>\n",
              "      <td>0.994083</td>\n",
              "    </tr>\n",
              "    <tr>\n",
              "      <th>3</th>\n",
              "      <td>10</td>\n",
              "      <td>70</td>\n",
              "      <td>79</td>\n",
              "      <td>0.969880</td>\n",
              "      <td>0.724409</td>\n",
              "      <td>0.485507</td>\n",
              "    </tr>\n",
              "    <tr>\n",
              "      <th>4</th>\n",
              "      <td>3</td>\n",
              "      <td>52</td>\n",
              "      <td>13</td>\n",
              "      <td>0.991045</td>\n",
              "      <td>0.762195</td>\n",
              "      <td>0.948328</td>\n",
              "    </tr>\n",
              "  </tbody>\n",
              "</table>\n",
              "</div>\n",
              "      <button class=\"colab-df-convert\" onclick=\"convertToInteractive('df-a1cf6670-a6c2-432e-bb82-de7b5d3d928a')\"\n",
              "              title=\"Convert this dataframe to an interactive table.\"\n",
              "              style=\"display:none;\">\n",
              "        \n",
              "  <svg xmlns=\"http://www.w3.org/2000/svg\" height=\"24px\"viewBox=\"0 0 24 24\"\n",
              "       width=\"24px\">\n",
              "    <path d=\"M0 0h24v24H0V0z\" fill=\"none\"/>\n",
              "    <path d=\"M18.56 5.44l.94 2.06.94-2.06 2.06-.94-2.06-.94-.94-2.06-.94 2.06-2.06.94zm-11 1L8.5 8.5l.94-2.06 2.06-.94-2.06-.94L8.5 2.5l-.94 2.06-2.06.94zm10 10l.94 2.06.94-2.06 2.06-.94-2.06-.94-.94-2.06-.94 2.06-2.06.94z\"/><path d=\"M17.41 7.96l-1.37-1.37c-.4-.4-.92-.59-1.43-.59-.52 0-1.04.2-1.43.59L10.3 9.45l-7.72 7.72c-.78.78-.78 2.05 0 2.83L4 21.41c.39.39.9.59 1.41.59.51 0 1.02-.2 1.41-.59l7.78-7.78 2.81-2.81c.8-.78.8-2.07 0-2.86zM5.41 20L4 18.59l7.72-7.72 1.47 1.35L5.41 20z\"/>\n",
              "  </svg>\n",
              "      </button>\n",
              "      \n",
              "  <style>\n",
              "    .colab-df-container {\n",
              "      display:flex;\n",
              "      flex-wrap:wrap;\n",
              "      gap: 12px;\n",
              "    }\n",
              "\n",
              "    .colab-df-convert {\n",
              "      background-color: #E8F0FE;\n",
              "      border: none;\n",
              "      border-radius: 50%;\n",
              "      cursor: pointer;\n",
              "      display: none;\n",
              "      fill: #1967D2;\n",
              "      height: 32px;\n",
              "      padding: 0 0 0 0;\n",
              "      width: 32px;\n",
              "    }\n",
              "\n",
              "    .colab-df-convert:hover {\n",
              "      background-color: #E2EBFA;\n",
              "      box-shadow: 0px 1px 2px rgba(60, 64, 67, 0.3), 0px 1px 3px 1px rgba(60, 64, 67, 0.15);\n",
              "      fill: #174EA6;\n",
              "    }\n",
              "\n",
              "    [theme=dark] .colab-df-convert {\n",
              "      background-color: #3B4455;\n",
              "      fill: #D2E3FC;\n",
              "    }\n",
              "\n",
              "    [theme=dark] .colab-df-convert:hover {\n",
              "      background-color: #434B5C;\n",
              "      box-shadow: 0px 1px 3px 1px rgba(0, 0, 0, 0.15);\n",
              "      filter: drop-shadow(0px 1px 2px rgba(0, 0, 0, 0.3));\n",
              "      fill: #FFFFFF;\n",
              "    }\n",
              "  </style>\n",
              "\n",
              "      <script>\n",
              "        const buttonEl =\n",
              "          document.querySelector('#df-a1cf6670-a6c2-432e-bb82-de7b5d3d928a button.colab-df-convert');\n",
              "        buttonEl.style.display =\n",
              "          google.colab.kernel.accessAllowed ? 'block' : 'none';\n",
              "\n",
              "        async function convertToInteractive(key) {\n",
              "          const element = document.querySelector('#df-a1cf6670-a6c2-432e-bb82-de7b5d3d928a');\n",
              "          const dataTable =\n",
              "            await google.colab.kernel.invokeFunction('convertToInteractive',\n",
              "                                                     [key], {});\n",
              "          if (!dataTable) return;\n",
              "\n",
              "          const docLinkHtml = 'Like what you see? Visit the ' +\n",
              "            '<a target=\"_blank\" href=https://colab.research.google.com/notebooks/data_table.ipynb>data table notebook</a>'\n",
              "            + ' to learn more about interactive tables.';\n",
              "          element.innerHTML = '';\n",
              "          dataTable['output_type'] = 'display_data';\n",
              "          await google.colab.output.renderOutput(dataTable, element);\n",
              "          const docLink = document.createElement('div');\n",
              "          docLink.innerHTML = docLinkHtml;\n",
              "          element.appendChild(docLink);\n",
              "        }\n",
              "      </script>\n",
              "    </div>\n",
              "  </div>\n",
              "  "
            ]
          },
          "metadata": {},
          "execution_count": 149
        }
      ]
    },
    {
      "cell_type": "code",
      "source": [
        "metrics_df.describe()"
      ],
      "metadata": {
        "colab": {
          "base_uri": "https://localhost:8080/",
          "height": 300
        },
        "id": "y4yKm6N9pASq",
        "outputId": "aa3744c6-95b8-4d79-d1fc-5323b8f24026"
      },
      "execution_count": 150,
      "outputs": [
        {
          "output_type": "execute_result",
          "data": {
            "text/plain": [
              "        bad_good_d  good_seq2seq_d  good_codebert_d  bad_good_sm  \\\n",
              "count  1641.000000     1641.000000      1641.000000  1641.000000   \n",
              "mean      8.108470       85.825107        37.124314     0.974062   \n",
              "std       6.300053      104.505662        47.087611     0.032313   \n",
              "min       2.000000        1.000000         1.000000     0.551867   \n",
              "25%       3.000000       11.000000        10.000000     0.965944   \n",
              "50%       6.000000       38.000000        19.000000     0.984227   \n",
              "75%      11.000000      124.000000        43.000000     0.991045   \n",
              "max      37.000000      494.000000       272.000000     0.997460   \n",
              "\n",
              "       good_seq2seq_sm  good_codebert_sm  \n",
              "count      1641.000000       1641.000000  \n",
              "mean          0.770473          0.847474  \n",
              "std           0.219502          0.182998  \n",
              "min           0.054845          0.085349  \n",
              "25%           0.616622          0.808889  \n",
              "50%           0.864865          0.922619  \n",
              "75%           0.952030          0.967742  \n",
              "max           0.998020          0.998020  "
            ],
            "text/html": [
              "\n",
              "  <div id=\"df-311f9418-85f1-41c2-b91a-4b32dd03cad2\">\n",
              "    <div class=\"colab-df-container\">\n",
              "      <div>\n",
              "<style scoped>\n",
              "    .dataframe tbody tr th:only-of-type {\n",
              "        vertical-align: middle;\n",
              "    }\n",
              "\n",
              "    .dataframe tbody tr th {\n",
              "        vertical-align: top;\n",
              "    }\n",
              "\n",
              "    .dataframe thead th {\n",
              "        text-align: right;\n",
              "    }\n",
              "</style>\n",
              "<table border=\"1\" class=\"dataframe\">\n",
              "  <thead>\n",
              "    <tr style=\"text-align: right;\">\n",
              "      <th></th>\n",
              "      <th>bad_good_d</th>\n",
              "      <th>good_seq2seq_d</th>\n",
              "      <th>good_codebert_d</th>\n",
              "      <th>bad_good_sm</th>\n",
              "      <th>good_seq2seq_sm</th>\n",
              "      <th>good_codebert_sm</th>\n",
              "    </tr>\n",
              "  </thead>\n",
              "  <tbody>\n",
              "    <tr>\n",
              "      <th>count</th>\n",
              "      <td>1641.000000</td>\n",
              "      <td>1641.000000</td>\n",
              "      <td>1641.000000</td>\n",
              "      <td>1641.000000</td>\n",
              "      <td>1641.000000</td>\n",
              "      <td>1641.000000</td>\n",
              "    </tr>\n",
              "    <tr>\n",
              "      <th>mean</th>\n",
              "      <td>8.108470</td>\n",
              "      <td>85.825107</td>\n",
              "      <td>37.124314</td>\n",
              "      <td>0.974062</td>\n",
              "      <td>0.770473</td>\n",
              "      <td>0.847474</td>\n",
              "    </tr>\n",
              "    <tr>\n",
              "      <th>std</th>\n",
              "      <td>6.300053</td>\n",
              "      <td>104.505662</td>\n",
              "      <td>47.087611</td>\n",
              "      <td>0.032313</td>\n",
              "      <td>0.219502</td>\n",
              "      <td>0.182998</td>\n",
              "    </tr>\n",
              "    <tr>\n",
              "      <th>min</th>\n",
              "      <td>2.000000</td>\n",
              "      <td>1.000000</td>\n",
              "      <td>1.000000</td>\n",
              "      <td>0.551867</td>\n",
              "      <td>0.054845</td>\n",
              "      <td>0.085349</td>\n",
              "    </tr>\n",
              "    <tr>\n",
              "      <th>25%</th>\n",
              "      <td>3.000000</td>\n",
              "      <td>11.000000</td>\n",
              "      <td>10.000000</td>\n",
              "      <td>0.965944</td>\n",
              "      <td>0.616622</td>\n",
              "      <td>0.808889</td>\n",
              "    </tr>\n",
              "    <tr>\n",
              "      <th>50%</th>\n",
              "      <td>6.000000</td>\n",
              "      <td>38.000000</td>\n",
              "      <td>19.000000</td>\n",
              "      <td>0.984227</td>\n",
              "      <td>0.864865</td>\n",
              "      <td>0.922619</td>\n",
              "    </tr>\n",
              "    <tr>\n",
              "      <th>75%</th>\n",
              "      <td>11.000000</td>\n",
              "      <td>124.000000</td>\n",
              "      <td>43.000000</td>\n",
              "      <td>0.991045</td>\n",
              "      <td>0.952030</td>\n",
              "      <td>0.967742</td>\n",
              "    </tr>\n",
              "    <tr>\n",
              "      <th>max</th>\n",
              "      <td>37.000000</td>\n",
              "      <td>494.000000</td>\n",
              "      <td>272.000000</td>\n",
              "      <td>0.997460</td>\n",
              "      <td>0.998020</td>\n",
              "      <td>0.998020</td>\n",
              "    </tr>\n",
              "  </tbody>\n",
              "</table>\n",
              "</div>\n",
              "      <button class=\"colab-df-convert\" onclick=\"convertToInteractive('df-311f9418-85f1-41c2-b91a-4b32dd03cad2')\"\n",
              "              title=\"Convert this dataframe to an interactive table.\"\n",
              "              style=\"display:none;\">\n",
              "        \n",
              "  <svg xmlns=\"http://www.w3.org/2000/svg\" height=\"24px\"viewBox=\"0 0 24 24\"\n",
              "       width=\"24px\">\n",
              "    <path d=\"M0 0h24v24H0V0z\" fill=\"none\"/>\n",
              "    <path d=\"M18.56 5.44l.94 2.06.94-2.06 2.06-.94-2.06-.94-.94-2.06-.94 2.06-2.06.94zm-11 1L8.5 8.5l.94-2.06 2.06-.94-2.06-.94L8.5 2.5l-.94 2.06-2.06.94zm10 10l.94 2.06.94-2.06 2.06-.94-2.06-.94-.94-2.06-.94 2.06-2.06.94z\"/><path d=\"M17.41 7.96l-1.37-1.37c-.4-.4-.92-.59-1.43-.59-.52 0-1.04.2-1.43.59L10.3 9.45l-7.72 7.72c-.78.78-.78 2.05 0 2.83L4 21.41c.39.39.9.59 1.41.59.51 0 1.02-.2 1.41-.59l7.78-7.78 2.81-2.81c.8-.78.8-2.07 0-2.86zM5.41 20L4 18.59l7.72-7.72 1.47 1.35L5.41 20z\"/>\n",
              "  </svg>\n",
              "      </button>\n",
              "      \n",
              "  <style>\n",
              "    .colab-df-container {\n",
              "      display:flex;\n",
              "      flex-wrap:wrap;\n",
              "      gap: 12px;\n",
              "    }\n",
              "\n",
              "    .colab-df-convert {\n",
              "      background-color: #E8F0FE;\n",
              "      border: none;\n",
              "      border-radius: 50%;\n",
              "      cursor: pointer;\n",
              "      display: none;\n",
              "      fill: #1967D2;\n",
              "      height: 32px;\n",
              "      padding: 0 0 0 0;\n",
              "      width: 32px;\n",
              "    }\n",
              "\n",
              "    .colab-df-convert:hover {\n",
              "      background-color: #E2EBFA;\n",
              "      box-shadow: 0px 1px 2px rgba(60, 64, 67, 0.3), 0px 1px 3px 1px rgba(60, 64, 67, 0.15);\n",
              "      fill: #174EA6;\n",
              "    }\n",
              "\n",
              "    [theme=dark] .colab-df-convert {\n",
              "      background-color: #3B4455;\n",
              "      fill: #D2E3FC;\n",
              "    }\n",
              "\n",
              "    [theme=dark] .colab-df-convert:hover {\n",
              "      background-color: #434B5C;\n",
              "      box-shadow: 0px 1px 3px 1px rgba(0, 0, 0, 0.15);\n",
              "      filter: drop-shadow(0px 1px 2px rgba(0, 0, 0, 0.3));\n",
              "      fill: #FFFFFF;\n",
              "    }\n",
              "  </style>\n",
              "\n",
              "      <script>\n",
              "        const buttonEl =\n",
              "          document.querySelector('#df-311f9418-85f1-41c2-b91a-4b32dd03cad2 button.colab-df-convert');\n",
              "        buttonEl.style.display =\n",
              "          google.colab.kernel.accessAllowed ? 'block' : 'none';\n",
              "\n",
              "        async function convertToInteractive(key) {\n",
              "          const element = document.querySelector('#df-311f9418-85f1-41c2-b91a-4b32dd03cad2');\n",
              "          const dataTable =\n",
              "            await google.colab.kernel.invokeFunction('convertToInteractive',\n",
              "                                                     [key], {});\n",
              "          if (!dataTable) return;\n",
              "\n",
              "          const docLinkHtml = 'Like what you see? Visit the ' +\n",
              "            '<a target=\"_blank\" href=https://colab.research.google.com/notebooks/data_table.ipynb>data table notebook</a>'\n",
              "            + ' to learn more about interactive tables.';\n",
              "          element.innerHTML = '';\n",
              "          dataTable['output_type'] = 'display_data';\n",
              "          await google.colab.output.renderOutput(dataTable, element);\n",
              "          const docLink = document.createElement('div');\n",
              "          docLink.innerHTML = docLinkHtml;\n",
              "          element.appendChild(docLink);\n",
              "        }\n",
              "      </script>\n",
              "    </div>\n",
              "  </div>\n",
              "  "
            ]
          },
          "metadata": {},
          "execution_count": 150
        }
      ]
    },
    {
      "cell_type": "code",
      "source": [
        "import seaborn as sns\n",
        "ax = sns.histplot(data=metrics_df['bad_good_d'])\n",
        "ax.set_title('Histogram edit distance between Bad/Good Code')\n",
        "ax.set_xlabel('levenshtein distance')"
      ],
      "metadata": {
        "colab": {
          "base_uri": "https://localhost:8080/",
          "height": 312
        },
        "id": "FhJaENXlpr-8",
        "outputId": "f3edc705-2906-41f5-89a3-4c4c6d7d6c92"
      },
      "execution_count": 151,
      "outputs": [
        {
          "output_type": "execute_result",
          "data": {
            "text/plain": [
              "Text(0.5, 0, 'levenshtein distance')"
            ]
          },
          "metadata": {},
          "execution_count": 151
        },
        {
          "output_type": "display_data",
          "data": {
            "text/plain": [
              "<Figure size 432x288 with 1 Axes>"
            ],
            "image/png": "[encoded data removed]"
          },
          "metadata": {
            "needs_background": "light"
          }
        }
      ]
    },
    {
      "cell_type": "code",
      "source": [
        "\n",
        "ax = sns.histplot(data=metrics_df['good_codebert_d'])\n",
        "ax.set_title('Histogram edit distance between Bad/CodeBERT Predictions') # sobre ajuste\n",
        "ax.set_xlabel('levenshtein distance')"
      ],
      "metadata": {
        "colab": {
          "base_uri": "https://localhost:8080/",
          "height": 312
        },
        "id": "UknPPFLGqUc-",
        "outputId": "1a872841-df88-46d3-f736-742d2cf87450"
      },
      "execution_count": 152,
      "outputs": [
        {
          "output_type": "execute_result",
          "data": {
            "text/plain": [
              "Text(0.5, 0, 'levenshtein distance')"
            ]
          },
          "metadata": {},
          "execution_count": 152
        },
        {
          "output_type": "display_data",
          "data": {
            "text/plain": [
              "<Figure size 432x288 with 1 Axes>"
            ],
            "image/png": "[encoded data removed]"
          },
          "metadata": {
            "needs_background": "light"
          }
        }
      ]
    },
    {
      "cell_type": "code",
      "source": [
        "ax = sns.histplot(data=metrics_df['good_seq2seq_d'])\n",
        "ax.set_title('Histogram edit distance between Bad/Seq2Seq Predictions')\n",
        "ax.set_xlabel('levenshtein distance')"
      ],
      "metadata": {
        "colab": {
          "base_uri": "https://localhost:8080/",
          "height": 312
        },
        "id": "SPJYhdFMqcux",
        "outputId": "daa4f739-4d0f-4e28-cbe4-fd629094f855"
      },
      "execution_count": 153,
      "outputs": [
        {
          "output_type": "execute_result",
          "data": {
            "text/plain": [
              "Text(0.5, 0, 'levenshtein distance')"
            ]
          },
          "metadata": {},
          "execution_count": 153
        },
        {
          "output_type": "display_data",
          "data": {
            "text/plain": [
              "<Figure size 432x288 with 1 Axes>"
            ],
            "image/png": "[encoded data removed]"
          },
          "metadata": {
            "needs_background": "light"
          }
        }
      ]
    },
    {
      "cell_type": "code",
      "source": [
        "import sacrebleu\n",
        "\n",
        "bleu_seq2seq = sacrebleu.corpus_bleu(test_df['seq2seq'].tolist(), test_df['good'].tolist())\n",
        "bleu_codebert = sacrebleu.corpus_bleu(test_df['codebert'].tolist(), test_df['good'].tolist())"
      ],
      "metadata": {
        "id": "gRGvoMdtj4g6"
      },
      "execution_count": 114,
      "outputs": []
    },
    {
      "cell_type": "code",
      "source": [
        "print(bleu_seq2seq)"
      ],
      "metadata": {
        "colab": {
          "base_uri": "https://localhost:8080/"
        },
        "id": "D8LtIN7IkZMx",
        "outputId": "032407ee-9861-480f-d8ce-1f6a2ee8731a"
      },
      "execution_count": 115,
      "outputs": [
        {
          "output_type": "stream",
          "name": "stdout",
          "text": [
            "BLEU = 0.04 11.1/0.0/0.0/0.0 (BP = 1.000 ratio = 51.218 hyp_len = 3995 ref_len = 78)\n"
          ]
        }
      ]
    },
    {
      "cell_type": "code",
      "source": [
        "print(bleu_codebert)"
      ],
      "metadata": {
        "colab": {
          "base_uri": "https://localhost:8080/"
        },
        "id": "6JRcLnSRkcL0",
        "outputId": "72d6f388-39dd-4954-b229-77d3fa287271"
      },
      "execution_count": 116,
      "outputs": [
        {
          "output_type": "stream",
          "name": "stdout",
          "text": [
            "BLEU = 0.03 8.1/0.0/0.0/0.0 (BP = 1.000 ratio = 74.679 hyp_len = 5825 ref_len = 78)\n"
          ]
        }
      ]
    },
    {
      "cell_type": "code",
      "source": [
        "# select a random sample\n",
        "samples = np.random.choice(test_df.shape[0], 4)\n",
        "samples"
      ],
      "metadata": {
        "colab": {
          "base_uri": "https://localhost:8080/"
        },
        "id": "ehAsnqhgrrwP",
        "outputId": "d08f72e5-d81f-40d9-cfcb-7678162c824c"
      },
      "execution_count": 155,
      "outputs": [
        {
          "output_type": "execute_result",
          "data": {
            "text/plain": [
              "array([1231, 1108, 1143, 1135])"
            ]
          },
          "metadata": {},
          "execution_count": 155
        }
      ]
    },
    {
      "cell_type": "code",
      "source": [
        "for s in samples:\n",
        "\n",
        "    print('Original Dataset: ')\n",
        "    print_diff(test_df['bad'][s], test_df['good'][s])\n",
        "    print('\\n')\n",
        "    print('Seq2Seq Prediction: ')\n",
        "    print_diff(test_df['bad'][s], test_df['seq2seq'][s])\n",
        "    print('\\n')\n",
        "    print('CodeBERT Prediction: ')\n",
        "    print_diff(test_df['bad'][s], test_df['codebert'][s])"
      ],
      "metadata": {
        "colab": {
          "base_uri": "https://localhost:8080/"
        },
        "id": "eg84YCh7sE1F",
        "outputId": "9caea5b9-b1d8-43d6-af49-ef5418f826b1"
      },
      "execution_count": 156,
      "outputs": [
        {
          "output_type": "stream",
          "name": "stdout",
          "text": [
            "Original Dataset: \n",
            "editdistance:  3\n",
            "- def <unk> n ) : <NEWLINE> <INDENT> res = 0 ; <NEWLINE> for i in range ( n , 0 , - 1 ) : <NEWLINE> <INDENT> if ( ( i & ( i - 1 ) ) == 0 ) : <NEWLINE> <INDENT> res = i ; <NEWLINE> break ; <NEWLINE> <DEDENT> <DEDENT> return res ; <NEWLINE> <DEDENT>\n",
            "+ def <unk> ( n ) : <NEWLINE> <INDENT> res = 0 ; <NEWLINE> for i in range ( n , 0 , - 1 ) : <NEWLINE> <INDENT> if ( ( i & ( i - 1 ) ) == 0 ) : <NEWLINE> <INDENT> res = i ; <NEWLINE> break ; <NEWLINE> <DEDENT> <DEDENT> return res ; <NEWLINE> <DEDENT>\n",
            "?          ++\n",
            "\n",
            "\n",
            "\n",
            "\n",
            "\n",
            "Seq2Seq Prediction: \n",
            "editdistance:  19\n",
            "- def <unk> n ) : <NEWLINE> <INDENT> res = 0 ; <NEWLINE> for i in range ( n , 0 , - 1 ) : <NEWLINE> <INDENT> if ( ( i & ( i - 1 ) ) == 0 ) : <NEWLINE> <INDENT> res = i ; <NEWLINE> break ; <NEWLINE> <DEDENT> <DEDENT> return res ; <NEWLINE> <DEDENT>\n",
            "?                                                                                    --------------------------------------------\n",
            "\n",
            "+ def <unk> ( n ) : <NEWLINE> <INDENT> res = 0 ; <NEWLINE> for i in range ( n , 0 , 0 ) : <NEWLINE> <INDENT> if ( ( i & & - 1 ) == 0 ) : <NEWLINE> <INDENT> res = i ; <NEWLINE> break = break ; <NEWLINE> <DEDENT> <DEDENT> return res ; <NEWLINE> <DEDENT>\n",
            "?          ++                                                                       ++++++++++++++++++++++++++++++++++++++                                                            ++++++++\n",
            "\n",
            "\n",
            "\n",
            "\n",
            "\n",
            "CodeBERT Prediction: \n",
            "editdistance:  3\n",
            "- def <unk> n ) : <NEWLINE> <INDENT> res = 0 ; <NEWLINE> for i in range ( n , 0 , - 1 ) : <NEWLINE> <INDENT> if ( ( i & ( i - 1 ) ) == 0 ) : <NEWLINE> <INDENT> res = i ; <NEWLINE> break ; <NEWLINE> <DEDENT> <DEDENT> return res ; <NEWLINE> <DEDENT>\n",
            "+ def <unk> ( n ) : <NEWLINE> <INDENT> res = 0 ; <NEWLINE> for i in range ( n , 0 , - 1 ) : <NEWLINE> <INDENT> if ( ( i & ( i - 1 ) ) == 0 ) : <NEWLINE> <INDENT> res = i ; <NEWLINE> break ; <NEWLINE> <DEDENT> <DEDENT> return res ; <NEWLINE> <DEDENT>\n",
            "?          ++\n",
            "\n",
            "\n",
            "\n",
            "Original Dataset: \n",
            "editdistance:  3\n",
            "- def <unk> ( b , s ) : <NEWLINE> <INDENT> return 2 * b * s + pow ( b , 2 <NEWLINE> <DEDENT>\n",
            "+ def <unk> ( b , s ) : <NEWLINE> <INDENT> return 2 * b * s + pow ( b , 2 ) <NEWLINE> <DEDENT>\n",
            "?                                                                         ++\n",
            "\n",
            "\n",
            "\n",
            "\n",
            "\n",
            "Seq2Seq Prediction: \n",
            "editdistance:  3\n",
            "- def <unk> ( b , s ) : <NEWLINE> <INDENT> return 2 * b * s + pow ( b , 2 <NEWLINE> <DEDENT>\n",
            "+ def <unk> ( b , s ) : <NEWLINE> <INDENT> return 2 * b * s + pow ( b , 2 ) <NEWLINE> <DEDENT>\n",
            "?                                                                         ++\n",
            "\n",
            "\n",
            "\n",
            "\n",
            "\n",
            "CodeBERT Prediction: \n",
            "editdistance:  11\n",
            "- def <unk> ( b , s ) : <NEWLINE> <INDENT> return 2 * b * s + pow ( b , 2 <NEWLINE> <DEDENT>\n",
            "?                                                         ^         ^\n",
            "\n",
            "+ def <unk> ( b , s ) : <NEWLINE> <INDENT> return 2 * b * ( b + pow ( a , 2 * c ) <NEWLINE> <DEDENT>\n",
            "?                                                         ^^^         ^    ++++++\n",
            "\n",
            "\n",
            "\n",
            "Original Dataset: \n",
            "editdistance:  3\n",
            "- def <unk> l ) : <NEWLINE> <INDENT> <unk> = 4 * ( l * l ) <NEWLINE> return <unk> <NEWLINE> <DEDENT>\n",
            "+ def <unk> ( l ) : <NEWLINE> <INDENT> <unk> = 4 * ( l * l ) <NEWLINE> return <unk> <NEWLINE> <DEDENT>\n",
            "?          ++\n",
            "\n",
            "\n",
            "\n",
            "\n",
            "\n",
            "Seq2Seq Prediction: \n",
            "editdistance:  3\n",
            "- def <unk> l ) : <NEWLINE> <INDENT> <unk> = 4 * ( l * l ) <NEWLINE> return <unk> <NEWLINE> <DEDENT>\n",
            "+ def <unk> ( l ) : <NEWLINE> <INDENT> <unk> = 4 * ( l * l ) <NEWLINE> return <unk> <NEWLINE> <DEDENT>\n",
            "?          ++\n",
            "\n",
            "\n",
            "\n",
            "\n",
            "\n",
            "CodeBERT Prediction: \n",
            "editdistance:  3\n",
            "- def <unk> l ) : <NEWLINE> <INDENT> <unk> = 4 * ( l * l ) <NEWLINE> return <unk> <NEWLINE> <DEDENT>\n",
            "+ def <unk> ( l ) : <NEWLINE> <INDENT> <unk> = 4 * ( l * l ) <NEWLINE> return <unk> <NEWLINE> <DEDENT>\n",
            "?          ++\n",
            "\n",
            "\n",
            "\n",
            "Original Dataset: \n",
            "editdistance:  3\n",
            "- def <unk> ( n ) <NEWLINE> <INDENT> return int ( n * ( 4 * n * n - 1 ) / 3 ) <NEWLINE> <DEDENT>\n",
            "+ def <unk> ( n ) : <NEWLINE> <INDENT> return int ( n * ( 4 * n * n - 1 ) / 3 ) <NEWLINE> <DEDENT>\n",
            "?                ++\n",
            "\n",
            "\n",
            "\n",
            "\n",
            "\n",
            "Seq2Seq Prediction: \n",
            "editdistance:  8\n",
            "- def <unk> ( n ) <NEWLINE> <INDENT> return int ( n * ( 4 * n * n - 1 ) / 3 ) <NEWLINE> <DEDENT>\n",
            "?                                                             ----        ^\n",
            "\n",
            "+ def <unk> ( n ) : <NEWLINE> <INDENT> return int ( n * ( 4 * n - 1 ) / 1 ) <NEWLINE> <DEDENT>\n",
            "?                ++                                                     ^\n",
            "\n",
            "\n",
            "\n",
            "\n",
            "\n",
            "CodeBERT Prediction: \n",
            "editdistance:  8\n",
            "- def <unk> ( n ) <NEWLINE> <INDENT> return int ( n * ( 4 * n * n - 1 ) / 3 ) <NEWLINE> <DEDENT>\n",
            "?                                                       ^^^^^\n",
            "\n",
            "+ def <unk> ( n ) : <NEWLINE> <INDENT> return int ( n * ( 7 * n - 1 ) / 3 ) <NEWLINE> <DEDENT>\n",
            "?                ++                                       ^\n",
            "\n",
            "\n",
            "\n"
          ]
        }
      ]
    },
    {
      "cell_type": "code",
      "source": [
        ""
      ],
      "metadata": {
        "id": "66_XQArRsoge"
      },
      "execution_count": null,
      "outputs": []
    }
  ]
}